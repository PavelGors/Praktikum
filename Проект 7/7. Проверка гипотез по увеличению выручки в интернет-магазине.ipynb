{
 "cells": [
  {
   "cell_type": "markdown",
   "metadata": {},
   "source": [
    "# Проверка гипотез по увеличению выручки в интернет-магазине"
   ]
  },
  {
   "cell_type": "markdown",
   "metadata": {},
   "source": [
    "## Данные и Задачи"
   ]
  },
  {
   "cell_type": "markdown",
   "metadata": {},
   "source": [
    "### Описание данных"
   ]
  },
  {
   "cell_type": "markdown",
   "metadata": {},
   "source": [
    "Файл */datasets/hypothesis.csv*  \n",
    "Hypothesis — краткое описание гипотезы;  \n",
    "Reach — охват пользователей по 10-балльной шкале;  \n",
    "Impact — влияние на пользователей по 10-балльной шкале;  \n",
    "Confidence — уверенность в гипотезе по 10-балльной шкале;  \n",
    "Efforts — затраты ресурсов на проверку гипотезы по 10-балльной шкале. Чем больше значение Efforts, тем дороже проверка гипотезы.  \n",
    "  \n",
    "Файл */datasets/orders.csv*  \n",
    "transactionId — идентификатор заказа;  \n",
    "visitorId — идентификатор пользователя, совершившего заказ;  \n",
    "date — дата, когда был совершён заказ;  \n",
    "revenue — выручка заказа;  \n",
    "group — группа A/B-теста, в которую попал заказ.  \n",
    "  \n",
    "Файл */datasets/visitors.csv*    \n",
    "date — дата;  \n",
    "group — группа A/B-теста;  \n",
    "visitors — количество пользователей в указанную дату в указанной группе A/B-теста  "
   ]
  },
  {
   "cell_type": "markdown",
   "metadata": {},
   "source": [
    "### Задачи проекта"
   ]
  },
  {
   "cell_type": "markdown",
   "metadata": {},
   "source": [
    "**Приоритизация гипотез по проекту.**  \n",
    "Есть 9 гипотез по увеличению выручки интернет-магазина.  \n",
    "Применить фреймворки для приоритизации гипотез.     "
   ]
  },
  {
   "cell_type": "markdown",
   "metadata": {},
   "source": [
    "**Проанализировать A/B-тест:**  \n",
    "Проанализировать тест.  \n",
    "Принять решение по результатам теста и объясните его. Варианты решений:  \n",
    "1. Остановить тест, зафиксировать победу одной из групп.  \n",
    "2. Остановить тест, зафиксировать отсутствие различий между группами.  \n",
    "3. Продолжить тест.  "
   ]
  },
  {
   "cell_type": "code",
   "execution_count": 1,
   "metadata": {},
   "outputs": [],
   "source": [
    "import pandas as pd\n",
    "from scipy import stats as st\n",
    "import numpy as np\n",
    "import math as mth\n",
    "import datetime as dt\n",
    "import matplotlib.pyplot as plt\n",
    "pd.options.display.max_colwidth = 130"
   ]
  },
  {
   "cell_type": "code",
   "execution_count": 2,
   "metadata": {},
   "outputs": [],
   "source": [
    "hypo = pd.read_csv('/datasets/hypothesis.csv', sep=',')\n",
    "orders = pd.read_csv('/datasets/orders.csv', sep=',')\n",
    "visitors = pd.read_csv('/datasets/visitors.csv', sep=',')"
   ]
  },
  {
   "cell_type": "code",
   "execution_count": 3,
   "metadata": {},
   "outputs": [],
   "source": [
    "orders['date'] = pd.to_datetime(orders['date'])\n",
    "visitors['date'] = pd.to_datetime(visitors['date'])"
   ]
  },
  {
   "cell_type": "code",
   "execution_count": 4,
   "metadata": {},
   "outputs": [
    {
     "data": {
      "text/html": [
       "<div>\n",
       "<style scoped>\n",
       "    .dataframe tbody tr th:only-of-type {\n",
       "        vertical-align: middle;\n",
       "    }\n",
       "\n",
       "    .dataframe tbody tr th {\n",
       "        vertical-align: top;\n",
       "    }\n",
       "\n",
       "    .dataframe thead th {\n",
       "        text-align: right;\n",
       "    }\n",
       "</style>\n",
       "<table border=\"1\" class=\"dataframe\">\n",
       "  <thead>\n",
       "    <tr style=\"text-align: right;\">\n",
       "      <th></th>\n",
       "      <th>transactionId</th>\n",
       "      <th>visitorId</th>\n",
       "      <th>date</th>\n",
       "      <th>revenue</th>\n",
       "      <th>group</th>\n",
       "    </tr>\n",
       "  </thead>\n",
       "  <tbody>\n",
       "    <tr>\n",
       "      <th>0</th>\n",
       "      <td>3667963787</td>\n",
       "      <td>3312258926</td>\n",
       "      <td>2019-08-15</td>\n",
       "      <td>1650</td>\n",
       "      <td>B</td>\n",
       "    </tr>\n",
       "    <tr>\n",
       "      <th>1</th>\n",
       "      <td>2804400009</td>\n",
       "      <td>3642806036</td>\n",
       "      <td>2019-08-15</td>\n",
       "      <td>730</td>\n",
       "      <td>B</td>\n",
       "    </tr>\n",
       "    <tr>\n",
       "      <th>3</th>\n",
       "      <td>3797467345</td>\n",
       "      <td>1196621759</td>\n",
       "      <td>2019-08-15</td>\n",
       "      <td>9759</td>\n",
       "      <td>B</td>\n",
       "    </tr>\n",
       "    <tr>\n",
       "      <th>4</th>\n",
       "      <td>2282983706</td>\n",
       "      <td>2322279887</td>\n",
       "      <td>2019-08-15</td>\n",
       "      <td>2308</td>\n",
       "      <td>B</td>\n",
       "    </tr>\n",
       "    <tr>\n",
       "      <th>5</th>\n",
       "      <td>182168103</td>\n",
       "      <td>935554773</td>\n",
       "      <td>2019-08-15</td>\n",
       "      <td>2210</td>\n",
       "      <td>B</td>\n",
       "    </tr>\n",
       "    <tr>\n",
       "      <th>...</th>\n",
       "      <td>...</td>\n",
       "      <td>...</td>\n",
       "      <td>...</td>\n",
       "      <td>...</td>\n",
       "      <td>...</td>\n",
       "    </tr>\n",
       "    <tr>\n",
       "      <th>1191</th>\n",
       "      <td>3592955527</td>\n",
       "      <td>608641596</td>\n",
       "      <td>2019-08-14</td>\n",
       "      <td>16490</td>\n",
       "      <td>B</td>\n",
       "    </tr>\n",
       "    <tr>\n",
       "      <th>1192</th>\n",
       "      <td>2662137336</td>\n",
       "      <td>3733762160</td>\n",
       "      <td>2019-08-14</td>\n",
       "      <td>6490</td>\n",
       "      <td>B</td>\n",
       "    </tr>\n",
       "    <tr>\n",
       "      <th>1193</th>\n",
       "      <td>2203539145</td>\n",
       "      <td>370388673</td>\n",
       "      <td>2019-08-14</td>\n",
       "      <td>3190</td>\n",
       "      <td>A</td>\n",
       "    </tr>\n",
       "    <tr>\n",
       "      <th>1194</th>\n",
       "      <td>1807773912</td>\n",
       "      <td>573423106</td>\n",
       "      <td>2019-08-14</td>\n",
       "      <td>10550</td>\n",
       "      <td>A</td>\n",
       "    </tr>\n",
       "    <tr>\n",
       "      <th>1196</th>\n",
       "      <td>3936777065</td>\n",
       "      <td>2108080724</td>\n",
       "      <td>2019-08-15</td>\n",
       "      <td>202740</td>\n",
       "      <td>B</td>\n",
       "    </tr>\n",
       "  </tbody>\n",
       "</table>\n",
       "<p>1016 rows × 5 columns</p>\n",
       "</div>"
      ],
      "text/plain": [
       "      transactionId   visitorId       date  revenue group\n",
       "0        3667963787  3312258926 2019-08-15     1650     B\n",
       "1        2804400009  3642806036 2019-08-15      730     B\n",
       "3        3797467345  1196621759 2019-08-15     9759     B\n",
       "4        2282983706  2322279887 2019-08-15     2308     B\n",
       "5         182168103   935554773 2019-08-15     2210     B\n",
       "...             ...         ...        ...      ...   ...\n",
       "1191     3592955527   608641596 2019-08-14    16490     B\n",
       "1192     2662137336  3733762160 2019-08-14     6490     B\n",
       "1193     2203539145   370388673 2019-08-14     3190     A\n",
       "1194     1807773912   573423106 2019-08-14    10550     A\n",
       "1196     3936777065  2108080724 2019-08-15   202740     B\n",
       "\n",
       "[1016 rows x 5 columns]"
      ]
     },
     "execution_count": 4,
     "metadata": {},
     "output_type": "execute_result"
    }
   ],
   "source": [
    "badseedid = orders[['visitorId','group']].groupby('visitorId', as_index = False).agg({'group':'nunique'})\n",
    "badseedid = badseedid[badseedid['group'] == 2][['visitorId']]\n",
    "orders = orders[np.logical_not(orders['visitorId'].isin(badseedid['visitorId']))]\n",
    "orders"
   ]
  },
  {
   "cell_type": "markdown",
   "metadata": {},
   "source": [
    "В заказах оказались пользователи, которые относились сразу к двум группам, убрали сих господ из теста польностью"
   ]
  },
  {
   "cell_type": "code",
   "execution_count": 5,
   "metadata": {},
   "outputs": [
    {
     "data": {
      "text/html": [
       "<div>\n",
       "<style scoped>\n",
       "    .dataframe tbody tr th:only-of-type {\n",
       "        vertical-align: middle;\n",
       "    }\n",
       "\n",
       "    .dataframe tbody tr th {\n",
       "        vertical-align: top;\n",
       "    }\n",
       "\n",
       "    .dataframe thead th {\n",
       "        text-align: right;\n",
       "    }\n",
       "</style>\n",
       "<table border=\"1\" class=\"dataframe\">\n",
       "  <thead>\n",
       "    <tr style=\"text-align: right;\">\n",
       "      <th></th>\n",
       "      <th>date</th>\n",
       "      <th>group</th>\n",
       "      <th>visitors</th>\n",
       "    </tr>\n",
       "  </thead>\n",
       "  <tbody>\n",
       "    <tr>\n",
       "      <th>0</th>\n",
       "      <td>2019-08-01</td>\n",
       "      <td>A</td>\n",
       "      <td>719</td>\n",
       "    </tr>\n",
       "    <tr>\n",
       "      <th>1</th>\n",
       "      <td>2019-08-02</td>\n",
       "      <td>A</td>\n",
       "      <td>619</td>\n",
       "    </tr>\n",
       "    <tr>\n",
       "      <th>2</th>\n",
       "      <td>2019-08-03</td>\n",
       "      <td>A</td>\n",
       "      <td>507</td>\n",
       "    </tr>\n",
       "    <tr>\n",
       "      <th>3</th>\n",
       "      <td>2019-08-04</td>\n",
       "      <td>A</td>\n",
       "      <td>717</td>\n",
       "    </tr>\n",
       "    <tr>\n",
       "      <th>4</th>\n",
       "      <td>2019-08-05</td>\n",
       "      <td>A</td>\n",
       "      <td>756</td>\n",
       "    </tr>\n",
       "    <tr>\n",
       "      <th>...</th>\n",
       "      <td>...</td>\n",
       "      <td>...</td>\n",
       "      <td>...</td>\n",
       "    </tr>\n",
       "    <tr>\n",
       "      <th>57</th>\n",
       "      <td>2019-08-27</td>\n",
       "      <td>B</td>\n",
       "      <td>720</td>\n",
       "    </tr>\n",
       "    <tr>\n",
       "      <th>58</th>\n",
       "      <td>2019-08-28</td>\n",
       "      <td>B</td>\n",
       "      <td>654</td>\n",
       "    </tr>\n",
       "    <tr>\n",
       "      <th>59</th>\n",
       "      <td>2019-08-29</td>\n",
       "      <td>B</td>\n",
       "      <td>531</td>\n",
       "    </tr>\n",
       "    <tr>\n",
       "      <th>60</th>\n",
       "      <td>2019-08-30</td>\n",
       "      <td>B</td>\n",
       "      <td>490</td>\n",
       "    </tr>\n",
       "    <tr>\n",
       "      <th>61</th>\n",
       "      <td>2019-08-31</td>\n",
       "      <td>B</td>\n",
       "      <td>718</td>\n",
       "    </tr>\n",
       "  </tbody>\n",
       "</table>\n",
       "<p>62 rows × 3 columns</p>\n",
       "</div>"
      ],
      "text/plain": [
       "         date group  visitors\n",
       "0  2019-08-01     A       719\n",
       "1  2019-08-02     A       619\n",
       "2  2019-08-03     A       507\n",
       "3  2019-08-04     A       717\n",
       "4  2019-08-05     A       756\n",
       "..        ...   ...       ...\n",
       "57 2019-08-27     B       720\n",
       "58 2019-08-28     B       654\n",
       "59 2019-08-29     B       531\n",
       "60 2019-08-30     B       490\n",
       "61 2019-08-31     B       718\n",
       "\n",
       "[62 rows x 3 columns]"
      ]
     },
     "execution_count": 5,
     "metadata": {},
     "output_type": "execute_result"
    }
   ],
   "source": [
    "visitors\n",
    "visitorsA = visitors[visitors['group'] == 'A']\n",
    "visitorsB = visitors[visitors['group'] == 'B']\n",
    "visitors"
   ]
  },
  {
   "cell_type": "code",
   "execution_count": 6,
   "metadata": {},
   "outputs": [
    {
     "name": "stdout",
     "output_type": "stream",
     "text": [
      "<class 'pandas.core.frame.DataFrame'>\n",
      "Int64Index: 1016 entries, 0 to 1196\n",
      "Data columns (total 5 columns):\n",
      " #   Column         Non-Null Count  Dtype         \n",
      "---  ------         --------------  -----         \n",
      " 0   transactionId  1016 non-null   int64         \n",
      " 1   visitorId      1016 non-null   int64         \n",
      " 2   date           1016 non-null   datetime64[ns]\n",
      " 3   revenue        1016 non-null   int64         \n",
      " 4   group          1016 non-null   object        \n",
      "dtypes: datetime64[ns](1), int64(3), object(1)\n",
      "memory usage: 47.6+ KB\n"
     ]
    }
   ],
   "source": [
    "orders.info()"
   ]
  },
  {
   "cell_type": "code",
   "execution_count": 7,
   "metadata": {},
   "outputs": [
    {
     "name": "stdout",
     "output_type": "stream",
     "text": [
      "<class 'pandas.core.frame.DataFrame'>\n",
      "RangeIndex: 62 entries, 0 to 61\n",
      "Data columns (total 3 columns):\n",
      " #   Column    Non-Null Count  Dtype         \n",
      "---  ------    --------------  -----         \n",
      " 0   date      62 non-null     datetime64[ns]\n",
      " 1   group     62 non-null     object        \n",
      " 2   visitors  62 non-null     int64         \n",
      "dtypes: datetime64[ns](1), int64(1), object(1)\n",
      "memory usage: 1.6+ KB\n"
     ]
    }
   ],
   "source": [
    "visitors.info()"
   ]
  },
  {
   "cell_type": "code",
   "execution_count": 8,
   "metadata": {},
   "outputs": [
    {
     "data": {
      "text/plain": [
       "0"
      ]
     },
     "execution_count": 8,
     "metadata": {},
     "output_type": "execute_result"
    }
   ],
   "source": [
    "orders.duplicated().sum()"
   ]
  },
  {
   "cell_type": "code",
   "execution_count": 9,
   "metadata": {},
   "outputs": [
    {
     "data": {
      "text/plain": [
       "0"
      ]
     },
     "execution_count": 9,
     "metadata": {},
     "output_type": "execute_result"
    }
   ],
   "source": [
    "visitors.duplicated().sum()"
   ]
  },
  {
   "cell_type": "markdown",
   "metadata": {},
   "source": [
    "##  Приоритизация гипотез"
   ]
  },
  {
   "cell_type": "markdown",
   "metadata": {},
   "source": [
    "Применить фреймворк ICE для приоритизации гипотез. Отсортируйте их по убыванию приоритета.  \n",
    "Применить фреймворк RICE для приоритизации гипотез. Отсортируйте их по убыванию приоритета.  \n",
    "Указать, как изменилась приоритизация гипотез при применении RICE вместо ICE.   "
   ]
  },
  {
   "cell_type": "code",
   "execution_count": 10,
   "metadata": {},
   "outputs": [
    {
     "data": {
      "text/html": [
       "<div>\n",
       "<style scoped>\n",
       "    .dataframe tbody tr th:only-of-type {\n",
       "        vertical-align: middle;\n",
       "    }\n",
       "\n",
       "    .dataframe tbody tr th {\n",
       "        vertical-align: top;\n",
       "    }\n",
       "\n",
       "    .dataframe thead th {\n",
       "        text-align: right;\n",
       "    }\n",
       "</style>\n",
       "<table border=\"1\" class=\"dataframe\">\n",
       "  <thead>\n",
       "    <tr style=\"text-align: right;\">\n",
       "      <th></th>\n",
       "      <th>hypothesis</th>\n",
       "      <th>reach</th>\n",
       "      <th>impact</th>\n",
       "      <th>confidence</th>\n",
       "      <th>efforts</th>\n",
       "      <th>ICE</th>\n",
       "      <th>RICE</th>\n",
       "    </tr>\n",
       "  </thead>\n",
       "  <tbody>\n",
       "    <tr>\n",
       "      <th>0</th>\n",
       "      <td>Добавить два новых канала привлечения трафика, что позволит привлекать на 30% больше пользователей</td>\n",
       "      <td>3</td>\n",
       "      <td>10</td>\n",
       "      <td>8</td>\n",
       "      <td>6</td>\n",
       "      <td>13.333333</td>\n",
       "      <td>40.0</td>\n",
       "    </tr>\n",
       "    <tr>\n",
       "      <th>1</th>\n",
       "      <td>Запустить собственную службу доставки, что сократит срок доставки заказов</td>\n",
       "      <td>2</td>\n",
       "      <td>5</td>\n",
       "      <td>4</td>\n",
       "      <td>10</td>\n",
       "      <td>2.000000</td>\n",
       "      <td>4.0</td>\n",
       "    </tr>\n",
       "    <tr>\n",
       "      <th>2</th>\n",
       "      <td>Добавить блоки рекомендаций товаров на сайт интернет магазина, чтобы повысить конверсию и средний чек заказа</td>\n",
       "      <td>8</td>\n",
       "      <td>3</td>\n",
       "      <td>7</td>\n",
       "      <td>3</td>\n",
       "      <td>7.000000</td>\n",
       "      <td>56.0</td>\n",
       "    </tr>\n",
       "    <tr>\n",
       "      <th>3</th>\n",
       "      <td>Изменить структура категорий, что увеличит конверсию, т.к. пользователи быстрее найдут нужный товар</td>\n",
       "      <td>8</td>\n",
       "      <td>3</td>\n",
       "      <td>3</td>\n",
       "      <td>8</td>\n",
       "      <td>1.125000</td>\n",
       "      <td>9.0</td>\n",
       "    </tr>\n",
       "    <tr>\n",
       "      <th>4</th>\n",
       "      <td>Изменить цвет фона главной страницы, чтобы увеличить вовлеченность пользователей</td>\n",
       "      <td>3</td>\n",
       "      <td>1</td>\n",
       "      <td>1</td>\n",
       "      <td>1</td>\n",
       "      <td>1.000000</td>\n",
       "      <td>3.0</td>\n",
       "    </tr>\n",
       "    <tr>\n",
       "      <th>5</th>\n",
       "      <td>Добавить страницу отзывов клиентов о магазине, что позволит увеличить количество заказов</td>\n",
       "      <td>3</td>\n",
       "      <td>2</td>\n",
       "      <td>2</td>\n",
       "      <td>3</td>\n",
       "      <td>1.333333</td>\n",
       "      <td>4.0</td>\n",
       "    </tr>\n",
       "    <tr>\n",
       "      <th>6</th>\n",
       "      <td>Показать на главной странице баннеры с актуальными акциями и распродажами, чтобы увеличить конверсию</td>\n",
       "      <td>5</td>\n",
       "      <td>3</td>\n",
       "      <td>8</td>\n",
       "      <td>3</td>\n",
       "      <td>8.000000</td>\n",
       "      <td>40.0</td>\n",
       "    </tr>\n",
       "    <tr>\n",
       "      <th>7</th>\n",
       "      <td>Добавить форму подписки на все основные страницы, чтобы собрать базу клиентов для email-рассылок</td>\n",
       "      <td>10</td>\n",
       "      <td>7</td>\n",
       "      <td>8</td>\n",
       "      <td>5</td>\n",
       "      <td>11.200000</td>\n",
       "      <td>112.0</td>\n",
       "    </tr>\n",
       "    <tr>\n",
       "      <th>8</th>\n",
       "      <td>Запустить акцию, дающую скидку на товар в день рождения</td>\n",
       "      <td>1</td>\n",
       "      <td>9</td>\n",
       "      <td>9</td>\n",
       "      <td>5</td>\n",
       "      <td>16.200000</td>\n",
       "      <td>16.2</td>\n",
       "    </tr>\n",
       "  </tbody>\n",
       "</table>\n",
       "</div>"
      ],
      "text/plain": [
       "                                                                                                     hypothesis  \\\n",
       "0            Добавить два новых канала привлечения трафика, что позволит привлекать на 30% больше пользователей   \n",
       "1                                     Запустить собственную службу доставки, что сократит срок доставки заказов   \n",
       "2  Добавить блоки рекомендаций товаров на сайт интернет магазина, чтобы повысить конверсию и средний чек заказа   \n",
       "3           Изменить структура категорий, что увеличит конверсию, т.к. пользователи быстрее найдут нужный товар   \n",
       "4                              Изменить цвет фона главной страницы, чтобы увеличить вовлеченность пользователей   \n",
       "5                      Добавить страницу отзывов клиентов о магазине, что позволит увеличить количество заказов   \n",
       "6          Показать на главной странице баннеры с актуальными акциями и распродажами, чтобы увеличить конверсию   \n",
       "7              Добавить форму подписки на все основные страницы, чтобы собрать базу клиентов для email-рассылок   \n",
       "8                                                       Запустить акцию, дающую скидку на товар в день рождения   \n",
       "\n",
       "   reach  impact  confidence  efforts        ICE   RICE  \n",
       "0      3      10           8        6  13.333333   40.0  \n",
       "1      2       5           4       10   2.000000    4.0  \n",
       "2      8       3           7        3   7.000000   56.0  \n",
       "3      8       3           3        8   1.125000    9.0  \n",
       "4      3       1           1        1   1.000000    3.0  \n",
       "5      3       2           2        3   1.333333    4.0  \n",
       "6      5       3           8        3   8.000000   40.0  \n",
       "7     10       7           8        5  11.200000  112.0  \n",
       "8      1       9           9        5  16.200000   16.2  "
      ]
     },
     "execution_count": 10,
     "metadata": {},
     "output_type": "execute_result"
    }
   ],
   "source": [
    "hypo.columns = ['hypothesis','reach','impact','confidence','efforts']\n",
    "hypo['ICE'] =  hypo['impact'] * hypo['confidence'] / hypo['efforts']\n",
    "hypo['RICE'] = hypo['reach'] * hypo['impact'] * hypo['confidence'] / hypo['efforts']\n",
    "hypo\n"
   ]
  },
  {
   "cell_type": "code",
   "execution_count": 11,
   "metadata": {},
   "outputs": [
    {
     "data": {
      "text/html": [
       "<div>\n",
       "<style scoped>\n",
       "    .dataframe tbody tr th:only-of-type {\n",
       "        vertical-align: middle;\n",
       "    }\n",
       "\n",
       "    .dataframe tbody tr th {\n",
       "        vertical-align: top;\n",
       "    }\n",
       "\n",
       "    .dataframe thead th {\n",
       "        text-align: right;\n",
       "    }\n",
       "</style>\n",
       "<table border=\"1\" class=\"dataframe\">\n",
       "  <thead>\n",
       "    <tr style=\"text-align: right;\">\n",
       "      <th></th>\n",
       "      <th>hypothesis</th>\n",
       "      <th>ICE</th>\n",
       "    </tr>\n",
       "  </thead>\n",
       "  <tbody>\n",
       "    <tr>\n",
       "      <th>8</th>\n",
       "      <td>Запустить акцию, дающую скидку на товар в день рождения</td>\n",
       "      <td>16.200000</td>\n",
       "    </tr>\n",
       "    <tr>\n",
       "      <th>0</th>\n",
       "      <td>Добавить два новых канала привлечения трафика, что позволит привлекать на 30% больше пользователей</td>\n",
       "      <td>13.333333</td>\n",
       "    </tr>\n",
       "    <tr>\n",
       "      <th>7</th>\n",
       "      <td>Добавить форму подписки на все основные страницы, чтобы собрать базу клиентов для email-рассылок</td>\n",
       "      <td>11.200000</td>\n",
       "    </tr>\n",
       "  </tbody>\n",
       "</table>\n",
       "</div>"
      ],
      "text/plain": [
       "                                                                                           hypothesis  \\\n",
       "8                                             Запустить акцию, дающую скидку на товар в день рождения   \n",
       "0  Добавить два новых канала привлечения трафика, что позволит привлекать на 30% больше пользователей   \n",
       "7    Добавить форму подписки на все основные страницы, чтобы собрать базу клиентов для email-рассылок   \n",
       "\n",
       "         ICE  \n",
       "8  16.200000  \n",
       "0  13.333333  \n",
       "7  11.200000  "
      ]
     },
     "metadata": {},
     "output_type": "display_data"
    },
    {
     "data": {
      "text/html": [
       "<div>\n",
       "<style scoped>\n",
       "    .dataframe tbody tr th:only-of-type {\n",
       "        vertical-align: middle;\n",
       "    }\n",
       "\n",
       "    .dataframe tbody tr th {\n",
       "        vertical-align: top;\n",
       "    }\n",
       "\n",
       "    .dataframe thead th {\n",
       "        text-align: right;\n",
       "    }\n",
       "</style>\n",
       "<table border=\"1\" class=\"dataframe\">\n",
       "  <thead>\n",
       "    <tr style=\"text-align: right;\">\n",
       "      <th></th>\n",
       "      <th>hypothesis</th>\n",
       "      <th>RICE</th>\n",
       "    </tr>\n",
       "  </thead>\n",
       "  <tbody>\n",
       "    <tr>\n",
       "      <th>7</th>\n",
       "      <td>Добавить форму подписки на все основные страницы, чтобы собрать базу клиентов для email-рассылок</td>\n",
       "      <td>112.0</td>\n",
       "    </tr>\n",
       "    <tr>\n",
       "      <th>2</th>\n",
       "      <td>Добавить блоки рекомендаций товаров на сайт интернет магазина, чтобы повысить конверсию и средний чек заказа</td>\n",
       "      <td>56.0</td>\n",
       "    </tr>\n",
       "    <tr>\n",
       "      <th>0</th>\n",
       "      <td>Добавить два новых канала привлечения трафика, что позволит привлекать на 30% больше пользователей</td>\n",
       "      <td>40.0</td>\n",
       "    </tr>\n",
       "  </tbody>\n",
       "</table>\n",
       "</div>"
      ],
      "text/plain": [
       "                                                                                                     hypothesis  \\\n",
       "7              Добавить форму подписки на все основные страницы, чтобы собрать базу клиентов для email-рассылок   \n",
       "2  Добавить блоки рекомендаций товаров на сайт интернет магазина, чтобы повысить конверсию и средний чек заказа   \n",
       "0            Добавить два новых канала привлечения трафика, что позволит привлекать на 30% больше пользователей   \n",
       "\n",
       "    RICE  \n",
       "7  112.0  \n",
       "2   56.0  \n",
       "0   40.0  "
      ]
     },
     "metadata": {},
     "output_type": "display_data"
    }
   ],
   "source": [
    "display(hypo[['hypothesis','ICE']].sort_values(by = 'ICE',ascending = False).head(3))\n",
    "display(hypo[['hypothesis','RICE']].sort_values(by = 'RICE',ascending = False).head(3))"
   ]
  },
  {
   "cell_type": "markdown",
   "metadata": {},
   "source": [
    "REACH имеет сильное влияние на методику RICE, по этому ожидаемо верхние позиции занимают гипотезы с высоким REACH"
   ]
  },
  {
   "cell_type": "markdown",
   "metadata": {},
   "source": [
    "## Анализ A/B-теста"
   ]
  },
  {
   "cell_type": "code",
   "execution_count": 12,
   "metadata": {},
   "outputs": [
    {
     "data": {
      "text/html": [
       "<div>\n",
       "<style scoped>\n",
       "    .dataframe tbody tr th:only-of-type {\n",
       "        vertical-align: middle;\n",
       "    }\n",
       "\n",
       "    .dataframe tbody tr th {\n",
       "        vertical-align: top;\n",
       "    }\n",
       "\n",
       "    .dataframe thead th {\n",
       "        text-align: right;\n",
       "    }\n",
       "</style>\n",
       "<table border=\"1\" class=\"dataframe\">\n",
       "  <thead>\n",
       "    <tr style=\"text-align: right;\">\n",
       "      <th></th>\n",
       "      <th>date</th>\n",
       "      <th>group</th>\n",
       "      <th>orders</th>\n",
       "      <th>buyers</th>\n",
       "      <th>revenue</th>\n",
       "      <th>visitors</th>\n",
       "      <th>conversion</th>\n",
       "    </tr>\n",
       "  </thead>\n",
       "  <tbody>\n",
       "    <tr>\n",
       "      <th>0</th>\n",
       "      <td>2019-08-01</td>\n",
       "      <td>A</td>\n",
       "      <td>23</td>\n",
       "      <td>19</td>\n",
       "      <td>142779</td>\n",
       "      <td>719</td>\n",
       "      <td>0.031989</td>\n",
       "    </tr>\n",
       "    <tr>\n",
       "      <th>1</th>\n",
       "      <td>2019-08-01</td>\n",
       "      <td>B</td>\n",
       "      <td>17</td>\n",
       "      <td>17</td>\n",
       "      <td>59758</td>\n",
       "      <td>713</td>\n",
       "      <td>0.023843</td>\n",
       "    </tr>\n",
       "    <tr>\n",
       "      <th>2</th>\n",
       "      <td>2019-08-02</td>\n",
       "      <td>A</td>\n",
       "      <td>42</td>\n",
       "      <td>36</td>\n",
       "      <td>234381</td>\n",
       "      <td>1338</td>\n",
       "      <td>0.031390</td>\n",
       "    </tr>\n",
       "    <tr>\n",
       "      <th>3</th>\n",
       "      <td>2019-08-02</td>\n",
       "      <td>B</td>\n",
       "      <td>40</td>\n",
       "      <td>39</td>\n",
       "      <td>221801</td>\n",
       "      <td>1294</td>\n",
       "      <td>0.030912</td>\n",
       "    </tr>\n",
       "    <tr>\n",
       "      <th>4</th>\n",
       "      <td>2019-08-03</td>\n",
       "      <td>B</td>\n",
       "      <td>54</td>\n",
       "      <td>53</td>\n",
       "      <td>288850</td>\n",
       "      <td>1803</td>\n",
       "      <td>0.029950</td>\n",
       "    </tr>\n",
       "    <tr>\n",
       "      <th>5</th>\n",
       "      <td>2019-08-03</td>\n",
       "      <td>A</td>\n",
       "      <td>66</td>\n",
       "      <td>60</td>\n",
       "      <td>346854</td>\n",
       "      <td>1845</td>\n",
       "      <td>0.035772</td>\n",
       "    </tr>\n",
       "    <tr>\n",
       "      <th>6</th>\n",
       "      <td>2019-08-04</td>\n",
       "      <td>B</td>\n",
       "      <td>68</td>\n",
       "      <td>66</td>\n",
       "      <td>385740</td>\n",
       "      <td>2573</td>\n",
       "      <td>0.026428</td>\n",
       "    </tr>\n",
       "    <tr>\n",
       "      <th>7</th>\n",
       "      <td>2019-08-04</td>\n",
       "      <td>A</td>\n",
       "      <td>77</td>\n",
       "      <td>71</td>\n",
       "      <td>388030</td>\n",
       "      <td>2562</td>\n",
       "      <td>0.030055</td>\n",
       "    </tr>\n",
       "    <tr>\n",
       "      <th>8</th>\n",
       "      <td>2019-08-05</td>\n",
       "      <td>B</td>\n",
       "      <td>89</td>\n",
       "      <td>87</td>\n",
       "      <td>475648</td>\n",
       "      <td>3280</td>\n",
       "      <td>0.027134</td>\n",
       "    </tr>\n",
       "    <tr>\n",
       "      <th>9</th>\n",
       "      <td>2019-08-05</td>\n",
       "      <td>A</td>\n",
       "      <td>99</td>\n",
       "      <td>92</td>\n",
       "      <td>474413</td>\n",
       "      <td>3318</td>\n",
       "      <td>0.029837</td>\n",
       "    </tr>\n",
       "  </tbody>\n",
       "</table>\n",
       "</div>"
      ],
      "text/plain": [
       "        date group  orders  buyers  revenue  visitors  conversion\n",
       "0 2019-08-01     A      23      19   142779       719    0.031989\n",
       "1 2019-08-01     B      17      17    59758       713    0.023843\n",
       "2 2019-08-02     A      42      36   234381      1338    0.031390\n",
       "3 2019-08-02     B      40      39   221801      1294    0.030912\n",
       "4 2019-08-03     B      54      53   288850      1803    0.029950\n",
       "5 2019-08-03     A      66      60   346854      1845    0.035772\n",
       "6 2019-08-04     B      68      66   385740      2573    0.026428\n",
       "7 2019-08-04     A      77      71   388030      2562    0.030055\n",
       "8 2019-08-05     B      89      87   475648      3280    0.027134\n",
       "9 2019-08-05     A      99      92   474413      3318    0.029837"
      ]
     },
     "execution_count": 12,
     "metadata": {},
     "output_type": "execute_result"
    }
   ],
   "source": [
    "dategroups = orders[['date','group']].drop_duplicates().sort_values(by='date').reset_index(drop=True)\n",
    "\n",
    "orderagg = dategroups.apply(\n",
    "    lambda x: orders[\n",
    "        np.logical_and(orders['date'] <= x['date'], orders['group'] == x['group'])\n",
    "                    ].agg({ \n",
    "                            'date':'max',\n",
    "                            'group': 'max',\n",
    "                            'transactionId': 'nunique',\n",
    "                            'visitorId': 'nunique',\n",
    "                            'revenue':'sum'\n",
    "                           }),\n",
    "                           axis = 1)\n",
    "\n",
    "visitorsagg = dategroups.apply(\n",
    "    lambda x: visitors[\n",
    "        np.logical_and(visitors['date'] <= x['date'], visitors['group'] == x['group'])\n",
    "                    ].agg({ \n",
    "                            'date':'max',\n",
    "                            'group': 'max',\n",
    "                            'visitors':'sum'\n",
    "                           }),\n",
    "                           axis = 1)\n",
    "aggdate = orderagg.merge(visitorsagg, left_on = ['date','group'], right_on = ['date','group'])\n",
    "aggdate.columns = ['date','group','orders','buyers','revenue','visitors']\n",
    "aggdate['conversion'] = aggdate['orders'] / aggdate['visitors']\n",
    "aggdateA = aggdate[aggdate['group'] == 'A']\n",
    "aggdateB = aggdate[aggdate['group'] == 'B']\n",
    "aggdate.head(10)"
   ]
  },
  {
   "cell_type": "markdown",
   "metadata": {},
   "source": [
    "**Построить график кумулятивной выручки по группам**"
   ]
  },
  {
   "cell_type": "code",
   "execution_count": 13,
   "metadata": {},
   "outputs": [
    {
     "data": {
      "image/png": "[encoded data removed]",
      "text/plain": [
       "<Figure size 792x432 with 1 Axes>"
      ]
     },
     "metadata": {
      "needs_background": "light"
     },
     "output_type": "display_data"
    }
   ],
   "source": [
    "plt.rcParams ['figure.figsize'] = [11, 6]\n",
    "plt.plot(aggdateA['date'], aggdateA['revenue'], label = 'A')\n",
    "plt.plot(aggdateB['date'], aggdateB['revenue'], label = 'B')\n",
    "plt.xlabel('Дата')\n",
    "plt.ylabel('Выручка')\n",
    "plt.title('Кумулятивная Выручка')\n",
    "plt.legend()\n",
    "plt.show()\n"
   ]
  },
  {
   "cell_type": "markdown",
   "metadata": {},
   "source": [
    "Выручка B-группы по всей продолжительности теста больше, чем у А-группы. Однако в середине теста виден сильный рост, который похож на выброс. Скорее всего совершен это крупный заказ в группе В."
   ]
  },
  {
   "cell_type": "markdown",
   "metadata": {},
   "source": [
    "**Построить график кумулятивного среднего чека по группам**"
   ]
  },
  {
   "cell_type": "code",
   "execution_count": 14,
   "metadata": {},
   "outputs": [
    {
     "data": {
      "image/png": "[encoded data removed]",
      "text/plain": [
       "<Figure size 792x432 with 1 Axes>"
      ]
     },
     "metadata": {
      "needs_background": "light"
     },
     "output_type": "display_data"
    }
   ],
   "source": [
    "plt.plot(aggdateA['date'], aggdateA['revenue']/aggdateA['orders'], label = 'A')\n",
    "plt.plot(aggdateB['date'], aggdateB['revenue']/aggdateB['orders'], label = 'B')\n",
    "plt.xlabel('Дата')\n",
    "plt.ylabel('Средний')\n",
    "plt.title('Кумулятивный Средний чек')\n",
    "plt.legend()\n",
    "plt.show()"
   ]
  },
  {
   "cell_type": "markdown",
   "metadata": {},
   "source": [
    "средний чек сильно \"скачет\" во время теста, успокаивается к концу теста, но так же виден сильный выброс.  \n",
    "средний чек по группе В имеет тендецию к снижению. Скорее всего совершен это крупный заказ в группе В."
   ]
  },
  {
   "cell_type": "markdown",
   "metadata": {},
   "source": [
    "**Построить график относительного изменения кумулятивного среднего чека группы B к группе A. Сделайте выводы и предположения**"
   ]
  },
  {
   "cell_type": "code",
   "execution_count": 15,
   "metadata": {},
   "outputs": [
    {
     "data": {
      "image/png": "[encoded data removed]",
      "text/plain": [
       "<Figure size 792x432 with 1 Axes>"
      ]
     },
     "metadata": {
      "needs_background": "light"
     },
     "output_type": "display_data"
    }
   ],
   "source": [
    "aggmeancost = aggdateA[['date','revenue','orders']].merge(aggdateB[['date','revenue','orders']], left_on = 'date', right_on = 'date', suffixes = ['A','B'] )\n",
    "plt.plot(aggmeancost['date'], (aggmeancost['revenueB'] / aggmeancost['ordersB']) / (aggmeancost['revenueA'] / aggmeancost['ordersA']) -1)\n",
    "plt.axhline(y = 0, color = 'black', linestyle = '-')\n",
    "plt.axhline(y = 0.29, color = 'green', linestyle = '--')\n",
    "plt.axis([dt.datetime(2019, 8, 1), dt.datetime(2019, 8, 31), -0.6 , 0.6])\n",
    "plt.xlabel('Дата')\n",
    "plt.ylabel('Относительное изменение A/B')\n",
    "plt.title('График относительного изменения кумулятивного среднего чека')\n",
    "plt.show()"
   ]
  },
  {
   "cell_type": "markdown",
   "metadata": {},
   "source": [
    "снова видны \"скачки\", нужно смотреть выбросы"
   ]
  },
  {
   "cell_type": "markdown",
   "metadata": {},
   "source": [
    "**Построить график кумулятивного среднего количества заказов на посетителя по группам**"
   ]
  },
  {
   "cell_type": "code",
   "execution_count": 16,
   "metadata": {},
   "outputs": [
    {
     "data": {
      "image/png": "[encoded data removed]",
      "text/plain": [
       "<Figure size 792x432 with 1 Axes>"
      ]
     },
     "metadata": {
      "needs_background": "light"
     },
     "output_type": "display_data"
    }
   ],
   "source": [
    "plt.plot(aggdateA['date'], aggdateA['conversion'], label = 'A')\n",
    "plt.plot(aggdateB['date'], aggdateB['conversion'], label = 'B')\n",
    "plt.xlabel('Дата')\n",
    "plt.ylabel('Кумулятивнй средний чек')\n",
    "plt.title('График кумулятивного среднего количества заказов на посетителя')\n",
    "plt.legend()\n",
    "plt.show()"
   ]
  },
  {
   "cell_type": "markdown",
   "metadata": {},
   "source": [
    "Конверсии установились к концу теста.\n",
    "Конверсия группы B значительно выше."
   ]
  },
  {
   "cell_type": "markdown",
   "metadata": {},
   "source": [
    "**Построить график относительного изменения кумулятивного среднего количества заказов на посетителя группы B к группе A**"
   ]
  },
  {
   "cell_type": "code",
   "execution_count": 17,
   "metadata": {},
   "outputs": [
    {
     "data": {
      "image/png": "[encoded data removed]",
      "text/plain": [
       "<Figure size 792x432 with 1 Axes>"
      ]
     },
     "metadata": {
      "needs_background": "light"
     },
     "output_type": "display_data"
    }
   ],
   "source": [
    "aggorders_per_visitor = aggdateA[['date','conversion']].merge(aggdateB[['date','conversion']], left_on = 'date', right_on = 'date', suffixes = ['A','B'] )\n",
    "plt.plot(aggorders_per_visitor['date'], aggorders_per_visitor['conversionB']/aggorders_per_visitor['conversionA'] -1)\n",
    "plt.axhline(y = 0, color = 'black', linestyle = '-')\n",
    "plt.axhline(y = 0.155, color = 'green', linestyle = '--')\n",
    "plt.axis([dt.datetime(2019, 8, 1), dt.datetime(2019, 8, 31), -0.3 , 0.3])\n",
    "plt.xlabel('Дата')\n",
    "plt.ylabel('Относительное изменение A/B')\n",
    "plt.title('График кумулятивного среднего количества заказов на посетителя')\n",
    "plt.show()"
   ]
  },
  {
   "cell_type": "markdown",
   "metadata": {},
   "source": [
    "Соотношение конверсий похоже установилось на одном уровне"
   ]
  },
  {
   "cell_type": "markdown",
   "metadata": {},
   "source": [
    "**Построить точечный график количества заказов по пользователям**"
   ]
  },
  {
   "cell_type": "code",
   "execution_count": 18,
   "metadata": {},
   "outputs": [
    {
     "data": {
      "image/png": "[encoded data removed]",
      "text/plain": [
       "<Figure size 792x432 with 1 Axes>"
      ]
     },
     "metadata": {
      "needs_background": "light"
     },
     "output_type": "display_data"
    }
   ],
   "source": [
    "order_by_user = orders.groupby('visitorId', as_index = False).agg({'transactionId':'nunique'})\n",
    "order_by_user.columns = ['userid','orders']\n",
    "x_values = pd.Series(range(0,len(order_by_user['orders'])))\n",
    "plt.scatter(x_values, order_by_user['orders'])\n",
    "plt.xlabel('Пользователи')\n",
    "plt.ylabel('Кол-во заказов на пользователя')\n",
    "plt.title('Точечный график количества заказов по пользователям')\n",
    "plt.show()"
   ]
  },
  {
   "cell_type": "markdown",
   "metadata": {},
   "source": [
    "среднее кол-во заказов на пользователя в основном 1-2, выбросов нет, 3 заказа делают очень редко"
   ]
  },
  {
   "cell_type": "markdown",
   "metadata": {},
   "source": [
    "**Посчитать 95-й и 99-й перцентили количества заказов на пользователя. Выберите границу для определения аномальных пользователей. Построить точечный график стоимостей заказов**"
   ]
  },
  {
   "cell_type": "code",
   "execution_count": 19,
   "metadata": {},
   "outputs": [
    {
     "data": {
      "text/plain": [
       "array([1., 2.])"
      ]
     },
     "execution_count": 19,
     "metadata": {},
     "output_type": "execute_result"
    }
   ],
   "source": [
    "np.percentile(order_by_user['orders'],[95,99])"
   ]
  },
  {
   "cell_type": "markdown",
   "metadata": {},
   "source": [
    "только 1% пользователей делает 2 и более заказов, аномалиями считаются все пользователи у кого 2 и более заказа"
   ]
  },
  {
   "cell_type": "markdown",
   "metadata": {},
   "source": [
    "**Построить точечный график стоимостей заказов**"
   ]
  },
  {
   "cell_type": "code",
   "execution_count": 20,
   "metadata": {},
   "outputs": [
    {
     "data": {
      "image/png": "[encoded data removed]",
      "text/plain": [
       "<Figure size 792x432 with 1 Axes>"
      ]
     },
     "metadata": {
      "needs_background": "light"
     },
     "output_type": "display_data"
    }
   ],
   "source": [
    "x_values = pd.Series(range(0,len(orders['transactionId'])))\n",
    "plt.scatter(x_values, orders['revenue'])\n",
    "plt.xlabel('Пользователи')\n",
    "plt.ylabel('Стоимость заказа')\n",
    "plt.title('Точечный график количества заказов по пользователям')\n",
    "plt.show()"
   ]
  },
  {
   "cell_type": "code",
   "execution_count": 21,
   "metadata": {},
   "outputs": [
    {
     "data": {
      "image/png": "[encoded data removed]",
      "text/plain": [
       "<Figure size 792x432 with 1 Axes>"
      ]
     },
     "metadata": {
      "needs_background": "light"
     },
     "output_type": "display_data"
    }
   ],
   "source": [
    "plt.scatter(x_values, orders['revenue'])\n",
    "plt.axis([0, 1100, 0 , 60000])\n",
    "plt.xlabel('Пользователи')\n",
    "plt.ylabel('Стоимость заказа')\n",
    "plt.title('Точечный график количества заказов по пользователям')\n",
    "plt.show()"
   ]
  },
  {
   "cell_type": "markdown",
   "metadata": {},
   "source": [
    "Есть один очень дорогой заказ, нужно смотреть точнее, чтобы сказать что-то конкретнее"
   ]
  },
  {
   "cell_type": "markdown",
   "metadata": {},
   "source": [
    "**Посчитать 95-й и 99-й перцентили стоимости заказов. Выберите границу для определения аномальных заказов.**"
   ]
  },
  {
   "cell_type": "code",
   "execution_count": 22,
   "metadata": {},
   "outputs": [
    {
     "data": {
      "text/plain": [
       "array([26785., 53904.])"
      ]
     },
     "execution_count": 22,
     "metadata": {},
     "output_type": "execute_result"
    }
   ],
   "source": [
    "np.percentile(orders['revenue'],[95,99])"
   ]
  },
  {
   "cell_type": "markdown",
   "metadata": {},
   "source": [
    "только 1% пользователей заказывает больше 53904, ограничим верхнюю планку цены заказа суммой в 40 тыс."
   ]
  },
  {
   "cell_type": "markdown",
   "metadata": {},
   "source": [
    "**Посчитать статистическую значимость различий в среднем количестве заказов на посетителя между группами по «сырым» данным**"
   ]
  },
  {
   "cell_type": "code",
   "execution_count": 23,
   "metadata": {},
   "outputs": [
    {
     "name": "stdout",
     "output_type": "stream",
     "text": [
      "p-value\n",
      "0.011\n",
      "\n",
      "Относительная разница B/A\n",
      "0.160\n"
     ]
    }
   ],
   "source": [
    "order_by_userA = (\n",
    "    orders[orders['group'] == 'A']\n",
    "    .groupby('visitorId', as_index=False)\n",
    "    .agg({'transactionId': pd.Series.nunique})\n",
    ")\n",
    "order_by_userA.columns = ['userid', 'orders']\n",
    "\n",
    "order_by_userB = (\n",
    "    orders[orders['group'] == 'B']\n",
    "    .groupby('visitorId', as_index=False)\n",
    "    .agg({'transactionId': pd.Series.nunique})\n",
    ")\n",
    "order_by_userB.columns = ['userid', 'orders'] \n",
    "\n",
    "sampleA = pd.concat([order_by_userA['orders'],pd.Series(0, index=np.arange(visitorsA['visitors'].sum() - len(order_by_userA['orders'])), name='orders')],axis=0)\n",
    "sampleB = pd.concat([order_by_userB['orders'],pd.Series(0, index=np.arange(visitorsB['visitors'].sum() - len(order_by_userB['orders'])), name='orders')],axis=0) \n",
    "\n",
    "print('p-value')\n",
    "print(\"{0:.3f}\".format(st.mannwhitneyu(sampleA, sampleB)[1]))\n",
    "print()\n",
    "print('Относительная разница B/A')\n",
    "print(\"{0:.3f}\".format(sampleB.mean() / sampleA.mean() - 1))"
   ]
  },
  {
   "cell_type": "code",
   "execution_count": 24,
   "metadata": {},
   "outputs": [
    {
     "data": {
      "text/plain": [
       "0        1\n",
       "1        1\n",
       "2        1\n",
       "3        1\n",
       "4        1\n",
       "        ..\n",
       "18286    0\n",
       "18287    0\n",
       "18288    0\n",
       "18289    0\n",
       "18290    0\n",
       "Name: orders, Length: 18736, dtype: int64"
      ]
     },
     "execution_count": 24,
     "metadata": {},
     "output_type": "execute_result"
    }
   ],
   "source": [
    "sampleA"
   ]
  },
  {
   "cell_type": "markdown",
   "metadata": {},
   "source": [
    "Нулевая гипотеза: Статистических различий между группами нет.  \n",
    "Алтерантивная гипотеза: Статистические различия между группами есть.\n",
    "\n",
    "p-value меньше 5%, значит нулевую гипотезу - отвергаем, статистические различия между группами есть.\n",
    "у группы B на 15% лучше конверсия, но делать вывод по этим данным нельзя"
   ]
  },
  {
   "cell_type": "markdown",
   "metadata": {},
   "source": [
    "**Посчитать статистическую значимость различий в среднем чеке заказа между группами по «сырым» данным**"
   ]
  },
  {
   "cell_type": "code",
   "execution_count": 25,
   "metadata": {},
   "outputs": [
    {
     "name": "stdout",
     "output_type": "stream",
     "text": [
      "p-value\n",
      "0.829\n",
      "\n",
      "Относительная разница B/A\n",
      "0.287\n"
     ]
    }
   ],
   "source": [
    "print('p-value')\n",
    "print('{0:.3f}'.format(st.mannwhitneyu(orders[orders['group']=='A']['revenue'], orders[orders['group']=='B']['revenue'])[1]))\n",
    "print()\n",
    "print('Относительная разница B/A')\n",
    "print('{0:.3f}'.format(orders[orders['group']=='B']['revenue'].mean()/orders[orders['group']=='A']['revenue'].mean()-1)) "
   ]
  },
  {
   "cell_type": "markdown",
   "metadata": {},
   "source": [
    "Нулевая гипотеза: Статистических различий между группами нет.  \n",
    "Алтерантивная гипотеза: Статистические различия между группами есть.\n",
    "\n",
    "p-value значительно больше 5%, значит различий - нет, группа B выигрывает по среднему чеку со значительным преимуществом 28%"
   ]
  },
  {
   "cell_type": "markdown",
   "metadata": {},
   "source": [
    "**Посчитать статистическую значимость различий в среднем количестве заказов на посетителя между группами по «очищенным» данным**"
   ]
  },
  {
   "cell_type": "code",
   "execution_count": 26,
   "metadata": {},
   "outputs": [
    {
     "name": "stdout",
     "output_type": "stream",
     "text": [
      "p-value\n",
      "0.006\n",
      "\n",
      "Относительная разница B/A\n",
      "0.198\n"
     ]
    }
   ],
   "source": [
    "user_many_order = order_by_user[order_by_user['orders'] > 1][['userid']]\n",
    "user_with_cost = orders[orders['revenue'] > 40000][['visitorId']].drop_duplicates()\n",
    "user_with_cost.columns = ['userid']\n",
    "anomal_user = pd.concat([user_many_order, user_with_cost],axis = 0).drop_duplicates()\n",
    "\n",
    "sampleA_filt = pd.concat([order_by_userA[np.logical_not(order_by_userA['userid'].isin(anomal_user['userid']))]['orders'], pd.Series(0, index=np.arange(visitorsA['visitors'].sum() - len(order_by_userA['orders'])), name='orders')],axis=0)\n",
    "sampleB_filt = pd.concat([order_by_userB[np.logical_not(order_by_userB['userid'].isin(anomal_user['userid']))]['orders'], pd.Series(0, index=np.arange(visitorsB['visitors'].sum() - len(order_by_userB['orders'])), name='orders')],axis=0)\n",
    "\n",
    "print('p-value')\n",
    "print(\"{0:.3f}\".format(st.mannwhitneyu(sampleA_filt, sampleB_filt)[1]))\n",
    "print()\n",
    "print('Относительная разница B/A')\n",
    "print(\"{0:.3f}\".format(sampleB_filt.mean() / sampleA_filt.mean() - 1))"
   ]
  },
  {
   "cell_type": "markdown",
   "metadata": {},
   "source": [
    "Все еще отвергаем Нулевую гипотезу, статистические различия в группах есть.  \n",
    "После удаления аномалий статистическое различие конверсии выросло, делать выводы по этим данным нельзя."
   ]
  },
  {
   "cell_type": "markdown",
   "metadata": {},
   "source": [
    "**Посчитать статистическую значимость различий в среднем чеке заказа между группами по «очищенным» данным**"
   ]
  },
  {
   "cell_type": "code",
   "execution_count": 27,
   "metadata": {},
   "outputs": [
    {
     "name": "stdout",
     "output_type": "stream",
     "text": [
      "p-value\n",
      "0.837\n",
      "\n",
      "Относительная разница B/A\n",
      "0.076\n"
     ]
    }
   ],
   "source": [
    "print('p-value')\n",
    "print('{0:.3f}'.format(st.mannwhitneyu(orders[np.logical_and(orders['group']=='A' , np.logical_not(orders['visitorId'].isin(anomal_user['userid'])))]['revenue'], orders[np.logical_and(orders['group']=='B' , np.logical_not(orders['visitorId'].isin(anomal_user['userid'])))]['revenue'])[1]))\n",
    "print()\n",
    "print('Относительная разница B/A')\n",
    "print('{0:.3f}'.format(orders[np.logical_and(orders['group']=='B' , np.logical_not(orders['visitorId'].isin(anomal_user['userid'])))]['revenue'].mean()/orders[np.logical_and(orders['group']=='A' , np.logical_not(orders['visitorId'].isin(anomal_user['userid'])))]['revenue'].mean()-1)) "
   ]
  },
  {
   "cell_type": "markdown",
   "metadata": {},
   "source": [
    "Не отвергаем нулевую гипотез - Статистических различий нет  \n",
    "После очистки статистические различия сгладились еще сильнее по среднему чеку  \n",
    "однако разница между группами уменьшилась до 7,5% (было значительно больше 28,7%)"
   ]
  },
  {
   "cell_type": "markdown",
   "metadata": {},
   "source": [
    "## Общие выводы"
   ]
  },
  {
   "cell_type": "markdown",
   "metadata": {},
   "source": [
    "### Данные"
   ]
  },
  {
   "cell_type": "markdown",
   "metadata": {},
   "source": [
    "Данные в хорошем виде, дубилкатов не было, пришлось изменить формат даты.\n",
    "Обнаружились покупатели, которые вошли сразу в обе контрольные группы - убрали их из теста."
   ]
  },
  {
   "cell_type": "markdown",
   "metadata": {},
   "source": [
    "### Гипотезы"
   ]
  },
  {
   "cell_type": "markdown",
   "metadata": {},
   "source": [
    "Рассмотрели приоритеты гипотез 2 методиками"
   ]
  },
  {
   "cell_type": "markdown",
   "metadata": {},
   "source": [
    "### Анализ A/B теста"
   ]
  },
  {
   "cell_type": "markdown",
   "metadata": {},
   "source": [
    "В проекте не указано какую именно гипотезу мы проверяем и на что, так что вывод делать выходит странновато.  \n",
    "В данных почти сразу же заметны аномальные показатели, как по кол-ву заказов на покупателя, так и по общей сумме заказа.  \n",
    "  \n",
    "кумулятивная выручка растет у обоих групп, показатель хороший, но о многом не говорит. \n",
    "  \n",
    "конверсии похоже установились.\n",
    "как по очищенным так и по сырым данным группа B - выигрывает в конверсии с большим отрывом.\n",
    "\n",
    "средний чек похоже установился.\n",
    "По текущим данным очищенным данным группа B - выигрывает на 7,5%, однако стоит отменить, что средний чек группы В падает, а группы А продолжает расти.\n",
    "\n",
    "Считаю что тест можно завершить и объявить, что группа В лучше группы А.\n",
    "Разница в конверсии почти 20% и 7,5% в среднем чеке слишком высокая, что группа А как-то смогла ее компенсировать, хоть и данные по конверсии статистически различны\n"
   ]
  }
 ],
 "metadata": {
  "ExecuteTimeLog": [
   {
    "duration": 3,
    "start_time": "2023-02-07T07:00:52.174Z"
   },
   {
    "duration": 1094,
    "start_time": "2023-02-07T07:02:02.773Z"
   },
   {
    "duration": 293,
    "start_time": "2023-02-07T07:02:07.337Z"
   },
   {
    "duration": 8,
    "start_time": "2023-02-07T07:02:11.021Z"
   },
   {
    "duration": 14,
    "start_time": "2023-02-07T07:02:14.889Z"
   },
   {
    "duration": 10,
    "start_time": "2023-02-07T07:02:20.326Z"
   },
   {
    "duration": 13,
    "start_time": "2023-02-07T07:02:41.474Z"
   },
   {
    "duration": 14,
    "start_time": "2023-02-07T07:02:47.160Z"
   },
   {
    "duration": 257,
    "start_time": "2023-02-07T07:03:12.257Z"
   },
   {
    "duration": 228,
    "start_time": "2023-02-07T07:03:26.902Z"
   },
   {
    "duration": 170,
    "start_time": "2023-02-07T07:03:49.709Z"
   },
   {
    "duration": 5,
    "start_time": "2023-02-07T07:03:55.981Z"
   },
   {
    "duration": 263,
    "start_time": "2023-02-07T07:04:08.363Z"
   },
   {
    "duration": 12,
    "start_time": "2023-02-07T07:46:54.793Z"
   },
   {
    "duration": 142,
    "start_time": "2023-02-07T07:49:20.858Z"
   },
   {
    "duration": 269,
    "start_time": "2023-02-07T07:50:06.120Z"
   },
   {
    "duration": 238,
    "start_time": "2023-02-07T07:50:15.057Z"
   },
   {
    "duration": 274,
    "start_time": "2023-02-07T07:50:22.132Z"
   },
   {
    "duration": 251,
    "start_time": "2023-02-07T07:50:31.773Z"
   },
   {
    "duration": 261,
    "start_time": "2023-02-07T07:50:36.005Z"
   },
   {
    "duration": 281,
    "start_time": "2023-02-07T07:50:41.023Z"
   },
   {
    "duration": 243,
    "start_time": "2023-02-07T07:50:56.765Z"
   },
   {
    "duration": 242,
    "start_time": "2023-02-07T07:51:11.279Z"
   },
   {
    "duration": 239,
    "start_time": "2023-02-07T07:51:17.380Z"
   },
   {
    "duration": 246,
    "start_time": "2023-02-07T07:51:24.109Z"
   },
   {
    "duration": 267,
    "start_time": "2023-02-07T07:51:28.831Z"
   },
   {
    "duration": 263,
    "start_time": "2023-02-07T07:51:33.945Z"
   },
   {
    "duration": 234,
    "start_time": "2023-02-07T07:51:39.369Z"
   },
   {
    "duration": 214,
    "start_time": "2023-02-07T07:52:33.298Z"
   },
   {
    "duration": 4,
    "start_time": "2023-02-07T07:53:51.766Z"
   },
   {
    "duration": 259,
    "start_time": "2023-02-07T07:55:14.685Z"
   },
   {
    "duration": 15,
    "start_time": "2023-02-07T07:57:20.652Z"
   },
   {
    "duration": 13,
    "start_time": "2023-02-07T07:59:08.337Z"
   },
   {
    "duration": 16,
    "start_time": "2023-02-07T07:59:16.601Z"
   },
   {
    "duration": 165,
    "start_time": "2023-02-07T08:37:10.774Z"
   },
   {
    "duration": 110,
    "start_time": "2023-02-07T08:41:51.415Z"
   },
   {
    "duration": 244,
    "start_time": "2023-02-07T08:42:15.261Z"
   },
   {
    "duration": 276,
    "start_time": "2023-02-07T08:42:24.938Z"
   },
   {
    "duration": 320,
    "start_time": "2023-02-07T08:42:33.038Z"
   },
   {
    "duration": 246,
    "start_time": "2023-02-07T08:42:37.351Z"
   },
   {
    "duration": 263,
    "start_time": "2023-02-07T08:42:44.004Z"
   },
   {
    "duration": 257,
    "start_time": "2023-02-07T08:42:48.823Z"
   },
   {
    "duration": 268,
    "start_time": "2023-02-07T08:42:59.933Z"
   },
   {
    "duration": 250,
    "start_time": "2023-02-07T08:43:03.650Z"
   },
   {
    "duration": 192,
    "start_time": "2023-02-07T08:43:08.899Z"
   },
   {
    "duration": 252,
    "start_time": "2023-02-07T08:47:12.065Z"
   },
   {
    "duration": 61,
    "start_time": "2023-02-07T08:55:10.928Z"
   },
   {
    "duration": 1244,
    "start_time": "2023-02-07T08:55:32.169Z"
   },
   {
    "duration": 226,
    "start_time": "2023-02-07T08:55:33.415Z"
   },
   {
    "duration": 7,
    "start_time": "2023-02-07T08:55:33.644Z"
   },
   {
    "duration": 21,
    "start_time": "2023-02-07T08:55:33.652Z"
   },
   {
    "duration": 23,
    "start_time": "2023-02-07T08:55:33.675Z"
   },
   {
    "duration": 22,
    "start_time": "2023-02-07T08:55:33.700Z"
   },
   {
    "duration": 16,
    "start_time": "2023-02-07T08:55:33.724Z"
   },
   {
    "duration": 338,
    "start_time": "2023-02-07T08:55:33.743Z"
   },
   {
    "duration": 335,
    "start_time": "2023-02-07T08:55:34.083Z"
   },
   {
    "duration": 203,
    "start_time": "2023-02-07T08:55:34.420Z"
   },
   {
    "duration": 339,
    "start_time": "2023-02-07T08:55:34.625Z"
   },
   {
    "duration": 238,
    "start_time": "2023-02-07T08:55:34.965Z"
   },
   {
    "duration": 289,
    "start_time": "2023-02-07T08:55:35.205Z"
   },
   {
    "duration": 19,
    "start_time": "2023-02-07T08:55:35.503Z"
   },
   {
    "duration": 16,
    "start_time": "2023-02-07T08:55:35.524Z"
   },
   {
    "duration": 5,
    "start_time": "2023-02-07T08:56:18.306Z"
   },
   {
    "duration": 17,
    "start_time": "2023-02-07T08:57:04.024Z"
   },
   {
    "duration": 13,
    "start_time": "2023-02-07T08:57:20.772Z"
   },
   {
    "duration": 13,
    "start_time": "2023-02-07T08:57:28.052Z"
   },
   {
    "duration": 13,
    "start_time": "2023-02-07T08:57:37.576Z"
   },
   {
    "duration": 7,
    "start_time": "2023-02-07T08:58:06.795Z"
   },
   {
    "duration": 16,
    "start_time": "2023-02-07T08:58:15.181Z"
   },
   {
    "duration": 128,
    "start_time": "2023-02-07T08:59:47.896Z"
   },
   {
    "duration": 134,
    "start_time": "2023-02-07T08:59:55.075Z"
   },
   {
    "duration": 6,
    "start_time": "2023-02-07T09:02:03.040Z"
   },
   {
    "duration": 6,
    "start_time": "2023-02-07T09:03:17.272Z"
   },
   {
    "duration": 4,
    "start_time": "2023-02-07T09:05:20.306Z"
   },
   {
    "duration": 13,
    "start_time": "2023-02-07T09:07:01.916Z"
   },
   {
    "duration": 108,
    "start_time": "2023-02-07T09:07:35.498Z"
   },
   {
    "duration": 133,
    "start_time": "2023-02-07T09:07:55.435Z"
   },
   {
    "duration": 6,
    "start_time": "2023-02-07T09:09:13.595Z"
   },
   {
    "duration": 286,
    "start_time": "2023-02-07T09:11:44.776Z"
   },
   {
    "duration": 279,
    "start_time": "2023-02-07T09:11:48.529Z"
   },
   {
    "duration": 291,
    "start_time": "2023-02-07T09:12:07.142Z"
   },
   {
    "duration": 361,
    "start_time": "2023-02-07T09:12:33.105Z"
   },
   {
    "duration": 308,
    "start_time": "2023-02-07T09:12:47.200Z"
   },
   {
    "duration": 292,
    "start_time": "2023-02-07T09:13:07.960Z"
   },
   {
    "duration": 276,
    "start_time": "2023-02-07T09:13:17.494Z"
   },
   {
    "duration": 12,
    "start_time": "2023-02-07T09:15:50.724Z"
   },
   {
    "duration": 13,
    "start_time": "2023-02-07T09:16:16.082Z"
   },
   {
    "duration": 12,
    "start_time": "2023-02-07T09:16:25.783Z"
   },
   {
    "duration": 5,
    "start_time": "2023-02-07T09:16:48.996Z"
   },
   {
    "duration": 3,
    "start_time": "2023-02-07T09:20:30.764Z"
   },
   {
    "duration": 10,
    "start_time": "2023-02-07T09:21:08.505Z"
   },
   {
    "duration": 106,
    "start_time": "2023-02-07T09:25:03.666Z"
   },
   {
    "duration": 108,
    "start_time": "2023-02-07T09:26:01.161Z"
   },
   {
    "duration": 243,
    "start_time": "2023-02-07T09:26:17.476Z"
   },
   {
    "duration": 217,
    "start_time": "2023-02-07T09:27:39.961Z"
   },
   {
    "duration": 222,
    "start_time": "2023-02-07T09:27:48.293Z"
   },
   {
    "duration": 15,
    "start_time": "2023-02-07T09:29:56.245Z"
   },
   {
    "duration": 77,
    "start_time": "2023-02-07T09:30:27.920Z"
   },
   {
    "duration": 166,
    "start_time": "2023-02-07T09:30:44.790Z"
   },
   {
    "duration": 149,
    "start_time": "2023-02-07T09:35:24.634Z"
   },
   {
    "duration": 143,
    "start_time": "2023-02-07T09:35:42.436Z"
   },
   {
    "duration": 155,
    "start_time": "2023-02-07T09:36:10.740Z"
   },
   {
    "duration": 156,
    "start_time": "2023-02-07T09:36:24.920Z"
   },
   {
    "duration": 206,
    "start_time": "2023-02-07T09:36:49.764Z"
   },
   {
    "duration": 7,
    "start_time": "2023-02-07T09:42:04.006Z"
   },
   {
    "duration": 10,
    "start_time": "2023-02-07T09:42:31.550Z"
   },
   {
    "duration": 10,
    "start_time": "2023-02-07T09:44:41.774Z"
   },
   {
    "duration": 11,
    "start_time": "2023-02-07T09:44:48.609Z"
   },
   {
    "duration": 11,
    "start_time": "2023-02-07T09:48:12.531Z"
   },
   {
    "duration": 5,
    "start_time": "2023-02-07T09:48:22.645Z"
   },
   {
    "duration": 13,
    "start_time": "2023-02-07T09:48:53.816Z"
   },
   {
    "duration": 164,
    "start_time": "2023-02-07T09:49:17.683Z"
   },
   {
    "duration": 11,
    "start_time": "2023-02-07T09:49:55.408Z"
   },
   {
    "duration": 1020,
    "start_time": "2023-02-07T09:50:16.921Z"
   },
   {
    "duration": 128,
    "start_time": "2023-02-07T09:50:17.943Z"
   },
   {
    "duration": 6,
    "start_time": "2023-02-07T09:50:18.073Z"
   },
   {
    "duration": 19,
    "start_time": "2023-02-07T09:50:18.081Z"
   },
   {
    "duration": 12,
    "start_time": "2023-02-07T09:50:18.102Z"
   },
   {
    "duration": 15,
    "start_time": "2023-02-07T09:50:18.116Z"
   },
   {
    "duration": 15,
    "start_time": "2023-02-07T09:50:18.133Z"
   },
   {
    "duration": 304,
    "start_time": "2023-02-07T09:50:18.149Z"
   },
   {
    "duration": 262,
    "start_time": "2023-02-07T09:50:18.455Z"
   },
   {
    "duration": 189,
    "start_time": "2023-02-07T09:50:18.719Z"
   },
   {
    "duration": 276,
    "start_time": "2023-02-07T09:50:18.909Z"
   },
   {
    "duration": 208,
    "start_time": "2023-02-07T09:50:19.188Z"
   },
   {
    "duration": 277,
    "start_time": "2023-02-07T09:50:19.398Z"
   },
   {
    "duration": 132,
    "start_time": "2023-02-07T09:50:19.678Z"
   },
   {
    "duration": 6,
    "start_time": "2023-02-07T09:50:19.812Z"
   },
   {
    "duration": 159,
    "start_time": "2023-02-07T09:50:19.820Z"
   },
   {
    "duration": 5,
    "start_time": "2023-02-07T09:50:19.981Z"
   },
   {
    "duration": 5,
    "start_time": "2023-02-07T09:50:20.003Z"
   },
   {
    "duration": 204,
    "start_time": "2023-02-07T09:50:20.009Z"
   },
   {
    "duration": 12,
    "start_time": "2023-02-07T09:50:20.215Z"
   },
   {
    "duration": 12,
    "start_time": "2023-02-07T09:52:04.410Z"
   },
   {
    "duration": 10,
    "start_time": "2023-02-07T09:55:28.340Z"
   },
   {
    "duration": 7,
    "start_time": "2023-02-07T09:56:24.417Z"
   },
   {
    "duration": 7,
    "start_time": "2023-02-07T09:57:09.165Z"
   },
   {
    "duration": 8,
    "start_time": "2023-02-07T09:58:07.394Z"
   },
   {
    "duration": 8,
    "start_time": "2023-02-07T09:58:12.841Z"
   },
   {
    "duration": 11,
    "start_time": "2023-02-07T10:01:46.201Z"
   },
   {
    "duration": 105,
    "start_time": "2023-02-07T10:02:29.792Z"
   },
   {
    "duration": 11,
    "start_time": "2023-02-07T10:02:37.199Z"
   },
   {
    "duration": 9,
    "start_time": "2023-02-07T10:02:55.365Z"
   },
   {
    "duration": 8,
    "start_time": "2023-02-07T10:06:34.411Z"
   },
   {
    "duration": 10,
    "start_time": "2023-02-07T10:06:42.519Z"
   },
   {
    "duration": 4,
    "start_time": "2023-02-07T10:19:22.354Z"
   },
   {
    "duration": 7,
    "start_time": "2023-02-07T10:19:26.488Z"
   },
   {
    "duration": 31,
    "start_time": "2023-02-07T10:26:07.190Z"
   },
   {
    "duration": 9,
    "start_time": "2023-02-07T10:26:20.143Z"
   },
   {
    "duration": 14,
    "start_time": "2023-02-07T10:26:36.081Z"
   },
   {
    "duration": 12,
    "start_time": "2023-02-07T10:27:13.813Z"
   },
   {
    "duration": 11,
    "start_time": "2023-02-07T10:29:19.553Z"
   },
   {
    "duration": 14,
    "start_time": "2023-02-07T10:29:32.469Z"
   },
   {
    "duration": 12,
    "start_time": "2023-02-07T10:29:36.335Z"
   },
   {
    "duration": 9,
    "start_time": "2023-02-07T10:31:07.565Z"
   },
   {
    "duration": 12,
    "start_time": "2023-02-07T10:31:19.948Z"
   },
   {
    "duration": 10,
    "start_time": "2023-02-07T10:31:29.727Z"
   },
   {
    "duration": 13,
    "start_time": "2023-02-07T10:31:54.773Z"
   },
   {
    "duration": 14,
    "start_time": "2023-02-07T10:32:48.390Z"
   },
   {
    "duration": 34,
    "start_time": "2023-02-07T10:33:07.323Z"
   },
   {
    "duration": 20,
    "start_time": "2023-02-07T10:33:53.723Z"
   },
   {
    "duration": 18,
    "start_time": "2023-02-07T10:33:59.456Z"
   },
   {
    "duration": 14,
    "start_time": "2023-02-07T10:34:14.413Z"
   },
   {
    "duration": 10,
    "start_time": "2023-02-07T10:34:40.596Z"
   },
   {
    "duration": 9,
    "start_time": "2023-02-07T10:40:15.528Z"
   },
   {
    "duration": 7,
    "start_time": "2023-02-07T10:41:50.071Z"
   },
   {
    "duration": 34,
    "start_time": "2023-02-07T10:41:56.177Z"
   },
   {
    "duration": 5,
    "start_time": "2023-02-07T10:42:47.169Z"
   },
   {
    "duration": 6,
    "start_time": "2023-02-07T10:42:48.579Z"
   },
   {
    "duration": 5,
    "start_time": "2023-02-07T10:42:59.674Z"
   },
   {
    "duration": 5,
    "start_time": "2023-02-07T10:43:01.401Z"
   },
   {
    "duration": 4,
    "start_time": "2023-02-07T10:43:06.758Z"
   },
   {
    "duration": 5,
    "start_time": "2023-02-07T10:43:08.039Z"
   },
   {
    "duration": 7,
    "start_time": "2023-02-07T10:43:30.135Z"
   },
   {
    "duration": 8,
    "start_time": "2023-02-07T10:44:15.597Z"
   },
   {
    "duration": 7,
    "start_time": "2023-02-07T10:44:32.074Z"
   },
   {
    "duration": 33,
    "start_time": "2023-02-07T10:45:10.020Z"
   },
   {
    "duration": 5,
    "start_time": "2023-02-07T10:46:18.424Z"
   },
   {
    "duration": 4,
    "start_time": "2023-02-07T10:48:54.112Z"
   },
   {
    "duration": 6,
    "start_time": "2023-02-07T10:48:57.260Z"
   },
   {
    "duration": 5,
    "start_time": "2023-02-07T10:49:11.326Z"
   },
   {
    "duration": 121,
    "start_time": "2023-02-07T10:49:29.236Z"
   },
   {
    "duration": 1074,
    "start_time": "2023-02-07T10:49:33.781Z"
   },
   {
    "duration": 123,
    "start_time": "2023-02-07T10:49:34.857Z"
   },
   {
    "duration": 6,
    "start_time": "2023-02-07T10:49:34.982Z"
   },
   {
    "duration": 22,
    "start_time": "2023-02-07T10:49:34.990Z"
   },
   {
    "duration": 12,
    "start_time": "2023-02-07T10:49:35.014Z"
   },
   {
    "duration": 16,
    "start_time": "2023-02-07T10:49:35.028Z"
   },
   {
    "duration": 15,
    "start_time": "2023-02-07T10:49:35.046Z"
   },
   {
    "duration": 329,
    "start_time": "2023-02-07T10:49:35.063Z"
   },
   {
    "duration": 265,
    "start_time": "2023-02-07T10:49:35.393Z"
   },
   {
    "duration": 199,
    "start_time": "2023-02-07T10:49:35.659Z"
   },
   {
    "duration": 264,
    "start_time": "2023-02-07T10:49:35.860Z"
   },
   {
    "duration": 207,
    "start_time": "2023-02-07T10:49:36.126Z"
   },
   {
    "duration": 252,
    "start_time": "2023-02-07T10:49:36.335Z"
   },
   {
    "duration": 138,
    "start_time": "2023-02-07T10:49:36.590Z"
   },
   {
    "duration": 6,
    "start_time": "2023-02-07T10:49:36.730Z"
   },
   {
    "duration": 155,
    "start_time": "2023-02-07T10:49:36.737Z"
   },
   {
    "duration": 12,
    "start_time": "2023-02-07T10:49:36.894Z"
   },
   {
    "duration": 174,
    "start_time": "2023-02-07T10:49:36.908Z"
   },
   {
    "duration": 10,
    "start_time": "2023-02-07T10:49:37.085Z"
   },
   {
    "duration": 34,
    "start_time": "2023-02-07T10:49:37.103Z"
   },
   {
    "duration": 12,
    "start_time": "2023-02-07T10:49:37.139Z"
   },
   {
    "duration": 7,
    "start_time": "2023-02-07T10:49:37.152Z"
   },
   {
    "duration": 7,
    "start_time": "2023-02-07T10:50:33.818Z"
   },
   {
    "duration": 8,
    "start_time": "2023-02-07T10:50:55.574Z"
   },
   {
    "duration": 6,
    "start_time": "2023-02-07T10:51:19.995Z"
   },
   {
    "duration": 118,
    "start_time": "2023-02-07T10:51:45.230Z"
   },
   {
    "duration": 6,
    "start_time": "2023-02-07T10:51:53.956Z"
   },
   {
    "duration": 4,
    "start_time": "2023-02-07T10:52:09.990Z"
   },
   {
    "duration": 3,
    "start_time": "2023-02-07T10:52:13.208Z"
   },
   {
    "duration": 10,
    "start_time": "2023-02-07T10:52:20.954Z"
   },
   {
    "duration": 7,
    "start_time": "2023-02-07T10:52:36.829Z"
   },
   {
    "duration": 5,
    "start_time": "2023-02-07T10:52:43.072Z"
   },
   {
    "duration": 4,
    "start_time": "2023-02-07T10:52:55.115Z"
   },
   {
    "duration": 5,
    "start_time": "2023-02-07T10:55:33.980Z"
   },
   {
    "duration": 6,
    "start_time": "2023-02-07T10:55:37.850Z"
   },
   {
    "duration": 4,
    "start_time": "2023-02-07T10:55:53.285Z"
   },
   {
    "duration": 9,
    "start_time": "2023-02-07T10:59:54.152Z"
   },
   {
    "duration": 5,
    "start_time": "2023-02-07T11:01:33.496Z"
   },
   {
    "duration": 7,
    "start_time": "2023-02-07T11:01:42.063Z"
   },
   {
    "duration": 8,
    "start_time": "2023-02-07T11:01:56.786Z"
   },
   {
    "duration": 6,
    "start_time": "2023-02-07T11:02:18.374Z"
   },
   {
    "duration": 5,
    "start_time": "2023-02-07T11:02:29.374Z"
   },
   {
    "duration": 38,
    "start_time": "2023-02-07T11:02:52.935Z"
   },
   {
    "duration": 14,
    "start_time": "2023-02-07T11:02:57.145Z"
   },
   {
    "duration": 7,
    "start_time": "2023-02-07T11:03:22.301Z"
   },
   {
    "duration": 29,
    "start_time": "2023-02-07T11:03:27.814Z"
   },
   {
    "duration": 7,
    "start_time": "2023-02-07T11:03:29.304Z"
   },
   {
    "duration": 7,
    "start_time": "2023-02-07T11:03:49.525Z"
   },
   {
    "duration": 9,
    "start_time": "2023-02-07T11:04:05.374Z"
   },
   {
    "duration": 26,
    "start_time": "2023-02-07T11:04:10.654Z"
   },
   {
    "duration": 5,
    "start_time": "2023-02-07T11:04:15.969Z"
   },
   {
    "duration": 8,
    "start_time": "2023-02-07T11:04:31.859Z"
   },
   {
    "duration": 33,
    "start_time": "2023-02-07T11:04:56.956Z"
   },
   {
    "duration": 8,
    "start_time": "2023-02-07T11:04:58.996Z"
   },
   {
    "duration": 32,
    "start_time": "2023-02-07T11:05:07.606Z"
   },
   {
    "duration": 9,
    "start_time": "2023-02-07T11:05:10.199Z"
   },
   {
    "duration": 6,
    "start_time": "2023-02-07T11:05:15.707Z"
   },
   {
    "duration": 8,
    "start_time": "2023-02-07T11:05:30.229Z"
   },
   {
    "duration": 5,
    "start_time": "2023-02-07T11:05:33.764Z"
   },
   {
    "duration": 30,
    "start_time": "2023-02-07T11:06:00.712Z"
   },
   {
    "duration": 1176,
    "start_time": "2023-02-07T11:10:04.606Z"
   },
   {
    "duration": 1086,
    "start_time": "2023-02-07T11:10:22.079Z"
   },
   {
    "duration": 126,
    "start_time": "2023-02-07T11:10:23.167Z"
   },
   {
    "duration": 8,
    "start_time": "2023-02-07T11:10:23.294Z"
   },
   {
    "duration": 26,
    "start_time": "2023-02-07T11:10:23.304Z"
   },
   {
    "duration": 17,
    "start_time": "2023-02-07T11:10:23.333Z"
   },
   {
    "duration": 60,
    "start_time": "2023-02-07T11:10:23.352Z"
   },
   {
    "duration": 17,
    "start_time": "2023-02-07T11:10:23.414Z"
   },
   {
    "duration": 334,
    "start_time": "2023-02-07T11:10:23.433Z"
   },
   {
    "duration": 266,
    "start_time": "2023-02-07T11:10:23.769Z"
   },
   {
    "duration": 190,
    "start_time": "2023-02-07T11:10:24.037Z"
   },
   {
    "duration": 294,
    "start_time": "2023-02-07T11:10:24.228Z"
   },
   {
    "duration": 265,
    "start_time": "2023-02-07T11:10:24.525Z"
   },
   {
    "duration": 283,
    "start_time": "2023-02-07T11:10:24.792Z"
   },
   {
    "duration": 136,
    "start_time": "2023-02-07T11:10:25.078Z"
   },
   {
    "duration": 7,
    "start_time": "2023-02-07T11:10:25.216Z"
   },
   {
    "duration": 161,
    "start_time": "2023-02-07T11:10:25.225Z"
   },
   {
    "duration": 5,
    "start_time": "2023-02-07T11:10:25.387Z"
   },
   {
    "duration": 189,
    "start_time": "2023-02-07T11:10:25.403Z"
   },
   {
    "duration": 18,
    "start_time": "2023-02-07T11:10:25.594Z"
   },
   {
    "duration": 40,
    "start_time": "2023-02-07T11:10:25.614Z"
   },
   {
    "duration": 10,
    "start_time": "2023-02-07T11:10:25.656Z"
   },
   {
    "duration": 10,
    "start_time": "2023-02-07T11:10:25.668Z"
   },
   {
    "duration": 37,
    "start_time": "2023-02-07T11:10:25.680Z"
   },
   {
    "duration": 108,
    "start_time": "2023-02-07T11:11:09.037Z"
   },
   {
    "duration": 11,
    "start_time": "2023-02-07T11:11:23.426Z"
   },
   {
    "duration": 11,
    "start_time": "2023-02-07T11:11:28.809Z"
   },
   {
    "duration": 10,
    "start_time": "2023-02-07T11:11:33.286Z"
   },
   {
    "duration": 13,
    "start_time": "2023-02-07T11:11:40.369Z"
   },
   {
    "duration": 9,
    "start_time": "2023-02-07T11:11:51.570Z"
   },
   {
    "duration": 7,
    "start_time": "2023-02-07T11:12:19.997Z"
   },
   {
    "duration": 6,
    "start_time": "2023-02-07T11:12:36.782Z"
   },
   {
    "duration": 33,
    "start_time": "2023-02-07T11:13:11.286Z"
   },
   {
    "duration": 5,
    "start_time": "2023-02-07T11:23:24.304Z"
   },
   {
    "duration": 4,
    "start_time": "2023-02-07T11:23:28.095Z"
   },
   {
    "duration": 6,
    "start_time": "2023-02-07T11:23:41.223Z"
   },
   {
    "duration": 5,
    "start_time": "2023-02-07T11:23:46.281Z"
   },
   {
    "duration": 7,
    "start_time": "2023-02-07T11:23:58.928Z"
   },
   {
    "duration": 5,
    "start_time": "2023-02-07T11:24:01.764Z"
   },
   {
    "duration": 15,
    "start_time": "2023-02-07T11:32:00.592Z"
   },
   {
    "duration": 5,
    "start_time": "2023-02-07T11:49:59.859Z"
   },
   {
    "duration": 9,
    "start_time": "2023-02-07T12:10:00.068Z"
   },
   {
    "duration": 4,
    "start_time": "2023-02-07T12:10:08.318Z"
   },
   {
    "duration": 4,
    "start_time": "2023-02-07T12:10:15.681Z"
   },
   {
    "duration": 11,
    "start_time": "2023-02-07T12:10:47.573Z"
   },
   {
    "duration": 12,
    "start_time": "2023-02-07T12:10:55.582Z"
   },
   {
    "duration": 10,
    "start_time": "2023-02-07T12:10:59.626Z"
   },
   {
    "duration": 8,
    "start_time": "2023-02-07T12:11:22.735Z"
   },
   {
    "duration": 12,
    "start_time": "2023-02-07T12:11:31.754Z"
   },
   {
    "duration": 19,
    "start_time": "2023-02-07T12:11:36.095Z"
   },
   {
    "duration": 8,
    "start_time": "2023-02-07T12:11:53.572Z"
   },
   {
    "duration": 9,
    "start_time": "2023-02-07T12:12:37.749Z"
   },
   {
    "duration": 10,
    "start_time": "2023-02-07T12:13:23.316Z"
   },
   {
    "duration": 11,
    "start_time": "2023-02-07T12:14:40.739Z"
   },
   {
    "duration": 13,
    "start_time": "2023-02-07T12:14:57.815Z"
   },
   {
    "duration": 14,
    "start_time": "2023-02-07T12:15:59.704Z"
   },
   {
    "duration": 15,
    "start_time": "2023-02-07T12:16:05.174Z"
   },
   {
    "duration": 8,
    "start_time": "2023-02-07T12:16:16.649Z"
   },
   {
    "duration": 16,
    "start_time": "2023-02-07T12:16:21.297Z"
   },
   {
    "duration": 21,
    "start_time": "2023-02-07T12:16:35.231Z"
   },
   {
    "duration": 4,
    "start_time": "2023-02-07T12:16:52.362Z"
   },
   {
    "duration": 18,
    "start_time": "2023-02-07T12:16:56.339Z"
   },
   {
    "duration": 8,
    "start_time": "2023-02-07T12:18:22.889Z"
   },
   {
    "duration": 8,
    "start_time": "2023-02-07T12:18:37.279Z"
   },
   {
    "duration": 11,
    "start_time": "2023-02-07T12:18:38.798Z"
   },
   {
    "duration": 16,
    "start_time": "2023-02-07T12:18:54.112Z"
   },
   {
    "duration": 9,
    "start_time": "2023-02-07T12:19:12.010Z"
   },
   {
    "duration": 1015,
    "start_time": "2023-02-07T12:19:16.238Z"
   },
   {
    "duration": 186,
    "start_time": "2023-02-07T12:19:17.256Z"
   },
   {
    "duration": 20,
    "start_time": "2023-02-07T12:19:17.444Z"
   },
   {
    "duration": 17,
    "start_time": "2023-02-07T12:19:17.467Z"
   },
   {
    "duration": 14,
    "start_time": "2023-02-07T12:19:17.486Z"
   },
   {
    "duration": 19,
    "start_time": "2023-02-07T12:19:17.502Z"
   },
   {
    "duration": 17,
    "start_time": "2023-02-07T12:19:17.523Z"
   },
   {
    "duration": 22,
    "start_time": "2023-02-07T12:19:17.542Z"
   },
   {
    "duration": 297,
    "start_time": "2023-02-07T12:19:17.565Z"
   },
   {
    "duration": 308,
    "start_time": "2023-02-07T12:19:17.865Z"
   },
   {
    "duration": 195,
    "start_time": "2023-02-07T12:19:18.175Z"
   },
   {
    "duration": 300,
    "start_time": "2023-02-07T12:19:18.372Z"
   },
   {
    "duration": 187,
    "start_time": "2023-02-07T12:19:18.674Z"
   },
   {
    "duration": 317,
    "start_time": "2023-02-07T12:19:18.862Z"
   },
   {
    "duration": 146,
    "start_time": "2023-02-07T12:19:19.181Z"
   },
   {
    "duration": 6,
    "start_time": "2023-02-07T12:19:19.330Z"
   },
   {
    "duration": 149,
    "start_time": "2023-02-07T12:19:19.338Z"
   },
   {
    "duration": 13,
    "start_time": "2023-02-07T12:19:19.490Z"
   },
   {
    "duration": 53,
    "start_time": "2023-02-07T12:19:19.505Z"
   },
   {
    "duration": 10,
    "start_time": "2023-02-07T12:19:19.560Z"
   },
   {
    "duration": 58,
    "start_time": "2023-02-07T12:19:19.572Z"
   },
   {
    "duration": 13,
    "start_time": "2023-02-07T12:19:19.632Z"
   },
   {
    "duration": 6,
    "start_time": "2023-02-07T12:19:19.647Z"
   },
   {
    "duration": 12,
    "start_time": "2023-02-07T12:19:54.076Z"
   },
   {
    "duration": 1026,
    "start_time": "2023-02-07T12:20:05.542Z"
   },
   {
    "duration": 139,
    "start_time": "2023-02-07T12:20:06.570Z"
   },
   {
    "duration": 20,
    "start_time": "2023-02-07T12:20:06.711Z"
   },
   {
    "duration": 15,
    "start_time": "2023-02-07T12:20:06.734Z"
   },
   {
    "duration": 14,
    "start_time": "2023-02-07T12:20:06.751Z"
   },
   {
    "duration": 37,
    "start_time": "2023-02-07T12:20:06.767Z"
   },
   {
    "duration": 14,
    "start_time": "2023-02-07T12:20:06.806Z"
   },
   {
    "duration": 16,
    "start_time": "2023-02-07T12:20:06.822Z"
   },
   {
    "duration": 351,
    "start_time": "2023-02-07T12:20:06.840Z"
   },
   {
    "duration": 312,
    "start_time": "2023-02-07T12:20:07.194Z"
   },
   {
    "duration": 213,
    "start_time": "2023-02-07T12:20:07.508Z"
   },
   {
    "duration": 280,
    "start_time": "2023-02-07T12:20:07.723Z"
   },
   {
    "duration": 200,
    "start_time": "2023-02-07T12:20:08.005Z"
   },
   {
    "duration": 312,
    "start_time": "2023-02-07T12:20:08.207Z"
   },
   {
    "duration": 148,
    "start_time": "2023-02-07T12:20:08.521Z"
   },
   {
    "duration": 5,
    "start_time": "2023-02-07T12:20:08.670Z"
   },
   {
    "duration": 150,
    "start_time": "2023-02-07T12:20:08.677Z"
   },
   {
    "duration": 6,
    "start_time": "2023-02-07T12:20:08.828Z"
   },
   {
    "duration": 184,
    "start_time": "2023-02-07T12:20:08.835Z"
   },
   {
    "duration": 11,
    "start_time": "2023-02-07T12:20:09.021Z"
   },
   {
    "duration": 32,
    "start_time": "2023-02-07T12:20:09.033Z"
   },
   {
    "duration": 41,
    "start_time": "2023-02-07T12:20:09.067Z"
   },
   {
    "duration": 4,
    "start_time": "2023-02-07T12:20:09.110Z"
   },
   {
    "duration": 6,
    "start_time": "2023-02-07T12:20:37.819Z"
   },
   {
    "duration": 4,
    "start_time": "2023-02-07T12:20:57.080Z"
   },
   {
    "duration": 1001,
    "start_time": "2023-02-07T12:21:58.742Z"
   },
   {
    "duration": 114,
    "start_time": "2023-02-07T12:21:59.745Z"
   },
   {
    "duration": 6,
    "start_time": "2023-02-07T12:21:59.861Z"
   },
   {
    "duration": 24,
    "start_time": "2023-02-07T12:21:59.869Z"
   },
   {
    "duration": 0,
    "start_time": "2023-02-07T12:21:59.895Z"
   },
   {
    "duration": 0,
    "start_time": "2023-02-07T12:21:59.896Z"
   },
   {
    "duration": 0,
    "start_time": "2023-02-07T12:21:59.897Z"
   },
   {
    "duration": 0,
    "start_time": "2023-02-07T12:21:59.898Z"
   },
   {
    "duration": 0,
    "start_time": "2023-02-07T12:21:59.900Z"
   },
   {
    "duration": 0,
    "start_time": "2023-02-07T12:21:59.901Z"
   },
   {
    "duration": 0,
    "start_time": "2023-02-07T12:21:59.902Z"
   },
   {
    "duration": 0,
    "start_time": "2023-02-07T12:21:59.903Z"
   },
   {
    "duration": 0,
    "start_time": "2023-02-07T12:21:59.903Z"
   },
   {
    "duration": 0,
    "start_time": "2023-02-07T12:21:59.904Z"
   },
   {
    "duration": 0,
    "start_time": "2023-02-07T12:21:59.905Z"
   },
   {
    "duration": 0,
    "start_time": "2023-02-07T12:21:59.906Z"
   },
   {
    "duration": 0,
    "start_time": "2023-02-07T12:21:59.907Z"
   },
   {
    "duration": 0,
    "start_time": "2023-02-07T12:21:59.909Z"
   },
   {
    "duration": 0,
    "start_time": "2023-02-07T12:21:59.910Z"
   },
   {
    "duration": 0,
    "start_time": "2023-02-07T12:21:59.911Z"
   },
   {
    "duration": 0,
    "start_time": "2023-02-07T12:21:59.912Z"
   },
   {
    "duration": 0,
    "start_time": "2023-02-07T12:21:59.913Z"
   },
   {
    "duration": 4,
    "start_time": "2023-02-07T12:22:40.865Z"
   },
   {
    "duration": 94,
    "start_time": "2023-02-07T12:23:11.718Z"
   },
   {
    "duration": 4,
    "start_time": "2023-02-07T12:23:15.389Z"
   },
   {
    "duration": 25,
    "start_time": "2023-02-07T12:23:27.998Z"
   },
   {
    "duration": 17,
    "start_time": "2023-02-07T12:23:31.480Z"
   },
   {
    "duration": 1057,
    "start_time": "2023-02-07T12:23:38.639Z"
   },
   {
    "duration": 128,
    "start_time": "2023-02-07T12:23:39.698Z"
   },
   {
    "duration": 8,
    "start_time": "2023-02-07T12:23:39.828Z"
   },
   {
    "duration": 38,
    "start_time": "2023-02-07T12:23:39.838Z"
   },
   {
    "duration": 20,
    "start_time": "2023-02-07T12:23:39.880Z"
   },
   {
    "duration": 18,
    "start_time": "2023-02-07T12:23:39.902Z"
   },
   {
    "duration": 29,
    "start_time": "2023-02-07T12:23:39.922Z"
   },
   {
    "duration": 17,
    "start_time": "2023-02-07T12:23:39.953Z"
   },
   {
    "duration": 332,
    "start_time": "2023-02-07T12:23:39.972Z"
   },
   {
    "duration": 291,
    "start_time": "2023-02-07T12:23:40.307Z"
   },
   {
    "duration": 206,
    "start_time": "2023-02-07T12:23:40.599Z"
   },
   {
    "duration": 288,
    "start_time": "2023-02-07T12:23:40.807Z"
   },
   {
    "duration": 224,
    "start_time": "2023-02-07T12:23:41.103Z"
   },
   {
    "duration": 264,
    "start_time": "2023-02-07T12:23:41.329Z"
   },
   {
    "duration": 176,
    "start_time": "2023-02-07T12:23:41.595Z"
   },
   {
    "duration": 7,
    "start_time": "2023-02-07T12:23:41.773Z"
   },
   {
    "duration": 219,
    "start_time": "2023-02-07T12:23:41.783Z"
   },
   {
    "duration": 9,
    "start_time": "2023-02-07T12:23:42.004Z"
   },
   {
    "duration": 194,
    "start_time": "2023-02-07T12:23:42.015Z"
   },
   {
    "duration": 11,
    "start_time": "2023-02-07T12:23:42.211Z"
   },
   {
    "duration": 38,
    "start_time": "2023-02-07T12:23:42.224Z"
   },
   {
    "duration": 40,
    "start_time": "2023-02-07T12:23:42.264Z"
   },
   {
    "duration": 5,
    "start_time": "2023-02-07T12:23:42.307Z"
   },
   {
    "duration": 236,
    "start_time": "2023-02-07T12:26:47.949Z"
   },
   {
    "duration": 228,
    "start_time": "2023-02-07T12:26:51.947Z"
   },
   {
    "duration": 358,
    "start_time": "2023-02-07T12:26:56.388Z"
   },
   {
    "duration": 278,
    "start_time": "2023-02-07T12:26:59.996Z"
   },
   {
    "duration": 256,
    "start_time": "2023-02-07T12:27:08.121Z"
   },
   {
    "duration": 304,
    "start_time": "2023-02-07T12:27:13.967Z"
   },
   {
    "duration": 31,
    "start_time": "2023-02-07T12:33:59.667Z"
   },
   {
    "duration": 32,
    "start_time": "2023-02-07T12:34:03.515Z"
   },
   {
    "duration": 33,
    "start_time": "2023-02-07T12:34:11.260Z"
   },
   {
    "duration": 33,
    "start_time": "2023-02-07T12:34:15.615Z"
   },
   {
    "duration": 33,
    "start_time": "2023-02-07T12:34:21.758Z"
   },
   {
    "duration": 15,
    "start_time": "2023-02-07T12:34:26.707Z"
   },
   {
    "duration": 203,
    "start_time": "2023-02-07T12:36:39.749Z"
   },
   {
    "duration": 254,
    "start_time": "2023-02-07T12:36:47.037Z"
   },
   {
    "duration": 986,
    "start_time": "2023-02-07T17:20:04.568Z"
   },
   {
    "duration": 256,
    "start_time": "2023-02-07T17:20:05.555Z"
   },
   {
    "duration": 5,
    "start_time": "2023-02-07T17:20:05.813Z"
   },
   {
    "duration": 28,
    "start_time": "2023-02-07T17:20:05.820Z"
   },
   {
    "duration": 12,
    "start_time": "2023-02-07T17:20:05.850Z"
   },
   {
    "duration": 14,
    "start_time": "2023-02-07T17:20:05.863Z"
   },
   {
    "duration": 17,
    "start_time": "2023-02-07T17:20:05.878Z"
   },
   {
    "duration": 21,
    "start_time": "2023-02-07T17:20:05.896Z"
   },
   {
    "duration": 300,
    "start_time": "2023-02-07T17:20:05.918Z"
   },
   {
    "duration": 241,
    "start_time": "2023-02-07T17:20:06.219Z"
   },
   {
    "duration": 164,
    "start_time": "2023-02-07T17:20:06.462Z"
   },
   {
    "duration": 270,
    "start_time": "2023-02-07T17:20:06.628Z"
   },
   {
    "duration": 172,
    "start_time": "2023-02-07T17:20:06.900Z"
   },
   {
    "duration": 246,
    "start_time": "2023-02-07T17:20:07.075Z"
   },
   {
    "duration": 130,
    "start_time": "2023-02-07T17:20:07.323Z"
   },
   {
    "duration": 5,
    "start_time": "2023-02-07T17:20:07.455Z"
   },
   {
    "duration": 141,
    "start_time": "2023-02-07T17:20:07.461Z"
   },
   {
    "duration": 4,
    "start_time": "2023-02-07T17:20:07.604Z"
   },
   {
    "duration": 142,
    "start_time": "2023-02-07T17:20:07.609Z"
   },
   {
    "duration": 12,
    "start_time": "2023-02-07T17:20:07.753Z"
   },
   {
    "duration": 29,
    "start_time": "2023-02-07T17:20:07.766Z"
   },
   {
    "duration": 11,
    "start_time": "2023-02-07T17:20:07.797Z"
   },
   {
    "duration": 67,
    "start_time": "2023-02-08T06:34:54.465Z"
   },
   {
    "duration": 47,
    "start_time": "2023-02-08T06:40:33.298Z"
   },
   {
    "duration": 1165,
    "start_time": "2023-02-08T06:42:46.431Z"
   },
   {
    "duration": 238,
    "start_time": "2023-02-08T06:42:47.597Z"
   },
   {
    "duration": 7,
    "start_time": "2023-02-08T06:42:47.837Z"
   },
   {
    "duration": 25,
    "start_time": "2023-02-08T06:42:47.846Z"
   },
   {
    "duration": 11,
    "start_time": "2023-02-08T06:42:47.872Z"
   },
   {
    "duration": 20,
    "start_time": "2023-02-08T06:42:47.884Z"
   },
   {
    "duration": 14,
    "start_time": "2023-02-08T06:42:47.905Z"
   },
   {
    "duration": 26,
    "start_time": "2023-02-08T06:42:47.921Z"
   },
   {
    "duration": 16,
    "start_time": "2023-02-08T06:42:47.948Z"
   },
   {
    "duration": 286,
    "start_time": "2023-02-08T06:42:47.967Z"
   },
   {
    "duration": 244,
    "start_time": "2023-02-08T06:42:48.254Z"
   },
   {
    "duration": 176,
    "start_time": "2023-02-08T06:42:48.499Z"
   },
   {
    "duration": 304,
    "start_time": "2023-02-08T06:42:48.676Z"
   },
   {
    "duration": 172,
    "start_time": "2023-02-08T06:42:48.981Z"
   },
   {
    "duration": 248,
    "start_time": "2023-02-08T06:42:49.154Z"
   },
   {
    "duration": 134,
    "start_time": "2023-02-08T06:42:49.404Z"
   },
   {
    "duration": 5,
    "start_time": "2023-02-08T06:42:49.539Z"
   },
   {
    "duration": 128,
    "start_time": "2023-02-08T06:42:49.545Z"
   },
   {
    "duration": 4,
    "start_time": "2023-02-08T06:42:49.675Z"
   },
   {
    "duration": 144,
    "start_time": "2023-02-08T06:42:49.680Z"
   },
   {
    "duration": 16,
    "start_time": "2023-02-08T06:42:49.825Z"
   },
   {
    "duration": 34,
    "start_time": "2023-02-08T06:42:49.842Z"
   },
   {
    "duration": 13,
    "start_time": "2023-02-08T06:42:49.877Z"
   },
   {
    "duration": 5,
    "start_time": "2023-02-08T06:43:11.130Z"
   },
   {
    "duration": 5,
    "start_time": "2023-02-08T06:43:35.437Z"
   },
   {
    "duration": 7,
    "start_time": "2023-02-08T06:43:43.569Z"
   },
   {
    "duration": 103,
    "start_time": "2023-02-08T06:44:13.776Z"
   },
   {
    "duration": 10,
    "start_time": "2023-02-08T06:44:33.962Z"
   },
   {
    "duration": 9,
    "start_time": "2023-02-08T06:45:28.497Z"
   },
   {
    "duration": 6,
    "start_time": "2023-02-08T06:45:31.296Z"
   },
   {
    "duration": 5,
    "start_time": "2023-02-08T06:45:39.517Z"
   },
   {
    "duration": 178,
    "start_time": "2023-02-08T06:46:18.452Z"
   },
   {
    "duration": 990,
    "start_time": "2023-02-08T06:46:54.494Z"
   },
   {
    "duration": 122,
    "start_time": "2023-02-08T06:46:55.486Z"
   },
   {
    "duration": 6,
    "start_time": "2023-02-08T06:46:55.610Z"
   },
   {
    "duration": 22,
    "start_time": "2023-02-08T06:46:55.619Z"
   },
   {
    "duration": 12,
    "start_time": "2023-02-08T06:46:55.643Z"
   },
   {
    "duration": 11,
    "start_time": "2023-02-08T06:46:55.657Z"
   },
   {
    "duration": 10,
    "start_time": "2023-02-08T06:46:55.670Z"
   },
   {
    "duration": 6,
    "start_time": "2023-02-08T06:46:55.682Z"
   },
   {
    "duration": 7,
    "start_time": "2023-02-08T06:46:55.690Z"
   },
   {
    "duration": 41,
    "start_time": "2023-02-08T06:46:55.699Z"
   },
   {
    "duration": 20,
    "start_time": "2023-02-08T06:46:55.742Z"
   },
   {
    "duration": 296,
    "start_time": "2023-02-08T06:46:55.763Z"
   },
   {
    "duration": 251,
    "start_time": "2023-02-08T06:46:56.061Z"
   },
   {
    "duration": 187,
    "start_time": "2023-02-08T06:46:56.313Z"
   },
   {
    "duration": 301,
    "start_time": "2023-02-08T06:46:56.501Z"
   },
   {
    "duration": 199,
    "start_time": "2023-02-08T06:46:56.803Z"
   },
   {
    "duration": 290,
    "start_time": "2023-02-08T06:46:57.003Z"
   },
   {
    "duration": 145,
    "start_time": "2023-02-08T06:46:57.295Z"
   },
   {
    "duration": 5,
    "start_time": "2023-02-08T06:46:57.441Z"
   },
   {
    "duration": 140,
    "start_time": "2023-02-08T06:46:57.448Z"
   },
   {
    "duration": 4,
    "start_time": "2023-02-08T06:46:57.590Z"
   },
   {
    "duration": 196,
    "start_time": "2023-02-08T06:46:57.596Z"
   },
   {
    "duration": 10,
    "start_time": "2023-02-08T06:46:57.794Z"
   },
   {
    "duration": 52,
    "start_time": "2023-02-08T06:46:57.806Z"
   },
   {
    "duration": 11,
    "start_time": "2023-02-08T06:46:57.860Z"
   },
   {
    "duration": 103,
    "start_time": "2023-02-08T06:48:20.584Z"
   },
   {
    "duration": 20,
    "start_time": "2023-02-08T06:48:32.259Z"
   },
   {
    "duration": 62,
    "start_time": "2023-02-08T06:49:18.025Z"
   },
   {
    "duration": 198,
    "start_time": "2023-02-08T06:51:30.014Z"
   },
   {
    "duration": 330,
    "start_time": "2023-02-08T06:51:46.008Z"
   },
   {
    "duration": 167,
    "start_time": "2023-02-08T06:51:57.645Z"
   },
   {
    "duration": 257,
    "start_time": "2023-02-08T06:55:21.564Z"
   },
   {
    "duration": 186,
    "start_time": "2023-02-08T06:55:36.114Z"
   },
   {
    "duration": 179,
    "start_time": "2023-02-08T06:55:50.124Z"
   },
   {
    "duration": 175,
    "start_time": "2023-02-08T06:55:55.682Z"
   },
   {
    "duration": 194,
    "start_time": "2023-02-08T06:56:34.774Z"
   },
   {
    "duration": 185,
    "start_time": "2023-02-08T06:56:37.356Z"
   },
   {
    "duration": 188,
    "start_time": "2023-02-08T06:56:43.653Z"
   },
   {
    "duration": 178,
    "start_time": "2023-02-08T06:56:58.105Z"
   },
   {
    "duration": 253,
    "start_time": "2023-02-08T06:58:03.867Z"
   },
   {
    "duration": 185,
    "start_time": "2023-02-08T06:58:45.264Z"
   },
   {
    "duration": 191,
    "start_time": "2023-02-08T06:58:49.551Z"
   },
   {
    "duration": 195,
    "start_time": "2023-02-08T06:58:56.192Z"
   },
   {
    "duration": 197,
    "start_time": "2023-02-08T06:59:06.823Z"
   },
   {
    "duration": 176,
    "start_time": "2023-02-08T06:59:17.830Z"
   },
   {
    "duration": 169,
    "start_time": "2023-02-08T06:59:29.120Z"
   },
   {
    "duration": 289,
    "start_time": "2023-02-08T06:59:32.804Z"
   },
   {
    "duration": 189,
    "start_time": "2023-02-08T06:59:38.508Z"
   },
   {
    "duration": 190,
    "start_time": "2023-02-08T06:59:43.547Z"
   },
   {
    "duration": 200,
    "start_time": "2023-02-08T07:00:48.054Z"
   },
   {
    "duration": 1017,
    "start_time": "2023-02-08T07:01:00.750Z"
   },
   {
    "duration": 113,
    "start_time": "2023-02-08T07:01:01.769Z"
   },
   {
    "duration": 6,
    "start_time": "2023-02-08T07:01:01.884Z"
   },
   {
    "duration": 54,
    "start_time": "2023-02-08T07:01:01.892Z"
   },
   {
    "duration": 14,
    "start_time": "2023-02-08T07:01:01.949Z"
   },
   {
    "duration": 16,
    "start_time": "2023-02-08T07:01:01.965Z"
   },
   {
    "duration": 20,
    "start_time": "2023-02-08T07:01:01.983Z"
   },
   {
    "duration": 23,
    "start_time": "2023-02-08T07:01:02.004Z"
   },
   {
    "duration": 13,
    "start_time": "2023-02-08T07:01:02.028Z"
   },
   {
    "duration": 20,
    "start_time": "2023-02-08T07:01:02.042Z"
   },
   {
    "duration": 35,
    "start_time": "2023-02-08T07:01:02.064Z"
   },
   {
    "duration": 302,
    "start_time": "2023-02-08T07:01:02.101Z"
   },
   {
    "duration": 317,
    "start_time": "2023-02-08T07:01:02.405Z"
   },
   {
    "duration": 214,
    "start_time": "2023-02-08T07:01:02.724Z"
   },
   {
    "duration": 301,
    "start_time": "2023-02-08T07:01:02.939Z"
   },
   {
    "duration": 206,
    "start_time": "2023-02-08T07:01:03.242Z"
   },
   {
    "duration": 275,
    "start_time": "2023-02-08T07:01:03.449Z"
   },
   {
    "duration": 165,
    "start_time": "2023-02-08T07:01:03.726Z"
   },
   {
    "duration": 5,
    "start_time": "2023-02-08T07:01:03.893Z"
   },
   {
    "duration": 156,
    "start_time": "2023-02-08T07:01:03.899Z"
   },
   {
    "duration": 6,
    "start_time": "2023-02-08T07:01:04.056Z"
   },
   {
    "duration": 156,
    "start_time": "2023-02-08T07:01:04.063Z"
   },
   {
    "duration": 20,
    "start_time": "2023-02-08T07:01:04.221Z"
   },
   {
    "duration": 43,
    "start_time": "2023-02-08T07:01:04.243Z"
   },
   {
    "duration": 14,
    "start_time": "2023-02-08T07:01:04.287Z"
   },
   {
    "duration": 319,
    "start_time": "2023-02-08T07:02:08.122Z"
   },
   {
    "duration": 274,
    "start_time": "2023-02-08T07:02:14.966Z"
   },
   {
    "duration": 300,
    "start_time": "2023-02-08T07:03:34.102Z"
   },
   {
    "duration": 161,
    "start_time": "2023-02-08T07:09:18.942Z"
   },
   {
    "duration": 147,
    "start_time": "2023-02-08T07:09:39.822Z"
   },
   {
    "duration": 157,
    "start_time": "2023-02-08T07:10:37.913Z"
   },
   {
    "duration": 146,
    "start_time": "2023-02-08T07:10:46.574Z"
   },
   {
    "duration": 156,
    "start_time": "2023-02-08T07:10:52.541Z"
   },
   {
    "duration": 157,
    "start_time": "2023-02-08T07:11:00.049Z"
   },
   {
    "duration": 163,
    "start_time": "2023-02-08T07:13:52.900Z"
   },
   {
    "duration": 81,
    "start_time": "2023-02-08T07:15:22.449Z"
   },
   {
    "duration": 165,
    "start_time": "2023-02-08T07:18:25.027Z"
   },
   {
    "duration": 151,
    "start_time": "2023-02-08T07:19:57.801Z"
   },
   {
    "duration": 12,
    "start_time": "2023-02-08T07:20:01.236Z"
   },
   {
    "duration": 34,
    "start_time": "2023-02-08T07:20:55.016Z"
   },
   {
    "duration": 46,
    "start_time": "2023-02-08T07:23:49.107Z"
   },
   {
    "duration": 15,
    "start_time": "2023-02-08T07:24:33.483Z"
   },
   {
    "duration": 1052,
    "start_time": "2023-02-08T13:01:36.730Z"
   },
   {
    "duration": 250,
    "start_time": "2023-02-08T13:01:37.784Z"
   },
   {
    "duration": 6,
    "start_time": "2023-02-08T13:01:38.035Z"
   },
   {
    "duration": 30,
    "start_time": "2023-02-08T13:01:38.043Z"
   },
   {
    "duration": 11,
    "start_time": "2023-02-08T13:01:38.075Z"
   },
   {
    "duration": 14,
    "start_time": "2023-02-08T13:01:38.088Z"
   },
   {
    "duration": 13,
    "start_time": "2023-02-08T13:01:38.104Z"
   },
   {
    "duration": 6,
    "start_time": "2023-02-08T13:01:38.126Z"
   },
   {
    "duration": 7,
    "start_time": "2023-02-08T13:01:38.133Z"
   },
   {
    "duration": 16,
    "start_time": "2023-02-08T13:01:38.142Z"
   },
   {
    "duration": 14,
    "start_time": "2023-02-08T13:01:38.160Z"
   },
   {
    "duration": 304,
    "start_time": "2023-02-08T13:01:38.176Z"
   },
   {
    "duration": 279,
    "start_time": "2023-02-08T13:01:38.481Z"
   },
   {
    "duration": 219,
    "start_time": "2023-02-08T13:01:38.762Z"
   },
   {
    "duration": 291,
    "start_time": "2023-02-08T13:01:38.983Z"
   },
   {
    "duration": 226,
    "start_time": "2023-02-08T13:01:39.275Z"
   },
   {
    "duration": 351,
    "start_time": "2023-02-08T13:01:39.503Z"
   },
   {
    "duration": 181,
    "start_time": "2023-02-08T13:01:39.855Z"
   },
   {
    "duration": 5,
    "start_time": "2023-02-08T13:01:40.037Z"
   },
   {
    "duration": 170,
    "start_time": "2023-02-08T13:01:40.044Z"
   },
   {
    "duration": 181,
    "start_time": "2023-02-08T13:01:40.215Z"
   },
   {
    "duration": 6,
    "start_time": "2023-02-08T13:01:40.397Z"
   },
   {
    "duration": 214,
    "start_time": "2023-02-08T13:01:40.404Z"
   },
   {
    "duration": 19,
    "start_time": "2023-02-08T13:01:40.621Z"
   },
   {
    "duration": 41,
    "start_time": "2023-02-08T13:01:40.642Z"
   },
   {
    "duration": 23,
    "start_time": "2023-02-08T13:01:40.686Z"
   },
   {
    "duration": 48,
    "start_time": "2023-02-14T10:03:00.526Z"
   },
   {
    "duration": 1129,
    "start_time": "2023-02-14T10:03:06.415Z"
   },
   {
    "duration": 298,
    "start_time": "2023-02-14T10:03:07.546Z"
   },
   {
    "duration": 6,
    "start_time": "2023-02-14T10:03:07.845Z"
   },
   {
    "duration": 28,
    "start_time": "2023-02-14T10:03:07.853Z"
   },
   {
    "duration": 12,
    "start_time": "2023-02-14T10:03:07.884Z"
   },
   {
    "duration": 17,
    "start_time": "2023-02-14T10:03:07.898Z"
   },
   {
    "duration": 11,
    "start_time": "2023-02-14T10:03:07.917Z"
   },
   {
    "duration": 6,
    "start_time": "2023-02-14T10:03:07.930Z"
   },
   {
    "duration": 32,
    "start_time": "2023-02-14T10:03:07.938Z"
   },
   {
    "duration": 17,
    "start_time": "2023-02-14T10:03:07.972Z"
   },
   {
    "duration": 21,
    "start_time": "2023-02-14T10:03:07.991Z"
   },
   {
    "duration": 326,
    "start_time": "2023-02-14T10:03:08.014Z"
   },
   {
    "duration": 285,
    "start_time": "2023-02-14T10:03:08.341Z"
   },
   {
    "duration": 216,
    "start_time": "2023-02-14T10:03:08.629Z"
   },
   {
    "duration": 324,
    "start_time": "2023-02-14T10:03:08.847Z"
   },
   {
    "duration": 222,
    "start_time": "2023-02-14T10:03:09.173Z"
   },
   {
    "duration": 286,
    "start_time": "2023-02-14T10:03:09.396Z"
   },
   {
    "duration": 168,
    "start_time": "2023-02-14T10:03:09.684Z"
   },
   {
    "duration": 4,
    "start_time": "2023-02-14T10:03:09.854Z"
   },
   {
    "duration": 149,
    "start_time": "2023-02-14T10:03:09.867Z"
   },
   {
    "duration": 173,
    "start_time": "2023-02-14T10:03:10.017Z"
   },
   {
    "duration": 5,
    "start_time": "2023-02-14T10:03:10.191Z"
   },
   {
    "duration": 174,
    "start_time": "2023-02-14T10:03:10.198Z"
   },
   {
    "duration": 5,
    "start_time": "2023-02-14T10:03:10.374Z"
   },
   {
    "duration": 87,
    "start_time": "2023-02-14T10:03:10.381Z"
   },
   {
    "duration": 36,
    "start_time": "2023-02-14T10:03:10.469Z"
   },
   {
    "duration": 14,
    "start_time": "2023-02-14T10:03:10.507Z"
   }
  ],
  "kernelspec": {
   "display_name": "Python 3 (ipykernel)",
   "language": "python",
   "name": "python3"
  },
  "language_info": {
   "codemirror_mode": {
    "name": "ipython",
    "version": 3
   },
   "file_extension": ".py",
   "mimetype": "text/x-python",
   "name": "python",
   "nbconvert_exporter": "python",
   "pygments_lexer": "ipython3",
   "version": "3.9.13"
  },
  "toc": {
   "base_numbering": 1,
   "nav_menu": {},
   "number_sections": true,
   "sideBar": true,
   "skip_h1_title": true,
   "title_cell": "Table of Contents",
   "title_sidebar": "Contents",
   "toc_cell": false,
   "toc_position": {},
   "toc_section_display": true,
   "toc_window_display": false
  }
 },
 "nbformat": 4,
 "nbformat_minor": 2
}
