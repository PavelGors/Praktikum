{
 "cells": [
  {
   "cell_type": "markdown",
   "id": "fe9733ff",
   "metadata": {
    "deletable": false,
    "editable": false,
    "id": "c81daeeb"
   },
   "source": [
    "# Исследование надежности заемщиков\n"
   ]
  },
  {
   "cell_type": "markdown",
   "id": "3d57804d",
   "metadata": {
    "deletable": false,
    "editable": false,
    "id": "827c20bf"
   },
   "source": [
    "Во второй части проекта вы выполните шаги 3 и 4. Их вручную проверит ревьюер.\n",
    "Чтобы вам не пришлось писать код заново для шагов 1 и 2, мы добавили авторские решения в ячейки с кодом. \n",
    "\n"
   ]
  },
  {
   "cell_type": "markdown",
   "id": "94c7ef1f",
   "metadata": {
    "deletable": false,
    "editable": false,
    "id": "744d7639"
   },
   "source": [
    "## Откройте таблицу и изучите общую информацию о данных"
   ]
  },
  {
   "cell_type": "markdown",
   "id": "e988202a",
   "metadata": {
    "deletable": false,
    "editable": false,
    "id": "e7a14c31"
   },
   "source": [
    "**Задание 1. Импортируйте библиотеку pandas. Считайте данные из csv-файла в датафрейм и сохраните в переменную `data`. Путь к файлу:**\n",
    "\n",
    "`/datasets/data.csv`"
   ]
  },
  {
   "cell_type": "code",
   "execution_count": 1,
   "id": "b6699e4e",
   "metadata": {
    "deletable": false,
    "id": "7bcf75c9"
   },
   "outputs": [],
   "source": [
    "import pandas as pd\n",
    "\n",
    "try:\n",
    "    data = pd.read_csv('/datasets/data.csv')\n",
    "except:\n",
    "    data = pd.read_csv('https://code.s3.yandex.net/datasets/data.csv')"
   ]
  },
  {
   "cell_type": "markdown",
   "id": "744df899",
   "metadata": {
    "deletable": false,
    "editable": false,
    "id": "b8038fe3"
   },
   "source": [
    "**Задание 2. Выведите первые 20 строчек датафрейма `data` на экран.**"
   ]
  },
  {
   "cell_type": "code",
   "execution_count": 2,
   "id": "4b589df1",
   "metadata": {
    "deletable": false,
    "id": "2a7cab99",
    "outputId": "1a8f3ef2-d323-4ec2-ddf7-89670b5944c4"
   },
   "outputs": [
    {
     "data": {
      "text/html": [
       "<div>\n",
       "<style scoped>\n",
       "    .dataframe tbody tr th:only-of-type {\n",
       "        vertical-align: middle;\n",
       "    }\n",
       "\n",
       "    .dataframe tbody tr th {\n",
       "        vertical-align: top;\n",
       "    }\n",
       "\n",
       "    .dataframe thead th {\n",
       "        text-align: right;\n",
       "    }\n",
       "</style>\n",
       "<table border=\"1\" class=\"dataframe\">\n",
       "  <thead>\n",
       "    <tr style=\"text-align: right;\">\n",
       "      <th></th>\n",
       "      <th>children</th>\n",
       "      <th>days_employed</th>\n",
       "      <th>dob_years</th>\n",
       "      <th>education</th>\n",
       "      <th>education_id</th>\n",
       "      <th>family_status</th>\n",
       "      <th>family_status_id</th>\n",
       "      <th>gender</th>\n",
       "      <th>income_type</th>\n",
       "      <th>debt</th>\n",
       "      <th>total_income</th>\n",
       "      <th>purpose</th>\n",
       "    </tr>\n",
       "  </thead>\n",
       "  <tbody>\n",
       "    <tr>\n",
       "      <th>0</th>\n",
       "      <td>1</td>\n",
       "      <td>-8437.673028</td>\n",
       "      <td>42</td>\n",
       "      <td>высшее</td>\n",
       "      <td>0</td>\n",
       "      <td>женат / замужем</td>\n",
       "      <td>0</td>\n",
       "      <td>F</td>\n",
       "      <td>сотрудник</td>\n",
       "      <td>0</td>\n",
       "      <td>253875.639453</td>\n",
       "      <td>покупка жилья</td>\n",
       "    </tr>\n",
       "    <tr>\n",
       "      <th>1</th>\n",
       "      <td>1</td>\n",
       "      <td>-4024.803754</td>\n",
       "      <td>36</td>\n",
       "      <td>среднее</td>\n",
       "      <td>1</td>\n",
       "      <td>женат / замужем</td>\n",
       "      <td>0</td>\n",
       "      <td>F</td>\n",
       "      <td>сотрудник</td>\n",
       "      <td>0</td>\n",
       "      <td>112080.014102</td>\n",
       "      <td>приобретение автомобиля</td>\n",
       "    </tr>\n",
       "    <tr>\n",
       "      <th>2</th>\n",
       "      <td>0</td>\n",
       "      <td>-5623.422610</td>\n",
       "      <td>33</td>\n",
       "      <td>Среднее</td>\n",
       "      <td>1</td>\n",
       "      <td>женат / замужем</td>\n",
       "      <td>0</td>\n",
       "      <td>M</td>\n",
       "      <td>сотрудник</td>\n",
       "      <td>0</td>\n",
       "      <td>145885.952297</td>\n",
       "      <td>покупка жилья</td>\n",
       "    </tr>\n",
       "    <tr>\n",
       "      <th>3</th>\n",
       "      <td>3</td>\n",
       "      <td>-4124.747207</td>\n",
       "      <td>32</td>\n",
       "      <td>среднее</td>\n",
       "      <td>1</td>\n",
       "      <td>женат / замужем</td>\n",
       "      <td>0</td>\n",
       "      <td>M</td>\n",
       "      <td>сотрудник</td>\n",
       "      <td>0</td>\n",
       "      <td>267628.550329</td>\n",
       "      <td>дополнительное образование</td>\n",
       "    </tr>\n",
       "    <tr>\n",
       "      <th>4</th>\n",
       "      <td>0</td>\n",
       "      <td>340266.072047</td>\n",
       "      <td>53</td>\n",
       "      <td>среднее</td>\n",
       "      <td>1</td>\n",
       "      <td>гражданский брак</td>\n",
       "      <td>1</td>\n",
       "      <td>F</td>\n",
       "      <td>пенсионер</td>\n",
       "      <td>0</td>\n",
       "      <td>158616.077870</td>\n",
       "      <td>сыграть свадьбу</td>\n",
       "    </tr>\n",
       "    <tr>\n",
       "      <th>5</th>\n",
       "      <td>0</td>\n",
       "      <td>-926.185831</td>\n",
       "      <td>27</td>\n",
       "      <td>высшее</td>\n",
       "      <td>0</td>\n",
       "      <td>гражданский брак</td>\n",
       "      <td>1</td>\n",
       "      <td>M</td>\n",
       "      <td>компаньон</td>\n",
       "      <td>0</td>\n",
       "      <td>255763.565419</td>\n",
       "      <td>покупка жилья</td>\n",
       "    </tr>\n",
       "    <tr>\n",
       "      <th>6</th>\n",
       "      <td>0</td>\n",
       "      <td>-2879.202052</td>\n",
       "      <td>43</td>\n",
       "      <td>высшее</td>\n",
       "      <td>0</td>\n",
       "      <td>женат / замужем</td>\n",
       "      <td>0</td>\n",
       "      <td>F</td>\n",
       "      <td>компаньон</td>\n",
       "      <td>0</td>\n",
       "      <td>240525.971920</td>\n",
       "      <td>операции с жильем</td>\n",
       "    </tr>\n",
       "    <tr>\n",
       "      <th>7</th>\n",
       "      <td>0</td>\n",
       "      <td>-152.779569</td>\n",
       "      <td>50</td>\n",
       "      <td>СРЕДНЕЕ</td>\n",
       "      <td>1</td>\n",
       "      <td>женат / замужем</td>\n",
       "      <td>0</td>\n",
       "      <td>M</td>\n",
       "      <td>сотрудник</td>\n",
       "      <td>0</td>\n",
       "      <td>135823.934197</td>\n",
       "      <td>образование</td>\n",
       "    </tr>\n",
       "    <tr>\n",
       "      <th>8</th>\n",
       "      <td>2</td>\n",
       "      <td>-6929.865299</td>\n",
       "      <td>35</td>\n",
       "      <td>ВЫСШЕЕ</td>\n",
       "      <td>0</td>\n",
       "      <td>гражданский брак</td>\n",
       "      <td>1</td>\n",
       "      <td>F</td>\n",
       "      <td>сотрудник</td>\n",
       "      <td>0</td>\n",
       "      <td>95856.832424</td>\n",
       "      <td>на проведение свадьбы</td>\n",
       "    </tr>\n",
       "    <tr>\n",
       "      <th>9</th>\n",
       "      <td>0</td>\n",
       "      <td>-2188.756445</td>\n",
       "      <td>41</td>\n",
       "      <td>среднее</td>\n",
       "      <td>1</td>\n",
       "      <td>женат / замужем</td>\n",
       "      <td>0</td>\n",
       "      <td>M</td>\n",
       "      <td>сотрудник</td>\n",
       "      <td>0</td>\n",
       "      <td>144425.938277</td>\n",
       "      <td>покупка жилья для семьи</td>\n",
       "    </tr>\n",
       "    <tr>\n",
       "      <th>10</th>\n",
       "      <td>2</td>\n",
       "      <td>-4171.483647</td>\n",
       "      <td>36</td>\n",
       "      <td>высшее</td>\n",
       "      <td>0</td>\n",
       "      <td>женат / замужем</td>\n",
       "      <td>0</td>\n",
       "      <td>M</td>\n",
       "      <td>компаньон</td>\n",
       "      <td>0</td>\n",
       "      <td>113943.491460</td>\n",
       "      <td>покупка недвижимости</td>\n",
       "    </tr>\n",
       "    <tr>\n",
       "      <th>11</th>\n",
       "      <td>0</td>\n",
       "      <td>-792.701887</td>\n",
       "      <td>40</td>\n",
       "      <td>среднее</td>\n",
       "      <td>1</td>\n",
       "      <td>женат / замужем</td>\n",
       "      <td>0</td>\n",
       "      <td>F</td>\n",
       "      <td>сотрудник</td>\n",
       "      <td>0</td>\n",
       "      <td>77069.234271</td>\n",
       "      <td>покупка коммерческой недвижимости</td>\n",
       "    </tr>\n",
       "    <tr>\n",
       "      <th>12</th>\n",
       "      <td>0</td>\n",
       "      <td>NaN</td>\n",
       "      <td>65</td>\n",
       "      <td>среднее</td>\n",
       "      <td>1</td>\n",
       "      <td>гражданский брак</td>\n",
       "      <td>1</td>\n",
       "      <td>M</td>\n",
       "      <td>пенсионер</td>\n",
       "      <td>0</td>\n",
       "      <td>NaN</td>\n",
       "      <td>сыграть свадьбу</td>\n",
       "    </tr>\n",
       "    <tr>\n",
       "      <th>13</th>\n",
       "      <td>0</td>\n",
       "      <td>-1846.641941</td>\n",
       "      <td>54</td>\n",
       "      <td>неоконченное высшее</td>\n",
       "      <td>2</td>\n",
       "      <td>женат / замужем</td>\n",
       "      <td>0</td>\n",
       "      <td>F</td>\n",
       "      <td>сотрудник</td>\n",
       "      <td>0</td>\n",
       "      <td>130458.228857</td>\n",
       "      <td>приобретение автомобиля</td>\n",
       "    </tr>\n",
       "    <tr>\n",
       "      <th>14</th>\n",
       "      <td>0</td>\n",
       "      <td>-1844.956182</td>\n",
       "      <td>56</td>\n",
       "      <td>высшее</td>\n",
       "      <td>0</td>\n",
       "      <td>гражданский брак</td>\n",
       "      <td>1</td>\n",
       "      <td>F</td>\n",
       "      <td>компаньон</td>\n",
       "      <td>1</td>\n",
       "      <td>165127.911772</td>\n",
       "      <td>покупка жилой недвижимости</td>\n",
       "    </tr>\n",
       "    <tr>\n",
       "      <th>15</th>\n",
       "      <td>1</td>\n",
       "      <td>-972.364419</td>\n",
       "      <td>26</td>\n",
       "      <td>среднее</td>\n",
       "      <td>1</td>\n",
       "      <td>женат / замужем</td>\n",
       "      <td>0</td>\n",
       "      <td>F</td>\n",
       "      <td>сотрудник</td>\n",
       "      <td>0</td>\n",
       "      <td>116820.904450</td>\n",
       "      <td>строительство собственной недвижимости</td>\n",
       "    </tr>\n",
       "    <tr>\n",
       "      <th>16</th>\n",
       "      <td>0</td>\n",
       "      <td>-1719.934226</td>\n",
       "      <td>35</td>\n",
       "      <td>среднее</td>\n",
       "      <td>1</td>\n",
       "      <td>женат / замужем</td>\n",
       "      <td>0</td>\n",
       "      <td>F</td>\n",
       "      <td>сотрудник</td>\n",
       "      <td>0</td>\n",
       "      <td>289202.704229</td>\n",
       "      <td>недвижимость</td>\n",
       "    </tr>\n",
       "    <tr>\n",
       "      <th>17</th>\n",
       "      <td>0</td>\n",
       "      <td>-2369.999720</td>\n",
       "      <td>33</td>\n",
       "      <td>высшее</td>\n",
       "      <td>0</td>\n",
       "      <td>гражданский брак</td>\n",
       "      <td>1</td>\n",
       "      <td>M</td>\n",
       "      <td>сотрудник</td>\n",
       "      <td>0</td>\n",
       "      <td>90410.586745</td>\n",
       "      <td>строительство недвижимости</td>\n",
       "    </tr>\n",
       "    <tr>\n",
       "      <th>18</th>\n",
       "      <td>0</td>\n",
       "      <td>400281.136913</td>\n",
       "      <td>53</td>\n",
       "      <td>среднее</td>\n",
       "      <td>1</td>\n",
       "      <td>вдовец / вдова</td>\n",
       "      <td>2</td>\n",
       "      <td>F</td>\n",
       "      <td>пенсионер</td>\n",
       "      <td>0</td>\n",
       "      <td>56823.777243</td>\n",
       "      <td>на покупку подержанного автомобиля</td>\n",
       "    </tr>\n",
       "    <tr>\n",
       "      <th>19</th>\n",
       "      <td>0</td>\n",
       "      <td>-10038.818549</td>\n",
       "      <td>48</td>\n",
       "      <td>СРЕДНЕЕ</td>\n",
       "      <td>1</td>\n",
       "      <td>в разводе</td>\n",
       "      <td>3</td>\n",
       "      <td>F</td>\n",
       "      <td>сотрудник</td>\n",
       "      <td>0</td>\n",
       "      <td>242831.107982</td>\n",
       "      <td>на покупку своего автомобиля</td>\n",
       "    </tr>\n",
       "  </tbody>\n",
       "</table>\n",
       "</div>"
      ],
      "text/plain": [
       "    children  days_employed  dob_years            education  education_id  \\\n",
       "0          1   -8437.673028         42               высшее             0   \n",
       "1          1   -4024.803754         36              среднее             1   \n",
       "2          0   -5623.422610         33              Среднее             1   \n",
       "3          3   -4124.747207         32              среднее             1   \n",
       "4          0  340266.072047         53              среднее             1   \n",
       "5          0    -926.185831         27               высшее             0   \n",
       "6          0   -2879.202052         43               высшее             0   \n",
       "7          0    -152.779569         50              СРЕДНЕЕ             1   \n",
       "8          2   -6929.865299         35               ВЫСШЕЕ             0   \n",
       "9          0   -2188.756445         41              среднее             1   \n",
       "10         2   -4171.483647         36               высшее             0   \n",
       "11         0    -792.701887         40              среднее             1   \n",
       "12         0            NaN         65              среднее             1   \n",
       "13         0   -1846.641941         54  неоконченное высшее             2   \n",
       "14         0   -1844.956182         56               высшее             0   \n",
       "15         1    -972.364419         26              среднее             1   \n",
       "16         0   -1719.934226         35              среднее             1   \n",
       "17         0   -2369.999720         33               высшее             0   \n",
       "18         0  400281.136913         53              среднее             1   \n",
       "19         0  -10038.818549         48              СРЕДНЕЕ             1   \n",
       "\n",
       "       family_status  family_status_id gender income_type  debt  \\\n",
       "0    женат / замужем                 0      F   сотрудник     0   \n",
       "1    женат / замужем                 0      F   сотрудник     0   \n",
       "2    женат / замужем                 0      M   сотрудник     0   \n",
       "3    женат / замужем                 0      M   сотрудник     0   \n",
       "4   гражданский брак                 1      F   пенсионер     0   \n",
       "5   гражданский брак                 1      M   компаньон     0   \n",
       "6    женат / замужем                 0      F   компаньон     0   \n",
       "7    женат / замужем                 0      M   сотрудник     0   \n",
       "8   гражданский брак                 1      F   сотрудник     0   \n",
       "9    женат / замужем                 0      M   сотрудник     0   \n",
       "10   женат / замужем                 0      M   компаньон     0   \n",
       "11   женат / замужем                 0      F   сотрудник     0   \n",
       "12  гражданский брак                 1      M   пенсионер     0   \n",
       "13   женат / замужем                 0      F   сотрудник     0   \n",
       "14  гражданский брак                 1      F   компаньон     1   \n",
       "15   женат / замужем                 0      F   сотрудник     0   \n",
       "16   женат / замужем                 0      F   сотрудник     0   \n",
       "17  гражданский брак                 1      M   сотрудник     0   \n",
       "18    вдовец / вдова                 2      F   пенсионер     0   \n",
       "19         в разводе                 3      F   сотрудник     0   \n",
       "\n",
       "     total_income                                 purpose  \n",
       "0   253875.639453                           покупка жилья  \n",
       "1   112080.014102                 приобретение автомобиля  \n",
       "2   145885.952297                           покупка жилья  \n",
       "3   267628.550329              дополнительное образование  \n",
       "4   158616.077870                         сыграть свадьбу  \n",
       "5   255763.565419                           покупка жилья  \n",
       "6   240525.971920                       операции с жильем  \n",
       "7   135823.934197                             образование  \n",
       "8    95856.832424                   на проведение свадьбы  \n",
       "9   144425.938277                 покупка жилья для семьи  \n",
       "10  113943.491460                    покупка недвижимости  \n",
       "11   77069.234271       покупка коммерческой недвижимости  \n",
       "12            NaN                         сыграть свадьбу  \n",
       "13  130458.228857                 приобретение автомобиля  \n",
       "14  165127.911772              покупка жилой недвижимости  \n",
       "15  116820.904450  строительство собственной недвижимости  \n",
       "16  289202.704229                            недвижимость  \n",
       "17   90410.586745              строительство недвижимости  \n",
       "18   56823.777243      на покупку подержанного автомобиля  \n",
       "19  242831.107982            на покупку своего автомобиля  "
      ]
     },
     "execution_count": 2,
     "metadata": {},
     "output_type": "execute_result"
    }
   ],
   "source": [
    "data.head(20)"
   ]
  },
  {
   "cell_type": "markdown",
   "id": "1a6b7dd7",
   "metadata": {
    "deletable": false,
    "editable": false,
    "id": "1c12e233"
   },
   "source": [
    "**Задание 3. Выведите основную информацию о датафрейме с помощью метода `info()`.**"
   ]
  },
  {
   "cell_type": "code",
   "execution_count": 3,
   "id": "b16cde06",
   "metadata": {
    "deletable": false,
    "id": "2b757bca",
    "outputId": "15376089-8dad-46c9-b520-c05248d43158"
   },
   "outputs": [
    {
     "name": "stdout",
     "output_type": "stream",
     "text": [
      "<class 'pandas.core.frame.DataFrame'>\n",
      "RangeIndex: 21525 entries, 0 to 21524\n",
      "Data columns (total 12 columns):\n",
      " #   Column            Non-Null Count  Dtype  \n",
      "---  ------            --------------  -----  \n",
      " 0   children          21525 non-null  int64  \n",
      " 1   days_employed     19351 non-null  float64\n",
      " 2   dob_years         21525 non-null  int64  \n",
      " 3   education         21525 non-null  object \n",
      " 4   education_id      21525 non-null  int64  \n",
      " 5   family_status     21525 non-null  object \n",
      " 6   family_status_id  21525 non-null  int64  \n",
      " 7   gender            21525 non-null  object \n",
      " 8   income_type       21525 non-null  object \n",
      " 9   debt              21525 non-null  int64  \n",
      " 10  total_income      19351 non-null  float64\n",
      " 11  purpose           21525 non-null  object \n",
      "dtypes: float64(2), int64(5), object(5)\n",
      "memory usage: 2.0+ MB\n"
     ]
    }
   ],
   "source": [
    "data.info()"
   ]
  },
  {
   "cell_type": "markdown",
   "id": "396cc411",
   "metadata": {
    "deletable": false,
    "editable": false,
    "id": "333ec665"
   },
   "source": [
    "## Предобработка данных"
   ]
  },
  {
   "cell_type": "markdown",
   "id": "6ecc86e1",
   "metadata": {
    "deletable": false,
    "editable": false,
    "id": "02d92d53"
   },
   "source": [
    "### Удаление пропусков"
   ]
  },
  {
   "cell_type": "markdown",
   "id": "c7bea72d",
   "metadata": {
    "deletable": false,
    "editable": false,
    "id": "cd84967c"
   },
   "source": [
    "**Задание 4. Выведите количество пропущенных значений для каждого столбца. Используйте комбинацию двух методов.**"
   ]
  },
  {
   "cell_type": "code",
   "execution_count": 4,
   "id": "8b351951",
   "metadata": {
    "deletable": false,
    "id": "7f9b2309",
    "outputId": "81f4d817-781c-465c-ed15-91ce4446810d"
   },
   "outputs": [
    {
     "data": {
      "text/plain": [
       "children               0\n",
       "days_employed       2174\n",
       "dob_years              0\n",
       "education              0\n",
       "education_id           0\n",
       "family_status          0\n",
       "family_status_id       0\n",
       "gender                 0\n",
       "income_type            0\n",
       "debt                   0\n",
       "total_income        2174\n",
       "purpose                0\n",
       "dtype: int64"
      ]
     },
     "execution_count": 4,
     "metadata": {},
     "output_type": "execute_result"
    }
   ],
   "source": [
    "data.isna().sum()"
   ]
  },
  {
   "cell_type": "markdown",
   "id": "44ff0dfd",
   "metadata": {
    "deletable": false,
    "editable": false,
    "id": "db86e27b"
   },
   "source": [
    "**Задание 5. В двух столбцах есть пропущенные значения. Один из них — `days_employed`. Пропуски в этом столбце вы обработаете на следующем этапе. Другой столбец с пропущенными значениями — `total_income` — хранит данные о доходах. На сумму дохода сильнее всего влияет тип занятости, поэтому заполнить пропуски в этом столбце нужно медианным значением по каждому типу из столбца `income_type`. Например, у человека с типом занятости `сотрудник` пропуск в столбце `total_income` должен быть заполнен медианным доходом среди всех записей с тем же типом.**"
   ]
  },
  {
   "cell_type": "code",
   "execution_count": 5,
   "id": "9b751107",
   "metadata": {
    "deletable": false,
    "id": "42006a93"
   },
   "outputs": [],
   "source": [
    "for t in data['income_type'].unique():\n",
    "    data.loc[(data['income_type'] == t) & (data['total_income'].isna()), 'total_income'] = \\\n",
    "    data.loc[(data['income_type'] == t), 'total_income'].median()"
   ]
  },
  {
   "cell_type": "markdown",
   "id": "cc8fdc6b",
   "metadata": {
    "deletable": false,
    "editable": false,
    "id": "89da5ece"
   },
   "source": [
    "### Обработка аномальных значений"
   ]
  },
  {
   "cell_type": "markdown",
   "id": "c15078a9",
   "metadata": {
    "deletable": false,
    "editable": false,
    "id": "57964554"
   },
   "source": [
    "**Задание 6. В данных могут встречаться артефакты (аномалии) — значения, которые не отражают действительность и появились по какой-то ошибке. таким артефактом будет отрицательное количество дней трудового стажа в столбце `days_employed`. Для реальных данных это нормально. Обработайте значения в этом столбце: замените все отрицательные значения положительными с помощью метода `abs()`.**"
   ]
  },
  {
   "cell_type": "code",
   "execution_count": 6,
   "id": "62c59a14",
   "metadata": {
    "deletable": false,
    "id": "f6f055bf"
   },
   "outputs": [],
   "source": [
    "data['days_employed'] = data['days_employed'].abs()"
   ]
  },
  {
   "cell_type": "markdown",
   "id": "201af789",
   "metadata": {
    "deletable": false,
    "editable": false,
    "id": "6107dd2f"
   },
   "source": [
    "**Задание 7. Для каждого типа занятости выведите медианное значение трудового стажа `days_employed` в днях.**"
   ]
  },
  {
   "cell_type": "code",
   "execution_count": 7,
   "id": "30db9be0",
   "metadata": {
    "deletable": false,
    "id": "85a5faf6",
    "outputId": "801ef80e-522b-4668-f34e-565af7432bcf"
   },
   "outputs": [
    {
     "data": {
      "text/plain": [
       "income_type\n",
       "безработный        366413.652744\n",
       "в декрете            3296.759962\n",
       "госслужащий          2689.368353\n",
       "компаньон            1547.382223\n",
       "пенсионер          365213.306266\n",
       "предприниматель       520.848083\n",
       "сотрудник            1574.202821\n",
       "студент               578.751554\n",
       "Name: days_employed, dtype: float64"
      ]
     },
     "execution_count": 7,
     "metadata": {},
     "output_type": "execute_result"
    }
   ],
   "source": [
    "data.groupby('income_type')['days_employed'].agg('median')"
   ]
  },
  {
   "cell_type": "markdown",
   "id": "8a0767f3",
   "metadata": {
    "deletable": false,
    "editable": false,
    "id": "38d1a030"
   },
   "source": [
    "У двух типов (безработные и пенсионеры) получатся аномально большие значения. Исправить такие значения сложно, поэтому оставьте их как есть. Тем более этот столбец не понадобится вам для исследования."
   ]
  },
  {
   "cell_type": "markdown",
   "id": "65e4d1ea",
   "metadata": {
    "deletable": false,
    "editable": false,
    "id": "d8a9f147"
   },
   "source": [
    "**Задание 8. Выведите перечень уникальных значений столбца `children`.**"
   ]
  },
  {
   "cell_type": "code",
   "execution_count": 8,
   "id": "2a6c15f6",
   "metadata": {
    "deletable": false,
    "id": "ef5056eb",
    "outputId": "6975b15c-7f95-4697-d16d-a0c79b657b03"
   },
   "outputs": [
    {
     "data": {
      "text/plain": [
       "array([ 1,  0,  3,  2, -1,  4, 20,  5])"
      ]
     },
     "execution_count": 8,
     "metadata": {},
     "output_type": "execute_result"
    }
   ],
   "source": [
    "data['children'].unique()"
   ]
  },
  {
   "cell_type": "markdown",
   "id": "f5cf4f0a",
   "metadata": {
    "deletable": false,
    "editable": false,
    "id": "40b9ebf2"
   },
   "source": [
    "**Задание 9. В столбце `children` есть два аномальных значения. Удалите строки, в которых встречаются такие аномальные значения из датафрейма `data`.**"
   ]
  },
  {
   "cell_type": "code",
   "execution_count": 9,
   "id": "a6166e08",
   "metadata": {
    "deletable": false,
    "id": "3ff9801d"
   },
   "outputs": [],
   "source": [
    "data = data[(data['children'] != -1) & (data['children'] != 20)]"
   ]
  },
  {
   "cell_type": "markdown",
   "id": "987875fa",
   "metadata": {
    "deletable": false,
    "editable": false,
    "id": "bbc4d0ce"
   },
   "source": [
    "**Задание 10. Ещё раз выведите перечень уникальных значений столбца `children`, чтобы убедиться, что артефакты удалены.**"
   ]
  },
  {
   "cell_type": "code",
   "execution_count": 10,
   "id": "b4775f14",
   "metadata": {
    "deletable": false,
    "id": "ad4fa8b7",
    "outputId": "b2097101-d49d-44d9-901b-32a65c9463d1"
   },
   "outputs": [
    {
     "data": {
      "text/plain": [
       "array([1, 0, 3, 2, 4, 5])"
      ]
     },
     "execution_count": 10,
     "metadata": {},
     "output_type": "execute_result"
    }
   ],
   "source": [
    "data['children'].unique()"
   ]
  },
  {
   "cell_type": "markdown",
   "id": "d148ac75",
   "metadata": {
    "deletable": false,
    "editable": false,
    "id": "75440b63"
   },
   "source": [
    "### Удаление пропусков (продолжение)"
   ]
  },
  {
   "cell_type": "markdown",
   "id": "d9a90292",
   "metadata": {
    "deletable": false,
    "editable": false,
    "id": "f4ea573f"
   },
   "source": [
    "**Задание 11. Заполните пропуски в столбце `days_employed` медианными значениями по каждого типа занятости `income_type`.**"
   ]
  },
  {
   "cell_type": "code",
   "execution_count": 11,
   "id": "df7f3daa",
   "metadata": {
    "deletable": false,
    "id": "af6b1a7e"
   },
   "outputs": [],
   "source": [
    "for t in data['income_type'].unique():\n",
    "    data.loc[(data['income_type'] == t) & (data['days_employed'].isna()), 'days_employed'] = \\\n",
    "    data.loc[(data['income_type'] == t), 'days_employed'].median()"
   ]
  },
  {
   "cell_type": "markdown",
   "id": "119af7c0",
   "metadata": {
    "deletable": false,
    "editable": false,
    "id": "2753f40d"
   },
   "source": [
    "**Задание 12. Убедитесь, что все пропуски заполнены. Проверьте себя и ещё раз выведите количество пропущенных значений для каждого столбца с помощью двух методов.**"
   ]
  },
  {
   "cell_type": "code",
   "execution_count": 12,
   "id": "d6324e30",
   "metadata": {
    "deletable": false,
    "id": "55f78bc2",
    "outputId": "8da1e4e1-358e-4e87-98c9-f261bce0a7b2"
   },
   "outputs": [
    {
     "data": {
      "text/plain": [
       "children            0\n",
       "days_employed       0\n",
       "dob_years           0\n",
       "education           0\n",
       "education_id        0\n",
       "family_status       0\n",
       "family_status_id    0\n",
       "gender              0\n",
       "income_type         0\n",
       "debt                0\n",
       "total_income        0\n",
       "purpose             0\n",
       "dtype: int64"
      ]
     },
     "execution_count": 12,
     "metadata": {},
     "output_type": "execute_result"
    }
   ],
   "source": [
    "data.isna().sum()"
   ]
  },
  {
   "cell_type": "markdown",
   "id": "b1ba176f",
   "metadata": {
    "deletable": false,
    "editable": false,
    "id": "ddc81e43"
   },
   "source": [
    "### Изменение типов данных"
   ]
  },
  {
   "cell_type": "markdown",
   "id": "a7dab8f6",
   "metadata": {
    "deletable": false,
    "editable": false,
    "id": "42d19d24"
   },
   "source": [
    "**Задание 13. Замените вещественный тип данных в столбце `total_income` на целочисленный с помощью метода `astype()`.**"
   ]
  },
  {
   "cell_type": "code",
   "execution_count": 13,
   "id": "ebd76557",
   "metadata": {
    "deletable": false,
    "id": "920b65ad"
   },
   "outputs": [],
   "source": [
    "data['total_income'] = data['total_income'].astype(int)"
   ]
  },
  {
   "cell_type": "markdown",
   "id": "7341265f",
   "metadata": {
    "deletable": false,
    "editable": false,
    "id": "80c420ba"
   },
   "source": [
    "### Обработка дубликатов"
   ]
  },
  {
   "cell_type": "markdown",
   "id": "f8ad2a74",
   "metadata": {
    "deletable": false,
    "editable": false
   },
   "source": [
    "**Задание 14. Обработайте неявные дубликаты в столбце `education`. В этом столбце есть одни и те же значения, но записанные по-разному: с использованием заглавных и строчных букв. Приведите их к нижнему регистру. Проверьте остальные столбцы.**"
   ]
  },
  {
   "cell_type": "code",
   "execution_count": 14,
   "id": "47ca9c3a",
   "metadata": {
    "deletable": false
   },
   "outputs": [],
   "source": [
    "data['education'] = data['education'].str.lower()"
   ]
  },
  {
   "cell_type": "markdown",
   "id": "dede62db",
   "metadata": {
    "deletable": false,
    "editable": false,
    "id": "dc587695"
   },
   "source": [
    "**Задание 15. Выведите на экран количество строк-дубликатов в данных. Если такие строки присутствуют, удалите их.**"
   ]
  },
  {
   "cell_type": "code",
   "execution_count": 15,
   "id": "7c30f6bd",
   "metadata": {
    "deletable": false,
    "id": "3ee445e4",
    "outputId": "9684deba-1934-42d1-99e1-cda61740f822"
   },
   "outputs": [
    {
     "data": {
      "text/plain": [
       "71"
      ]
     },
     "execution_count": 15,
     "metadata": {},
     "output_type": "execute_result"
    }
   ],
   "source": [
    "data.duplicated().sum()"
   ]
  },
  {
   "cell_type": "code",
   "execution_count": 16,
   "id": "834b8629",
   "metadata": {
    "deletable": false,
    "id": "8575fe05"
   },
   "outputs": [],
   "source": [
    "data = data.drop_duplicates()"
   ]
  },
  {
   "cell_type": "markdown",
   "id": "eef9d44e",
   "metadata": {
    "deletable": false,
    "editable": false,
    "id": "9904cf55"
   },
   "source": [
    "### Категоризация данных"
   ]
  },
  {
   "cell_type": "markdown",
   "id": "e6602651",
   "metadata": {
    "deletable": false,
    "editable": false,
    "id": "72fcc8a2"
   },
   "source": [
    "**Задание 16. На основании диапазонов, указанных ниже, создайте в датафрейме `data` столбец `total_income_category` с категориями:**\n",
    "\n",
    "- 0–30000 — `'E'`;\n",
    "- 30001–50000 — `'D'`;\n",
    "- 50001–200000 — `'C'`;\n",
    "- 200001–1000000 — `'B'`;\n",
    "- 1000001 и выше — `'A'`.\n",
    "\n",
    "\n",
    "**Например, кредитополучателю с доходом 25000 нужно назначить категорию `'E'`, а клиенту, получающему 235000, — `'B'`. Используйте собственную функцию с именем `categorize_income()` и метод `apply()`.**"
   ]
  },
  {
   "cell_type": "code",
   "execution_count": 17,
   "id": "ecc94171",
   "metadata": {
    "deletable": false,
    "id": "e1771346"
   },
   "outputs": [],
   "source": [
    "def categorize_income(income):\n",
    "    try:\n",
    "        if 0 <= income <= 30000:\n",
    "            return 'E'\n",
    "        elif 30001 <= income <= 50000:\n",
    "            return 'D'\n",
    "        elif 50001 <= income <= 200000:\n",
    "            return 'C'\n",
    "        elif 200001 <= income <= 1000000:\n",
    "            return 'B'\n",
    "        elif income >= 1000001:\n",
    "            return 'A'\n",
    "    except:\n",
    "        pass"
   ]
  },
  {
   "cell_type": "code",
   "execution_count": 18,
   "id": "eb286d67",
   "metadata": {
    "deletable": false,
    "id": "d5f3586d"
   },
   "outputs": [],
   "source": [
    "data['total_income_category'] = data['total_income'].apply(categorize_income)"
   ]
  },
  {
   "cell_type": "markdown",
   "id": "458687bc",
   "metadata": {
    "deletable": false,
    "editable": false,
    "id": "dde49b5c"
   },
   "source": [
    "**Задание 17. Выведите на экран перечень уникальных целей взятия кредита из столбца `purpose`.**"
   ]
  },
  {
   "cell_type": "code",
   "execution_count": 19,
   "id": "bc8353a2",
   "metadata": {
    "deletable": false,
    "id": "f67ce9b3",
    "outputId": "673c12d9-7d7e-4ae0-9812-c622c89dd244"
   },
   "outputs": [
    {
     "data": {
      "text/plain": [
       "array(['покупка жилья', 'приобретение автомобиля',\n",
       "       'дополнительное образование', 'сыграть свадьбу',\n",
       "       'операции с жильем', 'образование', 'на проведение свадьбы',\n",
       "       'покупка жилья для семьи', 'покупка недвижимости',\n",
       "       'покупка коммерческой недвижимости', 'покупка жилой недвижимости',\n",
       "       'строительство собственной недвижимости', 'недвижимость',\n",
       "       'строительство недвижимости', 'на покупку подержанного автомобиля',\n",
       "       'на покупку своего автомобиля',\n",
       "       'операции с коммерческой недвижимостью',\n",
       "       'строительство жилой недвижимости', 'жилье',\n",
       "       'операции со своей недвижимостью', 'автомобили',\n",
       "       'заняться образованием', 'сделка с подержанным автомобилем',\n",
       "       'получение образования', 'автомобиль', 'свадьба',\n",
       "       'получение дополнительного образования', 'покупка своего жилья',\n",
       "       'операции с недвижимостью', 'получение высшего образования',\n",
       "       'свой автомобиль', 'сделка с автомобилем',\n",
       "       'профильное образование', 'высшее образование',\n",
       "       'покупка жилья для сдачи', 'на покупку автомобиля', 'ремонт жилью',\n",
       "       'заняться высшим образованием'], dtype=object)"
      ]
     },
     "execution_count": 19,
     "metadata": {},
     "output_type": "execute_result"
    }
   ],
   "source": [
    "data['purpose'].unique()"
   ]
  },
  {
   "cell_type": "markdown",
   "id": "aedd8d3f",
   "metadata": {
    "deletable": false,
    "editable": false,
    "id": "85d0aef0"
   },
   "source": [
    "**Задание 18. Создайте функцию, которая на основании данных из столбца `purpose` сформирует новый столбец `purpose_category`, в который войдут следующие категории:**\n",
    "\n",
    "- `'операции с автомобилем'`,\n",
    "- `'операции с недвижимостью'`,\n",
    "- `'проведение свадьбы'`,\n",
    "- `'получение образования'`.\n",
    "\n",
    "**Например, если в столбце `purpose` находится подстрока `'на покупку автомобиля'`, то в столбце `purpose_category` должна появиться строка `'операции с автомобилем'`.**\n",
    "\n",
    "**Используйте собственную функцию с именем `categorize_purpose()` и метод `apply()`. Изучите данные в столбце `purpose` и определите, какие подстроки помогут вам правильно определить категорию.**"
   ]
  },
  {
   "cell_type": "code",
   "execution_count": 20,
   "id": "ea8a99ce",
   "metadata": {
    "deletable": false,
    "id": "e149fab4"
   },
   "outputs": [],
   "source": [
    "def categorize_purpose(row):\n",
    "    try:\n",
    "        if 'автом' in row:\n",
    "            return 'операции с автомобилем'\n",
    "        elif 'жил' in row or 'недвиж' in row:\n",
    "            return 'операции с недвижимостью'\n",
    "        elif 'свад' in row:\n",
    "            return 'проведение свадьбы'\n",
    "        elif 'образов' in row:\n",
    "            return 'получение образования'\n",
    "    except:\n",
    "        return 'нет категории'"
   ]
  },
  {
   "cell_type": "code",
   "execution_count": 21,
   "id": "ea86e43a",
   "metadata": {
    "deletable": false,
    "id": "bf36e69b"
   },
   "outputs": [],
   "source": [
    "data['purpose_category'] = data['purpose'].apply(categorize_purpose)"
   ]
  },
  {
   "cell_type": "markdown",
   "id": "efaadc0a",
   "metadata": {
    "deletable": false,
    "editable": false,
    "id": "09b242bf"
   },
   "source": [
    "### Шаг 3. Исследуйте данные и ответьте на вопросы"
   ]
  },
  {
   "cell_type": "markdown",
   "id": "1965d768",
   "metadata": {
    "deletable": false,
    "editable": false,
    "id": "c5d66278"
   },
   "source": [
    "#### 3.1 Есть ли зависимость между количеством детей и возвратом кредита в срок?"
   ]
  },
  {
   "cell_type": "code",
   "execution_count": 26,
   "id": "663a5adc",
   "metadata": {
    "deletable": false,
    "id": "2cacfc4a",
    "scrolled": true
   },
   "outputs": [
    {
     "data": {
      "text/html": [
       "<div>\n",
       "<style scoped>\n",
       "    .dataframe tbody tr th:only-of-type {\n",
       "        vertical-align: middle;\n",
       "    }\n",
       "\n",
       "    .dataframe tbody tr th {\n",
       "        vertical-align: top;\n",
       "    }\n",
       "\n",
       "    .dataframe thead th {\n",
       "        text-align: right;\n",
       "    }\n",
       "</style>\n",
       "<table border=\"1\" class=\"dataframe\">\n",
       "  <thead>\n",
       "    <tr style=\"text-align: right;\">\n",
       "      <th></th>\n",
       "      <th>Всего кредитополучателей</th>\n",
       "      <th>Всего должников</th>\n",
       "      <th>Доля должников</th>\n",
       "    </tr>\n",
       "    <tr>\n",
       "      <th>Кол-во детей</th>\n",
       "      <th></th>\n",
       "      <th></th>\n",
       "      <th></th>\n",
       "    </tr>\n",
       "  </thead>\n",
       "  <tbody>\n",
       "    <tr>\n",
       "      <th>0</th>\n",
       "      <td>14091</td>\n",
       "      <td>1063</td>\n",
       "      <td>0.075438</td>\n",
       "    </tr>\n",
       "    <tr>\n",
       "      <th>1</th>\n",
       "      <td>4808</td>\n",
       "      <td>444</td>\n",
       "      <td>0.092346</td>\n",
       "    </tr>\n",
       "    <tr>\n",
       "      <th>2</th>\n",
       "      <td>2052</td>\n",
       "      <td>194</td>\n",
       "      <td>0.094542</td>\n",
       "    </tr>\n",
       "    <tr>\n",
       "      <th>3</th>\n",
       "      <td>330</td>\n",
       "      <td>27</td>\n",
       "      <td>0.081818</td>\n",
       "    </tr>\n",
       "    <tr>\n",
       "      <th>4</th>\n",
       "      <td>41</td>\n",
       "      <td>4</td>\n",
       "      <td>0.097561</td>\n",
       "    </tr>\n",
       "    <tr>\n",
       "      <th>5</th>\n",
       "      <td>9</td>\n",
       "      <td>0</td>\n",
       "      <td>0.000000</td>\n",
       "    </tr>\n",
       "  </tbody>\n",
       "</table>\n",
       "</div>"
      ],
      "text/plain": [
       "              Всего кредитополучателей  Всего должников  Доля должников\n",
       "Кол-во детей                                                           \n",
       "0                                14091             1063        0.075438\n",
       "1                                 4808              444        0.092346\n",
       "2                                 2052              194        0.094542\n",
       "3                                  330               27        0.081818\n",
       "4                                   41                4        0.097561\n",
       "5                                    9                0        0.000000"
      ]
     },
     "execution_count": 26,
     "metadata": {},
     "output_type": "execute_result"
    }
   ],
   "source": [
    "#data.groupby('children')['debt'].agg(['count','sum','mean'])\n",
    "columns = ['Всего кредитополучателей', 'Всего должников', 'Доля должников']\n",
    "data = data.rename(columns = {'children':'Кол-во детей', 'family_status':'Семейное положение','total_income_category':'Уровень дохода', 'purpose_category':'Цель кредита'})\n",
    "child_pivot = pd.pivot_table(data, index = 'Кол-во детей', values = 'debt', aggfunc=['count','sum','mean'])\n",
    "child_pivot.columns = columns\n",
    "\n",
    "child_pivot"
   ]
  },
  {
   "cell_type": "markdown",
   "id": "1fb1b89a",
   "metadata": {
    "deletable": false,
    "id": "3a6b99ec"
   },
   "source": [
    "**Вывод:Лучше всего возвращают кредит люди без детей, они же берут больше всего кредитов.\n",
    "Кредиторы с 5 детьми возвращают кредит со 100% вероятностью, но данная выборка может оказаться не репрезентативной, так как кол-во взятых кредитов всего 9.**"
   ]
  },
  {
   "cell_type": "markdown",
   "id": "2f9270b4",
   "metadata": {
    "deletable": false,
    "editable": false,
    "id": "97be82ca"
   },
   "source": [
    "#### 3.2 Есть ли зависимость между семейным положением и возвратом кредита в срок?"
   ]
  },
  {
   "cell_type": "code",
   "execution_count": 23,
   "id": "b3c92c73",
   "metadata": {
    "deletable": false,
    "id": "dc3f7ee8"
   },
   "outputs": [
    {
     "data": {
      "text/html": [
       "<div>\n",
       "<style scoped>\n",
       "    .dataframe tbody tr th:only-of-type {\n",
       "        vertical-align: middle;\n",
       "    }\n",
       "\n",
       "    .dataframe tbody tr th {\n",
       "        vertical-align: top;\n",
       "    }\n",
       "\n",
       "    .dataframe thead th {\n",
       "        text-align: right;\n",
       "    }\n",
       "</style>\n",
       "<table border=\"1\" class=\"dataframe\">\n",
       "  <thead>\n",
       "    <tr style=\"text-align: right;\">\n",
       "      <th></th>\n",
       "      <th>Всего кредитополучателей</th>\n",
       "      <th>Всего должников</th>\n",
       "      <th>Доля должников</th>\n",
       "    </tr>\n",
       "    <tr>\n",
       "      <th>Семейное положение</th>\n",
       "      <th></th>\n",
       "      <th></th>\n",
       "      <th></th>\n",
       "    </tr>\n",
       "  </thead>\n",
       "  <tbody>\n",
       "    <tr>\n",
       "      <th>Не женат / не замужем</th>\n",
       "      <td>2796</td>\n",
       "      <td>273</td>\n",
       "      <td>0.097639</td>\n",
       "    </tr>\n",
       "    <tr>\n",
       "      <th>в разводе</th>\n",
       "      <td>1189</td>\n",
       "      <td>84</td>\n",
       "      <td>0.070648</td>\n",
       "    </tr>\n",
       "    <tr>\n",
       "      <th>вдовец / вдова</th>\n",
       "      <td>951</td>\n",
       "      <td>63</td>\n",
       "      <td>0.066246</td>\n",
       "    </tr>\n",
       "    <tr>\n",
       "      <th>гражданский брак</th>\n",
       "      <td>4134</td>\n",
       "      <td>385</td>\n",
       "      <td>0.093130</td>\n",
       "    </tr>\n",
       "    <tr>\n",
       "      <th>женат / замужем</th>\n",
       "      <td>12261</td>\n",
       "      <td>927</td>\n",
       "      <td>0.075606</td>\n",
       "    </tr>\n",
       "  </tbody>\n",
       "</table>\n",
       "</div>"
      ],
      "text/plain": [
       "                       Всего кредитополучателей  Всего должников  \\\n",
       "Семейное положение                                                 \n",
       "Не женат / не замужем                      2796              273   \n",
       "в разводе                                  1189               84   \n",
       "вдовец / вдова                              951               63   \n",
       "гражданский брак                           4134              385   \n",
       "женат / замужем                           12261              927   \n",
       "\n",
       "                       Доля должников  \n",
       "Семейное положение                     \n",
       "Не женат / не замужем        0.097639  \n",
       "в разводе                    0.070648  \n",
       "вдовец / вдова               0.066246  \n",
       "гражданский брак             0.093130  \n",
       "женат / замужем              0.075606  "
      ]
     },
     "execution_count": 23,
     "metadata": {},
     "output_type": "execute_result"
    }
   ],
   "source": [
    "#data.groupby('family_status')['debt'].agg(['count','sum','mean'])\n",
    "family_pivot = pd.pivot_table(data, index = 'Семейное положение', values = 'debt', aggfunc=['count','sum','mean'])\n",
    "family_pivot.columns = columns\n",
    "\n",
    "family_pivot"
   ]
  },
  {
   "cell_type": "markdown",
   "id": "5126b7be",
   "metadata": {
    "deletable": false,
    "id": "1cef7837"
   },
   "source": [
    "**Вывод: Лучше всего возвращают кредит овдовевшие и разведенные люди, фактически это люди ранее состоявщие в браке.\n",
    "Хуже всего возвращают кредит в гражданском браке и не состоящие в браке, возможно причина в том, что они несут отвественность только за себя, не обременяя родных или близких** "
   ]
  },
  {
   "cell_type": "markdown",
   "id": "5b5c22b9",
   "metadata": {
    "deletable": false,
    "editable": false,
    "id": "1e8b2fca"
   },
   "source": [
    "#### 3.3 Есть ли зависимость между уровнем дохода и возвратом кредита в срок?"
   ]
  },
  {
   "cell_type": "code",
   "execution_count": 24,
   "id": "b607388c",
   "metadata": {
    "deletable": false,
    "id": "cd7e3720"
   },
   "outputs": [
    {
     "data": {
      "text/html": [
       "<div>\n",
       "<style scoped>\n",
       "    .dataframe tbody tr th:only-of-type {\n",
       "        vertical-align: middle;\n",
       "    }\n",
       "\n",
       "    .dataframe tbody tr th {\n",
       "        vertical-align: top;\n",
       "    }\n",
       "\n",
       "    .dataframe thead th {\n",
       "        text-align: right;\n",
       "    }\n",
       "</style>\n",
       "<table border=\"1\" class=\"dataframe\">\n",
       "  <thead>\n",
       "    <tr style=\"text-align: right;\">\n",
       "      <th></th>\n",
       "      <th>Всего кредитополучателей</th>\n",
       "      <th>Всего должников</th>\n",
       "      <th>Доля должников</th>\n",
       "    </tr>\n",
       "    <tr>\n",
       "      <th>Уровень дохода</th>\n",
       "      <th></th>\n",
       "      <th></th>\n",
       "      <th></th>\n",
       "    </tr>\n",
       "  </thead>\n",
       "  <tbody>\n",
       "    <tr>\n",
       "      <th>A</th>\n",
       "      <td>25</td>\n",
       "      <td>2</td>\n",
       "      <td>0.080000</td>\n",
       "    </tr>\n",
       "    <tr>\n",
       "      <th>B</th>\n",
       "      <td>5014</td>\n",
       "      <td>354</td>\n",
       "      <td>0.070602</td>\n",
       "    </tr>\n",
       "    <tr>\n",
       "      <th>C</th>\n",
       "      <td>15921</td>\n",
       "      <td>1353</td>\n",
       "      <td>0.084982</td>\n",
       "    </tr>\n",
       "    <tr>\n",
       "      <th>D</th>\n",
       "      <td>349</td>\n",
       "      <td>21</td>\n",
       "      <td>0.060172</td>\n",
       "    </tr>\n",
       "    <tr>\n",
       "      <th>E</th>\n",
       "      <td>22</td>\n",
       "      <td>2</td>\n",
       "      <td>0.090909</td>\n",
       "    </tr>\n",
       "  </tbody>\n",
       "</table>\n",
       "</div>"
      ],
      "text/plain": [
       "                Всего кредитополучателей  Всего должников  Доля должников\n",
       "Уровень дохода                                                           \n",
       "A                                     25                2        0.080000\n",
       "B                                   5014              354        0.070602\n",
       "C                                  15921             1353        0.084982\n",
       "D                                    349               21        0.060172\n",
       "E                                     22                2        0.090909"
      ]
     },
     "execution_count": 24,
     "metadata": {},
     "output_type": "execute_result"
    }
   ],
   "source": [
    "#data.groupby('total_income_category')['debt'].agg(['count','sum','mean'])\n",
    "income_pivot = pd.pivot_table(data, index = 'Уровень дохода', values = 'debt', aggfunc=['count','sum','mean'])\n",
    "income_pivot.columns = columns\n",
    "\n",
    "income_pivot"
   ]
  },
  {
   "cell_type": "markdown",
   "id": "68f0271e",
   "metadata": {
    "deletable": false,
    "id": "e8593def"
   },
   "source": [
    "**Вывод:Лучше всего возвращают кредит категория D, хуже всего категории А и Е** "
   ]
  },
  {
   "cell_type": "markdown",
   "id": "16492b37",
   "metadata": {
    "deletable": false,
    "editable": false,
    "id": "99ecbd1f"
   },
   "source": [
    "#### 3.4 Как разные цели кредита влияют на его возврат в срок?"
   ]
  },
  {
   "cell_type": "code",
   "execution_count": 25,
   "id": "7b8141e8",
   "metadata": {
    "deletable": false,
    "id": "2b687290"
   },
   "outputs": [
    {
     "data": {
      "text/html": [
       "<div>\n",
       "<style scoped>\n",
       "    .dataframe tbody tr th:only-of-type {\n",
       "        vertical-align: middle;\n",
       "    }\n",
       "\n",
       "    .dataframe tbody tr th {\n",
       "        vertical-align: top;\n",
       "    }\n",
       "\n",
       "    .dataframe thead th {\n",
       "        text-align: right;\n",
       "    }\n",
       "</style>\n",
       "<table border=\"1\" class=\"dataframe\">\n",
       "  <thead>\n",
       "    <tr style=\"text-align: right;\">\n",
       "      <th></th>\n",
       "      <th>Всего кредитополучателей</th>\n",
       "      <th>Всего должников</th>\n",
       "      <th>Доля должников</th>\n",
       "    </tr>\n",
       "    <tr>\n",
       "      <th>Цель кредита</th>\n",
       "      <th></th>\n",
       "      <th></th>\n",
       "      <th></th>\n",
       "    </tr>\n",
       "  </thead>\n",
       "  <tbody>\n",
       "    <tr>\n",
       "      <th>операции с автомобилем</th>\n",
       "      <td>4279</td>\n",
       "      <td>400</td>\n",
       "      <td>0.093480</td>\n",
       "    </tr>\n",
       "    <tr>\n",
       "      <th>операции с недвижимостью</th>\n",
       "      <td>10751</td>\n",
       "      <td>780</td>\n",
       "      <td>0.072551</td>\n",
       "    </tr>\n",
       "    <tr>\n",
       "      <th>получение образования</th>\n",
       "      <td>3988</td>\n",
       "      <td>369</td>\n",
       "      <td>0.092528</td>\n",
       "    </tr>\n",
       "    <tr>\n",
       "      <th>проведение свадьбы</th>\n",
       "      <td>2313</td>\n",
       "      <td>183</td>\n",
       "      <td>0.079118</td>\n",
       "    </tr>\n",
       "  </tbody>\n",
       "</table>\n",
       "</div>"
      ],
      "text/plain": [
       "                          Всего кредитополучателей  Всего должников  \\\n",
       "Цель кредита                                                          \n",
       "операции с автомобилем                        4279              400   \n",
       "операции с недвижимостью                     10751              780   \n",
       "получение образования                         3988              369   \n",
       "проведение свадьбы                            2313              183   \n",
       "\n",
       "                          Доля должников  \n",
       "Цель кредита                              \n",
       "операции с автомобилем          0.093480  \n",
       "операции с недвижимостью        0.072551  \n",
       "получение образования           0.092528  \n",
       "проведение свадьбы              0.079118  "
      ]
     },
     "execution_count": 25,
     "metadata": {},
     "output_type": "execute_result"
    }
   ],
   "source": [
    "#data.groupby('purpose_category')['debt'].agg(['count','sum','mean'])\n",
    "purpose_pivot = pd.pivot_table(data, index = 'Цель кредита', values = 'debt', aggfunc=['count','sum','mean'])\n",
    "purpose_pivot.columns = columns\n",
    "\n",
    "purpose_pivot"
   ]
  },
  {
   "cell_type": "markdown",
   "id": "bce65d37",
   "metadata": {
    "deletable": false,
    "id": "b4bb2ce6"
   },
   "source": [
    "**Вывод: процент возврата кредита за недвижимость и проведение свадьбы выше, чем на образование или автомобиль** "
   ]
  },
  {
   "cell_type": "markdown",
   "id": "320f17a4",
   "metadata": {
    "deletable": false,
    "editable": false,
    "id": "09c3ac4c"
   },
   "source": [
    "#### 3.5 Приведите возможные причины появления пропусков в исходных данных."
   ]
  },
  {
   "cell_type": "markdown",
   "id": "7299e7be",
   "metadata": {
    "deletable": false,
    "id": "9da2ceda"
   },
   "source": [
    "*Ответ: чаще всего пропуски встречались в days_employed и total_income, скорее всего для пенсионеров и безработных эти поля просто оставляли пустыми* \n",
    "\n",
    "Технически:\n",
    "    \n",
    "1. Данные могли быть взяты из разных отделов/филиалов, и при соединении/форматировании таблиц могли быть потери данных из-за разных форматов/версий. (часть заявок на кредит может быть оформлена онлайн)\n",
    "2. Данные могли изначально не заполняться, являсь частью данных, допустим для безработных - указывать просто было не нужно и это не являлось ошибкой (условно поле оставляли пустое, вместо 0)\n",
    "\n",
    "Человеческий фактор:\n",
    "  \n",
    "1. Ошибка ввода\n",
    "2. Нежелание раскрывать инфо (уже было, но еще что-то придумать сложно)\n",
    "    \n",
    "   "
   ]
  },
  {
   "cell_type": "markdown",
   "id": "74015fa9",
   "metadata": {
    "deletable": false,
    "editable": false,
    "id": "7b0487d6"
   },
   "source": [
    "#### 3.6 Объясните, почему заполнить пропуски медианным значением — лучшее решение для количественных переменных."
   ]
  },
  {
   "cell_type": "markdown",
   "id": "7b99016f",
   "metadata": {
    "deletable": false,
    "id": "7ecf2b8e"
   },
   "source": [
    "*Ответ: В любой количественной выборке переменные с экстремальными значениями слишком сильно влияют на среднее значение* "
   ]
  },
  {
   "cell_type": "markdown",
   "id": "638174b9",
   "metadata": {
    "deletable": false,
    "editable": false,
    "id": "6db5255a"
   },
   "source": [
    "### Шаг 4: общий вывод."
   ]
  },
  {
   "cell_type": "markdown",
   "id": "50783a5f",
   "metadata": {
    "deletable": false,
    "id": "bad65432"
   },
   "source": [
    "   \n",
    "В первом этапе была обработка данных, как вывод к этой части можно дать рекомендации по улучшению сбора данных.\n",
    "   \n",
    "1. Вместо пропусков в кол-ве отработанных дней и заработку - указывать конкретные данные, для безработного ставить '0', для тех кто отказался давать данные - так и прописывать. \n",
    "    \n",
    "2. Менять регистр данных на единый, реализовать можно как автоматически внутри базы, так и на этапе ввода - запретив другие форматы текста.\n",
    "    \n",
    "3. Ввести несколько стандартных (наиболее частых) целей для кредита, реализовать допустим выпадающим списком при заполнении формы.\n",
    "\n",
    "Выводы по вопросам\n",
    "\n",
    "**1. Есть ли зависимость между количеством детей и возвратом кредита в срок?**\n",
    "\n",
    "Лучше всего возвращают долг люди без детей, чем люди с 1-2 детьми.\n",
    "Для 3 и более детей выборка недостаточна для репрезентации и выводов.\n",
    "\n",
    "**2. Есть ли зависимость между семейным положением и возвратом кредита в срок?**\n",
    "    \n",
    "Хуже всего возвращают кредит люди не состоящие в браке, ражданский брак, в данном случае, не считается браком.\n",
    "Лучше всего возвращают кредиты клиенты разведенные или овдовевшие.\n",
    "    \n",
    "**3. Есть ли зависимость между уровнем дохода и возвратом кредита в срок?**\n",
    "Выборка по категориям А,D,E недостаточна.\n",
    "Скорее всего безработным и людям с низкой заработной платой банк неохотно дает кредит.\n",
    "Категория А видимо справляется без кредитов.\n",
    "    \n",
    "**4. Как разные цели кредита влияют на его возврат в срок?**\n",
    "    \n",
    "Лучше всего возвращают кредит на свадьбы и покупку недвижимости.\n",
    "    \n",
    "**Общая рекомендация**\n",
    "\n",
    "Совокупность выводов по вопросам наводит на мысль, что лучше всего выдавать кредит молодым семьям без детей для покупки недвижимости или на оплату свадьбы.\n",
    "    \n",
    "По доходу: ничего, удивительного, чем выше доход, тем лучше в любом случае - в том числе для возврата кредита.\n",
    "    \n"
   ]
  }
 ],
 "metadata": {
  "ExecuteTimeLog": [
   {
    "duration": 468,
    "start_time": "2022-10-25T19:42:53.365Z"
   },
   {
    "duration": 22,
    "start_time": "2022-10-25T19:42:53.835Z"
   },
   {
    "duration": 14,
    "start_time": "2022-10-25T19:42:53.858Z"
   },
   {
    "duration": 24,
    "start_time": "2022-10-25T19:42:53.874Z"
   },
   {
    "duration": 30,
    "start_time": "2022-10-25T19:42:53.900Z"
   },
   {
    "duration": 3,
    "start_time": "2022-10-25T19:42:53.931Z"
   },
   {
    "duration": 9,
    "start_time": "2022-10-25T19:42:53.936Z"
   },
   {
    "duration": 4,
    "start_time": "2022-10-25T19:42:53.946Z"
   },
   {
    "duration": 7,
    "start_time": "2022-10-25T19:42:53.952Z"
   },
   {
    "duration": 4,
    "start_time": "2022-10-25T19:42:53.990Z"
   },
   {
    "duration": 31,
    "start_time": "2022-10-25T19:42:53.996Z"
   },
   {
    "duration": 9,
    "start_time": "2022-10-25T19:42:54.029Z"
   },
   {
    "duration": 4,
    "start_time": "2022-10-25T19:42:54.040Z"
   },
   {
    "duration": 11,
    "start_time": "2022-10-25T19:42:54.045Z"
   },
   {
    "duration": 47,
    "start_time": "2022-10-25T19:42:54.058Z"
   },
   {
    "duration": 16,
    "start_time": "2022-10-25T19:42:54.106Z"
   },
   {
    "duration": 4,
    "start_time": "2022-10-25T19:42:54.123Z"
   },
   {
    "duration": 12,
    "start_time": "2022-10-25T19:42:54.129Z"
   },
   {
    "duration": 6,
    "start_time": "2022-10-25T19:42:54.142Z"
   },
   {
    "duration": 4,
    "start_time": "2022-10-25T19:42:54.149Z"
   },
   {
    "duration": 38,
    "start_time": "2022-10-25T19:42:54.154Z"
   },
   {
    "duration": 4,
    "start_time": "2022-10-25T19:42:54.193Z"
   },
   {
    "duration": 4,
    "start_time": "2022-10-25T19:42:54.199Z"
   },
   {
    "duration": 4,
    "start_time": "2022-10-25T19:42:54.205Z"
   },
   {
    "duration": 3,
    "start_time": "2022-10-25T19:42:54.211Z"
   },
   {
    "duration": 65,
    "start_time": "2022-10-27T13:43:52.140Z"
   },
   {
    "duration": 8,
    "start_time": "2022-10-27T13:43:59.225Z"
   },
   {
    "duration": 707,
    "start_time": "2022-10-27T13:44:15.095Z"
   },
   {
    "duration": 27,
    "start_time": "2022-10-27T13:44:15.804Z"
   },
   {
    "duration": 32,
    "start_time": "2022-10-27T13:44:15.833Z"
   },
   {
    "duration": 11,
    "start_time": "2022-10-27T13:44:15.869Z"
   },
   {
    "duration": 55,
    "start_time": "2022-10-27T13:44:15.882Z"
   },
   {
    "duration": 4,
    "start_time": "2022-10-27T13:44:15.939Z"
   },
   {
    "duration": 25,
    "start_time": "2022-10-27T13:44:15.944Z"
   },
   {
    "duration": 6,
    "start_time": "2022-10-27T13:44:15.970Z"
   },
   {
    "duration": 11,
    "start_time": "2022-10-27T13:44:15.977Z"
   },
   {
    "duration": 4,
    "start_time": "2022-10-27T13:44:15.991Z"
   },
   {
    "duration": 44,
    "start_time": "2022-10-27T13:44:15.996Z"
   },
   {
    "duration": 16,
    "start_time": "2022-10-27T13:44:16.042Z"
   },
   {
    "duration": 6,
    "start_time": "2022-10-27T13:44:16.059Z"
   },
   {
    "duration": 13,
    "start_time": "2022-10-27T13:44:16.066Z"
   },
   {
    "duration": 19,
    "start_time": "2022-10-27T13:44:16.081Z"
   },
   {
    "duration": 58,
    "start_time": "2022-10-27T13:44:16.102Z"
   },
   {
    "duration": 4,
    "start_time": "2022-10-27T13:44:16.162Z"
   },
   {
    "duration": 13,
    "start_time": "2022-10-27T13:44:16.168Z"
   },
   {
    "duration": 7,
    "start_time": "2022-10-27T13:44:16.182Z"
   },
   {
    "duration": 5,
    "start_time": "2022-10-27T13:44:16.191Z"
   },
   {
    "duration": 14,
    "start_time": "2022-10-27T13:44:16.197Z"
   },
   {
    "duration": 45,
    "start_time": "2022-10-27T13:44:16.212Z"
   },
   {
    "duration": 30,
    "start_time": "2022-10-27T13:44:16.262Z"
   },
   {
    "duration": 12,
    "start_time": "2022-10-27T13:44:16.294Z"
   },
   {
    "duration": 12,
    "start_time": "2022-10-27T13:44:16.308Z"
   },
   {
    "duration": 7,
    "start_time": "2022-10-27T13:45:57.192Z"
   },
   {
    "duration": 7,
    "start_time": "2022-10-27T13:46:10.066Z"
   },
   {
    "duration": 7,
    "start_time": "2022-10-27T13:47:09.137Z"
   },
   {
    "duration": 8,
    "start_time": "2022-10-27T13:47:19.363Z"
   },
   {
    "duration": 7,
    "start_time": "2022-10-27T13:47:23.602Z"
   },
   {
    "duration": 7,
    "start_time": "2022-10-27T13:48:12.038Z"
   },
   {
    "duration": 8,
    "start_time": "2022-10-27T13:49:13.235Z"
   },
   {
    "duration": 7,
    "start_time": "2022-10-27T13:49:29.686Z"
   },
   {
    "duration": 9,
    "start_time": "2022-10-27T13:50:02.244Z"
   },
   {
    "duration": 8,
    "start_time": "2022-10-27T13:51:01.343Z"
   },
   {
    "duration": 48,
    "start_time": "2022-10-27T13:51:16.748Z"
   },
   {
    "duration": 9,
    "start_time": "2022-10-27T13:51:24.161Z"
   },
   {
    "duration": 36,
    "start_time": "2022-10-27T13:54:11.778Z"
   },
   {
    "duration": 15,
    "start_time": "2022-10-27T13:54:33.088Z"
   },
   {
    "duration": 18,
    "start_time": "2022-10-27T13:54:42.033Z"
   },
   {
    "duration": 8,
    "start_time": "2022-10-27T13:54:53.890Z"
   },
   {
    "duration": 12,
    "start_time": "2022-10-27T13:56:28.770Z"
   },
   {
    "duration": 6,
    "start_time": "2022-10-27T13:56:40.570Z"
   },
   {
    "duration": 7,
    "start_time": "2022-10-27T13:56:45.940Z"
   },
   {
    "duration": 1001,
    "start_time": "2022-10-27T14:00:49.800Z"
   },
   {
    "duration": 15,
    "start_time": "2022-10-27T14:01:33.550Z"
   },
   {
    "duration": 8,
    "start_time": "2022-10-27T14:02:23.803Z"
   },
   {
    "duration": 570,
    "start_time": "2022-10-27T14:05:33.986Z"
   },
   {
    "duration": 13,
    "start_time": "2022-10-27T14:05:45.381Z"
   },
   {
    "duration": 150,
    "start_time": "2022-10-27T14:08:12.074Z"
   },
   {
    "duration": 13,
    "start_time": "2022-10-27T14:12:06.285Z"
   },
   {
    "duration": 6,
    "start_time": "2022-10-27T14:13:23.817Z"
   },
   {
    "duration": 6,
    "start_time": "2022-10-27T14:13:31.729Z"
   },
   {
    "duration": 9,
    "start_time": "2022-10-27T14:13:39.922Z"
   },
   {
    "duration": 7,
    "start_time": "2022-10-27T14:13:53.050Z"
   },
   {
    "duration": 7,
    "start_time": "2022-10-27T14:15:29.250Z"
   },
   {
    "duration": 13,
    "start_time": "2022-10-27T14:16:18.203Z"
   },
   {
    "duration": 10,
    "start_time": "2022-10-27T14:16:26.419Z"
   },
   {
    "duration": 13,
    "start_time": "2022-10-27T14:16:37.143Z"
   },
   {
    "duration": 14,
    "start_time": "2022-10-27T14:19:59.162Z"
   },
   {
    "duration": 12,
    "start_time": "2022-10-27T14:20:35.737Z"
   },
   {
    "duration": 9,
    "start_time": "2022-10-27T14:20:50.981Z"
   },
   {
    "duration": 11,
    "start_time": "2022-10-27T14:20:52.887Z"
   },
   {
    "duration": 472,
    "start_time": "2022-10-27T14:21:00.548Z"
   },
   {
    "duration": 24,
    "start_time": "2022-10-27T14:21:01.022Z"
   },
   {
    "duration": 18,
    "start_time": "2022-10-27T14:21:01.050Z"
   },
   {
    "duration": 12,
    "start_time": "2022-10-27T14:21:01.070Z"
   },
   {
    "duration": 60,
    "start_time": "2022-10-27T14:21:01.083Z"
   },
   {
    "duration": 4,
    "start_time": "2022-10-27T14:21:01.145Z"
   },
   {
    "duration": 22,
    "start_time": "2022-10-27T14:21:01.151Z"
   },
   {
    "duration": 5,
    "start_time": "2022-10-27T14:21:01.175Z"
   },
   {
    "duration": 15,
    "start_time": "2022-10-27T14:21:01.182Z"
   },
   {
    "duration": 17,
    "start_time": "2022-10-27T14:21:01.198Z"
   },
   {
    "duration": 43,
    "start_time": "2022-10-27T14:21:01.216Z"
   },
   {
    "duration": 11,
    "start_time": "2022-10-27T14:21:01.260Z"
   },
   {
    "duration": 12,
    "start_time": "2022-10-27T14:21:01.272Z"
   },
   {
    "duration": 22,
    "start_time": "2022-10-27T14:21:01.286Z"
   },
   {
    "duration": 29,
    "start_time": "2022-10-27T14:21:01.310Z"
   },
   {
    "duration": 18,
    "start_time": "2022-10-27T14:21:01.341Z"
   },
   {
    "duration": 4,
    "start_time": "2022-10-27T14:21:01.360Z"
   },
   {
    "duration": 16,
    "start_time": "2022-10-27T14:21:01.366Z"
   },
   {
    "duration": 9,
    "start_time": "2022-10-27T14:21:01.384Z"
   },
   {
    "duration": 10,
    "start_time": "2022-10-27T14:21:01.395Z"
   },
   {
    "duration": 11,
    "start_time": "2022-10-27T14:21:01.407Z"
   },
   {
    "duration": 853,
    "start_time": "2022-10-27T14:21:01.420Z"
   },
   {
    "duration": 0,
    "start_time": "2022-10-27T14:21:02.275Z"
   },
   {
    "duration": 0,
    "start_time": "2022-10-27T14:21:02.277Z"
   },
   {
    "duration": 0,
    "start_time": "2022-10-27T14:21:02.278Z"
   },
   {
    "duration": 8,
    "start_time": "2022-10-27T14:21:07.099Z"
   },
   {
    "duration": 12,
    "start_time": "2022-10-27T14:21:30.195Z"
   },
   {
    "duration": 13,
    "start_time": "2022-10-27T14:21:34.449Z"
   },
   {
    "duration": 19,
    "start_time": "2022-10-27T14:21:53.850Z"
   },
   {
    "duration": 41,
    "start_time": "2022-10-27T14:24:42.596Z"
   },
   {
    "duration": 41,
    "start_time": "2022-10-27T14:24:57.381Z"
   },
   {
    "duration": 424,
    "start_time": "2022-10-27T14:25:57.144Z"
   },
   {
    "duration": 16,
    "start_time": "2022-10-27T14:27:55.733Z"
   },
   {
    "duration": 8,
    "start_time": "2022-10-27T14:28:01.901Z"
   },
   {
    "duration": 6,
    "start_time": "2022-10-27T14:28:33.087Z"
   },
   {
    "duration": 7,
    "start_time": "2022-10-27T14:28:37.105Z"
   },
   {
    "duration": 7,
    "start_time": "2022-10-27T14:29:52.890Z"
   },
   {
    "duration": 8,
    "start_time": "2022-10-27T14:29:58.143Z"
   },
   {
    "duration": 9,
    "start_time": "2022-10-27T14:30:10.813Z"
   },
   {
    "duration": 7,
    "start_time": "2022-10-27T14:30:15.249Z"
   },
   {
    "duration": 44,
    "start_time": "2022-10-27T14:30:25.441Z"
   },
   {
    "duration": 16,
    "start_time": "2022-10-27T14:33:44.303Z"
   },
   {
    "duration": 11,
    "start_time": "2022-10-27T14:34:06.085Z"
   },
   {
    "duration": 8,
    "start_time": "2022-10-27T14:36:18.879Z"
   },
   {
    "duration": 8,
    "start_time": "2022-10-27T14:37:49.426Z"
   },
   {
    "duration": 8,
    "start_time": "2022-10-27T14:37:50.960Z"
   },
   {
    "duration": 9,
    "start_time": "2022-10-27T14:37:52.300Z"
   },
   {
    "duration": 6,
    "start_time": "2022-10-27T14:38:40.103Z"
   },
   {
    "duration": 9,
    "start_time": "2022-10-27T14:38:55.176Z"
   },
   {
    "duration": 9,
    "start_time": "2022-10-27T14:39:30.095Z"
   },
   {
    "duration": 11,
    "start_time": "2022-10-27T14:40:03.384Z"
   },
   {
    "duration": 16,
    "start_time": "2022-10-27T14:40:09.789Z"
   },
   {
    "duration": 12,
    "start_time": "2022-10-27T14:40:12.929Z"
   },
   {
    "duration": 13,
    "start_time": "2022-10-27T14:41:00.004Z"
   },
   {
    "duration": 12,
    "start_time": "2022-10-27T14:41:03.110Z"
   },
   {
    "duration": 12,
    "start_time": "2022-10-27T14:41:05.540Z"
   },
   {
    "duration": 11,
    "start_time": "2022-10-27T14:41:07.903Z"
   },
   {
    "duration": 172,
    "start_time": "2022-10-27T14:45:30.281Z"
   },
   {
    "duration": 132,
    "start_time": "2022-10-27T14:45:47.892Z"
   },
   {
    "duration": 120,
    "start_time": "2022-10-27T14:46:10.979Z"
   },
   {
    "duration": 15,
    "start_time": "2022-10-27T14:46:28.072Z"
   },
   {
    "duration": 153,
    "start_time": "2022-10-27T14:46:35.911Z"
   },
   {
    "duration": 18,
    "start_time": "2022-10-27T14:46:53.491Z"
   },
   {
    "duration": 151,
    "start_time": "2022-10-27T14:47:10.480Z"
   },
   {
    "duration": 117,
    "start_time": "2022-10-27T14:47:26.487Z"
   },
   {
    "duration": 118,
    "start_time": "2022-10-27T14:47:40.124Z"
   },
   {
    "duration": 115,
    "start_time": "2022-10-27T14:48:43.088Z"
   },
   {
    "duration": 17,
    "start_time": "2022-10-27T14:50:35.944Z"
   },
   {
    "duration": 17,
    "start_time": "2022-10-27T14:50:39.179Z"
   },
   {
    "duration": 208,
    "start_time": "2022-10-27T14:51:00.338Z"
   },
   {
    "duration": 152,
    "start_time": "2022-10-27T14:55:28.843Z"
   },
   {
    "duration": 11,
    "start_time": "2022-10-27T14:56:24.426Z"
   },
   {
    "duration": 11,
    "start_time": "2022-10-27T14:56:26.846Z"
   },
   {
    "duration": 45,
    "start_time": "2022-10-27T19:03:07.798Z"
   },
   {
    "duration": 8,
    "start_time": "2022-10-27T19:08:08.876Z"
   },
   {
    "duration": 707,
    "start_time": "2022-10-27T19:08:21.425Z"
   },
   {
    "duration": 21,
    "start_time": "2022-10-27T19:08:22.134Z"
   },
   {
    "duration": 21,
    "start_time": "2022-10-27T19:08:22.156Z"
   },
   {
    "duration": 10,
    "start_time": "2022-10-27T19:08:22.179Z"
   },
   {
    "duration": 49,
    "start_time": "2022-10-27T19:08:22.190Z"
   },
   {
    "duration": 3,
    "start_time": "2022-10-27T19:08:22.241Z"
   },
   {
    "duration": 30,
    "start_time": "2022-10-27T19:08:22.246Z"
   },
   {
    "duration": 7,
    "start_time": "2022-10-27T19:08:22.277Z"
   },
   {
    "duration": 28,
    "start_time": "2022-10-27T19:08:22.285Z"
   },
   {
    "duration": 19,
    "start_time": "2022-10-27T19:08:22.315Z"
   },
   {
    "duration": 63,
    "start_time": "2022-10-27T19:08:22.335Z"
   },
   {
    "duration": 9,
    "start_time": "2022-10-27T19:08:22.402Z"
   },
   {
    "duration": 12,
    "start_time": "2022-10-27T19:08:22.413Z"
   },
   {
    "duration": 37,
    "start_time": "2022-10-27T19:08:22.427Z"
   },
   {
    "duration": 26,
    "start_time": "2022-10-27T19:08:22.466Z"
   },
   {
    "duration": 25,
    "start_time": "2022-10-27T19:08:22.493Z"
   },
   {
    "duration": 4,
    "start_time": "2022-10-27T19:08:22.520Z"
   },
   {
    "duration": 34,
    "start_time": "2022-10-27T19:08:22.525Z"
   },
   {
    "duration": 15,
    "start_time": "2022-10-27T19:08:22.560Z"
   },
   {
    "duration": 22,
    "start_time": "2022-10-27T19:08:22.577Z"
   },
   {
    "duration": 31,
    "start_time": "2022-10-27T19:08:22.600Z"
   },
   {
    "duration": 34,
    "start_time": "2022-10-27T19:08:22.633Z"
   },
   {
    "duration": 0,
    "start_time": "2022-10-27T19:08:22.669Z"
   },
   {
    "duration": 0,
    "start_time": "2022-10-27T19:08:22.670Z"
   },
   {
    "duration": 0,
    "start_time": "2022-10-27T19:08:22.671Z"
   },
   {
    "duration": 23,
    "start_time": "2022-10-27T19:10:18.468Z"
   },
   {
    "duration": 25,
    "start_time": "2022-10-27T19:10:53.500Z"
   },
   {
    "duration": 11,
    "start_time": "2022-10-27T19:11:01.028Z"
   },
   {
    "duration": 22,
    "start_time": "2022-10-27T19:11:10.002Z"
   },
   {
    "duration": 13,
    "start_time": "2022-10-27T19:11:35.173Z"
   },
   {
    "duration": 27,
    "start_time": "2022-10-27T19:11:41.050Z"
   },
   {
    "duration": 50,
    "start_time": "2022-10-27T19:11:57.041Z"
   },
   {
    "duration": 21,
    "start_time": "2022-10-27T19:12:00.050Z"
   },
   {
    "duration": 14,
    "start_time": "2022-10-27T19:12:47.986Z"
   },
   {
    "duration": 14,
    "start_time": "2022-10-27T19:15:40.562Z"
   },
   {
    "duration": 41,
    "start_time": "2022-10-27T19:15:59.231Z"
   },
   {
    "duration": 13,
    "start_time": "2022-10-27T19:17:32.517Z"
   },
   {
    "duration": 10,
    "start_time": "2022-10-27T19:22:31.812Z"
   },
   {
    "duration": 8,
    "start_time": "2022-10-27T19:22:52.112Z"
   },
   {
    "duration": 44,
    "start_time": "2022-10-27T19:24:48.504Z"
   },
   {
    "duration": 10,
    "start_time": "2022-10-27T19:24:57.001Z"
   },
   {
    "duration": 11,
    "start_time": "2022-10-27T19:27:10.001Z"
   },
   {
    "duration": 13,
    "start_time": "2022-10-27T19:27:37.878Z"
   },
   {
    "duration": 29,
    "start_time": "2022-10-27T19:28:40.408Z"
   },
   {
    "duration": 14,
    "start_time": "2022-10-27T19:29:05.356Z"
   },
   {
    "duration": 14,
    "start_time": "2022-10-27T19:29:31.054Z"
   },
   {
    "duration": 23,
    "start_time": "2022-10-27T19:31:29.241Z"
   },
   {
    "duration": 25,
    "start_time": "2022-10-27T19:32:01.638Z"
   },
   {
    "duration": 26,
    "start_time": "2022-10-27T19:32:18.143Z"
   },
   {
    "duration": 31,
    "start_time": "2022-10-27T19:36:50.174Z"
   },
   {
    "duration": 23,
    "start_time": "2022-10-27T19:37:04.937Z"
   },
   {
    "duration": 56,
    "start_time": "2022-10-27T19:40:56.812Z"
   },
   {
    "duration": 26,
    "start_time": "2022-10-27T19:41:23.695Z"
   },
   {
    "duration": 26,
    "start_time": "2022-10-27T19:41:34.545Z"
   },
   {
    "duration": 28,
    "start_time": "2022-10-27T19:42:17.141Z"
   },
   {
    "duration": 22,
    "start_time": "2022-10-27T19:47:27.671Z"
   },
   {
    "duration": 23,
    "start_time": "2022-10-27T19:50:19.523Z"
   },
   {
    "duration": 23,
    "start_time": "2022-10-27T19:50:38.069Z"
   },
   {
    "duration": 24,
    "start_time": "2022-10-27T19:50:50.356Z"
   },
   {
    "duration": 205,
    "start_time": "2022-10-27T19:51:03.464Z"
   },
   {
    "duration": 24,
    "start_time": "2022-10-27T19:51:08.907Z"
   },
   {
    "duration": 13,
    "start_time": "2022-10-27T19:52:03.299Z"
   },
   {
    "duration": 24,
    "start_time": "2022-10-27T19:52:16.062Z"
   },
   {
    "duration": 39,
    "start_time": "2022-10-27T19:54:56.097Z"
   },
   {
    "duration": 45,
    "start_time": "2022-10-27T19:55:11.647Z"
   },
   {
    "duration": 46,
    "start_time": "2022-10-27T19:55:59.826Z"
   },
   {
    "duration": 32,
    "start_time": "2022-10-27T19:56:17.281Z"
   },
   {
    "duration": 45,
    "start_time": "2022-10-27T19:56:28.940Z"
   },
   {
    "duration": 24,
    "start_time": "2022-10-27T19:56:34.452Z"
   },
   {
    "duration": 29,
    "start_time": "2022-10-27T19:57:09.459Z"
   },
   {
    "duration": 16,
    "start_time": "2022-10-27T19:58:23.928Z"
   },
   {
    "duration": 26,
    "start_time": "2022-10-27T19:58:29.278Z"
   },
   {
    "duration": 12,
    "start_time": "2022-10-27T19:58:31.126Z"
   },
   {
    "duration": 12,
    "start_time": "2022-10-27T19:58:38.624Z"
   },
   {
    "duration": 13,
    "start_time": "2022-10-27T19:59:21.670Z"
   },
   {
    "duration": 14,
    "start_time": "2022-10-27T20:00:17.930Z"
   },
   {
    "duration": 28,
    "start_time": "2022-10-27T20:00:31.168Z"
   },
   {
    "duration": 27,
    "start_time": "2022-10-27T20:00:34.199Z"
   },
   {
    "duration": 13,
    "start_time": "2022-10-27T20:00:37.104Z"
   },
   {
    "duration": 15,
    "start_time": "2022-10-27T20:01:57.354Z"
   },
   {
    "duration": 14,
    "start_time": "2022-10-27T20:02:16.504Z"
   },
   {
    "duration": 426,
    "start_time": "2022-10-27T20:02:54.999Z"
   },
   {
    "duration": 21,
    "start_time": "2022-10-27T20:02:55.427Z"
   },
   {
    "duration": 13,
    "start_time": "2022-10-27T20:02:55.449Z"
   },
   {
    "duration": 9,
    "start_time": "2022-10-27T20:02:55.464Z"
   },
   {
    "duration": 32,
    "start_time": "2022-10-27T20:02:55.474Z"
   },
   {
    "duration": 3,
    "start_time": "2022-10-27T20:02:55.507Z"
   },
   {
    "duration": 35,
    "start_time": "2022-10-27T20:02:55.512Z"
   },
   {
    "duration": 6,
    "start_time": "2022-10-27T20:02:55.548Z"
   },
   {
    "duration": 8,
    "start_time": "2022-10-27T20:02:55.555Z"
   },
   {
    "duration": 6,
    "start_time": "2022-10-27T20:02:55.566Z"
   },
   {
    "duration": 35,
    "start_time": "2022-10-27T20:02:55.573Z"
   },
   {
    "duration": 34,
    "start_time": "2022-10-27T20:02:55.609Z"
   },
   {
    "duration": 4,
    "start_time": "2022-10-27T20:02:55.644Z"
   },
   {
    "duration": 12,
    "start_time": "2022-10-27T20:02:55.650Z"
   },
   {
    "duration": 18,
    "start_time": "2022-10-27T20:02:55.664Z"
   },
   {
    "duration": 17,
    "start_time": "2022-10-27T20:02:55.684Z"
   },
   {
    "duration": 3,
    "start_time": "2022-10-27T20:02:55.703Z"
   },
   {
    "duration": 38,
    "start_time": "2022-10-27T20:02:55.708Z"
   },
   {
    "duration": 9,
    "start_time": "2022-10-27T20:02:55.748Z"
   },
   {
    "duration": 5,
    "start_time": "2022-10-27T20:02:55.758Z"
   },
   {
    "duration": 9,
    "start_time": "2022-10-27T20:02:55.764Z"
   },
   {
    "duration": 29,
    "start_time": "2022-10-27T20:02:55.775Z"
   },
   {
    "duration": 52,
    "start_time": "2022-10-27T20:02:55.806Z"
   },
   {
    "duration": 25,
    "start_time": "2022-10-27T20:02:55.859Z"
   },
   {
    "duration": 82,
    "start_time": "2022-10-27T20:02:55.886Z"
   },
   {
    "duration": 30,
    "start_time": "2022-10-27T20:03:18.256Z"
   },
   {
    "duration": 26,
    "start_time": "2022-10-27T20:03:38.532Z"
   },
   {
    "duration": 29,
    "start_time": "2022-10-27T20:04:33.140Z"
   },
   {
    "duration": 31,
    "start_time": "2022-10-27T20:04:47.999Z"
   },
   {
    "duration": 32,
    "start_time": "2022-10-27T20:04:53.386Z"
   },
   {
    "duration": 9,
    "start_time": "2022-10-27T20:05:00.182Z"
   },
   {
    "duration": 39,
    "start_time": "2022-10-27T20:05:01.366Z"
   },
   {
    "duration": 32,
    "start_time": "2022-10-27T20:05:21.573Z"
   },
   {
    "duration": 28,
    "start_time": "2022-10-27T20:05:38.837Z"
   },
   {
    "duration": 34,
    "start_time": "2022-10-27T20:05:51.836Z"
   },
   {
    "duration": 28,
    "start_time": "2022-10-27T20:05:56.578Z"
   },
   {
    "duration": 28,
    "start_time": "2022-10-27T20:26:38.148Z"
   },
   {
    "duration": 509,
    "start_time": "2022-10-27T20:26:57.232Z"
   },
   {
    "duration": 20,
    "start_time": "2022-10-27T20:26:57.742Z"
   },
   {
    "duration": 25,
    "start_time": "2022-10-27T20:26:57.764Z"
   },
   {
    "duration": 26,
    "start_time": "2022-10-27T20:26:57.792Z"
   },
   {
    "duration": 40,
    "start_time": "2022-10-27T20:26:57.819Z"
   },
   {
    "duration": 4,
    "start_time": "2022-10-27T20:26:57.861Z"
   },
   {
    "duration": 18,
    "start_time": "2022-10-27T20:26:57.866Z"
   },
   {
    "duration": 10,
    "start_time": "2022-10-27T20:26:57.886Z"
   },
   {
    "duration": 22,
    "start_time": "2022-10-27T20:26:57.897Z"
   },
   {
    "duration": 35,
    "start_time": "2022-10-27T20:26:57.921Z"
   },
   {
    "duration": 54,
    "start_time": "2022-10-27T20:26:57.958Z"
   },
   {
    "duration": 11,
    "start_time": "2022-10-27T20:26:58.014Z"
   },
   {
    "duration": 4,
    "start_time": "2022-10-27T20:26:58.027Z"
   },
   {
    "duration": 30,
    "start_time": "2022-10-27T20:26:58.032Z"
   },
   {
    "duration": 37,
    "start_time": "2022-10-27T20:26:58.064Z"
   },
   {
    "duration": 18,
    "start_time": "2022-10-27T20:26:58.104Z"
   },
   {
    "duration": 6,
    "start_time": "2022-10-27T20:26:58.124Z"
   },
   {
    "duration": 35,
    "start_time": "2022-10-27T20:26:58.131Z"
   },
   {
    "duration": 26,
    "start_time": "2022-10-27T20:26:58.167Z"
   },
   {
    "duration": 13,
    "start_time": "2022-10-27T20:26:58.194Z"
   },
   {
    "duration": 17,
    "start_time": "2022-10-27T20:26:58.208Z"
   },
   {
    "duration": 59,
    "start_time": "2022-10-27T20:26:58.226Z"
   },
   {
    "duration": 34,
    "start_time": "2022-10-27T20:26:58.287Z"
   },
   {
    "duration": 32,
    "start_time": "2022-10-27T20:26:58.323Z"
   },
   {
    "duration": 48,
    "start_time": "2022-10-27T20:26:58.357Z"
   },
   {
    "duration": 16,
    "start_time": "2022-10-27T20:27:58.013Z"
   },
   {
    "duration": 16,
    "start_time": "2022-10-27T20:28:39.490Z"
   },
   {
    "duration": 470,
    "start_time": "2022-10-27T20:28:56.048Z"
   },
   {
    "duration": 19,
    "start_time": "2022-10-27T20:29:10.568Z"
   },
   {
    "duration": 15,
    "start_time": "2022-10-27T20:29:13.549Z"
   },
   {
    "duration": 14,
    "start_time": "2022-10-27T20:29:19.957Z"
   },
   {
    "duration": 13,
    "start_time": "2022-10-27T20:29:22.767Z"
   },
   {
    "duration": 411,
    "start_time": "2022-10-27T20:29:38.700Z"
   },
   {
    "duration": 33,
    "start_time": "2022-10-27T20:29:51.450Z"
   },
   {
    "duration": 13,
    "start_time": "2022-10-27T20:29:57.907Z"
   },
   {
    "duration": 19,
    "start_time": "2022-10-27T20:30:22.202Z"
   },
   {
    "duration": 9,
    "start_time": "2022-10-27T20:30:27.985Z"
   },
   {
    "duration": 10,
    "start_time": "2022-10-27T20:30:34.469Z"
   },
   {
    "duration": 10,
    "start_time": "2022-10-27T20:30:42.398Z"
   },
   {
    "duration": 32,
    "start_time": "2022-10-27T20:30:43.959Z"
   },
   {
    "duration": 21,
    "start_time": "2022-10-27T20:30:51.678Z"
   },
   {
    "duration": 17,
    "start_time": "2022-10-27T20:31:07.913Z"
   },
   {
    "duration": 477,
    "start_time": "2022-10-27T20:31:18.733Z"
   },
   {
    "duration": 23,
    "start_time": "2022-10-27T20:31:19.212Z"
   },
   {
    "duration": 15,
    "start_time": "2022-10-27T20:31:19.236Z"
   },
   {
    "duration": 8,
    "start_time": "2022-10-27T20:31:19.253Z"
   },
   {
    "duration": 31,
    "start_time": "2022-10-27T20:31:19.263Z"
   },
   {
    "duration": 3,
    "start_time": "2022-10-27T20:31:19.296Z"
   },
   {
    "duration": 11,
    "start_time": "2022-10-27T20:31:19.301Z"
   },
   {
    "duration": 5,
    "start_time": "2022-10-27T20:31:19.338Z"
   },
   {
    "duration": 11,
    "start_time": "2022-10-27T20:31:19.344Z"
   },
   {
    "duration": 4,
    "start_time": "2022-10-27T20:31:19.357Z"
   },
   {
    "duration": 34,
    "start_time": "2022-10-27T20:31:19.363Z"
   },
   {
    "duration": 10,
    "start_time": "2022-10-27T20:31:19.398Z"
   },
   {
    "duration": 4,
    "start_time": "2022-10-27T20:31:19.439Z"
   },
   {
    "duration": 21,
    "start_time": "2022-10-27T20:31:19.444Z"
   },
   {
    "duration": 20,
    "start_time": "2022-10-27T20:31:19.468Z"
   },
   {
    "duration": 18,
    "start_time": "2022-10-27T20:31:19.490Z"
   },
   {
    "duration": 3,
    "start_time": "2022-10-27T20:31:19.510Z"
   },
   {
    "duration": 10,
    "start_time": "2022-10-27T20:31:19.538Z"
   },
   {
    "duration": 11,
    "start_time": "2022-10-27T20:31:19.549Z"
   },
   {
    "duration": 7,
    "start_time": "2022-10-27T20:31:19.561Z"
   },
   {
    "duration": 10,
    "start_time": "2022-10-27T20:31:19.569Z"
   },
   {
    "duration": 34,
    "start_time": "2022-10-27T20:31:19.581Z"
   },
   {
    "duration": 26,
    "start_time": "2022-10-27T20:31:19.638Z"
   },
   {
    "duration": 23,
    "start_time": "2022-10-27T20:31:19.665Z"
   },
   {
    "duration": 26,
    "start_time": "2022-10-27T20:31:19.689Z"
   },
   {
    "duration": 24,
    "start_time": "2022-10-27T20:41:45.040Z"
   },
   {
    "duration": 626,
    "start_time": "2022-10-28T05:07:25.088Z"
   },
   {
    "duration": 21,
    "start_time": "2022-10-28T05:07:25.716Z"
   },
   {
    "duration": 14,
    "start_time": "2022-10-28T05:07:25.739Z"
   },
   {
    "duration": 9,
    "start_time": "2022-10-28T05:07:25.755Z"
   },
   {
    "duration": 31,
    "start_time": "2022-10-28T05:07:25.766Z"
   },
   {
    "duration": 4,
    "start_time": "2022-10-28T05:07:25.798Z"
   },
   {
    "duration": 30,
    "start_time": "2022-10-28T05:07:25.803Z"
   },
   {
    "duration": 4,
    "start_time": "2022-10-28T05:07:25.835Z"
   },
   {
    "duration": 15,
    "start_time": "2022-10-28T05:07:25.840Z"
   },
   {
    "duration": 4,
    "start_time": "2022-10-28T05:07:25.857Z"
   },
   {
    "duration": 32,
    "start_time": "2022-10-28T05:07:25.862Z"
   },
   {
    "duration": 9,
    "start_time": "2022-10-28T05:07:25.896Z"
   },
   {
    "duration": 3,
    "start_time": "2022-10-28T05:07:25.906Z"
   },
   {
    "duration": 9,
    "start_time": "2022-10-28T05:07:25.933Z"
   },
   {
    "duration": 20,
    "start_time": "2022-10-28T05:07:25.944Z"
   },
   {
    "duration": 15,
    "start_time": "2022-10-28T05:07:25.965Z"
   },
   {
    "duration": 3,
    "start_time": "2022-10-28T05:07:25.982Z"
   },
   {
    "duration": 12,
    "start_time": "2022-10-28T05:07:25.986Z"
   },
   {
    "duration": 5,
    "start_time": "2022-10-28T05:07:26.000Z"
   },
   {
    "duration": 27,
    "start_time": "2022-10-28T05:07:26.006Z"
   },
   {
    "duration": 12,
    "start_time": "2022-10-28T05:07:26.035Z"
   }
  ],
  "colab": {
   "name": "dpp_template_part2.ipynb",
   "provenance": []
  },
  "kernelspec": {
   "display_name": "Python 3 (ipykernel)",
   "language": "python",
   "name": "python3"
  },
  "language_info": {
   "codemirror_mode": {
    "name": "ipython",
    "version": 3
   },
   "file_extension": ".py",
   "mimetype": "text/x-python",
   "name": "python",
   "nbconvert_exporter": "python",
   "pygments_lexer": "ipython3",
   "version": "3.9.13"
  },
  "toc": {
   "base_numbering": 1,
   "nav_menu": {},
   "number_sections": true,
   "sideBar": true,
   "skip_h1_title": true,
   "title_cell": "Table of Contents",
   "title_sidebar": "Contents",
   "toc_cell": false,
   "toc_position": {},
   "toc_section_display": true,
   "toc_window_display": false
  }
 },
 "nbformat": 4,
 "nbformat_minor": 5
}
