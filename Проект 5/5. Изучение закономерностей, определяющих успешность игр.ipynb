{
 "cells": [
  {
   "cell_type": "markdown",
   "metadata": {},
   "source": [
    "# Изучение закономерностей, определяющих успешность игр"
   ]
  },
  {
   "cell_type": "markdown",
   "metadata": {},
   "source": [
    "## Описание"
   ]
  },
  {
   "cell_type": "markdown",
   "metadata": {},
   "source": [
    "Вы работаете в интернет-магазине «Стримчик», который продаёт по всему миру компьютерные игры. Из открытых источников доступны исторические данные о продажах игр, оценки пользователей и экспертов, жанры и платформы (например, Xbox или PlayStation). Вам нужно выявить определяющие успешность игры закономерности. Это позволит сделать ставку на потенциально популярный продукт и спланировать рекламные кампании.  \n",
    "\n",
    "Перед вами данные до 2016 года. Представим, что сейчас декабрь 2016 г., и вы планируете кампанию на 2017-й. Нужно отработать принцип работы с данными. Неважно, прогнозируете ли вы продажи на 2017 год по данным 2016-го или же 2027-й — по данным 2026 года.  \n",
    "\n",
    "В наборе данных попадается аббревиатура ESRB (Entertainment Software Rating Board) — это ассоциация, определяющая возрастной рейтинг компьютерных игр. ESRB оценивает игровой контент и присваивает ему подходящую возрастную категорию, например, «Для взрослых», «Для детей младшего возраста» или «Для подростков»."
   ]
  },
  {
   "cell_type": "markdown",
   "metadata": {},
   "source": [
    "Name — название игры  \n",
    "Platform — платформа  \n",
    "Year_of_Release — год выпуска  \n",
    "Genre — жанр игры  \n",
    "NA_sales — продажи в Северной Америке (миллионы проданных копий)  \n",
    "EU_sales — продажи в Европе (миллионы проданных копий)  \n",
    "JP_sales — продажи в Японии (миллионы проданных копий)  \n",
    "Other_sales — продажи в других странах (миллионы проданных копий)  \n",
    "Critic_Score — оценка критиков (максимум 100)  \n",
    "User_Score — оценка пользователей (максимум 10)  \n",
    "Rating — рейтинг от организации ESRB (англ. Entertainment Software Rating Board). Эта ассоциация определяет рейтинг компьютерных игр и присваивает им подходящую возрастную категорию."
   ]
  },
  {
   "cell_type": "code",
   "execution_count": 1,
   "metadata": {},
   "outputs": [],
   "source": [
    "import pandas as pd\n",
    "import numpy as np\n",
    "import seaborn as sns\n",
    "import matplotlib.pyplot as plt\n",
    "from scipy import stats as st"
   ]
  },
  {
   "cell_type": "markdown",
   "metadata": {},
   "source": [
    "<a id='1'></a>\n",
    "## Изучение данных"
   ]
  },
  {
   "cell_type": "markdown",
   "metadata": {},
   "source": [
    "[**К общему выводу ->**](#6)"
   ]
  },
  {
   "cell_type": "code",
   "execution_count": 2,
   "metadata": {},
   "outputs": [
    {
     "data": {
      "text/html": [
       "<div>\n",
       "<style scoped>\n",
       "    .dataframe tbody tr th:only-of-type {\n",
       "        vertical-align: middle;\n",
       "    }\n",
       "\n",
       "    .dataframe tbody tr th {\n",
       "        vertical-align: top;\n",
       "    }\n",
       "\n",
       "    .dataframe thead th {\n",
       "        text-align: right;\n",
       "    }\n",
       "</style>\n",
       "<table border=\"1\" class=\"dataframe\">\n",
       "  <thead>\n",
       "    <tr style=\"text-align: right;\">\n",
       "      <th></th>\n",
       "      <th>Name</th>\n",
       "      <th>Platform</th>\n",
       "      <th>Year_of_Release</th>\n",
       "      <th>Genre</th>\n",
       "      <th>NA_sales</th>\n",
       "      <th>EU_sales</th>\n",
       "      <th>JP_sales</th>\n",
       "      <th>Other_sales</th>\n",
       "      <th>Critic_Score</th>\n",
       "      <th>User_Score</th>\n",
       "      <th>Rating</th>\n",
       "    </tr>\n",
       "  </thead>\n",
       "  <tbody>\n",
       "    <tr>\n",
       "      <th>0</th>\n",
       "      <td>Wii Sports</td>\n",
       "      <td>Wii</td>\n",
       "      <td>2006.0</td>\n",
       "      <td>Sports</td>\n",
       "      <td>41.36</td>\n",
       "      <td>28.96</td>\n",
       "      <td>3.77</td>\n",
       "      <td>8.45</td>\n",
       "      <td>76.0</td>\n",
       "      <td>8</td>\n",
       "      <td>E</td>\n",
       "    </tr>\n",
       "    <tr>\n",
       "      <th>1</th>\n",
       "      <td>Super Mario Bros.</td>\n",
       "      <td>NES</td>\n",
       "      <td>1985.0</td>\n",
       "      <td>Platform</td>\n",
       "      <td>29.08</td>\n",
       "      <td>3.58</td>\n",
       "      <td>6.81</td>\n",
       "      <td>0.77</td>\n",
       "      <td>NaN</td>\n",
       "      <td>NaN</td>\n",
       "      <td>NaN</td>\n",
       "    </tr>\n",
       "    <tr>\n",
       "      <th>2</th>\n",
       "      <td>Mario Kart Wii</td>\n",
       "      <td>Wii</td>\n",
       "      <td>2008.0</td>\n",
       "      <td>Racing</td>\n",
       "      <td>15.68</td>\n",
       "      <td>12.76</td>\n",
       "      <td>3.79</td>\n",
       "      <td>3.29</td>\n",
       "      <td>82.0</td>\n",
       "      <td>8.3</td>\n",
       "      <td>E</td>\n",
       "    </tr>\n",
       "    <tr>\n",
       "      <th>3</th>\n",
       "      <td>Wii Sports Resort</td>\n",
       "      <td>Wii</td>\n",
       "      <td>2009.0</td>\n",
       "      <td>Sports</td>\n",
       "      <td>15.61</td>\n",
       "      <td>10.93</td>\n",
       "      <td>3.28</td>\n",
       "      <td>2.95</td>\n",
       "      <td>80.0</td>\n",
       "      <td>8</td>\n",
       "      <td>E</td>\n",
       "    </tr>\n",
       "    <tr>\n",
       "      <th>4</th>\n",
       "      <td>Pokemon Red/Pokemon Blue</td>\n",
       "      <td>GB</td>\n",
       "      <td>1996.0</td>\n",
       "      <td>Role-Playing</td>\n",
       "      <td>11.27</td>\n",
       "      <td>8.89</td>\n",
       "      <td>10.22</td>\n",
       "      <td>1.00</td>\n",
       "      <td>NaN</td>\n",
       "      <td>NaN</td>\n",
       "      <td>NaN</td>\n",
       "    </tr>\n",
       "    <tr>\n",
       "      <th>5</th>\n",
       "      <td>Tetris</td>\n",
       "      <td>GB</td>\n",
       "      <td>1989.0</td>\n",
       "      <td>Puzzle</td>\n",
       "      <td>23.20</td>\n",
       "      <td>2.26</td>\n",
       "      <td>4.22</td>\n",
       "      <td>0.58</td>\n",
       "      <td>NaN</td>\n",
       "      <td>NaN</td>\n",
       "      <td>NaN</td>\n",
       "    </tr>\n",
       "    <tr>\n",
       "      <th>6</th>\n",
       "      <td>New Super Mario Bros.</td>\n",
       "      <td>DS</td>\n",
       "      <td>2006.0</td>\n",
       "      <td>Platform</td>\n",
       "      <td>11.28</td>\n",
       "      <td>9.14</td>\n",
       "      <td>6.50</td>\n",
       "      <td>2.88</td>\n",
       "      <td>89.0</td>\n",
       "      <td>8.5</td>\n",
       "      <td>E</td>\n",
       "    </tr>\n",
       "    <tr>\n",
       "      <th>7</th>\n",
       "      <td>Wii Play</td>\n",
       "      <td>Wii</td>\n",
       "      <td>2006.0</td>\n",
       "      <td>Misc</td>\n",
       "      <td>13.96</td>\n",
       "      <td>9.18</td>\n",
       "      <td>2.93</td>\n",
       "      <td>2.84</td>\n",
       "      <td>58.0</td>\n",
       "      <td>6.6</td>\n",
       "      <td>E</td>\n",
       "    </tr>\n",
       "    <tr>\n",
       "      <th>8</th>\n",
       "      <td>New Super Mario Bros. Wii</td>\n",
       "      <td>Wii</td>\n",
       "      <td>2009.0</td>\n",
       "      <td>Platform</td>\n",
       "      <td>14.44</td>\n",
       "      <td>6.94</td>\n",
       "      <td>4.70</td>\n",
       "      <td>2.24</td>\n",
       "      <td>87.0</td>\n",
       "      <td>8.4</td>\n",
       "      <td>E</td>\n",
       "    </tr>\n",
       "    <tr>\n",
       "      <th>9</th>\n",
       "      <td>Duck Hunt</td>\n",
       "      <td>NES</td>\n",
       "      <td>1984.0</td>\n",
       "      <td>Shooter</td>\n",
       "      <td>26.93</td>\n",
       "      <td>0.63</td>\n",
       "      <td>0.28</td>\n",
       "      <td>0.47</td>\n",
       "      <td>NaN</td>\n",
       "      <td>NaN</td>\n",
       "      <td>NaN</td>\n",
       "    </tr>\n",
       "  </tbody>\n",
       "</table>\n",
       "</div>"
      ],
      "text/plain": [
       "                        Name Platform  Year_of_Release         Genre  \\\n",
       "0                 Wii Sports      Wii           2006.0        Sports   \n",
       "1          Super Mario Bros.      NES           1985.0      Platform   \n",
       "2             Mario Kart Wii      Wii           2008.0        Racing   \n",
       "3          Wii Sports Resort      Wii           2009.0        Sports   \n",
       "4   Pokemon Red/Pokemon Blue       GB           1996.0  Role-Playing   \n",
       "5                     Tetris       GB           1989.0        Puzzle   \n",
       "6      New Super Mario Bros.       DS           2006.0      Platform   \n",
       "7                   Wii Play      Wii           2006.0          Misc   \n",
       "8  New Super Mario Bros. Wii      Wii           2009.0      Platform   \n",
       "9                  Duck Hunt      NES           1984.0       Shooter   \n",
       "\n",
       "   NA_sales  EU_sales  JP_sales  Other_sales  Critic_Score User_Score Rating  \n",
       "0     41.36     28.96      3.77         8.45          76.0          8      E  \n",
       "1     29.08      3.58      6.81         0.77           NaN        NaN    NaN  \n",
       "2     15.68     12.76      3.79         3.29          82.0        8.3      E  \n",
       "3     15.61     10.93      3.28         2.95          80.0          8      E  \n",
       "4     11.27      8.89     10.22         1.00           NaN        NaN    NaN  \n",
       "5     23.20      2.26      4.22         0.58           NaN        NaN    NaN  \n",
       "6     11.28      9.14      6.50         2.88          89.0        8.5      E  \n",
       "7     13.96      9.18      2.93         2.84          58.0        6.6      E  \n",
       "8     14.44      6.94      4.70         2.24          87.0        8.4      E  \n",
       "9     26.93      0.63      0.28         0.47           NaN        NaN    NaN  "
      ]
     },
     "execution_count": 2,
     "metadata": {},
     "output_type": "execute_result"
    }
   ],
   "source": [
    "data = pd.read_csv('/datasets/games.csv')\n",
    "data.head(10)"
   ]
  },
  {
   "cell_type": "code",
   "execution_count": 3,
   "metadata": {},
   "outputs": [
    {
     "name": "stdout",
     "output_type": "stream",
     "text": [
      "<class 'pandas.core.frame.DataFrame'>\n",
      "RangeIndex: 16715 entries, 0 to 16714\n",
      "Data columns (total 11 columns):\n",
      " #   Column           Non-Null Count  Dtype  \n",
      "---  ------           --------------  -----  \n",
      " 0   Name             16713 non-null  object \n",
      " 1   Platform         16715 non-null  object \n",
      " 2   Year_of_Release  16446 non-null  float64\n",
      " 3   Genre            16713 non-null  object \n",
      " 4   NA_sales         16715 non-null  float64\n",
      " 5   EU_sales         16715 non-null  float64\n",
      " 6   JP_sales         16715 non-null  float64\n",
      " 7   Other_sales      16715 non-null  float64\n",
      " 8   Critic_Score     8137 non-null   float64\n",
      " 9   User_Score       10014 non-null  object \n",
      " 10  Rating           9949 non-null   object \n",
      "dtypes: float64(6), object(5)\n",
      "memory usage: 1.4+ MB\n"
     ]
    }
   ],
   "source": [
    "data.info()"
   ]
  },
  {
   "cell_type": "markdown",
   "metadata": {},
   "source": [
    "Проверим и выведем кол-во пропусков по столбцам"
   ]
  },
  {
   "cell_type": "code",
   "execution_count": 4,
   "metadata": {},
   "outputs": [
    {
     "data": {
      "text/plain": [
       "Name                  2\n",
       "Platform              0\n",
       "Year_of_Release     269\n",
       "Genre                 2\n",
       "NA_sales              0\n",
       "EU_sales              0\n",
       "JP_sales              0\n",
       "Other_sales           0\n",
       "Critic_Score       8578\n",
       "User_Score         6701\n",
       "Rating             6766\n",
       "dtype: int64"
      ]
     },
     "execution_count": 4,
     "metadata": {},
     "output_type": "execute_result"
    }
   ],
   "source": [
    "data.isna().sum()"
   ]
  },
  {
   "cell_type": "markdown",
   "metadata": {},
   "source": [
    "<a id='2'></a>\n",
    "## Обработка данных"
   ]
  },
  {
   "cell_type": "markdown",
   "metadata": {},
   "source": [
    "[**К общему выводу ->**](#6)"
   ]
  },
  {
   "cell_type": "markdown",
   "metadata": {},
   "source": [
    "Заменим названия столбцов (приведите к нижнему регистру)"
   ]
  },
  {
   "cell_type": "code",
   "execution_count": 5,
   "metadata": {},
   "outputs": [],
   "source": [
    "data.columns = data.columns.str.lower()"
   ]
  },
  {
   "cell_type": "markdown",
   "metadata": {},
   "source": [
    "пропуски в жанре и названии игры совпадают, плюс по этим играм в целом много пропусков, можно убрать эти 2 строчки польностью"
   ]
  },
  {
   "cell_type": "code",
   "execution_count": 6,
   "metadata": {},
   "outputs": [
    {
     "data": {
      "text/html": [
       "<div>\n",
       "<style scoped>\n",
       "    .dataframe tbody tr th:only-of-type {\n",
       "        vertical-align: middle;\n",
       "    }\n",
       "\n",
       "    .dataframe tbody tr th {\n",
       "        vertical-align: top;\n",
       "    }\n",
       "\n",
       "    .dataframe thead th {\n",
       "        text-align: right;\n",
       "    }\n",
       "</style>\n",
       "<table border=\"1\" class=\"dataframe\">\n",
       "  <thead>\n",
       "    <tr style=\"text-align: right;\">\n",
       "      <th></th>\n",
       "      <th>name</th>\n",
       "      <th>platform</th>\n",
       "      <th>year_of_release</th>\n",
       "      <th>genre</th>\n",
       "      <th>na_sales</th>\n",
       "      <th>eu_sales</th>\n",
       "      <th>jp_sales</th>\n",
       "      <th>other_sales</th>\n",
       "      <th>critic_score</th>\n",
       "      <th>user_score</th>\n",
       "      <th>rating</th>\n",
       "    </tr>\n",
       "  </thead>\n",
       "  <tbody>\n",
       "    <tr>\n",
       "      <th>659</th>\n",
       "      <td>NaN</td>\n",
       "      <td>GEN</td>\n",
       "      <td>1993.0</td>\n",
       "      <td>NaN</td>\n",
       "      <td>1.78</td>\n",
       "      <td>0.53</td>\n",
       "      <td>0.00</td>\n",
       "      <td>0.08</td>\n",
       "      <td>NaN</td>\n",
       "      <td>NaN</td>\n",
       "      <td>NaN</td>\n",
       "    </tr>\n",
       "    <tr>\n",
       "      <th>14244</th>\n",
       "      <td>NaN</td>\n",
       "      <td>GEN</td>\n",
       "      <td>1993.0</td>\n",
       "      <td>NaN</td>\n",
       "      <td>0.00</td>\n",
       "      <td>0.00</td>\n",
       "      <td>0.03</td>\n",
       "      <td>0.00</td>\n",
       "      <td>NaN</td>\n",
       "      <td>NaN</td>\n",
       "      <td>NaN</td>\n",
       "    </tr>\n",
       "  </tbody>\n",
       "</table>\n",
       "</div>"
      ],
      "text/plain": [
       "      name platform  year_of_release genre  na_sales  eu_sales  jp_sales  \\\n",
       "659    NaN      GEN           1993.0   NaN      1.78      0.53      0.00   \n",
       "14244  NaN      GEN           1993.0   NaN      0.00      0.00      0.03   \n",
       "\n",
       "       other_sales  critic_score user_score rating  \n",
       "659           0.08           NaN        NaN    NaN  \n",
       "14244         0.00           NaN        NaN    NaN  "
      ]
     },
     "execution_count": 6,
     "metadata": {},
     "output_type": "execute_result"
    }
   ],
   "source": [
    "data[data['name'].isna()]"
   ]
  },
  {
   "cell_type": "markdown",
   "metadata": {},
   "source": [
    "данных по оценкам критиков не хватает много, игры есть как старые, так и совсем  новые."
   ]
  },
  {
   "cell_type": "code",
   "execution_count": 7,
   "metadata": {},
   "outputs": [
    {
     "data": {
      "text/html": [
       "<div>\n",
       "<style scoped>\n",
       "    .dataframe tbody tr th:only-of-type {\n",
       "        vertical-align: middle;\n",
       "    }\n",
       "\n",
       "    .dataframe tbody tr th {\n",
       "        vertical-align: top;\n",
       "    }\n",
       "\n",
       "    .dataframe thead th {\n",
       "        text-align: right;\n",
       "    }\n",
       "</style>\n",
       "<table border=\"1\" class=\"dataframe\">\n",
       "  <thead>\n",
       "    <tr style=\"text-align: right;\">\n",
       "      <th></th>\n",
       "      <th>name</th>\n",
       "      <th>platform</th>\n",
       "      <th>year_of_release</th>\n",
       "      <th>genre</th>\n",
       "      <th>na_sales</th>\n",
       "      <th>eu_sales</th>\n",
       "      <th>jp_sales</th>\n",
       "      <th>other_sales</th>\n",
       "      <th>critic_score</th>\n",
       "      <th>user_score</th>\n",
       "      <th>rating</th>\n",
       "    </tr>\n",
       "  </thead>\n",
       "  <tbody>\n",
       "    <tr>\n",
       "      <th>1</th>\n",
       "      <td>Super Mario Bros.</td>\n",
       "      <td>NES</td>\n",
       "      <td>1985.0</td>\n",
       "      <td>Platform</td>\n",
       "      <td>29.08</td>\n",
       "      <td>3.58</td>\n",
       "      <td>6.81</td>\n",
       "      <td>0.77</td>\n",
       "      <td>NaN</td>\n",
       "      <td>NaN</td>\n",
       "      <td>NaN</td>\n",
       "    </tr>\n",
       "    <tr>\n",
       "      <th>4</th>\n",
       "      <td>Pokemon Red/Pokemon Blue</td>\n",
       "      <td>GB</td>\n",
       "      <td>1996.0</td>\n",
       "      <td>Role-Playing</td>\n",
       "      <td>11.27</td>\n",
       "      <td>8.89</td>\n",
       "      <td>10.22</td>\n",
       "      <td>1.00</td>\n",
       "      <td>NaN</td>\n",
       "      <td>NaN</td>\n",
       "      <td>NaN</td>\n",
       "    </tr>\n",
       "    <tr>\n",
       "      <th>5</th>\n",
       "      <td>Tetris</td>\n",
       "      <td>GB</td>\n",
       "      <td>1989.0</td>\n",
       "      <td>Puzzle</td>\n",
       "      <td>23.20</td>\n",
       "      <td>2.26</td>\n",
       "      <td>4.22</td>\n",
       "      <td>0.58</td>\n",
       "      <td>NaN</td>\n",
       "      <td>NaN</td>\n",
       "      <td>NaN</td>\n",
       "    </tr>\n",
       "    <tr>\n",
       "      <th>9</th>\n",
       "      <td>Duck Hunt</td>\n",
       "      <td>NES</td>\n",
       "      <td>1984.0</td>\n",
       "      <td>Shooter</td>\n",
       "      <td>26.93</td>\n",
       "      <td>0.63</td>\n",
       "      <td>0.28</td>\n",
       "      <td>0.47</td>\n",
       "      <td>NaN</td>\n",
       "      <td>NaN</td>\n",
       "      <td>NaN</td>\n",
       "    </tr>\n",
       "    <tr>\n",
       "      <th>10</th>\n",
       "      <td>Nintendogs</td>\n",
       "      <td>DS</td>\n",
       "      <td>2005.0</td>\n",
       "      <td>Simulation</td>\n",
       "      <td>9.05</td>\n",
       "      <td>10.95</td>\n",
       "      <td>1.93</td>\n",
       "      <td>2.74</td>\n",
       "      <td>NaN</td>\n",
       "      <td>NaN</td>\n",
       "      <td>NaN</td>\n",
       "    </tr>\n",
       "    <tr>\n",
       "      <th>...</th>\n",
       "      <td>...</td>\n",
       "      <td>...</td>\n",
       "      <td>...</td>\n",
       "      <td>...</td>\n",
       "      <td>...</td>\n",
       "      <td>...</td>\n",
       "      <td>...</td>\n",
       "      <td>...</td>\n",
       "      <td>...</td>\n",
       "      <td>...</td>\n",
       "      <td>...</td>\n",
       "    </tr>\n",
       "    <tr>\n",
       "      <th>16710</th>\n",
       "      <td>Samurai Warriors: Sanada Maru</td>\n",
       "      <td>PS3</td>\n",
       "      <td>2016.0</td>\n",
       "      <td>Action</td>\n",
       "      <td>0.00</td>\n",
       "      <td>0.00</td>\n",
       "      <td>0.01</td>\n",
       "      <td>0.00</td>\n",
       "      <td>NaN</td>\n",
       "      <td>NaN</td>\n",
       "      <td>NaN</td>\n",
       "    </tr>\n",
       "    <tr>\n",
       "      <th>16711</th>\n",
       "      <td>LMA Manager 2007</td>\n",
       "      <td>X360</td>\n",
       "      <td>2006.0</td>\n",
       "      <td>Sports</td>\n",
       "      <td>0.00</td>\n",
       "      <td>0.01</td>\n",
       "      <td>0.00</td>\n",
       "      <td>0.00</td>\n",
       "      <td>NaN</td>\n",
       "      <td>NaN</td>\n",
       "      <td>NaN</td>\n",
       "    </tr>\n",
       "    <tr>\n",
       "      <th>16712</th>\n",
       "      <td>Haitaka no Psychedelica</td>\n",
       "      <td>PSV</td>\n",
       "      <td>2016.0</td>\n",
       "      <td>Adventure</td>\n",
       "      <td>0.00</td>\n",
       "      <td>0.00</td>\n",
       "      <td>0.01</td>\n",
       "      <td>0.00</td>\n",
       "      <td>NaN</td>\n",
       "      <td>NaN</td>\n",
       "      <td>NaN</td>\n",
       "    </tr>\n",
       "    <tr>\n",
       "      <th>16713</th>\n",
       "      <td>Spirits &amp; Spells</td>\n",
       "      <td>GBA</td>\n",
       "      <td>2003.0</td>\n",
       "      <td>Platform</td>\n",
       "      <td>0.01</td>\n",
       "      <td>0.00</td>\n",
       "      <td>0.00</td>\n",
       "      <td>0.00</td>\n",
       "      <td>NaN</td>\n",
       "      <td>NaN</td>\n",
       "      <td>NaN</td>\n",
       "    </tr>\n",
       "    <tr>\n",
       "      <th>16714</th>\n",
       "      <td>Winning Post 8 2016</td>\n",
       "      <td>PSV</td>\n",
       "      <td>2016.0</td>\n",
       "      <td>Simulation</td>\n",
       "      <td>0.00</td>\n",
       "      <td>0.00</td>\n",
       "      <td>0.01</td>\n",
       "      <td>0.00</td>\n",
       "      <td>NaN</td>\n",
       "      <td>NaN</td>\n",
       "      <td>NaN</td>\n",
       "    </tr>\n",
       "  </tbody>\n",
       "</table>\n",
       "<p>8578 rows × 11 columns</p>\n",
       "</div>"
      ],
      "text/plain": [
       "                                name platform  year_of_release         genre  \\\n",
       "1                  Super Mario Bros.      NES           1985.0      Platform   \n",
       "4           Pokemon Red/Pokemon Blue       GB           1996.0  Role-Playing   \n",
       "5                             Tetris       GB           1989.0        Puzzle   \n",
       "9                          Duck Hunt      NES           1984.0       Shooter   \n",
       "10                        Nintendogs       DS           2005.0    Simulation   \n",
       "...                              ...      ...              ...           ...   \n",
       "16710  Samurai Warriors: Sanada Maru      PS3           2016.0        Action   \n",
       "16711               LMA Manager 2007     X360           2006.0        Sports   \n",
       "16712        Haitaka no Psychedelica      PSV           2016.0     Adventure   \n",
       "16713               Spirits & Spells      GBA           2003.0      Platform   \n",
       "16714            Winning Post 8 2016      PSV           2016.0    Simulation   \n",
       "\n",
       "       na_sales  eu_sales  jp_sales  other_sales  critic_score user_score  \\\n",
       "1         29.08      3.58      6.81         0.77           NaN        NaN   \n",
       "4         11.27      8.89     10.22         1.00           NaN        NaN   \n",
       "5         23.20      2.26      4.22         0.58           NaN        NaN   \n",
       "9         26.93      0.63      0.28         0.47           NaN        NaN   \n",
       "10         9.05     10.95      1.93         2.74           NaN        NaN   \n",
       "...         ...       ...       ...          ...           ...        ...   \n",
       "16710      0.00      0.00      0.01         0.00           NaN        NaN   \n",
       "16711      0.00      0.01      0.00         0.00           NaN        NaN   \n",
       "16712      0.00      0.00      0.01         0.00           NaN        NaN   \n",
       "16713      0.01      0.00      0.00         0.00           NaN        NaN   \n",
       "16714      0.00      0.00      0.01         0.00           NaN        NaN   \n",
       "\n",
       "      rating  \n",
       "1        NaN  \n",
       "4        NaN  \n",
       "5        NaN  \n",
       "9        NaN  \n",
       "10       NaN  \n",
       "...      ...  \n",
       "16710    NaN  \n",
       "16711    NaN  \n",
       "16712    NaN  \n",
       "16713    NaN  \n",
       "16714    NaN  \n",
       "\n",
       "[8578 rows x 11 columns]"
      ]
     },
     "execution_count": 7,
     "metadata": {},
     "output_type": "execute_result"
    }
   ],
   "source": [
    "data[data['critic_score'].isna()]"
   ]
  },
  {
   "cell_type": "markdown",
   "metadata": {},
   "source": [
    "тоже самое игры разные, года тоже"
   ]
  },
  {
   "cell_type": "code",
   "execution_count": 8,
   "metadata": {},
   "outputs": [
    {
     "data": {
      "text/html": [
       "<div>\n",
       "<style scoped>\n",
       "    .dataframe tbody tr th:only-of-type {\n",
       "        vertical-align: middle;\n",
       "    }\n",
       "\n",
       "    .dataframe tbody tr th {\n",
       "        vertical-align: top;\n",
       "    }\n",
       "\n",
       "    .dataframe thead th {\n",
       "        text-align: right;\n",
       "    }\n",
       "</style>\n",
       "<table border=\"1\" class=\"dataframe\">\n",
       "  <thead>\n",
       "    <tr style=\"text-align: right;\">\n",
       "      <th></th>\n",
       "      <th>name</th>\n",
       "      <th>platform</th>\n",
       "      <th>year_of_release</th>\n",
       "      <th>genre</th>\n",
       "      <th>na_sales</th>\n",
       "      <th>eu_sales</th>\n",
       "      <th>jp_sales</th>\n",
       "      <th>other_sales</th>\n",
       "      <th>critic_score</th>\n",
       "      <th>user_score</th>\n",
       "      <th>rating</th>\n",
       "    </tr>\n",
       "  </thead>\n",
       "  <tbody>\n",
       "    <tr>\n",
       "      <th>1</th>\n",
       "      <td>Super Mario Bros.</td>\n",
       "      <td>NES</td>\n",
       "      <td>1985.0</td>\n",
       "      <td>Platform</td>\n",
       "      <td>29.08</td>\n",
       "      <td>3.58</td>\n",
       "      <td>6.81</td>\n",
       "      <td>0.77</td>\n",
       "      <td>NaN</td>\n",
       "      <td>NaN</td>\n",
       "      <td>NaN</td>\n",
       "    </tr>\n",
       "    <tr>\n",
       "      <th>4</th>\n",
       "      <td>Pokemon Red/Pokemon Blue</td>\n",
       "      <td>GB</td>\n",
       "      <td>1996.0</td>\n",
       "      <td>Role-Playing</td>\n",
       "      <td>11.27</td>\n",
       "      <td>8.89</td>\n",
       "      <td>10.22</td>\n",
       "      <td>1.00</td>\n",
       "      <td>NaN</td>\n",
       "      <td>NaN</td>\n",
       "      <td>NaN</td>\n",
       "    </tr>\n",
       "    <tr>\n",
       "      <th>5</th>\n",
       "      <td>Tetris</td>\n",
       "      <td>GB</td>\n",
       "      <td>1989.0</td>\n",
       "      <td>Puzzle</td>\n",
       "      <td>23.20</td>\n",
       "      <td>2.26</td>\n",
       "      <td>4.22</td>\n",
       "      <td>0.58</td>\n",
       "      <td>NaN</td>\n",
       "      <td>NaN</td>\n",
       "      <td>NaN</td>\n",
       "    </tr>\n",
       "    <tr>\n",
       "      <th>9</th>\n",
       "      <td>Duck Hunt</td>\n",
       "      <td>NES</td>\n",
       "      <td>1984.0</td>\n",
       "      <td>Shooter</td>\n",
       "      <td>26.93</td>\n",
       "      <td>0.63</td>\n",
       "      <td>0.28</td>\n",
       "      <td>0.47</td>\n",
       "      <td>NaN</td>\n",
       "      <td>NaN</td>\n",
       "      <td>NaN</td>\n",
       "    </tr>\n",
       "    <tr>\n",
       "      <th>10</th>\n",
       "      <td>Nintendogs</td>\n",
       "      <td>DS</td>\n",
       "      <td>2005.0</td>\n",
       "      <td>Simulation</td>\n",
       "      <td>9.05</td>\n",
       "      <td>10.95</td>\n",
       "      <td>1.93</td>\n",
       "      <td>2.74</td>\n",
       "      <td>NaN</td>\n",
       "      <td>NaN</td>\n",
       "      <td>NaN</td>\n",
       "    </tr>\n",
       "    <tr>\n",
       "      <th>...</th>\n",
       "      <td>...</td>\n",
       "      <td>...</td>\n",
       "      <td>...</td>\n",
       "      <td>...</td>\n",
       "      <td>...</td>\n",
       "      <td>...</td>\n",
       "      <td>...</td>\n",
       "      <td>...</td>\n",
       "      <td>...</td>\n",
       "      <td>...</td>\n",
       "      <td>...</td>\n",
       "    </tr>\n",
       "    <tr>\n",
       "      <th>16710</th>\n",
       "      <td>Samurai Warriors: Sanada Maru</td>\n",
       "      <td>PS3</td>\n",
       "      <td>2016.0</td>\n",
       "      <td>Action</td>\n",
       "      <td>0.00</td>\n",
       "      <td>0.00</td>\n",
       "      <td>0.01</td>\n",
       "      <td>0.00</td>\n",
       "      <td>NaN</td>\n",
       "      <td>NaN</td>\n",
       "      <td>NaN</td>\n",
       "    </tr>\n",
       "    <tr>\n",
       "      <th>16711</th>\n",
       "      <td>LMA Manager 2007</td>\n",
       "      <td>X360</td>\n",
       "      <td>2006.0</td>\n",
       "      <td>Sports</td>\n",
       "      <td>0.00</td>\n",
       "      <td>0.01</td>\n",
       "      <td>0.00</td>\n",
       "      <td>0.00</td>\n",
       "      <td>NaN</td>\n",
       "      <td>NaN</td>\n",
       "      <td>NaN</td>\n",
       "    </tr>\n",
       "    <tr>\n",
       "      <th>16712</th>\n",
       "      <td>Haitaka no Psychedelica</td>\n",
       "      <td>PSV</td>\n",
       "      <td>2016.0</td>\n",
       "      <td>Adventure</td>\n",
       "      <td>0.00</td>\n",
       "      <td>0.00</td>\n",
       "      <td>0.01</td>\n",
       "      <td>0.00</td>\n",
       "      <td>NaN</td>\n",
       "      <td>NaN</td>\n",
       "      <td>NaN</td>\n",
       "    </tr>\n",
       "    <tr>\n",
       "      <th>16713</th>\n",
       "      <td>Spirits &amp; Spells</td>\n",
       "      <td>GBA</td>\n",
       "      <td>2003.0</td>\n",
       "      <td>Platform</td>\n",
       "      <td>0.01</td>\n",
       "      <td>0.00</td>\n",
       "      <td>0.00</td>\n",
       "      <td>0.00</td>\n",
       "      <td>NaN</td>\n",
       "      <td>NaN</td>\n",
       "      <td>NaN</td>\n",
       "    </tr>\n",
       "    <tr>\n",
       "      <th>16714</th>\n",
       "      <td>Winning Post 8 2016</td>\n",
       "      <td>PSV</td>\n",
       "      <td>2016.0</td>\n",
       "      <td>Simulation</td>\n",
       "      <td>0.00</td>\n",
       "      <td>0.00</td>\n",
       "      <td>0.01</td>\n",
       "      <td>0.00</td>\n",
       "      <td>NaN</td>\n",
       "      <td>NaN</td>\n",
       "      <td>NaN</td>\n",
       "    </tr>\n",
       "  </tbody>\n",
       "</table>\n",
       "<p>6701 rows × 11 columns</p>\n",
       "</div>"
      ],
      "text/plain": [
       "                                name platform  year_of_release         genre  \\\n",
       "1                  Super Mario Bros.      NES           1985.0      Platform   \n",
       "4           Pokemon Red/Pokemon Blue       GB           1996.0  Role-Playing   \n",
       "5                             Tetris       GB           1989.0        Puzzle   \n",
       "9                          Duck Hunt      NES           1984.0       Shooter   \n",
       "10                        Nintendogs       DS           2005.0    Simulation   \n",
       "...                              ...      ...              ...           ...   \n",
       "16710  Samurai Warriors: Sanada Maru      PS3           2016.0        Action   \n",
       "16711               LMA Manager 2007     X360           2006.0        Sports   \n",
       "16712        Haitaka no Psychedelica      PSV           2016.0     Adventure   \n",
       "16713               Spirits & Spells      GBA           2003.0      Platform   \n",
       "16714            Winning Post 8 2016      PSV           2016.0    Simulation   \n",
       "\n",
       "       na_sales  eu_sales  jp_sales  other_sales  critic_score user_score  \\\n",
       "1         29.08      3.58      6.81         0.77           NaN        NaN   \n",
       "4         11.27      8.89     10.22         1.00           NaN        NaN   \n",
       "5         23.20      2.26      4.22         0.58           NaN        NaN   \n",
       "9         26.93      0.63      0.28         0.47           NaN        NaN   \n",
       "10         9.05     10.95      1.93         2.74           NaN        NaN   \n",
       "...         ...       ...       ...          ...           ...        ...   \n",
       "16710      0.00      0.00      0.01         0.00           NaN        NaN   \n",
       "16711      0.00      0.01      0.00         0.00           NaN        NaN   \n",
       "16712      0.00      0.00      0.01         0.00           NaN        NaN   \n",
       "16713      0.01      0.00      0.00         0.00           NaN        NaN   \n",
       "16714      0.00      0.00      0.01         0.00           NaN        NaN   \n",
       "\n",
       "      rating  \n",
       "1        NaN  \n",
       "4        NaN  \n",
       "5        NaN  \n",
       "9        NaN  \n",
       "10       NaN  \n",
       "...      ...  \n",
       "16710    NaN  \n",
       "16711    NaN  \n",
       "16712    NaN  \n",
       "16713    NaN  \n",
       "16714    NaN  \n",
       "\n",
       "[6701 rows x 11 columns]"
      ]
     },
     "execution_count": 8,
     "metadata": {},
     "output_type": "execute_result"
    }
   ],
   "source": [
    "data[data['user_score'].isna()]"
   ]
  },
  {
   "cell_type": "markdown",
   "metadata": {},
   "source": [
    "тоже самое игры разные, года тоже"
   ]
  },
  {
   "cell_type": "code",
   "execution_count": 9,
   "metadata": {},
   "outputs": [
    {
     "data": {
      "text/html": [
       "<div>\n",
       "<style scoped>\n",
       "    .dataframe tbody tr th:only-of-type {\n",
       "        vertical-align: middle;\n",
       "    }\n",
       "\n",
       "    .dataframe tbody tr th {\n",
       "        vertical-align: top;\n",
       "    }\n",
       "\n",
       "    .dataframe thead th {\n",
       "        text-align: right;\n",
       "    }\n",
       "</style>\n",
       "<table border=\"1\" class=\"dataframe\">\n",
       "  <thead>\n",
       "    <tr style=\"text-align: right;\">\n",
       "      <th></th>\n",
       "      <th>name</th>\n",
       "      <th>platform</th>\n",
       "      <th>year_of_release</th>\n",
       "      <th>genre</th>\n",
       "      <th>na_sales</th>\n",
       "      <th>eu_sales</th>\n",
       "      <th>jp_sales</th>\n",
       "      <th>other_sales</th>\n",
       "      <th>critic_score</th>\n",
       "      <th>user_score</th>\n",
       "      <th>rating</th>\n",
       "    </tr>\n",
       "  </thead>\n",
       "  <tbody>\n",
       "    <tr>\n",
       "      <th>1</th>\n",
       "      <td>Super Mario Bros.</td>\n",
       "      <td>NES</td>\n",
       "      <td>1985.0</td>\n",
       "      <td>Platform</td>\n",
       "      <td>29.08</td>\n",
       "      <td>3.58</td>\n",
       "      <td>6.81</td>\n",
       "      <td>0.77</td>\n",
       "      <td>NaN</td>\n",
       "      <td>NaN</td>\n",
       "      <td>NaN</td>\n",
       "    </tr>\n",
       "    <tr>\n",
       "      <th>4</th>\n",
       "      <td>Pokemon Red/Pokemon Blue</td>\n",
       "      <td>GB</td>\n",
       "      <td>1996.0</td>\n",
       "      <td>Role-Playing</td>\n",
       "      <td>11.27</td>\n",
       "      <td>8.89</td>\n",
       "      <td>10.22</td>\n",
       "      <td>1.00</td>\n",
       "      <td>NaN</td>\n",
       "      <td>NaN</td>\n",
       "      <td>NaN</td>\n",
       "    </tr>\n",
       "    <tr>\n",
       "      <th>5</th>\n",
       "      <td>Tetris</td>\n",
       "      <td>GB</td>\n",
       "      <td>1989.0</td>\n",
       "      <td>Puzzle</td>\n",
       "      <td>23.20</td>\n",
       "      <td>2.26</td>\n",
       "      <td>4.22</td>\n",
       "      <td>0.58</td>\n",
       "      <td>NaN</td>\n",
       "      <td>NaN</td>\n",
       "      <td>NaN</td>\n",
       "    </tr>\n",
       "    <tr>\n",
       "      <th>9</th>\n",
       "      <td>Duck Hunt</td>\n",
       "      <td>NES</td>\n",
       "      <td>1984.0</td>\n",
       "      <td>Shooter</td>\n",
       "      <td>26.93</td>\n",
       "      <td>0.63</td>\n",
       "      <td>0.28</td>\n",
       "      <td>0.47</td>\n",
       "      <td>NaN</td>\n",
       "      <td>NaN</td>\n",
       "      <td>NaN</td>\n",
       "    </tr>\n",
       "    <tr>\n",
       "      <th>10</th>\n",
       "      <td>Nintendogs</td>\n",
       "      <td>DS</td>\n",
       "      <td>2005.0</td>\n",
       "      <td>Simulation</td>\n",
       "      <td>9.05</td>\n",
       "      <td>10.95</td>\n",
       "      <td>1.93</td>\n",
       "      <td>2.74</td>\n",
       "      <td>NaN</td>\n",
       "      <td>NaN</td>\n",
       "      <td>NaN</td>\n",
       "    </tr>\n",
       "    <tr>\n",
       "      <th>...</th>\n",
       "      <td>...</td>\n",
       "      <td>...</td>\n",
       "      <td>...</td>\n",
       "      <td>...</td>\n",
       "      <td>...</td>\n",
       "      <td>...</td>\n",
       "      <td>...</td>\n",
       "      <td>...</td>\n",
       "      <td>...</td>\n",
       "      <td>...</td>\n",
       "      <td>...</td>\n",
       "    </tr>\n",
       "    <tr>\n",
       "      <th>16710</th>\n",
       "      <td>Samurai Warriors: Sanada Maru</td>\n",
       "      <td>PS3</td>\n",
       "      <td>2016.0</td>\n",
       "      <td>Action</td>\n",
       "      <td>0.00</td>\n",
       "      <td>0.00</td>\n",
       "      <td>0.01</td>\n",
       "      <td>0.00</td>\n",
       "      <td>NaN</td>\n",
       "      <td>NaN</td>\n",
       "      <td>NaN</td>\n",
       "    </tr>\n",
       "    <tr>\n",
       "      <th>16711</th>\n",
       "      <td>LMA Manager 2007</td>\n",
       "      <td>X360</td>\n",
       "      <td>2006.0</td>\n",
       "      <td>Sports</td>\n",
       "      <td>0.00</td>\n",
       "      <td>0.01</td>\n",
       "      <td>0.00</td>\n",
       "      <td>0.00</td>\n",
       "      <td>NaN</td>\n",
       "      <td>NaN</td>\n",
       "      <td>NaN</td>\n",
       "    </tr>\n",
       "    <tr>\n",
       "      <th>16712</th>\n",
       "      <td>Haitaka no Psychedelica</td>\n",
       "      <td>PSV</td>\n",
       "      <td>2016.0</td>\n",
       "      <td>Adventure</td>\n",
       "      <td>0.00</td>\n",
       "      <td>0.00</td>\n",
       "      <td>0.01</td>\n",
       "      <td>0.00</td>\n",
       "      <td>NaN</td>\n",
       "      <td>NaN</td>\n",
       "      <td>NaN</td>\n",
       "    </tr>\n",
       "    <tr>\n",
       "      <th>16713</th>\n",
       "      <td>Spirits &amp; Spells</td>\n",
       "      <td>GBA</td>\n",
       "      <td>2003.0</td>\n",
       "      <td>Platform</td>\n",
       "      <td>0.01</td>\n",
       "      <td>0.00</td>\n",
       "      <td>0.00</td>\n",
       "      <td>0.00</td>\n",
       "      <td>NaN</td>\n",
       "      <td>NaN</td>\n",
       "      <td>NaN</td>\n",
       "    </tr>\n",
       "    <tr>\n",
       "      <th>16714</th>\n",
       "      <td>Winning Post 8 2016</td>\n",
       "      <td>PSV</td>\n",
       "      <td>2016.0</td>\n",
       "      <td>Simulation</td>\n",
       "      <td>0.00</td>\n",
       "      <td>0.00</td>\n",
       "      <td>0.01</td>\n",
       "      <td>0.00</td>\n",
       "      <td>NaN</td>\n",
       "      <td>NaN</td>\n",
       "      <td>NaN</td>\n",
       "    </tr>\n",
       "  </tbody>\n",
       "</table>\n",
       "<p>6766 rows × 11 columns</p>\n",
       "</div>"
      ],
      "text/plain": [
       "                                name platform  year_of_release         genre  \\\n",
       "1                  Super Mario Bros.      NES           1985.0      Platform   \n",
       "4           Pokemon Red/Pokemon Blue       GB           1996.0  Role-Playing   \n",
       "5                             Tetris       GB           1989.0        Puzzle   \n",
       "9                          Duck Hunt      NES           1984.0       Shooter   \n",
       "10                        Nintendogs       DS           2005.0    Simulation   \n",
       "...                              ...      ...              ...           ...   \n",
       "16710  Samurai Warriors: Sanada Maru      PS3           2016.0        Action   \n",
       "16711               LMA Manager 2007     X360           2006.0        Sports   \n",
       "16712        Haitaka no Psychedelica      PSV           2016.0     Adventure   \n",
       "16713               Spirits & Spells      GBA           2003.0      Platform   \n",
       "16714            Winning Post 8 2016      PSV           2016.0    Simulation   \n",
       "\n",
       "       na_sales  eu_sales  jp_sales  other_sales  critic_score user_score  \\\n",
       "1         29.08      3.58      6.81         0.77           NaN        NaN   \n",
       "4         11.27      8.89     10.22         1.00           NaN        NaN   \n",
       "5         23.20      2.26      4.22         0.58           NaN        NaN   \n",
       "9         26.93      0.63      0.28         0.47           NaN        NaN   \n",
       "10         9.05     10.95      1.93         2.74           NaN        NaN   \n",
       "...         ...       ...       ...          ...           ...        ...   \n",
       "16710      0.00      0.00      0.01         0.00           NaN        NaN   \n",
       "16711      0.00      0.01      0.00         0.00           NaN        NaN   \n",
       "16712      0.00      0.00      0.01         0.00           NaN        NaN   \n",
       "16713      0.01      0.00      0.00         0.00           NaN        NaN   \n",
       "16714      0.00      0.00      0.01         0.00           NaN        NaN   \n",
       "\n",
       "      rating  \n",
       "1        NaN  \n",
       "4        NaN  \n",
       "5        NaN  \n",
       "9        NaN  \n",
       "10       NaN  \n",
       "...      ...  \n",
       "16710    NaN  \n",
       "16711    NaN  \n",
       "16712    NaN  \n",
       "16713    NaN  \n",
       "16714    NaN  \n",
       "\n",
       "[6766 rows x 11 columns]"
      ]
     },
     "execution_count": 9,
     "metadata": {},
     "output_type": "execute_result"
    }
   ],
   "source": [
    "data[data['rating'].isna()]"
   ]
  },
  {
   "cell_type": "markdown",
   "metadata": {},
   "source": [
    "есть игры с названием года выпуска (типо Madden NFL 2004, который должен был выйти в 2003), \n",
    "так же можно поробовать проверить не выходили игры с похожими названиями на других платформах, \n",
    "хотя релиз некоторых игр на разных платформах могут разделять годы"
   ]
  },
  {
   "cell_type": "code",
   "execution_count": 10,
   "metadata": {},
   "outputs": [
    {
     "data": {
      "text/html": [
       "<div>\n",
       "<style scoped>\n",
       "    .dataframe tbody tr th:only-of-type {\n",
       "        vertical-align: middle;\n",
       "    }\n",
       "\n",
       "    .dataframe tbody tr th {\n",
       "        vertical-align: top;\n",
       "    }\n",
       "\n",
       "    .dataframe thead th {\n",
       "        text-align: right;\n",
       "    }\n",
       "</style>\n",
       "<table border=\"1\" class=\"dataframe\">\n",
       "  <thead>\n",
       "    <tr style=\"text-align: right;\">\n",
       "      <th></th>\n",
       "      <th>name</th>\n",
       "      <th>platform</th>\n",
       "      <th>year_of_release</th>\n",
       "      <th>genre</th>\n",
       "      <th>na_sales</th>\n",
       "      <th>eu_sales</th>\n",
       "      <th>jp_sales</th>\n",
       "      <th>other_sales</th>\n",
       "      <th>critic_score</th>\n",
       "      <th>user_score</th>\n",
       "      <th>rating</th>\n",
       "    </tr>\n",
       "  </thead>\n",
       "  <tbody>\n",
       "    <tr>\n",
       "      <th>183</th>\n",
       "      <td>Madden NFL 2004</td>\n",
       "      <td>PS2</td>\n",
       "      <td>NaN</td>\n",
       "      <td>Sports</td>\n",
       "      <td>4.26</td>\n",
       "      <td>0.26</td>\n",
       "      <td>0.01</td>\n",
       "      <td>0.71</td>\n",
       "      <td>94.0</td>\n",
       "      <td>8.5</td>\n",
       "      <td>E</td>\n",
       "    </tr>\n",
       "    <tr>\n",
       "      <th>377</th>\n",
       "      <td>FIFA Soccer 2004</td>\n",
       "      <td>PS2</td>\n",
       "      <td>NaN</td>\n",
       "      <td>Sports</td>\n",
       "      <td>0.59</td>\n",
       "      <td>2.36</td>\n",
       "      <td>0.04</td>\n",
       "      <td>0.51</td>\n",
       "      <td>84.0</td>\n",
       "      <td>6.4</td>\n",
       "      <td>E</td>\n",
       "    </tr>\n",
       "    <tr>\n",
       "      <th>456</th>\n",
       "      <td>LEGO Batman: The Videogame</td>\n",
       "      <td>Wii</td>\n",
       "      <td>NaN</td>\n",
       "      <td>Action</td>\n",
       "      <td>1.80</td>\n",
       "      <td>0.97</td>\n",
       "      <td>0.00</td>\n",
       "      <td>0.29</td>\n",
       "      <td>74.0</td>\n",
       "      <td>7.9</td>\n",
       "      <td>E10+</td>\n",
       "    </tr>\n",
       "    <tr>\n",
       "      <th>475</th>\n",
       "      <td>wwe Smackdown vs. Raw 2006</td>\n",
       "      <td>PS2</td>\n",
       "      <td>NaN</td>\n",
       "      <td>Fighting</td>\n",
       "      <td>1.57</td>\n",
       "      <td>1.02</td>\n",
       "      <td>0.00</td>\n",
       "      <td>0.41</td>\n",
       "      <td>NaN</td>\n",
       "      <td>NaN</td>\n",
       "      <td>NaN</td>\n",
       "    </tr>\n",
       "    <tr>\n",
       "      <th>609</th>\n",
       "      <td>Space Invaders</td>\n",
       "      <td>2600</td>\n",
       "      <td>NaN</td>\n",
       "      <td>Shooter</td>\n",
       "      <td>2.36</td>\n",
       "      <td>0.14</td>\n",
       "      <td>0.00</td>\n",
       "      <td>0.03</td>\n",
       "      <td>NaN</td>\n",
       "      <td>NaN</td>\n",
       "      <td>NaN</td>\n",
       "    </tr>\n",
       "    <tr>\n",
       "      <th>...</th>\n",
       "      <td>...</td>\n",
       "      <td>...</td>\n",
       "      <td>...</td>\n",
       "      <td>...</td>\n",
       "      <td>...</td>\n",
       "      <td>...</td>\n",
       "      <td>...</td>\n",
       "      <td>...</td>\n",
       "      <td>...</td>\n",
       "      <td>...</td>\n",
       "      <td>...</td>\n",
       "    </tr>\n",
       "    <tr>\n",
       "      <th>16373</th>\n",
       "      <td>PDC World Championship Darts 2008</td>\n",
       "      <td>PSP</td>\n",
       "      <td>NaN</td>\n",
       "      <td>Sports</td>\n",
       "      <td>0.01</td>\n",
       "      <td>0.00</td>\n",
       "      <td>0.00</td>\n",
       "      <td>0.00</td>\n",
       "      <td>43.0</td>\n",
       "      <td>tbd</td>\n",
       "      <td>E10+</td>\n",
       "    </tr>\n",
       "    <tr>\n",
       "      <th>16405</th>\n",
       "      <td>Freaky Flyers</td>\n",
       "      <td>GC</td>\n",
       "      <td>NaN</td>\n",
       "      <td>Racing</td>\n",
       "      <td>0.01</td>\n",
       "      <td>0.00</td>\n",
       "      <td>0.00</td>\n",
       "      <td>0.00</td>\n",
       "      <td>69.0</td>\n",
       "      <td>6.5</td>\n",
       "      <td>T</td>\n",
       "    </tr>\n",
       "    <tr>\n",
       "      <th>16448</th>\n",
       "      <td>Inversion</td>\n",
       "      <td>PC</td>\n",
       "      <td>NaN</td>\n",
       "      <td>Shooter</td>\n",
       "      <td>0.01</td>\n",
       "      <td>0.00</td>\n",
       "      <td>0.00</td>\n",
       "      <td>0.00</td>\n",
       "      <td>59.0</td>\n",
       "      <td>6.7</td>\n",
       "      <td>M</td>\n",
       "    </tr>\n",
       "    <tr>\n",
       "      <th>16458</th>\n",
       "      <td>Hakuouki: Shinsengumi Kitan</td>\n",
       "      <td>PS3</td>\n",
       "      <td>NaN</td>\n",
       "      <td>Adventure</td>\n",
       "      <td>0.01</td>\n",
       "      <td>0.00</td>\n",
       "      <td>0.00</td>\n",
       "      <td>0.00</td>\n",
       "      <td>NaN</td>\n",
       "      <td>NaN</td>\n",
       "      <td>NaN</td>\n",
       "    </tr>\n",
       "    <tr>\n",
       "      <th>16522</th>\n",
       "      <td>Virtua Quest</td>\n",
       "      <td>GC</td>\n",
       "      <td>NaN</td>\n",
       "      <td>Role-Playing</td>\n",
       "      <td>0.01</td>\n",
       "      <td>0.00</td>\n",
       "      <td>0.00</td>\n",
       "      <td>0.00</td>\n",
       "      <td>55.0</td>\n",
       "      <td>5.5</td>\n",
       "      <td>T</td>\n",
       "    </tr>\n",
       "  </tbody>\n",
       "</table>\n",
       "<p>269 rows × 11 columns</p>\n",
       "</div>"
      ],
      "text/plain": [
       "                                    name platform  year_of_release  \\\n",
       "183                      Madden NFL 2004      PS2              NaN   \n",
       "377                     FIFA Soccer 2004      PS2              NaN   \n",
       "456           LEGO Batman: The Videogame      Wii              NaN   \n",
       "475           wwe Smackdown vs. Raw 2006      PS2              NaN   \n",
       "609                       Space Invaders     2600              NaN   \n",
       "...                                  ...      ...              ...   \n",
       "16373  PDC World Championship Darts 2008      PSP              NaN   \n",
       "16405                      Freaky Flyers       GC              NaN   \n",
       "16448                          Inversion       PC              NaN   \n",
       "16458        Hakuouki: Shinsengumi Kitan      PS3              NaN   \n",
       "16522                       Virtua Quest       GC              NaN   \n",
       "\n",
       "              genre  na_sales  eu_sales  jp_sales  other_sales  critic_score  \\\n",
       "183          Sports      4.26      0.26      0.01         0.71          94.0   \n",
       "377          Sports      0.59      2.36      0.04         0.51          84.0   \n",
       "456          Action      1.80      0.97      0.00         0.29          74.0   \n",
       "475        Fighting      1.57      1.02      0.00         0.41           NaN   \n",
       "609         Shooter      2.36      0.14      0.00         0.03           NaN   \n",
       "...             ...       ...       ...       ...          ...           ...   \n",
       "16373        Sports      0.01      0.00      0.00         0.00          43.0   \n",
       "16405        Racing      0.01      0.00      0.00         0.00          69.0   \n",
       "16448       Shooter      0.01      0.00      0.00         0.00          59.0   \n",
       "16458     Adventure      0.01      0.00      0.00         0.00           NaN   \n",
       "16522  Role-Playing      0.01      0.00      0.00         0.00          55.0   \n",
       "\n",
       "      user_score rating  \n",
       "183          8.5      E  \n",
       "377          6.4      E  \n",
       "456          7.9   E10+  \n",
       "475          NaN    NaN  \n",
       "609          NaN    NaN  \n",
       "...          ...    ...  \n",
       "16373        tbd   E10+  \n",
       "16405        6.5      T  \n",
       "16448        6.7      M  \n",
       "16458        NaN    NaN  \n",
       "16522        5.5      T  \n",
       "\n",
       "[269 rows x 11 columns]"
      ]
     },
     "execution_count": 10,
     "metadata": {},
     "output_type": "execute_result"
    }
   ],
   "source": [
    "data[data['year_of_release'].isna()]"
   ]
  },
  {
   "cell_type": "markdown",
   "metadata": {},
   "source": [
    "TBD - to be decided, значит что игре еще не выдан рейтинг, возможно пользовательских оценок еще слишком мало,  \n",
    "чтобы вывести средний показатель - обычно есть какая-то граница по кол-ву оценок. Причин для этого может быть много.  \n",
    "Заменим tpd на -1"
   ]
  },
  {
   "cell_type": "code",
   "execution_count": 11,
   "metadata": {},
   "outputs": [],
   "source": [
    "data[data['user_score'] == 'tbd'] = -1"
   ]
  },
  {
   "cell_type": "markdown",
   "metadata": {},
   "source": [
    "убираем две строки с пропущенными значениями в названии и жанре,   \n",
    "заполняем пропуски по рейтингам значением -1,    \n",
    "заполнение медианными или средними значениями по году/жанру не несет большого смысл,   \n",
    "год выпуска так же заменим нулями и переведем в int  "
   ]
  },
  {
   "cell_type": "code",
   "execution_count": 12,
   "metadata": {},
   "outputs": [],
   "source": [
    "data = data.dropna(axis=0, subset =['name'])\n",
    "data['critic_score'] = data['critic_score'].fillna(-1)\n",
    "data['user_score'] = data['user_score'].fillna(-1).astype('float')\n",
    "data['rating'] = data['rating'].fillna('No Rating')\n",
    "data['year_of_release'] = data['year_of_release'].fillna(-1).astype('int64')"
   ]
  },
  {
   "cell_type": "code",
   "execution_count": 13,
   "metadata": {},
   "outputs": [],
   "source": [
    "#напримере первой же игры видим, что можно заполнить некоторые пропуски по году релиза взяв данные из других платформ\n",
    "#data[data['name'] == 'Madden NFL 2004']\n",
    "#for index in data[data['year_of_release'] == 0].index:\n",
    "#    data['year_of_release'][index] = data.loc[data['name'] == data['name'][index], 'year_of_release'].max()\n",
    "#def yor(row):\n",
    "#    if row['year_of_release'] == -1:\n",
    "#        row['year_of_release'] = data.loc[data['name'] == row['name'], 'year_of_release'].max()\n",
    "#    return row\n",
    "#data = data.apply(yor, axis = 1)\n",
    "#data[data['name'] == 'FIFA Soccer 2004']"
   ]
  },
  {
   "cell_type": "markdown",
   "metadata": {},
   "source": [
    "считаем продажи по всем регионам и добавляем новый столбец"
   ]
  },
  {
   "cell_type": "code",
   "execution_count": 14,
   "metadata": {},
   "outputs": [],
   "source": [
    "#data['sales'] = data['na_sales'] + data['eu_sales'] + data['jp_sales'] + data['other_sales']\n",
    "data['sales'] = data[['na_sales','eu_sales','jp_sales', 'other_sales']].sum(axis = 1)"
   ]
  },
  {
   "cell_type": "code",
   "execution_count": 15,
   "metadata": {},
   "outputs": [
    {
     "data": {
      "text/html": [
       "<div>\n",
       "<style scoped>\n",
       "    .dataframe tbody tr th:only-of-type {\n",
       "        vertical-align: middle;\n",
       "    }\n",
       "\n",
       "    .dataframe tbody tr th {\n",
       "        vertical-align: top;\n",
       "    }\n",
       "\n",
       "    .dataframe thead th {\n",
       "        text-align: right;\n",
       "    }\n",
       "</style>\n",
       "<table border=\"1\" class=\"dataframe\">\n",
       "  <thead>\n",
       "    <tr style=\"text-align: right;\">\n",
       "      <th></th>\n",
       "      <th>name</th>\n",
       "      <th>platform</th>\n",
       "      <th>year_of_release</th>\n",
       "      <th>genre</th>\n",
       "      <th>na_sales</th>\n",
       "      <th>eu_sales</th>\n",
       "      <th>jp_sales</th>\n",
       "      <th>other_sales</th>\n",
       "      <th>critic_score</th>\n",
       "      <th>user_score</th>\n",
       "      <th>rating</th>\n",
       "      <th>sales</th>\n",
       "    </tr>\n",
       "  </thead>\n",
       "  <tbody>\n",
       "    <tr>\n",
       "      <th>0</th>\n",
       "      <td>Wii Sports</td>\n",
       "      <td>Wii</td>\n",
       "      <td>2006</td>\n",
       "      <td>Sports</td>\n",
       "      <td>41.36</td>\n",
       "      <td>28.96</td>\n",
       "      <td>3.77</td>\n",
       "      <td>8.45</td>\n",
       "      <td>76.0</td>\n",
       "      <td>8.0</td>\n",
       "      <td>E</td>\n",
       "      <td>82.54</td>\n",
       "    </tr>\n",
       "    <tr>\n",
       "      <th>1</th>\n",
       "      <td>Super Mario Bros.</td>\n",
       "      <td>NES</td>\n",
       "      <td>1985</td>\n",
       "      <td>Platform</td>\n",
       "      <td>29.08</td>\n",
       "      <td>3.58</td>\n",
       "      <td>6.81</td>\n",
       "      <td>0.77</td>\n",
       "      <td>-1.0</td>\n",
       "      <td>-1.0</td>\n",
       "      <td>No Rating</td>\n",
       "      <td>40.24</td>\n",
       "    </tr>\n",
       "    <tr>\n",
       "      <th>2</th>\n",
       "      <td>Mario Kart Wii</td>\n",
       "      <td>Wii</td>\n",
       "      <td>2008</td>\n",
       "      <td>Racing</td>\n",
       "      <td>15.68</td>\n",
       "      <td>12.76</td>\n",
       "      <td>3.79</td>\n",
       "      <td>3.29</td>\n",
       "      <td>82.0</td>\n",
       "      <td>8.3</td>\n",
       "      <td>E</td>\n",
       "      <td>35.52</td>\n",
       "    </tr>\n",
       "    <tr>\n",
       "      <th>3</th>\n",
       "      <td>Wii Sports Resort</td>\n",
       "      <td>Wii</td>\n",
       "      <td>2009</td>\n",
       "      <td>Sports</td>\n",
       "      <td>15.61</td>\n",
       "      <td>10.93</td>\n",
       "      <td>3.28</td>\n",
       "      <td>2.95</td>\n",
       "      <td>80.0</td>\n",
       "      <td>8.0</td>\n",
       "      <td>E</td>\n",
       "      <td>32.77</td>\n",
       "    </tr>\n",
       "    <tr>\n",
       "      <th>4</th>\n",
       "      <td>Pokemon Red/Pokemon Blue</td>\n",
       "      <td>GB</td>\n",
       "      <td>1996</td>\n",
       "      <td>Role-Playing</td>\n",
       "      <td>11.27</td>\n",
       "      <td>8.89</td>\n",
       "      <td>10.22</td>\n",
       "      <td>1.00</td>\n",
       "      <td>-1.0</td>\n",
       "      <td>-1.0</td>\n",
       "      <td>No Rating</td>\n",
       "      <td>31.38</td>\n",
       "    </tr>\n",
       "    <tr>\n",
       "      <th>5</th>\n",
       "      <td>Tetris</td>\n",
       "      <td>GB</td>\n",
       "      <td>1989</td>\n",
       "      <td>Puzzle</td>\n",
       "      <td>23.20</td>\n",
       "      <td>2.26</td>\n",
       "      <td>4.22</td>\n",
       "      <td>0.58</td>\n",
       "      <td>-1.0</td>\n",
       "      <td>-1.0</td>\n",
       "      <td>No Rating</td>\n",
       "      <td>30.26</td>\n",
       "    </tr>\n",
       "    <tr>\n",
       "      <th>6</th>\n",
       "      <td>New Super Mario Bros.</td>\n",
       "      <td>DS</td>\n",
       "      <td>2006</td>\n",
       "      <td>Platform</td>\n",
       "      <td>11.28</td>\n",
       "      <td>9.14</td>\n",
       "      <td>6.50</td>\n",
       "      <td>2.88</td>\n",
       "      <td>89.0</td>\n",
       "      <td>8.5</td>\n",
       "      <td>E</td>\n",
       "      <td>29.80</td>\n",
       "    </tr>\n",
       "    <tr>\n",
       "      <th>7</th>\n",
       "      <td>Wii Play</td>\n",
       "      <td>Wii</td>\n",
       "      <td>2006</td>\n",
       "      <td>Misc</td>\n",
       "      <td>13.96</td>\n",
       "      <td>9.18</td>\n",
       "      <td>2.93</td>\n",
       "      <td>2.84</td>\n",
       "      <td>58.0</td>\n",
       "      <td>6.6</td>\n",
       "      <td>E</td>\n",
       "      <td>28.91</td>\n",
       "    </tr>\n",
       "    <tr>\n",
       "      <th>8</th>\n",
       "      <td>New Super Mario Bros. Wii</td>\n",
       "      <td>Wii</td>\n",
       "      <td>2009</td>\n",
       "      <td>Platform</td>\n",
       "      <td>14.44</td>\n",
       "      <td>6.94</td>\n",
       "      <td>4.70</td>\n",
       "      <td>2.24</td>\n",
       "      <td>87.0</td>\n",
       "      <td>8.4</td>\n",
       "      <td>E</td>\n",
       "      <td>28.32</td>\n",
       "    </tr>\n",
       "    <tr>\n",
       "      <th>9</th>\n",
       "      <td>Duck Hunt</td>\n",
       "      <td>NES</td>\n",
       "      <td>1984</td>\n",
       "      <td>Shooter</td>\n",
       "      <td>26.93</td>\n",
       "      <td>0.63</td>\n",
       "      <td>0.28</td>\n",
       "      <td>0.47</td>\n",
       "      <td>-1.0</td>\n",
       "      <td>-1.0</td>\n",
       "      <td>No Rating</td>\n",
       "      <td>28.31</td>\n",
       "    </tr>\n",
       "  </tbody>\n",
       "</table>\n",
       "</div>"
      ],
      "text/plain": [
       "                        name platform  year_of_release         genre  \\\n",
       "0                 Wii Sports      Wii             2006        Sports   \n",
       "1          Super Mario Bros.      NES             1985      Platform   \n",
       "2             Mario Kart Wii      Wii             2008        Racing   \n",
       "3          Wii Sports Resort      Wii             2009        Sports   \n",
       "4   Pokemon Red/Pokemon Blue       GB             1996  Role-Playing   \n",
       "5                     Tetris       GB             1989        Puzzle   \n",
       "6      New Super Mario Bros.       DS             2006      Platform   \n",
       "7                   Wii Play      Wii             2006          Misc   \n",
       "8  New Super Mario Bros. Wii      Wii             2009      Platform   \n",
       "9                  Duck Hunt      NES             1984       Shooter   \n",
       "\n",
       "   na_sales  eu_sales  jp_sales  other_sales  critic_score  user_score  \\\n",
       "0     41.36     28.96      3.77         8.45          76.0         8.0   \n",
       "1     29.08      3.58      6.81         0.77          -1.0        -1.0   \n",
       "2     15.68     12.76      3.79         3.29          82.0         8.3   \n",
       "3     15.61     10.93      3.28         2.95          80.0         8.0   \n",
       "4     11.27      8.89     10.22         1.00          -1.0        -1.0   \n",
       "5     23.20      2.26      4.22         0.58          -1.0        -1.0   \n",
       "6     11.28      9.14      6.50         2.88          89.0         8.5   \n",
       "7     13.96      9.18      2.93         2.84          58.0         6.6   \n",
       "8     14.44      6.94      4.70         2.24          87.0         8.4   \n",
       "9     26.93      0.63      0.28         0.47          -1.0        -1.0   \n",
       "\n",
       "      rating  sales  \n",
       "0          E  82.54  \n",
       "1  No Rating  40.24  \n",
       "2          E  35.52  \n",
       "3          E  32.77  \n",
       "4  No Rating  31.38  \n",
       "5  No Rating  30.26  \n",
       "6          E  29.80  \n",
       "7          E  28.91  \n",
       "8          E  28.32  \n",
       "9  No Rating  28.31  "
      ]
     },
     "execution_count": 15,
     "metadata": {},
     "output_type": "execute_result"
    }
   ],
   "source": [
    "data.head(10)"
   ]
  },
  {
   "cell_type": "code",
   "execution_count": 16,
   "metadata": {},
   "outputs": [
    {
     "name": "stdout",
     "output_type": "stream",
     "text": [
      "<class 'pandas.core.frame.DataFrame'>\n",
      "Int64Index: 16713 entries, 0 to 16714\n",
      "Data columns (total 12 columns):\n",
      " #   Column           Non-Null Count  Dtype  \n",
      "---  ------           --------------  -----  \n",
      " 0   name             16713 non-null  object \n",
      " 1   platform         16713 non-null  object \n",
      " 2   year_of_release  16713 non-null  int64  \n",
      " 3   genre            16713 non-null  object \n",
      " 4   na_sales         16713 non-null  float64\n",
      " 5   eu_sales         16713 non-null  float64\n",
      " 6   jp_sales         16713 non-null  float64\n",
      " 7   other_sales      16713 non-null  float64\n",
      " 8   critic_score     16713 non-null  float64\n",
      " 9   user_score       16713 non-null  float64\n",
      " 10  rating           16713 non-null  object \n",
      " 11  sales            16713 non-null  float64\n",
      "dtypes: float64(7), int64(1), object(4)\n",
      "memory usage: 1.7+ MB\n"
     ]
    }
   ],
   "source": [
    "data.info()"
   ]
  },
  {
   "cell_type": "markdown",
   "metadata": {},
   "source": [
    "**Вывод по обработке данных**\n"
   ]
  },
  {
   "cell_type": "markdown",
   "metadata": {},
   "source": [
    "Привели названия колонок к нижнему регистру.  \n",
    "Удалили 2 строки с пустыми названиями и жанрами, в которых было очень мало данных.  \n",
    "Заменили пропуски в столбцах по рейтингам и годам на нули, до этого нулевых значений в этих столбцах не было.  \n",
    "Менять значения на средние или медианные смысла не было, пропущенных значений слишком много.  \n",
    "Учитывать \"нули\" при анализе данных не будем.  \n",
    "'tbd' в 'user_score' так же заменили на ноль, т.к. фактически у игры рейтинга нет.  "
   ]
  },
  {
   "cell_type": "markdown",
   "metadata": {},
   "source": [
    "<a id='3'></a>\n",
    "## Исследовательский анализ данных"
   ]
  },
  {
   "cell_type": "markdown",
   "metadata": {},
   "source": [
    "[**К общему выводу ->**](#6)"
   ]
  },
  {
   "cell_type": "markdown",
   "metadata": {},
   "source": [
    "### Посмотрите, сколько игр выпускалось в разные годы."
   ]
  },
  {
   "cell_type": "code",
   "execution_count": 17,
   "metadata": {},
   "outputs": [
    {
     "data": {
      "text/plain": [
       "Text(0, 0.5, 'Кол-во релизов')"
      ]
     },
     "execution_count": 17,
     "metadata": {},
     "output_type": "execute_result"
    },
    {
     "data": {
      "image/png": "[encoded data removed]",
      "text/plain": [
       "<Figure size 1584x720 with 1 Axes>"
      ]
     },
     "metadata": {
      "needs_background": "light"
     },
     "output_type": "display_data"
    }
   ],
   "source": [
    "year = data.pivot_table(index = 'year_of_release', values = 'name', aggfunc='count')\n",
    "year = year[year.index != -1]\n",
    "plt.figure(figsize=(22,10))\n",
    "sns.barplot(x=year.index, y=year['name'])\n",
    "plt.title(\"Выпуски игр по годам\")\n",
    "plt.xlabel(\"Год релиза\")\n",
    "plt.ylabel(\"Кол-во релизов\")"
   ]
  },
  {
   "cell_type": "markdown",
   "metadata": {},
   "source": [
    "в года ранее 2002 выпускалось мало игр и платформы уже устаревшие, обрежем период до 2002"
   ]
  },
  {
   "cell_type": "code",
   "execution_count": 18,
   "metadata": {},
   "outputs": [],
   "source": [
    "data = data[data['year_of_release'] > 2001]"
   ]
  },
  {
   "cell_type": "markdown",
   "metadata": {},
   "source": [
    "### Посмотрите, как менялись продажи по платформам. Выберите платформы с наибольшими суммарными продажами и постройте распределение по годам."
   ]
  },
  {
   "cell_type": "code",
   "execution_count": 19,
   "metadata": {},
   "outputs": [
    {
     "data": {
      "text/plain": [
       "Text(0, 0.5, 'Количество продаж')"
      ]
     },
     "execution_count": 19,
     "metadata": {},
     "output_type": "execute_result"
    },
    {
     "data": {
      "image/png": "[encoded data removed]",
      "text/plain": [
       "<Figure size 1584x720 with 1 Axes>"
      ]
     },
     "metadata": {
      "needs_background": "light"
     },
     "output_type": "display_data"
    }
   ],
   "source": [
    "platform = data.pivot_table(index = 'platform', values = 'sales', aggfunc='sum').sort_values(by = 'sales', ascending = False)\n",
    "platform = platform[platform.index != -1]\n",
    "plt.figure(figsize=(22,10))\n",
    "sns.barplot(x=platform.index, y=platform['sales'])\n",
    "plt.title(\"Продажи по платформам за весь период\")\n",
    "plt.xlabel(\"Название платформы\")\n",
    "plt.ylabel(\"Количество продаж\")"
   ]
  },
  {
   "cell_type": "code",
   "execution_count": 20,
   "metadata": {},
   "outputs": [
    {
     "data": {
      "text/plain": [
       "<AxesSubplot:title={'center':'Продажи по платформам за весь период'}, xlabel='Год'>"
      ]
     },
     "execution_count": 20,
     "metadata": {},
     "output_type": "execute_result"
    },
    {
     "data": {
      "image/png": "[encoded data removed]",
      "text/plain": [
       "<Figure size 1296x288 with 1 Axes>"
      ]
     },
     "metadata": {
      "needs_background": "light"
     },
     "output_type": "display_data"
    }
   ],
   "source": [
    "data_top_alltime = data.loc[(data['platform'] == 'PS2') | \\\n",
    "                    (data['platform'] == 'X360') | \\\n",
    "                    (data['platform'] == 'PS3') | \\\n",
    "                    (data['platform'] == 'Wii') | \\\n",
    "                    (data['platform'] == 'PS') | \\\n",
    "                    (data['platform'] == 'DS')]\n",
    "\n",
    "data_top_alltime = data_top_alltime[data_top_alltime['year_of_release'] != -1]\n",
    "data_top_alltime = data_top_alltime.pivot_table(index = 'year_of_release', columns = 'platform', values ='sales',aggfunc='sum')\n",
    "data_top_alltime.plot(figsize=(18,4), title = 'Продажи по платформам за весь период', xlabel = 'Год',\\\n",
    "                      xticks=data_top_alltime.index, xlim=2002)"
   ]
  },
  {
   "cell_type": "markdown",
   "metadata": {},
   "source": [
    "Обычно жизнь игровой консоли составляет 7-9 лет."
   ]
  },
  {
   "cell_type": "markdown",
   "metadata": {},
   "source": [
    "### Возьмите данные за соответствующий актуальный период."
   ]
  },
  {
   "cell_type": "markdown",
   "metadata": {},
   "source": [
    "продажи игр нет особого смысла смотреть дальше, чем на пару лет назад, индустрия развивается и меняется достаточно быстро, плюс в конце 2013 года вышли новые поколения игровых приставок Sony и Microsoft, стоит ограничить анализ 2012 - 2016 годами"
   ]
  },
  {
   "cell_type": "code",
   "execution_count": 21,
   "metadata": {},
   "outputs": [],
   "source": [
    "data = data[data['year_of_release'] > 2011]"
   ]
  },
  {
   "cell_type": "code",
   "execution_count": 22,
   "metadata": {},
   "outputs": [
    {
     "data": {
      "text/plain": [
       "Text(0, 0.5, 'Количество продаж')"
      ]
     },
     "execution_count": 22,
     "metadata": {},
     "output_type": "execute_result"
    },
    {
     "data": {
      "image/png": "[encoded data removed]",
      "text/plain": [
       "<Figure size 1584x720 with 1 Axes>"
      ]
     },
     "metadata": {
      "needs_background": "light"
     },
     "output_type": "display_data"
    }
   ],
   "source": [
    "platform = data.pivot_table(index = 'platform', values = 'sales', aggfunc='sum').sort_values(by = 'sales', ascending = False)\n",
    "platform = platform[platform.index != -1]\n",
    "plt.figure(figsize=(22,10))\n",
    "sns.barplot(x=platform.index, y=platform['sales'])\n",
    "plt.title(\"Продажи по платформам за 2012-2016\")\n",
    "plt.xlabel(\"Название платформы\")\n",
    "plt.ylabel(\"Количество продаж\")"
   ]
  },
  {
   "cell_type": "code",
   "execution_count": 52,
   "metadata": {},
   "outputs": [
    {
     "data": {
      "text/plain": [
       "<AxesSubplot:title={'center':'Продажи по платформам за 2012-2016'}, xlabel='Год'>"
      ]
     },
     "execution_count": 52,
     "metadata": {},
     "output_type": "execute_result"
    },
    {
     "data": {
      "image/png": "[encoded data removed]",
      "text/plain": [
       "<Figure size 720x432 with 1 Axes>"
      ]
     },
     "metadata": {
      "needs_background": "light"
     },
     "output_type": "display_data"
    }
   ],
   "source": [
    "data_top = data.loc[(data['platform'] == 'PS4') | \\\n",
    "                    (data['platform'] == 'XOne') | \\\n",
    "                    (data['platform'] == 'PC') | \\\n",
    "                    (data['platform'] == '3DS') | \\\n",
    "                    (data['platform'] == 'WiiU')]\n",
    "\n",
    "data_top = data_top[data_top['year_of_release'] != -1]\n",
    "data_top_g = data_top.pivot_table(index = 'year_of_release', columns = 'platform', values ='sales',aggfunc='sum')\n",
    "data_top_g.plot(figsize=(10,6), title = 'Продажи по платформам за 2012-2016', xlabel = 'Год',\\\n",
    "                      xticks=data_top_g.index, xlim=2012)"
   ]
  },
  {
   "cell_type": "markdown",
   "metadata": {},
   "source": [
    "Т.к. 2016 год еще не закончился, то намс нужно понимать, что данные по нему неполные и будут только расти.  \n",
    "Но уже можно сказать, что хоть X360, PS3, 3DS занимают высокие показатели продаж за последние годы, но их продажи падают и на них ставку делать не стоит.  \n",
    "выделить можно PS4 и XOne как стабильные платформы с ростом"
   ]
  },
  {
   "cell_type": "markdown",
   "metadata": {},
   "source": [
    "### Постройте график «ящик с усами» по глобальным продажам игр в разбивке по платформам."
   ]
  },
  {
   "cell_type": "code",
   "execution_count": 24,
   "metadata": {},
   "outputs": [
    {
     "data": {
      "text/html": [
       "<div>\n",
       "<style scoped>\n",
       "    .dataframe tbody tr th:only-of-type {\n",
       "        vertical-align: middle;\n",
       "    }\n",
       "\n",
       "    .dataframe tbody tr th {\n",
       "        vertical-align: top;\n",
       "    }\n",
       "\n",
       "    .dataframe thead th {\n",
       "        text-align: right;\n",
       "    }\n",
       "</style>\n",
       "<table border=\"1\" class=\"dataframe\">\n",
       "  <thead>\n",
       "    <tr style=\"text-align: right;\">\n",
       "      <th></th>\n",
       "      <th>count</th>\n",
       "      <th>mean</th>\n",
       "      <th>std</th>\n",
       "      <th>min</th>\n",
       "      <th>25%</th>\n",
       "      <th>50%</th>\n",
       "      <th>75%</th>\n",
       "      <th>max</th>\n",
       "    </tr>\n",
       "    <tr>\n",
       "      <th>platform</th>\n",
       "      <th></th>\n",
       "      <th></th>\n",
       "      <th></th>\n",
       "      <th></th>\n",
       "      <th></th>\n",
       "      <th></th>\n",
       "      <th></th>\n",
       "      <th></th>\n",
       "    </tr>\n",
       "  </thead>\n",
       "  <tbody>\n",
       "    <tr>\n",
       "      <th>3DS</th>\n",
       "      <td>367.0</td>\n",
       "      <td>0.525095</td>\n",
       "      <td>1.435539</td>\n",
       "      <td>0.01</td>\n",
       "      <td>0.0500</td>\n",
       "      <td>0.130</td>\n",
       "      <td>0.37</td>\n",
       "      <td>14.60</td>\n",
       "    </tr>\n",
       "    <tr>\n",
       "      <th>PC</th>\n",
       "      <td>245.0</td>\n",
       "      <td>0.255347</td>\n",
       "      <td>0.498548</td>\n",
       "      <td>0.01</td>\n",
       "      <td>0.0300</td>\n",
       "      <td>0.080</td>\n",
       "      <td>0.24</td>\n",
       "      <td>5.14</td>\n",
       "    </tr>\n",
       "    <tr>\n",
       "      <th>PS4</th>\n",
       "      <td>386.0</td>\n",
       "      <td>0.813472</td>\n",
       "      <td>1.618992</td>\n",
       "      <td>0.01</td>\n",
       "      <td>0.0600</td>\n",
       "      <td>0.200</td>\n",
       "      <td>0.73</td>\n",
       "      <td>14.63</td>\n",
       "    </tr>\n",
       "    <tr>\n",
       "      <th>WiiU</th>\n",
       "      <td>142.0</td>\n",
       "      <td>0.575986</td>\n",
       "      <td>1.073459</td>\n",
       "      <td>0.01</td>\n",
       "      <td>0.0825</td>\n",
       "      <td>0.235</td>\n",
       "      <td>0.56</td>\n",
       "      <td>7.09</td>\n",
       "    </tr>\n",
       "    <tr>\n",
       "      <th>XOne</th>\n",
       "      <td>236.0</td>\n",
       "      <td>0.672754</td>\n",
       "      <td>1.051848</td>\n",
       "      <td>0.01</td>\n",
       "      <td>0.0675</td>\n",
       "      <td>0.240</td>\n",
       "      <td>0.75</td>\n",
       "      <td>7.39</td>\n",
       "    </tr>\n",
       "  </tbody>\n",
       "</table>\n",
       "</div>"
      ],
      "text/plain": [
       "          count      mean       std   min     25%    50%   75%    max\n",
       "platform                                                             \n",
       "3DS       367.0  0.525095  1.435539  0.01  0.0500  0.130  0.37  14.60\n",
       "PC        245.0  0.255347  0.498548  0.01  0.0300  0.080  0.24   5.14\n",
       "PS4       386.0  0.813472  1.618992  0.01  0.0600  0.200  0.73  14.63\n",
       "WiiU      142.0  0.575986  1.073459  0.01  0.0825  0.235  0.56   7.09\n",
       "XOne      236.0  0.672754  1.051848  0.01  0.0675  0.240  0.75   7.39"
      ]
     },
     "execution_count": 24,
     "metadata": {},
     "output_type": "execute_result"
    }
   ],
   "source": [
    "data_top.groupby('platform')['sales'].describe()"
   ]
  },
  {
   "cell_type": "code",
   "execution_count": 25,
   "metadata": {},
   "outputs": [
    {
     "data": {
      "text/plain": [
       "Text(0, 0.5, 'Количество продаж')"
      ]
     },
     "execution_count": 25,
     "metadata": {},
     "output_type": "execute_result"
    },
    {
     "data": {
      "image/png": "[encoded data removed]",
      "text/plain": [
       "<Figure size 720x720 with 1 Axes>"
      ]
     },
     "metadata": {
      "needs_background": "light"
     },
     "output_type": "display_data"
    }
   ],
   "source": [
    "plt.figure(figsize=(10,10))\n",
    "sns.boxplot(data = data_top,x='platform', y='sales')\n",
    "plt.title(\"Продажи по платформам за весь период\")\n",
    "plt.xlabel(\"Название платформы\")\n",
    "plt.ylabel(\"Количество продаж\")"
   ]
  },
  {
   "cell_type": "code",
   "execution_count": 26,
   "metadata": {},
   "outputs": [
    {
     "data": {
      "text/plain": [
       "(0.0, 2.0)"
      ]
     },
     "execution_count": 26,
     "metadata": {},
     "output_type": "execute_result"
    },
    {
     "data": {
      "image/png": "[encoded data removed]",
      "text/plain": [
       "<Figure size 720x720 with 1 Axes>"
      ]
     },
     "metadata": {
      "needs_background": "light"
     },
     "output_type": "display_data"
    }
   ],
   "source": [
    "plt.figure(figsize=(10,10))\n",
    "sns.boxplot(data = data_top,x='platform', y='sales')\n",
    "plt.title(\"Продажи по платформам за весь период\")\n",
    "plt.xlabel(\"Название платформы\")\n",
    "plt.ylabel(\"Количество продаж\")\n",
    "plt.ylim([0,2])"
   ]
  },
  {
   "cell_type": "markdown",
   "metadata": {},
   "source": [
    "по граффикам понятно, что выбросов очень много, нужно отсечь лишнее.  \n",
    "Медианные продажи низки у PC и 3DS, что закономерно.  \n",
    "3DS уходит в прошлое, PC никогда не был полностью игровой платформой."
   ]
  },
  {
   "cell_type": "markdown",
   "metadata": {},
   "source": [
    "### Посмотрите, как влияют на продажи внутри одной популярной платформы отзывы пользователей и критиков. Постройте диаграмму рассеяния и посчитайте корреляцию между отзывами и продажами. "
   ]
  },
  {
   "cell_type": "code",
   "execution_count": 27,
   "metadata": {},
   "outputs": [
    {
     "data": {
      "text/plain": [
       "-0.031957110204556376"
      ]
     },
     "execution_count": 27,
     "metadata": {},
     "output_type": "execute_result"
    }
   ],
   "source": [
    "PS4 = data.loc[(data['platform'] == 'PS4') & (data['user_score'] != -1)]\n",
    "PS4['user_score'].corr(PS4['sales'])"
   ]
  },
  {
   "cell_type": "code",
   "execution_count": 28,
   "metadata": {},
   "outputs": [
    {
     "data": {
      "text/plain": [
       "Text(0, 0.5, 'Продажи')"
      ]
     },
     "execution_count": 28,
     "metadata": {},
     "output_type": "execute_result"
    },
    {
     "data": {
      "image/png": "[encoded data removed]",
      "text/plain": [
       "<Figure size 864x432 with 1 Axes>"
      ]
     },
     "metadata": {
      "needs_background": "light"
     },
     "output_type": "display_data"
    }
   ],
   "source": [
    "plt.figure(figsize=(12,6))\n",
    "sns.scatterplot(x='user_score', y='sales', data = PS4)\n",
    "plt.xlabel(\"Оценки пользователей\")\n",
    "plt.ylabel(\"Продажи\")"
   ]
  },
  {
   "cell_type": "code",
   "execution_count": 29,
   "metadata": {},
   "outputs": [
    {
     "data": {
      "text/plain": [
       "0.2242803352937992"
      ]
     },
     "execution_count": 29,
     "metadata": {},
     "output_type": "execute_result"
    }
   ],
   "source": [
    "PS4 = data.loc[(data['platform'] == 'PS4') & (data['critic_score'] != 0)]\n",
    "PS4['critic_score'].corr(PS4['sales'])"
   ]
  },
  {
   "cell_type": "code",
   "execution_count": 30,
   "metadata": {},
   "outputs": [
    {
     "data": {
      "text/plain": [
       "Text(0, 0.5, 'Продажи')"
      ]
     },
     "execution_count": 30,
     "metadata": {},
     "output_type": "execute_result"
    },
    {
     "data": {
      "image/png": "[encoded data removed]",
      "text/plain": [
       "<Figure size 864x432 with 1 Axes>"
      ]
     },
     "metadata": {
      "needs_background": "light"
     },
     "output_type": "display_data"
    }
   ],
   "source": [
    "plt.figure(figsize=(12,6))\n",
    "sns.scatterplot(x='critic_score', y='sales', data = PS4)\n",
    "plt.xlabel(\"Оценки Критиков\")\n",
    "plt.ylabel(\"Продажи\")"
   ]
  },
  {
   "cell_type": "markdown",
   "metadata": {},
   "source": [
    "Судя по графику может сложиться впечатлени, что лучше продаются игры с хорошими отзывами и оценками.\n",
    "Однако такое впечатление складывается из-за того, что игры в целом редко получают оценки ниже определенного уровня.  \n",
    "С уверенностью можно сказать, что для PS4 есть зависимость только от оценок критиков, но она не очень сильная.  \n",
    "Зависимости от оценки пользователей нет."
   ]
  },
  {
   "cell_type": "markdown",
   "metadata": {},
   "source": [
    "### Соотнесите выводы с продажами игр на других платформах."
   ]
  },
  {
   "cell_type": "code",
   "execution_count": 31,
   "metadata": {},
   "outputs": [
    {
     "name": "stdout",
     "output_type": "stream",
     "text": [
      "\n",
      "Платформа: PS4 \n",
      "корреляция юзеров: 10.77% \n",
      "Зависимость от оценки пользователей - Низкая положительная \n",
      "корреляция критиков: 22.43% \n",
      "Зависимость от оценки критиков - Низкая положительная\n",
      "\n",
      "\n",
      "Платформа: 3DS \n",
      "корреляция юзеров: 11.49% \n",
      "Зависимость от оценки пользователей - Низкая положительная \n",
      "корреляция критиков: 14.49% \n",
      "Зависимость от оценки критиков - Низкая положительная\n",
      "\n",
      "\n",
      "Платформа: XOne \n",
      "корреляция юзеров: 8.51% \n",
      "Зависимость от оценки пользователей - Низкая положительная \n",
      "корреляция критиков: 25.92% \n",
      "Зависимость от оценки критиков - Низкая положительная\n",
      "\n",
      "\n",
      "Платформа: WiiU \n",
      "корреляция юзеров: 24.62% \n",
      "Зависимость от оценки пользователей - Низкая положительная \n",
      "корреляция критиков: 29.10% \n",
      "Зависимость от оценки критиков - Низкая положительная\n",
      "\n",
      "\n",
      "Платформа: PC \n",
      "корреляция юзеров: 3.55% \n",
      "Зависимость от оценки пользователей - Низкая положительная \n",
      "корреляция критиков: 19.30% \n",
      "Зависимость от оценки критиков - Низкая положительная\n",
      "\n"
     ]
    }
   ],
   "source": [
    "def co_check (name):\n",
    "    corr_crit_rat = []\n",
    "    corr_crit_rat = []\n",
    "    platform_user = data_top.loc[(data_top['platform'] == name) & (data_top['user_score'] != 0)]\n",
    "    platform_crit = data_top.loc[(data_top['platform'] == name) & (data_top['critic_score'] != 0)]\n",
    "    corr_user = platform_user['user_score'].corr(platform_user['sales'])\n",
    "    if platform_crit['platform'].count() == 1:\n",
    "        corr_crit = 0\n",
    "    else:\n",
    "        corr_crit = platform_crit['critic_score'].corr(platform_crit['sales'])\n",
    "    \n",
    "    if (corr_crit >= 0.8) or (corr_crit <= -0.8):\n",
    "        corr_crit_rat = 'Большая'\n",
    "    elif -0.3 <= corr_crit <= 0.3:\n",
    "        corr_crit_rat = 'Низкая'\n",
    "    elif (0.3 < corr_crit < 0.8) or (-0.3 < corr_crit < -0.8):\n",
    "        corr_crit_rat = 'Средняя'   \n",
    "        \n",
    "    if (corr_user >= 0.8) or (corr_user <= -0.8):\n",
    "        corr_user_rat = 'Большая'\n",
    "    elif -0.3 <= corr_user <= 0.3:\n",
    "        corr_user_rat = 'Низкая'\n",
    "    elif (0.3 < corr_user < 0.8) or (-0.3 > corr_user > -0.8):\n",
    "        corr_user_rat = 'Средняя'     \n",
    "        \n",
    "    if corr_user >= 0:\n",
    "        corr_user_p = 'положительная' \n",
    "    else:\n",
    "        corr_user_p = 'отрицательная'\n",
    "    \n",
    "    if corr_crit >= 0:\n",
    "        corr_crit_p = 'положительная' \n",
    "    else:\n",
    "        corr_crit_p = 'отрицательная'\n",
    "        \n",
    "    \n",
    "    return print('\\nПлатформа:', name,'\\nкорреляция юзеров:',\"{:.2%}\".format(corr_user),\n",
    "                 '\\nЗависимость от оценки пользователей -', corr_user_rat, corr_user_p,\n",
    "                 '\\nкорреляция критиков:',\"{:.2%}\".format(corr_crit),\n",
    "                 '\\nЗависимость от оценки критиков -', corr_crit_rat, corr_crit_p)    \n",
    "\n",
    "for i in data_top['platform'].unique():\n",
    "    co_check(i)\n",
    "    print('')\n"
   ]
  },
  {
   "cell_type": "markdown",
   "metadata": {},
   "source": [
    "проверим, достаточно ли данных по каждой платформе."
   ]
  },
  {
   "cell_type": "code",
   "execution_count": 32,
   "metadata": {},
   "outputs": [
    {
     "data": {
      "text/plain": [
       "PS4     386\n",
       "3DS     367\n",
       "PC      245\n",
       "XOne    236\n",
       "WiiU    142\n",
       "Name: platform, dtype: int64"
      ]
     },
     "execution_count": 32,
     "metadata": {},
     "output_type": "execute_result"
    }
   ],
   "source": [
    "data_top['platform'].value_counts()"
   ]
  },
  {
   "cell_type": "markdown",
   "metadata": {},
   "source": [
    "### Посмотрите на общее распределение игр по жанрам. "
   ]
  },
  {
   "cell_type": "code",
   "execution_count": 33,
   "metadata": {},
   "outputs": [
    {
     "data": {
      "text/html": [
       "<div>\n",
       "<style scoped>\n",
       "    .dataframe tbody tr th:only-of-type {\n",
       "        vertical-align: middle;\n",
       "    }\n",
       "\n",
       "    .dataframe tbody tr th {\n",
       "        vertical-align: top;\n",
       "    }\n",
       "\n",
       "    .dataframe thead th {\n",
       "        text-align: right;\n",
       "    }\n",
       "</style>\n",
       "<table border=\"1\" class=\"dataframe\">\n",
       "  <thead>\n",
       "    <tr style=\"text-align: right;\">\n",
       "      <th></th>\n",
       "      <th>sales</th>\n",
       "    </tr>\n",
       "    <tr>\n",
       "      <th>genre</th>\n",
       "      <th></th>\n",
       "    </tr>\n",
       "  </thead>\n",
       "  <tbody>\n",
       "    <tr>\n",
       "      <th>Shooter</th>\n",
       "      <td>0.490</td>\n",
       "    </tr>\n",
       "    <tr>\n",
       "      <th>Platform</th>\n",
       "      <td>0.260</td>\n",
       "    </tr>\n",
       "    <tr>\n",
       "      <th>Sports</th>\n",
       "      <td>0.260</td>\n",
       "    </tr>\n",
       "    <tr>\n",
       "      <th>Role-Playing</th>\n",
       "      <td>0.205</td>\n",
       "    </tr>\n",
       "    <tr>\n",
       "      <th>Misc</th>\n",
       "      <td>0.180</td>\n",
       "    </tr>\n",
       "    <tr>\n",
       "      <th>Fighting</th>\n",
       "      <td>0.155</td>\n",
       "    </tr>\n",
       "    <tr>\n",
       "      <th>Simulation</th>\n",
       "      <td>0.145</td>\n",
       "    </tr>\n",
       "    <tr>\n",
       "      <th>Action</th>\n",
       "      <td>0.130</td>\n",
       "    </tr>\n",
       "    <tr>\n",
       "      <th>Racing</th>\n",
       "      <td>0.120</td>\n",
       "    </tr>\n",
       "    <tr>\n",
       "      <th>Puzzle</th>\n",
       "      <td>0.100</td>\n",
       "    </tr>\n",
       "    <tr>\n",
       "      <th>Strategy</th>\n",
       "      <td>0.080</td>\n",
       "    </tr>\n",
       "    <tr>\n",
       "      <th>Adventure</th>\n",
       "      <td>0.060</td>\n",
       "    </tr>\n",
       "  </tbody>\n",
       "</table>\n",
       "</div>"
      ],
      "text/plain": [
       "              sales\n",
       "genre              \n",
       "Shooter       0.490\n",
       "Platform      0.260\n",
       "Sports        0.260\n",
       "Role-Playing  0.205\n",
       "Misc          0.180\n",
       "Fighting      0.155\n",
       "Simulation    0.145\n",
       "Action        0.130\n",
       "Racing        0.120\n",
       "Puzzle        0.100\n",
       "Strategy      0.080\n",
       "Adventure     0.060"
      ]
     },
     "execution_count": 33,
     "metadata": {},
     "output_type": "execute_result"
    }
   ],
   "source": [
    "genre_pivot = data_top.pivot_table(index='genre',values = 'sales', aggfunc ='median').sort_values(by = 'sales', ascending = False)\n",
    "genre_pivot"
   ]
  },
  {
   "cell_type": "markdown",
   "metadata": {},
   "source": [
    "Больше всего продаж у Action, Shooter и RPG, меньше всего пазлов и стратегий.  \n",
    "Однако, если мы смотрим медианные значения, то картина несколько меняется - у Шутеров почти в 2 раза больше продаж.  \n",
    "Так же второе место начинают занимать платформеры."
   ]
  },
  {
   "cell_type": "code",
   "execution_count": 34,
   "metadata": {},
   "outputs": [
    {
     "data": {
      "text/plain": [
       "Text(0, 0.5, 'Медиана продаж')"
      ]
     },
     "execution_count": 34,
     "metadata": {},
     "output_type": "execute_result"
    },
    {
     "data": {
      "image/png": "[encoded data removed]",
      "text/plain": [
       "<Figure size 1584x720 with 1 Axes>"
      ]
     },
     "metadata": {
      "needs_background": "light"
     },
     "output_type": "display_data"
    }
   ],
   "source": [
    "plt.figure(figsize=(22,10))\n",
    "sns.barplot(x = genre_pivot.index,y = genre_pivot['sales'])\n",
    "plt.title(\"Продажи по Жанрам\")\n",
    "plt.xlabel(\"Жанр\")\n",
    "plt.ylabel(\"Медиана продаж\")\n"
   ]
  },
  {
   "cell_type": "markdown",
   "metadata": {},
   "source": [
    "<a id='4'></a>\n",
    "## Составьте портрет пользователя каждого региона"
   ]
  },
  {
   "cell_type": "markdown",
   "metadata": {},
   "source": [
    "[**К общему выводу ->**](#6)"
   ]
  },
  {
   "cell_type": "markdown",
   "metadata": {},
   "source": [
    "### Самые популярные платформы (топ-5). Опишите различия в долях продаж."
   ]
  },
  {
   "cell_type": "code",
   "execution_count": 35,
   "metadata": {},
   "outputs": [
    {
     "data": {
      "text/html": [
       "<div>\n",
       "<style scoped>\n",
       "    .dataframe tbody tr th:only-of-type {\n",
       "        vertical-align: middle;\n",
       "    }\n",
       "\n",
       "    .dataframe tbody tr th {\n",
       "        vertical-align: top;\n",
       "    }\n",
       "\n",
       "    .dataframe thead th {\n",
       "        text-align: right;\n",
       "    }\n",
       "</style>\n",
       "<table border=\"1\" class=\"dataframe\">\n",
       "  <thead>\n",
       "    <tr style=\"text-align: right;\">\n",
       "      <th></th>\n",
       "      <th>eu_sales</th>\n",
       "      <th>jp_sales</th>\n",
       "      <th>na_sales</th>\n",
       "    </tr>\n",
       "    <tr>\n",
       "      <th>platform</th>\n",
       "      <th></th>\n",
       "      <th></th>\n",
       "      <th></th>\n",
       "    </tr>\n",
       "  </thead>\n",
       "  <tbody>\n",
       "    <tr>\n",
       "      <th>3DS</th>\n",
       "      <td>41.64</td>\n",
       "      <td>87.68</td>\n",
       "      <td>54.65</td>\n",
       "    </tr>\n",
       "    <tr>\n",
       "      <th>PC</th>\n",
       "      <td>37.67</td>\n",
       "      <td>0.00</td>\n",
       "      <td>19.12</td>\n",
       "    </tr>\n",
       "    <tr>\n",
       "      <th>PS4</th>\n",
       "      <td>141.09</td>\n",
       "      <td>15.96</td>\n",
       "      <td>108.62</td>\n",
       "    </tr>\n",
       "    <tr>\n",
       "      <th>WiiU</th>\n",
       "      <td>24.97</td>\n",
       "      <td>13.01</td>\n",
       "      <td>37.90</td>\n",
       "    </tr>\n",
       "    <tr>\n",
       "      <th>XOne</th>\n",
       "      <td>51.43</td>\n",
       "      <td>0.34</td>\n",
       "      <td>92.77</td>\n",
       "    </tr>\n",
       "  </tbody>\n",
       "</table>\n",
       "</div>"
      ],
      "text/plain": [
       "          eu_sales  jp_sales  na_sales\n",
       "platform                              \n",
       "3DS          41.64     87.68     54.65\n",
       "PC           37.67      0.00     19.12\n",
       "PS4         141.09     15.96    108.62\n",
       "WiiU         24.97     13.01     37.90\n",
       "XOne         51.43      0.34     92.77"
      ]
     },
     "execution_count": 35,
     "metadata": {},
     "output_type": "execute_result"
    },
    {
     "data": {
      "image/png": "[encoded data removed]",
      "text/plain": [
       "<Figure size 1584x720 with 1 Axes>"
      ]
     },
     "metadata": {
      "needs_background": "light"
     },
     "output_type": "display_data"
    }
   ],
   "source": [
    "sss = data_top.pivot_table(index = 'platform', values = ['na_sales' ,'eu_sales', 'jp_sales'], aggfunc = 'sum')\n",
    "plt.figure(figsize=(22,10))\n",
    "plt.plot(sss.index.values, sss['eu_sales'], label = 'Европа', color = 'red')\n",
    "plt.plot(sss.index.values, sss['na_sales'], label = 'Америка', color = 'green')\n",
    "plt.plot(sss.index.values, sss['jp_sales'], label = 'Япония', color = 'orange')\n",
    "plt.title(\"Продажи в регионах по платформам\")\n",
    "plt.xlabel(\"Платформа\")\n",
    "plt.ylabel(\"Продажи\")\n",
    "plt.legend(fontsize = 20)\n",
    "sss"
   ]
  },
  {
   "cell_type": "code",
   "execution_count": 36,
   "metadata": {},
   "outputs": [
    {
     "data": {
      "image/png": "[encoded data removed]",
      "text/plain": [
       "<Figure size 1584x720 with 1 Axes>"
      ]
     },
     "metadata": {
      "needs_background": "light"
     },
     "output_type": "display_data"
    },
    {
     "data": {
      "image/png": "[encoded data removed]",
      "text/plain": [
       "<Figure size 1584x720 with 1 Axes>"
      ]
     },
     "metadata": {
      "needs_background": "light"
     },
     "output_type": "display_data"
    },
    {
     "data": {
      "image/png": "[encoded data removed]",
      "text/plain": [
       "<Figure size 1584x720 with 1 Axes>"
      ]
     },
     "metadata": {
      "needs_background": "light"
     },
     "output_type": "display_data"
    }
   ],
   "source": [
    "for x in ['eu_sales', 'na_sales', 'jp_sales']:\n",
    "    if x == 'eu_sales':\n",
    "        r = 'Европа'\n",
    "    elif x == 'na_sales':\n",
    "        r = 'Америка'\n",
    "    elif x == 'jp_sales':\n",
    "        r = 'Япония'\n",
    "    plt.figure(figsize=(22,10))\n",
    "    sns.barplot(x = sss.index.values, y = sss[x])\n",
    "    plt.title(f\"Продажи в регионе {r} по платформам\")\n",
    "    plt.xlabel(\"Платформа\")\n",
    "    plt.ylabel(\"Продажи\")\n",
    "    plt.ylim(0,140)"
   ]
  },
  {
   "cell_type": "markdown",
   "metadata": {},
   "source": [
    "В Америке лидурует старая X360, но уже видно, что в этот раз соперничество между Sony и Microsoft будет сложнее для Microsoft.  \n",
    "В Европе уже преобладает Playstation.  \n",
    "В Японии свои позиции все еще удерживает 3DS, однако ставку на него делать не стоит, продажи за последние годы упали на треть."
   ]
  },
  {
   "cell_type": "markdown",
   "metadata": {},
   "source": [
    "### Самые популярные жанры (топ-5). Поясните разницу."
   ]
  },
  {
   "cell_type": "code",
   "execution_count": 37,
   "metadata": {},
   "outputs": [
    {
     "data": {
      "text/html": [
       "<div>\n",
       "<style scoped>\n",
       "    .dataframe tbody tr th:only-of-type {\n",
       "        vertical-align: middle;\n",
       "    }\n",
       "\n",
       "    .dataframe tbody tr th {\n",
       "        vertical-align: top;\n",
       "    }\n",
       "\n",
       "    .dataframe thead th {\n",
       "        text-align: right;\n",
       "    }\n",
       "</style>\n",
       "<table border=\"1\" class=\"dataframe\">\n",
       "  <thead>\n",
       "    <tr style=\"text-align: right;\">\n",
       "      <th></th>\n",
       "      <th>eu_sales</th>\n",
       "      <th>jp_sales</th>\n",
       "      <th>na_sales</th>\n",
       "    </tr>\n",
       "    <tr>\n",
       "      <th>genre</th>\n",
       "      <th></th>\n",
       "      <th></th>\n",
       "      <th></th>\n",
       "    </tr>\n",
       "  </thead>\n",
       "  <tbody>\n",
       "    <tr>\n",
       "      <th>Action</th>\n",
       "      <td>78.35</td>\n",
       "      <td>27.50</td>\n",
       "      <td>81.59</td>\n",
       "    </tr>\n",
       "    <tr>\n",
       "      <th>Adventure</th>\n",
       "      <td>5.33</td>\n",
       "      <td>3.21</td>\n",
       "      <td>3.93</td>\n",
       "    </tr>\n",
       "    <tr>\n",
       "      <th>Fighting</th>\n",
       "      <td>6.58</td>\n",
       "      <td>4.74</td>\n",
       "      <td>12.05</td>\n",
       "    </tr>\n",
       "    <tr>\n",
       "      <th>Misc</th>\n",
       "      <td>11.22</td>\n",
       "      <td>8.24</td>\n",
       "      <td>15.10</td>\n",
       "    </tr>\n",
       "    <tr>\n",
       "      <th>Platform</th>\n",
       "      <td>16.58</td>\n",
       "      <td>8.49</td>\n",
       "      <td>20.02</td>\n",
       "    </tr>\n",
       "    <tr>\n",
       "      <th>Puzzle</th>\n",
       "      <td>1.24</td>\n",
       "      <td>1.39</td>\n",
       "      <td>1.06</td>\n",
       "    </tr>\n",
       "    <tr>\n",
       "      <th>Racing</th>\n",
       "      <td>15.78</td>\n",
       "      <td>1.61</td>\n",
       "      <td>10.61</td>\n",
       "    </tr>\n",
       "    <tr>\n",
       "      <th>Role-Playing</th>\n",
       "      <td>37.20</td>\n",
       "      <td>43.38</td>\n",
       "      <td>44.79</td>\n",
       "    </tr>\n",
       "    <tr>\n",
       "      <th>Shooter</th>\n",
       "      <td>66.67</td>\n",
       "      <td>4.58</td>\n",
       "      <td>76.70</td>\n",
       "    </tr>\n",
       "    <tr>\n",
       "      <th>Simulation</th>\n",
       "      <td>13.42</td>\n",
       "      <td>9.51</td>\n",
       "      <td>6.29</td>\n",
       "    </tr>\n",
       "    <tr>\n",
       "      <th>Sports</th>\n",
       "      <td>40.06</td>\n",
       "      <td>3.16</td>\n",
       "      <td>37.73</td>\n",
       "    </tr>\n",
       "    <tr>\n",
       "      <th>Strategy</th>\n",
       "      <td>4.37</td>\n",
       "      <td>1.18</td>\n",
       "      <td>3.19</td>\n",
       "    </tr>\n",
       "  </tbody>\n",
       "</table>\n",
       "</div>"
      ],
      "text/plain": [
       "              eu_sales  jp_sales  na_sales\n",
       "genre                                     \n",
       "Action           78.35     27.50     81.59\n",
       "Adventure         5.33      3.21      3.93\n",
       "Fighting          6.58      4.74     12.05\n",
       "Misc             11.22      8.24     15.10\n",
       "Platform         16.58      8.49     20.02\n",
       "Puzzle            1.24      1.39      1.06\n",
       "Racing           15.78      1.61     10.61\n",
       "Role-Playing     37.20     43.38     44.79\n",
       "Shooter          66.67      4.58     76.70\n",
       "Simulation       13.42      9.51      6.29\n",
       "Sports           40.06      3.16     37.73\n",
       "Strategy          4.37      1.18      3.19"
      ]
     },
     "execution_count": 37,
     "metadata": {},
     "output_type": "execute_result"
    }
   ],
   "source": [
    "ggg = data_top.pivot_table(index = 'genre', values = ['na_sales' ,'eu_sales', 'jp_sales'], aggfunc = 'sum')\n",
    "ggg"
   ]
  },
  {
   "cell_type": "code",
   "execution_count": 38,
   "metadata": {},
   "outputs": [
    {
     "data": {
      "image/png": "[encoded data removed]",
      "text/plain": [
       "<Figure size 1584x720 with 1 Axes>"
      ]
     },
     "metadata": {
      "needs_background": "light"
     },
     "output_type": "display_data"
    },
    {
     "data": {
      "image/png": "[encoded data removed]",
      "text/plain": [
       "<Figure size 1584x720 with 1 Axes>"
      ]
     },
     "metadata": {
      "needs_background": "light"
     },
     "output_type": "display_data"
    },
    {
     "data": {
      "image/png": "[encoded data removed]",
      "text/plain": [
       "<Figure size 1584x720 with 1 Axes>"
      ]
     },
     "metadata": {
      "needs_background": "light"
     },
     "output_type": "display_data"
    }
   ],
   "source": [
    "for x in ['eu_sales', 'na_sales', 'jp_sales']:\n",
    "    if x == 'eu_sales':\n",
    "        r = 'Европа'\n",
    "    elif x == 'na_sales':\n",
    "        r = 'Америка'\n",
    "    elif x == 'jp_sales':\n",
    "        r = 'Япония'\n",
    "    plt.figure(figsize=(22,10))\n",
    "    sns.barplot(x = ggg.index.values, y = ggg[x])\n",
    "    plt.title(f\"Продажи в регионе {r} по жанрам\")\n",
    "    plt.xlabel(\"Платформа\")\n",
    "    plt.ylabel(\"Продажи\")\n",
    "    plt.ylim(0,82)"
   ]
  },
  {
   "cell_type": "markdown",
   "metadata": {},
   "source": [
    "В Европе и Америке преобладает традиционная тройка: Спорт, Экшен, Шутер.  \n",
    "В Японии на первом месте RPG, ожидаемо для страны-изобреталетя jRPG."
   ]
  },
  {
   "cell_type": "markdown",
   "metadata": {},
   "source": [
    "### Влияет ли рейтинг ESRB на продажи в отдельном регионе?"
   ]
  },
  {
   "cell_type": "code",
   "execution_count": 39,
   "metadata": {},
   "outputs": [
    {
     "data": {
      "text/html": [
       "<div>\n",
       "<style scoped>\n",
       "    .dataframe tbody tr th:only-of-type {\n",
       "        vertical-align: middle;\n",
       "    }\n",
       "\n",
       "    .dataframe tbody tr th {\n",
       "        vertical-align: top;\n",
       "    }\n",
       "\n",
       "    .dataframe thead th {\n",
       "        text-align: right;\n",
       "    }\n",
       "</style>\n",
       "<table border=\"1\" class=\"dataframe\">\n",
       "  <thead>\n",
       "    <tr style=\"text-align: right;\">\n",
       "      <th></th>\n",
       "      <th>eu_sales</th>\n",
       "      <th>jp_sales</th>\n",
       "      <th>na_sales</th>\n",
       "    </tr>\n",
       "    <tr>\n",
       "      <th>rating</th>\n",
       "      <th></th>\n",
       "      <th></th>\n",
       "      <th></th>\n",
       "    </tr>\n",
       "  </thead>\n",
       "  <tbody>\n",
       "    <tr>\n",
       "      <th>E</th>\n",
       "      <td>67.04</td>\n",
       "      <td>23.83</td>\n",
       "      <td>63.58</td>\n",
       "    </tr>\n",
       "    <tr>\n",
       "      <th>E10+</th>\n",
       "      <td>27.81</td>\n",
       "      <td>7.24</td>\n",
       "      <td>38.41</td>\n",
       "    </tr>\n",
       "    <tr>\n",
       "      <th>M</th>\n",
       "      <td>101.37</td>\n",
       "      <td>7.20</td>\n",
       "      <td>102.76</td>\n",
       "    </tr>\n",
       "    <tr>\n",
       "      <th>No Rating</th>\n",
       "      <td>66.16</td>\n",
       "      <td>69.14</td>\n",
       "      <td>71.07</td>\n",
       "    </tr>\n",
       "    <tr>\n",
       "      <th>T</th>\n",
       "      <td>34.42</td>\n",
       "      <td>9.58</td>\n",
       "      <td>37.24</td>\n",
       "    </tr>\n",
       "  </tbody>\n",
       "</table>\n",
       "</div>"
      ],
      "text/plain": [
       "           eu_sales  jp_sales  na_sales\n",
       "rating                                 \n",
       "E             67.04     23.83     63.58\n",
       "E10+          27.81      7.24     38.41\n",
       "M            101.37      7.20    102.76\n",
       "No Rating     66.16     69.14     71.07\n",
       "T             34.42      9.58     37.24"
      ]
     },
     "execution_count": 39,
     "metadata": {},
     "output_type": "execute_result"
    }
   ],
   "source": [
    "data_top.pivot_table(index = 'rating', values = ['na_sales' ,'eu_sales', 'jp_sales'], aggfunc = 'sum')"
   ]
  },
  {
   "cell_type": "markdown",
   "metadata": {},
   "source": [
    "рейтинг M (18-21+) - преобладает в Америке и Европе , но занимает очень низкую позицию в Японии.\n",
    "рейтинг E (для всех) - занимает в Америке и Европе второй местро, Японии такой рейтинг на первом месте.\n",
    "Так же стоит заметить, что я в Японии много игр, которые вообще не получают рейтинг (нулевых)."
   ]
  },
  {
   "cell_type": "markdown",
   "metadata": {},
   "source": [
    "<a id='5'></a>\n",
    "## Проверьте гипотезы"
   ]
  },
  {
   "cell_type": "markdown",
   "metadata": {},
   "source": [
    "[**К общему выводу ->**](#6)"
   ]
  },
  {
   "cell_type": "markdown",
   "metadata": {},
   "source": [
    "### Средние пользовательские рейтинги платформ Xbox One и PC одинаковые"
   ]
  },
  {
   "cell_type": "markdown",
   "metadata": {},
   "source": [
    "Нулевая гипотеза: Средние пользовательские рейтинги платформ Xbox One и PC одинаковые.  \n",
    "Альтернативная гипотеза: Средние пользовательские рейтинги платформ Xbox One и PC НЕ одинаковые."
   ]
  },
  {
   "cell_type": "code",
   "execution_count": 40,
   "metadata": {},
   "outputs": [
    {
     "name": "stdout",
     "output_type": "stream",
     "text": [
      "alpha: 5.00%\n",
      "p-значение: 14.76%\n",
      "Не получилось отвергнуть нулевую гипотезу\n"
     ]
    }
   ],
   "source": [
    "xone = data[(data['platform'] == 'XOne') & (data['user_score'] != -1)]['user_score']\n",
    "pc = data[(data['platform'] == 'PC') & (data['user_score'] != -1) & (data['year_of_release'] != 2012)]['user_score']\n",
    "\n",
    "alpha = .05\n",
    "\n",
    "results = st.ttest_ind(xone, pc, equal_var=False)\n",
    "\n",
    "print('alpha:', \"{:.2%}\".format(alpha))\n",
    "print('p-значение:', \"{:.2%}\".format(results.pvalue))\n",
    "\n",
    "\n",
    "if (results.pvalue < alpha):\n",
    "    print(\"Отвергаем нулевую гипотезу\")\n",
    "else:\n",
    "    print(\"Не получилось отвергнуть нулевую гипотезу\")"
   ]
  },
  {
   "cell_type": "code",
   "execution_count": 41,
   "metadata": {
    "scrolled": true
   },
   "outputs": [
    {
     "data": {
      "text/plain": [
       "array([2015, 2014])"
      ]
     },
     "execution_count": 41,
     "metadata": {},
     "output_type": "execute_result"
    }
   ],
   "source": [
    "# код ревьюера\n",
    "data[(data['platform'] == 'XOne') & (data['user_score'] != 0)].head(5).year_of_release.unique()"
   ]
  },
  {
   "cell_type": "code",
   "execution_count": 42,
   "metadata": {},
   "outputs": [
    {
     "data": {
      "text/plain": [
       "array([2014, 2015, 2013, 2016])"
      ]
     },
     "execution_count": 42,
     "metadata": {},
     "output_type": "execute_result"
    }
   ],
   "source": [
    "data[(data['platform'] == 'XOne') & (data['user_score'] != -1)].year_of_release.unique()"
   ]
  },
  {
   "cell_type": "code",
   "execution_count": 43,
   "metadata": {},
   "outputs": [
    {
     "data": {
      "text/plain": [
       "182"
      ]
     },
     "execution_count": 43,
     "metadata": {},
     "output_type": "execute_result"
    }
   ],
   "source": [
    "data[(data['platform'] == 'XOne') & (data['user_score'] != -1)]['user_score'].count()"
   ]
  },
  {
   "cell_type": "code",
   "execution_count": 44,
   "metadata": {},
   "outputs": [
    {
     "data": {
      "text/plain": [
       "6.8"
      ]
     },
     "execution_count": 44,
     "metadata": {},
     "output_type": "execute_result"
    }
   ],
   "source": [
    "data[(data['platform'] == 'XOne') & (data['user_score'] != -1)]['user_score'].median()"
   ]
  },
  {
   "cell_type": "code",
   "execution_count": 45,
   "metadata": {},
   "outputs": [
    {
     "data": {
      "text/plain": [
       "array([2014, 2013, 2015, 2016])"
      ]
     },
     "execution_count": 45,
     "metadata": {},
     "output_type": "execute_result"
    }
   ],
   "source": [
    "data[(data['platform'] == 'PC') & (data['user_score'] != -1) & (data['year_of_release'] != 2012)].year_of_release.unique()"
   ]
  },
  {
   "cell_type": "code",
   "execution_count": 46,
   "metadata": {},
   "outputs": [
    {
     "data": {
      "text/plain": [
       "155"
      ]
     },
     "execution_count": 46,
     "metadata": {},
     "output_type": "execute_result"
    }
   ],
   "source": [
    "data[(data['platform'] == 'PC') & (data['user_score'] != -1) & (data['year_of_release'] != 2012)]['user_score'].count()"
   ]
  },
  {
   "cell_type": "code",
   "execution_count": 47,
   "metadata": {},
   "outputs": [
    {
     "data": {
      "text/plain": [
       "6.8"
      ]
     },
     "execution_count": 47,
     "metadata": {},
     "output_type": "execute_result"
    }
   ],
   "source": [
    "data[(data['platform'] == 'PC') & (data['user_score'] != -1) & (data['year_of_release'] != 2012)]['user_score'].median()"
   ]
  },
  {
   "cell_type": "markdown",
   "metadata": {},
   "source": [
    "Вывод: Средние пользовательские рейтинги платформ Xbox One и PC одинаковые."
   ]
  },
  {
   "cell_type": "markdown",
   "metadata": {},
   "source": [
    "### Средние пользовательские рейтинги жанров Action (англ. «действие», экшен-игры) и Sports (англ. «спортивные соревнования») разные."
   ]
  },
  {
   "cell_type": "markdown",
   "metadata": {},
   "source": [
    "Нулевая гипотеза: Средние пользовательские рейтинги жанров Action (англ. «действие», экшен-игры) и Sports (англ. «спортивные соревнования») совпадают.  \n",
    "Альтернативная гипотеза: Средние пользовательские рейтинги жанров Action (англ. «действие», экшен-игры) и Sports (англ. «спортивные соревнования») разные."
   ]
  },
  {
   "cell_type": "code",
   "execution_count": 48,
   "metadata": {},
   "outputs": [
    {
     "name": "stdout",
     "output_type": "stream",
     "text": [
      "alpha: 5.00%\n",
      "p-значение: 0.02%\n",
      "Отвергаем нулевую гипотезу\n"
     ]
    }
   ],
   "source": [
    "action = data[(data['genre'] == 'Action') & (data['user_score'] != 0)]['user_score']\n",
    "sports = data[(data['genre'] == 'Sports') & (data['user_score'] != 0)]['user_score']\n",
    "\n",
    "alpha = .05\n",
    "\n",
    "results = st.ttest_ind(action, sports, equal_var=False)\n",
    "\n",
    "print('alpha:', \"{:.2%}\".format(alpha))\n",
    "print('p-значение:', \"{:.2%}\".format(results.pvalue))\n",
    "\n",
    "\n",
    "if (results.pvalue < alpha):\n",
    "    print(\"Отвергаем нулевую гипотезу\")\n",
    "else:\n",
    "    print(\"Не получилось отвергнуть нулевую гипотезу\")"
   ]
  },
  {
   "cell_type": "markdown",
   "metadata": {},
   "source": [
    "Вывод: Средние пользовательские рейтинги жанров Action (англ. «действие», экшен-игры) и Sports (англ. «спортивные соревнования») разные."
   ]
  },
  {
   "cell_type": "markdown",
   "metadata": {},
   "source": [
    "<a id='6'></a>\n",
    "## Общий вывод"
   ]
  },
  {
   "cell_type": "markdown",
   "metadata": {},
   "source": [
    "[**1 Изучение данных**](#1)  \n",
    "  \n",
    "Ознакомились с данным, посмотрели на общее инфо и пропуски.  \n",
    "  \n",
    "[**2 Обработка данных**](#2)  \n",
    "  \n",
    "Поправили названия столбцов.  \n",
    "Убрали 2 строчки с данными, где не было одновременно названий, жанров, ретийнгов и оценок игр.\n",
    "Рассмотрели подробно пропуски по рейтингам, оценкам и годам, где возможно доработали данные, где нет - проставили 'нули'.\n",
    "Изменили тип данных для некоторых столбцов. \n",
    "  \n",
    "[**3 Исследовательский анализ данных**](#3)  \n",
    "  \n",
    "Пик выходов видео игр приходиться на 2005-2011 годы, можно связать это с рассцветом предыдущих поколений консолей.  \n",
    "Самые большие продажи игр за все время на PS2, далее PS3 и X360.  \n",
    "Обычно жизнь игровой консоли составляет 7-9 лет.  \n",
    "  \n",
    "Для дальнейшего анализа взяли период 2012-2016.  \n",
    "Оценки пользователей и критиков по разному влияют на продажи игр платформы.  \n",
    "Лидеры за этот период, PS3, PS4, XOne, X360, 3DS, WiiU, PC.  \n",
    "Однако рассматривать PS3 и X360 рассматривать смысла особого нет, т.к. их продажи сократились из-за нового поколения.  \n",
    "(3DS, WiiU тоже особого смысла рассматривать нет, но оставили их для сравнения.)\n",
    "  \n",
    "Зависимость оценок пользователей и критиков меняется в зависимости от платформы.  \n",
    "стоит отметить несколько флагманских платформ:  \n",
    "  \n",
    "Платформа: PS4  \n",
    "корреляция юзеров: 10.77%   \n",
    "Зависимость от оценки пользователей - Низкая положительная   \n",
    "корреляция критиков: 22.43%   \n",
    "Зависимость от оценки критиков - Низкая положительная  \n",
    "  \n",
    "Платформа: 3DS   \n",
    "корреляция юзеров: 11.49%   \n",
    "Зависимость от оценки пользователей - Низкая положительная  \n",
    "корреляция критиков: 14.49%   \n",
    "Зависимость от оценки критиков - Низкая положительная  \n",
    "  \n",
    "Платформа: XOne  \n",
    "корреляция юзеров: 8.51%  \n",
    "Зависимость от оценки пользователей - Низкая положительная  \n",
    "корреляция критиков: 25.92%  \n",
    "Зависимость от оценки критиков - Низкая положительная \n",
    "  \n",
    "Платформа: WiiU  \n",
    "корреляция юзеров: 24.62%  \n",
    "Зависимость от оценки пользователей - Низкая положительная  \n",
    "корреляция критиков: 29.10%  \n",
    "Зависимость от оценки критиков - Низкая положительная \n",
    "  \n",
    "Платформа: PC  \n",
    "корреляция юзеров: 3.55%  \n",
    "Зависимость от оценки пользователей - Низкая положительная  \n",
    "корреляция критиков: 19.30%  \n",
    "Зависимость от оценки критиков - Низкая положительная \n",
    "  \n",
    "[**4 Составьте портрет пользователя каждого региона**](#4)  \n",
    "  \n",
    "За 2012-2016  \n",
    "В Америке лидурует старая X360, но уже видно, что в этот раз соперничество между Sony и Microsoft будет сложнее для Microsoft.    \n",
    "  \n",
    "В Европе уже преобладает Playstation.  \n",
    "В Японии свои позиции все еще удерживает 3DS, однако ставку на него делать не стоит, продажи за последние годы упали на треть.  \n",
    "  \n",
    "В Европе и Америке преобладает традиционная тройка: Спорт, Экшен, Шутер.  \n",
    "В Японии на первом месте RPG, ожидаемо для страны-изобреталетя jRPG.  \n",
    "Однако, если мы смотрим медианные значения, то картина несколько меняется - у Шутеров почти в 2 раза больше продаж.   \n",
    "Так же второе место начинают занимать платформеры.  \n",
    "  \n",
    "рейтинг M (18-21+) - преобладает в Америке и Европе , но занимает очень низкую позицию в Японии.  \n",
    "рейтинг E (для всех) - занимает в Америке и Европе второй местро, Японии такой рейтинг на первом месте.  \n",
    "Так же стоит заметить, что я в Японии много игр, которые вообще не получают рейтинг (нулевых).  \n",
    "  \n",
    "[**5 Проверьте гипотезы**](#5)  \n",
    "  \n",
    "Нулевая гипотеза: Средние пользовательские рейтинги платформ Xbox One и PC одинаковые.  \n",
    "Альтернативная гипотеза: Средние пользовательские рейтинги платформ Xbox One и PC НЕ одинаковые.  \n",
    "  \n",
    "alpha: 5.00%  \n",
    "p-значение: 14.76%  \n",
    "Не получилось отвергнуть нулевую гипотезу  \n",
    "Вывод: Средние пользовательские рейтинги платформ Xbox One и PC одинаковые.  \n",
    "  \n",
    "Нулевая гипотеза: Средние пользовательские рейтинги жанров Action (англ. «действие», экшен-игры) и Sports (англ. «спортивные соревнования») совпадают.  \n",
    "Альтернативная гипотеза: Средние пользовательские рейтинги жанров Action (англ. «действие», экшен-игры) и Sports (англ. «спортивные соревнования») разные.  \n",
    "  \n",
    "alpha: 5.00%  \n",
    "p-значение: 0.02% \n",
    "Отвергаем нулевую гипотезу  \n",
    "Вывод: Средние пользовательские рейтинги жанров Action (англ. «действие», экшен-игры) и Sports (англ. «спортивные соревнования») разные.  "
   ]
  }
 ],
 "metadata": {
  "ExecuteTimeLog": [
   {
    "duration": 514,
    "start_time": "2022-11-28T14:22:13.716Z"
   },
   {
    "duration": 66,
    "start_time": "2022-11-28T15:37:22.210Z"
   },
   {
    "duration": 63,
    "start_time": "2022-11-28T15:40:40.223Z"
   },
   {
    "duration": 3,
    "start_time": "2022-11-28T15:40:56.719Z"
   },
   {
    "duration": 7,
    "start_time": "2022-11-28T15:47:12.167Z"
   },
   {
    "duration": 13,
    "start_time": "2022-11-28T15:47:16.603Z"
   },
   {
    "duration": 7,
    "start_time": "2022-11-28T15:50:30.122Z"
   },
   {
    "duration": 14,
    "start_time": "2022-11-28T15:50:36.331Z"
   },
   {
    "duration": 7,
    "start_time": "2022-11-28T15:52:47.976Z"
   },
   {
    "duration": 22,
    "start_time": "2022-11-28T15:52:55.836Z"
   },
   {
    "duration": 21,
    "start_time": "2022-11-28T15:57:55.931Z"
   },
   {
    "duration": 973,
    "start_time": "2022-11-28T15:58:34.991Z"
   },
   {
    "duration": 19,
    "start_time": "2022-11-28T15:58:51.062Z"
   },
   {
    "duration": 752,
    "start_time": "2022-11-28T16:06:42.742Z"
   },
   {
    "duration": 877,
    "start_time": "2022-11-28T16:06:54.898Z"
   },
   {
    "duration": 1209,
    "start_time": "2022-11-28T16:08:08.399Z"
   },
   {
    "duration": 19,
    "start_time": "2022-11-28T16:09:51.178Z"
   },
   {
    "duration": 10,
    "start_time": "2022-11-28T16:15:39.933Z"
   },
   {
    "duration": 27,
    "start_time": "2022-11-28T16:15:57.598Z"
   },
   {
    "duration": 17,
    "start_time": "2022-11-28T16:16:16.540Z"
   },
   {
    "duration": 12,
    "start_time": "2022-11-28T16:16:26.094Z"
   },
   {
    "duration": 8,
    "start_time": "2022-11-28T16:18:12.975Z"
   },
   {
    "duration": 45,
    "start_time": "2022-11-28T16:20:20.488Z"
   },
   {
    "duration": 14,
    "start_time": "2022-11-28T16:20:35.405Z"
   },
   {
    "duration": 12,
    "start_time": "2022-11-28T16:23:19.212Z"
   },
   {
    "duration": 14,
    "start_time": "2022-11-28T16:24:32.062Z"
   },
   {
    "duration": 852,
    "start_time": "2022-11-28T16:25:59.700Z"
   },
   {
    "duration": 71,
    "start_time": "2022-11-28T16:26:00.554Z"
   },
   {
    "duration": 14,
    "start_time": "2022-11-28T16:26:00.628Z"
   },
   {
    "duration": 22,
    "start_time": "2022-11-28T16:26:00.644Z"
   },
   {
    "duration": 34,
    "start_time": "2022-11-28T16:26:00.667Z"
   },
   {
    "duration": 20,
    "start_time": "2022-11-28T16:26:00.703Z"
   },
   {
    "duration": 23,
    "start_time": "2022-11-28T16:26:00.725Z"
   },
   {
    "duration": 20,
    "start_time": "2022-11-28T16:26:00.750Z"
   },
   {
    "duration": 114,
    "start_time": "2022-11-28T16:26:00.772Z"
   },
   {
    "duration": 13,
    "start_time": "2022-11-28T16:27:03.772Z"
   },
   {
    "duration": 12,
    "start_time": "2022-11-28T16:27:13.573Z"
   },
   {
    "duration": 25,
    "start_time": "2022-11-28T16:27:43.617Z"
   },
   {
    "duration": 16,
    "start_time": "2022-11-28T16:28:03.019Z"
   },
   {
    "duration": 11,
    "start_time": "2022-11-28T16:28:51.858Z"
   },
   {
    "duration": 18,
    "start_time": "2022-11-28T16:29:11.080Z"
   },
   {
    "duration": 12,
    "start_time": "2022-11-28T16:36:03.253Z"
   },
   {
    "duration": 18,
    "start_time": "2022-11-28T16:36:17.873Z"
   },
   {
    "duration": 18,
    "start_time": "2022-11-28T16:38:21.383Z"
   },
   {
    "duration": 13,
    "start_time": "2022-11-28T17:10:30.648Z"
   },
   {
    "duration": 14,
    "start_time": "2022-11-28T17:11:15.667Z"
   },
   {
    "duration": 15,
    "start_time": "2022-11-28T17:11:36.228Z"
   },
   {
    "duration": 11,
    "start_time": "2022-11-28T17:13:10.321Z"
   },
   {
    "duration": 12,
    "start_time": "2022-11-28T17:13:13.174Z"
   },
   {
    "duration": 787,
    "start_time": "2022-11-28T17:13:26.653Z"
   },
   {
    "duration": 70,
    "start_time": "2022-11-28T17:13:27.588Z"
   },
   {
    "duration": 13,
    "start_time": "2022-11-28T17:13:29.938Z"
   },
   {
    "duration": 15,
    "start_time": "2022-11-28T17:13:31.381Z"
   },
   {
    "duration": 19,
    "start_time": "2022-11-28T17:13:33.182Z"
   },
   {
    "duration": 19,
    "start_time": "2022-11-28T17:13:34.932Z"
   },
   {
    "duration": 19,
    "start_time": "2022-11-28T17:13:37.691Z"
   },
   {
    "duration": 20,
    "start_time": "2022-11-28T17:13:39.453Z"
   },
   {
    "duration": 11,
    "start_time": "2022-11-28T17:13:42.174Z"
   },
   {
    "duration": 22,
    "start_time": "2022-11-28T17:13:45.013Z"
   },
   {
    "duration": 24,
    "start_time": "2022-11-28T17:13:54.213Z"
   },
   {
    "duration": 11,
    "start_time": "2022-11-28T17:13:57.650Z"
   },
   {
    "duration": 11,
    "start_time": "2022-11-28T17:14:36.588Z"
   },
   {
    "duration": 25,
    "start_time": "2022-11-28T17:14:44.840Z"
   },
   {
    "duration": 831,
    "start_time": "2022-11-28T17:14:54.903Z"
   },
   {
    "duration": 67,
    "start_time": "2022-11-28T17:14:55.737Z"
   },
   {
    "duration": 12,
    "start_time": "2022-11-28T17:14:55.806Z"
   },
   {
    "duration": 16,
    "start_time": "2022-11-28T17:14:55.820Z"
   },
   {
    "duration": 20,
    "start_time": "2022-11-28T17:14:55.838Z"
   },
   {
    "duration": 20,
    "start_time": "2022-11-28T17:14:55.859Z"
   },
   {
    "duration": 41,
    "start_time": "2022-11-28T17:14:55.881Z"
   },
   {
    "duration": 20,
    "start_time": "2022-11-28T17:14:55.924Z"
   },
   {
    "duration": 33,
    "start_time": "2022-11-28T17:14:55.945Z"
   },
   {
    "duration": 13,
    "start_time": "2022-11-28T17:14:55.980Z"
   },
   {
    "duration": 846,
    "start_time": "2022-11-28T17:15:11.592Z"
   },
   {
    "duration": 74,
    "start_time": "2022-11-28T17:15:12.440Z"
   },
   {
    "duration": 12,
    "start_time": "2022-11-28T17:15:12.515Z"
   },
   {
    "duration": 26,
    "start_time": "2022-11-28T17:15:12.529Z"
   },
   {
    "duration": 53,
    "start_time": "2022-11-28T17:15:12.556Z"
   },
   {
    "duration": 25,
    "start_time": "2022-11-28T17:15:12.611Z"
   },
   {
    "duration": 55,
    "start_time": "2022-11-28T17:15:12.637Z"
   },
   {
    "duration": 28,
    "start_time": "2022-11-28T17:15:12.694Z"
   },
   {
    "duration": 47,
    "start_time": "2022-11-28T17:15:12.723Z"
   },
   {
    "duration": 28,
    "start_time": "2022-11-28T17:15:12.772Z"
   },
   {
    "duration": 29,
    "start_time": "2022-11-28T17:15:43.838Z"
   },
   {
    "duration": 788,
    "start_time": "2022-11-28T17:17:23.753Z"
   },
   {
    "duration": 69,
    "start_time": "2022-11-28T17:17:24.543Z"
   },
   {
    "duration": 14,
    "start_time": "2022-11-28T17:17:24.614Z"
   },
   {
    "duration": 26,
    "start_time": "2022-11-28T17:17:24.629Z"
   },
   {
    "duration": 23,
    "start_time": "2022-11-28T17:17:24.657Z"
   },
   {
    "duration": 18,
    "start_time": "2022-11-28T17:17:24.682Z"
   },
   {
    "duration": 23,
    "start_time": "2022-11-28T17:17:24.701Z"
   },
   {
    "duration": 19,
    "start_time": "2022-11-28T17:17:24.725Z"
   },
   {
    "duration": 8,
    "start_time": "2022-11-28T17:17:24.745Z"
   },
   {
    "duration": 7,
    "start_time": "2022-11-28T17:17:24.755Z"
   },
   {
    "duration": 11,
    "start_time": "2022-11-28T17:17:24.763Z"
   },
   {
    "duration": 53,
    "start_time": "2022-11-28T17:17:24.775Z"
   },
   {
    "duration": 12,
    "start_time": "2022-11-28T17:17:24.829Z"
   },
   {
    "duration": 8,
    "start_time": "2022-11-28T17:19:51.871Z"
   },
   {
    "duration": 12,
    "start_time": "2022-11-28T17:23:39.600Z"
   },
   {
    "duration": 82,
    "start_time": "2022-11-28T17:27:17.914Z"
   },
   {
    "duration": 2,
    "start_time": "2022-11-28T17:27:37.813Z"
   },
   {
    "duration": 70,
    "start_time": "2022-11-28T17:31:06.307Z"
   },
   {
    "duration": 15,
    "start_time": "2022-11-28T17:31:10.945Z"
   },
   {
    "duration": 1076,
    "start_time": "2022-11-28T17:31:20.391Z"
   },
   {
    "duration": 14,
    "start_time": "2022-11-28T17:31:38.067Z"
   },
   {
    "duration": 14,
    "start_time": "2022-11-28T17:31:52.510Z"
   },
   {
    "duration": 12,
    "start_time": "2022-11-28T17:32:04.967Z"
   },
   {
    "duration": 8,
    "start_time": "2022-11-28T17:32:42.313Z"
   },
   {
    "duration": 14,
    "start_time": "2022-11-28T17:33:17.401Z"
   },
   {
    "duration": 16,
    "start_time": "2022-11-28T17:33:24.514Z"
   },
   {
    "duration": 19,
    "start_time": "2022-11-28T17:33:31.084Z"
   },
   {
    "duration": 15,
    "start_time": "2022-11-28T17:33:59.640Z"
   },
   {
    "duration": 11,
    "start_time": "2022-11-28T17:34:06.507Z"
   },
   {
    "duration": 19,
    "start_time": "2022-11-28T17:34:08.543Z"
   },
   {
    "duration": 13,
    "start_time": "2022-11-28T17:34:36.753Z"
   },
   {
    "duration": 80,
    "start_time": "2022-11-28T17:38:01.407Z"
   },
   {
    "duration": 7,
    "start_time": "2022-11-28T17:38:10.764Z"
   },
   {
    "duration": 7,
    "start_time": "2022-11-28T17:38:23.417Z"
   },
   {
    "duration": 6,
    "start_time": "2022-11-28T17:41:43.496Z"
   },
   {
    "duration": 1440,
    "start_time": "2022-11-28T17:42:32.414Z"
   },
   {
    "duration": 6,
    "start_time": "2022-11-28T17:45:59.886Z"
   },
   {
    "duration": 9,
    "start_time": "2022-11-28T17:48:34.475Z"
   },
   {
    "duration": 5,
    "start_time": "2022-11-28T17:48:41.395Z"
   },
   {
    "duration": 28,
    "start_time": "2022-11-28T17:48:51.316Z"
   },
   {
    "duration": 10,
    "start_time": "2022-11-28T17:50:59.954Z"
   },
   {
    "duration": 10,
    "start_time": "2022-11-28T17:51:06.148Z"
   },
   {
    "duration": 10,
    "start_time": "2022-11-28T17:51:15.515Z"
   },
   {
    "duration": 358,
    "start_time": "2022-11-28T17:51:22.044Z"
   },
   {
    "duration": 24,
    "start_time": "2022-11-28T17:51:30.789Z"
   },
   {
    "duration": 397,
    "start_time": "2022-11-28T17:51:57.327Z"
   },
   {
    "duration": 21,
    "start_time": "2022-11-28T17:53:02.135Z"
   },
   {
    "duration": 9,
    "start_time": "2022-11-28T17:53:38.673Z"
   },
   {
    "duration": 22,
    "start_time": "2022-11-28T17:53:46.359Z"
   },
   {
    "duration": 802,
    "start_time": "2022-11-28T17:54:41.648Z"
   },
   {
    "duration": 72,
    "start_time": "2022-11-28T17:54:42.452Z"
   },
   {
    "duration": 14,
    "start_time": "2022-11-28T17:54:42.526Z"
   },
   {
    "duration": 14,
    "start_time": "2022-11-28T17:54:42.542Z"
   },
   {
    "duration": 20,
    "start_time": "2022-11-28T17:54:42.559Z"
   },
   {
    "duration": 49,
    "start_time": "2022-11-28T17:54:42.580Z"
   },
   {
    "duration": 20,
    "start_time": "2022-11-28T17:54:42.631Z"
   },
   {
    "duration": 20,
    "start_time": "2022-11-28T17:54:42.652Z"
   },
   {
    "duration": 12,
    "start_time": "2022-11-28T17:54:42.674Z"
   },
   {
    "duration": 34,
    "start_time": "2022-11-28T17:54:42.688Z"
   },
   {
    "duration": 34,
    "start_time": "2022-11-28T17:54:42.724Z"
   },
   {
    "duration": 90,
    "start_time": "2022-11-28T17:56:49.430Z"
   },
   {
    "duration": 282,
    "start_time": "2022-11-28T17:58:03.220Z"
   },
   {
    "duration": 406,
    "start_time": "2022-11-28T17:58:21.693Z"
   },
   {
    "duration": 14,
    "start_time": "2022-11-28T17:59:18.319Z"
   },
   {
    "duration": 11,
    "start_time": "2022-11-28T17:59:37.231Z"
   },
   {
    "duration": 11,
    "start_time": "2022-11-28T17:59:54.467Z"
   },
   {
    "duration": 4,
    "start_time": "2022-11-28T18:01:19.601Z"
   },
   {
    "duration": 4,
    "start_time": "2022-11-28T18:01:59.070Z"
   },
   {
    "duration": 465,
    "start_time": "2022-11-28T18:02:12.920Z"
   },
   {
    "duration": 442,
    "start_time": "2022-11-28T18:03:04.263Z"
   },
   {
    "duration": 510,
    "start_time": "2022-11-28T18:03:31.865Z"
   },
   {
    "duration": 534,
    "start_time": "2022-11-28T18:04:41.520Z"
   },
   {
    "duration": 744,
    "start_time": "2022-11-28T18:05:18.470Z"
   },
   {
    "duration": 43,
    "start_time": "2022-11-28T18:05:29.397Z"
   },
   {
    "duration": 43,
    "start_time": "2022-11-28T18:06:05.934Z"
   },
   {
    "duration": 826,
    "start_time": "2022-11-28T18:06:18.632Z"
   },
   {
    "duration": 69,
    "start_time": "2022-11-28T18:06:19.460Z"
   },
   {
    "duration": 12,
    "start_time": "2022-11-28T18:06:19.531Z"
   },
   {
    "duration": 16,
    "start_time": "2022-11-28T18:06:19.545Z"
   },
   {
    "duration": 18,
    "start_time": "2022-11-28T18:06:19.563Z"
   },
   {
    "duration": 37,
    "start_time": "2022-11-28T18:06:19.582Z"
   },
   {
    "duration": 21,
    "start_time": "2022-11-28T18:06:19.621Z"
   },
   {
    "duration": 21,
    "start_time": "2022-11-28T18:06:19.644Z"
   },
   {
    "duration": 20,
    "start_time": "2022-11-28T18:06:19.667Z"
   },
   {
    "duration": 37,
    "start_time": "2022-11-28T18:06:19.689Z"
   },
   {
    "duration": 457,
    "start_time": "2022-11-28T18:06:19.728Z"
   },
   {
    "duration": 553,
    "start_time": "2022-11-28T18:06:48.994Z"
   },
   {
    "duration": 41,
    "start_time": "2022-11-28T18:07:07.407Z"
   },
   {
    "duration": 47,
    "start_time": "2022-11-28T18:07:22.795Z"
   },
   {
    "duration": 867,
    "start_time": "2022-11-28T18:07:48.396Z"
   },
   {
    "duration": 71,
    "start_time": "2022-11-28T18:07:49.265Z"
   },
   {
    "duration": 15,
    "start_time": "2022-11-28T18:07:49.337Z"
   },
   {
    "duration": 14,
    "start_time": "2022-11-28T18:07:49.353Z"
   },
   {
    "duration": 28,
    "start_time": "2022-11-28T18:07:49.369Z"
   },
   {
    "duration": 34,
    "start_time": "2022-11-28T18:07:49.398Z"
   },
   {
    "duration": 22,
    "start_time": "2022-11-28T18:07:49.434Z"
   },
   {
    "duration": 21,
    "start_time": "2022-11-28T18:07:49.458Z"
   },
   {
    "duration": 38,
    "start_time": "2022-11-28T18:07:49.481Z"
   },
   {
    "duration": 17,
    "start_time": "2022-11-28T18:07:49.521Z"
   },
   {
    "duration": 507,
    "start_time": "2022-11-28T18:07:49.540Z"
   },
   {
    "duration": 787,
    "start_time": "2022-11-28T18:08:27.369Z"
   },
   {
    "duration": 72,
    "start_time": "2022-11-28T18:08:28.158Z"
   },
   {
    "duration": 13,
    "start_time": "2022-11-28T18:08:28.231Z"
   },
   {
    "duration": 42,
    "start_time": "2022-11-28T18:08:28.246Z"
   },
   {
    "duration": 46,
    "start_time": "2022-11-28T18:08:28.290Z"
   },
   {
    "duration": 36,
    "start_time": "2022-11-28T18:08:28.337Z"
   },
   {
    "duration": 20,
    "start_time": "2022-11-28T18:08:28.375Z"
   },
   {
    "duration": 39,
    "start_time": "2022-11-28T18:08:28.396Z"
   },
   {
    "duration": 28,
    "start_time": "2022-11-28T18:08:28.437Z"
   },
   {
    "duration": 53,
    "start_time": "2022-11-28T18:08:28.466Z"
   },
   {
    "duration": 438,
    "start_time": "2022-11-28T18:08:28.521Z"
   },
   {
    "duration": 789,
    "start_time": "2022-11-28T18:09:03.328Z"
   },
   {
    "duration": 480,
    "start_time": "2022-11-28T18:09:42.901Z"
   },
   {
    "duration": 507,
    "start_time": "2022-11-28T18:10:56.139Z"
   },
   {
    "duration": 483,
    "start_time": "2022-11-28T18:11:21.857Z"
   },
   {
    "duration": 380,
    "start_time": "2022-11-28T18:12:03.553Z"
   },
   {
    "duration": 461,
    "start_time": "2022-11-28T18:12:25.942Z"
   },
   {
    "duration": 394,
    "start_time": "2022-11-28T18:12:39.384Z"
   },
   {
    "duration": 375,
    "start_time": "2022-11-28T18:12:47.726Z"
   },
   {
    "duration": 216,
    "start_time": "2022-11-28T18:13:59.737Z"
   },
   {
    "duration": 415,
    "start_time": "2022-11-28T18:14:15.880Z"
   },
   {
    "duration": 17,
    "start_time": "2022-11-28T18:14:46.598Z"
   },
   {
    "duration": 838,
    "start_time": "2022-11-28T18:15:03.412Z"
   },
   {
    "duration": 68,
    "start_time": "2022-11-28T18:15:04.252Z"
   },
   {
    "duration": 13,
    "start_time": "2022-11-28T18:15:04.322Z"
   },
   {
    "duration": 14,
    "start_time": "2022-11-28T18:15:04.337Z"
   },
   {
    "duration": 26,
    "start_time": "2022-11-28T18:15:04.353Z"
   },
   {
    "duration": 20,
    "start_time": "2022-11-28T18:15:04.381Z"
   },
   {
    "duration": 31,
    "start_time": "2022-11-28T18:15:04.402Z"
   },
   {
    "duration": 35,
    "start_time": "2022-11-28T18:15:04.434Z"
   },
   {
    "duration": 35,
    "start_time": "2022-11-28T18:15:04.471Z"
   },
   {
    "duration": 30,
    "start_time": "2022-11-28T18:15:04.508Z"
   },
   {
    "duration": 453,
    "start_time": "2022-11-28T18:15:04.539Z"
   },
   {
    "duration": 14,
    "start_time": "2022-11-28T18:15:04.993Z"
   },
   {
    "duration": 14,
    "start_time": "2022-11-28T18:22:10.496Z"
   },
   {
    "duration": 13,
    "start_time": "2022-11-28T18:22:36.693Z"
   },
   {
    "duration": 826,
    "start_time": "2022-11-28T18:24:02.175Z"
   },
   {
    "duration": 5,
    "start_time": "2022-11-28T18:24:11.852Z"
   },
   {
    "duration": 17,
    "start_time": "2022-11-28T18:24:21.173Z"
   },
   {
    "duration": 16,
    "start_time": "2022-11-28T18:24:34.484Z"
   },
   {
    "duration": 12,
    "start_time": "2022-11-28T18:24:44.361Z"
   },
   {
    "duration": 23,
    "start_time": "2022-11-28T18:28:15.972Z"
   },
   {
    "duration": 10,
    "start_time": "2022-11-28T18:28:33.112Z"
   },
   {
    "duration": 10,
    "start_time": "2022-11-28T18:28:43.131Z"
   },
   {
    "duration": 23,
    "start_time": "2022-11-28T18:29:11.080Z"
   },
   {
    "duration": 18,
    "start_time": "2022-11-28T18:29:38.041Z"
   },
   {
    "duration": 8,
    "start_time": "2022-11-28T18:29:47.484Z"
   },
   {
    "duration": 10,
    "start_time": "2022-11-28T18:29:54.685Z"
   },
   {
    "duration": 12,
    "start_time": "2022-11-28T18:29:59.704Z"
   },
   {
    "duration": 8,
    "start_time": "2022-11-28T18:32:37.275Z"
   },
   {
    "duration": 27,
    "start_time": "2022-11-28T18:32:41.152Z"
   },
   {
    "duration": 817,
    "start_time": "2022-11-28T18:33:52.519Z"
   },
   {
    "duration": 68,
    "start_time": "2022-11-28T18:33:53.339Z"
   },
   {
    "duration": 13,
    "start_time": "2022-11-28T18:33:53.408Z"
   },
   {
    "duration": 9,
    "start_time": "2022-11-28T18:33:53.423Z"
   },
   {
    "duration": 34,
    "start_time": "2022-11-28T18:33:53.434Z"
   },
   {
    "duration": 27,
    "start_time": "2022-11-28T18:33:53.470Z"
   },
   {
    "duration": 33,
    "start_time": "2022-11-28T18:33:53.498Z"
   },
   {
    "duration": 19,
    "start_time": "2022-11-28T18:33:53.533Z"
   },
   {
    "duration": 19,
    "start_time": "2022-11-28T18:33:53.554Z"
   },
   {
    "duration": 15,
    "start_time": "2022-11-28T18:33:53.575Z"
   },
   {
    "duration": 31,
    "start_time": "2022-11-28T18:33:53.591Z"
   },
   {
    "duration": 431,
    "start_time": "2022-11-28T18:33:53.624Z"
   },
   {
    "duration": 16,
    "start_time": "2022-11-28T18:33:54.057Z"
   },
   {
    "duration": 12,
    "start_time": "2022-11-28T18:33:54.076Z"
   },
   {
    "duration": 32,
    "start_time": "2022-11-28T18:33:54.090Z"
   },
   {
    "duration": 18,
    "start_time": "2022-11-28T18:33:54.124Z"
   },
   {
    "duration": 41,
    "start_time": "2022-11-28T18:33:54.143Z"
   },
   {
    "duration": 66,
    "start_time": "2022-11-28T18:36:12.143Z"
   },
   {
    "duration": 939,
    "start_time": "2022-11-28T18:40:13.077Z"
   },
   {
    "duration": 801,
    "start_time": "2022-11-28T18:40:38.941Z"
   },
   {
    "duration": 794,
    "start_time": "2022-11-28T18:40:53.130Z"
   },
   {
    "duration": 936,
    "start_time": "2022-11-28T18:41:04.420Z"
   },
   {
    "duration": 857,
    "start_time": "2022-11-28T18:41:09.734Z"
   },
   {
    "duration": 71,
    "start_time": "2022-11-28T18:41:10.593Z"
   },
   {
    "duration": 16,
    "start_time": "2022-11-28T18:41:10.666Z"
   },
   {
    "duration": 14,
    "start_time": "2022-11-28T18:41:10.684Z"
   },
   {
    "duration": 26,
    "start_time": "2022-11-28T18:41:10.701Z"
   },
   {
    "duration": 24,
    "start_time": "2022-11-28T18:41:10.729Z"
   },
   {
    "duration": 20,
    "start_time": "2022-11-28T18:41:10.754Z"
   },
   {
    "duration": 41,
    "start_time": "2022-11-28T18:41:10.776Z"
   },
   {
    "duration": 22,
    "start_time": "2022-11-28T18:41:10.818Z"
   },
   {
    "duration": 28,
    "start_time": "2022-11-28T18:41:10.843Z"
   },
   {
    "duration": 45,
    "start_time": "2022-11-28T18:41:10.874Z"
   },
   {
    "duration": 430,
    "start_time": "2022-11-28T18:41:10.920Z"
   },
   {
    "duration": 13,
    "start_time": "2022-11-28T18:41:11.352Z"
   },
   {
    "duration": 7,
    "start_time": "2022-11-28T18:41:11.367Z"
   },
   {
    "duration": 10,
    "start_time": "2022-11-28T18:41:11.375Z"
   },
   {
    "duration": 29,
    "start_time": "2022-11-28T18:41:11.387Z"
   },
   {
    "duration": 13,
    "start_time": "2022-11-28T18:41:11.418Z"
   },
   {
    "duration": 4,
    "start_time": "2022-11-28T18:41:11.433Z"
   },
   {
    "duration": 10,
    "start_time": "2022-11-28T18:41:50.180Z"
   },
   {
    "duration": 798,
    "start_time": "2022-11-28T18:42:00.578Z"
   },
   {
    "duration": 937,
    "start_time": "2022-11-28T18:42:01.378Z"
   },
   {
    "duration": 0,
    "start_time": "2022-11-28T18:42:02.317Z"
   },
   {
    "duration": 0,
    "start_time": "2022-11-28T18:42:02.318Z"
   },
   {
    "duration": 0,
    "start_time": "2022-11-28T18:42:02.319Z"
   },
   {
    "duration": 0,
    "start_time": "2022-11-28T18:42:02.320Z"
   },
   {
    "duration": 0,
    "start_time": "2022-11-28T18:42:02.321Z"
   },
   {
    "duration": 0,
    "start_time": "2022-11-28T18:42:02.323Z"
   },
   {
    "duration": 0,
    "start_time": "2022-11-28T18:42:02.324Z"
   },
   {
    "duration": 0,
    "start_time": "2022-11-28T18:42:02.324Z"
   },
   {
    "duration": 0,
    "start_time": "2022-11-28T18:42:02.326Z"
   },
   {
    "duration": 0,
    "start_time": "2022-11-28T18:42:02.327Z"
   },
   {
    "duration": 0,
    "start_time": "2022-11-28T18:42:02.328Z"
   },
   {
    "duration": 0,
    "start_time": "2022-11-28T18:42:02.329Z"
   },
   {
    "duration": 0,
    "start_time": "2022-11-28T18:42:02.329Z"
   },
   {
    "duration": 0,
    "start_time": "2022-11-28T18:42:02.330Z"
   },
   {
    "duration": 0,
    "start_time": "2022-11-28T18:42:02.332Z"
   },
   {
    "duration": 0,
    "start_time": "2022-11-28T18:42:02.333Z"
   },
   {
    "duration": 855,
    "start_time": "2022-11-28T18:42:17.895Z"
   },
   {
    "duration": 935,
    "start_time": "2022-11-28T18:42:18.752Z"
   },
   {
    "duration": 0,
    "start_time": "2022-11-28T18:42:19.689Z"
   },
   {
    "duration": 0,
    "start_time": "2022-11-28T18:42:19.691Z"
   },
   {
    "duration": 0,
    "start_time": "2022-11-28T18:42:19.692Z"
   },
   {
    "duration": 0,
    "start_time": "2022-11-28T18:42:19.693Z"
   },
   {
    "duration": 0,
    "start_time": "2022-11-28T18:42:19.694Z"
   },
   {
    "duration": 0,
    "start_time": "2022-11-28T18:42:19.695Z"
   },
   {
    "duration": 0,
    "start_time": "2022-11-28T18:42:19.696Z"
   },
   {
    "duration": 0,
    "start_time": "2022-11-28T18:42:19.697Z"
   },
   {
    "duration": 0,
    "start_time": "2022-11-28T18:42:19.697Z"
   },
   {
    "duration": 0,
    "start_time": "2022-11-28T18:42:19.699Z"
   },
   {
    "duration": 0,
    "start_time": "2022-11-28T18:42:19.700Z"
   },
   {
    "duration": 0,
    "start_time": "2022-11-28T18:42:19.701Z"
   },
   {
    "duration": 0,
    "start_time": "2022-11-28T18:42:19.702Z"
   },
   {
    "duration": 0,
    "start_time": "2022-11-28T18:42:19.703Z"
   },
   {
    "duration": 0,
    "start_time": "2022-11-28T18:42:19.704Z"
   },
   {
    "duration": 0,
    "start_time": "2022-11-28T18:42:19.705Z"
   },
   {
    "duration": 756,
    "start_time": "2022-11-28T18:42:34.390Z"
   },
   {
    "duration": 76,
    "start_time": "2022-11-28T18:42:35.148Z"
   },
   {
    "duration": 15,
    "start_time": "2022-11-28T18:42:35.225Z"
   },
   {
    "duration": 8,
    "start_time": "2022-11-28T18:42:35.242Z"
   },
   {
    "duration": 12,
    "start_time": "2022-11-28T18:42:35.252Z"
   },
   {
    "duration": 27,
    "start_time": "2022-11-28T18:42:35.266Z"
   },
   {
    "duration": 41,
    "start_time": "2022-11-28T18:42:35.295Z"
   },
   {
    "duration": 21,
    "start_time": "2022-11-28T18:42:35.338Z"
   },
   {
    "duration": 19,
    "start_time": "2022-11-28T18:42:35.361Z"
   },
   {
    "duration": 15,
    "start_time": "2022-11-28T18:42:35.382Z"
   },
   {
    "duration": 33,
    "start_time": "2022-11-28T18:42:35.398Z"
   },
   {
    "duration": 447,
    "start_time": "2022-11-28T18:42:35.433Z"
   },
   {
    "duration": 14,
    "start_time": "2022-11-28T18:42:35.882Z"
   },
   {
    "duration": 27,
    "start_time": "2022-11-28T18:42:35.898Z"
   },
   {
    "duration": 16,
    "start_time": "2022-11-28T18:42:35.927Z"
   },
   {
    "duration": 23,
    "start_time": "2022-11-28T18:42:35.944Z"
   },
   {
    "duration": 13,
    "start_time": "2022-11-28T18:42:35.968Z"
   },
   {
    "duration": 10,
    "start_time": "2022-11-28T18:42:35.983Z"
   },
   {
    "duration": 822,
    "start_time": "2022-11-28T18:42:45.874Z"
   },
   {
    "duration": 83,
    "start_time": "2022-11-28T18:42:46.698Z"
   },
   {
    "duration": 18,
    "start_time": "2022-11-28T18:42:46.784Z"
   },
   {
    "duration": 48,
    "start_time": "2022-11-28T18:42:46.804Z"
   },
   {
    "duration": 24,
    "start_time": "2022-11-28T18:42:46.855Z"
   },
   {
    "duration": 34,
    "start_time": "2022-11-28T18:42:46.881Z"
   },
   {
    "duration": 24,
    "start_time": "2022-11-28T18:42:46.921Z"
   },
   {
    "duration": 20,
    "start_time": "2022-11-28T18:42:46.946Z"
   },
   {
    "duration": 18,
    "start_time": "2022-11-28T18:42:46.968Z"
   },
   {
    "duration": 30,
    "start_time": "2022-11-28T18:42:46.988Z"
   },
   {
    "duration": 22,
    "start_time": "2022-11-28T18:42:47.021Z"
   },
   {
    "duration": 433,
    "start_time": "2022-11-28T18:42:47.044Z"
   },
   {
    "duration": 12,
    "start_time": "2022-11-28T18:42:47.479Z"
   },
   {
    "duration": 5,
    "start_time": "2022-11-28T18:42:47.495Z"
   },
   {
    "duration": 30,
    "start_time": "2022-11-28T18:42:47.501Z"
   },
   {
    "duration": 18,
    "start_time": "2022-11-28T18:42:47.533Z"
   },
   {
    "duration": 15,
    "start_time": "2022-11-28T18:42:47.552Z"
   },
   {
    "duration": 9,
    "start_time": "2022-11-28T18:42:47.568Z"
   },
   {
    "duration": 778,
    "start_time": "2022-11-28T18:43:06.857Z"
   },
   {
    "duration": 70,
    "start_time": "2022-11-28T18:43:07.637Z"
   },
   {
    "duration": 20,
    "start_time": "2022-11-28T18:43:07.708Z"
   },
   {
    "duration": 22,
    "start_time": "2022-11-28T18:43:07.730Z"
   },
   {
    "duration": 28,
    "start_time": "2022-11-28T18:43:07.753Z"
   },
   {
    "duration": 30,
    "start_time": "2022-11-28T18:43:07.783Z"
   },
   {
    "duration": 29,
    "start_time": "2022-11-28T18:43:07.816Z"
   },
   {
    "duration": 22,
    "start_time": "2022-11-28T18:43:07.847Z"
   },
   {
    "duration": 18,
    "start_time": "2022-11-28T18:43:07.870Z"
   },
   {
    "duration": 32,
    "start_time": "2022-11-28T18:43:07.890Z"
   },
   {
    "duration": 16,
    "start_time": "2022-11-28T18:43:07.927Z"
   },
   {
    "duration": 442,
    "start_time": "2022-11-28T18:43:07.945Z"
   },
   {
    "duration": 14,
    "start_time": "2022-11-28T18:43:08.388Z"
   },
   {
    "duration": 24,
    "start_time": "2022-11-28T18:43:08.403Z"
   },
   {
    "duration": 7,
    "start_time": "2022-11-28T18:43:08.428Z"
   },
   {
    "duration": 20,
    "start_time": "2022-11-28T18:43:08.436Z"
   },
   {
    "duration": 12,
    "start_time": "2022-11-28T18:43:08.458Z"
   },
   {
    "duration": 13,
    "start_time": "2022-11-28T18:43:08.472Z"
   },
   {
    "duration": 812,
    "start_time": "2022-11-28T18:43:50.616Z"
   },
   {
    "duration": 67,
    "start_time": "2022-11-28T18:43:51.430Z"
   },
   {
    "duration": 13,
    "start_time": "2022-11-28T18:43:51.499Z"
   },
   {
    "duration": 9,
    "start_time": "2022-11-28T18:43:51.514Z"
   },
   {
    "duration": 15,
    "start_time": "2022-11-28T18:43:51.524Z"
   },
   {
    "duration": 23,
    "start_time": "2022-11-28T18:43:51.540Z"
   },
   {
    "duration": 20,
    "start_time": "2022-11-28T18:43:51.565Z"
   },
   {
    "duration": 41,
    "start_time": "2022-11-28T18:43:51.587Z"
   },
   {
    "duration": 19,
    "start_time": "2022-11-28T18:43:51.629Z"
   },
   {
    "duration": 17,
    "start_time": "2022-11-28T18:43:51.650Z"
   },
   {
    "duration": 12,
    "start_time": "2022-11-28T18:43:51.669Z"
   },
   {
    "duration": 432,
    "start_time": "2022-11-28T18:43:51.683Z"
   },
   {
    "duration": 15,
    "start_time": "2022-11-28T18:43:52.117Z"
   },
   {
    "duration": 16,
    "start_time": "2022-11-28T18:43:52.133Z"
   },
   {
    "duration": 16,
    "start_time": "2022-11-28T18:43:52.151Z"
   },
   {
    "duration": 20,
    "start_time": "2022-11-28T18:43:52.169Z"
   },
   {
    "duration": 17,
    "start_time": "2022-11-28T18:43:52.190Z"
   },
   {
    "duration": 11,
    "start_time": "2022-11-28T18:43:52.209Z"
   },
   {
    "duration": 816,
    "start_time": "2022-11-28T18:46:02.557Z"
   },
   {
    "duration": 86,
    "start_time": "2022-11-28T18:46:03.375Z"
   },
   {
    "duration": 14,
    "start_time": "2022-11-28T18:46:03.463Z"
   },
   {
    "duration": 29,
    "start_time": "2022-11-28T18:46:03.479Z"
   },
   {
    "duration": 26,
    "start_time": "2022-11-28T18:46:03.510Z"
   },
   {
    "duration": 20,
    "start_time": "2022-11-28T18:46:03.539Z"
   },
   {
    "duration": 18,
    "start_time": "2022-11-28T18:46:03.560Z"
   },
   {
    "duration": 18,
    "start_time": "2022-11-28T18:46:03.580Z"
   },
   {
    "duration": 41,
    "start_time": "2022-11-28T18:46:03.600Z"
   },
   {
    "duration": 15,
    "start_time": "2022-11-28T18:46:03.643Z"
   },
   {
    "duration": 17,
    "start_time": "2022-11-28T18:46:03.659Z"
   },
   {
    "duration": 508,
    "start_time": "2022-11-28T18:46:03.677Z"
   },
   {
    "duration": 13,
    "start_time": "2022-11-28T18:46:04.187Z"
   },
   {
    "duration": 14,
    "start_time": "2022-11-28T18:46:04.202Z"
   },
   {
    "duration": 13,
    "start_time": "2022-11-28T18:46:04.219Z"
   },
   {
    "duration": 21,
    "start_time": "2022-11-28T18:46:04.235Z"
   },
   {
    "duration": 15,
    "start_time": "2022-11-28T18:46:04.258Z"
   },
   {
    "duration": 21,
    "start_time": "2022-11-28T18:46:44.671Z"
   },
   {
    "duration": 14,
    "start_time": "2022-11-28T18:53:06.121Z"
   },
   {
    "duration": 15,
    "start_time": "2022-11-28T18:53:14.260Z"
   },
   {
    "duration": 783,
    "start_time": "2022-11-28T18:53:26.670Z"
   },
   {
    "duration": 73,
    "start_time": "2022-11-28T18:53:27.454Z"
   },
   {
    "duration": 18,
    "start_time": "2022-11-28T18:53:27.530Z"
   },
   {
    "duration": 14,
    "start_time": "2022-11-28T18:53:27.549Z"
   },
   {
    "duration": 19,
    "start_time": "2022-11-28T18:53:27.564Z"
   },
   {
    "duration": 21,
    "start_time": "2022-11-28T18:53:27.584Z"
   },
   {
    "duration": 41,
    "start_time": "2022-11-28T18:53:27.606Z"
   },
   {
    "duration": 20,
    "start_time": "2022-11-28T18:53:27.649Z"
   },
   {
    "duration": 21,
    "start_time": "2022-11-28T18:53:27.671Z"
   },
   {
    "duration": 48,
    "start_time": "2022-11-28T18:53:27.694Z"
   },
   {
    "duration": 12,
    "start_time": "2022-11-28T18:53:27.744Z"
   },
   {
    "duration": 500,
    "start_time": "2022-11-28T18:53:27.758Z"
   },
   {
    "duration": 14,
    "start_time": "2022-11-28T18:53:28.260Z"
   },
   {
    "duration": 7,
    "start_time": "2022-11-28T18:53:28.275Z"
   },
   {
    "duration": 46,
    "start_time": "2022-11-28T18:53:28.283Z"
   },
   {
    "duration": 13,
    "start_time": "2022-11-28T18:53:28.332Z"
   },
   {
    "duration": 19,
    "start_time": "2022-11-28T18:53:28.347Z"
   },
   {
    "duration": 14,
    "start_time": "2022-11-28T18:53:28.368Z"
   },
   {
    "duration": 100,
    "start_time": "2022-11-28T19:01:20.106Z"
   },
   {
    "duration": 14,
    "start_time": "2022-11-28T19:01:24.279Z"
   },
   {
    "duration": 13,
    "start_time": "2022-11-28T19:01:41.660Z"
   },
   {
    "duration": 15,
    "start_time": "2022-11-28T19:01:50.528Z"
   },
   {
    "duration": 14,
    "start_time": "2022-11-28T19:01:54.069Z"
   },
   {
    "duration": 557,
    "start_time": "2022-11-28T19:02:39.390Z"
   },
   {
    "duration": 864,
    "start_time": "2022-11-28T19:03:19.413Z"
   },
   {
    "duration": 152,
    "start_time": "2022-11-28T19:03:30.477Z"
   },
   {
    "duration": 21,
    "start_time": "2022-11-28T19:03:36.348Z"
   },
   {
    "duration": 16,
    "start_time": "2022-11-28T19:03:41.352Z"
   },
   {
    "duration": 207,
    "start_time": "2022-11-28T19:03:46.528Z"
   },
   {
    "duration": 165,
    "start_time": "2022-11-28T19:04:00.408Z"
   },
   {
    "duration": 173,
    "start_time": "2022-11-28T19:04:08.729Z"
   },
   {
    "duration": 183,
    "start_time": "2022-11-28T19:04:15.201Z"
   },
   {
    "duration": 205,
    "start_time": "2022-11-28T19:04:30.921Z"
   },
   {
    "duration": 228,
    "start_time": "2022-11-28T19:04:40.863Z"
   },
   {
    "duration": 219,
    "start_time": "2022-11-28T19:04:45.769Z"
   },
   {
    "duration": 219,
    "start_time": "2022-11-28T19:04:58.352Z"
   },
   {
    "duration": 10,
    "start_time": "2022-11-28T19:08:22.928Z"
   },
   {
    "duration": 280,
    "start_time": "2022-11-28T19:08:39.403Z"
   },
   {
    "duration": 16,
    "start_time": "2022-11-28T19:09:22.750Z"
   },
   {
    "duration": 13,
    "start_time": "2022-11-28T19:09:47.969Z"
   },
   {
    "duration": 22,
    "start_time": "2022-11-28T19:10:03.403Z"
   },
   {
    "duration": 15,
    "start_time": "2022-11-28T19:10:09.669Z"
   },
   {
    "duration": 14,
    "start_time": "2022-11-28T19:10:17.991Z"
   },
   {
    "duration": 32,
    "start_time": "2022-11-28T19:10:32.409Z"
   },
   {
    "duration": 15,
    "start_time": "2022-11-28T19:11:06.028Z"
   },
   {
    "duration": 19,
    "start_time": "2022-11-28T19:11:23.122Z"
   },
   {
    "duration": 24,
    "start_time": "2022-11-28T19:11:41.831Z"
   },
   {
    "duration": 15,
    "start_time": "2022-11-28T19:11:56.934Z"
   },
   {
    "duration": 14,
    "start_time": "2022-11-28T19:12:08.689Z"
   },
   {
    "duration": 17,
    "start_time": "2022-11-28T19:12:23.353Z"
   },
   {
    "duration": 18,
    "start_time": "2022-11-28T19:12:31.587Z"
   },
   {
    "duration": 18,
    "start_time": "2022-11-28T19:13:37.034Z"
   },
   {
    "duration": 16,
    "start_time": "2022-11-28T19:14:19.271Z"
   },
   {
    "duration": 14,
    "start_time": "2022-11-28T19:14:37.197Z"
   },
   {
    "duration": 17,
    "start_time": "2022-11-28T19:15:27.683Z"
   },
   {
    "duration": 1077,
    "start_time": "2022-11-28T19:15:33.558Z"
   },
   {
    "duration": 67,
    "start_time": "2022-11-28T19:15:34.637Z"
   },
   {
    "duration": 22,
    "start_time": "2022-11-28T19:15:34.705Z"
   },
   {
    "duration": 14,
    "start_time": "2022-11-28T19:15:34.729Z"
   },
   {
    "duration": 15,
    "start_time": "2022-11-28T19:15:34.744Z"
   },
   {
    "duration": 19,
    "start_time": "2022-11-28T19:15:34.761Z"
   },
   {
    "duration": 21,
    "start_time": "2022-11-28T19:15:34.781Z"
   },
   {
    "duration": 34,
    "start_time": "2022-11-28T19:15:34.803Z"
   },
   {
    "duration": 19,
    "start_time": "2022-11-28T19:15:34.839Z"
   },
   {
    "duration": 13,
    "start_time": "2022-11-28T19:15:34.860Z"
   },
   {
    "duration": 13,
    "start_time": "2022-11-28T19:15:34.875Z"
   },
   {
    "duration": 477,
    "start_time": "2022-11-28T19:15:34.889Z"
   },
   {
    "duration": 14,
    "start_time": "2022-11-28T19:15:35.368Z"
   },
   {
    "duration": 8,
    "start_time": "2022-11-28T19:15:35.384Z"
   },
   {
    "duration": 41,
    "start_time": "2022-11-28T19:15:35.394Z"
   },
   {
    "duration": 9,
    "start_time": "2022-11-28T19:15:35.437Z"
   },
   {
    "duration": 22,
    "start_time": "2022-11-28T19:15:35.447Z"
   },
   {
    "duration": 16,
    "start_time": "2022-11-28T19:15:35.471Z"
   },
   {
    "duration": 242,
    "start_time": "2022-11-28T19:15:35.488Z"
   },
   {
    "duration": 121,
    "start_time": "2022-11-28T19:15:35.732Z"
   },
   {
    "duration": 1076,
    "start_time": "2022-11-28T19:17:07.966Z"
   },
   {
    "duration": 69,
    "start_time": "2022-11-28T19:17:09.044Z"
   },
   {
    "duration": 20,
    "start_time": "2022-11-28T19:17:09.115Z"
   },
   {
    "duration": 14,
    "start_time": "2022-11-28T19:17:09.137Z"
   },
   {
    "duration": 16,
    "start_time": "2022-11-28T19:17:09.154Z"
   },
   {
    "duration": 22,
    "start_time": "2022-11-28T19:17:09.172Z"
   },
   {
    "duration": 36,
    "start_time": "2022-11-28T19:17:09.195Z"
   },
   {
    "duration": 20,
    "start_time": "2022-11-28T19:17:09.233Z"
   },
   {
    "duration": 19,
    "start_time": "2022-11-28T19:17:09.254Z"
   },
   {
    "duration": 13,
    "start_time": "2022-11-28T19:17:09.274Z"
   },
   {
    "duration": 24,
    "start_time": "2022-11-28T19:17:09.318Z"
   },
   {
    "duration": 431,
    "start_time": "2022-11-28T19:17:09.344Z"
   },
   {
    "duration": 13,
    "start_time": "2022-11-28T19:17:09.777Z"
   },
   {
    "duration": 6,
    "start_time": "2022-11-28T19:17:09.792Z"
   },
   {
    "duration": 43,
    "start_time": "2022-11-28T19:17:09.800Z"
   },
   {
    "duration": 8,
    "start_time": "2022-11-28T19:17:09.845Z"
   },
   {
    "duration": 17,
    "start_time": "2022-11-28T19:17:09.855Z"
   },
   {
    "duration": 17,
    "start_time": "2022-11-28T19:17:09.873Z"
   },
   {
    "duration": 270,
    "start_time": "2022-11-28T19:17:09.892Z"
   },
   {
    "duration": 120,
    "start_time": "2022-11-28T19:17:10.164Z"
   },
   {
    "duration": 18,
    "start_time": "2022-11-28T19:17:48.872Z"
   },
   {
    "duration": 18,
    "start_time": "2022-11-28T19:18:38.445Z"
   },
   {
    "duration": 21,
    "start_time": "2022-11-28T19:20:04.900Z"
   },
   {
    "duration": 25,
    "start_time": "2022-11-28T19:20:32.784Z"
   },
   {
    "duration": 293,
    "start_time": "2022-11-28T19:20:40.267Z"
   },
   {
    "duration": 28,
    "start_time": "2022-11-28T19:20:56.801Z"
   },
   {
    "duration": 297,
    "start_time": "2022-11-28T19:21:09.282Z"
   },
   {
    "duration": 132,
    "start_time": "2022-11-28T19:21:35.763Z"
   },
   {
    "duration": 144,
    "start_time": "2022-11-28T19:22:19.712Z"
   },
   {
    "duration": 378,
    "start_time": "2022-11-28T19:22:23.898Z"
   },
   {
    "duration": 343,
    "start_time": "2022-11-28T19:22:43.714Z"
   },
   {
    "duration": 320,
    "start_time": "2022-11-28T19:22:52.786Z"
   },
   {
    "duration": 421,
    "start_time": "2022-11-28T19:23:06.352Z"
   },
   {
    "duration": 17,
    "start_time": "2022-11-28T19:23:26.532Z"
   },
   {
    "duration": 10,
    "start_time": "2022-11-28T19:23:43.406Z"
   },
   {
    "duration": 775,
    "start_time": "2022-11-28T19:24:18.013Z"
   },
   {
    "duration": 374,
    "start_time": "2022-11-28T19:24:32.923Z"
   },
   {
    "duration": 479,
    "start_time": "2022-11-28T19:26:20.106Z"
   },
   {
    "duration": 668,
    "start_time": "2022-11-28T19:27:15.443Z"
   },
   {
    "duration": 406,
    "start_time": "2022-11-28T19:27:31.042Z"
   },
   {
    "duration": 415,
    "start_time": "2022-11-28T19:27:52.930Z"
   },
   {
    "duration": 369,
    "start_time": "2022-11-28T19:28:19.717Z"
   },
   {
    "duration": 6,
    "start_time": "2022-11-28T19:29:00.679Z"
   },
   {
    "duration": 10,
    "start_time": "2022-11-28T19:29:44.149Z"
   },
   {
    "duration": 775,
    "start_time": "2022-11-28T19:29:51.161Z"
   },
   {
    "duration": 3,
    "start_time": "2022-11-28T19:31:06.273Z"
   },
   {
    "duration": 41,
    "start_time": "2022-11-28T19:36:31.454Z"
   },
   {
    "duration": 44,
    "start_time": "2022-11-28T19:37:16.547Z"
   },
   {
    "duration": 16,
    "start_time": "2022-11-28T19:38:24.454Z"
   },
   {
    "duration": 17,
    "start_time": "2022-11-28T19:39:20.130Z"
   },
   {
    "duration": 781,
    "start_time": "2022-11-28T19:39:48.851Z"
   },
   {
    "duration": 152,
    "start_time": "2022-11-28T19:40:13.493Z"
   },
   {
    "duration": 177,
    "start_time": "2022-11-28T19:40:29.429Z"
   },
   {
    "duration": 463,
    "start_time": "2022-11-28T19:40:56.841Z"
   },
   {
    "duration": 373,
    "start_time": "2022-11-28T19:41:01.780Z"
   },
   {
    "duration": 178,
    "start_time": "2022-11-28T19:41:11.848Z"
   },
   {
    "duration": 1111,
    "start_time": "2022-11-28T19:41:57.973Z"
   },
   {
    "duration": 6576,
    "start_time": "2022-11-28T19:42:28.382Z"
   },
   {
    "duration": 6998,
    "start_time": "2022-11-28T19:44:19.349Z"
   },
   {
    "duration": 7135,
    "start_time": "2022-11-28T19:44:43.108Z"
   },
   {
    "duration": 7063,
    "start_time": "2022-11-28T19:46:07.684Z"
   },
   {
    "duration": 6889,
    "start_time": "2022-11-28T19:47:26.192Z"
   },
   {
    "duration": 1321,
    "start_time": "2022-11-28T19:48:17.427Z"
   },
   {
    "duration": 56,
    "start_time": "2022-11-28T19:48:48.650Z"
   },
   {
    "duration": 80,
    "start_time": "2022-11-28T19:48:59.608Z"
   },
   {
    "duration": 63,
    "start_time": "2022-11-28T19:49:16.906Z"
   },
   {
    "duration": 48,
    "start_time": "2022-11-28T19:49:28.932Z"
   },
   {
    "duration": 1178,
    "start_time": "2022-11-28T19:49:33.183Z"
   },
   {
    "duration": 72,
    "start_time": "2022-11-28T19:49:34.363Z"
   },
   {
    "duration": 13,
    "start_time": "2022-11-28T19:49:34.437Z"
   },
   {
    "duration": 27,
    "start_time": "2022-11-28T19:49:34.452Z"
   },
   {
    "duration": 30,
    "start_time": "2022-11-28T19:49:34.481Z"
   },
   {
    "duration": 63,
    "start_time": "2022-11-28T19:49:34.513Z"
   },
   {
    "duration": 18,
    "start_time": "2022-11-28T19:49:34.578Z"
   },
   {
    "duration": 37,
    "start_time": "2022-11-28T19:49:34.598Z"
   },
   {
    "duration": 29,
    "start_time": "2022-11-28T19:49:34.637Z"
   },
   {
    "duration": 15,
    "start_time": "2022-11-28T19:49:34.668Z"
   },
   {
    "duration": 44,
    "start_time": "2022-11-28T19:49:34.684Z"
   },
   {
    "duration": 442,
    "start_time": "2022-11-28T19:49:34.729Z"
   },
   {
    "duration": 14,
    "start_time": "2022-11-28T19:49:35.172Z"
   },
   {
    "duration": 29,
    "start_time": "2022-11-28T19:49:35.188Z"
   },
   {
    "duration": 46,
    "start_time": "2022-11-28T19:49:35.219Z"
   },
   {
    "duration": 21,
    "start_time": "2022-11-28T19:49:35.267Z"
   },
   {
    "duration": 77,
    "start_time": "2022-11-28T19:49:35.289Z"
   },
   {
    "duration": 33,
    "start_time": "2022-11-28T19:49:35.368Z"
   },
   {
    "duration": 460,
    "start_time": "2022-11-28T19:49:35.403Z"
   },
   {
    "duration": 44,
    "start_time": "2022-11-28T19:49:35.864Z"
   },
   {
    "duration": 0,
    "start_time": "2022-11-28T19:49:35.909Z"
   },
   {
    "duration": 402,
    "start_time": "2022-11-28T19:50:19.598Z"
   },
   {
    "duration": 108,
    "start_time": "2022-11-28T19:50:22.222Z"
   },
   {
    "duration": 414,
    "start_time": "2022-11-28T19:51:16.786Z"
   },
   {
    "duration": 90,
    "start_time": "2022-11-28T19:51:19.574Z"
   },
   {
    "duration": 60,
    "start_time": "2022-11-28T19:51:34.781Z"
   },
   {
    "duration": 49,
    "start_time": "2022-11-28T19:52:02.930Z"
   },
   {
    "duration": 57,
    "start_time": "2022-11-28T19:53:22.574Z"
   },
   {
    "duration": 54,
    "start_time": "2022-11-28T19:53:55.228Z"
   },
   {
    "duration": 47,
    "start_time": "2022-11-28T19:54:01.640Z"
   },
   {
    "duration": 19,
    "start_time": "2022-11-28T19:54:12.010Z"
   },
   {
    "duration": 51,
    "start_time": "2022-11-28T19:54:25.762Z"
   },
   {
    "duration": 59,
    "start_time": "2022-11-28T19:54:39.199Z"
   },
   {
    "duration": 84,
    "start_time": "2022-11-28T19:55:00.529Z"
   },
   {
    "duration": 1167,
    "start_time": "2022-11-28T19:55:23.993Z"
   },
   {
    "duration": 71,
    "start_time": "2022-11-28T19:55:25.162Z"
   },
   {
    "duration": 13,
    "start_time": "2022-11-28T19:55:25.235Z"
   },
   {
    "duration": 12,
    "start_time": "2022-11-28T19:55:25.250Z"
   },
   {
    "duration": 15,
    "start_time": "2022-11-28T19:55:25.263Z"
   },
   {
    "duration": 21,
    "start_time": "2022-11-28T19:55:25.280Z"
   },
   {
    "duration": 38,
    "start_time": "2022-11-28T19:55:25.315Z"
   },
   {
    "duration": 22,
    "start_time": "2022-11-28T19:55:25.355Z"
   },
   {
    "duration": 20,
    "start_time": "2022-11-28T19:55:25.379Z"
   },
   {
    "duration": 34,
    "start_time": "2022-11-28T19:55:25.400Z"
   },
   {
    "duration": 14,
    "start_time": "2022-11-28T19:55:25.436Z"
   },
   {
    "duration": 449,
    "start_time": "2022-11-28T19:55:25.452Z"
   },
   {
    "duration": 21,
    "start_time": "2022-11-28T19:55:25.903Z"
   },
   {
    "duration": 19,
    "start_time": "2022-11-28T19:55:25.927Z"
   },
   {
    "duration": 23,
    "start_time": "2022-11-28T19:55:25.947Z"
   },
   {
    "duration": 8,
    "start_time": "2022-11-28T19:55:25.971Z"
   },
   {
    "duration": 16,
    "start_time": "2022-11-28T19:55:25.980Z"
   },
   {
    "duration": 33,
    "start_time": "2022-11-28T19:55:25.998Z"
   },
   {
    "duration": 480,
    "start_time": "2022-11-28T19:55:26.033Z"
   },
   {
    "duration": 69,
    "start_time": "2022-11-28T19:55:26.515Z"
   },
   {
    "duration": 0,
    "start_time": "2022-11-28T19:55:26.586Z"
   },
   {
    "duration": 82,
    "start_time": "2022-11-28T19:55:46.408Z"
   },
   {
    "duration": 25,
    "start_time": "2022-11-28T19:55:54.412Z"
   },
   {
    "duration": 421,
    "start_time": "2022-11-28T19:56:00.815Z"
   },
   {
    "duration": 5421,
    "start_time": "2022-11-28T19:56:26.731Z"
   },
   {
    "duration": 107,
    "start_time": "2022-11-28T19:56:48.643Z"
   },
   {
    "duration": 4,
    "start_time": "2022-11-28T19:59:41.942Z"
   },
   {
    "duration": 819,
    "start_time": "2022-11-28T20:00:00.044Z"
   },
   {
    "duration": 950,
    "start_time": "2022-11-28T20:00:08.940Z"
   },
   {
    "duration": 1160,
    "start_time": "2022-11-28T20:02:24.217Z"
   },
   {
    "duration": 50,
    "start_time": "2022-11-28T20:20:29.550Z"
   },
   {
    "duration": 201,
    "start_time": "2022-11-28T20:20:48.100Z"
   },
   {
    "duration": 1148,
    "start_time": "2022-11-28T20:21:14.590Z"
   },
   {
    "duration": 69,
    "start_time": "2022-11-28T20:21:15.740Z"
   },
   {
    "duration": 23,
    "start_time": "2022-11-28T20:21:15.811Z"
   },
   {
    "duration": 12,
    "start_time": "2022-11-28T20:21:15.836Z"
   },
   {
    "duration": 14,
    "start_time": "2022-11-28T20:21:15.850Z"
   },
   {
    "duration": 22,
    "start_time": "2022-11-28T20:21:15.866Z"
   },
   {
    "duration": 44,
    "start_time": "2022-11-28T20:21:15.890Z"
   },
   {
    "duration": 20,
    "start_time": "2022-11-28T20:21:15.936Z"
   },
   {
    "duration": 20,
    "start_time": "2022-11-28T20:21:15.957Z"
   },
   {
    "duration": 14,
    "start_time": "2022-11-28T20:21:15.979Z"
   },
   {
    "duration": 23,
    "start_time": "2022-11-28T20:21:16.015Z"
   },
   {
    "duration": 392,
    "start_time": "2022-11-28T20:21:16.040Z"
   },
   {
    "duration": 0,
    "start_time": "2022-11-28T20:21:16.434Z"
   },
   {
    "duration": 0,
    "start_time": "2022-11-28T20:21:16.437Z"
   },
   {
    "duration": 0,
    "start_time": "2022-11-28T20:21:16.438Z"
   },
   {
    "duration": 0,
    "start_time": "2022-11-28T20:21:16.439Z"
   },
   {
    "duration": 0,
    "start_time": "2022-11-28T20:21:16.440Z"
   },
   {
    "duration": 0,
    "start_time": "2022-11-28T20:21:16.441Z"
   },
   {
    "duration": 0,
    "start_time": "2022-11-28T20:21:16.442Z"
   },
   {
    "duration": 0,
    "start_time": "2022-11-28T20:21:16.443Z"
   },
   {
    "duration": 0,
    "start_time": "2022-11-28T20:21:16.444Z"
   },
   {
    "duration": 14,
    "start_time": "2022-11-28T20:21:44.376Z"
   },
   {
    "duration": 297,
    "start_time": "2022-11-28T20:22:26.536Z"
   },
   {
    "duration": 598,
    "start_time": "2022-11-28T20:24:09.101Z"
   },
   {
    "duration": 750,
    "start_time": "2022-11-28T20:39:06.055Z"
   },
   {
    "duration": 813,
    "start_time": "2022-11-28T20:39:50.676Z"
   },
   {
    "duration": 572,
    "start_time": "2022-11-28T20:41:53.071Z"
   },
   {
    "duration": 1210,
    "start_time": "2022-11-28T20:52:28.151Z"
   },
   {
    "duration": 19,
    "start_time": "2022-11-28T20:52:32.734Z"
   },
   {
    "duration": 1110,
    "start_time": "2022-11-28T20:52:59.236Z"
   },
   {
    "duration": 17,
    "start_time": "2022-11-28T20:53:01.476Z"
   },
   {
    "duration": 17,
    "start_time": "2022-11-28T20:53:23.201Z"
   },
   {
    "duration": 1115,
    "start_time": "2022-11-28T20:57:32.913Z"
   },
   {
    "duration": 74,
    "start_time": "2022-11-28T20:57:34.030Z"
   },
   {
    "duration": 21,
    "start_time": "2022-11-28T20:57:34.106Z"
   },
   {
    "duration": 16,
    "start_time": "2022-11-28T20:57:34.129Z"
   },
   {
    "duration": 20,
    "start_time": "2022-11-28T20:57:34.146Z"
   },
   {
    "duration": 21,
    "start_time": "2022-11-28T20:57:34.167Z"
   },
   {
    "duration": 19,
    "start_time": "2022-11-28T20:57:34.190Z"
   },
   {
    "duration": 31,
    "start_time": "2022-11-28T20:57:34.211Z"
   },
   {
    "duration": 21,
    "start_time": "2022-11-28T20:57:34.244Z"
   },
   {
    "duration": 13,
    "start_time": "2022-11-28T20:57:34.267Z"
   },
   {
    "duration": 18,
    "start_time": "2022-11-28T20:57:34.282Z"
   },
   {
    "duration": 1175,
    "start_time": "2022-11-28T20:57:34.302Z"
   },
   {
    "duration": 17,
    "start_time": "2022-11-28T20:57:35.479Z"
   },
   {
    "duration": 4,
    "start_time": "2022-11-28T20:57:35.497Z"
   },
   {
    "duration": 33,
    "start_time": "2022-11-28T20:57:35.502Z"
   },
   {
    "duration": 9,
    "start_time": "2022-11-28T20:57:35.536Z"
   },
   {
    "duration": 19,
    "start_time": "2022-11-28T20:57:35.546Z"
   },
   {
    "duration": 15,
    "start_time": "2022-11-28T20:57:35.566Z"
   },
   {
    "duration": 421,
    "start_time": "2022-11-28T20:57:35.583Z"
   },
   {
    "duration": 443,
    "start_time": "2022-11-28T20:57:36.005Z"
   },
   {
    "duration": 893,
    "start_time": "2022-11-28T20:57:36.450Z"
   },
   {
    "duration": 22,
    "start_time": "2022-11-28T21:06:53.178Z"
   },
   {
    "duration": 12,
    "start_time": "2022-11-28T21:07:11.703Z"
   },
   {
    "duration": 4,
    "start_time": "2022-11-28T21:07:34.971Z"
   },
   {
    "duration": 4,
    "start_time": "2022-11-28T21:16:18.298Z"
   },
   {
    "duration": 1093,
    "start_time": "2022-11-28T21:16:25.175Z"
   },
   {
    "duration": 84,
    "start_time": "2022-11-28T21:16:26.271Z"
   },
   {
    "duration": 15,
    "start_time": "2022-11-28T21:16:26.356Z"
   },
   {
    "duration": 34,
    "start_time": "2022-11-28T21:16:26.373Z"
   },
   {
    "duration": 57,
    "start_time": "2022-11-28T21:16:26.409Z"
   },
   {
    "duration": 41,
    "start_time": "2022-11-28T21:16:26.468Z"
   },
   {
    "duration": 30,
    "start_time": "2022-11-28T21:16:26.510Z"
   },
   {
    "duration": 45,
    "start_time": "2022-11-28T21:16:26.542Z"
   },
   {
    "duration": 19,
    "start_time": "2022-11-28T21:16:26.589Z"
   },
   {
    "duration": 46,
    "start_time": "2022-11-28T21:16:26.610Z"
   },
   {
    "duration": 28,
    "start_time": "2022-11-28T21:16:26.657Z"
   },
   {
    "duration": 1228,
    "start_time": "2022-11-28T21:16:26.687Z"
   },
   {
    "duration": 24,
    "start_time": "2022-11-28T21:16:27.923Z"
   },
   {
    "duration": 5,
    "start_time": "2022-11-28T21:16:27.949Z"
   },
   {
    "duration": 23,
    "start_time": "2022-11-28T21:16:27.955Z"
   },
   {
    "duration": 7,
    "start_time": "2022-11-28T21:16:27.979Z"
   },
   {
    "duration": 34,
    "start_time": "2022-11-28T21:16:27.987Z"
   },
   {
    "duration": 33,
    "start_time": "2022-11-28T21:16:28.026Z"
   },
   {
    "duration": 423,
    "start_time": "2022-11-28T21:16:28.062Z"
   },
   {
    "duration": 442,
    "start_time": "2022-11-28T21:16:28.486Z"
   },
   {
    "duration": 952,
    "start_time": "2022-11-28T21:16:28.929Z"
   },
   {
    "duration": 4,
    "start_time": "2022-11-28T21:16:29.882Z"
   },
   {
    "duration": 4,
    "start_time": "2022-11-28T21:20:47.194Z"
   },
   {
    "duration": 231,
    "start_time": "2022-11-28T21:20:48.658Z"
   },
   {
    "duration": 600,
    "start_time": "2022-11-28T21:21:25.440Z"
   },
   {
    "duration": 4,
    "start_time": "2022-11-28T21:22:34.056Z"
   },
   {
    "duration": 219,
    "start_time": "2022-11-28T21:22:37.289Z"
   },
   {
    "duration": 1096,
    "start_time": "2022-11-28T21:22:42.564Z"
   },
   {
    "duration": 71,
    "start_time": "2022-11-28T21:22:43.662Z"
   },
   {
    "duration": 16,
    "start_time": "2022-11-28T21:22:43.737Z"
   },
   {
    "duration": 8,
    "start_time": "2022-11-28T21:22:43.755Z"
   },
   {
    "duration": 13,
    "start_time": "2022-11-28T21:22:43.765Z"
   },
   {
    "duration": 23,
    "start_time": "2022-11-28T21:22:43.779Z"
   },
   {
    "duration": 47,
    "start_time": "2022-11-28T21:22:43.803Z"
   },
   {
    "duration": 19,
    "start_time": "2022-11-28T21:22:43.852Z"
   },
   {
    "duration": 18,
    "start_time": "2022-11-28T21:22:43.872Z"
   },
   {
    "duration": 12,
    "start_time": "2022-11-28T21:22:43.893Z"
   },
   {
    "duration": 20,
    "start_time": "2022-11-28T21:22:43.925Z"
   },
   {
    "duration": 1249,
    "start_time": "2022-11-28T21:22:43.948Z"
   },
   {
    "duration": 34,
    "start_time": "2022-11-28T21:22:45.198Z"
   },
   {
    "duration": 5,
    "start_time": "2022-11-28T21:22:45.241Z"
   },
   {
    "duration": 25,
    "start_time": "2022-11-28T21:22:45.247Z"
   },
   {
    "duration": 7,
    "start_time": "2022-11-28T21:22:45.274Z"
   },
   {
    "duration": 22,
    "start_time": "2022-11-28T21:22:45.283Z"
   },
   {
    "duration": 23,
    "start_time": "2022-11-28T21:22:45.307Z"
   },
   {
    "duration": 467,
    "start_time": "2022-11-28T21:22:45.331Z"
   },
   {
    "duration": 464,
    "start_time": "2022-11-28T21:22:45.799Z"
   },
   {
    "duration": 1013,
    "start_time": "2022-11-28T21:22:46.265Z"
   },
   {
    "duration": 4,
    "start_time": "2022-11-28T21:22:47.280Z"
   },
   {
    "duration": 260,
    "start_time": "2022-11-28T21:22:47.285Z"
   },
   {
    "duration": 677,
    "start_time": "2022-11-28T21:22:47.546Z"
   },
   {
    "duration": 1294,
    "start_time": "2022-11-28T21:23:09.542Z"
   },
   {
    "duration": 758,
    "start_time": "2022-11-28T21:23:21.037Z"
   },
   {
    "duration": 925,
    "start_time": "2022-11-28T21:24:39.826Z"
   },
   {
    "duration": 118,
    "start_time": "2022-11-28T21:32:19.337Z"
   },
   {
    "duration": 13,
    "start_time": "2022-11-28T21:32:29.060Z"
   },
   {
    "duration": 21,
    "start_time": "2022-11-28T21:32:45.309Z"
   },
   {
    "duration": 11,
    "start_time": "2022-11-28T21:32:49.784Z"
   },
   {
    "duration": 4,
    "start_time": "2022-11-28T21:33:30.345Z"
   },
   {
    "duration": 326,
    "start_time": "2022-11-28T21:33:47.767Z"
   },
   {
    "duration": 5,
    "start_time": "2022-11-28T21:34:09.571Z"
   },
   {
    "duration": 27,
    "start_time": "2022-11-28T21:34:13.418Z"
   },
   {
    "duration": 51,
    "start_time": "2022-11-29T10:01:31.728Z"
   },
   {
    "duration": 1265,
    "start_time": "2022-11-29T10:02:05.048Z"
   },
   {
    "duration": 201,
    "start_time": "2022-11-29T10:02:06.315Z"
   },
   {
    "duration": 13,
    "start_time": "2022-11-29T10:02:06.518Z"
   },
   {
    "duration": 8,
    "start_time": "2022-11-29T10:02:06.533Z"
   },
   {
    "duration": 12,
    "start_time": "2022-11-29T10:02:06.543Z"
   },
   {
    "duration": 21,
    "start_time": "2022-11-29T10:02:06.556Z"
   },
   {
    "duration": 19,
    "start_time": "2022-11-29T10:02:06.579Z"
   },
   {
    "duration": 20,
    "start_time": "2022-11-29T10:02:06.599Z"
   },
   {
    "duration": 41,
    "start_time": "2022-11-29T10:02:06.621Z"
   },
   {
    "duration": 13,
    "start_time": "2022-11-29T10:02:06.665Z"
   },
   {
    "duration": 15,
    "start_time": "2022-11-29T10:02:06.679Z"
   },
   {
    "duration": 1154,
    "start_time": "2022-11-29T10:02:06.695Z"
   },
   {
    "duration": 18,
    "start_time": "2022-11-29T10:02:07.852Z"
   },
   {
    "duration": 5,
    "start_time": "2022-11-29T10:02:07.872Z"
   },
   {
    "duration": 26,
    "start_time": "2022-11-29T10:02:07.878Z"
   },
   {
    "duration": 8,
    "start_time": "2022-11-29T10:02:07.905Z"
   },
   {
    "duration": 39,
    "start_time": "2022-11-29T10:02:07.915Z"
   },
   {
    "duration": 16,
    "start_time": "2022-11-29T10:02:07.955Z"
   },
   {
    "duration": 394,
    "start_time": "2022-11-29T10:02:07.972Z"
   },
   {
    "duration": 405,
    "start_time": "2022-11-29T10:02:08.368Z"
   },
   {
    "duration": 869,
    "start_time": "2022-11-29T10:02:08.775Z"
   },
   {
    "duration": 8,
    "start_time": "2022-11-29T10:02:09.646Z"
   },
   {
    "duration": 228,
    "start_time": "2022-11-29T10:02:09.655Z"
   },
   {
    "duration": 874,
    "start_time": "2022-11-29T10:02:09.885Z"
   },
   {
    "duration": 6,
    "start_time": "2022-11-29T10:02:10.761Z"
   },
   {
    "duration": 97,
    "start_time": "2022-11-29T10:02:26.983Z"
   },
   {
    "duration": 28,
    "start_time": "2022-11-29T10:02:33.486Z"
   },
   {
    "duration": 4,
    "start_time": "2022-11-29T10:02:51.877Z"
   },
   {
    "duration": 6,
    "start_time": "2022-11-29T10:02:59.096Z"
   },
   {
    "duration": 25,
    "start_time": "2022-11-29T10:03:13.334Z"
   },
   {
    "duration": 28990,
    "start_time": "2022-11-29T10:06:38.564Z"
   },
   {
    "duration": 90,
    "start_time": "2022-11-29T10:17:00.341Z"
   },
   {
    "duration": 219,
    "start_time": "2022-11-29T10:17:06.458Z"
   },
   {
    "duration": 191,
    "start_time": "2022-11-29T10:17:15.075Z"
   },
   {
    "duration": 233,
    "start_time": "2022-11-29T10:17:20.645Z"
   },
   {
    "duration": 188,
    "start_time": "2022-11-29T10:18:53.027Z"
   },
   {
    "duration": 219,
    "start_time": "2022-11-29T10:18:59.945Z"
   },
   {
    "duration": 229,
    "start_time": "2022-11-29T10:19:06.088Z"
   },
   {
    "duration": 243,
    "start_time": "2022-11-29T10:19:12.618Z"
   },
   {
    "duration": 221,
    "start_time": "2022-11-29T10:21:59.402Z"
   },
   {
    "duration": 4,
    "start_time": "2022-11-29T10:31:33.981Z"
   },
   {
    "duration": 1138,
    "start_time": "2022-11-29T10:34:04.900Z"
   },
   {
    "duration": 231,
    "start_time": "2022-11-29T10:34:10.229Z"
   },
   {
    "duration": 1071,
    "start_time": "2022-11-29T10:35:26.507Z"
   },
   {
    "duration": 69,
    "start_time": "2022-11-29T10:35:27.580Z"
   },
   {
    "duration": 14,
    "start_time": "2022-11-29T10:35:27.650Z"
   },
   {
    "duration": 8,
    "start_time": "2022-11-29T10:35:27.666Z"
   },
   {
    "duration": 20,
    "start_time": "2022-11-29T10:35:27.676Z"
   },
   {
    "duration": 23,
    "start_time": "2022-11-29T10:35:27.697Z"
   },
   {
    "duration": 39,
    "start_time": "2022-11-29T10:35:27.721Z"
   },
   {
    "duration": 20,
    "start_time": "2022-11-29T10:35:27.762Z"
   },
   {
    "duration": 19,
    "start_time": "2022-11-29T10:35:27.783Z"
   },
   {
    "duration": 125,
    "start_time": "2022-11-29T10:35:27.805Z"
   },
   {
    "duration": 0,
    "start_time": "2022-11-29T10:35:27.932Z"
   },
   {
    "duration": 0,
    "start_time": "2022-11-29T10:35:27.933Z"
   },
   {
    "duration": 0,
    "start_time": "2022-11-29T10:35:27.934Z"
   },
   {
    "duration": 0,
    "start_time": "2022-11-29T10:35:27.935Z"
   },
   {
    "duration": 0,
    "start_time": "2022-11-29T10:35:27.936Z"
   },
   {
    "duration": 0,
    "start_time": "2022-11-29T10:35:27.937Z"
   },
   {
    "duration": 0,
    "start_time": "2022-11-29T10:35:27.938Z"
   },
   {
    "duration": 0,
    "start_time": "2022-11-29T10:35:27.953Z"
   },
   {
    "duration": 0,
    "start_time": "2022-11-29T10:35:27.954Z"
   },
   {
    "duration": 0,
    "start_time": "2022-11-29T10:35:27.954Z"
   },
   {
    "duration": 1,
    "start_time": "2022-11-29T10:35:27.955Z"
   },
   {
    "duration": 0,
    "start_time": "2022-11-29T10:35:27.957Z"
   },
   {
    "duration": 0,
    "start_time": "2022-11-29T10:35:27.957Z"
   },
   {
    "duration": 0,
    "start_time": "2022-11-29T10:35:27.958Z"
   },
   {
    "duration": 0,
    "start_time": "2022-11-29T10:35:27.959Z"
   },
   {
    "duration": 0,
    "start_time": "2022-11-29T10:35:27.960Z"
   },
   {
    "duration": 0,
    "start_time": "2022-11-29T10:35:27.961Z"
   },
   {
    "duration": 0,
    "start_time": "2022-11-29T10:35:27.962Z"
   },
   {
    "duration": 1086,
    "start_time": "2022-11-29T10:36:25.791Z"
   },
   {
    "duration": 72,
    "start_time": "2022-11-29T10:36:26.879Z"
   },
   {
    "duration": 17,
    "start_time": "2022-11-29T10:36:26.953Z"
   },
   {
    "duration": 9,
    "start_time": "2022-11-29T10:36:26.973Z"
   },
   {
    "duration": 19,
    "start_time": "2022-11-29T10:36:26.983Z"
   },
   {
    "duration": 24,
    "start_time": "2022-11-29T10:36:27.004Z"
   },
   {
    "duration": 42,
    "start_time": "2022-11-29T10:36:27.029Z"
   },
   {
    "duration": 25,
    "start_time": "2022-11-29T10:36:27.072Z"
   },
   {
    "duration": 20,
    "start_time": "2022-11-29T10:36:27.099Z"
   },
   {
    "duration": 7,
    "start_time": "2022-11-29T10:36:27.122Z"
   },
   {
    "duration": 113,
    "start_time": "2022-11-29T10:36:27.153Z"
   },
   {
    "duration": 0,
    "start_time": "2022-11-29T10:36:27.267Z"
   },
   {
    "duration": 0,
    "start_time": "2022-11-29T10:36:27.269Z"
   },
   {
    "duration": 0,
    "start_time": "2022-11-29T10:36:27.269Z"
   },
   {
    "duration": 0,
    "start_time": "2022-11-29T10:36:27.271Z"
   },
   {
    "duration": 0,
    "start_time": "2022-11-29T10:36:27.272Z"
   },
   {
    "duration": 0,
    "start_time": "2022-11-29T10:36:27.273Z"
   },
   {
    "duration": 0,
    "start_time": "2022-11-29T10:36:27.274Z"
   },
   {
    "duration": 0,
    "start_time": "2022-11-29T10:36:27.275Z"
   },
   {
    "duration": 0,
    "start_time": "2022-11-29T10:36:27.276Z"
   },
   {
    "duration": 0,
    "start_time": "2022-11-29T10:36:27.277Z"
   },
   {
    "duration": 0,
    "start_time": "2022-11-29T10:36:27.278Z"
   },
   {
    "duration": 0,
    "start_time": "2022-11-29T10:36:27.278Z"
   },
   {
    "duration": 0,
    "start_time": "2022-11-29T10:36:27.279Z"
   },
   {
    "duration": 0,
    "start_time": "2022-11-29T10:36:27.280Z"
   },
   {
    "duration": 0,
    "start_time": "2022-11-29T10:36:27.281Z"
   },
   {
    "duration": 0,
    "start_time": "2022-11-29T10:36:27.282Z"
   },
   {
    "duration": 0,
    "start_time": "2022-11-29T10:36:27.283Z"
   },
   {
    "duration": 1088,
    "start_time": "2022-11-29T10:36:41.406Z"
   },
   {
    "duration": 84,
    "start_time": "2022-11-29T10:36:42.496Z"
   },
   {
    "duration": 18,
    "start_time": "2022-11-29T10:36:42.582Z"
   },
   {
    "duration": 22,
    "start_time": "2022-11-29T10:36:42.601Z"
   },
   {
    "duration": 26,
    "start_time": "2022-11-29T10:36:42.626Z"
   },
   {
    "duration": 37,
    "start_time": "2022-11-29T10:36:42.654Z"
   },
   {
    "duration": 20,
    "start_time": "2022-11-29T10:36:42.692Z"
   },
   {
    "duration": 20,
    "start_time": "2022-11-29T10:36:42.714Z"
   },
   {
    "duration": 33,
    "start_time": "2022-11-29T10:36:42.736Z"
   },
   {
    "duration": 11,
    "start_time": "2022-11-29T10:36:42.770Z"
   },
   {
    "duration": 16,
    "start_time": "2022-11-29T10:36:42.783Z"
   },
   {
    "duration": 16,
    "start_time": "2022-11-29T10:36:42.800Z"
   },
   {
    "duration": 4145,
    "start_time": "2022-11-29T10:36:42.818Z"
   },
   {
    "duration": 21,
    "start_time": "2022-11-29T10:36:46.966Z"
   },
   {
    "duration": 6,
    "start_time": "2022-11-29T10:36:46.988Z"
   },
   {
    "duration": 13,
    "start_time": "2022-11-29T10:36:46.995Z"
   },
   {
    "duration": 42,
    "start_time": "2022-11-29T10:36:47.010Z"
   },
   {
    "duration": 15,
    "start_time": "2022-11-29T10:36:47.054Z"
   },
   {
    "duration": 504,
    "start_time": "2022-11-29T10:36:47.071Z"
   },
   {
    "duration": 484,
    "start_time": "2022-11-29T10:36:47.577Z"
   },
   {
    "duration": 1001,
    "start_time": "2022-11-29T10:36:48.063Z"
   },
   {
    "duration": 5,
    "start_time": "2022-11-29T10:36:49.066Z"
   },
   {
    "duration": 289,
    "start_time": "2022-11-29T10:36:49.073Z"
   },
   {
    "duration": 955,
    "start_time": "2022-11-29T10:36:49.364Z"
   },
   {
    "duration": 7,
    "start_time": "2022-11-29T10:36:50.320Z"
   },
   {
    "duration": 37,
    "start_time": "2022-11-29T10:36:50.328Z"
   },
   {
    "duration": 243,
    "start_time": "2022-11-29T10:36:50.367Z"
   },
   {
    "duration": 6,
    "start_time": "2022-11-29T10:36:50.612Z"
   },
   {
    "duration": 4,
    "start_time": "2022-11-29T10:37:37.519Z"
   },
   {
    "duration": 8,
    "start_time": "2022-11-29T10:37:42.072Z"
   },
   {
    "duration": 77,
    "start_time": "2022-11-29T10:40:19.697Z"
   },
   {
    "duration": 250,
    "start_time": "2022-11-29T10:40:25.415Z"
   },
   {
    "duration": 159,
    "start_time": "2022-11-29T10:41:54.695Z"
   },
   {
    "duration": 156,
    "start_time": "2022-11-29T10:42:02.003Z"
   },
   {
    "duration": 162,
    "start_time": "2022-11-29T10:44:56.862Z"
   },
   {
    "duration": 160,
    "start_time": "2022-11-29T10:45:23.882Z"
   },
   {
    "duration": 166,
    "start_time": "2022-11-29T10:46:34.575Z"
   },
   {
    "duration": 4,
    "start_time": "2022-11-29T10:46:48.481Z"
   },
   {
    "duration": 6,
    "start_time": "2022-11-29T10:47:06.907Z"
   },
   {
    "duration": 153,
    "start_time": "2022-11-29T10:47:08.347Z"
   },
   {
    "duration": 138,
    "start_time": "2022-11-29T10:47:18.022Z"
   },
   {
    "duration": 7,
    "start_time": "2022-11-29T10:47:20.711Z"
   },
   {
    "duration": 9,
    "start_time": "2022-11-29T10:53:16.236Z"
   },
   {
    "duration": 169,
    "start_time": "2022-11-29T10:53:17.395Z"
   },
   {
    "duration": 8,
    "start_time": "2022-11-29T10:55:46.751Z"
   },
   {
    "duration": 164,
    "start_time": "2022-11-29T10:55:48.100Z"
   },
   {
    "duration": 97,
    "start_time": "2022-11-29T11:07:40.970Z"
   },
   {
    "duration": 4,
    "start_time": "2022-11-29T11:07:47.247Z"
   },
   {
    "duration": 4,
    "start_time": "2022-11-29T11:07:56.151Z"
   },
   {
    "duration": 5,
    "start_time": "2022-11-29T11:08:09.303Z"
   },
   {
    "duration": 3,
    "start_time": "2022-11-29T11:09:21.814Z"
   },
   {
    "duration": 719,
    "start_time": "2022-11-29T11:18:30.669Z"
   },
   {
    "duration": 591,
    "start_time": "2022-11-29T11:19:23.063Z"
   },
   {
    "duration": 1175,
    "start_time": "2022-11-29T11:19:37.442Z"
   },
   {
    "duration": 68,
    "start_time": "2022-11-29T11:19:38.619Z"
   },
   {
    "duration": 14,
    "start_time": "2022-11-29T11:19:38.689Z"
   },
   {
    "duration": 9,
    "start_time": "2022-11-29T11:19:38.705Z"
   },
   {
    "duration": 18,
    "start_time": "2022-11-29T11:19:38.716Z"
   },
   {
    "duration": 21,
    "start_time": "2022-11-29T11:19:38.753Z"
   },
   {
    "duration": 22,
    "start_time": "2022-11-29T11:19:38.776Z"
   },
   {
    "duration": 24,
    "start_time": "2022-11-29T11:19:38.799Z"
   },
   {
    "duration": 45,
    "start_time": "2022-11-29T11:19:38.825Z"
   },
   {
    "duration": 9,
    "start_time": "2022-11-29T11:19:38.873Z"
   },
   {
    "duration": 16,
    "start_time": "2022-11-29T11:19:38.884Z"
   },
   {
    "duration": 15,
    "start_time": "2022-11-29T11:19:38.902Z"
   },
   {
    "duration": 4020,
    "start_time": "2022-11-29T11:19:38.918Z"
   },
   {
    "duration": 22,
    "start_time": "2022-11-29T11:19:42.940Z"
   },
   {
    "duration": 5,
    "start_time": "2022-11-29T11:19:42.963Z"
   },
   {
    "duration": 26,
    "start_time": "2022-11-29T11:19:42.970Z"
   },
   {
    "duration": 21,
    "start_time": "2022-11-29T11:19:42.997Z"
   },
   {
    "duration": 31,
    "start_time": "2022-11-29T11:19:43.020Z"
   },
   {
    "duration": 401,
    "start_time": "2022-11-29T11:19:43.053Z"
   },
   {
    "duration": 409,
    "start_time": "2022-11-29T11:19:43.455Z"
   },
   {
    "duration": 896,
    "start_time": "2022-11-29T11:19:43.866Z"
   },
   {
    "duration": 5,
    "start_time": "2022-11-29T11:19:44.763Z"
   },
   {
    "duration": 253,
    "start_time": "2022-11-29T11:19:44.769Z"
   },
   {
    "duration": 969,
    "start_time": "2022-11-29T11:19:45.023Z"
   },
   {
    "duration": 8,
    "start_time": "2022-11-29T11:19:45.994Z"
   },
   {
    "duration": 32,
    "start_time": "2022-11-29T11:19:46.004Z"
   },
   {
    "duration": 247,
    "start_time": "2022-11-29T11:19:46.038Z"
   },
   {
    "duration": 7,
    "start_time": "2022-11-29T11:19:46.287Z"
   },
   {
    "duration": 285,
    "start_time": "2022-11-29T11:19:46.295Z"
   },
   {
    "duration": 7,
    "start_time": "2022-11-29T11:19:46.581Z"
   },
   {
    "duration": 166,
    "start_time": "2022-11-29T11:19:46.590Z"
   },
   {
    "duration": 68,
    "start_time": "2022-11-29T11:19:46.758Z"
   },
   {
    "duration": 0,
    "start_time": "2022-11-29T11:19:46.828Z"
   },
   {
    "duration": 605,
    "start_time": "2022-11-29T11:19:54.908Z"
   },
   {
    "duration": 89,
    "start_time": "2022-11-29T11:23:50.422Z"
   },
   {
    "duration": 9,
    "start_time": "2022-11-29T11:24:06.068Z"
   },
   {
    "duration": 592,
    "start_time": "2022-11-29T11:24:11.412Z"
   },
   {
    "duration": 670,
    "start_time": "2022-11-29T11:25:08.259Z"
   },
   {
    "duration": 318,
    "start_time": "2022-11-29T11:25:47.316Z"
   },
   {
    "duration": 1151,
    "start_time": "2022-11-29T11:26:14.228Z"
   },
   {
    "duration": 66,
    "start_time": "2022-11-29T11:26:15.381Z"
   },
   {
    "duration": 13,
    "start_time": "2022-11-29T11:26:15.449Z"
   },
   {
    "duration": 8,
    "start_time": "2022-11-29T11:26:15.465Z"
   },
   {
    "duration": 15,
    "start_time": "2022-11-29T11:26:15.475Z"
   },
   {
    "duration": 26,
    "start_time": "2022-11-29T11:26:15.491Z"
   },
   {
    "duration": 52,
    "start_time": "2022-11-29T11:26:15.519Z"
   },
   {
    "duration": 22,
    "start_time": "2022-11-29T11:26:15.572Z"
   },
   {
    "duration": 19,
    "start_time": "2022-11-29T11:26:15.596Z"
   },
   {
    "duration": 40,
    "start_time": "2022-11-29T11:26:15.618Z"
   },
   {
    "duration": 15,
    "start_time": "2022-11-29T11:26:15.660Z"
   },
   {
    "duration": 22,
    "start_time": "2022-11-29T11:26:15.677Z"
   },
   {
    "duration": 3953,
    "start_time": "2022-11-29T11:26:15.701Z"
   },
   {
    "duration": 18,
    "start_time": "2022-11-29T11:26:19.655Z"
   },
   {
    "duration": 4,
    "start_time": "2022-11-29T11:26:19.675Z"
   },
   {
    "duration": 10,
    "start_time": "2022-11-29T11:26:19.681Z"
   },
   {
    "duration": 16,
    "start_time": "2022-11-29T11:26:19.693Z"
   },
   {
    "duration": 45,
    "start_time": "2022-11-29T11:26:19.711Z"
   },
   {
    "duration": 400,
    "start_time": "2022-11-29T11:26:19.758Z"
   },
   {
    "duration": 440,
    "start_time": "2022-11-29T11:26:20.163Z"
   },
   {
    "duration": 904,
    "start_time": "2022-11-29T11:26:20.605Z"
   },
   {
    "duration": 5,
    "start_time": "2022-11-29T11:26:21.511Z"
   },
   {
    "duration": 257,
    "start_time": "2022-11-29T11:26:21.517Z"
   },
   {
    "duration": 947,
    "start_time": "2022-11-29T11:26:21.775Z"
   },
   {
    "duration": 5,
    "start_time": "2022-11-29T11:26:22.724Z"
   },
   {
    "duration": 33,
    "start_time": "2022-11-29T11:26:22.731Z"
   },
   {
    "duration": 234,
    "start_time": "2022-11-29T11:26:22.766Z"
   },
   {
    "duration": 6,
    "start_time": "2022-11-29T11:26:23.003Z"
   },
   {
    "duration": 273,
    "start_time": "2022-11-29T11:26:23.011Z"
   },
   {
    "duration": 6,
    "start_time": "2022-11-29T11:26:23.286Z"
   },
   {
    "duration": 173,
    "start_time": "2022-11-29T11:26:23.294Z"
   },
   {
    "duration": 303,
    "start_time": "2022-11-29T11:26:23.468Z"
   },
   {
    "duration": 323,
    "start_time": "2022-11-29T11:27:10.040Z"
   },
   {
    "duration": 1150,
    "start_time": "2022-11-29T11:27:42.077Z"
   },
   {
    "duration": 69,
    "start_time": "2022-11-29T11:27:43.229Z"
   },
   {
    "duration": 13,
    "start_time": "2022-11-29T11:27:43.300Z"
   },
   {
    "duration": 9,
    "start_time": "2022-11-29T11:27:43.315Z"
   },
   {
    "duration": 28,
    "start_time": "2022-11-29T11:27:43.325Z"
   },
   {
    "duration": 25,
    "start_time": "2022-11-29T11:27:43.354Z"
   },
   {
    "duration": 23,
    "start_time": "2022-11-29T11:27:43.382Z"
   },
   {
    "duration": 28,
    "start_time": "2022-11-29T11:27:43.407Z"
   },
   {
    "duration": 35,
    "start_time": "2022-11-29T11:27:43.436Z"
   },
   {
    "duration": 8,
    "start_time": "2022-11-29T11:27:43.475Z"
   },
   {
    "duration": 17,
    "start_time": "2022-11-29T11:27:43.484Z"
   },
   {
    "duration": 19,
    "start_time": "2022-11-29T11:27:43.503Z"
   },
   {
    "duration": 4197,
    "start_time": "2022-11-29T11:27:43.524Z"
   },
   {
    "duration": 18,
    "start_time": "2022-11-29T11:27:47.723Z"
   },
   {
    "duration": 11,
    "start_time": "2022-11-29T11:27:47.743Z"
   },
   {
    "duration": 22,
    "start_time": "2022-11-29T11:27:47.756Z"
   },
   {
    "duration": 24,
    "start_time": "2022-11-29T11:27:47.779Z"
   },
   {
    "duration": 26,
    "start_time": "2022-11-29T11:27:47.804Z"
   },
   {
    "duration": 390,
    "start_time": "2022-11-29T11:27:47.832Z"
   },
   {
    "duration": 431,
    "start_time": "2022-11-29T11:27:48.223Z"
   },
   {
    "duration": 921,
    "start_time": "2022-11-29T11:27:48.656Z"
   },
   {
    "duration": 5,
    "start_time": "2022-11-29T11:27:49.579Z"
   },
   {
    "duration": 236,
    "start_time": "2022-11-29T11:27:49.585Z"
   },
   {
    "duration": 882,
    "start_time": "2022-11-29T11:27:49.822Z"
   },
   {
    "duration": 6,
    "start_time": "2022-11-29T11:27:50.706Z"
   },
   {
    "duration": 25,
    "start_time": "2022-11-29T11:27:50.713Z"
   },
   {
    "duration": 241,
    "start_time": "2022-11-29T11:27:50.740Z"
   },
   {
    "duration": 7,
    "start_time": "2022-11-29T11:27:50.984Z"
   },
   {
    "duration": 272,
    "start_time": "2022-11-29T11:27:50.992Z"
   },
   {
    "duration": 8,
    "start_time": "2022-11-29T11:27:51.266Z"
   },
   {
    "duration": 187,
    "start_time": "2022-11-29T11:27:51.276Z"
   },
   {
    "duration": 314,
    "start_time": "2022-11-29T11:27:51.464Z"
   },
   {
    "duration": 226,
    "start_time": "2022-11-29T11:28:25.570Z"
   },
   {
    "duration": 10,
    "start_time": "2022-11-29T11:28:43.242Z"
   },
   {
    "duration": 9,
    "start_time": "2022-11-29T11:28:52.810Z"
   },
   {
    "duration": 8,
    "start_time": "2022-11-29T11:29:06.138Z"
   },
   {
    "duration": 9,
    "start_time": "2022-11-29T11:29:14.182Z"
   },
   {
    "duration": 12,
    "start_time": "2022-11-29T11:29:23.617Z"
   },
   {
    "duration": 12,
    "start_time": "2022-11-29T11:29:38.824Z"
   },
   {
    "duration": 21,
    "start_time": "2022-11-29T11:30:08.099Z"
   },
   {
    "duration": 10,
    "start_time": "2022-11-29T11:30:22.501Z"
   },
   {
    "duration": 8,
    "start_time": "2022-11-29T11:30:28.858Z"
   },
   {
    "duration": 9,
    "start_time": "2022-11-29T11:30:31.109Z"
   },
   {
    "duration": 8,
    "start_time": "2022-11-29T11:30:46.140Z"
   },
   {
    "duration": 9,
    "start_time": "2022-11-29T11:30:56.489Z"
   },
   {
    "duration": 1105,
    "start_time": "2022-11-29T11:31:04.468Z"
   },
   {
    "duration": 66,
    "start_time": "2022-11-29T11:31:05.575Z"
   },
   {
    "duration": 24,
    "start_time": "2022-11-29T11:31:05.643Z"
   },
   {
    "duration": 12,
    "start_time": "2022-11-29T11:31:05.668Z"
   },
   {
    "duration": 15,
    "start_time": "2022-11-29T11:31:05.683Z"
   },
   {
    "duration": 23,
    "start_time": "2022-11-29T11:31:05.700Z"
   },
   {
    "duration": 43,
    "start_time": "2022-11-29T11:31:05.724Z"
   },
   {
    "duration": 22,
    "start_time": "2022-11-29T11:31:05.769Z"
   },
   {
    "duration": 21,
    "start_time": "2022-11-29T11:31:05.793Z"
   },
   {
    "duration": 7,
    "start_time": "2022-11-29T11:31:05.815Z"
   },
   {
    "duration": 42,
    "start_time": "2022-11-29T11:31:05.824Z"
   },
   {
    "duration": 14,
    "start_time": "2022-11-29T11:31:05.868Z"
   },
   {
    "duration": 3905,
    "start_time": "2022-11-29T11:31:05.883Z"
   },
   {
    "duration": 19,
    "start_time": "2022-11-29T11:31:09.791Z"
   },
   {
    "duration": 4,
    "start_time": "2022-11-29T11:31:09.811Z"
   },
   {
    "duration": 11,
    "start_time": "2022-11-29T11:31:09.817Z"
   },
   {
    "duration": 34,
    "start_time": "2022-11-29T11:31:09.830Z"
   },
   {
    "duration": 18,
    "start_time": "2022-11-29T11:31:09.866Z"
   },
   {
    "duration": 397,
    "start_time": "2022-11-29T11:31:09.886Z"
   },
   {
    "duration": 432,
    "start_time": "2022-11-29T11:31:10.285Z"
   },
   {
    "duration": 897,
    "start_time": "2022-11-29T11:31:10.719Z"
   },
   {
    "duration": 5,
    "start_time": "2022-11-29T11:31:11.617Z"
   },
   {
    "duration": 239,
    "start_time": "2022-11-29T11:31:11.623Z"
   },
   {
    "duration": 942,
    "start_time": "2022-11-29T11:31:11.864Z"
   },
   {
    "duration": 6,
    "start_time": "2022-11-29T11:31:12.807Z"
   },
   {
    "duration": 37,
    "start_time": "2022-11-29T11:31:12.815Z"
   },
   {
    "duration": 228,
    "start_time": "2022-11-29T11:31:12.854Z"
   },
   {
    "duration": 6,
    "start_time": "2022-11-29T11:31:13.084Z"
   },
   {
    "duration": 266,
    "start_time": "2022-11-29T11:31:13.092Z"
   },
   {
    "duration": 7,
    "start_time": "2022-11-29T11:31:13.359Z"
   },
   {
    "duration": 161,
    "start_time": "2022-11-29T11:31:13.368Z"
   },
   {
    "duration": 8,
    "start_time": "2022-11-29T11:31:13.531Z"
   },
   {
    "duration": 29,
    "start_time": "2022-11-29T11:31:13.541Z"
   },
   {
    "duration": 35,
    "start_time": "2022-11-29T11:31:36.598Z"
   },
   {
    "duration": 26,
    "start_time": "2022-11-29T11:31:50.934Z"
   },
   {
    "duration": 7,
    "start_time": "2022-11-29T11:32:03.485Z"
   },
   {
    "duration": 9,
    "start_time": "2022-11-29T11:32:24.061Z"
   },
   {
    "duration": 9,
    "start_time": "2022-11-29T11:33:30.604Z"
   },
   {
    "duration": 9,
    "start_time": "2022-11-29T11:39:39.931Z"
   },
   {
    "duration": 10,
    "start_time": "2022-11-29T11:40:37.774Z"
   },
   {
    "duration": 9,
    "start_time": "2022-11-29T11:40:48.533Z"
   },
   {
    "duration": 186,
    "start_time": "2022-11-29T11:41:03.360Z"
   },
   {
    "duration": 10,
    "start_time": "2022-11-29T11:41:34.976Z"
   },
   {
    "duration": 9,
    "start_time": "2022-11-29T11:41:39.103Z"
   },
   {
    "duration": 1312,
    "start_time": "2022-11-29T11:42:20.678Z"
   },
   {
    "duration": 15,
    "start_time": "2022-11-29T11:42:28.267Z"
   },
   {
    "duration": 12,
    "start_time": "2022-11-29T11:42:45.783Z"
   },
   {
    "duration": 8,
    "start_time": "2022-11-29T11:43:00.860Z"
   },
   {
    "duration": 6,
    "start_time": "2022-11-29T11:43:05.867Z"
   },
   {
    "duration": 8,
    "start_time": "2022-11-29T11:43:14.157Z"
   },
   {
    "duration": 6,
    "start_time": "2022-11-29T11:43:55.635Z"
   },
   {
    "duration": 6,
    "start_time": "2022-11-29T11:44:07.180Z"
   },
   {
    "duration": 28,
    "start_time": "2022-11-29T11:44:58.206Z"
   },
   {
    "duration": 14,
    "start_time": "2022-11-29T11:45:12.485Z"
   },
   {
    "duration": 11,
    "start_time": "2022-11-29T11:45:25.472Z"
   },
   {
    "duration": 6,
    "start_time": "2022-11-29T11:46:07.423Z"
   },
   {
    "duration": 6,
    "start_time": "2022-11-29T11:46:15.455Z"
   },
   {
    "duration": 18,
    "start_time": "2022-11-29T11:46:31.332Z"
   },
   {
    "duration": 40,
    "start_time": "2022-11-29T11:47:16.646Z"
   },
   {
    "duration": 25,
    "start_time": "2022-11-29T11:48:10.558Z"
   },
   {
    "duration": 41,
    "start_time": "2022-11-29T11:48:20.259Z"
   },
   {
    "duration": 20,
    "start_time": "2022-11-29T11:49:03.904Z"
   },
   {
    "duration": 9,
    "start_time": "2022-11-29T11:49:20.070Z"
   },
   {
    "duration": 8,
    "start_time": "2022-11-29T11:49:26.794Z"
   },
   {
    "duration": 13,
    "start_time": "2022-11-29T11:49:49.629Z"
   },
   {
    "duration": 86,
    "start_time": "2022-11-29T11:51:08.086Z"
   },
   {
    "duration": 20,
    "start_time": "2022-11-29T11:51:30.380Z"
   },
   {
    "duration": 19,
    "start_time": "2022-11-29T11:51:56.614Z"
   },
   {
    "duration": 64,
    "start_time": "2022-11-29T11:52:04.746Z"
   },
   {
    "duration": 1192,
    "start_time": "2022-11-29T11:52:35.829Z"
   },
   {
    "duration": 74,
    "start_time": "2022-11-29T11:52:37.023Z"
   },
   {
    "duration": 14,
    "start_time": "2022-11-29T11:52:37.098Z"
   },
   {
    "duration": 8,
    "start_time": "2022-11-29T11:52:37.115Z"
   },
   {
    "duration": 35,
    "start_time": "2022-11-29T11:52:37.125Z"
   },
   {
    "duration": 24,
    "start_time": "2022-11-29T11:52:37.162Z"
   },
   {
    "duration": 21,
    "start_time": "2022-11-29T11:52:37.188Z"
   },
   {
    "duration": 22,
    "start_time": "2022-11-29T11:52:37.210Z"
   },
   {
    "duration": 20,
    "start_time": "2022-11-29T11:52:37.252Z"
   },
   {
    "duration": 13,
    "start_time": "2022-11-29T11:52:37.275Z"
   },
   {
    "duration": 15,
    "start_time": "2022-11-29T11:52:37.290Z"
   },
   {
    "duration": 18,
    "start_time": "2022-11-29T11:52:37.307Z"
   },
   {
    "duration": 3951,
    "start_time": "2022-11-29T11:52:37.326Z"
   },
   {
    "duration": 27,
    "start_time": "2022-11-29T11:52:41.279Z"
   },
   {
    "duration": 4,
    "start_time": "2022-11-29T11:52:41.308Z"
   },
   {
    "duration": 13,
    "start_time": "2022-11-29T11:52:41.314Z"
   },
   {
    "duration": 24,
    "start_time": "2022-11-29T11:52:41.329Z"
   },
   {
    "duration": 13,
    "start_time": "2022-11-29T11:52:41.355Z"
   },
   {
    "duration": 407,
    "start_time": "2022-11-29T11:52:41.369Z"
   },
   {
    "duration": 434,
    "start_time": "2022-11-29T11:52:41.778Z"
   },
   {
    "duration": 979,
    "start_time": "2022-11-29T11:52:42.213Z"
   },
   {
    "duration": 5,
    "start_time": "2022-11-29T11:52:43.193Z"
   },
   {
    "duration": 244,
    "start_time": "2022-11-29T11:52:43.200Z"
   },
   {
    "duration": 892,
    "start_time": "2022-11-29T11:52:43.446Z"
   },
   {
    "duration": 5,
    "start_time": "2022-11-29T11:52:44.340Z"
   },
   {
    "duration": 25,
    "start_time": "2022-11-29T11:52:44.352Z"
   },
   {
    "duration": 236,
    "start_time": "2022-11-29T11:52:44.379Z"
   },
   {
    "duration": 9,
    "start_time": "2022-11-29T11:52:44.618Z"
   },
   {
    "duration": 265,
    "start_time": "2022-11-29T11:52:44.628Z"
   },
   {
    "duration": 7,
    "start_time": "2022-11-29T11:52:44.895Z"
   },
   {
    "duration": 173,
    "start_time": "2022-11-29T11:52:44.903Z"
   },
   {
    "duration": 41,
    "start_time": "2022-11-29T11:52:45.077Z"
   },
   {
    "duration": 12,
    "start_time": "2022-11-29T11:53:46.554Z"
   },
   {
    "duration": 99,
    "start_time": "2022-11-29T11:54:35.623Z"
   },
   {
    "duration": 1209,
    "start_time": "2022-11-29T11:54:49.168Z"
   },
   {
    "duration": 70,
    "start_time": "2022-11-29T11:54:50.379Z"
   },
   {
    "duration": 15,
    "start_time": "2022-11-29T11:54:50.450Z"
   },
   {
    "duration": 10,
    "start_time": "2022-11-29T11:54:50.467Z"
   },
   {
    "duration": 22,
    "start_time": "2022-11-29T11:54:50.478Z"
   },
   {
    "duration": 27,
    "start_time": "2022-11-29T11:54:50.502Z"
   },
   {
    "duration": 34,
    "start_time": "2022-11-29T11:54:50.531Z"
   },
   {
    "duration": 22,
    "start_time": "2022-11-29T11:54:50.567Z"
   },
   {
    "duration": 20,
    "start_time": "2022-11-29T11:54:50.591Z"
   },
   {
    "duration": 8,
    "start_time": "2022-11-29T11:54:50.613Z"
   },
   {
    "duration": 17,
    "start_time": "2022-11-29T11:54:50.652Z"
   },
   {
    "duration": 16,
    "start_time": "2022-11-29T11:54:50.670Z"
   },
   {
    "duration": 4017,
    "start_time": "2022-11-29T11:54:50.687Z"
   },
   {
    "duration": 19,
    "start_time": "2022-11-29T11:54:54.706Z"
   },
   {
    "duration": 4,
    "start_time": "2022-11-29T11:54:54.727Z"
   },
   {
    "duration": 25,
    "start_time": "2022-11-29T11:54:54.733Z"
   },
   {
    "duration": 15,
    "start_time": "2022-11-29T11:54:54.760Z"
   },
   {
    "duration": 15,
    "start_time": "2022-11-29T11:54:54.777Z"
   },
   {
    "duration": 408,
    "start_time": "2022-11-29T11:54:54.794Z"
   },
   {
    "duration": 437,
    "start_time": "2022-11-29T11:54:55.203Z"
   },
   {
    "duration": 901,
    "start_time": "2022-11-29T11:54:55.642Z"
   },
   {
    "duration": 12,
    "start_time": "2022-11-29T11:54:56.544Z"
   },
   {
    "duration": 239,
    "start_time": "2022-11-29T11:54:56.557Z"
   },
   {
    "duration": 916,
    "start_time": "2022-11-29T11:54:56.797Z"
   },
   {
    "duration": 6,
    "start_time": "2022-11-29T11:54:57.715Z"
   },
   {
    "duration": 32,
    "start_time": "2022-11-29T11:54:57.723Z"
   },
   {
    "duration": 238,
    "start_time": "2022-11-29T11:54:57.757Z"
   },
   {
    "duration": 7,
    "start_time": "2022-11-29T11:54:57.998Z"
   },
   {
    "duration": 266,
    "start_time": "2022-11-29T11:54:58.006Z"
   },
   {
    "duration": 8,
    "start_time": "2022-11-29T11:54:58.273Z"
   },
   {
    "duration": 170,
    "start_time": "2022-11-29T11:54:58.282Z"
   },
   {
    "duration": 100,
    "start_time": "2022-11-29T11:54:58.453Z"
   },
   {
    "duration": 0,
    "start_time": "2022-11-29T11:54:58.555Z"
   },
   {
    "duration": 18,
    "start_time": "2022-11-29T11:55:25.785Z"
   },
   {
    "duration": 17,
    "start_time": "2022-11-29T11:59:16.853Z"
   },
   {
    "duration": 28,
    "start_time": "2022-11-29T11:59:40.666Z"
   },
   {
    "duration": 25,
    "start_time": "2022-11-29T12:01:06.248Z"
   },
   {
    "duration": 79,
    "start_time": "2022-11-29T12:01:26.909Z"
   },
   {
    "duration": 17,
    "start_time": "2022-11-29T12:02:45.238Z"
   },
   {
    "duration": 26,
    "start_time": "2022-11-29T12:03:21.175Z"
   },
   {
    "duration": 26,
    "start_time": "2022-11-29T12:03:25.817Z"
   },
   {
    "duration": 31,
    "start_time": "2022-11-29T12:03:37.238Z"
   },
   {
    "duration": 28,
    "start_time": "2022-11-29T12:03:50.135Z"
   },
   {
    "duration": 44,
    "start_time": "2022-11-29T12:04:40.376Z"
   },
   {
    "duration": 48,
    "start_time": "2022-11-29T12:06:45.967Z"
   },
   {
    "duration": 18,
    "start_time": "2022-11-29T12:07:19.346Z"
   },
   {
    "duration": 20,
    "start_time": "2022-11-29T12:07:40.505Z"
   },
   {
    "duration": 43,
    "start_time": "2022-11-29T12:07:58.962Z"
   },
   {
    "duration": 24,
    "start_time": "2022-11-29T12:08:42.568Z"
   },
   {
    "duration": 44,
    "start_time": "2022-11-29T12:11:24.653Z"
   },
   {
    "duration": 5,
    "start_time": "2022-11-29T12:12:45.814Z"
   },
   {
    "duration": 24,
    "start_time": "2022-11-29T12:12:54.530Z"
   },
   {
    "duration": 89,
    "start_time": "2022-11-29T12:13:18.685Z"
   },
   {
    "duration": 41,
    "start_time": "2022-11-29T12:14:57.901Z"
   },
   {
    "duration": 16,
    "start_time": "2022-11-29T12:15:10.876Z"
   },
   {
    "duration": 38,
    "start_time": "2022-11-29T12:15:21.447Z"
   },
   {
    "duration": 18,
    "start_time": "2022-11-29T12:18:10.503Z"
   },
   {
    "duration": 15,
    "start_time": "2022-11-29T12:18:37.877Z"
   },
   {
    "duration": 10,
    "start_time": "2022-11-29T12:19:05.440Z"
   },
   {
    "duration": 7,
    "start_time": "2022-11-29T12:19:13.135Z"
   },
   {
    "duration": 11,
    "start_time": "2022-11-29T12:20:01.780Z"
   },
   {
    "duration": 8,
    "start_time": "2022-11-29T12:20:05.825Z"
   },
   {
    "duration": 7,
    "start_time": "2022-11-29T12:20:17.116Z"
   },
   {
    "duration": 8,
    "start_time": "2022-11-29T12:20:32.412Z"
   },
   {
    "duration": 42,
    "start_time": "2022-11-29T12:21:37.110Z"
   },
   {
    "duration": 56,
    "start_time": "2022-11-29T12:26:52.486Z"
   },
   {
    "duration": 6,
    "start_time": "2022-11-29T12:27:59.851Z"
   },
   {
    "duration": 1122,
    "start_time": "2022-11-29T12:28:32.697Z"
   },
   {
    "duration": 66,
    "start_time": "2022-11-29T12:28:33.821Z"
   },
   {
    "duration": 14,
    "start_time": "2022-11-29T12:28:33.888Z"
   },
   {
    "duration": 10,
    "start_time": "2022-11-29T12:28:33.904Z"
   },
   {
    "duration": 19,
    "start_time": "2022-11-29T12:28:33.915Z"
   },
   {
    "duration": 34,
    "start_time": "2022-11-29T12:28:33.936Z"
   },
   {
    "duration": 20,
    "start_time": "2022-11-29T12:28:33.972Z"
   },
   {
    "duration": 20,
    "start_time": "2022-11-29T12:28:33.994Z"
   },
   {
    "duration": 47,
    "start_time": "2022-11-29T12:28:34.016Z"
   },
   {
    "duration": 8,
    "start_time": "2022-11-29T12:28:34.065Z"
   },
   {
    "duration": 16,
    "start_time": "2022-11-29T12:28:34.075Z"
   },
   {
    "duration": 15,
    "start_time": "2022-11-29T12:28:34.092Z"
   },
   {
    "duration": 3869,
    "start_time": "2022-11-29T12:28:34.108Z"
   },
   {
    "duration": 18,
    "start_time": "2022-11-29T12:28:37.979Z"
   },
   {
    "duration": 5,
    "start_time": "2022-11-29T12:28:37.999Z"
   },
   {
    "duration": 19,
    "start_time": "2022-11-29T12:28:38.005Z"
   },
   {
    "duration": 32,
    "start_time": "2022-11-29T12:28:38.025Z"
   },
   {
    "duration": 15,
    "start_time": "2022-11-29T12:28:38.059Z"
   },
   {
    "duration": 421,
    "start_time": "2022-11-29T12:28:38.076Z"
   },
   {
    "duration": 428,
    "start_time": "2022-11-29T12:28:38.498Z"
   },
   {
    "duration": 884,
    "start_time": "2022-11-29T12:28:38.927Z"
   },
   {
    "duration": 4,
    "start_time": "2022-11-29T12:28:39.813Z"
   },
   {
    "duration": 237,
    "start_time": "2022-11-29T12:28:39.819Z"
   },
   {
    "duration": 896,
    "start_time": "2022-11-29T12:28:40.058Z"
   },
   {
    "duration": 8,
    "start_time": "2022-11-29T12:28:40.955Z"
   },
   {
    "duration": 26,
    "start_time": "2022-11-29T12:28:40.964Z"
   },
   {
    "duration": 240,
    "start_time": "2022-11-29T12:28:40.991Z"
   },
   {
    "duration": 6,
    "start_time": "2022-11-29T12:28:41.234Z"
   },
   {
    "duration": 267,
    "start_time": "2022-11-29T12:28:41.241Z"
   },
   {
    "duration": 7,
    "start_time": "2022-11-29T12:28:41.509Z"
   },
   {
    "duration": 171,
    "start_time": "2022-11-29T12:28:41.518Z"
   },
   {
    "duration": 41,
    "start_time": "2022-11-29T12:28:41.691Z"
   },
   {
    "duration": 31,
    "start_time": "2022-11-29T12:28:41.734Z"
   },
   {
    "duration": 44,
    "start_time": "2022-11-29T12:29:47.668Z"
   },
   {
    "duration": 41,
    "start_time": "2022-11-29T12:29:58.386Z"
   },
   {
    "duration": 91,
    "start_time": "2022-11-29T13:03:48.543Z"
   },
   {
    "duration": 98,
    "start_time": "2022-11-29T13:24:12.189Z"
   },
   {
    "duration": 71,
    "start_time": "2022-11-29T13:24:29.275Z"
   },
   {
    "duration": 86,
    "start_time": "2022-11-29T13:26:00.437Z"
   },
   {
    "duration": 42,
    "start_time": "2022-11-29T13:28:55.535Z"
   },
   {
    "duration": 46,
    "start_time": "2022-11-29T13:37:46.068Z"
   },
   {
    "duration": 42,
    "start_time": "2022-11-29T13:38:02.187Z"
   },
   {
    "duration": 54,
    "start_time": "2022-11-29T13:55:20.021Z"
   },
   {
    "duration": 47,
    "start_time": "2022-11-29T13:56:03.528Z"
   },
   {
    "duration": 127,
    "start_time": "2022-11-29T14:21:02.334Z"
   },
   {
    "duration": 74,
    "start_time": "2022-11-29T14:21:07.019Z"
   },
   {
    "duration": 49,
    "start_time": "2022-11-29T14:32:53.978Z"
   },
   {
    "duration": 124,
    "start_time": "2022-11-29T14:43:20.766Z"
   },
   {
    "duration": 5,
    "start_time": "2022-11-29T14:46:41.862Z"
   },
   {
    "duration": 85,
    "start_time": "2022-11-29T14:46:50.688Z"
   },
   {
    "duration": 45,
    "start_time": "2022-11-29T14:47:02.831Z"
   },
   {
    "duration": 46,
    "start_time": "2022-11-29T14:47:21.812Z"
   },
   {
    "duration": 45,
    "start_time": "2022-11-29T14:48:00.825Z"
   },
   {
    "duration": 20,
    "start_time": "2022-11-29T14:50:10.624Z"
   },
   {
    "duration": 46,
    "start_time": "2022-11-29T14:50:32.117Z"
   },
   {
    "duration": 82,
    "start_time": "2022-11-29T14:52:57.424Z"
   },
   {
    "duration": 53,
    "start_time": "2022-11-29T14:53:11.032Z"
   },
   {
    "duration": 60,
    "start_time": "2022-11-29T14:53:19.240Z"
   },
   {
    "duration": 54,
    "start_time": "2022-11-29T14:54:33.392Z"
   },
   {
    "duration": 47,
    "start_time": "2022-11-29T14:56:13.560Z"
   },
   {
    "duration": 1055,
    "start_time": "2022-11-29T14:56:50.102Z"
   },
   {
    "duration": 68,
    "start_time": "2022-11-29T14:56:51.160Z"
   },
   {
    "duration": 15,
    "start_time": "2022-11-29T14:56:51.230Z"
   },
   {
    "duration": 9,
    "start_time": "2022-11-29T14:56:51.248Z"
   },
   {
    "duration": 19,
    "start_time": "2022-11-29T14:56:51.259Z"
   },
   {
    "duration": 22,
    "start_time": "2022-11-29T14:56:51.279Z"
   },
   {
    "duration": 21,
    "start_time": "2022-11-29T14:56:51.302Z"
   },
   {
    "duration": 44,
    "start_time": "2022-11-29T14:56:51.324Z"
   },
   {
    "duration": 19,
    "start_time": "2022-11-29T14:56:51.369Z"
   },
   {
    "duration": 8,
    "start_time": "2022-11-29T14:56:51.391Z"
   },
   {
    "duration": 20,
    "start_time": "2022-11-29T14:56:51.400Z"
   },
   {
    "duration": 34,
    "start_time": "2022-11-29T14:56:51.423Z"
   },
   {
    "duration": 3959,
    "start_time": "2022-11-29T14:56:51.459Z"
   },
   {
    "duration": 18,
    "start_time": "2022-11-29T14:56:55.419Z"
   },
   {
    "duration": 14,
    "start_time": "2022-11-29T14:56:55.438Z"
   },
   {
    "duration": 18,
    "start_time": "2022-11-29T14:56:55.454Z"
   },
   {
    "duration": 24,
    "start_time": "2022-11-29T14:56:55.473Z"
   },
   {
    "duration": 19,
    "start_time": "2022-11-29T14:56:55.498Z"
   },
   {
    "duration": 391,
    "start_time": "2022-11-29T14:56:55.518Z"
   },
   {
    "duration": 453,
    "start_time": "2022-11-29T14:56:55.911Z"
   },
   {
    "duration": 898,
    "start_time": "2022-11-29T14:56:56.365Z"
   },
   {
    "duration": 4,
    "start_time": "2022-11-29T14:56:57.265Z"
   },
   {
    "duration": 244,
    "start_time": "2022-11-29T14:56:57.271Z"
   },
   {
    "duration": 916,
    "start_time": "2022-11-29T14:56:57.516Z"
   },
   {
    "duration": 6,
    "start_time": "2022-11-29T14:56:58.433Z"
   },
   {
    "duration": 35,
    "start_time": "2022-11-29T14:56:58.440Z"
   },
   {
    "duration": 225,
    "start_time": "2022-11-29T14:56:58.477Z"
   },
   {
    "duration": 6,
    "start_time": "2022-11-29T14:56:58.706Z"
   },
   {
    "duration": 269,
    "start_time": "2022-11-29T14:56:58.714Z"
   },
   {
    "duration": 8,
    "start_time": "2022-11-29T14:56:58.985Z"
   },
   {
    "duration": 170,
    "start_time": "2022-11-29T14:56:58.994Z"
   },
   {
    "duration": 140,
    "start_time": "2022-11-29T14:56:59.165Z"
   },
   {
    "duration": 46,
    "start_time": "2022-11-29T14:58:50.593Z"
   },
   {
    "duration": 52,
    "start_time": "2022-11-29T15:02:32.717Z"
   },
   {
    "duration": 50,
    "start_time": "2022-11-29T15:02:41.542Z"
   },
   {
    "duration": 58,
    "start_time": "2022-11-29T15:17:02.327Z"
   },
   {
    "duration": 92,
    "start_time": "2022-11-29T15:17:16.916Z"
   },
   {
    "duration": 55,
    "start_time": "2022-11-29T15:17:22.038Z"
   },
   {
    "duration": 59,
    "start_time": "2022-11-29T15:17:43.848Z"
   },
   {
    "duration": 13,
    "start_time": "2022-11-29T15:20:03.633Z"
   },
   {
    "duration": 13,
    "start_time": "2022-11-29T15:20:08.170Z"
   },
   {
    "duration": 14,
    "start_time": "2022-11-29T15:20:21.094Z"
   },
   {
    "duration": 13,
    "start_time": "2022-11-29T15:20:33.681Z"
   },
   {
    "duration": 13,
    "start_time": "2022-11-29T15:20:42.849Z"
   },
   {
    "duration": 84,
    "start_time": "2022-11-29T15:23:04.982Z"
   },
   {
    "duration": 19,
    "start_time": "2022-11-29T15:23:08.974Z"
   },
   {
    "duration": 29,
    "start_time": "2022-11-29T15:26:33.039Z"
   },
   {
    "duration": 4,
    "start_time": "2022-11-29T15:28:17.088Z"
   },
   {
    "duration": 12,
    "start_time": "2022-11-29T15:28:26.188Z"
   },
   {
    "duration": 19,
    "start_time": "2022-11-29T15:28:29.768Z"
   },
   {
    "duration": 20,
    "start_time": "2022-11-29T15:28:41.343Z"
   },
   {
    "duration": 14,
    "start_time": "2022-11-29T15:29:03.967Z"
   },
   {
    "duration": 125,
    "start_time": "2022-11-29T15:34:14.436Z"
   },
   {
    "duration": 75,
    "start_time": "2022-11-29T15:34:22.169Z"
   },
   {
    "duration": 23,
    "start_time": "2022-11-29T15:34:38.675Z"
   },
   {
    "duration": 113,
    "start_time": "2022-11-29T15:34:54.111Z"
   },
   {
    "duration": 189,
    "start_time": "2022-11-29T15:35:05.841Z"
   },
   {
    "duration": 302,
    "start_time": "2022-11-29T15:35:14.780Z"
   },
   {
    "duration": 108,
    "start_time": "2022-11-29T15:35:54.129Z"
   },
   {
    "duration": 67,
    "start_time": "2022-11-29T15:36:40.565Z"
   },
   {
    "duration": 102,
    "start_time": "2022-11-29T15:36:49.184Z"
   },
   {
    "duration": 23,
    "start_time": "2022-11-29T15:36:54.958Z"
   },
   {
    "duration": 38,
    "start_time": "2022-11-29T15:37:05.262Z"
   },
   {
    "duration": 38,
    "start_time": "2022-11-29T15:37:11.220Z"
   },
   {
    "duration": 13,
    "start_time": "2022-11-29T15:37:19.618Z"
   },
   {
    "duration": 34,
    "start_time": "2022-11-29T15:37:26.474Z"
   },
   {
    "duration": 47,
    "start_time": "2022-11-29T15:37:47.547Z"
   },
   {
    "duration": 29,
    "start_time": "2022-11-29T15:38:17.143Z"
   },
   {
    "duration": 25,
    "start_time": "2022-11-29T15:40:03.070Z"
   },
   {
    "duration": 123,
    "start_time": "2022-11-29T15:49:12.270Z"
   },
   {
    "duration": 22,
    "start_time": "2022-11-29T15:49:18.638Z"
   },
   {
    "duration": 18,
    "start_time": "2022-11-29T15:49:51.121Z"
   },
   {
    "duration": 17,
    "start_time": "2022-11-29T15:49:58.985Z"
   },
   {
    "duration": 111,
    "start_time": "2022-11-29T15:50:52.349Z"
   },
   {
    "duration": 44,
    "start_time": "2022-11-29T15:50:56.772Z"
   },
   {
    "duration": 27,
    "start_time": "2022-11-29T15:53:50.977Z"
   },
   {
    "duration": 10,
    "start_time": "2022-11-29T16:02:13.067Z"
   },
   {
    "duration": 22,
    "start_time": "2022-11-29T16:02:18.671Z"
   },
   {
    "duration": 8,
    "start_time": "2022-11-29T16:02:35.070Z"
   },
   {
    "duration": 8,
    "start_time": "2022-11-29T16:03:10.729Z"
   },
   {
    "duration": 28,
    "start_time": "2022-11-29T16:03:26.941Z"
   },
   {
    "duration": 79,
    "start_time": "2022-11-29T16:03:44.101Z"
   },
   {
    "duration": 74,
    "start_time": "2022-11-29T16:03:52.305Z"
   },
   {
    "duration": 121,
    "start_time": "2022-11-29T16:05:23.508Z"
   },
   {
    "duration": 15,
    "start_time": "2022-11-29T16:05:30.691Z"
   },
   {
    "duration": 985,
    "start_time": "2022-11-29T16:06:07.980Z"
   },
   {
    "duration": 9,
    "start_time": "2022-11-29T16:06:18.192Z"
   },
   {
    "duration": 1396,
    "start_time": "2022-11-29T16:06:30.074Z"
   },
   {
    "duration": 1018,
    "start_time": "2022-11-29T16:06:38.535Z"
   },
   {
    "duration": 8,
    "start_time": "2022-11-29T16:06:48.891Z"
   },
   {
    "duration": 3,
    "start_time": "2022-11-29T16:07:34.502Z"
   },
   {
    "duration": 9,
    "start_time": "2022-11-29T16:07:41.184Z"
   },
   {
    "duration": 154,
    "start_time": "2022-11-29T16:08:58.847Z"
   },
   {
    "duration": 9,
    "start_time": "2022-11-29T16:09:24.365Z"
   },
   {
    "duration": 10,
    "start_time": "2022-11-29T16:09:44.289Z"
   },
   {
    "duration": 20,
    "start_time": "2022-11-29T16:12:23.566Z"
   },
   {
    "duration": 10,
    "start_time": "2022-11-29T16:13:11.049Z"
   },
   {
    "duration": 26,
    "start_time": "2022-11-29T16:20:52.826Z"
   },
   {
    "duration": 7,
    "start_time": "2022-11-29T16:24:05.065Z"
   },
   {
    "duration": 1088,
    "start_time": "2022-11-29T16:24:12.009Z"
   },
   {
    "duration": 66,
    "start_time": "2022-11-29T16:24:13.099Z"
   },
   {
    "duration": 13,
    "start_time": "2022-11-29T16:24:13.167Z"
   },
   {
    "duration": 12,
    "start_time": "2022-11-29T16:24:13.182Z"
   },
   {
    "duration": 5,
    "start_time": "2022-11-29T16:24:13.196Z"
   },
   {
    "duration": 19,
    "start_time": "2022-11-29T16:24:13.203Z"
   },
   {
    "duration": 34,
    "start_time": "2022-11-29T16:24:13.224Z"
   },
   {
    "duration": 20,
    "start_time": "2022-11-29T16:24:13.260Z"
   },
   {
    "duration": 24,
    "start_time": "2022-11-29T16:24:13.281Z"
   },
   {
    "duration": 19,
    "start_time": "2022-11-29T16:24:13.308Z"
   },
   {
    "duration": 28,
    "start_time": "2022-11-29T16:24:13.329Z"
   },
   {
    "duration": 22,
    "start_time": "2022-11-29T16:24:13.359Z"
   },
   {
    "duration": 23,
    "start_time": "2022-11-29T16:24:13.382Z"
   },
   {
    "duration": 3846,
    "start_time": "2022-11-29T16:24:13.407Z"
   },
   {
    "duration": 18,
    "start_time": "2022-11-29T16:24:17.255Z"
   },
   {
    "duration": 5,
    "start_time": "2022-11-29T16:24:17.274Z"
   },
   {
    "duration": 11,
    "start_time": "2022-11-29T16:24:17.280Z"
   },
   {
    "duration": 16,
    "start_time": "2022-11-29T16:24:17.292Z"
   },
   {
    "duration": 17,
    "start_time": "2022-11-29T16:24:17.309Z"
   },
   {
    "duration": 414,
    "start_time": "2022-11-29T16:24:17.328Z"
   },
   {
    "duration": 412,
    "start_time": "2022-11-29T16:24:17.744Z"
   },
   {
    "duration": 873,
    "start_time": "2022-11-29T16:24:18.157Z"
   },
   {
    "duration": 4,
    "start_time": "2022-11-29T16:24:19.032Z"
   },
   {
    "duration": 249,
    "start_time": "2022-11-29T16:24:19.038Z"
   },
   {
    "duration": 868,
    "start_time": "2022-11-29T16:24:19.288Z"
   },
   {
    "duration": 13,
    "start_time": "2022-11-29T16:24:20.158Z"
   },
   {
    "duration": 28,
    "start_time": "2022-11-29T16:24:20.173Z"
   },
   {
    "duration": 254,
    "start_time": "2022-11-29T16:24:20.205Z"
   },
   {
    "duration": 6,
    "start_time": "2022-11-29T16:24:20.461Z"
   },
   {
    "duration": 273,
    "start_time": "2022-11-29T16:24:20.469Z"
   },
   {
    "duration": 13,
    "start_time": "2022-11-29T16:24:20.743Z"
   },
   {
    "duration": 164,
    "start_time": "2022-11-29T16:24:20.758Z"
   },
   {
    "duration": 64,
    "start_time": "2022-11-29T16:24:20.924Z"
   },
   {
    "duration": 14,
    "start_time": "2022-11-29T16:24:20.990Z"
   },
   {
    "duration": 48,
    "start_time": "2022-11-29T16:24:21.005Z"
   },
   {
    "duration": 25,
    "start_time": "2022-11-29T16:24:21.055Z"
   },
   {
    "duration": 24,
    "start_time": "2022-11-29T16:24:21.082Z"
   },
   {
    "duration": 8,
    "start_time": "2022-11-29T16:24:21.108Z"
   },
   {
    "duration": 38,
    "start_time": "2022-11-29T16:24:21.118Z"
   },
   {
    "duration": 240,
    "start_time": "2022-11-29T18:39:59.662Z"
   },
   {
    "duration": 1351,
    "start_time": "2022-11-30T12:25:45.849Z"
   },
   {
    "duration": 109,
    "start_time": "2022-11-30T12:25:47.202Z"
   },
   {
    "duration": 15,
    "start_time": "2022-11-30T12:25:47.313Z"
   },
   {
    "duration": 11,
    "start_time": "2022-11-30T12:25:47.331Z"
   },
   {
    "duration": 14,
    "start_time": "2022-11-30T12:25:47.344Z"
   },
   {
    "duration": 23,
    "start_time": "2022-11-30T12:25:47.360Z"
   },
   {
    "duration": 32,
    "start_time": "2022-11-30T12:25:47.385Z"
   },
   {
    "duration": 21,
    "start_time": "2022-11-30T12:25:47.419Z"
   },
   {
    "duration": 37,
    "start_time": "2022-11-30T12:25:47.442Z"
   },
   {
    "duration": 23,
    "start_time": "2022-11-30T12:25:47.481Z"
   },
   {
    "duration": 16,
    "start_time": "2022-11-30T12:25:47.505Z"
   },
   {
    "duration": 17,
    "start_time": "2022-11-30T12:25:47.523Z"
   },
   {
    "duration": 16,
    "start_time": "2022-11-30T12:25:47.542Z"
   },
   {
    "duration": 4392,
    "start_time": "2022-11-30T12:25:47.577Z"
   },
   {
    "duration": 19,
    "start_time": "2022-11-30T12:25:51.971Z"
   },
   {
    "duration": 4,
    "start_time": "2022-11-30T12:25:51.992Z"
   },
   {
    "duration": 11,
    "start_time": "2022-11-30T12:25:51.998Z"
   },
   {
    "duration": 19,
    "start_time": "2022-11-30T12:25:52.010Z"
   },
   {
    "duration": 16,
    "start_time": "2022-11-30T12:25:52.031Z"
   },
   {
    "duration": 405,
    "start_time": "2022-11-30T12:25:52.077Z"
   },
   {
    "duration": 455,
    "start_time": "2022-11-30T12:25:52.484Z"
   },
   {
    "duration": 963,
    "start_time": "2022-11-30T12:25:52.941Z"
   },
   {
    "duration": 5,
    "start_time": "2022-11-30T12:25:53.906Z"
   },
   {
    "duration": 268,
    "start_time": "2022-11-30T12:25:53.912Z"
   },
   {
    "duration": 1020,
    "start_time": "2022-11-30T12:25:54.182Z"
   },
   {
    "duration": 6,
    "start_time": "2022-11-30T12:25:55.204Z"
   },
   {
    "duration": 31,
    "start_time": "2022-11-30T12:25:55.212Z"
   },
   {
    "duration": 280,
    "start_time": "2022-11-30T12:25:55.247Z"
   },
   {
    "duration": 9,
    "start_time": "2022-11-30T12:25:55.529Z"
   },
   {
    "duration": 276,
    "start_time": "2022-11-30T12:25:55.539Z"
   },
   {
    "duration": 8,
    "start_time": "2022-11-30T12:25:55.816Z"
   },
   {
    "duration": 228,
    "start_time": "2022-11-30T12:25:55.826Z"
   },
   {
    "duration": 60,
    "start_time": "2022-11-30T12:25:56.056Z"
   },
   {
    "duration": 15,
    "start_time": "2022-11-30T12:25:56.117Z"
   },
   {
    "duration": 50,
    "start_time": "2022-11-30T12:25:56.133Z"
   },
   {
    "duration": 23,
    "start_time": "2022-11-30T12:25:56.185Z"
   },
   {
    "duration": 24,
    "start_time": "2022-11-30T12:25:56.209Z"
   },
   {
    "duration": 8,
    "start_time": "2022-11-30T12:25:56.235Z"
   },
   {
    "duration": 36,
    "start_time": "2022-11-30T12:25:56.244Z"
   },
   {
    "duration": 4,
    "start_time": "2022-11-30T12:26:41.161Z"
   },
   {
    "duration": 23,
    "start_time": "2022-11-30T12:27:05.066Z"
   },
   {
    "duration": 8,
    "start_time": "2022-11-30T12:27:22.379Z"
   },
   {
    "duration": 47,
    "start_time": "2022-11-30T12:52:10.126Z"
   },
   {
    "duration": 1349,
    "start_time": "2022-11-30T12:52:15.491Z"
   },
   {
    "duration": 215,
    "start_time": "2022-11-30T12:52:16.843Z"
   },
   {
    "duration": 14,
    "start_time": "2022-11-30T12:52:17.059Z"
   },
   {
    "duration": 9,
    "start_time": "2022-11-30T12:52:17.075Z"
   },
   {
    "duration": 7,
    "start_time": "2022-11-30T12:52:17.085Z"
   },
   {
    "duration": 24,
    "start_time": "2022-11-30T12:52:17.094Z"
   },
   {
    "duration": 22,
    "start_time": "2022-11-30T12:52:17.122Z"
   },
   {
    "duration": 22,
    "start_time": "2022-11-30T12:52:17.145Z"
   },
   {
    "duration": 22,
    "start_time": "2022-11-30T12:52:17.169Z"
   },
   {
    "duration": 22,
    "start_time": "2022-11-30T12:52:17.221Z"
   },
   {
    "duration": 12,
    "start_time": "2022-11-30T12:52:17.245Z"
   },
   {
    "duration": 20,
    "start_time": "2022-11-30T12:52:17.259Z"
   },
   {
    "duration": 16,
    "start_time": "2022-11-30T12:52:17.280Z"
   },
   {
    "duration": 4276,
    "start_time": "2022-11-30T12:52:17.297Z"
   },
   {
    "duration": 21,
    "start_time": "2022-11-30T12:52:21.575Z"
   },
   {
    "duration": 18,
    "start_time": "2022-11-30T12:52:21.599Z"
   },
   {
    "duration": 17,
    "start_time": "2022-11-30T12:52:21.623Z"
   },
   {
    "duration": 36,
    "start_time": "2022-11-30T12:52:21.642Z"
   },
   {
    "duration": 24,
    "start_time": "2022-11-30T12:52:21.680Z"
   },
   {
    "duration": 532,
    "start_time": "2022-11-30T12:52:21.706Z"
   },
   {
    "duration": 518,
    "start_time": "2022-11-30T12:52:22.240Z"
   },
   {
    "duration": 1029,
    "start_time": "2022-11-30T12:52:22.760Z"
   },
   {
    "duration": 6,
    "start_time": "2022-11-30T12:52:23.792Z"
   },
   {
    "duration": 298,
    "start_time": "2022-11-30T12:52:23.800Z"
   },
   {
    "duration": 1032,
    "start_time": "2022-11-30T12:52:24.101Z"
   },
   {
    "duration": 6,
    "start_time": "2022-11-30T12:52:25.135Z"
   },
   {
    "duration": 31,
    "start_time": "2022-11-30T12:52:25.142Z"
   },
   {
    "duration": 248,
    "start_time": "2022-11-30T12:52:25.177Z"
   },
   {
    "duration": 7,
    "start_time": "2022-11-30T12:52:25.427Z"
   },
   {
    "duration": 282,
    "start_time": "2022-11-30T12:52:25.436Z"
   },
   {
    "duration": 10,
    "start_time": "2022-11-30T12:52:25.720Z"
   },
   {
    "duration": 205,
    "start_time": "2022-11-30T12:52:25.732Z"
   },
   {
    "duration": 54,
    "start_time": "2022-11-30T12:52:25.939Z"
   },
   {
    "duration": 40,
    "start_time": "2022-11-30T12:52:25.995Z"
   },
   {
    "duration": 29,
    "start_time": "2022-11-30T12:52:26.037Z"
   },
   {
    "duration": 26,
    "start_time": "2022-11-30T12:52:26.068Z"
   },
   {
    "duration": 27,
    "start_time": "2022-11-30T12:52:26.123Z"
   },
   {
    "duration": 9,
    "start_time": "2022-11-30T12:52:26.152Z"
   },
   {
    "duration": 9,
    "start_time": "2022-11-30T12:52:26.162Z"
   },
   {
    "duration": 12,
    "start_time": "2022-11-30T12:52:26.173Z"
   },
   {
    "duration": 9,
    "start_time": "2022-11-30T12:56:35.962Z"
   },
   {
    "duration": 9,
    "start_time": "2022-11-30T12:56:54.580Z"
   },
   {
    "duration": 9,
    "start_time": "2022-11-30T12:57:57.239Z"
   },
   {
    "duration": 1106,
    "start_time": "2022-11-30T12:59:36.055Z"
   },
   {
    "duration": 76,
    "start_time": "2022-11-30T12:59:37.162Z"
   },
   {
    "duration": 14,
    "start_time": "2022-11-30T12:59:37.240Z"
   },
   {
    "duration": 11,
    "start_time": "2022-11-30T12:59:37.256Z"
   },
   {
    "duration": 20,
    "start_time": "2022-11-30T12:59:37.270Z"
   },
   {
    "duration": 42,
    "start_time": "2022-11-30T12:59:37.292Z"
   },
   {
    "duration": 34,
    "start_time": "2022-11-30T12:59:37.336Z"
   },
   {
    "duration": 27,
    "start_time": "2022-11-30T12:59:37.372Z"
   },
   {
    "duration": 24,
    "start_time": "2022-11-30T12:59:37.401Z"
   },
   {
    "duration": 22,
    "start_time": "2022-11-30T12:59:37.427Z"
   },
   {
    "duration": 25,
    "start_time": "2022-11-30T12:59:37.451Z"
   },
   {
    "duration": 17,
    "start_time": "2022-11-30T12:59:37.478Z"
   },
   {
    "duration": 32,
    "start_time": "2022-11-30T12:59:37.497Z"
   },
   {
    "duration": 903,
    "start_time": "2022-11-30T12:59:37.533Z"
   },
   {
    "duration": 18,
    "start_time": "2022-11-30T12:59:38.438Z"
   },
   {
    "duration": 13,
    "start_time": "2022-11-30T12:59:38.458Z"
   },
   {
    "duration": 22,
    "start_time": "2022-11-30T12:59:38.473Z"
   },
   {
    "duration": 43,
    "start_time": "2022-11-30T12:59:38.496Z"
   },
   {
    "duration": 22,
    "start_time": "2022-11-30T12:59:38.541Z"
   },
   {
    "duration": 429,
    "start_time": "2022-11-30T12:59:38.565Z"
   },
   {
    "duration": 449,
    "start_time": "2022-11-30T12:59:38.996Z"
   },
   {
    "duration": 968,
    "start_time": "2022-11-30T12:59:39.447Z"
   },
   {
    "duration": 4,
    "start_time": "2022-11-30T12:59:40.421Z"
   },
   {
    "duration": 254,
    "start_time": "2022-11-30T12:59:40.427Z"
   },
   {
    "duration": 929,
    "start_time": "2022-11-30T12:59:40.682Z"
   },
   {
    "duration": 9,
    "start_time": "2022-11-30T12:59:41.613Z"
   },
   {
    "duration": 35,
    "start_time": "2022-11-30T12:59:41.624Z"
   },
   {
    "duration": 249,
    "start_time": "2022-11-30T12:59:41.661Z"
   },
   {
    "duration": 14,
    "start_time": "2022-11-30T12:59:41.912Z"
   },
   {
    "duration": 268,
    "start_time": "2022-11-30T12:59:41.927Z"
   },
   {
    "duration": 7,
    "start_time": "2022-11-30T12:59:42.197Z"
   },
   {
    "duration": 171,
    "start_time": "2022-11-30T12:59:42.206Z"
   },
   {
    "duration": 68,
    "start_time": "2022-11-30T12:59:42.379Z"
   },
   {
    "duration": 14,
    "start_time": "2022-11-30T12:59:42.449Z"
   },
   {
    "duration": 48,
    "start_time": "2022-11-30T12:59:42.465Z"
   },
   {
    "duration": 27,
    "start_time": "2022-11-30T12:59:42.515Z"
   },
   {
    "duration": 41,
    "start_time": "2022-11-30T12:59:42.544Z"
   },
   {
    "duration": 13,
    "start_time": "2022-11-30T12:59:42.587Z"
   },
   {
    "duration": 37,
    "start_time": "2022-11-30T12:59:42.601Z"
   },
   {
    "duration": 20,
    "start_time": "2022-11-30T12:59:42.640Z"
   },
   {
    "duration": 127,
    "start_time": "2022-11-30T13:00:49.614Z"
   },
   {
    "duration": 6,
    "start_time": "2022-11-30T13:10:09.791Z"
   },
   {
    "duration": 71,
    "start_time": "2022-11-30T13:15:59.933Z"
   },
   {
    "duration": 81,
    "start_time": "2022-11-30T13:21:26.661Z"
   },
   {
    "duration": 85,
    "start_time": "2022-11-30T13:22:51.465Z"
   },
   {
    "duration": 208,
    "start_time": "2022-11-30T13:26:07.026Z"
   },
   {
    "duration": 195,
    "start_time": "2022-11-30T13:26:21.701Z"
   },
   {
    "duration": 1169,
    "start_time": "2022-11-30T13:26:30.494Z"
   },
   {
    "duration": 72,
    "start_time": "2022-11-30T13:26:31.665Z"
   },
   {
    "duration": 15,
    "start_time": "2022-11-30T13:26:31.738Z"
   },
   {
    "duration": 8,
    "start_time": "2022-11-30T13:26:31.756Z"
   },
   {
    "duration": 4,
    "start_time": "2022-11-30T13:26:31.766Z"
   },
   {
    "duration": 16,
    "start_time": "2022-11-30T13:26:31.771Z"
   },
   {
    "duration": 47,
    "start_time": "2022-11-30T13:26:31.789Z"
   },
   {
    "duration": 22,
    "start_time": "2022-11-30T13:26:31.837Z"
   },
   {
    "duration": 28,
    "start_time": "2022-11-30T13:26:31.861Z"
   },
   {
    "duration": 41,
    "start_time": "2022-11-30T13:26:31.892Z"
   },
   {
    "duration": 12,
    "start_time": "2022-11-30T13:26:31.935Z"
   },
   {
    "duration": 27,
    "start_time": "2022-11-30T13:26:31.949Z"
   },
   {
    "duration": 10,
    "start_time": "2022-11-30T13:26:31.977Z"
   },
   {
    "duration": 11,
    "start_time": "2022-11-30T13:26:31.988Z"
   },
   {
    "duration": 22,
    "start_time": "2022-11-30T13:26:32.001Z"
   },
   {
    "duration": 13,
    "start_time": "2022-11-30T13:26:32.024Z"
   },
   {
    "duration": 427,
    "start_time": "2022-11-30T13:26:32.038Z"
   },
   {
    "duration": 116,
    "start_time": "2022-11-30T13:26:32.467Z"
   },
   {
    "duration": 0,
    "start_time": "2022-11-30T13:26:32.585Z"
   },
   {
    "duration": 0,
    "start_time": "2022-11-30T13:26:32.587Z"
   },
   {
    "duration": 0,
    "start_time": "2022-11-30T13:26:32.588Z"
   },
   {
    "duration": 0,
    "start_time": "2022-11-30T13:26:32.589Z"
   },
   {
    "duration": 0,
    "start_time": "2022-11-30T13:26:32.590Z"
   },
   {
    "duration": 0,
    "start_time": "2022-11-30T13:26:32.591Z"
   },
   {
    "duration": 0,
    "start_time": "2022-11-30T13:26:32.593Z"
   },
   {
    "duration": 0,
    "start_time": "2022-11-30T13:26:32.594Z"
   },
   {
    "duration": 0,
    "start_time": "2022-11-30T13:26:32.595Z"
   },
   {
    "duration": 0,
    "start_time": "2022-11-30T13:26:32.596Z"
   },
   {
    "duration": 0,
    "start_time": "2022-11-30T13:26:32.597Z"
   },
   {
    "duration": 0,
    "start_time": "2022-11-30T13:26:32.623Z"
   },
   {
    "duration": 0,
    "start_time": "2022-11-30T13:26:32.624Z"
   },
   {
    "duration": 0,
    "start_time": "2022-11-30T13:26:32.625Z"
   },
   {
    "duration": 0,
    "start_time": "2022-11-30T13:26:32.626Z"
   },
   {
    "duration": 0,
    "start_time": "2022-11-30T13:26:32.628Z"
   },
   {
    "duration": 0,
    "start_time": "2022-11-30T13:26:32.629Z"
   },
   {
    "duration": 0,
    "start_time": "2022-11-30T13:26:32.631Z"
   },
   {
    "duration": 0,
    "start_time": "2022-11-30T13:26:32.632Z"
   },
   {
    "duration": 12,
    "start_time": "2022-11-30T13:27:59.160Z"
   },
   {
    "duration": 5,
    "start_time": "2022-11-30T13:28:20.759Z"
   },
   {
    "duration": 16,
    "start_time": "2022-11-30T13:28:24.587Z"
   },
   {
    "duration": 1129,
    "start_time": "2022-11-30T13:28:33.472Z"
   },
   {
    "duration": 75,
    "start_time": "2022-11-30T13:28:34.603Z"
   },
   {
    "duration": 16,
    "start_time": "2022-11-30T13:28:34.680Z"
   },
   {
    "duration": 8,
    "start_time": "2022-11-30T13:28:34.698Z"
   },
   {
    "duration": 7,
    "start_time": "2022-11-30T13:28:34.707Z"
   },
   {
    "duration": 22,
    "start_time": "2022-11-30T13:28:34.715Z"
   },
   {
    "duration": 24,
    "start_time": "2022-11-30T13:28:34.738Z"
   },
   {
    "duration": 21,
    "start_time": "2022-11-30T13:28:34.764Z"
   },
   {
    "duration": 47,
    "start_time": "2022-11-30T13:28:34.787Z"
   },
   {
    "duration": 22,
    "start_time": "2022-11-30T13:28:34.837Z"
   },
   {
    "duration": 22,
    "start_time": "2022-11-30T13:28:34.860Z"
   },
   {
    "duration": 16,
    "start_time": "2022-11-30T13:28:34.883Z"
   },
   {
    "duration": 2,
    "start_time": "2022-11-30T13:28:34.901Z"
   },
   {
    "duration": 19,
    "start_time": "2022-11-30T13:28:34.904Z"
   },
   {
    "duration": 23,
    "start_time": "2022-11-30T13:28:34.925Z"
   },
   {
    "duration": 21,
    "start_time": "2022-11-30T13:28:34.951Z"
   },
   {
    "duration": 426,
    "start_time": "2022-11-30T13:28:34.974Z"
   },
   {
    "duration": 389,
    "start_time": "2022-11-30T13:28:35.402Z"
   },
   {
    "duration": 1019,
    "start_time": "2022-11-30T13:28:35.792Z"
   },
   {
    "duration": 10,
    "start_time": "2022-11-30T13:28:36.813Z"
   },
   {
    "duration": 254,
    "start_time": "2022-11-30T13:28:36.824Z"
   },
   {
    "duration": 1098,
    "start_time": "2022-11-30T13:28:37.080Z"
   },
   {
    "duration": 7,
    "start_time": "2022-11-30T13:28:38.179Z"
   },
   {
    "duration": 37,
    "start_time": "2022-11-30T13:28:38.187Z"
   },
   {
    "duration": 242,
    "start_time": "2022-11-30T13:28:38.226Z"
   },
   {
    "duration": 8,
    "start_time": "2022-11-30T13:28:38.469Z"
   },
   {
    "duration": 165,
    "start_time": "2022-11-30T13:28:38.478Z"
   },
   {
    "duration": 7,
    "start_time": "2022-11-30T13:28:38.646Z"
   },
   {
    "duration": 168,
    "start_time": "2022-11-30T13:28:38.654Z"
   },
   {
    "duration": 52,
    "start_time": "2022-11-30T13:28:38.824Z"
   },
   {
    "duration": 14,
    "start_time": "2022-11-30T13:28:38.877Z"
   },
   {
    "duration": 59,
    "start_time": "2022-11-30T13:28:38.893Z"
   },
   {
    "duration": 28,
    "start_time": "2022-11-30T13:28:38.953Z"
   },
   {
    "duration": 46,
    "start_time": "2022-11-30T13:28:38.982Z"
   },
   {
    "duration": 9,
    "start_time": "2022-11-30T13:28:39.030Z"
   },
   {
    "duration": 9,
    "start_time": "2022-11-30T13:28:39.040Z"
   },
   {
    "duration": 22,
    "start_time": "2022-11-30T13:28:39.051Z"
   },
   {
    "duration": 8,
    "start_time": "2022-11-30T13:47:25.826Z"
   },
   {
    "duration": 1125,
    "start_time": "2022-11-30T13:47:30.865Z"
   },
   {
    "duration": 71,
    "start_time": "2022-11-30T13:47:31.992Z"
   },
   {
    "duration": 16,
    "start_time": "2022-11-30T13:47:32.065Z"
   },
   {
    "duration": 18,
    "start_time": "2022-11-30T13:47:32.083Z"
   },
   {
    "duration": 3,
    "start_time": "2022-11-30T13:47:32.103Z"
   },
   {
    "duration": 15,
    "start_time": "2022-11-30T13:47:32.121Z"
   },
   {
    "duration": 22,
    "start_time": "2022-11-30T13:47:32.138Z"
   },
   {
    "duration": 21,
    "start_time": "2022-11-30T13:47:32.162Z"
   },
   {
    "duration": 45,
    "start_time": "2022-11-30T13:47:32.184Z"
   },
   {
    "duration": 25,
    "start_time": "2022-11-30T13:47:32.232Z"
   },
   {
    "duration": 8,
    "start_time": "2022-11-30T13:47:32.259Z"
   },
   {
    "duration": 17,
    "start_time": "2022-11-30T13:47:32.268Z"
   },
   {
    "duration": 3,
    "start_time": "2022-11-30T13:47:32.287Z"
   },
   {
    "duration": 33,
    "start_time": "2022-11-30T13:47:32.291Z"
   },
   {
    "duration": 17,
    "start_time": "2022-11-30T13:47:32.326Z"
   },
   {
    "duration": 19,
    "start_time": "2022-11-30T13:47:32.345Z"
   },
   {
    "duration": 458,
    "start_time": "2022-11-30T13:47:32.366Z"
   },
   {
    "duration": 398,
    "start_time": "2022-11-30T13:47:32.827Z"
   },
   {
    "duration": 1064,
    "start_time": "2022-11-30T13:47:33.226Z"
   },
   {
    "duration": 4,
    "start_time": "2022-11-30T13:47:34.292Z"
   },
   {
    "duration": 262,
    "start_time": "2022-11-30T13:47:34.298Z"
   },
   {
    "duration": 1041,
    "start_time": "2022-11-30T13:47:34.561Z"
   },
   {
    "duration": 7,
    "start_time": "2022-11-30T13:47:35.603Z"
   },
   {
    "duration": 29,
    "start_time": "2022-11-30T13:47:35.621Z"
   },
   {
    "duration": 265,
    "start_time": "2022-11-30T13:47:35.651Z"
   },
   {
    "duration": 11,
    "start_time": "2022-11-30T13:47:35.917Z"
   },
   {
    "duration": 171,
    "start_time": "2022-11-30T13:47:35.930Z"
   },
   {
    "duration": 18,
    "start_time": "2022-11-30T13:47:36.104Z"
   },
   {
    "duration": 166,
    "start_time": "2022-11-30T13:47:36.123Z"
   },
   {
    "duration": 59,
    "start_time": "2022-11-30T13:47:36.291Z"
   },
   {
    "duration": 13,
    "start_time": "2022-11-30T13:47:36.352Z"
   },
   {
    "duration": 26,
    "start_time": "2022-11-30T13:47:36.367Z"
   },
   {
    "duration": 50,
    "start_time": "2022-11-30T13:47:36.395Z"
   },
   {
    "duration": 26,
    "start_time": "2022-11-30T13:47:36.447Z"
   },
   {
    "duration": 9,
    "start_time": "2022-11-30T13:47:36.474Z"
   },
   {
    "duration": 38,
    "start_time": "2022-11-30T13:47:36.485Z"
   },
   {
    "duration": 11,
    "start_time": "2022-11-30T13:47:36.524Z"
   },
   {
    "duration": 1116,
    "start_time": "2022-11-30T13:52:00.371Z"
   },
   {
    "duration": 4,
    "start_time": "2022-11-30T13:58:18.253Z"
   },
   {
    "duration": 99,
    "start_time": "2022-11-30T14:01:59.792Z"
   },
   {
    "duration": 1108,
    "start_time": "2022-11-30T14:02:08.365Z"
   },
   {
    "duration": 68,
    "start_time": "2022-11-30T14:02:09.475Z"
   },
   {
    "duration": 15,
    "start_time": "2022-11-30T14:02:09.544Z"
   },
   {
    "duration": 10,
    "start_time": "2022-11-30T14:02:09.561Z"
   },
   {
    "duration": 3,
    "start_time": "2022-11-30T14:02:09.573Z"
   },
   {
    "duration": 16,
    "start_time": "2022-11-30T14:02:09.577Z"
   },
   {
    "duration": 41,
    "start_time": "2022-11-30T14:02:09.595Z"
   },
   {
    "duration": 21,
    "start_time": "2022-11-30T14:02:09.637Z"
   },
   {
    "duration": 21,
    "start_time": "2022-11-30T14:02:09.660Z"
   },
   {
    "duration": 40,
    "start_time": "2022-11-30T14:02:09.683Z"
   },
   {
    "duration": 8,
    "start_time": "2022-11-30T14:02:09.725Z"
   },
   {
    "duration": 16,
    "start_time": "2022-11-30T14:02:09.734Z"
   },
   {
    "duration": 3,
    "start_time": "2022-11-30T14:02:09.752Z"
   },
   {
    "duration": 9,
    "start_time": "2022-11-30T14:02:09.756Z"
   },
   {
    "duration": 18,
    "start_time": "2022-11-30T14:02:09.766Z"
   },
   {
    "duration": 44,
    "start_time": "2022-11-30T14:02:09.786Z"
   },
   {
    "duration": 436,
    "start_time": "2022-11-30T14:02:09.832Z"
   },
   {
    "duration": 383,
    "start_time": "2022-11-30T14:02:10.270Z"
   },
   {
    "duration": 105,
    "start_time": "2022-11-30T14:02:10.655Z"
   },
   {
    "duration": 0,
    "start_time": "2022-11-30T14:02:10.762Z"
   },
   {
    "duration": 0,
    "start_time": "2022-11-30T14:02:10.763Z"
   },
   {
    "duration": 0,
    "start_time": "2022-11-30T14:02:10.764Z"
   },
   {
    "duration": 0,
    "start_time": "2022-11-30T14:02:10.764Z"
   },
   {
    "duration": 0,
    "start_time": "2022-11-30T14:02:10.765Z"
   },
   {
    "duration": 0,
    "start_time": "2022-11-30T14:02:10.766Z"
   },
   {
    "duration": 0,
    "start_time": "2022-11-30T14:02:10.768Z"
   },
   {
    "duration": 0,
    "start_time": "2022-11-30T14:02:10.769Z"
   },
   {
    "duration": 0,
    "start_time": "2022-11-30T14:02:10.769Z"
   },
   {
    "duration": 0,
    "start_time": "2022-11-30T14:02:10.770Z"
   },
   {
    "duration": 0,
    "start_time": "2022-11-30T14:02:10.771Z"
   },
   {
    "duration": 0,
    "start_time": "2022-11-30T14:02:10.772Z"
   },
   {
    "duration": 0,
    "start_time": "2022-11-30T14:02:10.773Z"
   },
   {
    "duration": 0,
    "start_time": "2022-11-30T14:02:10.774Z"
   },
   {
    "duration": 0,
    "start_time": "2022-11-30T14:02:10.775Z"
   },
   {
    "duration": 0,
    "start_time": "2022-11-30T14:02:10.776Z"
   },
   {
    "duration": 0,
    "start_time": "2022-11-30T14:02:10.777Z"
   },
   {
    "duration": 0,
    "start_time": "2022-11-30T14:02:10.778Z"
   },
   {
    "duration": 11,
    "start_time": "2022-11-30T14:02:28.938Z"
   },
   {
    "duration": 163,
    "start_time": "2022-11-30T14:02:33.977Z"
   },
   {
    "duration": 150,
    "start_time": "2022-11-30T14:03:00.150Z"
   },
   {
    "duration": 138,
    "start_time": "2022-11-30T14:03:32.051Z"
   },
   {
    "duration": 809,
    "start_time": "2022-11-30T14:05:30.665Z"
   },
   {
    "duration": 799,
    "start_time": "2022-11-30T14:05:43.519Z"
   },
   {
    "duration": 766,
    "start_time": "2022-11-30T14:06:00.563Z"
   },
   {
    "duration": 858,
    "start_time": "2022-11-30T14:08:47.300Z"
   },
   {
    "duration": 794,
    "start_time": "2022-11-30T14:08:51.357Z"
   },
   {
    "duration": 23,
    "start_time": "2022-11-30T14:13:20.297Z"
   },
   {
    "duration": 750,
    "start_time": "2022-11-30T14:13:52.530Z"
   },
   {
    "duration": 1411,
    "start_time": "2022-11-30T14:15:43.785Z"
   },
   {
    "duration": 13,
    "start_time": "2022-11-30T14:18:52.075Z"
   },
   {
    "duration": 12,
    "start_time": "2022-11-30T14:18:57.731Z"
   },
   {
    "duration": 17,
    "start_time": "2022-11-30T14:19:03.412Z"
   },
   {
    "duration": 17,
    "start_time": "2022-11-30T14:19:10.790Z"
   },
   {
    "duration": 21,
    "start_time": "2022-11-30T14:19:32.136Z"
   },
   {
    "duration": 25,
    "start_time": "2022-11-30T14:21:26.924Z"
   },
   {
    "duration": 1163,
    "start_time": "2022-11-30T14:22:19.245Z"
   },
   {
    "duration": 125,
    "start_time": "2022-11-30T14:33:48.512Z"
   },
   {
    "duration": 122,
    "start_time": "2022-11-30T14:34:10.707Z"
   },
   {
    "duration": 233,
    "start_time": "2022-11-30T14:36:18.383Z"
   },
   {
    "duration": 128,
    "start_time": "2022-11-30T14:36:29.271Z"
   },
   {
    "duration": 1158,
    "start_time": "2022-11-30T14:36:35.915Z"
   },
   {
    "duration": 77,
    "start_time": "2022-11-30T14:36:37.076Z"
   },
   {
    "duration": 16,
    "start_time": "2022-11-30T14:36:37.155Z"
   },
   {
    "duration": 9,
    "start_time": "2022-11-30T14:36:37.173Z"
   },
   {
    "duration": 12,
    "start_time": "2022-11-30T14:36:37.184Z"
   },
   {
    "duration": 25,
    "start_time": "2022-11-30T14:36:37.198Z"
   },
   {
    "duration": 21,
    "start_time": "2022-11-30T14:36:37.225Z"
   },
   {
    "duration": 23,
    "start_time": "2022-11-30T14:36:37.247Z"
   },
   {
    "duration": 25,
    "start_time": "2022-11-30T14:36:37.272Z"
   },
   {
    "duration": 44,
    "start_time": "2022-11-30T14:36:37.299Z"
   },
   {
    "duration": 14,
    "start_time": "2022-11-30T14:36:37.344Z"
   },
   {
    "duration": 15,
    "start_time": "2022-11-30T14:36:37.360Z"
   },
   {
    "duration": 3,
    "start_time": "2022-11-30T14:36:37.377Z"
   },
   {
    "duration": 12,
    "start_time": "2022-11-30T14:36:37.381Z"
   },
   {
    "duration": 42,
    "start_time": "2022-11-30T14:36:37.395Z"
   },
   {
    "duration": 17,
    "start_time": "2022-11-30T14:36:37.439Z"
   },
   {
    "duration": 443,
    "start_time": "2022-11-30T14:36:37.458Z"
   },
   {
    "duration": 388,
    "start_time": "2022-11-30T14:36:37.903Z"
   },
   {
    "duration": 243,
    "start_time": "2022-11-30T14:36:38.294Z"
   },
   {
    "duration": 0,
    "start_time": "2022-11-30T14:36:38.540Z"
   },
   {
    "duration": 0,
    "start_time": "2022-11-30T14:36:38.541Z"
   },
   {
    "duration": 0,
    "start_time": "2022-11-30T14:36:38.542Z"
   },
   {
    "duration": 0,
    "start_time": "2022-11-30T14:36:38.544Z"
   },
   {
    "duration": 0,
    "start_time": "2022-11-30T14:36:38.545Z"
   },
   {
    "duration": 0,
    "start_time": "2022-11-30T14:36:38.546Z"
   },
   {
    "duration": 0,
    "start_time": "2022-11-30T14:36:38.547Z"
   },
   {
    "duration": 0,
    "start_time": "2022-11-30T14:36:38.548Z"
   },
   {
    "duration": 0,
    "start_time": "2022-11-30T14:36:38.549Z"
   },
   {
    "duration": 0,
    "start_time": "2022-11-30T14:36:38.550Z"
   },
   {
    "duration": 0,
    "start_time": "2022-11-30T14:36:38.551Z"
   },
   {
    "duration": 0,
    "start_time": "2022-11-30T14:36:38.552Z"
   },
   {
    "duration": 0,
    "start_time": "2022-11-30T14:36:38.553Z"
   },
   {
    "duration": 0,
    "start_time": "2022-11-30T14:36:38.554Z"
   },
   {
    "duration": 0,
    "start_time": "2022-11-30T14:36:38.555Z"
   },
   {
    "duration": 0,
    "start_time": "2022-11-30T14:36:38.556Z"
   },
   {
    "duration": 0,
    "start_time": "2022-11-30T14:36:38.557Z"
   },
   {
    "duration": 0,
    "start_time": "2022-11-30T14:36:38.558Z"
   },
   {
    "duration": 125,
    "start_time": "2022-11-30T14:36:56.084Z"
   },
   {
    "duration": 816,
    "start_time": "2022-11-30T14:37:24.429Z"
   },
   {
    "duration": 926,
    "start_time": "2022-11-30T14:37:33.784Z"
   },
   {
    "duration": 739,
    "start_time": "2022-11-30T14:37:47.020Z"
   },
   {
    "duration": 23,
    "start_time": "2022-11-30T14:39:17.171Z"
   },
   {
    "duration": 996,
    "start_time": "2022-11-30T14:39:24.362Z"
   },
   {
    "duration": 1121,
    "start_time": "2022-11-30T14:39:28.125Z"
   },
   {
    "duration": 22,
    "start_time": "2022-11-30T14:39:39.343Z"
   },
   {
    "duration": 735,
    "start_time": "2022-11-30T14:39:44.917Z"
   },
   {
    "duration": 33,
    "start_time": "2022-11-30T14:48:45.060Z"
   },
   {
    "duration": 21,
    "start_time": "2022-11-30T14:50:54.843Z"
   },
   {
    "duration": 43,
    "start_time": "2022-11-30T14:50:58.553Z"
   },
   {
    "duration": 451,
    "start_time": "2022-11-30T14:51:07.909Z"
   },
   {
    "duration": 773,
    "start_time": "2022-11-30T14:52:24.769Z"
   },
   {
    "duration": 893,
    "start_time": "2022-11-30T14:53:00.737Z"
   },
   {
    "duration": 134,
    "start_time": "2022-11-30T14:53:37.960Z"
   },
   {
    "duration": 138,
    "start_time": "2022-11-30T14:56:47.357Z"
   },
   {
    "duration": 42,
    "start_time": "2022-11-30T14:56:54.042Z"
   },
   {
    "duration": 962,
    "start_time": "2022-11-30T14:57:23.428Z"
   },
   {
    "duration": 991,
    "start_time": "2022-11-30T14:57:29.888Z"
   },
   {
    "duration": 52,
    "start_time": "2022-11-30T14:57:43.791Z"
   },
   {
    "duration": 56,
    "start_time": "2022-11-30T14:57:47.180Z"
   },
   {
    "duration": 1242,
    "start_time": "2022-11-30T14:57:57.847Z"
   },
   {
    "duration": 81,
    "start_time": "2022-11-30T14:57:59.092Z"
   },
   {
    "duration": 17,
    "start_time": "2022-11-30T14:57:59.177Z"
   },
   {
    "duration": 10,
    "start_time": "2022-11-30T14:57:59.196Z"
   },
   {
    "duration": 4,
    "start_time": "2022-11-30T14:57:59.221Z"
   },
   {
    "duration": 21,
    "start_time": "2022-11-30T14:57:59.227Z"
   },
   {
    "duration": 31,
    "start_time": "2022-11-30T14:57:59.250Z"
   },
   {
    "duration": 43,
    "start_time": "2022-11-30T14:57:59.283Z"
   },
   {
    "duration": 27,
    "start_time": "2022-11-30T14:57:59.329Z"
   },
   {
    "duration": 22,
    "start_time": "2022-11-30T14:57:59.358Z"
   },
   {
    "duration": 10,
    "start_time": "2022-11-30T14:57:59.382Z"
   },
   {
    "duration": 40,
    "start_time": "2022-11-30T14:57:59.394Z"
   },
   {
    "duration": 3,
    "start_time": "2022-11-30T14:57:59.436Z"
   },
   {
    "duration": 10,
    "start_time": "2022-11-30T14:57:59.440Z"
   },
   {
    "duration": 39,
    "start_time": "2022-11-30T14:57:59.452Z"
   },
   {
    "duration": 17,
    "start_time": "2022-11-30T14:57:59.493Z"
   },
   {
    "duration": 458,
    "start_time": "2022-11-30T14:57:59.512Z"
   },
   {
    "duration": 410,
    "start_time": "2022-11-30T14:57:59.971Z"
   },
   {
    "duration": 63,
    "start_time": "2022-11-30T14:58:00.383Z"
   },
   {
    "duration": 5,
    "start_time": "2022-11-30T14:58:00.447Z"
   },
   {
    "duration": 278,
    "start_time": "2022-11-30T14:58:00.454Z"
   },
   {
    "duration": 992,
    "start_time": "2022-11-30T14:58:00.734Z"
   },
   {
    "duration": 7,
    "start_time": "2022-11-30T14:58:01.728Z"
   },
   {
    "duration": 30,
    "start_time": "2022-11-30T14:58:01.737Z"
   },
   {
    "duration": 337,
    "start_time": "2022-11-30T14:58:01.769Z"
   },
   {
    "duration": 15,
    "start_time": "2022-11-30T14:58:02.108Z"
   },
   {
    "duration": 196,
    "start_time": "2022-11-30T14:58:02.126Z"
   },
   {
    "duration": 9,
    "start_time": "2022-11-30T14:58:02.324Z"
   },
   {
    "duration": 187,
    "start_time": "2022-11-30T14:58:02.335Z"
   },
   {
    "duration": 56,
    "start_time": "2022-11-30T14:58:02.525Z"
   },
   {
    "duration": 44,
    "start_time": "2022-11-30T14:58:02.583Z"
   },
   {
    "duration": 29,
    "start_time": "2022-11-30T14:58:02.629Z"
   },
   {
    "duration": 34,
    "start_time": "2022-11-30T14:58:02.660Z"
   },
   {
    "duration": 36,
    "start_time": "2022-11-30T14:58:02.696Z"
   },
   {
    "duration": 9,
    "start_time": "2022-11-30T14:58:02.734Z"
   },
   {
    "duration": 8,
    "start_time": "2022-11-30T14:58:02.744Z"
   },
   {
    "duration": 12,
    "start_time": "2022-11-30T14:58:02.753Z"
   },
   {
    "duration": 28,
    "start_time": "2022-11-30T14:58:23.797Z"
   },
   {
    "duration": 11,
    "start_time": "2022-11-30T14:58:41.756Z"
   },
   {
    "duration": 10,
    "start_time": "2022-11-30T15:00:10.352Z"
   },
   {
    "duration": 10,
    "start_time": "2022-11-30T15:00:24.499Z"
   },
   {
    "duration": 10,
    "start_time": "2022-11-30T15:00:35.207Z"
   },
   {
    "duration": 10,
    "start_time": "2022-11-30T15:00:43.534Z"
   },
   {
    "duration": 10,
    "start_time": "2022-11-30T15:01:12.077Z"
   },
   {
    "duration": 1106,
    "start_time": "2022-11-30T15:01:15.863Z"
   },
   {
    "duration": 83,
    "start_time": "2022-11-30T15:01:16.971Z"
   },
   {
    "duration": 16,
    "start_time": "2022-11-30T15:01:17.056Z"
   },
   {
    "duration": 9,
    "start_time": "2022-11-30T15:01:17.074Z"
   },
   {
    "duration": 7,
    "start_time": "2022-11-30T15:01:17.085Z"
   },
   {
    "duration": 38,
    "start_time": "2022-11-30T15:01:17.094Z"
   },
   {
    "duration": 22,
    "start_time": "2022-11-30T15:01:17.133Z"
   },
   {
    "duration": 21,
    "start_time": "2022-11-30T15:01:17.156Z"
   },
   {
    "duration": 46,
    "start_time": "2022-11-30T15:01:17.178Z"
   },
   {
    "duration": 21,
    "start_time": "2022-11-30T15:01:17.227Z"
   },
   {
    "duration": 7,
    "start_time": "2022-11-30T15:01:17.250Z"
   },
   {
    "duration": 19,
    "start_time": "2022-11-30T15:01:17.259Z"
   },
   {
    "duration": 3,
    "start_time": "2022-11-30T15:01:17.279Z"
   },
   {
    "duration": 11,
    "start_time": "2022-11-30T15:01:17.283Z"
   },
   {
    "duration": 38,
    "start_time": "2022-11-30T15:01:17.296Z"
   },
   {
    "duration": 16,
    "start_time": "2022-11-30T15:01:17.336Z"
   },
   {
    "duration": 437,
    "start_time": "2022-11-30T15:01:17.354Z"
   },
   {
    "duration": 414,
    "start_time": "2022-11-30T15:01:17.793Z"
   },
   {
    "duration": 19,
    "start_time": "2022-11-30T15:01:18.209Z"
   },
   {
    "duration": 5,
    "start_time": "2022-11-30T15:01:18.230Z"
   },
   {
    "duration": 257,
    "start_time": "2022-11-30T15:01:18.237Z"
   },
   {
    "duration": 986,
    "start_time": "2022-11-30T15:01:18.496Z"
   },
   {
    "duration": 7,
    "start_time": "2022-11-30T15:01:19.483Z"
   },
   {
    "duration": 36,
    "start_time": "2022-11-30T15:01:19.491Z"
   },
   {
    "duration": 344,
    "start_time": "2022-11-30T15:01:19.529Z"
   },
   {
    "duration": 9,
    "start_time": "2022-11-30T15:01:19.875Z"
   },
   {
    "duration": 188,
    "start_time": "2022-11-30T15:01:19.886Z"
   },
   {
    "duration": 8,
    "start_time": "2022-11-30T15:01:20.077Z"
   },
   {
    "duration": 175,
    "start_time": "2022-11-30T15:01:20.086Z"
   },
   {
    "duration": 72,
    "start_time": "2022-11-30T15:01:20.263Z"
   },
   {
    "duration": 15,
    "start_time": "2022-11-30T15:01:20.337Z"
   },
   {
    "duration": 25,
    "start_time": "2022-11-30T15:01:20.353Z"
   },
   {
    "duration": 49,
    "start_time": "2022-11-30T15:01:20.380Z"
   },
   {
    "duration": 25,
    "start_time": "2022-11-30T15:01:20.431Z"
   },
   {
    "duration": 11,
    "start_time": "2022-11-30T15:01:20.457Z"
   },
   {
    "duration": 15,
    "start_time": "2022-11-30T15:01:20.470Z"
   },
   {
    "duration": 12,
    "start_time": "2022-11-30T15:01:20.487Z"
   },
   {
    "duration": 4,
    "start_time": "2022-11-30T15:02:20.157Z"
   },
   {
    "duration": 11,
    "start_time": "2022-11-30T15:02:25.770Z"
   },
   {
    "duration": 1199,
    "start_time": "2022-11-30T15:02:34.687Z"
   },
   {
    "duration": 69,
    "start_time": "2022-11-30T15:02:35.888Z"
   },
   {
    "duration": 16,
    "start_time": "2022-11-30T15:02:35.959Z"
   },
   {
    "duration": 10,
    "start_time": "2022-11-30T15:02:35.977Z"
   },
   {
    "duration": 8,
    "start_time": "2022-11-30T15:02:35.988Z"
   },
   {
    "duration": 34,
    "start_time": "2022-11-30T15:02:35.998Z"
   },
   {
    "duration": 35,
    "start_time": "2022-11-30T15:02:36.034Z"
   },
   {
    "duration": 23,
    "start_time": "2022-11-30T15:02:36.071Z"
   },
   {
    "duration": 34,
    "start_time": "2022-11-30T15:02:36.095Z"
   },
   {
    "duration": 22,
    "start_time": "2022-11-30T15:02:36.132Z"
   },
   {
    "duration": 22,
    "start_time": "2022-11-30T15:02:36.155Z"
   },
   {
    "duration": 20,
    "start_time": "2022-11-30T15:02:36.179Z"
   },
   {
    "duration": 3,
    "start_time": "2022-11-30T15:02:36.200Z"
   },
   {
    "duration": 17,
    "start_time": "2022-11-30T15:02:36.205Z"
   },
   {
    "duration": 17,
    "start_time": "2022-11-30T15:02:36.224Z"
   },
   {
    "duration": 16,
    "start_time": "2022-11-30T15:02:36.243Z"
   },
   {
    "duration": 445,
    "start_time": "2022-11-30T15:02:36.261Z"
   },
   {
    "duration": 389,
    "start_time": "2022-11-30T15:02:36.707Z"
   },
   {
    "duration": 25,
    "start_time": "2022-11-30T15:02:37.098Z"
   },
   {
    "duration": 4,
    "start_time": "2022-11-30T15:02:37.124Z"
   },
   {
    "duration": 252,
    "start_time": "2022-11-30T15:02:37.130Z"
   },
   {
    "duration": 999,
    "start_time": "2022-11-30T15:02:37.384Z"
   },
   {
    "duration": 7,
    "start_time": "2022-11-30T15:02:38.385Z"
   },
   {
    "duration": 58,
    "start_time": "2022-11-30T15:02:38.393Z"
   },
   {
    "duration": 321,
    "start_time": "2022-11-30T15:02:38.453Z"
   },
   {
    "duration": 7,
    "start_time": "2022-11-30T15:02:38.776Z"
   },
   {
    "duration": 188,
    "start_time": "2022-11-30T15:02:38.784Z"
   },
   {
    "duration": 8,
    "start_time": "2022-11-30T15:02:38.975Z"
   },
   {
    "duration": 182,
    "start_time": "2022-11-30T15:02:38.985Z"
   },
   {
    "duration": 71,
    "start_time": "2022-11-30T15:02:39.169Z"
   },
   {
    "duration": 14,
    "start_time": "2022-11-30T15:02:39.242Z"
   },
   {
    "duration": 25,
    "start_time": "2022-11-30T15:02:39.258Z"
   },
   {
    "duration": 54,
    "start_time": "2022-11-30T15:02:39.284Z"
   },
   {
    "duration": 24,
    "start_time": "2022-11-30T15:02:39.339Z"
   },
   {
    "duration": 9,
    "start_time": "2022-11-30T15:02:39.365Z"
   },
   {
    "duration": 6,
    "start_time": "2022-11-30T15:02:39.376Z"
   },
   {
    "duration": 10,
    "start_time": "2022-11-30T15:02:39.383Z"
   },
   {
    "duration": 17,
    "start_time": "2022-11-30T15:02:59.813Z"
   },
   {
    "duration": 26,
    "start_time": "2022-11-30T15:03:04.570Z"
   },
   {
    "duration": 1185,
    "start_time": "2022-11-30T15:03:14.490Z"
   },
   {
    "duration": 81,
    "start_time": "2022-11-30T15:03:15.677Z"
   },
   {
    "duration": 15,
    "start_time": "2022-11-30T15:03:15.762Z"
   },
   {
    "duration": 18,
    "start_time": "2022-11-30T15:03:15.779Z"
   },
   {
    "duration": 4,
    "start_time": "2022-11-30T15:03:15.799Z"
   },
   {
    "duration": 32,
    "start_time": "2022-11-30T15:03:15.804Z"
   },
   {
    "duration": 21,
    "start_time": "2022-11-30T15:03:15.838Z"
   },
   {
    "duration": 23,
    "start_time": "2022-11-30T15:03:15.860Z"
   },
   {
    "duration": 45,
    "start_time": "2022-11-30T15:03:15.887Z"
   },
   {
    "duration": 21,
    "start_time": "2022-11-30T15:03:15.934Z"
   },
   {
    "duration": 7,
    "start_time": "2022-11-30T15:03:15.957Z"
   },
   {
    "duration": 26,
    "start_time": "2022-11-30T15:03:15.966Z"
   },
   {
    "duration": 2,
    "start_time": "2022-11-30T15:03:15.994Z"
   },
   {
    "duration": 28,
    "start_time": "2022-11-30T15:03:15.998Z"
   },
   {
    "duration": 19,
    "start_time": "2022-11-30T15:03:16.028Z"
   },
   {
    "duration": 16,
    "start_time": "2022-11-30T15:03:16.049Z"
   },
   {
    "duration": 431,
    "start_time": "2022-11-30T15:03:16.067Z"
   },
   {
    "duration": 386,
    "start_time": "2022-11-30T15:03:16.499Z"
   },
   {
    "duration": 49,
    "start_time": "2022-11-30T15:03:16.887Z"
   },
   {
    "duration": 4,
    "start_time": "2022-11-30T15:03:16.937Z"
   },
   {
    "duration": 248,
    "start_time": "2022-11-30T15:03:16.943Z"
   },
   {
    "duration": 940,
    "start_time": "2022-11-30T15:03:17.192Z"
   },
   {
    "duration": 6,
    "start_time": "2022-11-30T15:03:18.134Z"
   },
   {
    "duration": 25,
    "start_time": "2022-11-30T15:03:18.142Z"
   },
   {
    "duration": 330,
    "start_time": "2022-11-30T15:03:18.169Z"
   },
   {
    "duration": 8,
    "start_time": "2022-11-30T15:03:18.501Z"
   },
   {
    "duration": 171,
    "start_time": "2022-11-30T15:03:18.525Z"
   },
   {
    "duration": 9,
    "start_time": "2022-11-30T15:03:18.698Z"
   },
   {
    "duration": 180,
    "start_time": "2022-11-30T15:03:18.709Z"
   },
   {
    "duration": 72,
    "start_time": "2022-11-30T15:03:18.891Z"
   },
   {
    "duration": 16,
    "start_time": "2022-11-30T15:03:18.964Z"
   },
   {
    "duration": 49,
    "start_time": "2022-11-30T15:03:18.981Z"
   },
   {
    "duration": 29,
    "start_time": "2022-11-30T15:03:19.031Z"
   },
   {
    "duration": 30,
    "start_time": "2022-11-30T15:03:19.062Z"
   },
   {
    "duration": 32,
    "start_time": "2022-11-30T15:03:19.094Z"
   },
   {
    "duration": 9,
    "start_time": "2022-11-30T15:03:19.128Z"
   },
   {
    "duration": 13,
    "start_time": "2022-11-30T15:03:19.139Z"
   },
   {
    "duration": 210,
    "start_time": "2022-11-30T15:03:31.490Z"
   },
   {
    "duration": 961,
    "start_time": "2022-11-30T15:03:49.490Z"
   },
   {
    "duration": 24,
    "start_time": "2022-11-30T15:03:57.531Z"
   },
   {
    "duration": 886,
    "start_time": "2022-11-30T15:04:14.036Z"
   },
   {
    "duration": 895,
    "start_time": "2022-11-30T15:04:25.772Z"
   },
   {
    "duration": 26,
    "start_time": "2022-11-30T15:04:43.288Z"
   },
   {
    "duration": 27,
    "start_time": "2022-11-30T15:05:18.984Z"
   },
   {
    "duration": 900,
    "start_time": "2022-11-30T15:05:23.782Z"
   },
   {
    "duration": 26,
    "start_time": "2022-11-30T15:05:31.561Z"
   },
   {
    "duration": 24,
    "start_time": "2022-11-30T15:08:26.767Z"
   },
   {
    "duration": 27,
    "start_time": "2022-11-30T15:08:40.299Z"
   },
   {
    "duration": 1165,
    "start_time": "2022-11-30T15:08:47.126Z"
   },
   {
    "duration": 80,
    "start_time": "2022-11-30T15:08:48.293Z"
   },
   {
    "duration": 15,
    "start_time": "2022-11-30T15:08:48.374Z"
   },
   {
    "duration": 12,
    "start_time": "2022-11-30T15:08:48.392Z"
   },
   {
    "duration": 3,
    "start_time": "2022-11-30T15:08:48.406Z"
   },
   {
    "duration": 24,
    "start_time": "2022-11-30T15:08:48.411Z"
   },
   {
    "duration": 25,
    "start_time": "2022-11-30T15:08:48.436Z"
   },
   {
    "duration": 21,
    "start_time": "2022-11-30T15:08:48.463Z"
   },
   {
    "duration": 50,
    "start_time": "2022-11-30T15:08:48.485Z"
   },
   {
    "duration": 22,
    "start_time": "2022-11-30T15:08:48.537Z"
   },
   {
    "duration": 10,
    "start_time": "2022-11-30T15:08:48.560Z"
   },
   {
    "duration": 17,
    "start_time": "2022-11-30T15:08:48.571Z"
   },
   {
    "duration": 2,
    "start_time": "2022-11-30T15:08:48.590Z"
   },
   {
    "duration": 31,
    "start_time": "2022-11-30T15:08:48.594Z"
   },
   {
    "duration": 19,
    "start_time": "2022-11-30T15:08:48.627Z"
   },
   {
    "duration": 20,
    "start_time": "2022-11-30T15:08:48.648Z"
   },
   {
    "duration": 473,
    "start_time": "2022-11-30T15:08:48.670Z"
   },
   {
    "duration": 416,
    "start_time": "2022-11-30T15:08:49.145Z"
   },
   {
    "duration": 49,
    "start_time": "2022-11-30T15:08:49.562Z"
   },
   {
    "duration": 5,
    "start_time": "2022-11-30T15:08:49.622Z"
   },
   {
    "duration": 271,
    "start_time": "2022-11-30T15:08:49.628Z"
   },
   {
    "duration": 972,
    "start_time": "2022-11-30T15:08:49.900Z"
   },
   {
    "duration": 7,
    "start_time": "2022-11-30T15:08:50.874Z"
   },
   {
    "duration": 28,
    "start_time": "2022-11-30T15:08:50.883Z"
   },
   {
    "duration": 352,
    "start_time": "2022-11-30T15:08:50.923Z"
   },
   {
    "duration": 7,
    "start_time": "2022-11-30T15:08:51.277Z"
   },
   {
    "duration": 199,
    "start_time": "2022-11-30T15:08:51.286Z"
   },
   {
    "duration": 9,
    "start_time": "2022-11-30T15:08:51.488Z"
   },
   {
    "duration": 186,
    "start_time": "2022-11-30T15:08:51.500Z"
   },
   {
    "duration": 69,
    "start_time": "2022-11-30T15:08:51.688Z"
   },
   {
    "duration": 16,
    "start_time": "2022-11-30T15:08:51.759Z"
   },
   {
    "duration": 52,
    "start_time": "2022-11-30T15:08:51.777Z"
   },
   {
    "duration": 37,
    "start_time": "2022-11-30T15:08:51.831Z"
   },
   {
    "duration": 59,
    "start_time": "2022-11-30T15:08:51.871Z"
   },
   {
    "duration": 11,
    "start_time": "2022-11-30T15:08:51.933Z"
   },
   {
    "duration": 23,
    "start_time": "2022-11-30T15:08:51.946Z"
   },
   {
    "duration": 16,
    "start_time": "2022-11-30T15:08:51.971Z"
   },
   {
    "duration": 192,
    "start_time": "2022-11-30T15:10:53.813Z"
   },
   {
    "duration": 188,
    "start_time": "2022-11-30T15:11:39.090Z"
   },
   {
    "duration": 222,
    "start_time": "2022-11-30T15:12:00.026Z"
   },
   {
    "duration": 223,
    "start_time": "2022-11-30T15:12:08.556Z"
   },
   {
    "duration": 232,
    "start_time": "2022-11-30T15:12:12.861Z"
   },
   {
    "duration": 240,
    "start_time": "2022-11-30T15:13:22.584Z"
   },
   {
    "duration": 108,
    "start_time": "2022-11-30T15:14:29.466Z"
   },
   {
    "duration": 111,
    "start_time": "2022-11-30T15:15:35.374Z"
   },
   {
    "duration": 126,
    "start_time": "2022-11-30T15:15:38.284Z"
   },
   {
    "duration": 1152,
    "start_time": "2022-11-30T15:15:51.754Z"
   },
   {
    "duration": 1108,
    "start_time": "2022-11-30T15:18:30.355Z"
   },
   {
    "duration": 74,
    "start_time": "2022-11-30T15:18:31.465Z"
   },
   {
    "duration": 14,
    "start_time": "2022-11-30T15:18:31.541Z"
   },
   {
    "duration": 8,
    "start_time": "2022-11-30T15:18:31.557Z"
   },
   {
    "duration": 7,
    "start_time": "2022-11-30T15:18:31.566Z"
   },
   {
    "duration": 26,
    "start_time": "2022-11-30T15:18:31.575Z"
   },
   {
    "duration": 30,
    "start_time": "2022-11-30T15:18:31.603Z"
   },
   {
    "duration": 26,
    "start_time": "2022-11-30T15:18:31.635Z"
   },
   {
    "duration": 22,
    "start_time": "2022-11-30T15:18:31.663Z"
   },
   {
    "duration": 45,
    "start_time": "2022-11-30T15:18:31.687Z"
   },
   {
    "duration": 8,
    "start_time": "2022-11-30T15:18:31.733Z"
   },
   {
    "duration": 21,
    "start_time": "2022-11-30T15:18:31.743Z"
   },
   {
    "duration": 23,
    "start_time": "2022-11-30T15:18:31.766Z"
   },
   {
    "duration": 11,
    "start_time": "2022-11-30T15:18:31.791Z"
   },
   {
    "duration": 16,
    "start_time": "2022-11-30T15:18:31.804Z"
   },
   {
    "duration": 21,
    "start_time": "2022-11-30T15:18:31.822Z"
   },
   {
    "duration": 437,
    "start_time": "2022-11-30T15:18:31.845Z"
   },
   {
    "duration": 384,
    "start_time": "2022-11-30T15:18:32.284Z"
   },
   {
    "duration": 217,
    "start_time": "2022-11-30T15:18:32.669Z"
   },
   {
    "duration": 5,
    "start_time": "2022-11-30T15:18:32.887Z"
   },
   {
    "duration": 246,
    "start_time": "2022-11-30T15:18:32.894Z"
   },
   {
    "duration": 1051,
    "start_time": "2022-11-30T15:18:33.142Z"
   },
   {
    "duration": 8,
    "start_time": "2022-11-30T15:18:34.195Z"
   },
   {
    "duration": 49,
    "start_time": "2022-11-30T15:18:34.205Z"
   },
   {
    "duration": 233,
    "start_time": "2022-11-30T15:18:34.256Z"
   },
   {
    "duration": 7,
    "start_time": "2022-11-30T15:18:34.491Z"
   },
   {
    "duration": 177,
    "start_time": "2022-11-30T15:18:34.500Z"
   },
   {
    "duration": 7,
    "start_time": "2022-11-30T15:18:34.681Z"
   },
   {
    "duration": 164,
    "start_time": "2022-11-30T15:18:34.690Z"
   },
   {
    "duration": 70,
    "start_time": "2022-11-30T15:18:34.856Z"
   },
   {
    "duration": 19,
    "start_time": "2022-11-30T15:18:34.928Z"
   },
   {
    "duration": 29,
    "start_time": "2022-11-30T15:18:34.949Z"
   },
   {
    "duration": 44,
    "start_time": "2022-11-30T15:18:34.979Z"
   },
   {
    "duration": 25,
    "start_time": "2022-11-30T15:18:35.025Z"
   },
   {
    "duration": 8,
    "start_time": "2022-11-30T15:18:35.051Z"
   },
   {
    "duration": 6,
    "start_time": "2022-11-30T15:18:35.061Z"
   },
   {
    "duration": 8,
    "start_time": "2022-11-30T15:18:35.069Z"
   },
   {
    "duration": 274,
    "start_time": "2022-11-30T15:18:59.986Z"
   },
   {
    "duration": 171,
    "start_time": "2022-11-30T15:19:15.086Z"
   },
   {
    "duration": 177,
    "start_time": "2022-11-30T15:19:22.776Z"
   },
   {
    "duration": 235,
    "start_time": "2022-11-30T15:19:35.360Z"
   },
   {
    "duration": 215,
    "start_time": "2022-11-30T15:19:45.952Z"
   },
   {
    "duration": 284,
    "start_time": "2022-11-30T15:19:53.764Z"
   },
   {
    "duration": 1424,
    "start_time": "2022-11-30T15:20:33.313Z"
   },
   {
    "duration": 1162,
    "start_time": "2022-11-30T15:20:41.195Z"
   },
   {
    "duration": 70,
    "start_time": "2022-11-30T15:20:42.359Z"
   },
   {
    "duration": 15,
    "start_time": "2022-11-30T15:20:42.431Z"
   },
   {
    "duration": 9,
    "start_time": "2022-11-30T15:20:42.448Z"
   },
   {
    "duration": 6,
    "start_time": "2022-11-30T15:20:42.458Z"
   },
   {
    "duration": 18,
    "start_time": "2022-11-30T15:20:42.466Z"
   },
   {
    "duration": 57,
    "start_time": "2022-11-30T15:20:42.486Z"
   },
   {
    "duration": 25,
    "start_time": "2022-11-30T15:20:42.544Z"
   },
   {
    "duration": 25,
    "start_time": "2022-11-30T15:20:42.571Z"
   },
   {
    "duration": 42,
    "start_time": "2022-11-30T15:20:42.600Z"
   },
   {
    "duration": 9,
    "start_time": "2022-11-30T15:20:42.644Z"
   },
   {
    "duration": 18,
    "start_time": "2022-11-30T15:20:42.655Z"
   },
   {
    "duration": 2,
    "start_time": "2022-11-30T15:20:42.675Z"
   },
   {
    "duration": 8,
    "start_time": "2022-11-30T15:20:42.679Z"
   },
   {
    "duration": 45,
    "start_time": "2022-11-30T15:20:42.688Z"
   },
   {
    "duration": 13,
    "start_time": "2022-11-30T15:20:42.735Z"
   },
   {
    "duration": 438,
    "start_time": "2022-11-30T15:20:42.749Z"
   },
   {
    "duration": 381,
    "start_time": "2022-11-30T15:20:43.189Z"
   },
   {
    "duration": 1402,
    "start_time": "2022-11-30T15:20:43.572Z"
   },
   {
    "duration": 0,
    "start_time": "2022-11-30T15:20:44.976Z"
   },
   {
    "duration": 0,
    "start_time": "2022-11-30T15:20:44.977Z"
   },
   {
    "duration": 0,
    "start_time": "2022-11-30T15:20:44.977Z"
   },
   {
    "duration": 0,
    "start_time": "2022-11-30T15:20:44.979Z"
   },
   {
    "duration": 0,
    "start_time": "2022-11-30T15:20:44.980Z"
   },
   {
    "duration": 0,
    "start_time": "2022-11-30T15:20:44.980Z"
   },
   {
    "duration": 0,
    "start_time": "2022-11-30T15:20:44.981Z"
   },
   {
    "duration": 0,
    "start_time": "2022-11-30T15:20:44.982Z"
   },
   {
    "duration": 0,
    "start_time": "2022-11-30T15:20:44.983Z"
   },
   {
    "duration": 0,
    "start_time": "2022-11-30T15:20:44.984Z"
   },
   {
    "duration": 0,
    "start_time": "2022-11-30T15:20:44.985Z"
   },
   {
    "duration": 0,
    "start_time": "2022-11-30T15:20:44.986Z"
   },
   {
    "duration": 0,
    "start_time": "2022-11-30T15:20:44.987Z"
   },
   {
    "duration": 0,
    "start_time": "2022-11-30T15:20:44.988Z"
   },
   {
    "duration": 0,
    "start_time": "2022-11-30T15:20:44.989Z"
   },
   {
    "duration": 0,
    "start_time": "2022-11-30T15:20:44.990Z"
   },
   {
    "duration": 0,
    "start_time": "2022-11-30T15:20:44.991Z"
   },
   {
    "duration": 0,
    "start_time": "2022-11-30T15:20:44.993Z"
   },
   {
    "duration": 330,
    "start_time": "2022-11-30T15:21:01.621Z"
   },
   {
    "duration": 276,
    "start_time": "2022-11-30T15:22:46.558Z"
   },
   {
    "duration": 310,
    "start_time": "2022-11-30T15:23:00.446Z"
   },
   {
    "duration": 234,
    "start_time": "2022-11-30T15:23:33.166Z"
   },
   {
    "duration": 264,
    "start_time": "2022-11-30T15:24:18.616Z"
   },
   {
    "duration": 334,
    "start_time": "2022-11-30T15:24:26.535Z"
   },
   {
    "duration": 626,
    "start_time": "2022-11-30T15:25:41.321Z"
   },
   {
    "duration": 242,
    "start_time": "2022-11-30T15:26:16.217Z"
   },
   {
    "duration": 265,
    "start_time": "2022-11-30T15:26:25.788Z"
   },
   {
    "duration": 270,
    "start_time": "2022-11-30T15:26:57.793Z"
   },
   {
    "duration": 242,
    "start_time": "2022-11-30T15:27:58.550Z"
   },
   {
    "duration": 226,
    "start_time": "2022-11-30T15:28:11.978Z"
   },
   {
    "duration": 240,
    "start_time": "2022-11-30T15:28:15.574Z"
   },
   {
    "duration": 225,
    "start_time": "2022-11-30T15:28:24.819Z"
   },
   {
    "duration": 314,
    "start_time": "2022-11-30T15:28:31.188Z"
   },
   {
    "duration": 503,
    "start_time": "2022-11-30T15:29:00.694Z"
   },
   {
    "duration": 227,
    "start_time": "2022-11-30T15:29:06.521Z"
   },
   {
    "duration": 231,
    "start_time": "2022-11-30T15:31:32.644Z"
   },
   {
    "duration": 221,
    "start_time": "2022-11-30T15:31:50.734Z"
   },
   {
    "duration": 201,
    "start_time": "2022-11-30T15:32:45.014Z"
   },
   {
    "duration": 1273,
    "start_time": "2022-11-30T15:32:59.135Z"
   },
   {
    "duration": 286,
    "start_time": "2022-11-30T15:33:12.506Z"
   },
   {
    "duration": 362,
    "start_time": "2022-11-30T15:35:13.284Z"
   },
   {
    "duration": 318,
    "start_time": "2022-11-30T15:35:25.063Z"
   },
   {
    "duration": 289,
    "start_time": "2022-11-30T15:35:42.662Z"
   },
   {
    "duration": 5,
    "start_time": "2022-11-30T15:41:30.946Z"
   },
   {
    "duration": 244,
    "start_time": "2022-11-30T15:41:33.350Z"
   },
   {
    "duration": 1051,
    "start_time": "2022-11-30T15:41:36.431Z"
   },
   {
    "duration": 350,
    "start_time": "2022-11-30T15:43:43.889Z"
   },
   {
    "duration": 229,
    "start_time": "2022-11-30T15:44:04.233Z"
   },
   {
    "duration": 209,
    "start_time": "2022-11-30T15:44:15.982Z"
   },
   {
    "duration": 197,
    "start_time": "2022-11-30T15:44:23.114Z"
   },
   {
    "duration": 230,
    "start_time": "2022-11-30T15:44:43.933Z"
   },
   {
    "duration": 207,
    "start_time": "2022-11-30T15:44:52.864Z"
   },
   {
    "duration": 207,
    "start_time": "2022-11-30T15:45:03.723Z"
   },
   {
    "duration": 1164,
    "start_time": "2022-11-30T15:45:15.299Z"
   },
   {
    "duration": 71,
    "start_time": "2022-11-30T15:45:16.465Z"
   },
   {
    "duration": 15,
    "start_time": "2022-11-30T15:45:16.537Z"
   },
   {
    "duration": 8,
    "start_time": "2022-11-30T15:45:16.555Z"
   },
   {
    "duration": 6,
    "start_time": "2022-11-30T15:45:16.565Z"
   },
   {
    "duration": 16,
    "start_time": "2022-11-30T15:45:16.572Z"
   },
   {
    "duration": 49,
    "start_time": "2022-11-30T15:45:16.590Z"
   },
   {
    "duration": 21,
    "start_time": "2022-11-30T15:45:16.640Z"
   },
   {
    "duration": 21,
    "start_time": "2022-11-30T15:45:16.663Z"
   },
   {
    "duration": 47,
    "start_time": "2022-11-30T15:45:16.686Z"
   },
   {
    "duration": 9,
    "start_time": "2022-11-30T15:45:16.735Z"
   },
   {
    "duration": 19,
    "start_time": "2022-11-30T15:45:16.746Z"
   },
   {
    "duration": 2,
    "start_time": "2022-11-30T15:45:16.767Z"
   },
   {
    "duration": 11,
    "start_time": "2022-11-30T15:45:16.771Z"
   },
   {
    "duration": 39,
    "start_time": "2022-11-30T15:45:16.784Z"
   },
   {
    "duration": 17,
    "start_time": "2022-11-30T15:45:16.825Z"
   },
   {
    "duration": 432,
    "start_time": "2022-11-30T15:45:16.843Z"
   },
   {
    "duration": 393,
    "start_time": "2022-11-30T15:45:17.277Z"
   },
   {
    "duration": 347,
    "start_time": "2022-11-30T15:45:17.672Z"
   },
   {
    "duration": 5,
    "start_time": "2022-11-30T15:45:18.021Z"
   },
   {
    "duration": 259,
    "start_time": "2022-11-30T15:45:18.027Z"
   },
   {
    "duration": 207,
    "start_time": "2022-11-30T15:45:18.288Z"
   },
   {
    "duration": 109,
    "start_time": "2022-11-30T15:45:18.497Z"
   },
   {
    "duration": 0,
    "start_time": "2022-11-30T15:45:18.608Z"
   },
   {
    "duration": 0,
    "start_time": "2022-11-30T15:45:18.609Z"
   },
   {
    "duration": 0,
    "start_time": "2022-11-30T15:45:18.611Z"
   },
   {
    "duration": 0,
    "start_time": "2022-11-30T15:45:18.622Z"
   },
   {
    "duration": 0,
    "start_time": "2022-11-30T15:45:18.623Z"
   },
   {
    "duration": 0,
    "start_time": "2022-11-30T15:45:18.624Z"
   },
   {
    "duration": 0,
    "start_time": "2022-11-30T15:45:18.625Z"
   },
   {
    "duration": 0,
    "start_time": "2022-11-30T15:45:18.626Z"
   },
   {
    "duration": 0,
    "start_time": "2022-11-30T15:45:18.627Z"
   },
   {
    "duration": 0,
    "start_time": "2022-11-30T15:45:18.628Z"
   },
   {
    "duration": 0,
    "start_time": "2022-11-30T15:45:18.629Z"
   },
   {
    "duration": 0,
    "start_time": "2022-11-30T15:45:18.630Z"
   },
   {
    "duration": 0,
    "start_time": "2022-11-30T15:45:18.631Z"
   },
   {
    "duration": 28,
    "start_time": "2022-11-30T15:47:40.775Z"
   },
   {
    "duration": 253,
    "start_time": "2022-11-30T15:47:48.886Z"
   },
   {
    "duration": 295,
    "start_time": "2022-11-30T15:48:14.004Z"
   },
   {
    "duration": 73,
    "start_time": "2022-11-30T15:48:31.218Z"
   },
   {
    "duration": 31,
    "start_time": "2022-11-30T15:49:03.836Z"
   },
   {
    "duration": 1135,
    "start_time": "2022-11-30T15:49:16.841Z"
   },
   {
    "duration": 70,
    "start_time": "2022-11-30T15:49:17.978Z"
   },
   {
    "duration": 15,
    "start_time": "2022-11-30T15:49:18.050Z"
   },
   {
    "duration": 10,
    "start_time": "2022-11-30T15:49:18.068Z"
   },
   {
    "duration": 4,
    "start_time": "2022-11-30T15:49:18.079Z"
   },
   {
    "duration": 44,
    "start_time": "2022-11-30T15:49:18.085Z"
   },
   {
    "duration": 22,
    "start_time": "2022-11-30T15:49:18.130Z"
   },
   {
    "duration": 22,
    "start_time": "2022-11-30T15:49:18.154Z"
   },
   {
    "duration": 46,
    "start_time": "2022-11-30T15:49:18.177Z"
   },
   {
    "duration": 20,
    "start_time": "2022-11-30T15:49:18.226Z"
   },
   {
    "duration": 7,
    "start_time": "2022-11-30T15:49:18.248Z"
   },
   {
    "duration": 17,
    "start_time": "2022-11-30T15:49:18.256Z"
   },
   {
    "duration": 3,
    "start_time": "2022-11-30T15:49:18.275Z"
   },
   {
    "duration": 10,
    "start_time": "2022-11-30T15:49:18.279Z"
   },
   {
    "duration": 41,
    "start_time": "2022-11-30T15:49:18.290Z"
   },
   {
    "duration": 15,
    "start_time": "2022-11-30T15:49:18.333Z"
   },
   {
    "duration": 427,
    "start_time": "2022-11-30T15:49:18.350Z"
   },
   {
    "duration": 419,
    "start_time": "2022-11-30T15:49:18.778Z"
   },
   {
    "duration": 337,
    "start_time": "2022-11-30T15:49:19.199Z"
   },
   {
    "duration": 4,
    "start_time": "2022-11-30T15:49:19.538Z"
   },
   {
    "duration": 253,
    "start_time": "2022-11-30T15:49:19.544Z"
   },
   {
    "duration": 134,
    "start_time": "2022-11-30T15:49:19.800Z"
   },
   {
    "duration": 0,
    "start_time": "2022-11-30T15:49:19.936Z"
   },
   {
    "duration": 0,
    "start_time": "2022-11-30T15:49:19.938Z"
   },
   {
    "duration": 0,
    "start_time": "2022-11-30T15:49:19.939Z"
   },
   {
    "duration": 0,
    "start_time": "2022-11-30T15:49:19.941Z"
   },
   {
    "duration": 0,
    "start_time": "2022-11-30T15:49:19.942Z"
   },
   {
    "duration": 0,
    "start_time": "2022-11-30T15:49:19.944Z"
   },
   {
    "duration": 0,
    "start_time": "2022-11-30T15:49:19.945Z"
   },
   {
    "duration": 0,
    "start_time": "2022-11-30T15:49:19.947Z"
   },
   {
    "duration": 0,
    "start_time": "2022-11-30T15:49:19.948Z"
   },
   {
    "duration": 0,
    "start_time": "2022-11-30T15:49:19.949Z"
   },
   {
    "duration": 0,
    "start_time": "2022-11-30T15:49:19.951Z"
   },
   {
    "duration": 0,
    "start_time": "2022-11-30T15:49:19.952Z"
   },
   {
    "duration": 0,
    "start_time": "2022-11-30T15:49:19.954Z"
   },
   {
    "duration": 0,
    "start_time": "2022-11-30T15:49:19.955Z"
   },
   {
    "duration": 1182,
    "start_time": "2022-11-30T15:49:42.390Z"
   },
   {
    "duration": 70,
    "start_time": "2022-11-30T15:49:43.574Z"
   },
   {
    "duration": 14,
    "start_time": "2022-11-30T15:49:43.646Z"
   },
   {
    "duration": 9,
    "start_time": "2022-11-30T15:49:43.662Z"
   },
   {
    "duration": 10,
    "start_time": "2022-11-30T15:49:43.673Z"
   },
   {
    "duration": 20,
    "start_time": "2022-11-30T15:49:43.685Z"
   },
   {
    "duration": 30,
    "start_time": "2022-11-30T15:49:43.706Z"
   },
   {
    "duration": 24,
    "start_time": "2022-11-30T15:49:43.737Z"
   },
   {
    "duration": 23,
    "start_time": "2022-11-30T15:49:43.762Z"
   },
   {
    "duration": 46,
    "start_time": "2022-11-30T15:49:43.788Z"
   },
   {
    "duration": 15,
    "start_time": "2022-11-30T15:49:43.836Z"
   },
   {
    "duration": 18,
    "start_time": "2022-11-30T15:49:43.852Z"
   },
   {
    "duration": 3,
    "start_time": "2022-11-30T15:49:43.871Z"
   },
   {
    "duration": 14,
    "start_time": "2022-11-30T15:49:43.875Z"
   },
   {
    "duration": 37,
    "start_time": "2022-11-30T15:49:43.891Z"
   },
   {
    "duration": 17,
    "start_time": "2022-11-30T15:49:43.930Z"
   },
   {
    "duration": 482,
    "start_time": "2022-11-30T15:49:43.948Z"
   },
   {
    "duration": 408,
    "start_time": "2022-11-30T15:49:44.431Z"
   },
   {
    "duration": 389,
    "start_time": "2022-11-30T15:49:44.840Z"
   },
   {
    "duration": 5,
    "start_time": "2022-11-30T15:49:45.231Z"
   },
   {
    "duration": 256,
    "start_time": "2022-11-30T15:49:45.237Z"
   },
   {
    "duration": 122,
    "start_time": "2022-11-30T15:49:45.494Z"
   },
   {
    "duration": 0,
    "start_time": "2022-11-30T15:49:45.618Z"
   },
   {
    "duration": 0,
    "start_time": "2022-11-30T15:49:45.622Z"
   },
   {
    "duration": 0,
    "start_time": "2022-11-30T15:49:45.623Z"
   },
   {
    "duration": 0,
    "start_time": "2022-11-30T15:49:45.624Z"
   },
   {
    "duration": 0,
    "start_time": "2022-11-30T15:49:45.625Z"
   },
   {
    "duration": 0,
    "start_time": "2022-11-30T15:49:45.626Z"
   },
   {
    "duration": 0,
    "start_time": "2022-11-30T15:49:45.627Z"
   },
   {
    "duration": 0,
    "start_time": "2022-11-30T15:49:45.628Z"
   },
   {
    "duration": 0,
    "start_time": "2022-11-30T15:49:45.629Z"
   },
   {
    "duration": 0,
    "start_time": "2022-11-30T15:49:45.629Z"
   },
   {
    "duration": 0,
    "start_time": "2022-11-30T15:49:45.631Z"
   },
   {
    "duration": 0,
    "start_time": "2022-11-30T15:49:45.632Z"
   },
   {
    "duration": 0,
    "start_time": "2022-11-30T15:49:45.633Z"
   },
   {
    "duration": 0,
    "start_time": "2022-11-30T15:49:45.634Z"
   },
   {
    "duration": 217,
    "start_time": "2022-11-30T15:50:01.376Z"
   },
   {
    "duration": 26,
    "start_time": "2022-11-30T15:50:11.190Z"
   },
   {
    "duration": 228,
    "start_time": "2022-11-30T15:50:12.945Z"
   },
   {
    "duration": 305,
    "start_time": "2022-11-30T15:50:55.831Z"
   },
   {
    "duration": 234,
    "start_time": "2022-11-30T15:51:04.188Z"
   },
   {
    "duration": 234,
    "start_time": "2022-11-30T15:51:26.359Z"
   },
   {
    "duration": 8,
    "start_time": "2022-11-30T15:54:12.722Z"
   },
   {
    "duration": 161,
    "start_time": "2022-11-30T15:54:16.666Z"
   },
   {
    "duration": 8,
    "start_time": "2022-11-30T15:54:19.244Z"
   },
   {
    "duration": 160,
    "start_time": "2022-11-30T15:54:20.890Z"
   },
   {
    "duration": 68,
    "start_time": "2022-11-30T15:55:34.956Z"
   },
   {
    "duration": 56,
    "start_time": "2022-11-30T15:57:39.940Z"
   },
   {
    "duration": 29,
    "start_time": "2022-11-30T15:58:25.132Z"
   },
   {
    "duration": 6,
    "start_time": "2022-11-30T15:59:49.569Z"
   },
   {
    "duration": 75,
    "start_time": "2022-11-30T16:00:44.337Z"
   },
   {
    "duration": 70,
    "start_time": "2022-11-30T16:01:42.216Z"
   },
   {
    "duration": 14,
    "start_time": "2022-11-30T16:01:58.361Z"
   },
   {
    "duration": 19,
    "start_time": "2022-11-30T16:03:51.590Z"
   },
   {
    "duration": 21,
    "start_time": "2022-11-30T16:04:27.013Z"
   },
   {
    "duration": 23,
    "start_time": "2022-11-30T16:05:14.690Z"
   },
   {
    "duration": 16,
    "start_time": "2022-11-30T16:05:29.589Z"
   },
   {
    "duration": 22,
    "start_time": "2022-11-30T16:05:34.142Z"
   },
   {
    "duration": 1135,
    "start_time": "2022-11-30T16:05:41.133Z"
   },
   {
    "duration": 69,
    "start_time": "2022-11-30T16:05:42.270Z"
   },
   {
    "duration": 14,
    "start_time": "2022-11-30T16:05:42.340Z"
   },
   {
    "duration": 11,
    "start_time": "2022-11-30T16:05:42.356Z"
   },
   {
    "duration": 8,
    "start_time": "2022-11-30T16:05:42.368Z"
   },
   {
    "duration": 16,
    "start_time": "2022-11-30T16:05:42.378Z"
   },
   {
    "duration": 38,
    "start_time": "2022-11-30T16:05:42.395Z"
   },
   {
    "duration": 23,
    "start_time": "2022-11-30T16:05:42.434Z"
   },
   {
    "duration": 24,
    "start_time": "2022-11-30T16:05:42.458Z"
   },
   {
    "duration": 47,
    "start_time": "2022-11-30T16:05:42.485Z"
   },
   {
    "duration": 7,
    "start_time": "2022-11-30T16:05:42.534Z"
   },
   {
    "duration": 15,
    "start_time": "2022-11-30T16:05:42.542Z"
   },
   {
    "duration": 2,
    "start_time": "2022-11-30T16:05:42.559Z"
   },
   {
    "duration": 14,
    "start_time": "2022-11-30T16:05:42.563Z"
   },
   {
    "duration": 25,
    "start_time": "2022-11-30T16:05:42.578Z"
   },
   {
    "duration": 26,
    "start_time": "2022-11-30T16:05:42.605Z"
   },
   {
    "duration": 451,
    "start_time": "2022-11-30T16:05:42.633Z"
   },
   {
    "duration": 392,
    "start_time": "2022-11-30T16:05:43.086Z"
   },
   {
    "duration": 303,
    "start_time": "2022-11-30T16:05:43.480Z"
   },
   {
    "duration": 5,
    "start_time": "2022-11-30T16:05:43.785Z"
   },
   {
    "duration": 245,
    "start_time": "2022-11-30T16:05:43.792Z"
   },
   {
    "duration": 242,
    "start_time": "2022-11-30T16:05:44.039Z"
   },
   {
    "duration": 27,
    "start_time": "2022-11-30T16:05:44.283Z"
   },
   {
    "duration": 237,
    "start_time": "2022-11-30T16:05:44.323Z"
   },
   {
    "duration": 319,
    "start_time": "2022-11-30T16:05:44.562Z"
   },
   {
    "duration": 8,
    "start_time": "2022-11-30T16:05:44.883Z"
   },
   {
    "duration": 185,
    "start_time": "2022-11-30T16:05:44.893Z"
   },
   {
    "duration": 7,
    "start_time": "2022-11-30T16:05:45.081Z"
   },
   {
    "duration": 172,
    "start_time": "2022-11-30T16:05:45.090Z"
   },
   {
    "duration": 30,
    "start_time": "2022-11-30T16:05:45.264Z"
   },
   {
    "duration": 27,
    "start_time": "2022-11-30T16:05:45.296Z"
   },
   {
    "duration": 115,
    "start_time": "2022-11-30T16:05:45.325Z"
   },
   {
    "duration": 0,
    "start_time": "2022-11-30T16:05:45.441Z"
   },
   {
    "duration": 0,
    "start_time": "2022-11-30T16:05:45.443Z"
   },
   {
    "duration": 0,
    "start_time": "2022-11-30T16:05:45.444Z"
   },
   {
    "duration": 0,
    "start_time": "2022-11-30T16:05:45.445Z"
   },
   {
    "duration": 0,
    "start_time": "2022-11-30T16:05:45.446Z"
   },
   {
    "duration": 0,
    "start_time": "2022-11-30T16:05:45.447Z"
   },
   {
    "duration": 15,
    "start_time": "2022-11-30T16:06:24.765Z"
   },
   {
    "duration": 85,
    "start_time": "2022-11-30T16:06:34.991Z"
   },
   {
    "duration": 15,
    "start_time": "2022-11-30T16:06:42.028Z"
   },
   {
    "duration": 16,
    "start_time": "2022-11-30T16:06:52.897Z"
   },
   {
    "duration": 22,
    "start_time": "2022-11-30T16:07:01.001Z"
   },
   {
    "duration": 17,
    "start_time": "2022-11-30T16:07:12.111Z"
   },
   {
    "duration": 13,
    "start_time": "2022-11-30T16:07:22.609Z"
   },
   {
    "duration": 11,
    "start_time": "2022-11-30T16:09:17.350Z"
   },
   {
    "duration": 135,
    "start_time": "2022-11-30T16:09:20.324Z"
   },
   {
    "duration": 16,
    "start_time": "2022-11-30T16:09:26.488Z"
   },
   {
    "duration": 121,
    "start_time": "2022-11-30T16:09:48.309Z"
   },
   {
    "duration": 127,
    "start_time": "2022-11-30T16:10:16.293Z"
   },
   {
    "duration": 149,
    "start_time": "2022-11-30T16:10:32.657Z"
   },
   {
    "duration": 163,
    "start_time": "2022-11-30T16:10:55.263Z"
   },
   {
    "duration": 165,
    "start_time": "2022-11-30T16:12:09.389Z"
   },
   {
    "duration": 15,
    "start_time": "2022-11-30T16:13:09.844Z"
   },
   {
    "duration": 74,
    "start_time": "2022-11-30T16:13:11.912Z"
   },
   {
    "duration": 151,
    "start_time": "2022-11-30T16:13:28.426Z"
   },
   {
    "duration": 165,
    "start_time": "2022-11-30T16:13:57.136Z"
   },
   {
    "duration": 9,
    "start_time": "2022-11-30T16:15:02.498Z"
   },
   {
    "duration": 18,
    "start_time": "2022-11-30T16:15:20.454Z"
   },
   {
    "duration": 12,
    "start_time": "2022-11-30T16:15:41.323Z"
   },
   {
    "duration": 185,
    "start_time": "2022-11-30T16:17:36.258Z"
   },
   {
    "duration": 10,
    "start_time": "2022-11-30T16:18:33.320Z"
   },
   {
    "duration": 241,
    "start_time": "2022-11-30T16:18:42.746Z"
   },
   {
    "duration": 28,
    "start_time": "2022-11-30T16:19:52.363Z"
   },
   {
    "duration": 27,
    "start_time": "2022-11-30T16:20:03.855Z"
   },
   {
    "duration": 26,
    "start_time": "2022-11-30T16:23:39.733Z"
   },
   {
    "duration": 27,
    "start_time": "2022-11-30T16:23:46.490Z"
   },
   {
    "duration": 1150,
    "start_time": "2022-11-30T16:24:56.656Z"
   },
   {
    "duration": 21,
    "start_time": "2022-11-30T16:25:12.555Z"
   },
   {
    "duration": 117,
    "start_time": "2022-11-30T16:26:41.331Z"
   },
   {
    "duration": 45,
    "start_time": "2022-11-30T16:26:49.728Z"
   },
   {
    "duration": 17,
    "start_time": "2022-11-30T16:27:45.796Z"
   },
   {
    "duration": 114,
    "start_time": "2022-11-30T16:28:59.994Z"
   },
   {
    "duration": 1194,
    "start_time": "2022-11-30T16:29:11.755Z"
   },
   {
    "duration": 108,
    "start_time": "2022-11-30T16:30:08.589Z"
   },
   {
    "duration": 151,
    "start_time": "2022-11-30T16:30:34.050Z"
   },
   {
    "duration": 117,
    "start_time": "2022-11-30T16:31:11.692Z"
   },
   {
    "duration": 198,
    "start_time": "2022-11-30T16:31:37.595Z"
   },
   {
    "duration": 211,
    "start_time": "2022-11-30T16:32:39.805Z"
   },
   {
    "duration": 18,
    "start_time": "2022-11-30T16:33:40.216Z"
   },
   {
    "duration": 236,
    "start_time": "2022-11-30T16:33:44.113Z"
   },
   {
    "duration": 205,
    "start_time": "2022-11-30T16:34:54.650Z"
   },
   {
    "duration": 236,
    "start_time": "2022-11-30T16:35:30.920Z"
   },
   {
    "duration": 80,
    "start_time": "2022-11-30T16:36:39.068Z"
   },
   {
    "duration": 203,
    "start_time": "2022-11-30T16:36:42.947Z"
   },
   {
    "duration": 199,
    "start_time": "2022-11-30T16:36:49.452Z"
   },
   {
    "duration": 210,
    "start_time": "2022-11-30T16:37:03.170Z"
   },
   {
    "duration": 202,
    "start_time": "2022-11-30T16:37:18.693Z"
   },
   {
    "duration": 211,
    "start_time": "2022-11-30T16:37:23.273Z"
   },
   {
    "duration": 223,
    "start_time": "2022-11-30T16:37:55.241Z"
   },
   {
    "duration": 239,
    "start_time": "2022-11-30T16:39:02.012Z"
   },
   {
    "duration": 327,
    "start_time": "2022-11-30T16:39:13.220Z"
   },
   {
    "duration": 75,
    "start_time": "2022-11-30T16:39:27.157Z"
   },
   {
    "duration": 229,
    "start_time": "2022-11-30T16:40:21.893Z"
   },
   {
    "duration": 235,
    "start_time": "2022-11-30T16:40:25.629Z"
   },
   {
    "duration": 9,
    "start_time": "2022-11-30T16:41:28.700Z"
   },
   {
    "duration": 109,
    "start_time": "2022-11-30T16:41:45.096Z"
   },
   {
    "duration": 199,
    "start_time": "2022-11-30T16:42:56.711Z"
   },
   {
    "duration": 17,
    "start_time": "2022-11-30T16:45:49.063Z"
   },
   {
    "duration": 526,
    "start_time": "2022-11-30T16:46:01.170Z"
   },
   {
    "duration": 547,
    "start_time": "2022-11-30T16:46:50.755Z"
   },
   {
    "duration": 234,
    "start_time": "2022-11-30T16:47:32.040Z"
   },
   {
    "duration": 590,
    "start_time": "2022-11-30T16:49:52.168Z"
   },
   {
    "duration": 543,
    "start_time": "2022-11-30T16:51:07.861Z"
   },
   {
    "duration": 730,
    "start_time": "2022-11-30T16:51:23.992Z"
   },
   {
    "duration": 27,
    "start_time": "2022-11-30T16:52:28.406Z"
   },
   {
    "duration": 258,
    "start_time": "2022-11-30T16:53:03.831Z"
   },
   {
    "duration": 713,
    "start_time": "2022-11-30T16:54:50.763Z"
   },
   {
    "duration": 713,
    "start_time": "2022-11-30T16:55:25.601Z"
   },
   {
    "duration": 830,
    "start_time": "2022-11-30T16:55:38.540Z"
   },
   {
    "duration": 692,
    "start_time": "2022-11-30T16:55:46.825Z"
   },
   {
    "duration": 19,
    "start_time": "2022-11-30T16:56:02.568Z"
   },
   {
    "duration": 714,
    "start_time": "2022-11-30T16:56:05.884Z"
   },
   {
    "duration": 68,
    "start_time": "2022-11-30T16:56:29.077Z"
   },
   {
    "duration": 11,
    "start_time": "2022-11-30T16:57:34.342Z"
   },
   {
    "duration": 26,
    "start_time": "2022-11-30T16:57:42.775Z"
   },
   {
    "duration": 15,
    "start_time": "2022-11-30T16:58:09.961Z"
   },
   {
    "duration": 10,
    "start_time": "2022-11-30T16:58:35.002Z"
   },
   {
    "duration": 7,
    "start_time": "2022-11-30T16:58:44.714Z"
   },
   {
    "duration": 6,
    "start_time": "2022-11-30T16:59:21.299Z"
   },
   {
    "duration": 7,
    "start_time": "2022-11-30T16:59:56.936Z"
   },
   {
    "duration": 11,
    "start_time": "2022-11-30T17:00:15.797Z"
   },
   {
    "duration": 5,
    "start_time": "2022-11-30T17:00:49.216Z"
   },
   {
    "duration": 9,
    "start_time": "2022-11-30T17:00:59.601Z"
   },
   {
    "duration": 6,
    "start_time": "2022-11-30T17:01:04.611Z"
   },
   {
    "duration": 9,
    "start_time": "2022-11-30T17:01:37.737Z"
   },
   {
    "duration": 77,
    "start_time": "2022-11-30T17:01:54.192Z"
   },
   {
    "duration": 23,
    "start_time": "2022-11-30T17:02:00.471Z"
   },
   {
    "duration": 7,
    "start_time": "2022-11-30T17:03:08.884Z"
   },
   {
    "duration": 8,
    "start_time": "2022-11-30T17:03:28.299Z"
   },
   {
    "duration": 9,
    "start_time": "2022-11-30T17:03:34.851Z"
   },
   {
    "duration": 6,
    "start_time": "2022-11-30T17:03:37.575Z"
   },
   {
    "duration": 8,
    "start_time": "2022-11-30T17:03:53.507Z"
   },
   {
    "duration": 78,
    "start_time": "2022-11-30T17:04:06.251Z"
   },
   {
    "duration": 24,
    "start_time": "2022-11-30T17:04:10.013Z"
   },
   {
    "duration": 6,
    "start_time": "2022-11-30T17:04:14.262Z"
   },
   {
    "duration": 20,
    "start_time": "2022-11-30T17:05:01.557Z"
   },
   {
    "duration": 8,
    "start_time": "2022-11-30T17:05:12.346Z"
   },
   {
    "duration": 5,
    "start_time": "2022-11-30T17:05:20.744Z"
   },
   {
    "duration": 11,
    "start_time": "2022-11-30T17:05:34.139Z"
   },
   {
    "duration": 7,
    "start_time": "2022-11-30T17:05:38.896Z"
   },
   {
    "duration": 6,
    "start_time": "2022-11-30T17:05:44.414Z"
   },
   {
    "duration": 6,
    "start_time": "2022-11-30T17:06:23.762Z"
   },
   {
    "duration": 6,
    "start_time": "2022-11-30T17:06:34.716Z"
   },
   {
    "duration": 13,
    "start_time": "2022-11-30T17:08:24.652Z"
   },
   {
    "duration": 7,
    "start_time": "2022-11-30T17:08:54.257Z"
   },
   {
    "duration": 6,
    "start_time": "2022-11-30T17:09:05.456Z"
   },
   {
    "duration": 7,
    "start_time": "2022-11-30T17:09:15.131Z"
   },
   {
    "duration": 9,
    "start_time": "2022-11-30T17:09:24.567Z"
   },
   {
    "duration": 1170,
    "start_time": "2022-11-30T17:09:28.293Z"
   },
   {
    "duration": 68,
    "start_time": "2022-11-30T17:09:29.465Z"
   },
   {
    "duration": 15,
    "start_time": "2022-11-30T17:09:29.534Z"
   },
   {
    "duration": 8,
    "start_time": "2022-11-30T17:09:29.551Z"
   },
   {
    "duration": 5,
    "start_time": "2022-11-30T17:09:29.561Z"
   },
   {
    "duration": 16,
    "start_time": "2022-11-30T17:09:29.567Z"
   },
   {
    "duration": 44,
    "start_time": "2022-11-30T17:09:29.585Z"
   },
   {
    "duration": 21,
    "start_time": "2022-11-30T17:09:29.631Z"
   },
   {
    "duration": 21,
    "start_time": "2022-11-30T17:09:29.653Z"
   },
   {
    "duration": 21,
    "start_time": "2022-11-30T17:09:29.676Z"
   },
   {
    "duration": 7,
    "start_time": "2022-11-30T17:09:29.722Z"
   },
   {
    "duration": 15,
    "start_time": "2022-11-30T17:09:29.731Z"
   },
   {
    "duration": 3,
    "start_time": "2022-11-30T17:09:29.747Z"
   },
   {
    "duration": 7,
    "start_time": "2022-11-30T17:09:29.751Z"
   },
   {
    "duration": 17,
    "start_time": "2022-11-30T17:09:29.760Z"
   },
   {
    "duration": 18,
    "start_time": "2022-11-30T17:09:29.778Z"
   },
   {
    "duration": 424,
    "start_time": "2022-11-30T17:09:29.822Z"
   },
   {
    "duration": 385,
    "start_time": "2022-11-30T17:09:30.247Z"
   },
   {
    "duration": 337,
    "start_time": "2022-11-30T17:09:30.634Z"
   },
   {
    "duration": 6,
    "start_time": "2022-11-30T17:09:30.973Z"
   },
   {
    "duration": 235,
    "start_time": "2022-11-30T17:09:30.981Z"
   },
   {
    "duration": 191,
    "start_time": "2022-11-30T17:09:31.218Z"
   },
   {
    "duration": 30,
    "start_time": "2022-11-30T17:09:31.410Z"
   },
   {
    "duration": 244,
    "start_time": "2022-11-30T17:09:31.442Z"
   },
   {
    "duration": 321,
    "start_time": "2022-11-30T17:09:31.687Z"
   },
   {
    "duration": 13,
    "start_time": "2022-11-30T17:09:32.010Z"
   },
   {
    "duration": 172,
    "start_time": "2022-11-30T17:09:32.025Z"
   },
   {
    "duration": 7,
    "start_time": "2022-11-30T17:09:32.201Z"
   },
   {
    "duration": 180,
    "start_time": "2022-11-30T17:09:32.210Z"
   },
   {
    "duration": 37,
    "start_time": "2022-11-30T17:09:32.392Z"
   },
   {
    "duration": 5,
    "start_time": "2022-11-30T17:09:32.431Z"
   },
   {
    "duration": 20,
    "start_time": "2022-11-30T17:09:32.437Z"
   },
   {
    "duration": 239,
    "start_time": "2022-11-30T17:09:32.459Z"
   },
   {
    "duration": 251,
    "start_time": "2022-11-30T17:09:32.700Z"
   },
   {
    "duration": 531,
    "start_time": "2022-11-30T17:09:32.953Z"
   },
   {
    "duration": 17,
    "start_time": "2022-11-30T17:09:33.486Z"
   },
   {
    "duration": 768,
    "start_time": "2022-11-30T17:09:33.504Z"
   },
   {
    "duration": 16,
    "start_time": "2022-11-30T17:09:34.274Z"
   },
   {
    "duration": 9,
    "start_time": "2022-11-30T17:09:34.291Z"
   },
   {
    "duration": 24,
    "start_time": "2022-11-30T17:09:34.301Z"
   },
   {
    "duration": 6,
    "start_time": "2022-11-30T17:09:34.326Z"
   },
   {
    "duration": 9,
    "start_time": "2022-11-30T17:09:34.333Z"
   },
   {
    "duration": 7,
    "start_time": "2022-11-30T17:09:34.344Z"
   },
   {
    "duration": 6,
    "start_time": "2022-11-30T17:09:34.353Z"
   },
   {
    "duration": 8,
    "start_time": "2022-11-30T17:09:34.360Z"
   },
   {
    "duration": 7,
    "start_time": "2022-11-30T17:09:34.369Z"
   },
   {
    "duration": 72,
    "start_time": "2022-11-30T17:09:34.377Z"
   },
   {
    "duration": 0,
    "start_time": "2022-11-30T17:09:34.450Z"
   },
   {
    "duration": 7,
    "start_time": "2022-11-30T17:11:16.229Z"
   },
   {
    "duration": 8,
    "start_time": "2022-11-30T17:11:32.976Z"
   },
   {
    "duration": 7,
    "start_time": "2022-11-30T17:11:45.871Z"
   },
   {
    "duration": 6,
    "start_time": "2022-11-30T17:11:47.474Z"
   },
   {
    "duration": 7,
    "start_time": "2022-11-30T17:11:49.363Z"
   },
   {
    "duration": 9,
    "start_time": "2022-11-30T17:11:55.477Z"
   },
   {
    "duration": 6,
    "start_time": "2022-11-30T17:11:58.997Z"
   },
   {
    "duration": 7,
    "start_time": "2022-11-30T17:12:00.565Z"
   },
   {
    "duration": 6,
    "start_time": "2022-11-30T17:12:02.219Z"
   },
   {
    "duration": 7,
    "start_time": "2022-11-30T17:12:03.625Z"
   },
   {
    "duration": 7,
    "start_time": "2022-11-30T17:12:05.502Z"
   },
   {
    "duration": 10,
    "start_time": "2022-11-30T17:14:52.865Z"
   },
   {
    "duration": 10,
    "start_time": "2022-11-30T17:16:24.122Z"
   },
   {
    "duration": 9,
    "start_time": "2022-11-30T17:16:25.877Z"
   },
   {
    "duration": 1181,
    "start_time": "2022-11-30T17:19:47.786Z"
   },
   {
    "duration": 71,
    "start_time": "2022-11-30T17:19:48.969Z"
   },
   {
    "duration": 16,
    "start_time": "2022-11-30T17:19:49.041Z"
   },
   {
    "duration": 20,
    "start_time": "2022-11-30T17:19:49.060Z"
   },
   {
    "duration": 17,
    "start_time": "2022-11-30T17:19:49.083Z"
   },
   {
    "duration": 32,
    "start_time": "2022-11-30T17:19:49.102Z"
   },
   {
    "duration": 40,
    "start_time": "2022-11-30T17:19:49.136Z"
   },
   {
    "duration": 22,
    "start_time": "2022-11-30T17:19:49.177Z"
   },
   {
    "duration": 27,
    "start_time": "2022-11-30T17:19:49.202Z"
   },
   {
    "duration": 21,
    "start_time": "2022-11-30T17:19:49.231Z"
   },
   {
    "duration": 19,
    "start_time": "2022-11-30T17:19:49.254Z"
   },
   {
    "duration": 25,
    "start_time": "2022-11-30T17:19:49.274Z"
   },
   {
    "duration": 5,
    "start_time": "2022-11-30T17:19:49.300Z"
   },
   {
    "duration": 19,
    "start_time": "2022-11-30T17:19:49.307Z"
   },
   {
    "duration": 27,
    "start_time": "2022-11-30T17:19:49.328Z"
   },
   {
    "duration": 20,
    "start_time": "2022-11-30T17:19:49.357Z"
   },
   {
    "duration": 414,
    "start_time": "2022-11-30T17:19:49.379Z"
   },
   {
    "duration": 391,
    "start_time": "2022-11-30T17:19:49.794Z"
   },
   {
    "duration": 321,
    "start_time": "2022-11-30T17:19:50.186Z"
   },
   {
    "duration": 4,
    "start_time": "2022-11-30T17:19:50.509Z"
   },
   {
    "duration": 245,
    "start_time": "2022-11-30T17:19:50.515Z"
   },
   {
    "duration": 201,
    "start_time": "2022-11-30T17:19:50.762Z"
   },
   {
    "duration": 27,
    "start_time": "2022-11-30T17:19:50.965Z"
   },
   {
    "duration": 246,
    "start_time": "2022-11-30T17:19:50.994Z"
   },
   {
    "duration": 327,
    "start_time": "2022-11-30T17:19:51.242Z"
   },
   {
    "duration": 6,
    "start_time": "2022-11-30T17:19:51.571Z"
   },
   {
    "duration": 189,
    "start_time": "2022-11-30T17:19:51.580Z"
   },
   {
    "duration": 7,
    "start_time": "2022-11-30T17:19:51.772Z"
   },
   {
    "duration": 176,
    "start_time": "2022-11-30T17:19:51.780Z"
   },
   {
    "duration": 31,
    "start_time": "2022-11-30T17:19:51.958Z"
   },
   {
    "duration": 6,
    "start_time": "2022-11-30T17:19:51.990Z"
   },
   {
    "duration": 34,
    "start_time": "2022-11-30T17:19:51.997Z"
   },
   {
    "duration": 255,
    "start_time": "2022-11-30T17:19:52.033Z"
   },
   {
    "duration": 266,
    "start_time": "2022-11-30T17:19:52.289Z"
   },
   {
    "duration": 548,
    "start_time": "2022-11-30T17:19:52.557Z"
   },
   {
    "duration": 24,
    "start_time": "2022-11-30T17:19:53.106Z"
   },
   {
    "duration": 729,
    "start_time": "2022-11-30T17:19:53.132Z"
   },
   {
    "duration": 16,
    "start_time": "2022-11-30T17:19:53.863Z"
   },
   {
    "duration": 34,
    "start_time": "2022-11-30T17:19:53.881Z"
   },
   {
    "duration": 30,
    "start_time": "2022-11-30T17:19:53.916Z"
   },
   {
    "duration": 18,
    "start_time": "2022-11-30T17:19:53.947Z"
   },
   {
    "duration": 14,
    "start_time": "2022-11-30T17:19:53.966Z"
   },
   {
    "duration": 22,
    "start_time": "2022-11-30T17:19:53.981Z"
   },
   {
    "duration": 15,
    "start_time": "2022-11-30T17:19:54.004Z"
   },
   {
    "duration": 23,
    "start_time": "2022-11-30T17:19:54.020Z"
   },
   {
    "duration": 15,
    "start_time": "2022-11-30T17:19:54.045Z"
   },
   {
    "duration": 36,
    "start_time": "2022-11-30T17:19:54.062Z"
   },
   {
    "duration": 59,
    "start_time": "2022-12-01T11:06:11.065Z"
   },
   {
    "duration": 1400,
    "start_time": "2022-12-01T11:18:59.037Z"
   },
   {
    "duration": 217,
    "start_time": "2022-12-01T11:19:00.439Z"
   },
   {
    "duration": 19,
    "start_time": "2022-12-01T11:19:00.658Z"
   },
   {
    "duration": 24,
    "start_time": "2022-12-01T11:19:00.680Z"
   },
   {
    "duration": 28,
    "start_time": "2022-12-01T11:19:00.706Z"
   },
   {
    "duration": 42,
    "start_time": "2022-12-01T11:19:00.736Z"
   },
   {
    "duration": 34,
    "start_time": "2022-12-01T11:19:00.779Z"
   },
   {
    "duration": 22,
    "start_time": "2022-12-01T11:19:00.815Z"
   },
   {
    "duration": 31,
    "start_time": "2022-12-01T11:19:00.839Z"
   },
   {
    "duration": 36,
    "start_time": "2022-12-01T11:19:00.873Z"
   },
   {
    "duration": 18,
    "start_time": "2022-12-01T11:19:00.911Z"
   },
   {
    "duration": 55,
    "start_time": "2022-12-01T11:19:00.931Z"
   },
   {
    "duration": 31,
    "start_time": "2022-12-01T11:19:00.988Z"
   },
   {
    "duration": 35,
    "start_time": "2022-12-01T11:19:01.021Z"
   },
   {
    "duration": 45,
    "start_time": "2022-12-01T11:19:01.058Z"
   },
   {
    "duration": 36,
    "start_time": "2022-12-01T11:19:01.105Z"
   },
   {
    "duration": 427,
    "start_time": "2022-12-01T11:19:01.142Z"
   },
   {
    "duration": 6,
    "start_time": "2022-12-01T11:19:01.571Z"
   },
   {
    "duration": 304,
    "start_time": "2022-12-01T11:19:01.579Z"
   },
   {
    "duration": 284,
    "start_time": "2022-12-01T11:19:01.886Z"
   },
   {
    "duration": 5,
    "start_time": "2022-12-01T11:19:02.173Z"
   },
   {
    "duration": 263,
    "start_time": "2022-12-01T11:19:02.180Z"
   },
   {
    "duration": 266,
    "start_time": "2022-12-01T11:19:02.446Z"
   },
   {
    "duration": 33,
    "start_time": "2022-12-01T11:19:02.714Z"
   },
   {
    "duration": 282,
    "start_time": "2022-12-01T11:19:02.749Z"
   },
   {
    "duration": 229,
    "start_time": "2022-12-01T11:19:03.034Z"
   },
   {
    "duration": 10,
    "start_time": "2022-12-01T11:19:03.265Z"
   },
   {
    "duration": 289,
    "start_time": "2022-12-01T11:19:03.279Z"
   },
   {
    "duration": 9,
    "start_time": "2022-12-01T11:19:03.570Z"
   },
   {
    "duration": 185,
    "start_time": "2022-12-01T11:19:03.580Z"
   },
   {
    "duration": 47,
    "start_time": "2022-12-01T11:19:03.766Z"
   },
   {
    "duration": 7,
    "start_time": "2022-12-01T11:19:03.815Z"
   },
   {
    "duration": 17,
    "start_time": "2022-12-01T11:19:03.823Z"
   },
   {
    "duration": 275,
    "start_time": "2022-12-01T11:19:03.842Z"
   },
   {
    "duration": 302,
    "start_time": "2022-12-01T11:19:04.119Z"
   },
   {
    "duration": 561,
    "start_time": "2022-12-01T11:19:04.423Z"
   },
   {
    "duration": 27,
    "start_time": "2022-12-01T11:19:04.986Z"
   },
   {
    "duration": 793,
    "start_time": "2022-12-01T11:19:05.015Z"
   },
   {
    "duration": 19,
    "start_time": "2022-12-01T11:19:05.810Z"
   },
   {
    "duration": 9,
    "start_time": "2022-12-01T11:19:05.831Z"
   },
   {
    "duration": 68,
    "start_time": "2022-12-01T11:19:05.842Z"
   },
   {
    "duration": 13,
    "start_time": "2022-12-01T11:19:05.912Z"
   },
   {
    "duration": 11,
    "start_time": "2022-12-01T11:19:05.927Z"
   },
   {
    "duration": 8,
    "start_time": "2022-12-01T11:19:05.940Z"
   },
   {
    "duration": 14,
    "start_time": "2022-12-01T11:19:05.950Z"
   },
   {
    "duration": 45,
    "start_time": "2022-12-01T11:19:05.966Z"
   },
   {
    "duration": 16,
    "start_time": "2022-12-01T11:19:06.012Z"
   },
   {
    "duration": 12,
    "start_time": "2022-12-01T11:19:06.030Z"
   },
   {
    "duration": 1168,
    "start_time": "2022-12-01T11:30:46.528Z"
   },
   {
    "duration": 74,
    "start_time": "2022-12-01T11:30:47.698Z"
   },
   {
    "duration": 22,
    "start_time": "2022-12-01T11:30:47.774Z"
   },
   {
    "duration": 13,
    "start_time": "2022-12-01T11:30:47.799Z"
   },
   {
    "duration": 4,
    "start_time": "2022-12-01T11:30:47.814Z"
   },
   {
    "duration": 37,
    "start_time": "2022-12-01T11:30:47.820Z"
   },
   {
    "duration": 31,
    "start_time": "2022-12-01T11:30:47.859Z"
   },
   {
    "duration": 19,
    "start_time": "2022-12-01T11:30:47.892Z"
   },
   {
    "duration": 21,
    "start_time": "2022-12-01T11:30:47.913Z"
   },
   {
    "duration": 34,
    "start_time": "2022-12-01T11:30:47.936Z"
   },
   {
    "duration": 7,
    "start_time": "2022-12-01T11:30:47.972Z"
   },
   {
    "duration": 18,
    "start_time": "2022-12-01T11:30:47.981Z"
   },
   {
    "duration": 2,
    "start_time": "2022-12-01T11:30:48.004Z"
   },
   {
    "duration": 21,
    "start_time": "2022-12-01T11:30:48.008Z"
   },
   {
    "duration": 18,
    "start_time": "2022-12-01T11:30:48.030Z"
   },
   {
    "duration": 17,
    "start_time": "2022-12-01T11:30:48.050Z"
   },
   {
    "duration": 468,
    "start_time": "2022-12-01T11:30:48.068Z"
   },
   {
    "duration": 6,
    "start_time": "2022-12-01T11:30:48.537Z"
   },
   {
    "duration": 305,
    "start_time": "2022-12-01T11:30:48.544Z"
   },
   {
    "duration": 284,
    "start_time": "2022-12-01T11:30:48.851Z"
   },
   {
    "duration": 5,
    "start_time": "2022-12-01T11:30:49.137Z"
   },
   {
    "duration": 263,
    "start_time": "2022-12-01T11:30:49.144Z"
   },
   {
    "duration": 205,
    "start_time": "2022-12-01T11:30:49.408Z"
   },
   {
    "duration": 25,
    "start_time": "2022-12-01T11:30:49.615Z"
   },
   {
    "duration": 207,
    "start_time": "2022-12-01T11:30:49.641Z"
   },
   {
    "duration": 200,
    "start_time": "2022-12-01T11:30:49.849Z"
   },
   {
    "duration": 7,
    "start_time": "2022-12-01T11:30:50.051Z"
   },
   {
    "duration": 249,
    "start_time": "2022-12-01T11:30:50.061Z"
   },
   {
    "duration": 7,
    "start_time": "2022-12-01T11:30:50.311Z"
   },
   {
    "duration": 155,
    "start_time": "2022-12-01T11:30:50.319Z"
   },
   {
    "duration": 38,
    "start_time": "2022-12-01T11:30:50.476Z"
   },
   {
    "duration": 84,
    "start_time": "2022-12-01T11:30:50.516Z"
   },
   {
    "duration": 20,
    "start_time": "2022-12-01T11:30:50.601Z"
   },
   {
    "duration": 229,
    "start_time": "2022-12-01T11:30:50.623Z"
   },
   {
    "duration": 259,
    "start_time": "2022-12-01T11:30:50.854Z"
   },
   {
    "duration": 544,
    "start_time": "2022-12-01T11:30:51.116Z"
   },
   {
    "duration": 17,
    "start_time": "2022-12-01T11:30:51.661Z"
   },
   {
    "duration": 727,
    "start_time": "2022-12-01T11:30:51.680Z"
   },
   {
    "duration": 16,
    "start_time": "2022-12-01T11:30:52.409Z"
   },
   {
    "duration": 15,
    "start_time": "2022-12-01T11:30:52.427Z"
   },
   {
    "duration": 8,
    "start_time": "2022-12-01T11:30:52.443Z"
   },
   {
    "duration": 9,
    "start_time": "2022-12-01T11:30:52.453Z"
   },
   {
    "duration": 11,
    "start_time": "2022-12-01T11:30:52.463Z"
   },
   {
    "duration": 32,
    "start_time": "2022-12-01T11:30:52.475Z"
   },
   {
    "duration": 8,
    "start_time": "2022-12-01T11:30:52.509Z"
   },
   {
    "duration": 8,
    "start_time": "2022-12-01T11:30:52.519Z"
   },
   {
    "duration": 17,
    "start_time": "2022-12-01T11:30:52.528Z"
   },
   {
    "duration": 18,
    "start_time": "2022-12-01T11:30:52.547Z"
   },
   {
    "duration": 5,
    "start_time": "2022-12-01T11:31:42.090Z"
   },
   {
    "duration": 1099,
    "start_time": "2022-12-01T11:32:49.557Z"
   },
   {
    "duration": 68,
    "start_time": "2022-12-01T11:32:50.659Z"
   },
   {
    "duration": 14,
    "start_time": "2022-12-01T11:32:50.728Z"
   },
   {
    "duration": 9,
    "start_time": "2022-12-01T11:32:50.744Z"
   },
   {
    "duration": 8,
    "start_time": "2022-12-01T11:32:50.755Z"
   },
   {
    "duration": 22,
    "start_time": "2022-12-01T11:32:50.764Z"
   },
   {
    "duration": 30,
    "start_time": "2022-12-01T11:32:50.788Z"
   },
   {
    "duration": 19,
    "start_time": "2022-12-01T11:32:50.820Z"
   },
   {
    "duration": 21,
    "start_time": "2022-12-01T11:32:50.840Z"
   },
   {
    "duration": 19,
    "start_time": "2022-12-01T11:32:50.863Z"
   },
   {
    "duration": 8,
    "start_time": "2022-12-01T11:32:50.904Z"
   },
   {
    "duration": 18,
    "start_time": "2022-12-01T11:32:50.913Z"
   },
   {
    "duration": 2,
    "start_time": "2022-12-01T11:32:50.932Z"
   },
   {
    "duration": 18,
    "start_time": "2022-12-01T11:32:50.936Z"
   },
   {
    "duration": 19,
    "start_time": "2022-12-01T11:32:50.955Z"
   },
   {
    "duration": 15,
    "start_time": "2022-12-01T11:32:50.975Z"
   },
   {
    "duration": 397,
    "start_time": "2022-12-01T11:32:50.992Z"
   },
   {
    "duration": 5,
    "start_time": "2022-12-01T11:32:51.390Z"
   },
   {
    "duration": 281,
    "start_time": "2022-12-01T11:32:51.396Z"
   },
   {
    "duration": 260,
    "start_time": "2022-12-01T11:32:51.679Z"
   },
   {
    "duration": 5,
    "start_time": "2022-12-01T11:32:51.940Z"
   },
   {
    "duration": 260,
    "start_time": "2022-12-01T11:32:51.946Z"
   },
   {
    "duration": 208,
    "start_time": "2022-12-01T11:32:52.208Z"
   },
   {
    "duration": 27,
    "start_time": "2022-12-01T11:32:52.418Z"
   },
   {
    "duration": 233,
    "start_time": "2022-12-01T11:32:52.447Z"
   },
   {
    "duration": 198,
    "start_time": "2022-12-01T11:32:52.681Z"
   },
   {
    "duration": 6,
    "start_time": "2022-12-01T11:32:52.881Z"
   },
   {
    "duration": 237,
    "start_time": "2022-12-01T11:32:52.904Z"
   },
   {
    "duration": 9,
    "start_time": "2022-12-01T11:32:53.143Z"
   },
   {
    "duration": 165,
    "start_time": "2022-12-01T11:32:53.154Z"
   },
   {
    "duration": 28,
    "start_time": "2022-12-01T11:32:53.322Z"
   },
   {
    "duration": 5,
    "start_time": "2022-12-01T11:32:53.352Z"
   },
   {
    "duration": 31,
    "start_time": "2022-12-01T11:32:53.358Z"
   },
   {
    "duration": 242,
    "start_time": "2022-12-01T11:32:53.390Z"
   },
   {
    "duration": 280,
    "start_time": "2022-12-01T11:32:53.633Z"
   },
   {
    "duration": 543,
    "start_time": "2022-12-01T11:32:53.915Z"
   },
   {
    "duration": 16,
    "start_time": "2022-12-01T11:32:54.461Z"
   },
   {
    "duration": 716,
    "start_time": "2022-12-01T11:32:54.479Z"
   },
   {
    "duration": 20,
    "start_time": "2022-12-01T11:32:55.196Z"
   },
   {
    "duration": 23,
    "start_time": "2022-12-01T11:32:55.218Z"
   },
   {
    "duration": 8,
    "start_time": "2022-12-01T11:32:55.243Z"
   },
   {
    "duration": 13,
    "start_time": "2022-12-01T11:32:55.253Z"
   },
   {
    "duration": 18,
    "start_time": "2022-12-01T11:32:55.267Z"
   },
   {
    "duration": 24,
    "start_time": "2022-12-01T11:32:55.287Z"
   },
   {
    "duration": 10,
    "start_time": "2022-12-01T11:32:55.313Z"
   },
   {
    "duration": 11,
    "start_time": "2022-12-01T11:32:55.325Z"
   },
   {
    "duration": 10,
    "start_time": "2022-12-01T11:32:55.338Z"
   },
   {
    "duration": 10,
    "start_time": "2022-12-01T11:32:55.349Z"
   },
   {
    "duration": 223,
    "start_time": "2022-12-01T11:34:56.989Z"
   },
   {
    "duration": 205,
    "start_time": "2022-12-01T11:35:02.853Z"
   },
   {
    "duration": 324,
    "start_time": "2022-12-01T11:35:08.026Z"
   },
   {
    "duration": 234,
    "start_time": "2022-12-01T11:35:13.143Z"
   }
  ],
  "kernelspec": {
   "display_name": "Python 3 (ipykernel)",
   "language": "python",
   "name": "python3"
  },
  "language_info": {
   "codemirror_mode": {
    "name": "ipython",
    "version": 3
   },
   "file_extension": ".py",
   "mimetype": "text/x-python",
   "name": "python",
   "nbconvert_exporter": "python",
   "pygments_lexer": "ipython3",
   "version": "3.9.13"
  },
  "toc": {
   "base_numbering": 1,
   "nav_menu": {},
   "number_sections": true,
   "sideBar": true,
   "skip_h1_title": true,
   "title_cell": "Table of Contents",
   "title_sidebar": "Contents",
   "toc_cell": false,
   "toc_position": {},
   "toc_section_display": true,
   "toc_window_display": false
  }
 },
 "nbformat": 4,
 "nbformat_minor": 2
}
