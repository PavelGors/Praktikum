{
 "cells": [
  {
   "cell_type": "markdown",
   "metadata": {},
   "source": [
    "-------"
   ]
  },
  {
   "cell_type": "markdown",
   "metadata": {},
   "source": [
    "# Продажа квартир в Санкт-Петербурге — анализ рынка недвижимости\n",
    "\n",
    "В вашем распоряжении данные сервиса Яндекс.Недвижимость — архив объявлений о продаже квартир в Санкт-Петербурге и соседних населённых пунктов за несколько лет. Нужно научиться определять рыночную стоимость объектов недвижимости. Ваша задача — установить параметры. Это позволит построить автоматизированную систему: она отследит аномалии и мошенническую деятельность. \n",
    "\n",
    "По каждой квартире на продажу доступны два вида данных. Первые вписаны пользователем, вторые — получены автоматически на основе картографических данных. Например, расстояние до центра, аэропорта, ближайшего парка и водоёма. "
   ]
  },
  {
   "cell_type": "markdown",
   "metadata": {},
   "source": [
    "### Откройте файл с данными и изучите общую информацию. "
   ]
  },
  {
   "cell_type": "code",
   "execution_count": 1,
   "metadata": {},
   "outputs": [],
   "source": [
    "import pandas as pd \n",
    "import matplotlib.pyplot as plt\n",
    "data = pd.read_csv('/datasets/real_estate_data.csv', sep = '\\t')\n",
    "pd.set_option('display.float_format', lambda x: '%.5f' % x)\n",
    "# добавляем библиотеки и открываем файл"
   ]
  },
  {
   "cell_type": "code",
   "execution_count": 2,
   "metadata": {},
   "outputs": [
    {
     "data": {
      "text/html": [
       "<div>\n",
       "<style scoped>\n",
       "    .dataframe tbody tr th:only-of-type {\n",
       "        vertical-align: middle;\n",
       "    }\n",
       "\n",
       "    .dataframe tbody tr th {\n",
       "        vertical-align: top;\n",
       "    }\n",
       "\n",
       "    .dataframe thead th {\n",
       "        text-align: right;\n",
       "    }\n",
       "</style>\n",
       "<table border=\"1\" class=\"dataframe\">\n",
       "  <thead>\n",
       "    <tr style=\"text-align: right;\">\n",
       "      <th></th>\n",
       "      <th>total_images</th>\n",
       "      <th>last_price</th>\n",
       "      <th>total_area</th>\n",
       "      <th>first_day_exposition</th>\n",
       "      <th>rooms</th>\n",
       "      <th>ceiling_height</th>\n",
       "      <th>floors_total</th>\n",
       "      <th>living_area</th>\n",
       "      <th>floor</th>\n",
       "      <th>is_apartment</th>\n",
       "      <th>...</th>\n",
       "      <th>kitchen_area</th>\n",
       "      <th>balcony</th>\n",
       "      <th>locality_name</th>\n",
       "      <th>airports_nearest</th>\n",
       "      <th>cityCenters_nearest</th>\n",
       "      <th>parks_around3000</th>\n",
       "      <th>parks_nearest</th>\n",
       "      <th>ponds_around3000</th>\n",
       "      <th>ponds_nearest</th>\n",
       "      <th>days_exposition</th>\n",
       "    </tr>\n",
       "  </thead>\n",
       "  <tbody>\n",
       "    <tr>\n",
       "      <th>0</th>\n",
       "      <td>20</td>\n",
       "      <td>13000000.00000</td>\n",
       "      <td>108.00000</td>\n",
       "      <td>2019-03-07T00:00:00</td>\n",
       "      <td>3</td>\n",
       "      <td>2.70000</td>\n",
       "      <td>16.00000</td>\n",
       "      <td>51.00000</td>\n",
       "      <td>8</td>\n",
       "      <td>NaN</td>\n",
       "      <td>...</td>\n",
       "      <td>25.00000</td>\n",
       "      <td>NaN</td>\n",
       "      <td>Санкт-Петербург</td>\n",
       "      <td>18863.00000</td>\n",
       "      <td>16028.00000</td>\n",
       "      <td>1.00000</td>\n",
       "      <td>482.00000</td>\n",
       "      <td>2.00000</td>\n",
       "      <td>755.00000</td>\n",
       "      <td>NaN</td>\n",
       "    </tr>\n",
       "    <tr>\n",
       "      <th>1</th>\n",
       "      <td>7</td>\n",
       "      <td>3350000.00000</td>\n",
       "      <td>40.40000</td>\n",
       "      <td>2018-12-04T00:00:00</td>\n",
       "      <td>1</td>\n",
       "      <td>NaN</td>\n",
       "      <td>11.00000</td>\n",
       "      <td>18.60000</td>\n",
       "      <td>1</td>\n",
       "      <td>NaN</td>\n",
       "      <td>...</td>\n",
       "      <td>11.00000</td>\n",
       "      <td>2.00000</td>\n",
       "      <td>посёлок Шушары</td>\n",
       "      <td>12817.00000</td>\n",
       "      <td>18603.00000</td>\n",
       "      <td>0.00000</td>\n",
       "      <td>NaN</td>\n",
       "      <td>0.00000</td>\n",
       "      <td>NaN</td>\n",
       "      <td>81.00000</td>\n",
       "    </tr>\n",
       "    <tr>\n",
       "      <th>2</th>\n",
       "      <td>10</td>\n",
       "      <td>5196000.00000</td>\n",
       "      <td>56.00000</td>\n",
       "      <td>2015-08-20T00:00:00</td>\n",
       "      <td>2</td>\n",
       "      <td>NaN</td>\n",
       "      <td>5.00000</td>\n",
       "      <td>34.30000</td>\n",
       "      <td>4</td>\n",
       "      <td>NaN</td>\n",
       "      <td>...</td>\n",
       "      <td>8.30000</td>\n",
       "      <td>0.00000</td>\n",
       "      <td>Санкт-Петербург</td>\n",
       "      <td>21741.00000</td>\n",
       "      <td>13933.00000</td>\n",
       "      <td>1.00000</td>\n",
       "      <td>90.00000</td>\n",
       "      <td>2.00000</td>\n",
       "      <td>574.00000</td>\n",
       "      <td>558.00000</td>\n",
       "    </tr>\n",
       "    <tr>\n",
       "      <th>3</th>\n",
       "      <td>0</td>\n",
       "      <td>64900000.00000</td>\n",
       "      <td>159.00000</td>\n",
       "      <td>2015-07-24T00:00:00</td>\n",
       "      <td>3</td>\n",
       "      <td>NaN</td>\n",
       "      <td>14.00000</td>\n",
       "      <td>NaN</td>\n",
       "      <td>9</td>\n",
       "      <td>NaN</td>\n",
       "      <td>...</td>\n",
       "      <td>NaN</td>\n",
       "      <td>0.00000</td>\n",
       "      <td>Санкт-Петербург</td>\n",
       "      <td>28098.00000</td>\n",
       "      <td>6800.00000</td>\n",
       "      <td>2.00000</td>\n",
       "      <td>84.00000</td>\n",
       "      <td>3.00000</td>\n",
       "      <td>234.00000</td>\n",
       "      <td>424.00000</td>\n",
       "    </tr>\n",
       "    <tr>\n",
       "      <th>4</th>\n",
       "      <td>2</td>\n",
       "      <td>10000000.00000</td>\n",
       "      <td>100.00000</td>\n",
       "      <td>2018-06-19T00:00:00</td>\n",
       "      <td>2</td>\n",
       "      <td>3.03000</td>\n",
       "      <td>14.00000</td>\n",
       "      <td>32.00000</td>\n",
       "      <td>13</td>\n",
       "      <td>NaN</td>\n",
       "      <td>...</td>\n",
       "      <td>41.00000</td>\n",
       "      <td>NaN</td>\n",
       "      <td>Санкт-Петербург</td>\n",
       "      <td>31856.00000</td>\n",
       "      <td>8098.00000</td>\n",
       "      <td>2.00000</td>\n",
       "      <td>112.00000</td>\n",
       "      <td>1.00000</td>\n",
       "      <td>48.00000</td>\n",
       "      <td>121.00000</td>\n",
       "    </tr>\n",
       "    <tr>\n",
       "      <th>5</th>\n",
       "      <td>10</td>\n",
       "      <td>2890000.00000</td>\n",
       "      <td>30.40000</td>\n",
       "      <td>2018-09-10T00:00:00</td>\n",
       "      <td>1</td>\n",
       "      <td>NaN</td>\n",
       "      <td>12.00000</td>\n",
       "      <td>14.40000</td>\n",
       "      <td>5</td>\n",
       "      <td>NaN</td>\n",
       "      <td>...</td>\n",
       "      <td>9.10000</td>\n",
       "      <td>NaN</td>\n",
       "      <td>городской посёлок Янино-1</td>\n",
       "      <td>NaN</td>\n",
       "      <td>NaN</td>\n",
       "      <td>NaN</td>\n",
       "      <td>NaN</td>\n",
       "      <td>NaN</td>\n",
       "      <td>NaN</td>\n",
       "      <td>55.00000</td>\n",
       "    </tr>\n",
       "    <tr>\n",
       "      <th>6</th>\n",
       "      <td>6</td>\n",
       "      <td>3700000.00000</td>\n",
       "      <td>37.30000</td>\n",
       "      <td>2017-11-02T00:00:00</td>\n",
       "      <td>1</td>\n",
       "      <td>NaN</td>\n",
       "      <td>26.00000</td>\n",
       "      <td>10.60000</td>\n",
       "      <td>6</td>\n",
       "      <td>NaN</td>\n",
       "      <td>...</td>\n",
       "      <td>14.40000</td>\n",
       "      <td>1.00000</td>\n",
       "      <td>посёлок Парголово</td>\n",
       "      <td>52996.00000</td>\n",
       "      <td>19143.00000</td>\n",
       "      <td>0.00000</td>\n",
       "      <td>NaN</td>\n",
       "      <td>0.00000</td>\n",
       "      <td>NaN</td>\n",
       "      <td>155.00000</td>\n",
       "    </tr>\n",
       "    <tr>\n",
       "      <th>7</th>\n",
       "      <td>5</td>\n",
       "      <td>7915000.00000</td>\n",
       "      <td>71.60000</td>\n",
       "      <td>2019-04-18T00:00:00</td>\n",
       "      <td>2</td>\n",
       "      <td>NaN</td>\n",
       "      <td>24.00000</td>\n",
       "      <td>NaN</td>\n",
       "      <td>22</td>\n",
       "      <td>NaN</td>\n",
       "      <td>...</td>\n",
       "      <td>18.90000</td>\n",
       "      <td>2.00000</td>\n",
       "      <td>Санкт-Петербург</td>\n",
       "      <td>23982.00000</td>\n",
       "      <td>11634.00000</td>\n",
       "      <td>0.00000</td>\n",
       "      <td>NaN</td>\n",
       "      <td>0.00000</td>\n",
       "      <td>NaN</td>\n",
       "      <td>NaN</td>\n",
       "    </tr>\n",
       "    <tr>\n",
       "      <th>8</th>\n",
       "      <td>20</td>\n",
       "      <td>2900000.00000</td>\n",
       "      <td>33.16000</td>\n",
       "      <td>2018-05-23T00:00:00</td>\n",
       "      <td>1</td>\n",
       "      <td>NaN</td>\n",
       "      <td>27.00000</td>\n",
       "      <td>15.43000</td>\n",
       "      <td>26</td>\n",
       "      <td>NaN</td>\n",
       "      <td>...</td>\n",
       "      <td>8.81000</td>\n",
       "      <td>NaN</td>\n",
       "      <td>посёлок Мурино</td>\n",
       "      <td>NaN</td>\n",
       "      <td>NaN</td>\n",
       "      <td>NaN</td>\n",
       "      <td>NaN</td>\n",
       "      <td>NaN</td>\n",
       "      <td>NaN</td>\n",
       "      <td>189.00000</td>\n",
       "    </tr>\n",
       "    <tr>\n",
       "      <th>9</th>\n",
       "      <td>18</td>\n",
       "      <td>5400000.00000</td>\n",
       "      <td>61.00000</td>\n",
       "      <td>2017-02-26T00:00:00</td>\n",
       "      <td>3</td>\n",
       "      <td>2.50000</td>\n",
       "      <td>9.00000</td>\n",
       "      <td>43.60000</td>\n",
       "      <td>7</td>\n",
       "      <td>NaN</td>\n",
       "      <td>...</td>\n",
       "      <td>6.50000</td>\n",
       "      <td>2.00000</td>\n",
       "      <td>Санкт-Петербург</td>\n",
       "      <td>50898.00000</td>\n",
       "      <td>15008.00000</td>\n",
       "      <td>0.00000</td>\n",
       "      <td>NaN</td>\n",
       "      <td>0.00000</td>\n",
       "      <td>NaN</td>\n",
       "      <td>289.00000</td>\n",
       "    </tr>\n",
       "  </tbody>\n",
       "</table>\n",
       "<p>10 rows × 22 columns</p>\n",
       "</div>"
      ],
      "text/plain": [
       "   total_images     last_price  total_area first_day_exposition  rooms  \\\n",
       "0            20 13000000.00000   108.00000  2019-03-07T00:00:00      3   \n",
       "1             7  3350000.00000    40.40000  2018-12-04T00:00:00      1   \n",
       "2            10  5196000.00000    56.00000  2015-08-20T00:00:00      2   \n",
       "3             0 64900000.00000   159.00000  2015-07-24T00:00:00      3   \n",
       "4             2 10000000.00000   100.00000  2018-06-19T00:00:00      2   \n",
       "5            10  2890000.00000    30.40000  2018-09-10T00:00:00      1   \n",
       "6             6  3700000.00000    37.30000  2017-11-02T00:00:00      1   \n",
       "7             5  7915000.00000    71.60000  2019-04-18T00:00:00      2   \n",
       "8            20  2900000.00000    33.16000  2018-05-23T00:00:00      1   \n",
       "9            18  5400000.00000    61.00000  2017-02-26T00:00:00      3   \n",
       "\n",
       "   ceiling_height  floors_total  living_area  floor is_apartment  ...  \\\n",
       "0         2.70000      16.00000     51.00000      8          NaN  ...   \n",
       "1             NaN      11.00000     18.60000      1          NaN  ...   \n",
       "2             NaN       5.00000     34.30000      4          NaN  ...   \n",
       "3             NaN      14.00000          NaN      9          NaN  ...   \n",
       "4         3.03000      14.00000     32.00000     13          NaN  ...   \n",
       "5             NaN      12.00000     14.40000      5          NaN  ...   \n",
       "6             NaN      26.00000     10.60000      6          NaN  ...   \n",
       "7             NaN      24.00000          NaN     22          NaN  ...   \n",
       "8             NaN      27.00000     15.43000     26          NaN  ...   \n",
       "9         2.50000       9.00000     43.60000      7          NaN  ...   \n",
       "\n",
       "   kitchen_area  balcony              locality_name  airports_nearest  \\\n",
       "0      25.00000      NaN            Санкт-Петербург       18863.00000   \n",
       "1      11.00000  2.00000             посёлок Шушары       12817.00000   \n",
       "2       8.30000  0.00000            Санкт-Петербург       21741.00000   \n",
       "3           NaN  0.00000            Санкт-Петербург       28098.00000   \n",
       "4      41.00000      NaN            Санкт-Петербург       31856.00000   \n",
       "5       9.10000      NaN  городской посёлок Янино-1               NaN   \n",
       "6      14.40000  1.00000          посёлок Парголово       52996.00000   \n",
       "7      18.90000  2.00000            Санкт-Петербург       23982.00000   \n",
       "8       8.81000      NaN             посёлок Мурино               NaN   \n",
       "9       6.50000  2.00000            Санкт-Петербург       50898.00000   \n",
       "\n",
       "  cityCenters_nearest  parks_around3000  parks_nearest  ponds_around3000  \\\n",
       "0         16028.00000           1.00000      482.00000           2.00000   \n",
       "1         18603.00000           0.00000            NaN           0.00000   \n",
       "2         13933.00000           1.00000       90.00000           2.00000   \n",
       "3          6800.00000           2.00000       84.00000           3.00000   \n",
       "4          8098.00000           2.00000      112.00000           1.00000   \n",
       "5                 NaN               NaN            NaN               NaN   \n",
       "6         19143.00000           0.00000            NaN           0.00000   \n",
       "7         11634.00000           0.00000            NaN           0.00000   \n",
       "8                 NaN               NaN            NaN               NaN   \n",
       "9         15008.00000           0.00000            NaN           0.00000   \n",
       "\n",
       "   ponds_nearest  days_exposition  \n",
       "0      755.00000              NaN  \n",
       "1            NaN         81.00000  \n",
       "2      574.00000        558.00000  \n",
       "3      234.00000        424.00000  \n",
       "4       48.00000        121.00000  \n",
       "5            NaN         55.00000  \n",
       "6            NaN        155.00000  \n",
       "7            NaN              NaN  \n",
       "8            NaN        189.00000  \n",
       "9            NaN        289.00000  \n",
       "\n",
       "[10 rows x 22 columns]"
      ]
     },
     "execution_count": 2,
     "metadata": {},
     "output_type": "execute_result"
    }
   ],
   "source": [
    "data.head(10) # смотрим первые 10 строк"
   ]
  },
  {
   "cell_type": "code",
   "execution_count": 3,
   "metadata": {},
   "outputs": [
    {
     "name": "stdout",
     "output_type": "stream",
     "text": [
      "<class 'pandas.core.frame.DataFrame'>\n",
      "RangeIndex: 23699 entries, 0 to 23698\n",
      "Data columns (total 22 columns):\n",
      " #   Column                Non-Null Count  Dtype  \n",
      "---  ------                --------------  -----  \n",
      " 0   total_images          23699 non-null  int64  \n",
      " 1   last_price            23699 non-null  float64\n",
      " 2   total_area            23699 non-null  float64\n",
      " 3   first_day_exposition  23699 non-null  object \n",
      " 4   rooms                 23699 non-null  int64  \n",
      " 5   ceiling_height        14504 non-null  float64\n",
      " 6   floors_total          23613 non-null  float64\n",
      " 7   living_area           21796 non-null  float64\n",
      " 8   floor                 23699 non-null  int64  \n",
      " 9   is_apartment          2775 non-null   object \n",
      " 10  studio                23699 non-null  bool   \n",
      " 11  open_plan             23699 non-null  bool   \n",
      " 12  kitchen_area          21421 non-null  float64\n",
      " 13  balcony               12180 non-null  float64\n",
      " 14  locality_name         23650 non-null  object \n",
      " 15  airports_nearest      18157 non-null  float64\n",
      " 16  cityCenters_nearest   18180 non-null  float64\n",
      " 17  parks_around3000      18181 non-null  float64\n",
      " 18  parks_nearest         8079 non-null   float64\n",
      " 19  ponds_around3000      18181 non-null  float64\n",
      " 20  ponds_nearest         9110 non-null   float64\n",
      " 21  days_exposition       20518 non-null  float64\n",
      "dtypes: bool(2), float64(14), int64(3), object(3)\n",
      "memory usage: 3.7+ MB\n"
     ]
    }
   ],
   "source": [
    "data.info() # инфо по данным"
   ]
  },
  {
   "cell_type": "code",
   "execution_count": 4,
   "metadata": {},
   "outputs": [
    {
     "data": {
      "text/plain": [
       "array([[<AxesSubplot:title={'center':'total_images'}>,\n",
       "        <AxesSubplot:title={'center':'last_price'}>,\n",
       "        <AxesSubplot:title={'center':'total_area'}>,\n",
       "        <AxesSubplot:title={'center':'rooms'}>],\n",
       "       [<AxesSubplot:title={'center':'ceiling_height'}>,\n",
       "        <AxesSubplot:title={'center':'floors_total'}>,\n",
       "        <AxesSubplot:title={'center':'living_area'}>,\n",
       "        <AxesSubplot:title={'center':'floor'}>],\n",
       "       [<AxesSubplot:title={'center':'kitchen_area'}>,\n",
       "        <AxesSubplot:title={'center':'balcony'}>,\n",
       "        <AxesSubplot:title={'center':'airports_nearest'}>,\n",
       "        <AxesSubplot:title={'center':'cityCenters_nearest'}>],\n",
       "       [<AxesSubplot:title={'center':'parks_around3000'}>,\n",
       "        <AxesSubplot:title={'center':'parks_nearest'}>,\n",
       "        <AxesSubplot:title={'center':'ponds_around3000'}>,\n",
       "        <AxesSubplot:title={'center':'ponds_nearest'}>],\n",
       "       [<AxesSubplot:title={'center':'days_exposition'}>, <AxesSubplot:>,\n",
       "        <AxesSubplot:>, <AxesSubplot:>]], dtype=object)"
      ]
     },
     "execution_count": 4,
     "metadata": {},
     "output_type": "execute_result"
    },
    {
     "data": {
      "image/png": "[encoded data removed]",
      "text/plain": [
       "<Figure size 1080x1440 with 20 Axes>"
      ]
     },
     "metadata": {
      "needs_background": "light"
     },
     "output_type": "display_data"
    }
   ],
   "source": [
    "data.hist(figsize=(15, 20))"
   ]
  },
  {
   "cell_type": "code",
   "execution_count": 5,
   "metadata": {},
   "outputs": [
    {
     "data": {
      "text/plain": [
       "total_images                0\n",
       "last_price                  0\n",
       "total_area                  0\n",
       "first_day_exposition        0\n",
       "rooms                       0\n",
       "ceiling_height           9195\n",
       "floors_total               86\n",
       "living_area              1903\n",
       "floor                       0\n",
       "is_apartment            20924\n",
       "studio                      0\n",
       "open_plan                   0\n",
       "kitchen_area             2278\n",
       "balcony                 11519\n",
       "locality_name              49\n",
       "airports_nearest         5542\n",
       "cityCenters_nearest      5519\n",
       "parks_around3000         5518\n",
       "parks_nearest           15620\n",
       "ponds_around3000         5518\n",
       "ponds_nearest           14589\n",
       "days_exposition          3181\n",
       "dtype: int64"
      ]
     },
     "execution_count": 5,
     "metadata": {},
     "output_type": "execute_result"
    }
   ],
   "source": [
    "# проверим значения через value_counts() и unique()\n",
    "#data[''].value_counts().sort_index()\n",
    "# data[''].unique()\n",
    "data.isna().sum()\n"
   ]
  },
  {
   "cell_type": "markdown",
   "metadata": {},
   "source": [
    "Вывод по данным \n",
    "\n",
    "- **0   total_images          23699 non-null  int64**    - пропусков нет, не трогаем данные\n",
    "- **1   last_price            23699 non-null  float64**  - пропусков нет, не трогаем данные\n",
    "- **2   total_area            23699 non-null  float64**  - пропусков нет, не трогаем данные, слегка смущают площади ~900, может это дома или пентхаусы (в задании указано, что это квартиры, но лучше уточнить такие данные)\n",
    "- **3   first_day_exposition  23699 non-null  object**   - пропусков нет, заменить тип данный на дату/время\n",
    "- **4   rooms                 23699 non-null  int64**    - пропусков нет, в кол-ве комнат есть нули, не трогаем данные\n",
    "- **5   ceiling_height        14504 non-null  float64**  - есть пропуски, есть значения, которые нужно проверить, слишком высокие потолки.\n",
    "- **6   floors_total          23613 non-null  float64**  - есть пропуски, заменить на нули, целые числа, заменить на int\n",
    "- **7   living_area           21796 non-null  float64**  - есть пропуски, заменить на нули\n",
    "- **8   floor                 23699 non-null  int64**    - пропусков нет\n",
    "- **9   is_apartment          2775 non-null   object**   - есть пропуски, сюдя по заполненным ячейкам нужно заменить тип на bool\n",
    "- **10  studio                23699 non-null  bool**     - пропусков нет, не трогаем данные\n",
    "- **11  open_plan             23699 non-null  bool**     - пропусков нет, не трогаем данные\n",
    "- **12  kitchen_area          21421 non-null  float64**  - есть пропуски, заполним нулями, опять же есть большие значения, но с учетом большой площади некоторых квартир - возможно все\n",
    "- **13  balcony               12180 non-null  float64**  - есть пропуски, заменить на нули, кол-во балконов - заменить на int\n",
    "- **14  locality_name         23650 non-null  object**   - есть пропуски, менять нечем, исправить ё на е и тому подобное, возможно лучше оставить только названия населенных пунктов\n",
    "- **15  airports_nearest      18157 non-null  float64**  - есть пропуски, заменить на нули\n",
    "- **16  cityCenters_nearest   18180 non-null  float64**  - есть пропуски, заменить на нули\n",
    "- **17  parks_around3000      18181 non-null  float64**  - есть пропуски, заменить на нули, кол-во значение - перевести в int\n",
    "- **18  parks_nearest         8079 non-null   float64**  - есть пропуски, заменить на нули\n",
    "- **19  ponds_around3000      18181 non-null  float64**  - есть пропуски, заменить на нули, кол-во значение - перевести в int\n",
    "- **20  ponds_nearest         9110 non-null   float64**  - есть пропуски, заменить на нули\n",
    "- **21  days_exposition       20518 non-null  float64**  - есть пропуски, заменить на нули, кол-во значение - перевести в int"
   ]
  },
  {
   "cell_type": "markdown",
   "metadata": {},
   "source": [
    "### Предобработка данных"
   ]
  },
  {
   "cell_type": "code",
   "execution_count": 6,
   "metadata": {},
   "outputs": [
    {
     "data": {
      "text/plain": [
       "2018-02-01    368\n",
       "2017-11-10    240\n",
       "2017-10-13    124\n",
       "2017-09-27    111\n",
       "2018-03-26     97\n",
       "             ... \n",
       "2015-05-17      1\n",
       "2017-01-06      1\n",
       "2016-12-30      1\n",
       "2016-07-06      1\n",
       "2015-03-27      1\n",
       "Name: first_day_exposition, Length: 1491, dtype: int64"
      ]
     },
     "execution_count": 6,
     "metadata": {},
     "output_type": "execute_result"
    }
   ],
   "source": [
    "# переведем в дату, времени в базе нет\n",
    "data['first_day_exposition'] = pd.to_datetime(data['first_day_exposition'], format = '%Y-%m-%d') \n",
    "data['first_day_exposition'].value_counts() # проверим"
   ]
  },
  {
   "cell_type": "code",
   "execution_count": 7,
   "metadata": {},
   "outputs": [
    {
     "data": {
      "text/plain": [
       "array([ 2.7 ,  0.  ,  3.03,  2.5 ,  2.67,  2.56,  3.05,  2.75,  2.6 ,\n",
       "        2.9 ,  2.8 ,  2.55,  3.  ,  2.65,  3.2 ,  2.61,  3.25,  3.45,\n",
       "        2.77,  2.85,  2.64,  2.57,  4.15,  3.5 ,  3.3 ,  2.71,  4.  ,\n",
       "        2.47,  2.73,  2.84,  3.1 ,  2.34,  3.4 ,  3.06,  2.72,  2.54,\n",
       "        2.51,  2.78,  2.76,  2.58,  3.7 ,  2.52,  5.2 ,  2.87,  2.66,\n",
       "        2.59,  2.  ,  2.45,  3.6 ,  2.92,  3.11,  3.13,  3.8 ,  3.15,\n",
       "        3.55,  3.16,  3.62,  3.12,  2.53,  2.74,  2.96,  2.46,  5.3 ,\n",
       "        5.  ,  2.79,  2.95,  4.06,  2.94,  3.82,  3.54,  3.53,  2.83,\n",
       "        4.7 ,  2.4 ,  3.38,  3.01,  5.6 ,  3.65,  3.9 ,  3.18,  3.35,\n",
       "        2.3 ,  3.57,  2.48,  2.62,  2.82,  3.98,  2.63,  3.83,  3.52,\n",
       "        3.95,  3.75,  2.88,  3.67,  3.87,  3.66,  3.85,  3.86,  4.19,\n",
       "        3.24,  4.8 ,  4.5 ,  4.2 ,  3.36,  3.08,  3.68,  3.07,  3.37,\n",
       "        3.09,  8.  ,  3.26,  3.34,  2.81,  3.44,  2.97,  3.14,  4.37,\n",
       "        2.68,  3.22,  3.27,  4.1 ,  2.93,  3.46,  3.47,  3.33,  3.63,\n",
       "        3.32,  1.2 ,  8.3 ,  2.98,  2.86,  3.17,  4.4 ,  3.28,  3.04,\n",
       "        4.45,  5.5 ,  3.84,  3.23,  3.02,  3.21,  3.43,  3.78,  4.3 ,\n",
       "        3.39,  2.69,  3.31,  4.65,  3.56,  2.2 ,  3.51,  3.93,  3.42,\n",
       "        2.99,  3.49, 14.  ,  4.14,  2.91,  3.88,  1.75,  4.25,  3.29,\n",
       "        2.25,  3.76,  3.69,  6.  ,  2.26,  2.89,  3.58,  5.8 ,  2.49,\n",
       "        4.9 ,  3.48, 10.3 ,  1.  , 10.  ,  3.59])"
      ]
     },
     "execution_count": 7,
     "metadata": {},
     "output_type": "execute_result"
    }
   ],
   "source": [
    "# заменим высокие значения потолков путем деления на 10, т.к. скорее всего в данных лишний порядок\n",
    "# высокие значения будем считать больше 20\n",
    "for ceil in data['ceiling_height'].unique():\n",
    "    data.loc[(data['ceiling_height'] == ceil) & (ceil >= 20), 'ceiling_height'] = ceil / 10\n",
    "data['ceiling_height'] = data['ceiling_height'].fillna(0) # заменим пустые значения на нули    \n",
    "data['ceiling_height'].unique()  # проверим \n",
    "# все еще остаются данные, которые неправдопободны, типо высоты потолков в 1м, что делать с ними - не ясно"
   ]
  },
  {
   "cell_type": "code",
   "execution_count": 8,
   "metadata": {},
   "outputs": [
    {
     "name": "stdout",
     "output_type": "stream",
     "text": [
      "0.5709796633031937\n",
      "0.17514570787846798\n"
     ]
    }
   ],
   "source": [
    "living_area_coe = data['living_area'].mean() / data['total_area'].mean()\n",
    "data['living_area'] = data['living_area'].fillna(data['total_area'] * living_area_coe)\n",
    "kitchen_area_coe = data['kitchen_area'].mean() / data['total_area'].mean()\n",
    "data['kitchen_area'] = data['kitchen_area'].fillna(data['total_area'] * kitchen_area_coe)\n",
    "print(living_area_coe)\n",
    "print(kitchen_area_coe)"
   ]
  },
  {
   "cell_type": "code",
   "execution_count": 9,
   "metadata": {},
   "outputs": [
    {
     "data": {
      "text/plain": [
       "0         81\n",
       "1        558\n",
       "2        424\n",
       "3        121\n",
       "4         55\n",
       "        ... \n",
       "20513    519\n",
       "20514    413\n",
       "20515    239\n",
       "20516     45\n",
       "20517    602\n",
       "Name: days_exposition, Length: 20518, dtype: int64"
      ]
     },
     "execution_count": 9,
     "metadata": {},
     "output_type": "execute_result"
    }
   ],
   "source": [
    "data = data.dropna(subset =['days_exposition']).reset_index(drop = True)\n",
    "data['days_exposition'] = data['days_exposition'].astype('int')\n",
    "data['days_exposition']"
   ]
  },
  {
   "cell_type": "code",
   "execution_count": 10,
   "metadata": {},
   "outputs": [],
   "source": [
    "# приводим простые данные к нужному виду заполняя пропуски и меняя тип переменных\n",
    "data['floors_total'] = data['floors_total'].fillna(0).astype('int')\n",
    "data['is_apartment'] = data['is_apartment'].fillna(False).astype('bool')\n",
    "data['floors_total'] = data['floors_total'].fillna(0).astype('int')\n",
    "data['balcony'] = data['balcony'].fillna(0).astype('int')\n",
    "data['airports_nearest'] = data['airports_nearest'].fillna(0)\n",
    "data['cityCenters_nearest'] = data['cityCenters_nearest'].fillna(0)\n",
    "data['parks_around3000'] = data['parks_around3000'].fillna(0).astype('int')\n",
    "data['parks_nearest'] = data['parks_nearest'].fillna(0)\n",
    "data['ponds_around3000'] = data['ponds_around3000'].fillna(0).astype('int')\n",
    "data['ponds_nearest'] = data['ponds_nearest'].fillna(0)"
   ]
  },
  {
   "cell_type": "code",
   "execution_count": 11,
   "metadata": {},
   "outputs": [
    {
     "data": {
      "text/plain": [
       "array(['поселок шушары', 'санкт-петербург',\n",
       "       'поселок городского типа янино-1', 'поселок парголово',\n",
       "       'поселок мурино', 'ломоносов', 'сертолово', 'петергоф', 'пушкин',\n",
       "       'деревня кудрово', 'коммунар', 'колпино',\n",
       "       'поселок городского типа красный бор', 'гатчина',\n",
       "       'деревня федоровское', 'выборг', 'кронштадт', 'кировск',\n",
       "       'деревня новое девяткино', 'поселок металлострой',\n",
       "       'поселок городского типа сиверский', 'поселок молодцово',\n",
       "       'поселок городского типа кузьмоловский', 'павловск',\n",
       "       'деревня пикколово', 'всеволожск', 'кингисепп', 'сестрорецк',\n",
       "       'деревня куттузи', 'поселок городского типа ефимовский',\n",
       "       'поселок плодовое', 'деревня заклинье', 'поселок торковичи',\n",
       "       'красное село', 'поселок понтонный', 'сясьстрой',\n",
       "       'поселок новый свет', 'приозерск', 'сланцы', 'село путилово',\n",
       "       'ивангород', 'шлиссельбург', 'никольское', 'зеленогорск',\n",
       "       'сосновый бор', 'деревня оржицы', 'деревня кальтино',\n",
       "       'поселок романовка', 'поселок бугры',\n",
       "       'поселок городского типа рощино', 'луга', 'волосово', 'отрадное',\n",
       "       'село павлово', 'поселок оредеж', 'село копорье', 'кудрово',\n",
       "       'тихвин', 'деревня нурма', 'поселок городского типа синявино',\n",
       "       'тосно', 'поселок стрельна', 'поселок александровская',\n",
       "       'деревня лопухинка', 'пикалево', 'поселок терволово',\n",
       "       'поселок городского типа советский', 'поселок аннино', 'кириши',\n",
       "       'бокситогорск', 'поселок городского типа токсово',\n",
       "       'поселок сельцо', 'поселок городского типа вырица',\n",
       "       'деревня келози', 'деревня вартемяги', 'поселок тельмана',\n",
       "       'поселок севастьяново', 'поселок городского типа большая ижора',\n",
       "       'нет данных', 'поселок городского типа павлово',\n",
       "       'деревня агалатово', 'поселок новогорелово', 'деревня старая',\n",
       "       'волхов', 'поселок городского типа новоселье',\n",
       "       'деревня большие колпаны', 'деревня горбунки', 'деревня заневка',\n",
       "       'деревня иссад', 'приморск', 'деревня мистолово',\n",
       "       'поселок зимитицы', 'поселок барышево', 'деревня разметелево',\n",
       "       'поселок городского типа имени свердлова', 'деревня пеники',\n",
       "       'поселок рябово', 'деревня пудомяги', 'поселок станции корнево',\n",
       "       'деревня низино', 'деревня бегуницы',\n",
       "       'поселок городского типа мга', 'деревня колтуши',\n",
       "       'деревня малое карлино', 'поселок песочный', 'деревня аро',\n",
       "       'поселок ильичево', 'поселок городского типа тайцы',\n",
       "       'деревня малое верево', 'деревня извара', 'подпорожье',\n",
       "       'поселок станции вещево', 'село паша', 'деревня калитино',\n",
       "       'поселок городского типа ульяновка',\n",
       "       'поселок городского типа дубровка', 'поселок войсковицы',\n",
       "       'новая ладога', 'поселок ропша', 'поселок первомайское',\n",
       "       'поселок городского типа приладожский', 'поселок щеглово',\n",
       "       'поселок гаврилово', 'лодейное поле',\n",
       "       'поселок городского типа никольский',\n",
       "       'поселок городского типа лебяжье', 'деревня кузьмолово',\n",
       "       'деревня малые колпаны', 'поселок петро-славянка',\n",
       "       'деревня лаголово', 'поселок городского типа назия',\n",
       "       'поселок углово', 'поселок старая малукса',\n",
       "       'садовое товарищество рахья', 'поселок победа',\n",
       "       'деревня старые бегуницы', 'поселок елизаветино',\n",
       "       'поселок городского типа имени морозова',\n",
       "       'поселок городского типа рахья', 'поселок саперный',\n",
       "       'поселок семрино', 'поселок глажево', 'поселок кобринское',\n",
       "       'поселок запорожское', 'деревня юкки',\n",
       "       'поселок станции приветнинское', 'деревня мануйлово',\n",
       "       'поселок поляны', 'поселок мичуринское', 'деревня лесколово',\n",
       "       'деревня белогорка', 'поселок цвылево', 'поселок мельниково',\n",
       "       'деревня гостилицы', 'поселок пудость', 'светогорск', 'любань',\n",
       "       'поселок селезнево', 'поселок городского типа рябово',\n",
       "       'каменногорск', 'поселок глебычево', 'деревня парицы',\n",
       "       'поселок жилпоселок', 'поселок стеклянный',\n",
       "       'поселок городского типа важины',\n",
       "       'поселок городского типа кузнечное', 'село русско-высоцкое',\n",
       "       'поселок городского типа форносово', 'село старая ладога',\n",
       "       'поселок житково', 'поселок городского типа виллози',\n",
       "       'деревня лампово', 'деревня шпаньково', 'деревня лаврики',\n",
       "       'деревня кипень', 'поселок молодежное', 'деревня мины',\n",
       "       'поселок сосново', 'поселок возрождение', 'деревня старосиверская',\n",
       "       'поселок кикерино', 'деревня старое хинколово',\n",
       "       'поселок пригородный', 'поселок торфяное', 'поселок репино',\n",
       "       'поселок городского типа будогощь', 'поселок суходолье',\n",
       "       'поселок красная долина', 'деревня хапо-ое',\n",
       "       'поселок городского типа дружная горка', 'деревня гарболово',\n",
       "       'поселок лисий нос', 'село рождествено', 'деревня старополье',\n",
       "       'поселок войскорово', 'поселок левашово', 'деревня сяськелево',\n",
       "       'деревня камышовка',\n",
       "       'садоводческое некоммерческое товарищество лесная поляна',\n",
       "       'деревня хязельки', 'поселок жилгородок', 'деревня ялгино',\n",
       "       'деревня батово', 'поселок новый учхоз', 'поселок гончарово',\n",
       "       'поселок саперное', 'поселок платформа 69-й километр',\n",
       "       'поселок каложицы', 'деревня фалилеево', 'деревня пельгора',\n",
       "       'поселок городского типа лесогорский', 'поселок белоостров',\n",
       "       'поселок алексеевка', 'поселок серебрянский', 'поселок петровское',\n",
       "       'деревня щеглово', 'поселок усть-луга', 'деревня тарасово',\n",
       "       'поселок кингисеппский',\n",
       "       'поселок при железнодорожной станции вещево', 'поселок ушаки',\n",
       "       'деревня торосово', 'поселок городского типа федоровское',\n",
       "       'деревня старая пустошь', 'поселок коммунары', 'поселок починок',\n",
       "       'поселок городского типа вознесенье', 'поселок гладкое',\n",
       "       'поселок тесово-4', 'деревня бор', 'деревня разбегаево',\n",
       "       'деревня суоранда', 'поселок кобралово',\n",
       "       'поселок городского типа кондратьево',\n",
       "       'коттеджный поселок счастье', 'поселок любань', 'деревня реброво',\n",
       "       'деревня яльгелево', 'деревня большая вруда', 'деревня зимитицы',\n",
       "       'поселок семиозерье', 'поселок совхозный', 'поселок ленинское',\n",
       "       'поселок суйда', 'деревня нижние осельки', 'поселок станции свирь',\n",
       "       'поселок перово', 'поселок заводской', 'высоцк',\n",
       "       'поселок гарболово', 'село шум', 'поселок станции лужайка',\n",
       "       'деревня большая пустомержа', 'поселок красносельское',\n",
       "       'деревня вахнова кара', 'коттеджный поселок кивеннапа север',\n",
       "       'поселок коробицыно', 'поселок ромашки', 'деревня каськово',\n",
       "       'деревня куровицы', 'поселок плоское', 'поселок сумино',\n",
       "       'деревня ям-тесово', 'деревня терпилицы', 'деревня глинка',\n",
       "       'деревня ваганово', 'поселок пушное', 'садовое товарищество садко',\n",
       "       'поселок усть-ижора', 'деревня выскатка',\n",
       "       'поселок городского типа свирьстрой', 'деревня кисельня',\n",
       "       'поселок котельский', 'деревня трубников бор', 'поселок калитино',\n",
       "       'поселок станции громово', 'поселок высокоключевой',\n",
       "       'садовое товарищество приладожский',\n",
       "       'поселок пансионат зеленый бор', 'деревня ненимяки',\n",
       "       'поселок громово', 'деревня рапполово', 'деревня пустынка',\n",
       "       'деревня русско', 'деревня лупполово', 'деревня большое рейзино',\n",
       "       'деревня малая романовка', 'поселок дружноселье', 'поселок пчевжа',\n",
       "       'поселок володарское', 'деревня нижняя',\n",
       "       'коттеджный поселок лесное', 'деревня тихковицы',\n",
       "       'деревня борисова грива', 'деревня рабитицы'], dtype=object)"
      ]
     },
     "execution_count": 11,
     "metadata": {},
     "output_type": "execute_result"
    }
   ],
   "source": [
    "# осталось обработать похожие значения в locality_name\n",
    "to_replace = [\"посёлок, поселок\"]\n",
    "data['locality_name'] = data['locality_name'].str.lower().str.replace(\"ё\",\"е\").str.replace(\"городской поселок\",\"поселок городского типа\").fillna('нет данных')\n",
    "data['locality_name'].unique()"
   ]
  },
  {
   "cell_type": "code",
   "execution_count": 12,
   "metadata": {},
   "outputs": [
    {
     "data": {
      "text/html": [
       "<div>\n",
       "<style scoped>\n",
       "    .dataframe tbody tr th:only-of-type {\n",
       "        vertical-align: middle;\n",
       "    }\n",
       "\n",
       "    .dataframe tbody tr th {\n",
       "        vertical-align: top;\n",
       "    }\n",
       "\n",
       "    .dataframe thead th {\n",
       "        text-align: right;\n",
       "    }\n",
       "</style>\n",
       "<table border=\"1\" class=\"dataframe\">\n",
       "  <thead>\n",
       "    <tr style=\"text-align: right;\">\n",
       "      <th></th>\n",
       "      <th>total_images</th>\n",
       "      <th>last_price</th>\n",
       "      <th>total_area</th>\n",
       "      <th>first_day_exposition</th>\n",
       "      <th>rooms</th>\n",
       "      <th>ceiling_height</th>\n",
       "      <th>floors_total</th>\n",
       "      <th>living_area</th>\n",
       "      <th>floor</th>\n",
       "      <th>is_apartment</th>\n",
       "      <th>...</th>\n",
       "      <th>kitchen_area</th>\n",
       "      <th>balcony</th>\n",
       "      <th>locality_name</th>\n",
       "      <th>airports_nearest</th>\n",
       "      <th>cityCenters_nearest</th>\n",
       "      <th>parks_around3000</th>\n",
       "      <th>parks_nearest</th>\n",
       "      <th>ponds_around3000</th>\n",
       "      <th>ponds_nearest</th>\n",
       "      <th>days_exposition</th>\n",
       "    </tr>\n",
       "  </thead>\n",
       "  <tbody>\n",
       "    <tr>\n",
       "      <th>0</th>\n",
       "      <td>7</td>\n",
       "      <td>3350000.00000</td>\n",
       "      <td>40.40000</td>\n",
       "      <td>2018-12-04</td>\n",
       "      <td>1</td>\n",
       "      <td>0.00000</td>\n",
       "      <td>11</td>\n",
       "      <td>18.60000</td>\n",
       "      <td>1</td>\n",
       "      <td>False</td>\n",
       "      <td>...</td>\n",
       "      <td>11.00000</td>\n",
       "      <td>2</td>\n",
       "      <td>поселок шушары</td>\n",
       "      <td>12817.00000</td>\n",
       "      <td>18603.00000</td>\n",
       "      <td>0</td>\n",
       "      <td>0.00000</td>\n",
       "      <td>0</td>\n",
       "      <td>0.00000</td>\n",
       "      <td>81</td>\n",
       "    </tr>\n",
       "    <tr>\n",
       "      <th>1</th>\n",
       "      <td>10</td>\n",
       "      <td>5196000.00000</td>\n",
       "      <td>56.00000</td>\n",
       "      <td>2015-08-20</td>\n",
       "      <td>2</td>\n",
       "      <td>0.00000</td>\n",
       "      <td>5</td>\n",
       "      <td>34.30000</td>\n",
       "      <td>4</td>\n",
       "      <td>False</td>\n",
       "      <td>...</td>\n",
       "      <td>8.30000</td>\n",
       "      <td>0</td>\n",
       "      <td>санкт-петербург</td>\n",
       "      <td>21741.00000</td>\n",
       "      <td>13933.00000</td>\n",
       "      <td>1</td>\n",
       "      <td>90.00000</td>\n",
       "      <td>2</td>\n",
       "      <td>574.00000</td>\n",
       "      <td>558</td>\n",
       "    </tr>\n",
       "    <tr>\n",
       "      <th>2</th>\n",
       "      <td>0</td>\n",
       "      <td>64900000.00000</td>\n",
       "      <td>159.00000</td>\n",
       "      <td>2015-07-24</td>\n",
       "      <td>3</td>\n",
       "      <td>0.00000</td>\n",
       "      <td>14</td>\n",
       "      <td>90.78577</td>\n",
       "      <td>9</td>\n",
       "      <td>False</td>\n",
       "      <td>...</td>\n",
       "      <td>27.84817</td>\n",
       "      <td>0</td>\n",
       "      <td>санкт-петербург</td>\n",
       "      <td>28098.00000</td>\n",
       "      <td>6800.00000</td>\n",
       "      <td>2</td>\n",
       "      <td>84.00000</td>\n",
       "      <td>3</td>\n",
       "      <td>234.00000</td>\n",
       "      <td>424</td>\n",
       "    </tr>\n",
       "    <tr>\n",
       "      <th>3</th>\n",
       "      <td>2</td>\n",
       "      <td>10000000.00000</td>\n",
       "      <td>100.00000</td>\n",
       "      <td>2018-06-19</td>\n",
       "      <td>2</td>\n",
       "      <td>3.03000</td>\n",
       "      <td>14</td>\n",
       "      <td>32.00000</td>\n",
       "      <td>13</td>\n",
       "      <td>False</td>\n",
       "      <td>...</td>\n",
       "      <td>41.00000</td>\n",
       "      <td>0</td>\n",
       "      <td>санкт-петербург</td>\n",
       "      <td>31856.00000</td>\n",
       "      <td>8098.00000</td>\n",
       "      <td>2</td>\n",
       "      <td>112.00000</td>\n",
       "      <td>1</td>\n",
       "      <td>48.00000</td>\n",
       "      <td>121</td>\n",
       "    </tr>\n",
       "    <tr>\n",
       "      <th>4</th>\n",
       "      <td>10</td>\n",
       "      <td>2890000.00000</td>\n",
       "      <td>30.40000</td>\n",
       "      <td>2018-09-10</td>\n",
       "      <td>1</td>\n",
       "      <td>0.00000</td>\n",
       "      <td>12</td>\n",
       "      <td>14.40000</td>\n",
       "      <td>5</td>\n",
       "      <td>False</td>\n",
       "      <td>...</td>\n",
       "      <td>9.10000</td>\n",
       "      <td>0</td>\n",
       "      <td>поселок городского типа янино-1</td>\n",
       "      <td>0.00000</td>\n",
       "      <td>0.00000</td>\n",
       "      <td>0</td>\n",
       "      <td>0.00000</td>\n",
       "      <td>0</td>\n",
       "      <td>0.00000</td>\n",
       "      <td>55</td>\n",
       "    </tr>\n",
       "    <tr>\n",
       "      <th>5</th>\n",
       "      <td>6</td>\n",
       "      <td>3700000.00000</td>\n",
       "      <td>37.30000</td>\n",
       "      <td>2017-11-02</td>\n",
       "      <td>1</td>\n",
       "      <td>0.00000</td>\n",
       "      <td>26</td>\n",
       "      <td>10.60000</td>\n",
       "      <td>6</td>\n",
       "      <td>False</td>\n",
       "      <td>...</td>\n",
       "      <td>14.40000</td>\n",
       "      <td>1</td>\n",
       "      <td>поселок парголово</td>\n",
       "      <td>52996.00000</td>\n",
       "      <td>19143.00000</td>\n",
       "      <td>0</td>\n",
       "      <td>0.00000</td>\n",
       "      <td>0</td>\n",
       "      <td>0.00000</td>\n",
       "      <td>155</td>\n",
       "    </tr>\n",
       "    <tr>\n",
       "      <th>6</th>\n",
       "      <td>20</td>\n",
       "      <td>2900000.00000</td>\n",
       "      <td>33.16000</td>\n",
       "      <td>2018-05-23</td>\n",
       "      <td>1</td>\n",
       "      <td>0.00000</td>\n",
       "      <td>27</td>\n",
       "      <td>15.43000</td>\n",
       "      <td>26</td>\n",
       "      <td>False</td>\n",
       "      <td>...</td>\n",
       "      <td>8.81000</td>\n",
       "      <td>0</td>\n",
       "      <td>поселок мурино</td>\n",
       "      <td>0.00000</td>\n",
       "      <td>0.00000</td>\n",
       "      <td>0</td>\n",
       "      <td>0.00000</td>\n",
       "      <td>0</td>\n",
       "      <td>0.00000</td>\n",
       "      <td>189</td>\n",
       "    </tr>\n",
       "    <tr>\n",
       "      <th>7</th>\n",
       "      <td>18</td>\n",
       "      <td>5400000.00000</td>\n",
       "      <td>61.00000</td>\n",
       "      <td>2017-02-26</td>\n",
       "      <td>3</td>\n",
       "      <td>2.50000</td>\n",
       "      <td>9</td>\n",
       "      <td>43.60000</td>\n",
       "      <td>7</td>\n",
       "      <td>False</td>\n",
       "      <td>...</td>\n",
       "      <td>6.50000</td>\n",
       "      <td>2</td>\n",
       "      <td>санкт-петербург</td>\n",
       "      <td>50898.00000</td>\n",
       "      <td>15008.00000</td>\n",
       "      <td>0</td>\n",
       "      <td>0.00000</td>\n",
       "      <td>0</td>\n",
       "      <td>0.00000</td>\n",
       "      <td>289</td>\n",
       "    </tr>\n",
       "    <tr>\n",
       "      <th>8</th>\n",
       "      <td>5</td>\n",
       "      <td>5050000.00000</td>\n",
       "      <td>39.60000</td>\n",
       "      <td>2017-11-16</td>\n",
       "      <td>1</td>\n",
       "      <td>2.67000</td>\n",
       "      <td>12</td>\n",
       "      <td>20.30000</td>\n",
       "      <td>3</td>\n",
       "      <td>False</td>\n",
       "      <td>...</td>\n",
       "      <td>8.50000</td>\n",
       "      <td>0</td>\n",
       "      <td>санкт-петербург</td>\n",
       "      <td>38357.00000</td>\n",
       "      <td>13878.00000</td>\n",
       "      <td>1</td>\n",
       "      <td>310.00000</td>\n",
       "      <td>2</td>\n",
       "      <td>553.00000</td>\n",
       "      <td>137</td>\n",
       "    </tr>\n",
       "    <tr>\n",
       "      <th>9</th>\n",
       "      <td>9</td>\n",
       "      <td>3300000.00000</td>\n",
       "      <td>44.00000</td>\n",
       "      <td>2018-08-27</td>\n",
       "      <td>2</td>\n",
       "      <td>0.00000</td>\n",
       "      <td>5</td>\n",
       "      <td>31.00000</td>\n",
       "      <td>4</td>\n",
       "      <td>False</td>\n",
       "      <td>...</td>\n",
       "      <td>6.00000</td>\n",
       "      <td>1</td>\n",
       "      <td>ломоносов</td>\n",
       "      <td>48252.00000</td>\n",
       "      <td>51677.00000</td>\n",
       "      <td>0</td>\n",
       "      <td>0.00000</td>\n",
       "      <td>0</td>\n",
       "      <td>0.00000</td>\n",
       "      <td>7</td>\n",
       "    </tr>\n",
       "  </tbody>\n",
       "</table>\n",
       "<p>10 rows × 22 columns</p>\n",
       "</div>"
      ],
      "text/plain": [
       "   total_images     last_price  total_area first_day_exposition  rooms  \\\n",
       "0             7  3350000.00000    40.40000           2018-12-04      1   \n",
       "1            10  5196000.00000    56.00000           2015-08-20      2   \n",
       "2             0 64900000.00000   159.00000           2015-07-24      3   \n",
       "3             2 10000000.00000   100.00000           2018-06-19      2   \n",
       "4            10  2890000.00000    30.40000           2018-09-10      1   \n",
       "5             6  3700000.00000    37.30000           2017-11-02      1   \n",
       "6            20  2900000.00000    33.16000           2018-05-23      1   \n",
       "7            18  5400000.00000    61.00000           2017-02-26      3   \n",
       "8             5  5050000.00000    39.60000           2017-11-16      1   \n",
       "9             9  3300000.00000    44.00000           2018-08-27      2   \n",
       "\n",
       "   ceiling_height  floors_total  living_area  floor  is_apartment  ...  \\\n",
       "0         0.00000            11     18.60000      1         False  ...   \n",
       "1         0.00000             5     34.30000      4         False  ...   \n",
       "2         0.00000            14     90.78577      9         False  ...   \n",
       "3         3.03000            14     32.00000     13         False  ...   \n",
       "4         0.00000            12     14.40000      5         False  ...   \n",
       "5         0.00000            26     10.60000      6         False  ...   \n",
       "6         0.00000            27     15.43000     26         False  ...   \n",
       "7         2.50000             9     43.60000      7         False  ...   \n",
       "8         2.67000            12     20.30000      3         False  ...   \n",
       "9         0.00000             5     31.00000      4         False  ...   \n",
       "\n",
       "   kitchen_area  balcony                    locality_name  airports_nearest  \\\n",
       "0      11.00000        2                   поселок шушары       12817.00000   \n",
       "1       8.30000        0                  санкт-петербург       21741.00000   \n",
       "2      27.84817        0                  санкт-петербург       28098.00000   \n",
       "3      41.00000        0                  санкт-петербург       31856.00000   \n",
       "4       9.10000        0  поселок городского типа янино-1           0.00000   \n",
       "5      14.40000        1                поселок парголово       52996.00000   \n",
       "6       8.81000        0                   поселок мурино           0.00000   \n",
       "7       6.50000        2                  санкт-петербург       50898.00000   \n",
       "8       8.50000        0                  санкт-петербург       38357.00000   \n",
       "9       6.00000        1                        ломоносов       48252.00000   \n",
       "\n",
       "  cityCenters_nearest  parks_around3000  parks_nearest  ponds_around3000  \\\n",
       "0         18603.00000                 0        0.00000                 0   \n",
       "1         13933.00000                 1       90.00000                 2   \n",
       "2          6800.00000                 2       84.00000                 3   \n",
       "3          8098.00000                 2      112.00000                 1   \n",
       "4             0.00000                 0        0.00000                 0   \n",
       "5         19143.00000                 0        0.00000                 0   \n",
       "6             0.00000                 0        0.00000                 0   \n",
       "7         15008.00000                 0        0.00000                 0   \n",
       "8         13878.00000                 1      310.00000                 2   \n",
       "9         51677.00000                 0        0.00000                 0   \n",
       "\n",
       "   ponds_nearest  days_exposition  \n",
       "0        0.00000               81  \n",
       "1      574.00000              558  \n",
       "2      234.00000              424  \n",
       "3       48.00000              121  \n",
       "4        0.00000               55  \n",
       "5        0.00000              155  \n",
       "6        0.00000              189  \n",
       "7        0.00000              289  \n",
       "8      553.00000              137  \n",
       "9        0.00000                7  \n",
       "\n",
       "[10 rows x 22 columns]"
      ]
     },
     "execution_count": 12,
     "metadata": {},
     "output_type": "execute_result"
    }
   ],
   "source": [
    "data.head(10)"
   ]
  },
  {
   "cell_type": "code",
   "execution_count": 13,
   "metadata": {},
   "outputs": [
    {
     "name": "stdout",
     "output_type": "stream",
     "text": [
      "<class 'pandas.core.frame.DataFrame'>\n",
      "RangeIndex: 20518 entries, 0 to 20517\n",
      "Data columns (total 22 columns):\n",
      " #   Column                Non-Null Count  Dtype         \n",
      "---  ------                --------------  -----         \n",
      " 0   total_images          20518 non-null  int64         \n",
      " 1   last_price            20518 non-null  float64       \n",
      " 2   total_area            20518 non-null  float64       \n",
      " 3   first_day_exposition  20518 non-null  datetime64[ns]\n",
      " 4   rooms                 20518 non-null  int64         \n",
      " 5   ceiling_height        20518 non-null  float64       \n",
      " 6   floors_total          20518 non-null  int64         \n",
      " 7   living_area           20518 non-null  float64       \n",
      " 8   floor                 20518 non-null  int64         \n",
      " 9   is_apartment          20518 non-null  bool          \n",
      " 10  studio                20518 non-null  bool          \n",
      " 11  open_plan             20518 non-null  bool          \n",
      " 12  kitchen_area          20518 non-null  float64       \n",
      " 13  balcony               20518 non-null  int64         \n",
      " 14  locality_name         20518 non-null  object        \n",
      " 15  airports_nearest      20518 non-null  float64       \n",
      " 16  cityCenters_nearest   20518 non-null  float64       \n",
      " 17  parks_around3000      20518 non-null  int64         \n",
      " 18  parks_nearest         20518 non-null  float64       \n",
      " 19  ponds_around3000      20518 non-null  int64         \n",
      " 20  ponds_nearest         20518 non-null  float64       \n",
      " 21  days_exposition       20518 non-null  int64         \n",
      "dtypes: bool(3), datetime64[ns](1), float64(9), int64(8), object(1)\n",
      "memory usage: 3.0+ MB\n"
     ]
    }
   ],
   "source": [
    "data.info()"
   ]
  },
  {
   "cell_type": "markdown",
   "metadata": {},
   "source": [
    "### Посчитайте и добавьте в таблицу новые столбцы"
   ]
  },
  {
   "cell_type": "markdown",
   "metadata": {},
   "source": [
    "- цена одного квадратного метра;\n",
    "- день недели публикации объявления (0 — понедельник, 1 — вторник и так далее);\n",
    "- месяц публикации объявления;\n",
    "- год публикации объявления;\n",
    "- тип этажа квартиры (значения — «‎первый», «последний», «другой»);\n",
    "- расстояние до центра города в километрах (переведите из м в км и округлите до целых значений)."
   ]
  },
  {
   "cell_type": "code",
   "execution_count": 14,
   "metadata": {},
   "outputs": [
    {
     "data": {
      "text/html": [
       "<div>\n",
       "<style scoped>\n",
       "    .dataframe tbody tr th:only-of-type {\n",
       "        vertical-align: middle;\n",
       "    }\n",
       "\n",
       "    .dataframe tbody tr th {\n",
       "        vertical-align: top;\n",
       "    }\n",
       "\n",
       "    .dataframe thead th {\n",
       "        text-align: right;\n",
       "    }\n",
       "</style>\n",
       "<table border=\"1\" class=\"dataframe\">\n",
       "  <thead>\n",
       "    <tr style=\"text-align: right;\">\n",
       "      <th></th>\n",
       "      <th>total_images</th>\n",
       "      <th>last_price</th>\n",
       "      <th>total_area</th>\n",
       "      <th>first_day_exposition</th>\n",
       "      <th>rooms</th>\n",
       "      <th>ceiling_height</th>\n",
       "      <th>floors_total</th>\n",
       "      <th>living_area</th>\n",
       "      <th>floor</th>\n",
       "      <th>is_apartment</th>\n",
       "      <th>...</th>\n",
       "      <th>parks_nearest</th>\n",
       "      <th>ponds_around3000</th>\n",
       "      <th>ponds_nearest</th>\n",
       "      <th>days_exposition</th>\n",
       "      <th>cost_meter</th>\n",
       "      <th>day</th>\n",
       "      <th>month</th>\n",
       "      <th>year</th>\n",
       "      <th>floor_type</th>\n",
       "      <th>range_centre</th>\n",
       "    </tr>\n",
       "  </thead>\n",
       "  <tbody>\n",
       "    <tr>\n",
       "      <th>155</th>\n",
       "      <td>12</td>\n",
       "      <td>11640000.00000</td>\n",
       "      <td>65.20000</td>\n",
       "      <td>2018-10-02</td>\n",
       "      <td>2</td>\n",
       "      <td>0.00000</td>\n",
       "      <td>0</td>\n",
       "      <td>30.80000</td>\n",
       "      <td>4</td>\n",
       "      <td>False</td>\n",
       "      <td>...</td>\n",
       "      <td>123.00000</td>\n",
       "      <td>0</td>\n",
       "      <td>0.00000</td>\n",
       "      <td>49</td>\n",
       "      <td>178527.60736</td>\n",
       "      <td>1</td>\n",
       "      <td>10</td>\n",
       "      <td>2018</td>\n",
       "      <td>другой</td>\n",
       "      <td>12</td>\n",
       "    </tr>\n",
       "    <tr>\n",
       "      <th>195</th>\n",
       "      <td>4</td>\n",
       "      <td>2438033.00000</td>\n",
       "      <td>28.10000</td>\n",
       "      <td>2016-11-23</td>\n",
       "      <td>1</td>\n",
       "      <td>0.00000</td>\n",
       "      <td>0</td>\n",
       "      <td>20.75000</td>\n",
       "      <td>1</td>\n",
       "      <td>False</td>\n",
       "      <td>...</td>\n",
       "      <td>0.00000</td>\n",
       "      <td>1</td>\n",
       "      <td>374.00000</td>\n",
       "      <td>251</td>\n",
       "      <td>86762.74021</td>\n",
       "      <td>2</td>\n",
       "      <td>11</td>\n",
       "      <td>2016</td>\n",
       "      <td>первый</td>\n",
       "      <td>17</td>\n",
       "    </tr>\n",
       "    <tr>\n",
       "      <th>386</th>\n",
       "      <td>4</td>\n",
       "      <td>9788348.00000</td>\n",
       "      <td>70.80000</td>\n",
       "      <td>2015-08-01</td>\n",
       "      <td>2</td>\n",
       "      <td>0.00000</td>\n",
       "      <td>0</td>\n",
       "      <td>38.40000</td>\n",
       "      <td>12</td>\n",
       "      <td>False</td>\n",
       "      <td>...</td>\n",
       "      <td>309.00000</td>\n",
       "      <td>2</td>\n",
       "      <td>706.00000</td>\n",
       "      <td>727</td>\n",
       "      <td>138253.50282</td>\n",
       "      <td>5</td>\n",
       "      <td>8</td>\n",
       "      <td>2015</td>\n",
       "      <td>другой</td>\n",
       "      <td>8</td>\n",
       "    </tr>\n",
       "    <tr>\n",
       "      <th>575</th>\n",
       "      <td>4</td>\n",
       "      <td>6051191.00000</td>\n",
       "      <td>93.60000</td>\n",
       "      <td>2017-04-06</td>\n",
       "      <td>3</td>\n",
       "      <td>0.00000</td>\n",
       "      <td>0</td>\n",
       "      <td>47.10000</td>\n",
       "      <td>8</td>\n",
       "      <td>False</td>\n",
       "      <td>...</td>\n",
       "      <td>0.00000</td>\n",
       "      <td>1</td>\n",
       "      <td>374.00000</td>\n",
       "      <td>123</td>\n",
       "      <td>64649.47650</td>\n",
       "      <td>3</td>\n",
       "      <td>4</td>\n",
       "      <td>2017</td>\n",
       "      <td>другой</td>\n",
       "      <td>17</td>\n",
       "    </tr>\n",
       "    <tr>\n",
       "      <th>1519</th>\n",
       "      <td>5</td>\n",
       "      <td>3600000.00000</td>\n",
       "      <td>39.00000</td>\n",
       "      <td>2017-04-22</td>\n",
       "      <td>1</td>\n",
       "      <td>0.00000</td>\n",
       "      <td>0</td>\n",
       "      <td>22.26821</td>\n",
       "      <td>9</td>\n",
       "      <td>False</td>\n",
       "      <td>...</td>\n",
       "      <td>835.00000</td>\n",
       "      <td>1</td>\n",
       "      <td>652.00000</td>\n",
       "      <td>77</td>\n",
       "      <td>92307.69231</td>\n",
       "      <td>5</td>\n",
       "      <td>4</td>\n",
       "      <td>2017</td>\n",
       "      <td>другой</td>\n",
       "      <td>11</td>\n",
       "    </tr>\n",
       "    <tr>\n",
       "      <th>1664</th>\n",
       "      <td>1</td>\n",
       "      <td>9750000.00000</td>\n",
       "      <td>66.77000</td>\n",
       "      <td>2016-05-13</td>\n",
       "      <td>2</td>\n",
       "      <td>0.00000</td>\n",
       "      <td>0</td>\n",
       "      <td>38.12431</td>\n",
       "      <td>4</td>\n",
       "      <td>False</td>\n",
       "      <td>...</td>\n",
       "      <td>2276.00000</td>\n",
       "      <td>3</td>\n",
       "      <td>244.00000</td>\n",
       "      <td>90</td>\n",
       "      <td>146023.66332</td>\n",
       "      <td>4</td>\n",
       "      <td>5</td>\n",
       "      <td>2016</td>\n",
       "      <td>другой</td>\n",
       "      <td>10</td>\n",
       "    </tr>\n",
       "    <tr>\n",
       "      <th>2057</th>\n",
       "      <td>7</td>\n",
       "      <td>5395770.00000</td>\n",
       "      <td>53.00000</td>\n",
       "      <td>2017-06-29</td>\n",
       "      <td>2</td>\n",
       "      <td>0.00000</td>\n",
       "      <td>0</td>\n",
       "      <td>29.00000</td>\n",
       "      <td>22</td>\n",
       "      <td>False</td>\n",
       "      <td>...</td>\n",
       "      <td>0.00000</td>\n",
       "      <td>0</td>\n",
       "      <td>0.00000</td>\n",
       "      <td>48</td>\n",
       "      <td>101806.98113</td>\n",
       "      <td>3</td>\n",
       "      <td>6</td>\n",
       "      <td>2017</td>\n",
       "      <td>другой</td>\n",
       "      <td>10</td>\n",
       "    </tr>\n",
       "    <tr>\n",
       "      <th>2451</th>\n",
       "      <td>4</td>\n",
       "      <td>2325000.00000</td>\n",
       "      <td>27.80000</td>\n",
       "      <td>2016-09-21</td>\n",
       "      <td>1</td>\n",
       "      <td>0.00000</td>\n",
       "      <td>0</td>\n",
       "      <td>19.40000</td>\n",
       "      <td>15</td>\n",
       "      <td>False</td>\n",
       "      <td>...</td>\n",
       "      <td>0.00000</td>\n",
       "      <td>1</td>\n",
       "      <td>374.00000</td>\n",
       "      <td>307</td>\n",
       "      <td>83633.09353</td>\n",
       "      <td>2</td>\n",
       "      <td>9</td>\n",
       "      <td>2016</td>\n",
       "      <td>другой</td>\n",
       "      <td>17</td>\n",
       "    </tr>\n",
       "    <tr>\n",
       "      <th>2607</th>\n",
       "      <td>9</td>\n",
       "      <td>6400000.00000</td>\n",
       "      <td>56.70000</td>\n",
       "      <td>2018-03-27</td>\n",
       "      <td>2</td>\n",
       "      <td>0.00000</td>\n",
       "      <td>0</td>\n",
       "      <td>32.00000</td>\n",
       "      <td>12</td>\n",
       "      <td>False</td>\n",
       "      <td>...</td>\n",
       "      <td>0.00000</td>\n",
       "      <td>0</td>\n",
       "      <td>0.00000</td>\n",
       "      <td>231</td>\n",
       "      <td>112874.77954</td>\n",
       "      <td>1</td>\n",
       "      <td>3</td>\n",
       "      <td>2018</td>\n",
       "      <td>другой</td>\n",
       "      <td>0</td>\n",
       "    </tr>\n",
       "    <tr>\n",
       "      <th>2959</th>\n",
       "      <td>10</td>\n",
       "      <td>4100000.00000</td>\n",
       "      <td>38.00000</td>\n",
       "      <td>2018-04-14</td>\n",
       "      <td>1</td>\n",
       "      <td>0.00000</td>\n",
       "      <td>0</td>\n",
       "      <td>19.00000</td>\n",
       "      <td>12</td>\n",
       "      <td>False</td>\n",
       "      <td>...</td>\n",
       "      <td>0.00000</td>\n",
       "      <td>0</td>\n",
       "      <td>0.00000</td>\n",
       "      <td>95</td>\n",
       "      <td>107894.73684</td>\n",
       "      <td>5</td>\n",
       "      <td>4</td>\n",
       "      <td>2018</td>\n",
       "      <td>другой</td>\n",
       "      <td>0</td>\n",
       "    </tr>\n",
       "  </tbody>\n",
       "</table>\n",
       "<p>10 rows × 28 columns</p>\n",
       "</div>"
      ],
      "text/plain": [
       "      total_images     last_price  total_area first_day_exposition  rooms  \\\n",
       "155             12 11640000.00000    65.20000           2018-10-02      2   \n",
       "195              4  2438033.00000    28.10000           2016-11-23      1   \n",
       "386              4  9788348.00000    70.80000           2015-08-01      2   \n",
       "575              4  6051191.00000    93.60000           2017-04-06      3   \n",
       "1519             5  3600000.00000    39.00000           2017-04-22      1   \n",
       "1664             1  9750000.00000    66.77000           2016-05-13      2   \n",
       "2057             7  5395770.00000    53.00000           2017-06-29      2   \n",
       "2451             4  2325000.00000    27.80000           2016-09-21      1   \n",
       "2607             9  6400000.00000    56.70000           2018-03-27      2   \n",
       "2959            10  4100000.00000    38.00000           2018-04-14      1   \n",
       "\n",
       "      ceiling_height  floors_total  living_area  floor  is_apartment  ...  \\\n",
       "155          0.00000             0     30.80000      4         False  ...   \n",
       "195          0.00000             0     20.75000      1         False  ...   \n",
       "386          0.00000             0     38.40000     12         False  ...   \n",
       "575          0.00000             0     47.10000      8         False  ...   \n",
       "1519         0.00000             0     22.26821      9         False  ...   \n",
       "1664         0.00000             0     38.12431      4         False  ...   \n",
       "2057         0.00000             0     29.00000     22         False  ...   \n",
       "2451         0.00000             0     19.40000     15         False  ...   \n",
       "2607         0.00000             0     32.00000     12         False  ...   \n",
       "2959         0.00000             0     19.00000     12         False  ...   \n",
       "\n",
       "      parks_nearest  ponds_around3000  ponds_nearest  days_exposition  \\\n",
       "155       123.00000                 0        0.00000               49   \n",
       "195         0.00000                 1      374.00000              251   \n",
       "386       309.00000                 2      706.00000              727   \n",
       "575         0.00000                 1      374.00000              123   \n",
       "1519      835.00000                 1      652.00000               77   \n",
       "1664     2276.00000                 3      244.00000               90   \n",
       "2057        0.00000                 0        0.00000               48   \n",
       "2451        0.00000                 1      374.00000              307   \n",
       "2607        0.00000                 0        0.00000              231   \n",
       "2959        0.00000                 0        0.00000               95   \n",
       "\n",
       "       cost_meter  day  month  year  floor_type  range_centre  \n",
       "155  178527.60736    1     10  2018      другой            12  \n",
       "195   86762.74021    2     11  2016      первый            17  \n",
       "386  138253.50282    5      8  2015      другой             8  \n",
       "575   64649.47650    3      4  2017      другой            17  \n",
       "1519  92307.69231    5      4  2017      другой            11  \n",
       "1664 146023.66332    4      5  2016      другой            10  \n",
       "2057 101806.98113    3      6  2017      другой            10  \n",
       "2451  83633.09353    2      9  2016      другой            17  \n",
       "2607 112874.77954    1      3  2018      другой             0  \n",
       "2959 107894.73684    5      4  2018      другой             0  \n",
       "\n",
       "[10 rows x 28 columns]"
      ]
     },
     "execution_count": 14,
     "metadata": {},
     "output_type": "execute_result"
    }
   ],
   "source": [
    "data['cost_meter'] = data['last_price'] / data['total_area']\n",
    "data['day'] = data['first_day_exposition'].dt.weekday\n",
    "data['month'] = data['first_day_exposition'].dt.month\n",
    "data['year'] = data['first_day_exposition'].dt.year\n",
    "\n",
    "def floor(x):\n",
    "    floors_total = x['floors_total']\n",
    "    floor = x['floor']\n",
    "    if floor == 1:\n",
    "        return 'первый'\n",
    "    elif floor == floors_total:\n",
    "        return 'последний'\n",
    "    elif (floor != 1) & (floor != floors_total):\n",
    "        return 'другой' # эта строка выглядит так, потому что меняли пустые значение в floor_total на 0\n",
    "    \n",
    "    \n",
    "data['floor_type'] = data.apply(floor, axis = 1)\n",
    "\n",
    "data['range_centre'] = (data['cityCenters_nearest']/1000).astype('int')\n",
    "\n",
    "data[data['floors_total'] == 0].head(10) \n",
    "# хотел добавить еще 4 тип квартиры, которые не на 1 этаже и нет данных по этажности, но таких квартир оказалось всего 10, нет смысла"
   ]
  },
  {
   "cell_type": "code",
   "execution_count": 15,
   "metadata": {},
   "outputs": [
    {
     "name": "stdout",
     "output_type": "stream",
     "text": [
      "<class 'pandas.core.frame.DataFrame'>\n",
      "Int64Index: 11650 entries, 3 to 20517\n",
      "Data columns (total 28 columns):\n",
      " #   Column                Non-Null Count  Dtype         \n",
      "---  ------                --------------  -----         \n",
      " 0   total_images          11650 non-null  int64         \n",
      " 1   last_price            11650 non-null  float64       \n",
      " 2   total_area            11650 non-null  float64       \n",
      " 3   first_day_exposition  11650 non-null  datetime64[ns]\n",
      " 4   rooms                 11650 non-null  int64         \n",
      " 5   ceiling_height        11650 non-null  float64       \n",
      " 6   floors_total          11650 non-null  int64         \n",
      " 7   living_area           11650 non-null  float64       \n",
      " 8   floor                 11650 non-null  int64         \n",
      " 9   is_apartment          11650 non-null  bool          \n",
      " 10  studio                11650 non-null  bool          \n",
      " 11  open_plan             11650 non-null  bool          \n",
      " 12  kitchen_area          11650 non-null  float64       \n",
      " 13  balcony               11650 non-null  int64         \n",
      " 14  locality_name         11650 non-null  object        \n",
      " 15  airports_nearest      11650 non-null  float64       \n",
      " 16  cityCenters_nearest   11650 non-null  float64       \n",
      " 17  parks_around3000      11650 non-null  int64         \n",
      " 18  parks_nearest         11650 non-null  float64       \n",
      " 19  ponds_around3000      11650 non-null  int64         \n",
      " 20  ponds_nearest         11650 non-null  float64       \n",
      " 21  days_exposition       11650 non-null  int64         \n",
      " 22  cost_meter            11650 non-null  float64       \n",
      " 23  day                   11650 non-null  int64         \n",
      " 24  month                 11650 non-null  int64         \n",
      " 25  year                  11650 non-null  int64         \n",
      " 26  floor_type            11650 non-null  object        \n",
      " 27  range_centre          11650 non-null  int64         \n",
      "dtypes: bool(3), datetime64[ns](1), float64(10), int64(12), object(2)\n",
      "memory usage: 2.3+ MB\n"
     ]
    }
   ],
   "source": [
    "data = data.query('last_price <= 20000000 and total_area < 200 and 2.2 <= ceiling_height <= 4')\n",
    "data.info()"
   ]
  },
  {
   "cell_type": "markdown",
   "metadata": {},
   "source": [
    "<a id='7'></a>"
   ]
  },
  {
   "cell_type": "markdown",
   "metadata": {},
   "source": [
    "### Проведите исследовательский анализ данных"
   ]
  },
  {
   "cell_type": "markdown",
   "metadata": {},
   "source": [
    "<a id='4'></a>\n",
    "#### Изучите следующие параметры объектов:\n",
    "- общая площадь;\n",
    "- жилая площадь;\n",
    "- площадь кухни;\n",
    "- цена объекта;\n",
    "- количество комнат;\n",
    "- высота потолков;\n",
    "- этаж квартиры;\n",
    "- тип этажа квартиры («первый», «последний», «другой»);\n",
    "- общее количество этажей в доме;\n",
    "- расстояние до центра города в метрах;\n",
    "- расстояние до ближайшего аэропорта;\n",
    "- расстояние до ближайшего парка;\n",
    "- день и месяц публикации объявления.\n",
    "- Постройте отдельные гистограммы для каждого из этих параметров. Опишите все ваши наблюдения по параметрам в ячейке с типом markdown."
   ]
  },
  {
   "cell_type": "code",
   "execution_count": 16,
   "metadata": {},
   "outputs": [
    {
     "data": {
      "text/plain": [
       "count   11650.00000\n",
       "mean       56.37623\n",
       "std        23.32987\n",
       "min        12.00000\n",
       "25%        40.00000\n",
       "50%        51.00000\n",
       "75%        67.00000\n",
       "max       197.20000\n",
       "Name: total_area, dtype: float64"
      ]
     },
     "execution_count": 16,
     "metadata": {},
     "output_type": "execute_result"
    },
    {
     "data": {
      "image/png": "[encoded data removed]",
      "text/plain": [
       "<Figure size 504x360 with 1 Axes>"
      ]
     },
     "metadata": {
      "needs_background": "light"
     },
     "output_type": "display_data"
    }
   ],
   "source": [
    "data['total_area'].hist(bins = 80, range = (5,180), figsize = (7,5))\n",
    "data['total_area'].describe()"
   ]
  },
  {
   "cell_type": "code",
   "execution_count": 45,
   "metadata": {},
   "outputs": [
    {
     "data": {
      "text/plain": [
       "count   11650.00000\n",
       "mean       32.52639\n",
       "std        15.86791\n",
       "min         2.00000\n",
       "25%        19.00000\n",
       "50%        30.00000\n",
       "75%        41.10000\n",
       "max       150.80000\n",
       "Name: living_area, dtype: float64"
      ]
     },
     "execution_count": 45,
     "metadata": {},
     "output_type": "execute_result"
    },
    {
     "data": {
      "image/png": "[encoded data removed]",
      "text/plain": [
       "<Figure size 504x360 with 1 Axes>"
      ]
     },
     "metadata": {
      "needs_background": "light"
     },
     "output_type": "display_data"
    }
   ],
   "source": [
    "data['living_area'].hist(bins = 40, range = (5,90), figsize = (7,5))\n",
    "data['living_area'].describe()"
   ]
  },
  {
   "cell_type": "markdown",
   "metadata": {},
   "source": [
    "**не понятен спад в жилой площади на 22-25 кв.м.**"
   ]
  },
  {
   "cell_type": "code",
   "execution_count": 18,
   "metadata": {},
   "outputs": [
    {
     "data": {
      "text/plain": [
       "count   11650.00000\n",
       "mean        9.90728\n",
       "std         4.62157\n",
       "min         2.00000\n",
       "25%         7.00000\n",
       "50%         9.00000\n",
       "75%        11.30000\n",
       "max        64.00000\n",
       "Name: kitchen_area, dtype: float64"
      ]
     },
     "execution_count": 18,
     "metadata": {},
     "output_type": "execute_result"
    },
    {
     "data": {
      "image/png": "[encoded data removed]",
      "text/plain": [
       "<Figure size 504x360 with 1 Axes>"
      ]
     },
     "metadata": {
      "needs_background": "light"
     },
     "output_type": "display_data"
    }
   ],
   "source": [
    "data['kitchen_area'].hist(bins = 30, range = (0,50), figsize = (7,5))\n",
    "data['kitchen_area'].describe()"
   ]
  },
  {
   "cell_type": "code",
   "execution_count": 19,
   "metadata": {},
   "outputs": [
    {
     "data": {
      "text/plain": [
       "count      11650.00000\n",
       "mean     5425723.20712\n",
       "std      3067846.79747\n",
       "min        12190.00000\n",
       "25%      3500000.00000\n",
       "50%      4600000.00000\n",
       "75%      6450000.00000\n",
       "max     20000000.00000\n",
       "Name: last_price, dtype: float64"
      ]
     },
     "execution_count": 19,
     "metadata": {},
     "output_type": "execute_result"
    },
    {
     "data": {
      "image/png": "[encoded data removed]",
      "text/plain": [
       "<Figure size 504x360 with 1 Axes>"
      ]
     },
     "metadata": {
      "needs_background": "light"
     },
     "output_type": "display_data"
    }
   ],
   "source": [
    "data['last_price'].hist(bins = 100, range = (0,50000000), figsize = (7,5))\n",
    "data['last_price'].describe()"
   ]
  },
  {
   "cell_type": "code",
   "execution_count": 20,
   "metadata": {},
   "outputs": [
    {
     "data": {
      "text/plain": [
       "count   11578.00000\n",
       "mean        2.02772\n",
       "std         0.94999\n",
       "min         1.00000\n",
       "25%         1.00000\n",
       "50%         2.00000\n",
       "75%         3.00000\n",
       "max         7.00000\n",
       "Name: rooms, dtype: float64"
      ]
     },
     "execution_count": 20,
     "metadata": {},
     "output_type": "execute_result"
    },
    {
     "data": {
      "image/png": "[encoded data removed]",
      "text/plain": [
       "<Figure size 504x360 with 1 Axes>"
      ]
     },
     "metadata": {
      "needs_background": "light"
     },
     "output_type": "display_data"
    }
   ],
   "source": [
    "data['rooms'][data['rooms'] != 0].hist(bins = 25, range = (1,6), figsize = (7,5))\n",
    "data['rooms'][data['rooms'] != 0].describe()"
   ]
  },
  {
   "cell_type": "code",
   "execution_count": 21,
   "metadata": {},
   "outputs": [
    {
     "data": {
      "text/plain": [
       "count   11650.00000\n",
       "mean        2.70117\n",
       "std         0.23481\n",
       "min         2.20000\n",
       "25%         2.50000\n",
       "50%         2.65000\n",
       "75%         2.77000\n",
       "max         4.00000\n",
       "Name: ceiling_height, dtype: float64"
      ]
     },
     "execution_count": 21,
     "metadata": {},
     "output_type": "execute_result"
    },
    {
     "data": {
      "image/png": "[encoded data removed]",
      "text/plain": [
       "<Figure size 504x360 with 1 Axes>"
      ]
     },
     "metadata": {
      "needs_background": "light"
     },
     "output_type": "display_data"
    }
   ],
   "source": [
    "data['ceiling_height'][data['ceiling_height'] != 0].hist(bins = 20, range = (2,5), figsize = (7,5))\n",
    "data['ceiling_height'][data['ceiling_height'] != 0].describe()"
   ]
  },
  {
   "cell_type": "code",
   "execution_count": 22,
   "metadata": {},
   "outputs": [
    {
     "data": {
      "text/plain": [
       "count   11650.00000\n",
       "mean        5.69914\n",
       "std         4.67489\n",
       "min         1.00000\n",
       "25%         2.00000\n",
       "50%         4.00000\n",
       "75%         8.00000\n",
       "max        27.00000\n",
       "Name: floor, dtype: float64"
      ]
     },
     "execution_count": 22,
     "metadata": {},
     "output_type": "execute_result"
    },
    {
     "data": {
      "image/png": "[encoded data removed]",
      "text/plain": [
       "<Figure size 504x360 with 1 Axes>"
      ]
     },
     "metadata": {
      "needs_background": "light"
     },
     "output_type": "display_data"
    }
   ],
   "source": [
    "data['floor'].hist(bins = 35, range = (0,35), figsize = (7,5))\n",
    "data['floor'].describe()"
   ]
  },
  {
   "cell_type": "code",
   "execution_count": 23,
   "metadata": {},
   "outputs": [
    {
     "data": {
      "text/plain": [
       "другой       8577\n",
       "последний    1612\n",
       "первый       1461\n",
       "Name: floor_type, dtype: int64"
      ]
     },
     "execution_count": 23,
     "metadata": {},
     "output_type": "execute_result"
    },
    {
     "data": {
      "image/png": "[encoded data removed]",
      "text/plain": [
       "<Figure size 504x360 with 1 Axes>"
      ]
     },
     "metadata": {
      "needs_background": "light"
     },
     "output_type": "display_data"
    }
   ],
   "source": [
    "data['floor_type'].hist(bins = 3, range = (0,3), figsize = (7,5))\n",
    "data['floor_type'].value_counts()"
   ]
  },
  {
   "cell_type": "code",
   "execution_count": 24,
   "metadata": {},
   "outputs": [
    {
     "data": {
      "text/plain": [
       "count   11644.00000\n",
       "mean       10.39127\n",
       "std         6.27718\n",
       "min         1.00000\n",
       "25%         5.00000\n",
       "50%         9.00000\n",
       "75%        14.00000\n",
       "max        60.00000\n",
       "Name: floors_total, dtype: float64"
      ]
     },
     "execution_count": 24,
     "metadata": {},
     "output_type": "execute_result"
    },
    {
     "data": {
      "image/png": "[encoded data removed]",
      "text/plain": [
       "<Figure size 504x360 with 1 Axes>"
      ]
     },
     "metadata": {
      "needs_background": "light"
     },
     "output_type": "display_data"
    }
   ],
   "source": [
    "data['floors_total'][data['floors_total'] != 0].hist(bins = 30, range = (0,30), figsize = (7,5))\n",
    "data['floors_total'][data['floors_total'] != 0].describe()"
   ]
  },
  {
   "cell_type": "code",
   "execution_count": 25,
   "metadata": {},
   "outputs": [
    {
     "data": {
      "text/plain": [
       "count    9284.00000\n",
       "mean    14480.45875\n",
       "std      8692.10755\n",
       "min       208.00000\n",
       "25%      9868.75000\n",
       "50%     13221.50000\n",
       "75%     16183.00000\n",
       "max     65968.00000\n",
       "Name: cityCenters_nearest, dtype: float64"
      ]
     },
     "execution_count": 25,
     "metadata": {},
     "output_type": "execute_result"
    },
    {
     "data": {
      "image/png": "[encoded data removed]",
      "text/plain": [
       "<Figure size 504x360 with 1 Axes>"
      ]
     },
     "metadata": {
      "needs_background": "light"
     },
     "output_type": "display_data"
    }
   ],
   "source": [
    "data['cityCenters_nearest'][data['cityCenters_nearest'] != 0].hist(bins = 30, range = (0,50000), figsize = (7,5))\n",
    "data['cityCenters_nearest'][data['cityCenters_nearest'] != 0].describe()"
   ]
  },
  {
   "cell_type": "code",
   "execution_count": 26,
   "metadata": {},
   "outputs": [
    {
     "data": {
      "text/plain": [
       "count    9269.00000\n",
       "mean    28957.86309\n",
       "std     12867.78930\n",
       "min      6914.00000\n",
       "25%     18288.00000\n",
       "50%     26956.00000\n",
       "75%     37434.00000\n",
       "max     84869.00000\n",
       "Name: airports_nearest, dtype: float64"
      ]
     },
     "execution_count": 26,
     "metadata": {},
     "output_type": "execute_result"
    },
    {
     "data": {
      "image/png": "[encoded data removed]",
      "text/plain": [
       "<Figure size 504x360 with 1 Axes>"
      ]
     },
     "metadata": {
      "needs_background": "light"
     },
     "output_type": "display_data"
    }
   ],
   "source": [
    "data['airports_nearest'][data['airports_nearest'] != 0].hist(bins = 50, range = (0,100000), figsize = (7,5))\n",
    "data['airports_nearest'][data['airports_nearest'] != 0].describe()"
   ]
  },
  {
   "cell_type": "code",
   "execution_count": 27,
   "metadata": {},
   "outputs": [
    {
     "data": {
      "text/plain": [
       "count   4073.00000\n",
       "mean     475.25068\n",
       "std      314.26348\n",
       "min        3.00000\n",
       "25%      285.00000\n",
       "50%      449.00000\n",
       "75%      604.00000\n",
       "max     3190.00000\n",
       "Name: parks_nearest, dtype: float64"
      ]
     },
     "execution_count": 27,
     "metadata": {},
     "output_type": "execute_result"
    },
    {
     "data": {
      "image/png": "[encoded data removed]",
      "text/plain": [
       "<Figure size 504x360 with 1 Axes>"
      ]
     },
     "metadata": {
      "needs_background": "light"
     },
     "output_type": "display_data"
    }
   ],
   "source": [
    "data['parks_nearest'][data['parks_nearest'] != 0].hist(bins = 20, range = (0,3000), figsize = (7,5))\n",
    "data['parks_nearest'][data['parks_nearest'] != 0].describe()"
   ]
  },
  {
   "cell_type": "code",
   "execution_count": 28,
   "metadata": {},
   "outputs": [
    {
     "data": {
      "text/plain": [
       "0    1843\n",
       "1    2118\n",
       "2    1926\n",
       "3    2159\n",
       "4    1885\n",
       "5     932\n",
       "6     787\n",
       "Name: day, dtype: int64"
      ]
     },
     "execution_count": 28,
     "metadata": {},
     "output_type": "execute_result"
    },
    {
     "data": {
      "image/png": "[encoded data removed]",
      "text/plain": [
       "<Figure size 504x360 with 1 Axes>"
      ]
     },
     "metadata": {
      "needs_background": "light"
     },
     "output_type": "display_data"
    }
   ],
   "source": [
    "data['day'].hist(bins = 7, range = (0,6), figsize = (7,5))\n",
    "data['day'].value_counts().sort_index()"
   ]
  },
  {
   "cell_type": "code",
   "execution_count": 29,
   "metadata": {},
   "outputs": [
    {
     "data": {
      "text/plain": [
       "1      739\n",
       "2     1363\n",
       "3     1214\n",
       "4      813\n",
       "5      575\n",
       "6      829\n",
       "7      925\n",
       "8      971\n",
       "9     1078\n",
       "10    1151\n",
       "11    1212\n",
       "12     780\n",
       "Name: month, dtype: int64"
      ]
     },
     "execution_count": 29,
     "metadata": {},
     "output_type": "execute_result"
    },
    {
     "data": {
      "image/png": "[encoded data removed]",
      "text/plain": [
       "<Figure size 504x360 with 1 Axes>"
      ]
     },
     "metadata": {
      "needs_background": "light"
     },
     "output_type": "display_data"
    }
   ],
   "source": [
    "data['month'].hist(bins = 12, range = (1,12), figsize = (7,5))\n",
    "data['month'].value_counts().sort_index()"
   ]
  },
  {
   "cell_type": "markdown",
   "metadata": {},
   "source": [
    "В СПБ и области основная часть квартир от 40 до 70 кв.м.  \n",
    "Жилая площадь от 18 до 42 кв.м, средняя кухня 9 - 10 кв.м.  \n",
    "Самая дорогая квартира стоит 763 млн. рублей, самая дешевая 12 тыс. рублей, медианная квартиры цена 4,6 млн. рублей.  \n",
    "Преобладают 1-2 комнатные квартиры, однако самое большое кол-во комнат 19.  \n",
    "Стандартная высота потолков 2,5-2,8 метра.  \n",
    "Самое высокое здание с квартирой в продаже 60 этажное, средняя этажность 9-10, больше всего 5 и 9 этажек  \n",
    "Средние расстояния до:  \n",
    "   - центра города - 14 км\n",
    "   - аэропорта - 29 км\n",
    "   - парка - 500 м  \n",
    "  \n",
    "Пик публикаций квартир приходиться на февраль - апрель и октябрь - ноябрь.  \n",
    "Самый плохие месяца по публикациям приходятся на январь, май, июнь, декабрь.  \n",
    "  \n",
    "Чаще всего квартиры выкладывают в середине рабочей недели (вторник - четверг).  \n",
    "В выходные объявления появляються реже всего.  \n"
   ]
  },
  {
   "cell_type": "code",
   "execution_count": 30,
   "metadata": {},
   "outputs": [
    {
     "data": {
      "text/plain": [
       "<AxesSubplot:>"
      ]
     },
     "execution_count": 30,
     "metadata": {},
     "output_type": "execute_result"
    },
    {
     "data": {
      "image/png": "[encoded data removed]",
      "text/plain": [
       "<Figure size 504x360 with 1 Axes>"
      ]
     },
     "metadata": {
      "needs_background": "light"
     },
     "output_type": "display_data"
    }
   ],
   "source": [
    "data_days = data.query('days_exposition != 45 and days_exposition != 60 and days_exposition != 7 and days_exposition != 30 and days_exposition != 90 and days_exposition != 0')\n",
    "data_days['days_exposition'].hist(bins = 30, range = (0,200), figsize = (7,5))\n",
    "#data_days['days_exposition']"
   ]
  },
  {
   "cell_type": "markdown",
   "metadata": {},
   "source": [
    "Большая часть объявлений жили меньше 1 дня, скорее всего их удаляли по каким-то причинам, либо сами пользователи, либо модераторы.\n",
    "По медиане квартиры 'висят' на сайте почти 3 месяца, в среднем же чуть более 5 месяцев.  \n",
    "Быстрыми можно считать продажи до 22 дней, долгими от 200 дней.\n",
    "Объявление долгожитель - 5 лет!\n",
    "\n",
    "После того как убрал значения с 0  - появились какие-то странные значения на 45, 60 дни (возможно еще 7, 30, 90), которые отличаются от соседних дней более чем в 2 раза, тут нужно было бы уточнить данные."
   ]
  },
  {
   "cell_type": "markdown",
   "metadata": {},
   "source": [
    "<a id='5'></a>\n",
    "####  Какие факторы больше всего влияют на общую (полную) стоимость объекта?\n",
    "Изучите, зависит ли цена от:\n",
    "**общей площади;\n",
    "жилой площади;\n",
    "площади кухни;\n",
    "количества комнат;\n",
    "этажа, на котором расположена квартира (первый, последний, другой);\n",
    "даты размещения (день недели, месяц, год).**\n",
    "Постройте графики, которые покажут зависимость цены от указанных выше параметров. Для подготовки данных перед визуализацией вы можете использовать сводные таблицы."
   ]
  },
  {
   "cell_type": "code",
   "execution_count": 31,
   "metadata": {},
   "outputs": [
    {
     "data": {
      "text/plain": [
       "0.04055017333586794"
      ]
     },
     "execution_count": 31,
     "metadata": {},
     "output_type": "execute_result"
    },
    {
     "data": {
      "image/png": "[encoded data removed]",
      "text/plain": [
       "<Figure size 504x360 with 1 Axes>"
      ]
     },
     "metadata": {
      "needs_background": "light"
     },
     "output_type": "display_data"
    }
   ],
   "source": [
    "total_area = data.pivot_table(index = 'cost_meter', values = 'total_area', aggfunc = 'median')\n",
    "total_area.columns = ['median']\n",
    "total_area.plot(style = 'o', figsize = (7,5))\n",
    "\n",
    "data['total_area'].corr(data['cost_meter'])"
   ]
  },
  {
   "cell_type": "code",
   "execution_count": 32,
   "metadata": {},
   "outputs": [
    {
     "data": {
      "text/plain": [
       "-0.04509486614611316"
      ]
     },
     "execution_count": 32,
     "metadata": {},
     "output_type": "execute_result"
    },
    {
     "data": {
      "image/png": "[encoded data removed]",
      "text/plain": [
       "<Figure size 504x360 with 1 Axes>"
      ]
     },
     "metadata": {
      "needs_background": "light"
     },
     "output_type": "display_data"
    }
   ],
   "source": [
    "living_area = data.pivot_table(index = 'cost_meter', values = 'living_area', aggfunc = 'median')\n",
    "living_area.columns = ['median']\n",
    "living_area.plot(figsize = (7,5), style = 'o')\n",
    "data['living_area'].corr(data['cost_meter'])"
   ]
  },
  {
   "cell_type": "code",
   "execution_count": 33,
   "metadata": {},
   "outputs": [
    {
     "data": {
      "text/plain": [
       "0.2576597465795133"
      ]
     },
     "execution_count": 33,
     "metadata": {},
     "output_type": "execute_result"
    },
    {
     "data": {
      "image/png": "[encoded data removed]",
      "text/plain": [
       "<Figure size 504x360 with 1 Axes>"
      ]
     },
     "metadata": {
      "needs_background": "light"
     },
     "output_type": "display_data"
    }
   ],
   "source": [
    "kitchen_area = data.pivot_table(index = 'cost_meter', values = 'kitchen_area', aggfunc = 'median')\n",
    "kitchen_area.columns = ['median']\n",
    "kitchen_area.plot(figsize = (7,5), style = 'o')\n",
    "data['kitchen_area'].corr(data['cost_meter'])"
   ]
  },
  {
   "cell_type": "code",
   "execution_count": 34,
   "metadata": {},
   "outputs": [
    {
     "data": {
      "text/html": [
       "<div>\n",
       "<style scoped>\n",
       "    .dataframe tbody tr th:only-of-type {\n",
       "        vertical-align: middle;\n",
       "    }\n",
       "\n",
       "    .dataframe tbody tr th {\n",
       "        vertical-align: top;\n",
       "    }\n",
       "\n",
       "    .dataframe thead th {\n",
       "        text-align: right;\n",
       "    }\n",
       "</style>\n",
       "<table border=\"1\" class=\"dataframe\">\n",
       "  <thead>\n",
       "    <tr style=\"text-align: right;\">\n",
       "      <th></th>\n",
       "      <th>count</th>\n",
       "      <th>median</th>\n",
       "      <th>mean</th>\n",
       "    </tr>\n",
       "    <tr>\n",
       "      <th>rooms</th>\n",
       "      <th></th>\n",
       "      <th></th>\n",
       "      <th></th>\n",
       "    </tr>\n",
       "  </thead>\n",
       "  <tbody>\n",
       "    <tr>\n",
       "      <th>1</th>\n",
       "      <td>4030</td>\n",
       "      <td>101351.35135</td>\n",
       "      <td>101401.35715</td>\n",
       "    </tr>\n",
       "    <tr>\n",
       "      <th>2</th>\n",
       "      <td>4029</td>\n",
       "      <td>93333.33333</td>\n",
       "      <td>94662.51125</td>\n",
       "    </tr>\n",
       "    <tr>\n",
       "      <th>3</th>\n",
       "      <td>2859</td>\n",
       "      <td>88141.02564</td>\n",
       "      <td>90562.92094</td>\n",
       "    </tr>\n",
       "    <tr>\n",
       "      <th>4</th>\n",
       "      <td>519</td>\n",
       "      <td>86253.36927</td>\n",
       "      <td>88412.56697</td>\n",
       "    </tr>\n",
       "    <tr>\n",
       "      <th>5</th>\n",
       "      <td>113</td>\n",
       "      <td>84615.38462</td>\n",
       "      <td>85845.12262</td>\n",
       "    </tr>\n",
       "    <tr>\n",
       "      <th>6</th>\n",
       "      <td>25</td>\n",
       "      <td>89765.92270</td>\n",
       "      <td>91922.93007</td>\n",
       "    </tr>\n",
       "    <tr>\n",
       "      <th>7</th>\n",
       "      <td>3</td>\n",
       "      <td>88730.56995</td>\n",
       "      <td>84247.01372</td>\n",
       "    </tr>\n",
       "  </tbody>\n",
       "</table>\n",
       "</div>"
      ],
      "text/plain": [
       "       count       median         mean\n",
       "rooms                                 \n",
       "1       4030 101351.35135 101401.35715\n",
       "2       4029  93333.33333  94662.51125\n",
       "3       2859  88141.02564  90562.92094\n",
       "4        519  86253.36927  88412.56697\n",
       "5        113  84615.38462  85845.12262\n",
       "6         25  89765.92270  91922.93007\n",
       "7          3  88730.56995  84247.01372"
      ]
     },
     "execution_count": 34,
     "metadata": {},
     "output_type": "execute_result"
    },
    {
     "data": {
      "image/png": "[encoded data removed]",
      "text/plain": [
       "<Figure size 504x360 with 1 Axes>"
      ]
     },
     "metadata": {
      "needs_background": "light"
     },
     "output_type": "display_data"
    }
   ],
   "source": [
    "# значения с 0 квартир и с 8 и более комнатами слишком сильно влияли на график, \n",
    "# при очень малом кол-ве таких квартир в % соотношении \n",
    "rooms = data.pivot_table(index = 'rooms', values = 'cost_meter', aggfunc = ['count', 'median', 'mean'])\n",
    "rooms.columns = ['count','median', 'mean']\n",
    "rooms = rooms[rooms.index != 0]\n",
    "rooms[rooms.index < 8].plot(y = 'median', figsize =(7,5))\n",
    "rooms[rooms.index < 8]"
   ]
  },
  {
   "cell_type": "code",
   "execution_count": 35,
   "metadata": {},
   "outputs": [
    {
     "data": {
      "text/html": [
       "<div>\n",
       "<style scoped>\n",
       "    .dataframe tbody tr th:only-of-type {\n",
       "        vertical-align: middle;\n",
       "    }\n",
       "\n",
       "    .dataframe tbody tr th {\n",
       "        vertical-align: top;\n",
       "    }\n",
       "\n",
       "    .dataframe thead th {\n",
       "        text-align: right;\n",
       "    }\n",
       "</style>\n",
       "<table border=\"1\" class=\"dataframe\">\n",
       "  <thead>\n",
       "    <tr style=\"text-align: right;\">\n",
       "      <th></th>\n",
       "      <th>count</th>\n",
       "      <th>median</th>\n",
       "    </tr>\n",
       "    <tr>\n",
       "      <th>floor_type</th>\n",
       "      <th></th>\n",
       "      <th></th>\n",
       "    </tr>\n",
       "  </thead>\n",
       "  <tbody>\n",
       "    <tr>\n",
       "      <th>другой</th>\n",
       "      <td>8577</td>\n",
       "      <td>97625.32982</td>\n",
       "    </tr>\n",
       "    <tr>\n",
       "      <th>первый</th>\n",
       "      <td>1461</td>\n",
       "      <td>81548.59967</td>\n",
       "    </tr>\n",
       "    <tr>\n",
       "      <th>последний</th>\n",
       "      <td>1612</td>\n",
       "      <td>88691.40151</td>\n",
       "    </tr>\n",
       "  </tbody>\n",
       "</table>\n",
       "</div>"
      ],
      "text/plain": [
       "            count      median\n",
       "floor_type                   \n",
       "другой       8577 97625.32982\n",
       "первый       1461 81548.59967\n",
       "последний    1612 88691.40151"
      ]
     },
     "execution_count": 35,
     "metadata": {},
     "output_type": "execute_result"
    },
    {
     "data": {
      "image/png": "[encoded data removed]",
      "text/plain": [
       "<Figure size 504x360 with 1 Axes>"
      ]
     },
     "metadata": {
      "needs_background": "light"
     },
     "output_type": "display_data"
    }
   ],
   "source": [
    "floors = data.pivot_table(index = 'floor_type', values = 'cost_meter', aggfunc = ['count', 'median'])\n",
    "floors.columns = ['count', 'median']\n",
    "floors.plot(y = 'median', figsize =(7,5))\n",
    "floors"
   ]
  },
  {
   "cell_type": "code",
   "execution_count": 36,
   "metadata": {},
   "outputs": [
    {
     "data": {
      "text/html": [
       "<div>\n",
       "<style scoped>\n",
       "    .dataframe tbody tr th:only-of-type {\n",
       "        vertical-align: middle;\n",
       "    }\n",
       "\n",
       "    .dataframe tbody tr th {\n",
       "        vertical-align: top;\n",
       "    }\n",
       "\n",
       "    .dataframe thead th {\n",
       "        text-align: right;\n",
       "    }\n",
       "</style>\n",
       "<table border=\"1\" class=\"dataframe\">\n",
       "  <thead>\n",
       "    <tr style=\"text-align: right;\">\n",
       "      <th></th>\n",
       "      <th>count</th>\n",
       "      <th>median</th>\n",
       "    </tr>\n",
       "    <tr>\n",
       "      <th>day</th>\n",
       "      <th></th>\n",
       "      <th></th>\n",
       "    </tr>\n",
       "  </thead>\n",
       "  <tbody>\n",
       "    <tr>\n",
       "      <th>0</th>\n",
       "      <td>1843</td>\n",
       "      <td>94794.34447</td>\n",
       "    </tr>\n",
       "    <tr>\n",
       "      <th>1</th>\n",
       "      <td>2118</td>\n",
       "      <td>95677.64946</td>\n",
       "    </tr>\n",
       "    <tr>\n",
       "      <th>2</th>\n",
       "      <td>1926</td>\n",
       "      <td>94955.38094</td>\n",
       "    </tr>\n",
       "    <tr>\n",
       "      <th>3</th>\n",
       "      <td>2159</td>\n",
       "      <td>95000.00000</td>\n",
       "    </tr>\n",
       "    <tr>\n",
       "      <th>4</th>\n",
       "      <td>1885</td>\n",
       "      <td>94102.56410</td>\n",
       "    </tr>\n",
       "    <tr>\n",
       "      <th>5</th>\n",
       "      <td>932</td>\n",
       "      <td>92362.89956</td>\n",
       "    </tr>\n",
       "    <tr>\n",
       "      <th>6</th>\n",
       "      <td>787</td>\n",
       "      <td>94594.59459</td>\n",
       "    </tr>\n",
       "  </tbody>\n",
       "</table>\n",
       "</div>"
      ],
      "text/plain": [
       "     count      median\n",
       "day                   \n",
       "0     1843 94794.34447\n",
       "1     2118 95677.64946\n",
       "2     1926 94955.38094\n",
       "3     2159 95000.00000\n",
       "4     1885 94102.56410\n",
       "5      932 92362.89956\n",
       "6      787 94594.59459"
      ]
     },
     "execution_count": 36,
     "metadata": {},
     "output_type": "execute_result"
    },
    {
     "data": {
      "image/png": "[encoded data removed]",
      "text/plain": [
       "<Figure size 504x360 with 1 Axes>"
      ]
     },
     "metadata": {
      "needs_background": "light"
     },
     "output_type": "display_data"
    }
   ],
   "source": [
    "day = data.pivot_table(index = 'day', values = 'cost_meter', aggfunc = ['count','median'])\n",
    "day.columns= ['count','median']\n",
    "day.plot(y = 'median', figsize =(7,5))\n",
    "day"
   ]
  },
  {
   "cell_type": "code",
   "execution_count": 37,
   "metadata": {},
   "outputs": [
    {
     "data": {
      "text/html": [
       "<div>\n",
       "<style scoped>\n",
       "    .dataframe tbody tr th:only-of-type {\n",
       "        vertical-align: middle;\n",
       "    }\n",
       "\n",
       "    .dataframe tbody tr th {\n",
       "        vertical-align: top;\n",
       "    }\n",
       "\n",
       "    .dataframe thead th {\n",
       "        text-align: right;\n",
       "    }\n",
       "</style>\n",
       "<table border=\"1\" class=\"dataframe\">\n",
       "  <thead>\n",
       "    <tr style=\"text-align: right;\">\n",
       "      <th></th>\n",
       "      <th>count</th>\n",
       "      <th>median</th>\n",
       "    </tr>\n",
       "    <tr>\n",
       "      <th>month</th>\n",
       "      <th></th>\n",
       "      <th></th>\n",
       "    </tr>\n",
       "  </thead>\n",
       "  <tbody>\n",
       "    <tr>\n",
       "      <th>1</th>\n",
       "      <td>739</td>\n",
       "      <td>95112.28534</td>\n",
       "    </tr>\n",
       "    <tr>\n",
       "      <th>2</th>\n",
       "      <td>1363</td>\n",
       "      <td>94897.95918</td>\n",
       "    </tr>\n",
       "    <tr>\n",
       "      <th>3</th>\n",
       "      <td>1214</td>\n",
       "      <td>92888.74842</td>\n",
       "    </tr>\n",
       "    <tr>\n",
       "      <th>4</th>\n",
       "      <td>813</td>\n",
       "      <td>94594.59459</td>\n",
       "    </tr>\n",
       "    <tr>\n",
       "      <th>5</th>\n",
       "      <td>575</td>\n",
       "      <td>93333.33333</td>\n",
       "    </tr>\n",
       "    <tr>\n",
       "      <th>6</th>\n",
       "      <td>829</td>\n",
       "      <td>93181.81818</td>\n",
       "    </tr>\n",
       "    <tr>\n",
       "      <th>7</th>\n",
       "      <td>925</td>\n",
       "      <td>94308.94309</td>\n",
       "    </tr>\n",
       "    <tr>\n",
       "      <th>8</th>\n",
       "      <td>971</td>\n",
       "      <td>95827.53825</td>\n",
       "    </tr>\n",
       "    <tr>\n",
       "      <th>9</th>\n",
       "      <td>1078</td>\n",
       "      <td>96760.65574</td>\n",
       "    </tr>\n",
       "    <tr>\n",
       "      <th>10</th>\n",
       "      <td>1151</td>\n",
       "      <td>94339.62264</td>\n",
       "    </tr>\n",
       "    <tr>\n",
       "      <th>11</th>\n",
       "      <td>1212</td>\n",
       "      <td>95552.27060</td>\n",
       "    </tr>\n",
       "    <tr>\n",
       "      <th>12</th>\n",
       "      <td>780</td>\n",
       "      <td>94841.44584</td>\n",
       "    </tr>\n",
       "  </tbody>\n",
       "</table>\n",
       "</div>"
      ],
      "text/plain": [
       "       count      median\n",
       "month                   \n",
       "1        739 95112.28534\n",
       "2       1363 94897.95918\n",
       "3       1214 92888.74842\n",
       "4        813 94594.59459\n",
       "5        575 93333.33333\n",
       "6        829 93181.81818\n",
       "7        925 94308.94309\n",
       "8        971 95827.53825\n",
       "9       1078 96760.65574\n",
       "10      1151 94339.62264\n",
       "11      1212 95552.27060\n",
       "12       780 94841.44584"
      ]
     },
     "execution_count": 37,
     "metadata": {},
     "output_type": "execute_result"
    },
    {
     "data": {
      "image/png": "[encoded data removed]",
      "text/plain": [
       "<Figure size 504x360 with 1 Axes>"
      ]
     },
     "metadata": {
      "needs_background": "light"
     },
     "output_type": "display_data"
    }
   ],
   "source": [
    "month = data.pivot_table(index = 'month', values = 'cost_meter', aggfunc = ['count','median'])\n",
    "month.columns= ['count','median']\n",
    "month.plot(y = 'median', figsize =(7,5))\n",
    "month"
   ]
  },
  {
   "cell_type": "code",
   "execution_count": 38,
   "metadata": {},
   "outputs": [
    {
     "data": {
      "text/html": [
       "<div>\n",
       "<style scoped>\n",
       "    .dataframe tbody tr th:only-of-type {\n",
       "        vertical-align: middle;\n",
       "    }\n",
       "\n",
       "    .dataframe tbody tr th {\n",
       "        vertical-align: top;\n",
       "    }\n",
       "\n",
       "    .dataframe thead th {\n",
       "        text-align: right;\n",
       "    }\n",
       "</style>\n",
       "<table border=\"1\" class=\"dataframe\">\n",
       "  <thead>\n",
       "    <tr style=\"text-align: right;\">\n",
       "      <th></th>\n",
       "      <th>count</th>\n",
       "      <th>median</th>\n",
       "    </tr>\n",
       "    <tr>\n",
       "      <th>year</th>\n",
       "      <th></th>\n",
       "      <th></th>\n",
       "    </tr>\n",
       "  </thead>\n",
       "  <tbody>\n",
       "    <tr>\n",
       "      <th>2014</th>\n",
       "      <td>59</td>\n",
       "      <td>102996.25468</td>\n",
       "    </tr>\n",
       "    <tr>\n",
       "      <th>2015</th>\n",
       "      <td>517</td>\n",
       "      <td>90000.00000</td>\n",
       "    </tr>\n",
       "    <tr>\n",
       "      <th>2016</th>\n",
       "      <td>1266</td>\n",
       "      <td>91012.82051</td>\n",
       "    </tr>\n",
       "    <tr>\n",
       "      <th>2017</th>\n",
       "      <td>4068</td>\n",
       "      <td>92755.38894</td>\n",
       "    </tr>\n",
       "    <tr>\n",
       "      <th>2018</th>\n",
       "      <td>4938</td>\n",
       "      <td>95918.64313</td>\n",
       "    </tr>\n",
       "    <tr>\n",
       "      <th>2019</th>\n",
       "      <td>802</td>\n",
       "      <td>105921.57595</td>\n",
       "    </tr>\n",
       "  </tbody>\n",
       "</table>\n",
       "</div>"
      ],
      "text/plain": [
       "      count       median\n",
       "year                    \n",
       "2014     59 102996.25468\n",
       "2015    517  90000.00000\n",
       "2016   1266  91012.82051\n",
       "2017   4068  92755.38894\n",
       "2018   4938  95918.64313\n",
       "2019    802 105921.57595"
      ]
     },
     "execution_count": 38,
     "metadata": {},
     "output_type": "execute_result"
    },
    {
     "data": {
      "image/png": "[encoded data removed]",
      "text/plain": [
       "<Figure size 504x360 with 1 Axes>"
      ]
     },
     "metadata": {
      "needs_background": "light"
     },
     "output_type": "display_data"
    }
   ],
   "source": [
    "year = data.pivot_table(index = 'year', values = 'cost_meter', aggfunc = ['count','median'])\n",
    "year.columns= ['count','median']\n",
    "year.plot(y = 'median', figsize =(7,5))\n",
    "year"
   ]
  },
  {
   "cell_type": "markdown",
   "metadata": {},
   "source": [
    "Зависимость цены за квадрат от общей площади и прощади кухни есть - вместе с квадратурой растет и цена за квадрат, но она очень мала.  \n",
    "По жилой площади такая же ситуация, как с общей площадью и кухней, зависимость есть, но она еще ниже.  \n",
    "Минимальная цена за квадратный метр - у 3 комнатной  квартиры и снижается в ее сторону, корреляция настолько ничтожна что ей можно принебречь.  \n",
    "Дороже всего квартиры не на первом и не на последнем этажах, что логично.\n",
    "\n",
    "Разброс, в стоимости за кв метр по дням и месяцам, не велик, если смотреть на значения, однако по графикам можно определить, что:  \n",
    "- самая высокая стоимость выставлялась во вторник, постепенно снижаясь к субботе, после чего начинала расти от воскресения ко вторнику.\n",
    "- по месяцам - самые \"дешевые\": май, июнь; самые \"дорогие\": апрель и август.  \n",
    "\n",
    "С 2014 по 2015 был резкий спад, который остаточно продолжился к 2016, в 2017 начался рост цены, который продолжался до 2019 набирая темпы. В целом для любых рынков свойственны взлеты и падения, чередующие друг друга, тут нет ничего удивительного. Однако фактический рост цены может быть ниже или его вообще может не быть, т.к. стоимость могла компесировать в себе инфляцию.\n"
   ]
  },
  {
   "cell_type": "markdown",
   "metadata": {},
   "source": [
    "<a id='6'></a>\n",
    "#### Посчитайте среднюю цену одного квадратного метра в 10 населённых пунктах с наибольшим числом объявлений. Выделите населённые пункты с самой высокой и низкой стоимостью квадратного метра. Эти данные можно найти по имени в столбце locality_name."
   ]
  },
  {
   "cell_type": "code",
   "execution_count": 39,
   "metadata": {},
   "outputs": [
    {
     "data": {
      "text/html": [
       "<div>\n",
       "<style scoped>\n",
       "    .dataframe tbody tr th:only-of-type {\n",
       "        vertical-align: middle;\n",
       "    }\n",
       "\n",
       "    .dataframe tbody tr th {\n",
       "        vertical-align: top;\n",
       "    }\n",
       "\n",
       "    .dataframe thead th {\n",
       "        text-align: right;\n",
       "    }\n",
       "</style>\n",
       "<table border=\"1\" class=\"dataframe\">\n",
       "  <thead>\n",
       "    <tr style=\"text-align: right;\">\n",
       "      <th></th>\n",
       "      <th>mean</th>\n",
       "      <th>count</th>\n",
       "    </tr>\n",
       "    <tr>\n",
       "      <th>locality_name</th>\n",
       "      <th></th>\n",
       "      <th></th>\n",
       "    </tr>\n",
       "  </thead>\n",
       "  <tbody>\n",
       "    <tr>\n",
       "      <th>санкт-петербург</th>\n",
       "      <td>107624.50098</td>\n",
       "      <td>8032</td>\n",
       "    </tr>\n",
       "    <tr>\n",
       "      <th>пушкин</th>\n",
       "      <td>99673.68189</td>\n",
       "      <td>182</td>\n",
       "    </tr>\n",
       "    <tr>\n",
       "      <th>деревня кудрово</th>\n",
       "      <td>90778.01364</td>\n",
       "      <td>122</td>\n",
       "    </tr>\n",
       "    <tr>\n",
       "      <th>поселок парголово</th>\n",
       "      <td>89670.43179</td>\n",
       "      <td>120</td>\n",
       "    </tr>\n",
       "    <tr>\n",
       "      <th>поселок мурино</th>\n",
       "      <td>87159.46557</td>\n",
       "      <td>213</td>\n",
       "    </tr>\n",
       "    <tr>\n",
       "      <th>петергоф</th>\n",
       "      <td>83156.10591</td>\n",
       "      <td>123</td>\n",
       "    </tr>\n",
       "    <tr>\n",
       "      <th>поселок шушары</th>\n",
       "      <td>78672.17616</td>\n",
       "      <td>190</td>\n",
       "    </tr>\n",
       "    <tr>\n",
       "      <th>колпино</th>\n",
       "      <td>75062.58953</td>\n",
       "      <td>179</td>\n",
       "    </tr>\n",
       "    <tr>\n",
       "      <th>гатчина</th>\n",
       "      <td>69148.51185</td>\n",
       "      <td>126</td>\n",
       "    </tr>\n",
       "    <tr>\n",
       "      <th>всеволожск</th>\n",
       "      <td>66465.61561</td>\n",
       "      <td>221</td>\n",
       "    </tr>\n",
       "  </tbody>\n",
       "</table>\n",
       "</div>"
      ],
      "text/plain": [
       "                          mean  count\n",
       "locality_name                        \n",
       "санкт-петербург   107624.50098   8032\n",
       "пушкин             99673.68189    182\n",
       "деревня кудрово    90778.01364    122\n",
       "поселок парголово  89670.43179    120\n",
       "поселок мурино     87159.46557    213\n",
       "петергоф           83156.10591    123\n",
       "поселок шушары     78672.17616    190\n",
       "колпино            75062.58953    179\n",
       "гатчина            69148.51185    126\n",
       "всеволожск         66465.61561    221"
      ]
     },
     "execution_count": 39,
     "metadata": {},
     "output_type": "execute_result"
    }
   ],
   "source": [
    "data_locality = data.pivot_table(index = 'locality_name', values = 'cost_meter', aggfunc = ['mean', 'count'])\n",
    "data_locality.columns = ['mean', 'count']\n",
    "data_locality = data_locality.sort_values(by = 'count', ascending = False).head(10)\n",
    "data_locality = data_locality.sort_values(by = 'mean', ascending = False)\n",
    "data_locality"
   ]
  },
  {
   "cell_type": "markdown",
   "metadata": {},
   "source": [
    "В топ 10 городов по кол-ву объявлений: cамые дорогие квартиры в Питере, самые дешевые в Выборге."
   ]
  },
  {
   "cell_type": "markdown",
   "metadata": {},
   "source": [
    "<a id='7'></a>\n",
    "#### Ранее вы посчитали расстояние до центра в километрах. Теперь выделите квартиры в Санкт-Петербурге с помощью столбца locality_name и вычислите среднюю цену каждого километра. Опишите, как стоимость объектов зависит от расстояния до центра города."
   ]
  },
  {
   "cell_type": "code",
   "execution_count": 40,
   "metadata": {},
   "outputs": [
    {
     "data": {
      "text/html": [
       "<div>\n",
       "<style scoped>\n",
       "    .dataframe tbody tr th:only-of-type {\n",
       "        vertical-align: middle;\n",
       "    }\n",
       "\n",
       "    .dataframe tbody tr th {\n",
       "        vertical-align: top;\n",
       "    }\n",
       "\n",
       "    .dataframe thead th {\n",
       "        text-align: right;\n",
       "    }\n",
       "</style>\n",
       "<table border=\"1\" class=\"dataframe\">\n",
       "  <thead>\n",
       "    <tr style=\"text-align: right;\">\n",
       "      <th></th>\n",
       "      <th>mean</th>\n",
       "    </tr>\n",
       "  </thead>\n",
       "  <tbody>\n",
       "    <tr>\n",
       "      <th>count</th>\n",
       "      <td>30.00000</td>\n",
       "    </tr>\n",
       "    <tr>\n",
       "      <th>mean</th>\n",
       "      <td>106467.41715</td>\n",
       "    </tr>\n",
       "    <tr>\n",
       "      <th>std</th>\n",
       "      <td>22568.43246</td>\n",
       "    </tr>\n",
       "    <tr>\n",
       "      <th>min</th>\n",
       "      <td>65460.20308</td>\n",
       "    </tr>\n",
       "    <tr>\n",
       "      <th>25%</th>\n",
       "      <td>91822.54391</td>\n",
       "    </tr>\n",
       "    <tr>\n",
       "      <th>50%</th>\n",
       "      <td>105349.65555</td>\n",
       "    </tr>\n",
       "    <tr>\n",
       "      <th>75%</th>\n",
       "      <td>117360.82801</td>\n",
       "    </tr>\n",
       "    <tr>\n",
       "      <th>max</th>\n",
       "      <td>193918.91892</td>\n",
       "    </tr>\n",
       "  </tbody>\n",
       "</table>\n",
       "</div>"
      ],
      "text/plain": [
       "              mean\n",
       "count     30.00000\n",
       "mean  106467.41715\n",
       "std    22568.43246\n",
       "min    65460.20308\n",
       "25%    91822.54391\n",
       "50%   105349.65555\n",
       "75%   117360.82801\n",
       "max   193918.91892"
      ]
     },
     "execution_count": 40,
     "metadata": {},
     "output_type": "execute_result"
    },
    {
     "data": {
      "image/png": "[encoded data removed]",
      "text/plain": [
       "<Figure size 432x288 with 1 Axes>"
      ]
     },
     "metadata": {
      "needs_background": "light"
     },
     "output_type": "display_data"
    }
   ],
   "source": [
    "data_spb = data[data['locality_name'] == 'санкт-петербург']\n",
    "data_spb = data_spb.pivot_table(index = 'range_centre', values = 'cost_meter', aggfunc = 'mean')\n",
    "data_spb.columns = ['mean']\n",
    "data_spb.boxplot()\n",
    "data_spb.describe()"
   ]
  },
  {
   "cell_type": "code",
   "execution_count": 41,
   "metadata": {},
   "outputs": [
    {
     "data": {
      "text/plain": [
       "array([[<AxesSubplot:title={'center':'mean'}>]], dtype=object)"
      ]
     },
     "execution_count": 41,
     "metadata": {},
     "output_type": "execute_result"
    },
    {
     "data": {
      "image/png": "[encoded data removed]",
      "text/plain": [
       "<Figure size 504x360 with 1 Axes>"
      ]
     },
     "metadata": {
      "needs_background": "light"
     },
     "output_type": "display_data"
    }
   ],
   "source": [
    "data_spb.hist(bins = 40, figsize = (7,5))"
   ]
  },
  {
   "cell_type": "code",
   "execution_count": 42,
   "metadata": {},
   "outputs": [
    {
     "data": {
      "text/html": [
       "<div>\n",
       "<style scoped>\n",
       "    .dataframe tbody tr th:only-of-type {\n",
       "        vertical-align: middle;\n",
       "    }\n",
       "\n",
       "    .dataframe tbody tr th {\n",
       "        vertical-align: top;\n",
       "    }\n",
       "\n",
       "    .dataframe thead th {\n",
       "        text-align: right;\n",
       "    }\n",
       "</style>\n",
       "<table border=\"1\" class=\"dataframe\">\n",
       "  <thead>\n",
       "    <tr style=\"text-align: right;\">\n",
       "      <th></th>\n",
       "      <th>mean</th>\n",
       "    </tr>\n",
       "    <tr>\n",
       "      <th>range_centre</th>\n",
       "      <th></th>\n",
       "    </tr>\n",
       "  </thead>\n",
       "  <tbody>\n",
       "    <tr>\n",
       "      <th>0</th>\n",
       "      <td>106523.18621</td>\n",
       "    </tr>\n",
       "    <tr>\n",
       "      <th>1</th>\n",
       "      <td>104565.34658</td>\n",
       "    </tr>\n",
       "    <tr>\n",
       "      <th>2</th>\n",
       "      <td>99879.95416</td>\n",
       "    </tr>\n",
       "    <tr>\n",
       "      <th>3</th>\n",
       "      <td>98616.40470</td>\n",
       "    </tr>\n",
       "    <tr>\n",
       "      <th>4</th>\n",
       "      <td>103234.68803</td>\n",
       "    </tr>\n",
       "    <tr>\n",
       "      <th>5</th>\n",
       "      <td>103229.65302</td>\n",
       "    </tr>\n",
       "    <tr>\n",
       "      <th>6</th>\n",
       "      <td>102353.74539</td>\n",
       "    </tr>\n",
       "    <tr>\n",
       "      <th>7</th>\n",
       "      <td>106102.02261</td>\n",
       "    </tr>\n",
       "    <tr>\n",
       "      <th>8</th>\n",
       "      <td>102447.54108</td>\n",
       "    </tr>\n",
       "    <tr>\n",
       "      <th>9</th>\n",
       "      <td>102485.01621</td>\n",
       "    </tr>\n",
       "    <tr>\n",
       "      <th>10</th>\n",
       "      <td>100227.18403</td>\n",
       "    </tr>\n",
       "    <tr>\n",
       "      <th>11</th>\n",
       "      <td>100448.29585</td>\n",
       "    </tr>\n",
       "    <tr>\n",
       "      <th>12</th>\n",
       "      <td>101046.23923</td>\n",
       "    </tr>\n",
       "    <tr>\n",
       "      <th>13</th>\n",
       "      <td>101800.01915</td>\n",
       "    </tr>\n",
       "    <tr>\n",
       "      <th>14</th>\n",
       "      <td>100116.63598</td>\n",
       "    </tr>\n",
       "    <tr>\n",
       "      <th>15</th>\n",
       "      <td>98052.74545</td>\n",
       "    </tr>\n",
       "    <tr>\n",
       "      <th>16</th>\n",
       "      <td>96930.11427</td>\n",
       "    </tr>\n",
       "    <tr>\n",
       "      <th>17</th>\n",
       "      <td>94832.02228</td>\n",
       "    </tr>\n",
       "    <tr>\n",
       "      <th>18</th>\n",
       "      <td>94773.67787</td>\n",
       "    </tr>\n",
       "    <tr>\n",
       "      <th>19</th>\n",
       "      <td>98223.91678</td>\n",
       "    </tr>\n",
       "    <tr>\n",
       "      <th>20</th>\n",
       "      <td>101158.47084</td>\n",
       "    </tr>\n",
       "    <tr>\n",
       "      <th>21</th>\n",
       "      <td>90733.47414</td>\n",
       "    </tr>\n",
       "    <tr>\n",
       "      <th>22</th>\n",
       "      <td>91296.94497</td>\n",
       "    </tr>\n",
       "    <tr>\n",
       "      <th>23</th>\n",
       "      <td>91118.20502</td>\n",
       "    </tr>\n",
       "    <tr>\n",
       "      <th>24</th>\n",
       "      <td>90830.66933</td>\n",
       "    </tr>\n",
       "    <tr>\n",
       "      <th>25</th>\n",
       "      <td>88834.68566</td>\n",
       "    </tr>\n",
       "    <tr>\n",
       "      <th>26</th>\n",
       "      <td>115277.77778</td>\n",
       "    </tr>\n",
       "    <tr>\n",
       "      <th>28</th>\n",
       "      <td>86023.58677</td>\n",
       "    </tr>\n",
       "    <tr>\n",
       "      <th>29</th>\n",
       "      <td>73943.66197</td>\n",
       "    </tr>\n",
       "  </tbody>\n",
       "</table>\n",
       "</div>"
      ],
      "text/plain": [
       "                     mean\n",
       "range_centre             \n",
       "0            106523.18621\n",
       "1            104565.34658\n",
       "2             99879.95416\n",
       "3             98616.40470\n",
       "4            103234.68803\n",
       "5            103229.65302\n",
       "6            102353.74539\n",
       "7            106102.02261\n",
       "8            102447.54108\n",
       "9            102485.01621\n",
       "10           100227.18403\n",
       "11           100448.29585\n",
       "12           101046.23923\n",
       "13           101800.01915\n",
       "14           100116.63598\n",
       "15            98052.74545\n",
       "16            96930.11427\n",
       "17            94832.02228\n",
       "18            94773.67787\n",
       "19            98223.91678\n",
       "20           101158.47084\n",
       "21            90733.47414\n",
       "22            91296.94497\n",
       "23            91118.20502\n",
       "24            90830.66933\n",
       "25            88834.68566\n",
       "26           115277.77778\n",
       "28            86023.58677\n",
       "29            73943.66197"
      ]
     },
     "execution_count": 42,
     "metadata": {},
     "output_type": "execute_result"
    },
    {
     "data": {
      "image/png": "[encoded data removed]",
      "text/plain": [
       "<Figure size 432x288 with 1 Axes>"
      ]
     },
     "metadata": {
      "needs_background": "light"
     },
     "output_type": "display_data"
    }
   ],
   "source": [
    "data_spb = data.query(\"locality_name == 'санкт-петербург' and 70000 < cost_meter < 130000\")\n",
    "data_spb = data_spb.pivot_table(index = 'range_centre', values = 'cost_meter', aggfunc = 'mean')\n",
    "data_spb.columns = ['mean']\n",
    "\n",
    "data_spb.plot()\n",
    "data_spb"
   ]
  },
  {
   "cell_type": "code",
   "execution_count": 47,
   "metadata": {
    "scrolled": false
   },
   "outputs": [
    {
     "data": {
      "text/plain": [
       "-0.13688639046976428"
      ]
     },
     "execution_count": 47,
     "metadata": {},
     "output_type": "execute_result"
    },
    {
     "data": {
      "image/png": "[encoded data removed]",
      "text/plain": [
       "<Figure size 432x288 with 1 Axes>"
      ]
     },
     "metadata": {
      "needs_background": "light"
     },
     "output_type": "display_data"
    }
   ],
   "source": [
    "data_spb = data.query(\"locality_name == 'санкт-петербург' and 70000 < cost_meter < 130000\")\n",
    "data_spb.plot(kind = 'scatter', y = 'cost_meter', x = 'range_centre', alpha = 0.3)\n",
    "data_spb['range_centre'].corr(data_spb['cost_meter'])\n"
   ]
  },
  {
   "cell_type": "markdown",
   "metadata": {},
   "source": [
    "### Общий вывод"
   ]
  },
  {
   "cell_type": "markdown",
   "metadata": {},
   "source": [
    "Открыли, рассмотрели,обработали, добавили и проанализировали данные по объявлениям о продаже квартир в СПБ.  \n",
    "Важно отметить, что закрытие объявления не всегда является продажей.  \n",
    "  \n",
    "В качестве рекомендации к ведению базы данных:\n",
    "- можно добавить район квартиры, чтобы можно было сортировать данные по СПБ и области.\n",
    "- сделать обязательным полем кол-во этажей в доме, комнат.\n",
    "  \n",
    "\n",
    "[**Параметры объектов:**](#4) \n",
    "В СПБ и области основная часть квартир от 40 до 70 кв.м.  \n",
    "Жилая площадь от 18 до 42 кв.м, средняя кухня 9 - 10 кв.м.  \n",
    "Самая дорогая квартира стоит 763 млн. рублей, самая дешевая 12 тыс. рублей, медианная квартиры цена 4,6 млн. рублей.  \n",
    "Преобладают 1-2 комнатные квартиры, однако самое большое кол-во комнат 19.  \n",
    "Стандартная высота потолков 2,5-2,8 метра.  \n",
    "Самое высокое здание с квартирой в продаже 60 этажное, средняя этажность 9-10, больше всего 5 и 9 этажек  \n",
    "Средние расстояния до:  \n",
    "   - центра города - 14 км\n",
    "   - аэропорта - 29 км\n",
    "   - парка - 500 м  \n",
    "  \n",
    "Пик публикаций квартир приходиться на февраль - апрель и октябрь - ноябрь.  \n",
    "Самый плохие месяца по публикациям приходятся на январь, май, декабрь.  \n",
    "  \n",
    "Чаще всего квартиры выкладывают в середине рабочей недели (вторник - четверг).  \n",
    "В выходные объявления появляються реже всего.  \n",
    "\n",
    "Большая часть объявлений жили меньше 1 дня, скорее всего их удаляли по каким-то причинам, либо сами пользователи, либо модераторы. По медиане квартиры 'висят' на сайте почти 3 месяца, в среднем же чуть более 5 месяцев.\n",
    "Быстрыми можно считать продажи до 22 дней, долгими от 200 дней. Объявление долгожитель - 5 лет!\n",
    "\n",
    "[**Какие факторы больше всего влияют на общую (полную) стоимость объекта?**](#5) \n",
    "\n",
    "Зависимость цены за квадрат от общей площади и прощади кухни есть - вместе с квадратурой растет и цена за квадрат, но она очень мала.  \n",
    "По жилой площади такая же ситуация, как с общей площадью и кухней, зависимость есть, но она еще ниже.  \n",
    "Минимальная цена за квадратный метр - у 3 комнатной  квартиры и снижается в ее сторону, корреляция настолько ничтожна что ей можно принебречь.  \n",
    "Дороже всего квартиры не на первом и не на последнем этажах, что логично.\n",
    "\n",
    "Разброс, в стоимости за кв метр по дням и месяцам, не велик, если смотреть на значения, однако по графикам можно определить, что:  \n",
    "- самая высокая стоимость выставлялась во вторник, постепенно снижаясь к субботе, после чего начинала расти от воскресения ко вторнику.\n",
    "- по месяцам - самые \"дешевые\": май, июнь; самые \"дорогие\": апрель и август.  \n",
    "\n",
    "С 2014 по 2015 был резкий спад, который остаточно продолжился к 2016, в 2017 начался рост цены, который продолжался до 2019 набирая темпы. В целом для любых рынков свойственны взлеты и падения, чередующие друг друга, тут нет ничего удивительного. Однако фактический рост цены может быть ниже или его вообще может не быть, т.к. стоимость могла компесировать в себе инфляцию.\n",
    "\n",
    "[**Цена одного квадратного метра в 10 населённых пунктах с наибольшим числом объявлений.**](#6) \n",
    "\n",
    "\n"
   ]
  },
  {
   "cell_type": "code",
   "execution_count": 44,
   "metadata": {},
   "outputs": [
    {
     "data": {
      "text/html": [
       "<div>\n",
       "<style scoped>\n",
       "    .dataframe tbody tr th:only-of-type {\n",
       "        vertical-align: middle;\n",
       "    }\n",
       "\n",
       "    .dataframe tbody tr th {\n",
       "        vertical-align: top;\n",
       "    }\n",
       "\n",
       "    .dataframe thead th {\n",
       "        text-align: right;\n",
       "    }\n",
       "</style>\n",
       "<table border=\"1\" class=\"dataframe\">\n",
       "  <thead>\n",
       "    <tr style=\"text-align: right;\">\n",
       "      <th></th>\n",
       "      <th>mean</th>\n",
       "      <th>count</th>\n",
       "    </tr>\n",
       "    <tr>\n",
       "      <th>locality_name</th>\n",
       "      <th></th>\n",
       "      <th></th>\n",
       "    </tr>\n",
       "  </thead>\n",
       "  <tbody>\n",
       "    <tr>\n",
       "      <th>санкт-петербург</th>\n",
       "      <td>107624.50098</td>\n",
       "      <td>8032</td>\n",
       "    </tr>\n",
       "    <tr>\n",
       "      <th>пушкин</th>\n",
       "      <td>99673.68189</td>\n",
       "      <td>182</td>\n",
       "    </tr>\n",
       "    <tr>\n",
       "      <th>деревня кудрово</th>\n",
       "      <td>90778.01364</td>\n",
       "      <td>122</td>\n",
       "    </tr>\n",
       "    <tr>\n",
       "      <th>поселок парголово</th>\n",
       "      <td>89670.43179</td>\n",
       "      <td>120</td>\n",
       "    </tr>\n",
       "    <tr>\n",
       "      <th>поселок мурино</th>\n",
       "      <td>87159.46557</td>\n",
       "      <td>213</td>\n",
       "    </tr>\n",
       "    <tr>\n",
       "      <th>петергоф</th>\n",
       "      <td>83156.10591</td>\n",
       "      <td>123</td>\n",
       "    </tr>\n",
       "    <tr>\n",
       "      <th>поселок шушары</th>\n",
       "      <td>78672.17616</td>\n",
       "      <td>190</td>\n",
       "    </tr>\n",
       "    <tr>\n",
       "      <th>колпино</th>\n",
       "      <td>75062.58953</td>\n",
       "      <td>179</td>\n",
       "    </tr>\n",
       "    <tr>\n",
       "      <th>гатчина</th>\n",
       "      <td>69148.51185</td>\n",
       "      <td>126</td>\n",
       "    </tr>\n",
       "    <tr>\n",
       "      <th>всеволожск</th>\n",
       "      <td>66465.61561</td>\n",
       "      <td>221</td>\n",
       "    </tr>\n",
       "  </tbody>\n",
       "</table>\n",
       "</div>"
      ],
      "text/plain": [
       "                          mean  count\n",
       "locality_name                        \n",
       "санкт-петербург   107624.50098   8032\n",
       "пушкин             99673.68189    182\n",
       "деревня кудрово    90778.01364    122\n",
       "поселок парголово  89670.43179    120\n",
       "поселок мурино     87159.46557    213\n",
       "петергоф           83156.10591    123\n",
       "поселок шушары     78672.17616    190\n",
       "колпино            75062.58953    179\n",
       "гатчина            69148.51185    126\n",
       "всеволожск         66465.61561    221"
      ]
     },
     "execution_count": 44,
     "metadata": {},
     "output_type": "execute_result"
    }
   ],
   "source": [
    "data_locality"
   ]
  },
  {
   "cell_type": "markdown",
   "metadata": {},
   "source": [
    "[**Как стоимость объектов зависит от расстояния до центра города СПБ**](#7)  \n",
    "Можно сказать, что какой-то четкой зависимости нет, но есть очень слабая тендеция на снижение цены при удалении от центра."
   ]
  },
  {
   "cell_type": "markdown",
   "metadata": {},
   "source": [
    "<div class=\"info\">\n",
    "\n",
    "\n",
    "\n",
    "</div>\n"
   ]
  }
 ],
 "metadata": {
  "ExecuteTimeLog": [
   {
    "duration": 627,
    "start_time": "2022-11-08T10:14:59.761Z"
   },
   {
    "duration": 146,
    "start_time": "2022-11-08T10:15:10.395Z"
   },
   {
    "duration": 104,
    "start_time": "2022-11-08T10:15:27.493Z"
   },
   {
    "duration": 101,
    "start_time": "2022-11-08T10:15:39.518Z"
   },
   {
    "duration": 99,
    "start_time": "2022-11-08T10:15:53.162Z"
   },
   {
    "duration": 94,
    "start_time": "2022-11-08T10:17:07.719Z"
   },
   {
    "duration": 166,
    "start_time": "2022-11-08T10:25:34.273Z"
   },
   {
    "duration": 119,
    "start_time": "2022-11-08T10:25:58.563Z"
   },
   {
    "duration": 175,
    "start_time": "2022-11-08T10:26:08.489Z"
   },
   {
    "duration": 139,
    "start_time": "2022-11-08T10:26:37.780Z"
   },
   {
    "duration": 118,
    "start_time": "2022-11-08T11:44:04.644Z"
   },
   {
    "duration": 37,
    "start_time": "2022-11-08T11:44:07.397Z"
   },
   {
    "duration": 17,
    "start_time": "2022-11-08T13:09:32.891Z"
   },
   {
    "duration": 16,
    "start_time": "2022-11-08T13:10:55.236Z"
   },
   {
    "duration": 14,
    "start_time": "2022-11-08T13:11:16.295Z"
   },
   {
    "duration": 32,
    "start_time": "2022-11-08T13:11:24.794Z"
   },
   {
    "duration": 15,
    "start_time": "2022-11-08T13:11:27.989Z"
   },
   {
    "duration": 2809,
    "start_time": "2022-11-08T13:12:45.657Z"
   },
   {
    "duration": 47,
    "start_time": "2022-11-08T13:13:13.890Z"
   },
   {
    "duration": 50,
    "start_time": "2022-11-08T13:13:19.547Z"
   },
   {
    "duration": 57,
    "start_time": "2022-11-08T14:59:12.207Z"
   },
   {
    "duration": 34,
    "start_time": "2022-11-08T14:59:27.426Z"
   },
   {
    "duration": 55,
    "start_time": "2022-11-08T15:00:23.098Z"
   },
   {
    "duration": 34,
    "start_time": "2022-11-08T15:00:33.941Z"
   },
   {
    "duration": 56,
    "start_time": "2022-11-08T15:07:36.110Z"
   },
   {
    "duration": 53,
    "start_time": "2022-11-08T15:07:54.249Z"
   },
   {
    "duration": 52,
    "start_time": "2022-11-08T15:07:56.338Z"
   },
   {
    "duration": 1141,
    "start_time": "2022-11-08T15:08:43.728Z"
   },
   {
    "duration": 7,
    "start_time": "2022-11-08T15:08:48.667Z"
   },
   {
    "duration": 10,
    "start_time": "2022-11-08T15:09:11.801Z"
   },
   {
    "duration": 10,
    "start_time": "2022-11-08T15:09:39.936Z"
   },
   {
    "duration": 10,
    "start_time": "2022-11-08T15:10:09.413Z"
   },
   {
    "duration": 6,
    "start_time": "2022-11-08T15:11:53.411Z"
   },
   {
    "duration": 9,
    "start_time": "2022-11-08T15:14:02.707Z"
   },
   {
    "duration": 8,
    "start_time": "2022-11-08T15:19:17.333Z"
   },
   {
    "duration": 8,
    "start_time": "2022-11-08T15:22:16.324Z"
   },
   {
    "duration": 8,
    "start_time": "2022-11-08T15:32:42.892Z"
   },
   {
    "duration": 5,
    "start_time": "2022-11-08T15:34:12.921Z"
   },
   {
    "duration": 6,
    "start_time": "2022-11-08T15:34:19.020Z"
   },
   {
    "duration": 1169,
    "start_time": "2022-11-08T15:34:46.318Z"
   },
   {
    "duration": 5,
    "start_time": "2022-11-08T15:34:50.587Z"
   },
   {
    "duration": 7,
    "start_time": "2022-11-08T15:35:56.766Z"
   },
   {
    "duration": 6,
    "start_time": "2022-11-08T15:36:35.233Z"
   },
   {
    "duration": 7,
    "start_time": "2022-11-08T15:36:46.345Z"
   },
   {
    "duration": 6,
    "start_time": "2022-11-08T15:37:11.204Z"
   },
   {
    "duration": 9,
    "start_time": "2022-11-08T15:37:21.330Z"
   },
   {
    "duration": 7,
    "start_time": "2022-11-08T15:37:33.318Z"
   },
   {
    "duration": 1188,
    "start_time": "2022-11-08T15:38:22.779Z"
   },
   {
    "duration": 6,
    "start_time": "2022-11-08T15:38:26.568Z"
   },
   {
    "duration": 6,
    "start_time": "2022-11-08T15:40:05.075Z"
   },
   {
    "duration": 8,
    "start_time": "2022-11-08T15:40:11.050Z"
   },
   {
    "duration": 8,
    "start_time": "2022-11-08T15:40:56.901Z"
   },
   {
    "duration": 6,
    "start_time": "2022-11-08T15:41:02.729Z"
   },
   {
    "duration": 7,
    "start_time": "2022-11-08T15:41:08.218Z"
   },
   {
    "duration": 6,
    "start_time": "2022-11-08T15:41:44.028Z"
   },
   {
    "duration": 9,
    "start_time": "2022-11-08T15:42:27.304Z"
   },
   {
    "duration": 9,
    "start_time": "2022-11-08T15:42:35.520Z"
   },
   {
    "duration": 7,
    "start_time": "2022-11-08T15:43:29.757Z"
   },
   {
    "duration": 7,
    "start_time": "2022-11-08T15:43:50.476Z"
   },
   {
    "duration": 9,
    "start_time": "2022-11-08T15:44:24.431Z"
   },
   {
    "duration": 10,
    "start_time": "2022-11-08T15:44:51.802Z"
   },
   {
    "duration": 76,
    "start_time": "2022-11-08T15:46:26.311Z"
   },
   {
    "duration": 12,
    "start_time": "2022-11-08T15:46:32.273Z"
   },
   {
    "duration": 11,
    "start_time": "2022-11-08T15:47:50.078Z"
   },
   {
    "duration": 8,
    "start_time": "2022-11-08T15:48:07.322Z"
   },
   {
    "duration": 6,
    "start_time": "2022-11-08T15:49:19.115Z"
   },
   {
    "duration": 7,
    "start_time": "2022-11-08T15:50:24.410Z"
   },
   {
    "duration": 14,
    "start_time": "2022-11-08T15:50:45.362Z"
   },
   {
    "duration": 10,
    "start_time": "2022-11-08T15:51:02.070Z"
   },
   {
    "duration": 15,
    "start_time": "2022-11-08T15:51:09.885Z"
   },
   {
    "duration": 18,
    "start_time": "2022-11-08T15:52:08.079Z"
   },
   {
    "duration": 7,
    "start_time": "2022-11-08T15:53:07.102Z"
   },
   {
    "duration": 8,
    "start_time": "2022-11-08T15:53:12.102Z"
   },
   {
    "duration": 5,
    "start_time": "2022-11-08T15:54:04.074Z"
   },
   {
    "duration": 3,
    "start_time": "2022-11-08T15:54:07.716Z"
   },
   {
    "duration": 16,
    "start_time": "2022-11-08T15:54:11.486Z"
   },
   {
    "duration": 11,
    "start_time": "2022-11-08T15:58:50.146Z"
   },
   {
    "duration": 6,
    "start_time": "2022-11-08T15:59:53.643Z"
   },
   {
    "duration": 1158,
    "start_time": "2022-11-08T16:02:02.664Z"
   },
   {
    "duration": 9,
    "start_time": "2022-11-08T16:02:07.521Z"
   },
   {
    "duration": 13,
    "start_time": "2022-11-08T16:04:36.986Z"
   },
   {
    "duration": 11,
    "start_time": "2022-11-08T16:13:42.034Z"
   },
   {
    "duration": 7,
    "start_time": "2022-11-08T16:14:07.459Z"
   },
   {
    "duration": 3,
    "start_time": "2022-11-08T16:21:08.465Z"
   },
   {
    "duration": 7,
    "start_time": "2022-11-08T16:21:15.877Z"
   },
   {
    "duration": 13,
    "start_time": "2022-11-08T16:21:30.087Z"
   },
   {
    "duration": 8,
    "start_time": "2022-11-08T16:22:38.327Z"
   },
   {
    "duration": 12,
    "start_time": "2022-11-08T16:38:18.327Z"
   },
   {
    "duration": 11,
    "start_time": "2022-11-08T16:46:11.283Z"
   },
   {
    "duration": 1597,
    "start_time": "2022-11-08T16:57:07.777Z"
   },
   {
    "duration": 1707,
    "start_time": "2022-11-08T16:57:45.902Z"
   },
   {
    "duration": 9,
    "start_time": "2022-11-08T16:58:01.165Z"
   },
   {
    "duration": 10,
    "start_time": "2022-11-08T16:58:46.231Z"
   },
   {
    "duration": 10,
    "start_time": "2022-11-08T16:58:59.377Z"
   },
   {
    "duration": 641,
    "start_time": "2022-11-08T17:04:34.107Z"
   },
   {
    "duration": 13,
    "start_time": "2022-11-08T17:04:56.344Z"
   },
   {
    "duration": 13,
    "start_time": "2022-11-08T17:06:35.002Z"
   },
   {
    "duration": 12692,
    "start_time": "2022-11-08T17:06:59.245Z"
   },
   {
    "duration": 7,
    "start_time": "2022-11-08T17:08:58.941Z"
   },
   {
    "duration": 9,
    "start_time": "2022-11-08T17:11:23.370Z"
   },
   {
    "duration": 11,
    "start_time": "2022-11-08T17:11:31.967Z"
   },
   {
    "duration": 28,
    "start_time": "2022-11-08T17:11:40.286Z"
   },
   {
    "duration": 26,
    "start_time": "2022-11-08T17:15:44.333Z"
   },
   {
    "duration": 1156,
    "start_time": "2022-11-08T17:17:35.517Z"
   },
   {
    "duration": 1148,
    "start_time": "2022-11-08T17:17:41.472Z"
   },
   {
    "duration": 19663,
    "start_time": "2022-11-08T17:18:03.477Z"
   },
   {
    "duration": 16451,
    "start_time": "2022-11-08T17:23:11.955Z"
   },
   {
    "duration": 16554,
    "start_time": "2022-11-08T17:27:08.348Z"
   },
   {
    "duration": 96,
    "start_time": "2022-11-08T17:29:25.190Z"
   },
   {
    "duration": 16502,
    "start_time": "2022-11-08T17:29:28.560Z"
   },
   {
    "duration": 5,
    "start_time": "2022-11-08T17:31:50.469Z"
   },
   {
    "duration": 559,
    "start_time": "2022-11-08T17:32:02.965Z"
   },
   {
    "duration": 48,
    "start_time": "2022-11-08T17:32:03.526Z"
   },
   {
    "duration": 18,
    "start_time": "2022-11-08T17:32:03.575Z"
   },
   {
    "duration": 2524,
    "start_time": "2022-11-08T17:32:03.594Z"
   },
   {
    "duration": 12,
    "start_time": "2022-11-08T17:32:06.120Z"
   },
   {
    "duration": 17,
    "start_time": "2022-11-08T17:32:06.135Z"
   },
   {
    "duration": 15756,
    "start_time": "2022-11-08T17:32:06.154Z"
   },
   {
    "duration": 15759,
    "start_time": "2022-11-08T17:32:35.674Z"
   },
   {
    "duration": 8,
    "start_time": "2022-11-08T17:33:31.826Z"
   },
   {
    "duration": 15449,
    "start_time": "2022-11-08T17:35:47.734Z"
   },
   {
    "duration": 15034,
    "start_time": "2022-11-08T17:36:15.339Z"
   },
   {
    "duration": 513,
    "start_time": "2022-11-08T17:40:22.501Z"
   },
   {
    "duration": 56,
    "start_time": "2022-11-08T17:40:23.016Z"
   },
   {
    "duration": 19,
    "start_time": "2022-11-08T17:40:23.075Z"
   },
   {
    "duration": 2637,
    "start_time": "2022-11-08T17:40:23.097Z"
   },
   {
    "duration": 16,
    "start_time": "2022-11-08T17:40:25.737Z"
   },
   {
    "duration": 23,
    "start_time": "2022-11-08T17:40:25.756Z"
   },
   {
    "duration": 166331,
    "start_time": "2022-11-08T17:40:25.781Z"
   },
   {
    "duration": 929,
    "start_time": "2022-11-08T17:43:12.115Z"
   },
   {
    "duration": 891,
    "start_time": "2022-11-08T17:44:02.626Z"
   },
   {
    "duration": 531,
    "start_time": "2022-11-08T17:44:10.638Z"
   },
   {
    "duration": 39,
    "start_time": "2022-11-08T17:44:11.172Z"
   },
   {
    "duration": 18,
    "start_time": "2022-11-08T17:44:11.213Z"
   },
   {
    "duration": 2856,
    "start_time": "2022-11-08T17:44:11.234Z"
   },
   {
    "duration": 13,
    "start_time": "2022-11-08T17:44:14.092Z"
   },
   {
    "duration": 33,
    "start_time": "2022-11-08T17:44:14.112Z"
   },
   {
    "duration": 169693,
    "start_time": "2022-11-08T17:44:14.146Z"
   },
   {
    "duration": 169872,
    "start_time": "2022-11-08T17:47:31.401Z"
   },
   {
    "duration": 509,
    "start_time": "2022-11-08T17:52:26.200Z"
   },
   {
    "duration": 41,
    "start_time": "2022-11-08T17:52:26.711Z"
   },
   {
    "duration": 29,
    "start_time": "2022-11-08T17:52:26.753Z"
   },
   {
    "duration": 2478,
    "start_time": "2022-11-08T17:52:26.784Z"
   },
   {
    "duration": 10,
    "start_time": "2022-11-08T17:52:29.264Z"
   },
   {
    "duration": 27,
    "start_time": "2022-11-08T17:52:29.276Z"
   },
   {
    "duration": 165910,
    "start_time": "2022-11-08T17:52:29.305Z"
   },
   {
    "duration": 15,
    "start_time": "2022-11-08T17:55:15.217Z"
   },
   {
    "duration": 577,
    "start_time": "2022-11-08T18:06:01.080Z"
   },
   {
    "duration": 45,
    "start_time": "2022-11-08T18:06:01.659Z"
   },
   {
    "duration": 17,
    "start_time": "2022-11-08T18:06:01.706Z"
   },
   {
    "duration": 2696,
    "start_time": "2022-11-08T18:06:01.726Z"
   },
   {
    "duration": 17,
    "start_time": "2022-11-08T18:06:04.424Z"
   },
   {
    "duration": 14,
    "start_time": "2022-11-08T18:06:04.443Z"
   },
   {
    "duration": 538,
    "start_time": "2022-11-08T18:08:11.100Z"
   },
   {
    "duration": 59,
    "start_time": "2022-11-08T18:08:11.642Z"
   },
   {
    "duration": 17,
    "start_time": "2022-11-08T18:08:11.703Z"
   },
   {
    "duration": 2604,
    "start_time": "2022-11-08T18:08:11.722Z"
   },
   {
    "duration": 13,
    "start_time": "2022-11-08T18:08:14.328Z"
   },
   {
    "duration": 16,
    "start_time": "2022-11-08T18:08:14.343Z"
   },
   {
    "duration": 1442,
    "start_time": "2022-11-08T18:08:14.361Z"
   },
   {
    "duration": 1263,
    "start_time": "2022-11-08T18:08:15.805Z"
   },
   {
    "duration": 0,
    "start_time": "2022-11-08T18:08:17.070Z"
   },
   {
    "duration": 0,
    "start_time": "2022-11-08T18:08:17.071Z"
   },
   {
    "duration": 0,
    "start_time": "2022-11-08T18:08:17.073Z"
   },
   {
    "duration": 20,
    "start_time": "2022-11-08T18:09:31.324Z"
   },
   {
    "duration": 48,
    "start_time": "2022-11-08T18:09:35.234Z"
   },
   {
    "duration": 31,
    "start_time": "2022-11-08T18:09:46.437Z"
   },
   {
    "duration": 3458,
    "start_time": "2022-11-08T18:11:58.265Z"
   },
   {
    "duration": 2362,
    "start_time": "2022-11-08T18:12:26.570Z"
   },
   {
    "duration": 34,
    "start_time": "2022-11-08T18:16:13.036Z"
   },
   {
    "duration": 20,
    "start_time": "2022-11-08T18:16:50.396Z"
   },
   {
    "duration": 10,
    "start_time": "2022-11-08T18:17:40.203Z"
   },
   {
    "duration": 11,
    "start_time": "2022-11-08T18:17:49.834Z"
   },
   {
    "duration": 45,
    "start_time": "2022-11-08T18:23:00.316Z"
   },
   {
    "duration": 71,
    "start_time": "2022-11-08T18:25:03.267Z"
   },
   {
    "duration": 78,
    "start_time": "2022-11-08T18:25:49.036Z"
   },
   {
    "duration": 76,
    "start_time": "2022-11-08T18:26:16.213Z"
   },
   {
    "duration": 78,
    "start_time": "2022-11-08T18:26:27.184Z"
   },
   {
    "duration": 102,
    "start_time": "2022-11-08T18:26:57.996Z"
   },
   {
    "duration": 91,
    "start_time": "2022-11-08T18:27:16.286Z"
   },
   {
    "duration": 106,
    "start_time": "2022-11-08T18:27:27.765Z"
   },
   {
    "duration": 39,
    "start_time": "2022-11-08T18:27:44.447Z"
   },
   {
    "duration": 24,
    "start_time": "2022-11-08T18:28:00.379Z"
   },
   {
    "duration": 624,
    "start_time": "2022-11-08T18:28:08.764Z"
   },
   {
    "duration": 51,
    "start_time": "2022-11-08T18:28:09.391Z"
   },
   {
    "duration": 31,
    "start_time": "2022-11-08T18:28:09.443Z"
   },
   {
    "duration": 2793,
    "start_time": "2022-11-08T18:28:09.477Z"
   },
   {
    "duration": 12,
    "start_time": "2022-11-08T18:28:12.272Z"
   },
   {
    "duration": 15,
    "start_time": "2022-11-08T18:28:12.286Z"
   },
   {
    "duration": 1562,
    "start_time": "2022-11-08T18:28:12.303Z"
   },
   {
    "duration": 27,
    "start_time": "2022-11-08T18:28:13.866Z"
   },
   {
    "duration": 30,
    "start_time": "2022-11-08T18:28:13.895Z"
   },
   {
    "duration": 61,
    "start_time": "2022-11-08T18:28:13.928Z"
   },
   {
    "duration": 21,
    "start_time": "2022-11-08T18:28:13.990Z"
   },
   {
    "duration": 56,
    "start_time": "2022-11-08T18:31:10.524Z"
   },
   {
    "duration": 37,
    "start_time": "2022-11-08T18:33:08.860Z"
   },
   {
    "duration": 33,
    "start_time": "2022-11-08T18:33:11.413Z"
   },
   {
    "duration": 76,
    "start_time": "2022-11-08T18:34:03.277Z"
   },
   {
    "duration": 84,
    "start_time": "2022-11-08T18:34:08.804Z"
   },
   {
    "duration": 37,
    "start_time": "2022-11-08T18:34:46.880Z"
   },
   {
    "duration": 24,
    "start_time": "2022-11-08T18:34:48.760Z"
   },
   {
    "duration": 27,
    "start_time": "2022-11-08T18:36:59.661Z"
   },
   {
    "duration": 20,
    "start_time": "2022-11-08T18:38:00.869Z"
   },
   {
    "duration": 40,
    "start_time": "2022-11-08T18:38:50.960Z"
   },
   {
    "duration": 94,
    "start_time": "2022-11-08T18:39:03.739Z"
   },
   {
    "duration": 608,
    "start_time": "2022-11-08T18:39:20.592Z"
   },
   {
    "duration": 43,
    "start_time": "2022-11-08T18:39:21.202Z"
   },
   {
    "duration": 41,
    "start_time": "2022-11-08T18:39:21.247Z"
   },
   {
    "duration": 2551,
    "start_time": "2022-11-08T18:39:21.291Z"
   },
   {
    "duration": 15,
    "start_time": "2022-11-08T18:39:23.844Z"
   },
   {
    "duration": 15,
    "start_time": "2022-11-08T18:39:23.861Z"
   },
   {
    "duration": 1470,
    "start_time": "2022-11-08T18:39:23.878Z"
   },
   {
    "duration": 65,
    "start_time": "2022-11-08T18:39:25.349Z"
   },
   {
    "duration": 75,
    "start_time": "2022-11-08T18:39:25.417Z"
   },
   {
    "duration": 44,
    "start_time": "2022-11-08T18:39:25.495Z"
   },
   {
    "duration": 44,
    "start_time": "2022-11-08T18:39:25.543Z"
   },
   {
    "duration": 559,
    "start_time": "2022-11-08T18:40:12.110Z"
   },
   {
    "duration": 47,
    "start_time": "2022-11-08T18:40:12.673Z"
   },
   {
    "duration": 18,
    "start_time": "2022-11-08T18:40:12.722Z"
   },
   {
    "duration": 2736,
    "start_time": "2022-11-08T18:40:12.742Z"
   },
   {
    "duration": 29,
    "start_time": "2022-11-08T18:40:15.481Z"
   },
   {
    "duration": 20,
    "start_time": "2022-11-08T18:40:15.512Z"
   },
   {
    "duration": 1465,
    "start_time": "2022-11-08T18:40:15.534Z"
   },
   {
    "duration": 24,
    "start_time": "2022-11-08T18:40:17.001Z"
   },
   {
    "duration": 75,
    "start_time": "2022-11-08T18:40:17.027Z"
   },
   {
    "duration": 45,
    "start_time": "2022-11-08T18:40:17.104Z"
   },
   {
    "duration": 47,
    "start_time": "2022-11-08T18:40:17.151Z"
   },
   {
    "duration": 550,
    "start_time": "2022-11-08T18:40:44.630Z"
   },
   {
    "duration": 42,
    "start_time": "2022-11-08T18:40:45.182Z"
   },
   {
    "duration": 25,
    "start_time": "2022-11-08T18:40:45.227Z"
   },
   {
    "duration": 2592,
    "start_time": "2022-11-08T18:40:45.254Z"
   },
   {
    "duration": 14,
    "start_time": "2022-11-08T18:40:47.849Z"
   },
   {
    "duration": 26,
    "start_time": "2022-11-08T18:40:47.866Z"
   },
   {
    "duration": 1535,
    "start_time": "2022-11-08T18:40:47.895Z"
   },
   {
    "duration": 26,
    "start_time": "2022-11-08T18:40:49.432Z"
   },
   {
    "duration": 58,
    "start_time": "2022-11-08T18:40:49.472Z"
   },
   {
    "duration": 63,
    "start_time": "2022-11-08T18:40:49.531Z"
   },
   {
    "duration": 25,
    "start_time": "2022-11-08T18:40:49.597Z"
   },
   {
    "duration": 603,
    "start_time": "2022-11-08T18:46:48.034Z"
   },
   {
    "duration": 52,
    "start_time": "2022-11-08T18:46:48.640Z"
   },
   {
    "duration": 18,
    "start_time": "2022-11-08T18:46:48.694Z"
   },
   {
    "duration": 2727,
    "start_time": "2022-11-08T18:46:48.715Z"
   },
   {
    "duration": 12,
    "start_time": "2022-11-08T18:46:51.443Z"
   },
   {
    "duration": 640,
    "start_time": "2022-11-08T18:46:51.457Z"
   },
   {
    "duration": 159,
    "start_time": "2022-11-08T18:46:52.100Z"
   },
   {
    "duration": 26,
    "start_time": "2022-11-08T18:46:52.261Z"
   },
   {
    "duration": 59,
    "start_time": "2022-11-08T18:46:52.289Z"
   },
   {
    "duration": 39,
    "start_time": "2022-11-08T18:46:52.372Z"
   },
   {
    "duration": 18,
    "start_time": "2022-11-08T18:46:52.414Z"
   },
   {
    "duration": 583,
    "start_time": "2022-11-08T18:48:25.304Z"
   },
   {
    "duration": 43,
    "start_time": "2022-11-08T18:48:25.889Z"
   },
   {
    "duration": 19,
    "start_time": "2022-11-08T18:48:25.934Z"
   },
   {
    "duration": 2716,
    "start_time": "2022-11-08T18:48:25.974Z"
   },
   {
    "duration": 17,
    "start_time": "2022-11-08T18:48:28.693Z"
   },
   {
    "duration": 23,
    "start_time": "2022-11-08T18:48:28.712Z"
   },
   {
    "duration": 173,
    "start_time": "2022-11-08T18:48:28.737Z"
   },
   {
    "duration": 30,
    "start_time": "2022-11-08T18:48:28.913Z"
   },
   {
    "duration": 78,
    "start_time": "2022-11-08T18:48:28.945Z"
   },
   {
    "duration": 62,
    "start_time": "2022-11-08T18:48:29.027Z"
   },
   {
    "duration": 24,
    "start_time": "2022-11-08T18:48:29.092Z"
   },
   {
    "duration": 23,
    "start_time": "2022-11-08T19:03:20.551Z"
   },
   {
    "duration": 108,
    "start_time": "2022-11-08T19:08:51.650Z"
   },
   {
    "duration": 54,
    "start_time": "2022-11-08T19:08:59.168Z"
   },
   {
    "duration": 21,
    "start_time": "2022-11-08T19:09:07.858Z"
   },
   {
    "duration": 84,
    "start_time": "2022-11-08T19:10:47.802Z"
   },
   {
    "duration": 54,
    "start_time": "2022-11-08T19:11:12.594Z"
   },
   {
    "duration": 77,
    "start_time": "2022-11-08T19:25:23.823Z"
   },
   {
    "duration": 367,
    "start_time": "2022-11-08T19:25:35.837Z"
   },
   {
    "duration": 312,
    "start_time": "2022-11-08T19:26:09.132Z"
   },
   {
    "duration": 452,
    "start_time": "2022-11-08T19:26:21.078Z"
   },
   {
    "duration": 383,
    "start_time": "2022-11-08T19:27:08.455Z"
   },
   {
    "duration": 360,
    "start_time": "2022-11-08T19:28:26.002Z"
   },
   {
    "duration": 419,
    "start_time": "2022-11-08T19:29:00.088Z"
   },
   {
    "duration": 1511,
    "start_time": "2022-11-08T19:29:38.231Z"
   },
   {
    "duration": 331,
    "start_time": "2022-11-08T19:29:54.965Z"
   },
   {
    "duration": 338,
    "start_time": "2022-11-08T19:30:35.609Z"
   },
   {
    "duration": 427,
    "start_time": "2022-11-08T19:30:49.729Z"
   },
   {
    "duration": 354,
    "start_time": "2022-11-08T19:33:44.553Z"
   },
   {
    "duration": 83,
    "start_time": "2022-11-08T19:35:41.176Z"
   },
   {
    "duration": 75,
    "start_time": "2022-11-08T19:35:53.917Z"
   },
   {
    "duration": 561,
    "start_time": "2022-11-08T19:38:25.308Z"
   },
   {
    "duration": 39,
    "start_time": "2022-11-08T19:38:25.871Z"
   },
   {
    "duration": 16,
    "start_time": "2022-11-08T19:38:25.912Z"
   },
   {
    "duration": 2442,
    "start_time": "2022-11-08T19:38:25.930Z"
   },
   {
    "duration": 12,
    "start_time": "2022-11-08T19:38:28.375Z"
   },
   {
    "duration": 15,
    "start_time": "2022-11-08T19:38:28.389Z"
   },
   {
    "duration": 162,
    "start_time": "2022-11-08T19:38:28.406Z"
   },
   {
    "duration": 26,
    "start_time": "2022-11-08T19:38:28.572Z"
   },
   {
    "duration": 74,
    "start_time": "2022-11-08T19:38:28.600Z"
   },
   {
    "duration": 38,
    "start_time": "2022-11-08T19:38:28.677Z"
   },
   {
    "duration": 16,
    "start_time": "2022-11-08T19:38:28.716Z"
   },
   {
    "duration": 393,
    "start_time": "2022-11-08T19:38:28.734Z"
   },
   {
    "duration": 140,
    "start_time": "2022-11-08T19:41:16.545Z"
   },
   {
    "duration": 245,
    "start_time": "2022-11-08T19:41:39.157Z"
   },
   {
    "duration": 353,
    "start_time": "2022-11-08T19:42:01.582Z"
   },
   {
    "duration": 256,
    "start_time": "2022-11-08T19:42:10.342Z"
   },
   {
    "duration": 317,
    "start_time": "2022-11-08T19:42:18.333Z"
   },
   {
    "duration": 210,
    "start_time": "2022-11-08T19:43:21.751Z"
   },
   {
    "duration": 262,
    "start_time": "2022-11-08T19:43:30.694Z"
   },
   {
    "duration": 304,
    "start_time": "2022-11-08T19:43:46.436Z"
   },
   {
    "duration": 413,
    "start_time": "2022-11-08T19:43:56.823Z"
   },
   {
    "duration": 279,
    "start_time": "2022-11-08T19:44:03.998Z"
   },
   {
    "duration": 331,
    "start_time": "2022-11-08T19:44:21.416Z"
   },
   {
    "duration": 290,
    "start_time": "2022-11-08T19:44:28.464Z"
   },
   {
    "duration": 305,
    "start_time": "2022-11-08T19:45:43.438Z"
   },
   {
    "duration": 1695,
    "start_time": "2022-11-08T19:47:00.430Z"
   },
   {
    "duration": 615,
    "start_time": "2022-11-08T19:47:17.119Z"
   },
   {
    "duration": 9311,
    "start_time": "2022-11-08T19:49:04.991Z"
   },
   {
    "duration": 750,
    "start_time": "2022-11-08T19:50:09.337Z"
   },
   {
    "duration": 577,
    "start_time": "2022-11-08T19:50:39.638Z"
   },
   {
    "duration": 449,
    "start_time": "2022-11-08T19:50:56.155Z"
   },
   {
    "duration": 476,
    "start_time": "2022-11-08T19:52:53.702Z"
   },
   {
    "duration": 1235,
    "start_time": "2022-11-08T19:53:25.907Z"
   },
   {
    "duration": 439,
    "start_time": "2022-11-08T19:54:21.551Z"
   },
   {
    "duration": 337,
    "start_time": "2022-11-08T19:54:34.088Z"
   },
   {
    "duration": 423,
    "start_time": "2022-11-08T19:54:53.992Z"
   },
   {
    "duration": 611,
    "start_time": "2022-11-08T19:55:00.842Z"
   },
   {
    "duration": 399,
    "start_time": "2022-11-08T19:56:05.139Z"
   },
   {
    "duration": 417,
    "start_time": "2022-11-08T19:56:20.118Z"
   },
   {
    "duration": 583,
    "start_time": "2022-11-08T19:56:26.431Z"
   },
   {
    "duration": 283,
    "start_time": "2022-11-08T19:57:17.001Z"
   },
   {
    "duration": 494,
    "start_time": "2022-11-08T19:57:28.624Z"
   },
   {
    "duration": 44,
    "start_time": "2022-11-08T19:57:29.120Z"
   },
   {
    "duration": 18,
    "start_time": "2022-11-08T19:57:29.172Z"
   },
   {
    "duration": 2537,
    "start_time": "2022-11-08T19:57:29.192Z"
   },
   {
    "duration": 12,
    "start_time": "2022-11-08T19:57:31.731Z"
   },
   {
    "duration": 31,
    "start_time": "2022-11-08T19:57:31.745Z"
   },
   {
    "duration": 165,
    "start_time": "2022-11-08T19:57:31.778Z"
   },
   {
    "duration": 33,
    "start_time": "2022-11-08T19:57:31.946Z"
   },
   {
    "duration": 50,
    "start_time": "2022-11-08T19:57:31.981Z"
   },
   {
    "duration": 57,
    "start_time": "2022-11-08T19:57:32.035Z"
   },
   {
    "duration": 15,
    "start_time": "2022-11-08T19:57:32.094Z"
   },
   {
    "duration": 371,
    "start_time": "2022-11-08T19:57:32.111Z"
   },
   {
    "duration": 417,
    "start_time": "2022-11-08T19:57:32.484Z"
   },
   {
    "duration": 510,
    "start_time": "2022-11-08T19:57:32.903Z"
   },
   {
    "duration": 299,
    "start_time": "2022-11-08T19:57:33.415Z"
   },
   {
    "duration": 300,
    "start_time": "2022-11-08T19:57:33.717Z"
   },
   {
    "duration": 441,
    "start_time": "2022-11-08T19:57:34.019Z"
   },
   {
    "duration": 531,
    "start_time": "2022-11-08T19:57:34.461Z"
   },
   {
    "duration": 422,
    "start_time": "2022-11-08T19:57:34.994Z"
   },
   {
    "duration": 435,
    "start_time": "2022-11-08T19:57:35.419Z"
   },
   {
    "duration": 436,
    "start_time": "2022-11-08T19:57:35.856Z"
   },
   {
    "duration": 516,
    "start_time": "2022-11-08T19:59:09.978Z"
   },
   {
    "duration": 40,
    "start_time": "2022-11-08T19:59:10.496Z"
   },
   {
    "duration": 35,
    "start_time": "2022-11-08T19:59:10.538Z"
   },
   {
    "duration": 2460,
    "start_time": "2022-11-08T19:59:10.577Z"
   },
   {
    "duration": 11,
    "start_time": "2022-11-08T19:59:13.038Z"
   },
   {
    "duration": 29,
    "start_time": "2022-11-08T19:59:13.050Z"
   },
   {
    "duration": 152,
    "start_time": "2022-11-08T19:59:13.081Z"
   },
   {
    "duration": 22,
    "start_time": "2022-11-08T19:59:13.235Z"
   },
   {
    "duration": 48,
    "start_time": "2022-11-08T19:59:13.272Z"
   },
   {
    "duration": 49,
    "start_time": "2022-11-08T19:59:13.323Z"
   },
   {
    "duration": 17,
    "start_time": "2022-11-08T19:59:13.374Z"
   },
   {
    "duration": 392,
    "start_time": "2022-11-08T19:59:13.392Z"
   },
   {
    "duration": 494,
    "start_time": "2022-11-08T19:59:13.786Z"
   },
   {
    "duration": 521,
    "start_time": "2022-11-08T19:59:14.282Z"
   },
   {
    "duration": 290,
    "start_time": "2022-11-08T19:59:14.805Z"
   },
   {
    "duration": 287,
    "start_time": "2022-11-08T19:59:15.097Z"
   },
   {
    "duration": 430,
    "start_time": "2022-11-08T19:59:15.386Z"
   },
   {
    "duration": 553,
    "start_time": "2022-11-08T19:59:15.818Z"
   },
   {
    "duration": 487,
    "start_time": "2022-11-08T19:59:16.373Z"
   },
   {
    "duration": 437,
    "start_time": "2022-11-08T19:59:16.863Z"
   },
   {
    "duration": 476,
    "start_time": "2022-11-08T19:59:17.308Z"
   },
   {
    "duration": 555,
    "start_time": "2022-11-08T20:13:50.604Z"
   },
   {
    "duration": 277,
    "start_time": "2022-11-08T20:14:11.718Z"
   },
   {
    "duration": 285,
    "start_time": "2022-11-08T20:14:47.127Z"
   },
   {
    "duration": 301,
    "start_time": "2022-11-08T20:15:07.807Z"
   },
   {
    "duration": 327,
    "start_time": "2022-11-08T20:15:57.016Z"
   },
   {
    "duration": 374,
    "start_time": "2022-11-08T20:20:33.338Z"
   },
   {
    "duration": 285,
    "start_time": "2022-11-08T20:20:42.271Z"
   },
   {
    "duration": 282,
    "start_time": "2022-11-08T20:20:50.568Z"
   },
   {
    "duration": 288,
    "start_time": "2022-11-08T20:21:02.612Z"
   },
   {
    "duration": 257,
    "start_time": "2022-11-08T20:21:16.653Z"
   },
   {
    "duration": 272,
    "start_time": "2022-11-08T20:21:27.493Z"
   },
   {
    "duration": 400,
    "start_time": "2022-11-08T20:21:37.329Z"
   },
   {
    "duration": 12,
    "start_time": "2022-11-08T20:21:46.339Z"
   },
   {
    "duration": 8,
    "start_time": "2022-11-08T20:21:56.965Z"
   },
   {
    "duration": 11,
    "start_time": "2022-11-08T20:22:03.743Z"
   },
   {
    "duration": 516,
    "start_time": "2022-11-08T20:22:39.700Z"
   },
   {
    "duration": 265,
    "start_time": "2022-11-08T20:23:07.726Z"
   },
   {
    "duration": 294,
    "start_time": "2022-11-08T20:23:27.869Z"
   },
   {
    "duration": 590,
    "start_time": "2022-11-08T20:26:07.978Z"
   },
   {
    "duration": 456,
    "start_time": "2022-11-08T20:26:18.073Z"
   },
   {
    "duration": 199,
    "start_time": "2022-11-08T20:26:27.545Z"
   },
   {
    "duration": 231,
    "start_time": "2022-11-08T20:26:33.069Z"
   },
   {
    "duration": 248,
    "start_time": "2022-11-08T20:26:36.747Z"
   },
   {
    "duration": 182,
    "start_time": "2022-11-08T20:26:40.107Z"
   },
   {
    "duration": 231,
    "start_time": "2022-11-08T20:26:53.675Z"
   },
   {
    "duration": 240,
    "start_time": "2022-11-08T20:26:59.017Z"
   },
   {
    "duration": 183,
    "start_time": "2022-11-08T20:27:03.183Z"
   },
   {
    "duration": 348,
    "start_time": "2022-11-08T20:27:09.103Z"
   },
   {
    "duration": 469,
    "start_time": "2022-11-08T20:28:34.860Z"
   },
   {
    "duration": 408,
    "start_time": "2022-11-08T20:28:46.597Z"
   },
   {
    "duration": 429,
    "start_time": "2022-11-08T20:28:56.442Z"
   },
   {
    "duration": 168,
    "start_time": "2022-11-08T20:29:02.247Z"
   },
   {
    "duration": 340,
    "start_time": "2022-11-08T20:30:06.907Z"
   },
   {
    "duration": 223,
    "start_time": "2022-11-08T20:30:20.779Z"
   },
   {
    "duration": 211,
    "start_time": "2022-11-08T20:30:35.160Z"
   },
   {
    "duration": 278,
    "start_time": "2022-11-08T20:30:40.099Z"
   },
   {
    "duration": 629,
    "start_time": "2022-11-08T20:31:27.506Z"
   },
   {
    "duration": 228,
    "start_time": "2022-11-08T20:31:51.560Z"
   },
   {
    "duration": 271,
    "start_time": "2022-11-08T20:33:08.267Z"
   },
   {
    "duration": 196,
    "start_time": "2022-11-08T20:33:22.687Z"
   },
   {
    "duration": 340,
    "start_time": "2022-11-08T20:33:27.773Z"
   },
   {
    "duration": 299,
    "start_time": "2022-11-08T20:33:39.140Z"
   },
   {
    "duration": 244,
    "start_time": "2022-11-08T20:34:06.272Z"
   },
   {
    "duration": 230,
    "start_time": "2022-11-08T20:34:14.176Z"
   },
   {
    "duration": 154,
    "start_time": "2022-11-08T20:36:13.478Z"
   },
   {
    "duration": 164,
    "start_time": "2022-11-08T20:37:00.496Z"
   },
   {
    "duration": 501,
    "start_time": "2022-11-08T20:37:54.020Z"
   },
   {
    "duration": 585,
    "start_time": "2022-11-08T20:38:08.187Z"
   },
   {
    "duration": 228,
    "start_time": "2022-11-08T20:38:13.281Z"
   },
   {
    "duration": 220,
    "start_time": "2022-11-08T20:39:18.995Z"
   },
   {
    "duration": 224,
    "start_time": "2022-11-08T20:39:28.074Z"
   },
   {
    "duration": 190,
    "start_time": "2022-11-08T20:39:37.635Z"
   },
   {
    "duration": 193,
    "start_time": "2022-11-08T20:40:08.434Z"
   },
   {
    "duration": 188,
    "start_time": "2022-11-08T20:40:28.295Z"
   },
   {
    "duration": 177,
    "start_time": "2022-11-08T20:44:33.598Z"
   },
   {
    "duration": 179,
    "start_time": "2022-11-08T20:44:53.814Z"
   },
   {
    "duration": 1667,
    "start_time": "2022-11-08T20:45:01.805Z"
   },
   {
    "duration": 346,
    "start_time": "2022-11-08T20:47:45.497Z"
   },
   {
    "duration": 273,
    "start_time": "2022-11-08T20:47:59.227Z"
   },
   {
    "duration": 1565,
    "start_time": "2022-11-08T20:48:04.228Z"
   },
   {
    "duration": 810,
    "start_time": "2022-11-08T20:48:12.238Z"
   },
   {
    "duration": 916,
    "start_time": "2022-11-08T20:48:17.263Z"
   },
   {
    "duration": 489,
    "start_time": "2022-11-08T20:48:21.003Z"
   },
   {
    "duration": 443,
    "start_time": "2022-11-08T20:48:38.321Z"
   },
   {
    "duration": 200,
    "start_time": "2022-11-08T20:48:51.649Z"
   },
   {
    "duration": 187,
    "start_time": "2022-11-08T20:48:59.398Z"
   },
   {
    "duration": 478,
    "start_time": "2022-11-08T20:49:21.853Z"
   },
   {
    "duration": 264,
    "start_time": "2022-11-08T20:49:26.241Z"
   },
   {
    "duration": 245,
    "start_time": "2022-11-08T20:49:36.473Z"
   },
   {
    "duration": 218,
    "start_time": "2022-11-08T20:49:44.698Z"
   },
   {
    "duration": 210,
    "start_time": "2022-11-08T20:50:00.801Z"
   },
   {
    "duration": 164,
    "start_time": "2022-11-08T20:50:06.923Z"
   },
   {
    "duration": 180,
    "start_time": "2022-11-08T20:50:13.214Z"
   },
   {
    "duration": 172,
    "start_time": "2022-11-08T20:50:18.243Z"
   },
   {
    "duration": 168,
    "start_time": "2022-11-08T20:50:24.135Z"
   },
   {
    "duration": 294,
    "start_time": "2022-11-08T20:50:34.292Z"
   },
   {
    "duration": 165,
    "start_time": "2022-11-08T20:50:40.148Z"
   },
   {
    "duration": 171,
    "start_time": "2022-11-08T20:50:44.933Z"
   },
   {
    "duration": 168,
    "start_time": "2022-11-08T20:50:54.820Z"
   },
   {
    "duration": 159,
    "start_time": "2022-11-08T20:51:14.734Z"
   },
   {
    "duration": 146,
    "start_time": "2022-11-08T20:51:36.306Z"
   },
   {
    "duration": 156,
    "start_time": "2022-11-08T20:51:57.068Z"
   },
   {
    "duration": 154,
    "start_time": "2022-11-08T20:52:06.018Z"
   },
   {
    "duration": 186,
    "start_time": "2022-11-08T20:52:16.741Z"
   },
   {
    "duration": 152,
    "start_time": "2022-11-08T20:52:21.362Z"
   },
   {
    "duration": 166,
    "start_time": "2022-11-08T20:52:25.546Z"
   },
   {
    "duration": 182,
    "start_time": "2022-11-08T20:52:30.218Z"
   },
   {
    "duration": 174,
    "start_time": "2022-11-08T20:52:35.566Z"
   },
   {
    "duration": 189,
    "start_time": "2022-11-08T20:52:42.372Z"
   },
   {
    "duration": 287,
    "start_time": "2022-11-08T20:52:46.266Z"
   },
   {
    "duration": 162,
    "start_time": "2022-11-08T20:52:51.255Z"
   },
   {
    "duration": 151,
    "start_time": "2022-11-08T20:53:06.736Z"
   },
   {
    "duration": 155,
    "start_time": "2022-11-08T20:53:22.419Z"
   },
   {
    "duration": 421,
    "start_time": "2022-11-08T20:55:26.793Z"
   },
   {
    "duration": 458,
    "start_time": "2022-11-08T20:55:33.375Z"
   },
   {
    "duration": 507,
    "start_time": "2022-11-08T20:55:40.400Z"
   },
   {
    "duration": 332,
    "start_time": "2022-11-08T20:55:46.961Z"
   },
   {
    "duration": 243,
    "start_time": "2022-11-08T20:56:04.058Z"
   },
   {
    "duration": 246,
    "start_time": "2022-11-08T20:57:01.741Z"
   },
   {
    "duration": 271,
    "start_time": "2022-11-08T20:57:15.626Z"
   },
   {
    "duration": 253,
    "start_time": "2022-11-08T20:57:23.146Z"
   },
   {
    "duration": 421,
    "start_time": "2022-11-08T20:57:32.643Z"
   },
   {
    "duration": 290,
    "start_time": "2022-11-08T21:01:38.170Z"
   },
   {
    "duration": 172,
    "start_time": "2022-11-08T21:01:42.937Z"
   },
   {
    "duration": 197,
    "start_time": "2022-11-08T21:01:48.036Z"
   },
   {
    "duration": 203,
    "start_time": "2022-11-08T21:06:52.187Z"
   },
   {
    "duration": 88,
    "start_time": "2022-11-08T21:08:03.675Z"
   },
   {
    "duration": 27,
    "start_time": "2022-11-08T21:08:12.776Z"
   },
   {
    "duration": 28,
    "start_time": "2022-11-08T21:09:37.899Z"
   },
   {
    "duration": 568,
    "start_time": "2022-11-08T21:10:10.742Z"
   },
   {
    "duration": 40,
    "start_time": "2022-11-08T21:10:11.312Z"
   },
   {
    "duration": 35,
    "start_time": "2022-11-08T21:10:11.354Z"
   },
   {
    "duration": 2608,
    "start_time": "2022-11-08T21:10:11.394Z"
   },
   {
    "duration": 10,
    "start_time": "2022-11-08T21:10:14.005Z"
   },
   {
    "duration": 14,
    "start_time": "2022-11-08T21:10:14.017Z"
   },
   {
    "duration": 178,
    "start_time": "2022-11-08T21:10:14.033Z"
   },
   {
    "duration": 24,
    "start_time": "2022-11-08T21:10:14.213Z"
   },
   {
    "duration": 61,
    "start_time": "2022-11-08T21:10:14.239Z"
   },
   {
    "duration": 35,
    "start_time": "2022-11-08T21:10:14.304Z"
   },
   {
    "duration": 49,
    "start_time": "2022-11-08T21:10:14.341Z"
   },
   {
    "duration": 1856,
    "start_time": "2022-11-08T21:10:14.391Z"
   },
   {
    "duration": 0,
    "start_time": "2022-11-08T21:10:16.250Z"
   },
   {
    "duration": 0,
    "start_time": "2022-11-08T21:10:16.251Z"
   },
   {
    "duration": 0,
    "start_time": "2022-11-08T21:10:16.253Z"
   },
   {
    "duration": 0,
    "start_time": "2022-11-08T21:10:16.254Z"
   },
   {
    "duration": 0,
    "start_time": "2022-11-08T21:10:16.255Z"
   },
   {
    "duration": 0,
    "start_time": "2022-11-08T21:10:16.257Z"
   },
   {
    "duration": 0,
    "start_time": "2022-11-08T21:10:16.258Z"
   },
   {
    "duration": 0,
    "start_time": "2022-11-08T21:10:16.259Z"
   },
   {
    "duration": 0,
    "start_time": "2022-11-08T21:10:16.260Z"
   },
   {
    "duration": 0,
    "start_time": "2022-11-08T21:10:16.262Z"
   },
   {
    "duration": 0,
    "start_time": "2022-11-08T21:10:16.263Z"
   },
   {
    "duration": 0,
    "start_time": "2022-11-08T21:10:16.265Z"
   },
   {
    "duration": 0,
    "start_time": "2022-11-08T21:10:16.266Z"
   },
   {
    "duration": 0,
    "start_time": "2022-11-08T21:10:16.267Z"
   },
   {
    "duration": 0,
    "start_time": "2022-11-08T21:10:16.269Z"
   },
   {
    "duration": 0,
    "start_time": "2022-11-08T21:10:16.270Z"
   },
   {
    "duration": 0,
    "start_time": "2022-11-08T21:10:16.272Z"
   },
   {
    "duration": 552,
    "start_time": "2022-11-08T21:10:36.737Z"
   },
   {
    "duration": 41,
    "start_time": "2022-11-08T21:10:37.292Z"
   },
   {
    "duration": 41,
    "start_time": "2022-11-08T21:10:37.335Z"
   },
   {
    "duration": 2778,
    "start_time": "2022-11-08T21:10:37.378Z"
   },
   {
    "duration": 20,
    "start_time": "2022-11-08T21:10:40.160Z"
   },
   {
    "duration": 16,
    "start_time": "2022-11-08T21:10:40.182Z"
   },
   {
    "duration": 161,
    "start_time": "2022-11-08T21:10:40.200Z"
   },
   {
    "duration": 29,
    "start_time": "2022-11-08T21:10:40.363Z"
   },
   {
    "duration": 871,
    "start_time": "2022-11-08T21:10:40.393Z"
   },
   {
    "duration": 88,
    "start_time": "2022-11-08T21:10:41.267Z"
   },
   {
    "duration": 22,
    "start_time": "2022-11-08T21:10:41.357Z"
   },
   {
    "duration": 400,
    "start_time": "2022-11-08T21:10:41.382Z"
   },
   {
    "duration": 296,
    "start_time": "2022-11-08T21:10:41.784Z"
   },
   {
    "duration": 533,
    "start_time": "2022-11-08T21:10:42.083Z"
   },
   {
    "duration": 234,
    "start_time": "2022-11-08T21:10:42.618Z"
   },
   {
    "duration": 291,
    "start_time": "2022-11-08T21:10:42.854Z"
   },
   {
    "duration": 12,
    "start_time": "2022-11-08T21:10:43.148Z"
   },
   {
    "duration": 236,
    "start_time": "2022-11-08T21:10:43.172Z"
   },
   {
    "duration": 195,
    "start_time": "2022-11-08T21:10:43.410Z"
   },
   {
    "duration": 34,
    "start_time": "2022-11-08T21:10:43.607Z"
   },
   {
    "duration": 245,
    "start_time": "2022-11-08T21:10:43.643Z"
   },
   {
    "duration": 152,
    "start_time": "2022-11-08T21:10:43.890Z"
   },
   {
    "duration": 187,
    "start_time": "2022-11-08T21:10:44.044Z"
   },
   {
    "duration": 225,
    "start_time": "2022-11-08T21:10:44.233Z"
   },
   {
    "duration": 356,
    "start_time": "2022-11-08T21:10:44.460Z"
   },
   {
    "duration": 197,
    "start_time": "2022-11-08T21:10:44.818Z"
   },
   {
    "duration": 159,
    "start_time": "2022-11-08T21:10:45.017Z"
   },
   {
    "duration": 168,
    "start_time": "2022-11-08T21:10:45.178Z"
   },
   {
    "duration": 85,
    "start_time": "2022-11-08T21:10:45.348Z"
   },
   {
    "duration": 228,
    "start_time": "2022-11-08T21:12:42.621Z"
   },
   {
    "duration": 165,
    "start_time": "2022-11-08T21:12:53.695Z"
   },
   {
    "duration": 171,
    "start_time": "2022-11-08T21:15:38.462Z"
   },
   {
    "duration": 141,
    "start_time": "2022-11-08T21:15:43.686Z"
   },
   {
    "duration": 173,
    "start_time": "2022-11-08T21:15:49.523Z"
   },
   {
    "duration": 153,
    "start_time": "2022-11-08T21:15:53.163Z"
   },
   {
    "duration": 195,
    "start_time": "2022-11-08T21:17:28.494Z"
   },
   {
    "duration": 177,
    "start_time": "2022-11-08T21:17:44.023Z"
   },
   {
    "duration": 317,
    "start_time": "2022-11-08T21:17:48.761Z"
   },
   {
    "duration": 200,
    "start_time": "2022-11-08T21:19:53.428Z"
   },
   {
    "duration": 172,
    "start_time": "2022-11-08T21:51:32.918Z"
   },
   {
    "duration": 195,
    "start_time": "2022-11-08T21:52:27.856Z"
   },
   {
    "duration": 157,
    "start_time": "2022-11-08T21:52:48.086Z"
   },
   {
    "duration": 299,
    "start_time": "2022-11-08T21:55:29.924Z"
   },
   {
    "duration": 213,
    "start_time": "2022-11-08T21:57:15.054Z"
   },
   {
    "duration": 555,
    "start_time": "2022-11-08T21:57:26.953Z"
   },
   {
    "duration": 41,
    "start_time": "2022-11-08T21:57:27.511Z"
   },
   {
    "duration": 31,
    "start_time": "2022-11-08T21:57:27.554Z"
   },
   {
    "duration": 2544,
    "start_time": "2022-11-08T21:57:27.588Z"
   },
   {
    "duration": 12,
    "start_time": "2022-11-08T21:57:30.135Z"
   },
   {
    "duration": 49,
    "start_time": "2022-11-08T21:57:30.149Z"
   },
   {
    "duration": 152,
    "start_time": "2022-11-08T21:57:30.200Z"
   },
   {
    "duration": 37,
    "start_time": "2022-11-08T21:57:30.354Z"
   },
   {
    "duration": 53,
    "start_time": "2022-11-08T21:57:30.393Z"
   },
   {
    "duration": 42,
    "start_time": "2022-11-08T21:57:30.448Z"
   },
   {
    "duration": 22,
    "start_time": "2022-11-08T21:57:30.492Z"
   },
   {
    "duration": 412,
    "start_time": "2022-11-08T21:57:30.516Z"
   },
   {
    "duration": 271,
    "start_time": "2022-11-08T21:57:30.930Z"
   },
   {
    "duration": 516,
    "start_time": "2022-11-08T21:57:31.204Z"
   },
   {
    "duration": 209,
    "start_time": "2022-11-08T21:57:31.722Z"
   },
   {
    "duration": 281,
    "start_time": "2022-11-08T21:57:31.933Z"
   },
   {
    "duration": 11,
    "start_time": "2022-11-08T21:57:32.216Z"
   },
   {
    "duration": 202,
    "start_time": "2022-11-08T21:57:32.229Z"
   },
   {
    "duration": 183,
    "start_time": "2022-11-08T21:57:32.433Z"
   },
   {
    "duration": 211,
    "start_time": "2022-11-08T21:57:32.618Z"
   },
   {
    "duration": 144,
    "start_time": "2022-11-08T21:57:32.831Z"
   },
   {
    "duration": 196,
    "start_time": "2022-11-08T21:57:32.977Z"
   },
   {
    "duration": 187,
    "start_time": "2022-11-08T21:57:33.175Z"
   },
   {
    "duration": 331,
    "start_time": "2022-11-08T21:57:33.364Z"
   },
   {
    "duration": 194,
    "start_time": "2022-11-08T21:57:33.697Z"
   },
   {
    "duration": 156,
    "start_time": "2022-11-08T21:57:33.893Z"
   },
   {
    "duration": 155,
    "start_time": "2022-11-08T21:57:34.050Z"
   },
   {
    "duration": 284,
    "start_time": "2022-11-08T21:57:34.207Z"
   },
   {
    "duration": 215,
    "start_time": "2022-11-08T21:58:40.190Z"
   },
   {
    "duration": 175,
    "start_time": "2022-11-08T21:59:11.619Z"
   },
   {
    "duration": 335,
    "start_time": "2022-11-08T21:59:40.373Z"
   },
   {
    "duration": 183,
    "start_time": "2022-11-08T21:59:53.171Z"
   },
   {
    "duration": 530,
    "start_time": "2022-11-08T22:10:08.250Z"
   },
   {
    "duration": 431,
    "start_time": "2022-11-08T22:10:34.255Z"
   },
   {
    "duration": 403,
    "start_time": "2022-11-08T22:11:31.421Z"
   },
   {
    "duration": 421,
    "start_time": "2022-11-08T22:11:33.812Z"
   },
   {
    "duration": 362,
    "start_time": "2022-11-08T22:11:46.482Z"
   },
   {
    "duration": 194,
    "start_time": "2022-11-08T22:12:52.239Z"
   },
   {
    "duration": 191,
    "start_time": "2022-11-08T22:13:50.286Z"
   },
   {
    "duration": 191,
    "start_time": "2022-11-08T22:14:06.896Z"
   },
   {
    "duration": 285,
    "start_time": "2022-11-08T22:14:40.050Z"
   },
   {
    "duration": 269,
    "start_time": "2022-11-08T22:15:18.143Z"
   },
   {
    "duration": 311,
    "start_time": "2022-11-08T22:15:33.379Z"
   },
   {
    "duration": 244,
    "start_time": "2022-11-08T22:15:37.959Z"
   },
   {
    "duration": 370,
    "start_time": "2022-11-08T22:16:00.096Z"
   },
   {
    "duration": 190,
    "start_time": "2022-11-08T22:19:33.562Z"
   },
   {
    "duration": 200,
    "start_time": "2022-11-08T22:19:38.145Z"
   },
   {
    "duration": 43,
    "start_time": "2022-11-09T07:32:02.571Z"
   },
   {
    "duration": 80,
    "start_time": "2022-11-09T07:32:20.999Z"
   },
   {
    "duration": 6,
    "start_time": "2022-11-09T07:33:39.053Z"
   },
   {
    "duration": 6,
    "start_time": "2022-11-09T07:33:44.102Z"
   },
   {
    "duration": 534,
    "start_time": "2022-11-09T07:33:50.278Z"
   },
   {
    "duration": 35,
    "start_time": "2022-11-09T07:33:50.814Z"
   },
   {
    "duration": 13,
    "start_time": "2022-11-09T07:33:50.851Z"
   },
   {
    "duration": 2111,
    "start_time": "2022-11-09T07:33:50.866Z"
   },
   {
    "duration": 10,
    "start_time": "2022-11-09T07:33:52.979Z"
   },
   {
    "duration": 19,
    "start_time": "2022-11-09T07:33:52.990Z"
   },
   {
    "duration": 125,
    "start_time": "2022-11-09T07:33:53.010Z"
   },
   {
    "duration": 18,
    "start_time": "2022-11-09T07:33:53.137Z"
   },
   {
    "duration": 50,
    "start_time": "2022-11-09T07:33:53.157Z"
   },
   {
    "duration": 26,
    "start_time": "2022-11-09T07:33:53.211Z"
   },
   {
    "duration": 13,
    "start_time": "2022-11-09T07:33:53.239Z"
   },
   {
    "duration": 306,
    "start_time": "2022-11-09T07:33:53.253Z"
   },
   {
    "duration": 206,
    "start_time": "2022-11-09T07:33:53.561Z"
   },
   {
    "duration": 261,
    "start_time": "2022-11-09T07:33:53.768Z"
   },
   {
    "duration": 148,
    "start_time": "2022-11-09T07:33:54.031Z"
   },
   {
    "duration": 369,
    "start_time": "2022-11-09T07:33:54.181Z"
   },
   {
    "duration": 9,
    "start_time": "2022-11-09T07:33:54.551Z"
   },
   {
    "duration": 171,
    "start_time": "2022-11-09T07:33:54.561Z"
   },
   {
    "duration": 145,
    "start_time": "2022-11-09T07:33:54.733Z"
   },
   {
    "duration": 160,
    "start_time": "2022-11-09T07:33:54.880Z"
   },
   {
    "duration": 117,
    "start_time": "2022-11-09T07:33:55.041Z"
   },
   {
    "duration": 150,
    "start_time": "2022-11-09T07:33:55.159Z"
   },
   {
    "duration": 150,
    "start_time": "2022-11-09T07:33:55.311Z"
   },
   {
    "duration": 252,
    "start_time": "2022-11-09T07:33:55.462Z"
   },
   {
    "duration": 141,
    "start_time": "2022-11-09T07:33:55.715Z"
   },
   {
    "duration": 124,
    "start_time": "2022-11-09T07:33:55.858Z"
   },
   {
    "duration": 128,
    "start_time": "2022-11-09T07:33:55.984Z"
   },
   {
    "duration": 165,
    "start_time": "2022-11-09T07:33:56.115Z"
   },
   {
    "duration": 174,
    "start_time": "2022-11-09T07:46:02.580Z"
   },
   {
    "duration": 33,
    "start_time": "2022-11-09T09:28:27.119Z"
   },
   {
    "duration": 46,
    "start_time": "2022-11-09T09:31:59.242Z"
   },
   {
    "duration": 67,
    "start_time": "2022-11-09T09:33:49.622Z"
   },
   {
    "duration": 23,
    "start_time": "2022-11-09T09:35:04.819Z"
   },
   {
    "duration": 29,
    "start_time": "2022-11-09T09:35:11.526Z"
   },
   {
    "duration": 36,
    "start_time": "2022-11-09T09:44:18.217Z"
   },
   {
    "duration": 289,
    "start_time": "2022-11-09T09:44:28.465Z"
   },
   {
    "duration": 180,
    "start_time": "2022-11-09T09:44:51.901Z"
   },
   {
    "duration": 174,
    "start_time": "2022-11-09T09:45:12.997Z"
   },
   {
    "duration": 217,
    "start_time": "2022-11-09T09:45:32.112Z"
   },
   {
    "duration": 258,
    "start_time": "2022-11-09T09:46:58.250Z"
   },
   {
    "duration": 244,
    "start_time": "2022-11-09T09:47:55.173Z"
   },
   {
    "duration": 165,
    "start_time": "2022-11-09T09:48:00.247Z"
   },
   {
    "duration": 467,
    "start_time": "2022-11-09T09:49:16.432Z"
   },
   {
    "duration": 25,
    "start_time": "2022-11-09T09:49:16.901Z"
   },
   {
    "duration": 13,
    "start_time": "2022-11-09T09:49:16.927Z"
   },
   {
    "duration": 2104,
    "start_time": "2022-11-09T09:49:16.941Z"
   },
   {
    "duration": 10,
    "start_time": "2022-11-09T09:49:19.047Z"
   },
   {
    "duration": 18,
    "start_time": "2022-11-09T09:49:19.058Z"
   },
   {
    "duration": 128,
    "start_time": "2022-11-09T09:49:19.078Z"
   },
   {
    "duration": 20,
    "start_time": "2022-11-09T09:49:19.207Z"
   },
   {
    "duration": 43,
    "start_time": "2022-11-09T09:49:19.229Z"
   },
   {
    "duration": 61,
    "start_time": "2022-11-09T09:49:19.276Z"
   },
   {
    "duration": 21,
    "start_time": "2022-11-09T09:49:19.339Z"
   },
   {
    "duration": 330,
    "start_time": "2022-11-09T09:49:19.362Z"
   },
   {
    "duration": 236,
    "start_time": "2022-11-09T09:49:19.694Z"
   },
   {
    "duration": 195,
    "start_time": "2022-11-09T09:49:19.931Z"
   },
   {
    "duration": 251,
    "start_time": "2022-11-09T09:49:20.128Z"
   },
   {
    "duration": 363,
    "start_time": "2022-11-09T09:49:20.380Z"
   },
   {
    "duration": 12,
    "start_time": "2022-11-09T09:49:20.745Z"
   },
   {
    "duration": 174,
    "start_time": "2022-11-09T09:49:20.758Z"
   },
   {
    "duration": 167,
    "start_time": "2022-11-09T09:49:20.934Z"
   },
   {
    "duration": 183,
    "start_time": "2022-11-09T09:49:21.103Z"
   },
   {
    "duration": 135,
    "start_time": "2022-11-09T09:49:21.288Z"
   },
   {
    "duration": 179,
    "start_time": "2022-11-09T09:49:21.425Z"
   },
   {
    "duration": 165,
    "start_time": "2022-11-09T09:49:21.605Z"
   },
   {
    "duration": 192,
    "start_time": "2022-11-09T09:49:21.771Z"
   },
   {
    "duration": 263,
    "start_time": "2022-11-09T09:49:21.965Z"
   },
   {
    "duration": 134,
    "start_time": "2022-11-09T09:49:22.230Z"
   },
   {
    "duration": 142,
    "start_time": "2022-11-09T09:49:22.366Z"
   },
   {
    "duration": 184,
    "start_time": "2022-11-09T09:49:22.511Z"
   },
   {
    "duration": 239,
    "start_time": "2022-11-09T09:49:22.699Z"
   },
   {
    "duration": 467,
    "start_time": "2022-11-09T09:50:11.715Z"
   },
   {
    "duration": 25,
    "start_time": "2022-11-09T09:50:12.184Z"
   },
   {
    "duration": 13,
    "start_time": "2022-11-09T09:50:12.211Z"
   },
   {
    "duration": 2184,
    "start_time": "2022-11-09T09:50:12.226Z"
   },
   {
    "duration": 15,
    "start_time": "2022-11-09T09:50:14.412Z"
   },
   {
    "duration": 31,
    "start_time": "2022-11-09T09:50:14.429Z"
   },
   {
    "duration": 143,
    "start_time": "2022-11-09T09:50:14.462Z"
   },
   {
    "duration": 21,
    "start_time": "2022-11-09T09:50:14.607Z"
   },
   {
    "duration": 40,
    "start_time": "2022-11-09T09:50:14.630Z"
   },
   {
    "duration": 44,
    "start_time": "2022-11-09T09:50:14.672Z"
   },
   {
    "duration": 14,
    "start_time": "2022-11-09T09:50:14.717Z"
   },
   {
    "duration": 313,
    "start_time": "2022-11-09T09:50:14.733Z"
   },
   {
    "duration": 230,
    "start_time": "2022-11-09T09:50:15.048Z"
   },
   {
    "duration": 191,
    "start_time": "2022-11-09T09:50:15.280Z"
   },
   {
    "duration": 267,
    "start_time": "2022-11-09T09:50:15.472Z"
   },
   {
    "duration": 367,
    "start_time": "2022-11-09T09:50:15.741Z"
   },
   {
    "duration": 8,
    "start_time": "2022-11-09T09:50:16.110Z"
   },
   {
    "duration": 175,
    "start_time": "2022-11-09T09:50:16.120Z"
   },
   {
    "duration": 167,
    "start_time": "2022-11-09T09:50:16.299Z"
   },
   {
    "duration": 188,
    "start_time": "2022-11-09T09:50:16.468Z"
   },
   {
    "duration": 131,
    "start_time": "2022-11-09T09:50:16.658Z"
   },
   {
    "duration": 184,
    "start_time": "2022-11-09T09:50:16.790Z"
   },
   {
    "duration": 171,
    "start_time": "2022-11-09T09:50:16.976Z"
   },
   {
    "duration": 215,
    "start_time": "2022-11-09T09:50:17.149Z"
   },
   {
    "duration": 264,
    "start_time": "2022-11-09T09:50:17.366Z"
   },
   {
    "duration": 155,
    "start_time": "2022-11-09T09:50:17.632Z"
   },
   {
    "duration": 145,
    "start_time": "2022-11-09T09:50:17.789Z"
   },
   {
    "duration": 187,
    "start_time": "2022-11-09T09:50:17.937Z"
   },
   {
    "duration": 259,
    "start_time": "2022-11-09T09:50:18.126Z"
   },
   {
    "duration": 467,
    "start_time": "2022-11-09T09:51:13.002Z"
   },
   {
    "duration": 25,
    "start_time": "2022-11-09T09:51:13.471Z"
   },
   {
    "duration": 15,
    "start_time": "2022-11-09T09:51:13.498Z"
   },
   {
    "duration": 2214,
    "start_time": "2022-11-09T09:51:13.516Z"
   },
   {
    "duration": 11,
    "start_time": "2022-11-09T09:51:15.732Z"
   },
   {
    "duration": 15,
    "start_time": "2022-11-09T09:51:15.745Z"
   },
   {
    "duration": 146,
    "start_time": "2022-11-09T09:51:15.762Z"
   },
   {
    "duration": 27,
    "start_time": "2022-11-09T09:51:15.910Z"
   },
   {
    "duration": 71,
    "start_time": "2022-11-09T09:51:15.939Z"
   },
   {
    "duration": 22,
    "start_time": "2022-11-09T09:51:16.013Z"
   },
   {
    "duration": 14,
    "start_time": "2022-11-09T09:51:16.037Z"
   },
   {
    "duration": 322,
    "start_time": "2022-11-09T09:51:16.052Z"
   },
   {
    "duration": 235,
    "start_time": "2022-11-09T09:51:16.375Z"
   },
   {
    "duration": 178,
    "start_time": "2022-11-09T09:51:16.611Z"
   },
   {
    "duration": 248,
    "start_time": "2022-11-09T09:51:16.790Z"
   },
   {
    "duration": 348,
    "start_time": "2022-11-09T09:51:17.039Z"
   },
   {
    "duration": 15,
    "start_time": "2022-11-09T09:51:17.388Z"
   },
   {
    "duration": 166,
    "start_time": "2022-11-09T09:51:17.405Z"
   },
   {
    "duration": 161,
    "start_time": "2022-11-09T09:51:17.573Z"
   },
   {
    "duration": 204,
    "start_time": "2022-11-09T09:51:17.736Z"
   },
   {
    "duration": 144,
    "start_time": "2022-11-09T09:51:17.942Z"
   },
   {
    "duration": 218,
    "start_time": "2022-11-09T09:51:18.087Z"
   },
   {
    "duration": 168,
    "start_time": "2022-11-09T09:51:18.306Z"
   },
   {
    "duration": 191,
    "start_time": "2022-11-09T09:51:18.476Z"
   },
   {
    "duration": 277,
    "start_time": "2022-11-09T09:51:18.669Z"
   },
   {
    "duration": 151,
    "start_time": "2022-11-09T09:51:18.948Z"
   },
   {
    "duration": 143,
    "start_time": "2022-11-09T09:51:19.101Z"
   },
   {
    "duration": 187,
    "start_time": "2022-11-09T09:51:19.247Z"
   },
   {
    "duration": 252,
    "start_time": "2022-11-09T09:51:19.436Z"
   },
   {
    "duration": 183,
    "start_time": "2022-11-09T09:52:24.934Z"
   },
   {
    "duration": 177,
    "start_time": "2022-11-09T09:53:01.077Z"
   },
   {
    "duration": 192,
    "start_time": "2022-11-09T09:54:13.039Z"
   },
   {
    "duration": 194,
    "start_time": "2022-11-09T10:06:59.121Z"
   },
   {
    "duration": 225,
    "start_time": "2022-11-09T10:07:10.435Z"
   },
   {
    "duration": 26,
    "start_time": "2022-11-09T13:53:36.020Z"
   },
   {
    "duration": 164,
    "start_time": "2022-11-09T14:31:39.630Z"
   },
   {
    "duration": 174,
    "start_time": "2022-11-09T14:32:00.461Z"
   },
   {
    "duration": 196,
    "start_time": "2022-11-09T14:32:28.848Z"
   },
   {
    "duration": 19,
    "start_time": "2022-11-09T14:33:05.351Z"
   },
   {
    "duration": 193,
    "start_time": "2022-11-09T14:33:46.109Z"
   },
   {
    "duration": 332,
    "start_time": "2022-11-09T14:34:03.107Z"
   },
   {
    "duration": 282,
    "start_time": "2022-11-09T14:34:10.445Z"
   },
   {
    "duration": 175,
    "start_time": "2022-11-09T14:34:26.242Z"
   },
   {
    "duration": 196,
    "start_time": "2022-11-09T14:37:19.715Z"
   },
   {
    "duration": 72,
    "start_time": "2022-11-09T14:39:10.036Z"
   },
   {
    "duration": 201,
    "start_time": "2022-11-09T14:40:30.136Z"
   },
   {
    "duration": 201,
    "start_time": "2022-11-09T14:40:33.193Z"
   },
   {
    "duration": 2040,
    "start_time": "2022-11-09T14:40:47.754Z"
   },
   {
    "duration": 186,
    "start_time": "2022-11-09T14:40:52.005Z"
   },
   {
    "duration": 25,
    "start_time": "2022-11-09T14:42:10.126Z"
   },
   {
    "duration": 28,
    "start_time": "2022-11-09T14:42:22.876Z"
   },
   {
    "duration": 27,
    "start_time": "2022-11-09T14:43:10.088Z"
   },
   {
    "duration": 14,
    "start_time": "2022-11-09T14:43:32.558Z"
   },
   {
    "duration": 19,
    "start_time": "2022-11-09T14:43:37.216Z"
   },
   {
    "duration": 18,
    "start_time": "2022-11-09T14:44:54.129Z"
   },
   {
    "duration": 25,
    "start_time": "2022-11-09T14:45:29.388Z"
   },
   {
    "duration": 173,
    "start_time": "2022-11-09T14:46:29.934Z"
   },
   {
    "duration": 153,
    "start_time": "2022-11-09T14:46:43.463Z"
   },
   {
    "duration": 158,
    "start_time": "2022-11-09T14:46:47.258Z"
   },
   {
    "duration": 173,
    "start_time": "2022-11-09T19:04:20.059Z"
   },
   {
    "duration": 167,
    "start_time": "2022-11-09T19:04:29.813Z"
   },
   {
    "duration": 169,
    "start_time": "2022-11-09T19:04:43.532Z"
   },
   {
    "duration": 25,
    "start_time": "2022-11-09T19:18:54.822Z"
   },
   {
    "duration": 135,
    "start_time": "2022-11-09T19:19:12.473Z"
   },
   {
    "duration": 137,
    "start_time": "2022-11-09T19:33:38.443Z"
   },
   {
    "duration": 157,
    "start_time": "2022-11-09T19:39:19.258Z"
   },
   {
    "duration": 155,
    "start_time": "2022-11-09T19:43:56.259Z"
   },
   {
    "duration": 5,
    "start_time": "2022-11-09T19:46:59.647Z"
   },
   {
    "duration": 4,
    "start_time": "2022-11-09T19:47:16.726Z"
   },
   {
    "duration": 5,
    "start_time": "2022-11-09T19:47:31.034Z"
   },
   {
    "duration": 259,
    "start_time": "2022-11-09T19:47:37.299Z"
   },
   {
    "duration": 163,
    "start_time": "2022-11-09T19:48:52.273Z"
   },
   {
    "duration": 156,
    "start_time": "2022-11-09T19:50:02.282Z"
   },
   {
    "duration": 154,
    "start_time": "2022-11-09T19:51:12.903Z"
   },
   {
    "duration": 155,
    "start_time": "2022-11-09T19:51:25.301Z"
   },
   {
    "duration": 163,
    "start_time": "2022-11-09T19:51:47.082Z"
   },
   {
    "duration": 151,
    "start_time": "2022-11-09T19:52:06.144Z"
   },
   {
    "duration": 39,
    "start_time": "2022-11-09T21:00:56.780Z"
   },
   {
    "duration": 193,
    "start_time": "2022-11-09T21:01:33.412Z"
   },
   {
    "duration": 170,
    "start_time": "2022-11-09T21:03:32.631Z"
   },
   {
    "duration": 175,
    "start_time": "2022-11-09T21:04:01.159Z"
   },
   {
    "duration": 16,
    "start_time": "2022-11-09T21:05:10.231Z"
   },
   {
    "duration": 16,
    "start_time": "2022-11-09T21:05:50.668Z"
   },
   {
    "duration": 17,
    "start_time": "2022-11-09T21:06:15.969Z"
   },
   {
    "duration": 15,
    "start_time": "2022-11-09T21:06:23.862Z"
   },
   {
    "duration": 135,
    "start_time": "2022-11-09T21:06:38.156Z"
   },
   {
    "duration": 26,
    "start_time": "2022-11-09T21:15:32.250Z"
   },
   {
    "duration": 9,
    "start_time": "2022-11-09T21:17:12.566Z"
   },
   {
    "duration": 19,
    "start_time": "2022-11-09T21:17:34.408Z"
   },
   {
    "duration": 135,
    "start_time": "2022-11-09T21:18:27.317Z"
   },
   {
    "duration": 130,
    "start_time": "2022-11-09T21:18:54.421Z"
   },
   {
    "duration": 241,
    "start_time": "2022-11-09T21:20:33.917Z"
   },
   {
    "duration": 339,
    "start_time": "2022-11-09T21:20:40.117Z"
   },
   {
    "duration": 168,
    "start_time": "2022-11-09T21:21:16.364Z"
   },
   {
    "duration": 144,
    "start_time": "2022-11-09T21:21:45.561Z"
   },
   {
    "duration": 157,
    "start_time": "2022-11-09T21:21:48.309Z"
   },
   {
    "duration": 150,
    "start_time": "2022-11-09T21:23:52.300Z"
   },
   {
    "duration": 136,
    "start_time": "2022-11-09T21:23:55.958Z"
   },
   {
    "duration": 189,
    "start_time": "2022-11-09T21:24:03.952Z"
   },
   {
    "duration": 3,
    "start_time": "2022-11-09T21:38:22.171Z"
   },
   {
    "duration": 2,
    "start_time": "2022-11-09T21:38:26.456Z"
   },
   {
    "duration": 59,
    "start_time": "2022-11-09T21:41:52.351Z"
   },
   {
    "duration": 17,
    "start_time": "2022-11-09T21:44:08.403Z"
   },
   {
    "duration": 23,
    "start_time": "2022-11-09T21:44:49.650Z"
   },
   {
    "duration": 22,
    "start_time": "2022-11-09T21:45:16.583Z"
   },
   {
    "duration": 24,
    "start_time": "2022-11-09T21:46:47.029Z"
   },
   {
    "duration": 22,
    "start_time": "2022-11-09T21:47:40.641Z"
   },
   {
    "duration": 23,
    "start_time": "2022-11-09T21:48:26.312Z"
   },
   {
    "duration": 833,
    "start_time": "2022-11-09T21:48:48.038Z"
   },
   {
    "duration": 1140,
    "start_time": "2022-11-09T21:48:54.493Z"
   },
   {
    "duration": 23,
    "start_time": "2022-11-09T21:49:10.470Z"
   },
   {
    "duration": 27,
    "start_time": "2022-11-09T21:49:34.152Z"
   },
   {
    "duration": 23,
    "start_time": "2022-11-09T21:51:21.833Z"
   },
   {
    "duration": 10,
    "start_time": "2022-11-09T21:56:09.029Z"
   },
   {
    "duration": 70,
    "start_time": "2022-11-09T21:57:38.054Z"
   },
   {
    "duration": 13,
    "start_time": "2022-11-09T21:58:16.587Z"
   },
   {
    "duration": 9,
    "start_time": "2022-11-09T22:00:47.307Z"
   },
   {
    "duration": 14,
    "start_time": "2022-11-09T22:02:40.836Z"
   },
   {
    "duration": 13,
    "start_time": "2022-11-09T22:03:19.940Z"
   },
   {
    "duration": 7,
    "start_time": "2022-11-09T22:07:38.126Z"
   },
   {
    "duration": 28,
    "start_time": "2022-11-09T22:07:52.796Z"
   },
   {
    "duration": 71,
    "start_time": "2022-11-09T22:08:19.051Z"
   },
   {
    "duration": 23,
    "start_time": "2022-11-09T22:08:22.178Z"
   },
   {
    "duration": 23,
    "start_time": "2022-11-09T22:08:36.904Z"
   },
   {
    "duration": 23,
    "start_time": "2022-11-09T22:08:48.126Z"
   },
   {
    "duration": 27,
    "start_time": "2022-11-09T22:09:01.955Z"
   },
   {
    "duration": 23,
    "start_time": "2022-11-09T22:09:07.299Z"
   },
   {
    "duration": 23,
    "start_time": "2022-11-09T22:13:20.116Z"
   },
   {
    "duration": 24,
    "start_time": "2022-11-09T22:13:25.555Z"
   },
   {
    "duration": 28,
    "start_time": "2022-11-09T22:13:43.870Z"
   },
   {
    "duration": 25,
    "start_time": "2022-11-09T22:13:54.088Z"
   },
   {
    "duration": 21,
    "start_time": "2022-11-09T22:14:26.264Z"
   },
   {
    "duration": 22,
    "start_time": "2022-11-09T22:14:50.745Z"
   },
   {
    "duration": 69,
    "start_time": "2022-11-09T22:16:19.556Z"
   },
   {
    "duration": 56,
    "start_time": "2022-11-10T10:02:54.988Z"
   },
   {
    "duration": 42,
    "start_time": "2022-11-10T10:06:16.730Z"
   },
   {
    "duration": 738,
    "start_time": "2022-11-10T10:06:29.741Z"
   },
   {
    "duration": 25,
    "start_time": "2022-11-10T10:06:30.481Z"
   },
   {
    "duration": 69,
    "start_time": "2022-11-10T10:06:30.508Z"
   },
   {
    "duration": 2300,
    "start_time": "2022-11-10T10:06:30.579Z"
   },
   {
    "duration": 10,
    "start_time": "2022-11-10T10:06:32.880Z"
   },
   {
    "duration": 13,
    "start_time": "2022-11-10T10:06:32.892Z"
   },
   {
    "duration": 124,
    "start_time": "2022-11-10T10:06:32.906Z"
   },
   {
    "duration": 22,
    "start_time": "2022-11-10T10:06:33.032Z"
   },
   {
    "duration": 51,
    "start_time": "2022-11-10T10:06:33.056Z"
   },
   {
    "duration": 48,
    "start_time": "2022-11-10T10:06:33.111Z"
   },
   {
    "duration": 18,
    "start_time": "2022-11-10T10:06:33.160Z"
   },
   {
    "duration": 330,
    "start_time": "2022-11-10T10:06:33.180Z"
   },
   {
    "duration": 243,
    "start_time": "2022-11-10T10:06:33.511Z"
   },
   {
    "duration": 268,
    "start_time": "2022-11-10T10:06:33.755Z"
   },
   {
    "duration": 178,
    "start_time": "2022-11-10T10:06:34.024Z"
   },
   {
    "duration": 367,
    "start_time": "2022-11-10T10:06:34.203Z"
   },
   {
    "duration": 10,
    "start_time": "2022-11-10T10:06:34.572Z"
   },
   {
    "duration": 177,
    "start_time": "2022-11-10T10:06:34.584Z"
   },
   {
    "duration": 150,
    "start_time": "2022-11-10T10:06:34.763Z"
   },
   {
    "duration": 171,
    "start_time": "2022-11-10T10:06:34.915Z"
   },
   {
    "duration": 155,
    "start_time": "2022-11-10T10:06:35.088Z"
   },
   {
    "duration": 193,
    "start_time": "2022-11-10T10:06:35.245Z"
   },
   {
    "duration": 169,
    "start_time": "2022-11-10T10:06:35.440Z"
   },
   {
    "duration": 286,
    "start_time": "2022-11-10T10:06:35.611Z"
   },
   {
    "duration": 163,
    "start_time": "2022-11-10T10:06:35.899Z"
   },
   {
    "duration": 130,
    "start_time": "2022-11-10T10:06:36.064Z"
   },
   {
    "duration": 142,
    "start_time": "2022-11-10T10:06:36.195Z"
   },
   {
    "duration": 174,
    "start_time": "2022-11-10T10:06:36.340Z"
   },
   {
    "duration": 192,
    "start_time": "2022-11-10T10:06:36.516Z"
   },
   {
    "duration": 187,
    "start_time": "2022-11-10T10:06:36.710Z"
   },
   {
    "duration": 185,
    "start_time": "2022-11-10T10:06:36.899Z"
   },
   {
    "duration": 169,
    "start_time": "2022-11-10T10:06:37.086Z"
   },
   {
    "duration": 153,
    "start_time": "2022-11-10T10:06:37.256Z"
   },
   {
    "duration": 152,
    "start_time": "2022-11-10T10:06:37.411Z"
   },
   {
    "duration": 179,
    "start_time": "2022-11-10T10:06:37.566Z"
   },
   {
    "duration": 160,
    "start_time": "2022-11-10T10:06:37.748Z"
   },
   {
    "duration": 23,
    "start_time": "2022-11-10T10:06:37.910Z"
   },
   {
    "duration": 31,
    "start_time": "2022-11-10T10:06:37.934Z"
   },
   {
    "duration": 71,
    "start_time": "2022-11-10T10:09:17.021Z"
   },
   {
    "duration": 30,
    "start_time": "2022-11-10T10:09:23.271Z"
   },
   {
    "duration": 60,
    "start_time": "2022-11-10T10:09:36.137Z"
   },
   {
    "duration": 14,
    "start_time": "2022-11-10T10:09:42.208Z"
   },
   {
    "duration": 12,
    "start_time": "2022-11-10T10:10:14.488Z"
   },
   {
    "duration": 15,
    "start_time": "2022-11-10T10:10:23.090Z"
   },
   {
    "duration": 25,
    "start_time": "2022-11-10T10:15:54.154Z"
   },
   {
    "duration": 159,
    "start_time": "2022-11-10T10:16:45.144Z"
   },
   {
    "duration": 17,
    "start_time": "2022-11-10T10:16:59.334Z"
   },
   {
    "duration": 148,
    "start_time": "2022-11-10T10:17:18.205Z"
   },
   {
    "duration": 161,
    "start_time": "2022-11-10T10:18:32.148Z"
   },
   {
    "duration": 189,
    "start_time": "2022-11-10T10:24:32.133Z"
   },
   {
    "duration": 175,
    "start_time": "2022-11-10T10:24:39.080Z"
   },
   {
    "duration": 178,
    "start_time": "2022-11-10T10:25:00.614Z"
   },
   {
    "duration": 161,
    "start_time": "2022-11-10T10:26:15.026Z"
   },
   {
    "duration": 184,
    "start_time": "2022-11-10T10:27:02.317Z"
   },
   {
    "duration": 153,
    "start_time": "2022-11-10T10:27:08.271Z"
   },
   {
    "duration": 147,
    "start_time": "2022-11-10T10:27:12.977Z"
   },
   {
    "duration": 146,
    "start_time": "2022-11-10T10:27:23.300Z"
   },
   {
    "duration": 149,
    "start_time": "2022-11-10T10:27:28.403Z"
   },
   {
    "duration": 240,
    "start_time": "2022-11-10T10:27:49.136Z"
   },
   {
    "duration": 232,
    "start_time": "2022-11-10T10:29:33.214Z"
   },
   {
    "duration": 153,
    "start_time": "2022-11-10T10:29:48.512Z"
   },
   {
    "duration": 153,
    "start_time": "2022-11-10T10:30:28.177Z"
   },
   {
    "duration": 167,
    "start_time": "2022-11-10T10:31:34.736Z"
   },
   {
    "duration": 145,
    "start_time": "2022-11-10T10:32:57.917Z"
   },
   {
    "duration": 152,
    "start_time": "2022-11-10T10:33:40.805Z"
   },
   {
    "duration": 21,
    "start_time": "2022-11-10T10:37:27.344Z"
   },
   {
    "duration": 18,
    "start_time": "2022-11-10T10:37:50.021Z"
   },
   {
    "duration": 20,
    "start_time": "2022-11-10T10:38:11.083Z"
   },
   {
    "duration": 15,
    "start_time": "2022-11-10T10:38:41.397Z"
   },
   {
    "duration": 35,
    "start_time": "2022-11-10T10:38:49.085Z"
   },
   {
    "duration": 156,
    "start_time": "2022-11-10T10:38:57.116Z"
   },
   {
    "duration": 163,
    "start_time": "2022-11-10T10:39:06.126Z"
   },
   {
    "duration": 159,
    "start_time": "2022-11-10T10:41:58.969Z"
   },
   {
    "duration": 50,
    "start_time": "2022-11-10T10:42:30.377Z"
   },
   {
    "duration": 62,
    "start_time": "2022-11-10T10:42:48.390Z"
   },
   {
    "duration": 160,
    "start_time": "2022-11-10T10:43:12.996Z"
   },
   {
    "duration": 163,
    "start_time": "2022-11-10T10:46:57.380Z"
   },
   {
    "duration": 8,
    "start_time": "2022-11-10T10:48:02.317Z"
   },
   {
    "duration": 184,
    "start_time": "2022-11-10T10:48:16.263Z"
   },
   {
    "duration": 743,
    "start_time": "2022-11-10T10:48:39.244Z"
   },
   {
    "duration": 860,
    "start_time": "2022-11-10T10:49:05.567Z"
   },
   {
    "duration": 767,
    "start_time": "2022-11-10T10:49:13.655Z"
   },
   {
    "duration": 8,
    "start_time": "2022-11-10T10:49:20.958Z"
   },
   {
    "duration": 152,
    "start_time": "2022-11-10T10:49:33.339Z"
   },
   {
    "duration": 129,
    "start_time": "2022-11-10T10:49:41.283Z"
   },
   {
    "duration": 137,
    "start_time": "2022-11-10T10:49:52.596Z"
   },
   {
    "duration": 139,
    "start_time": "2022-11-10T10:50:35.686Z"
   },
   {
    "duration": 248,
    "start_time": "2022-11-10T10:58:56.683Z"
   },
   {
    "duration": 133,
    "start_time": "2022-11-10T10:59:03.286Z"
   },
   {
    "duration": 3,
    "start_time": "2022-11-10T10:59:28.917Z"
   },
   {
    "duration": 153,
    "start_time": "2022-11-10T11:00:10.601Z"
   },
   {
    "duration": 146,
    "start_time": "2022-11-10T11:01:21.284Z"
   },
   {
    "duration": 153,
    "start_time": "2022-11-10T11:01:30.564Z"
   },
   {
    "duration": 130,
    "start_time": "2022-11-10T11:01:47.537Z"
   },
   {
    "duration": 154,
    "start_time": "2022-11-10T11:02:01.076Z"
   },
   {
    "duration": 175,
    "start_time": "2022-11-10T11:02:10.128Z"
   },
   {
    "duration": 179,
    "start_time": "2022-11-10T11:02:14.332Z"
   },
   {
    "duration": 156,
    "start_time": "2022-11-10T11:09:40.884Z"
   },
   {
    "duration": 1087,
    "start_time": "2022-11-10T11:09:44.231Z"
   },
   {
    "duration": 823,
    "start_time": "2022-11-10T11:09:56.728Z"
   },
   {
    "duration": 157,
    "start_time": "2022-11-10T11:10:15.068Z"
   },
   {
    "duration": 311,
    "start_time": "2022-11-10T11:10:38.839Z"
   },
   {
    "duration": 369,
    "start_time": "2022-11-10T11:10:45.390Z"
   },
   {
    "duration": 469,
    "start_time": "2022-11-10T11:40:49.197Z"
   },
   {
    "duration": 290,
    "start_time": "2022-11-10T11:41:00.744Z"
   },
   {
    "duration": 229,
    "start_time": "2022-11-10T11:41:06.251Z"
   },
   {
    "duration": 59,
    "start_time": "2022-11-10T13:48:07.417Z"
   },
   {
    "duration": 457,
    "start_time": "2022-11-10T13:48:30.579Z"
   },
   {
    "duration": 27,
    "start_time": "2022-11-10T13:48:31.038Z"
   },
   {
    "duration": 31,
    "start_time": "2022-11-10T13:48:31.067Z"
   },
   {
    "duration": 2079,
    "start_time": "2022-11-10T13:48:31.100Z"
   },
   {
    "duration": 9,
    "start_time": "2022-11-10T13:48:33.180Z"
   },
   {
    "duration": 35,
    "start_time": "2022-11-10T13:48:33.190Z"
   },
   {
    "duration": 122,
    "start_time": "2022-11-10T13:48:33.227Z"
   },
   {
    "duration": 19,
    "start_time": "2022-11-10T13:48:33.350Z"
   },
   {
    "duration": 37,
    "start_time": "2022-11-10T13:48:33.371Z"
   },
   {
    "duration": 39,
    "start_time": "2022-11-10T13:48:33.411Z"
   },
   {
    "duration": 12,
    "start_time": "2022-11-10T13:48:33.452Z"
   },
   {
    "duration": 295,
    "start_time": "2022-11-10T13:48:33.466Z"
   },
   {
    "duration": 209,
    "start_time": "2022-11-10T13:48:33.762Z"
   },
   {
    "duration": 175,
    "start_time": "2022-11-10T13:48:33.973Z"
   },
   {
    "duration": 220,
    "start_time": "2022-11-10T13:48:34.149Z"
   },
   {
    "duration": 226,
    "start_time": "2022-11-10T13:48:34.371Z"
   },
   {
    "duration": 155,
    "start_time": "2022-11-10T13:48:34.599Z"
   },
   {
    "duration": 144,
    "start_time": "2022-11-10T13:48:34.755Z"
   },
   {
    "duration": 171,
    "start_time": "2022-11-10T13:48:34.900Z"
   },
   {
    "duration": 123,
    "start_time": "2022-11-10T13:48:35.073Z"
   },
   {
    "duration": 173,
    "start_time": "2022-11-10T13:48:35.198Z"
   },
   {
    "duration": 181,
    "start_time": "2022-11-10T13:48:35.373Z"
   },
   {
    "duration": 176,
    "start_time": "2022-11-10T13:48:35.555Z"
   },
   {
    "duration": 151,
    "start_time": "2022-11-10T13:48:35.732Z"
   },
   {
    "duration": 214,
    "start_time": "2022-11-10T13:48:35.884Z"
   },
   {
    "duration": 124,
    "start_time": "2022-11-10T13:48:36.100Z"
   },
   {
    "duration": 170,
    "start_time": "2022-11-10T13:48:36.225Z"
   },
   {
    "duration": 166,
    "start_time": "2022-11-10T13:48:36.398Z"
   },
   {
    "duration": 176,
    "start_time": "2022-11-10T13:48:36.566Z"
   },
   {
    "duration": 179,
    "start_time": "2022-11-10T13:48:36.744Z"
   },
   {
    "duration": 164,
    "start_time": "2022-11-10T13:48:36.925Z"
   },
   {
    "duration": 141,
    "start_time": "2022-11-10T13:48:37.091Z"
   },
   {
    "duration": 146,
    "start_time": "2022-11-10T13:48:37.233Z"
   },
   {
    "duration": 148,
    "start_time": "2022-11-10T13:48:37.381Z"
   },
   {
    "duration": 150,
    "start_time": "2022-11-10T13:48:37.531Z"
   },
   {
    "duration": 47,
    "start_time": "2022-11-10T13:48:37.683Z"
   },
   {
    "duration": 0,
    "start_time": "2022-11-10T13:48:37.732Z"
   },
   {
    "duration": 49,
    "start_time": "2022-11-10T13:49:10.636Z"
   },
   {
    "duration": 39,
    "start_time": "2022-11-10T13:49:21.957Z"
   },
   {
    "duration": 40,
    "start_time": "2022-11-10T13:49:28.456Z"
   },
   {
    "duration": 24,
    "start_time": "2022-11-10T13:49:42.436Z"
   },
   {
    "duration": 20,
    "start_time": "2022-11-10T13:49:48.884Z"
   },
   {
    "duration": 24,
    "start_time": "2022-11-10T13:49:52.781Z"
   },
   {
    "duration": 44,
    "start_time": "2022-11-10T16:05:39.483Z"
   },
   {
    "duration": 753,
    "start_time": "2022-11-10T16:05:45.540Z"
   },
   {
    "duration": 29,
    "start_time": "2022-11-10T16:05:46.294Z"
   },
   {
    "duration": 14,
    "start_time": "2022-11-10T16:05:46.324Z"
   },
   {
    "duration": 2149,
    "start_time": "2022-11-10T16:05:46.340Z"
   },
   {
    "duration": 9,
    "start_time": "2022-11-10T16:05:48.491Z"
   },
   {
    "duration": 45,
    "start_time": "2022-11-10T16:05:48.501Z"
   },
   {
    "duration": 120,
    "start_time": "2022-11-10T16:05:48.547Z"
   },
   {
    "duration": 18,
    "start_time": "2022-11-10T16:05:48.669Z"
   },
   {
    "duration": 44,
    "start_time": "2022-11-10T16:05:48.688Z"
   },
   {
    "duration": 21,
    "start_time": "2022-11-10T16:05:48.747Z"
   },
   {
    "duration": 12,
    "start_time": "2022-11-10T16:05:48.770Z"
   },
   {
    "duration": 320,
    "start_time": "2022-11-10T16:05:48.784Z"
   },
   {
    "duration": 231,
    "start_time": "2022-11-10T16:05:49.105Z"
   },
   {
    "duration": 235,
    "start_time": "2022-11-10T16:05:49.337Z"
   },
   {
    "duration": 158,
    "start_time": "2022-11-10T16:05:49.574Z"
   },
   {
    "duration": 224,
    "start_time": "2022-11-10T16:05:49.734Z"
   },
   {
    "duration": 161,
    "start_time": "2022-11-10T16:05:49.959Z"
   },
   {
    "duration": 143,
    "start_time": "2022-11-10T16:05:50.121Z"
   },
   {
    "duration": 173,
    "start_time": "2022-11-10T16:05:50.266Z"
   },
   {
    "duration": 120,
    "start_time": "2022-11-10T16:05:50.441Z"
   },
   {
    "duration": 155,
    "start_time": "2022-11-10T16:05:50.563Z"
   },
   {
    "duration": 149,
    "start_time": "2022-11-10T16:05:50.720Z"
   },
   {
    "duration": 179,
    "start_time": "2022-11-10T16:05:50.871Z"
   },
   {
    "duration": 240,
    "start_time": "2022-11-10T16:05:51.052Z"
   },
   {
    "duration": 124,
    "start_time": "2022-11-10T16:05:51.294Z"
   },
   {
    "duration": 132,
    "start_time": "2022-11-10T16:05:51.419Z"
   },
   {
    "duration": 171,
    "start_time": "2022-11-10T16:05:51.553Z"
   },
   {
    "duration": 175,
    "start_time": "2022-11-10T16:05:51.727Z"
   },
   {
    "duration": 181,
    "start_time": "2022-11-10T16:05:51.904Z"
   },
   {
    "duration": 193,
    "start_time": "2022-11-10T16:05:52.086Z"
   },
   {
    "duration": 159,
    "start_time": "2022-11-10T16:05:52.280Z"
   },
   {
    "duration": 144,
    "start_time": "2022-11-10T16:05:52.440Z"
   },
   {
    "duration": 137,
    "start_time": "2022-11-10T16:05:52.586Z"
   },
   {
    "duration": 147,
    "start_time": "2022-11-10T16:05:52.725Z"
   },
   {
    "duration": 150,
    "start_time": "2022-11-10T16:05:52.873Z"
   },
   {
    "duration": 28,
    "start_time": "2022-11-10T16:05:53.025Z"
   },
   {
    "duration": 344,
    "start_time": "2022-11-10T16:05:53.054Z"
   },
   {
    "duration": 5,
    "start_time": "2022-11-10T16:05:53.399Z"
   },
   {
    "duration": 51,
    "start_time": "2022-11-10T17:51:11.160Z"
   },
   {
    "duration": 9,
    "start_time": "2022-11-10T18:04:44.136Z"
   },
   {
    "duration": 703,
    "start_time": "2022-11-10T18:04:51.319Z"
   },
   {
    "duration": 41,
    "start_time": "2022-11-10T18:04:52.025Z"
   },
   {
    "duration": 18,
    "start_time": "2022-11-10T18:04:52.068Z"
   },
   {
    "duration": 3601,
    "start_time": "2022-11-10T18:04:52.089Z"
   },
   {
    "duration": 17,
    "start_time": "2022-11-10T18:04:55.693Z"
   },
   {
    "duration": 20,
    "start_time": "2022-11-10T18:04:55.712Z"
   },
   {
    "duration": 193,
    "start_time": "2022-11-10T18:04:55.735Z"
   },
   {
    "duration": 142,
    "start_time": "2022-11-10T18:04:55.938Z"
   },
   {
    "duration": 0,
    "start_time": "2022-11-10T18:04:56.084Z"
   },
   {
    "duration": 0,
    "start_time": "2022-11-10T18:04:56.085Z"
   },
   {
    "duration": 0,
    "start_time": "2022-11-10T18:04:56.086Z"
   },
   {
    "duration": 0,
    "start_time": "2022-11-10T18:04:56.088Z"
   },
   {
    "duration": 0,
    "start_time": "2022-11-10T18:04:56.089Z"
   },
   {
    "duration": 0,
    "start_time": "2022-11-10T18:04:56.091Z"
   },
   {
    "duration": 0,
    "start_time": "2022-11-10T18:04:56.093Z"
   },
   {
    "duration": 0,
    "start_time": "2022-11-10T18:04:56.095Z"
   },
   {
    "duration": 0,
    "start_time": "2022-11-10T18:04:56.096Z"
   },
   {
    "duration": 0,
    "start_time": "2022-11-10T18:04:56.098Z"
   },
   {
    "duration": 0,
    "start_time": "2022-11-10T18:04:56.100Z"
   },
   {
    "duration": 0,
    "start_time": "2022-11-10T18:04:56.102Z"
   },
   {
    "duration": 0,
    "start_time": "2022-11-10T18:04:56.103Z"
   },
   {
    "duration": 0,
    "start_time": "2022-11-10T18:04:56.104Z"
   },
   {
    "duration": 0,
    "start_time": "2022-11-10T18:04:56.137Z"
   },
   {
    "duration": 0,
    "start_time": "2022-11-10T18:04:56.139Z"
   },
   {
    "duration": 0,
    "start_time": "2022-11-10T18:04:56.141Z"
   },
   {
    "duration": 0,
    "start_time": "2022-11-10T18:04:56.142Z"
   },
   {
    "duration": 0,
    "start_time": "2022-11-10T18:04:56.143Z"
   },
   {
    "duration": 1,
    "start_time": "2022-11-10T18:04:56.144Z"
   },
   {
    "duration": 0,
    "start_time": "2022-11-10T18:04:56.146Z"
   },
   {
    "duration": 0,
    "start_time": "2022-11-10T18:04:56.147Z"
   },
   {
    "duration": 0,
    "start_time": "2022-11-10T18:04:56.148Z"
   },
   {
    "duration": 0,
    "start_time": "2022-11-10T18:04:56.149Z"
   },
   {
    "duration": 0,
    "start_time": "2022-11-10T18:04:56.150Z"
   },
   {
    "duration": 0,
    "start_time": "2022-11-10T18:04:56.152Z"
   },
   {
    "duration": 0,
    "start_time": "2022-11-10T18:04:56.153Z"
   },
   {
    "duration": 0,
    "start_time": "2022-11-10T18:04:56.154Z"
   },
   {
    "duration": 0,
    "start_time": "2022-11-10T18:04:56.156Z"
   },
   {
    "duration": 0,
    "start_time": "2022-11-10T18:04:56.157Z"
   },
   {
    "duration": 0,
    "start_time": "2022-11-10T18:04:56.158Z"
   },
   {
    "duration": 0,
    "start_time": "2022-11-10T18:04:56.162Z"
   },
   {
    "duration": 24,
    "start_time": "2022-11-10T18:07:09.008Z"
   },
   {
    "duration": 11,
    "start_time": "2022-11-10T18:07:24.653Z"
   },
   {
    "duration": 10,
    "start_time": "2022-11-10T18:07:47.219Z"
   },
   {
    "duration": 11,
    "start_time": "2022-11-10T18:08:27.504Z"
   },
   {
    "duration": 10,
    "start_time": "2022-11-10T18:09:02.129Z"
   },
   {
    "duration": 70,
    "start_time": "2022-11-10T18:10:37.913Z"
   },
   {
    "duration": 8,
    "start_time": "2022-11-10T18:10:52.085Z"
   },
   {
    "duration": 534,
    "start_time": "2022-11-10T18:11:31.770Z"
   },
   {
    "duration": 56,
    "start_time": "2022-11-10T18:11:32.306Z"
   },
   {
    "duration": 17,
    "start_time": "2022-11-10T18:11:32.364Z"
   },
   {
    "duration": 2586,
    "start_time": "2022-11-10T18:11:32.384Z"
   },
   {
    "duration": 11,
    "start_time": "2022-11-10T18:11:34.972Z"
   },
   {
    "duration": 19,
    "start_time": "2022-11-10T18:11:34.984Z"
   },
   {
    "duration": 156,
    "start_time": "2022-11-10T18:11:35.005Z"
   },
   {
    "duration": 10,
    "start_time": "2022-11-10T18:11:35.163Z"
   },
   {
    "duration": 18,
    "start_time": "2022-11-10T18:11:35.175Z"
   },
   {
    "duration": 19,
    "start_time": "2022-11-10T18:11:35.197Z"
   },
   {
    "duration": 92,
    "start_time": "2022-11-10T18:11:35.218Z"
   },
   {
    "duration": 51,
    "start_time": "2022-11-10T18:11:35.312Z"
   },
   {
    "duration": 27,
    "start_time": "2022-11-10T18:11:35.366Z"
   },
   {
    "duration": 379,
    "start_time": "2022-11-10T18:11:35.395Z"
   },
   {
    "duration": 291,
    "start_time": "2022-11-10T18:11:35.777Z"
   },
   {
    "duration": 242,
    "start_time": "2022-11-10T18:11:36.070Z"
   },
   {
    "duration": 280,
    "start_time": "2022-11-10T18:11:36.314Z"
   },
   {
    "duration": 283,
    "start_time": "2022-11-10T18:11:36.596Z"
   },
   {
    "duration": 263,
    "start_time": "2022-11-10T18:11:36.880Z"
   },
   {
    "duration": 238,
    "start_time": "2022-11-10T18:11:37.146Z"
   },
   {
    "duration": 214,
    "start_time": "2022-11-10T18:11:37.386Z"
   },
   {
    "duration": 167,
    "start_time": "2022-11-10T18:11:37.602Z"
   },
   {
    "duration": 208,
    "start_time": "2022-11-10T18:11:37.771Z"
   },
   {
    "duration": 242,
    "start_time": "2022-11-10T18:11:37.981Z"
   },
   {
    "duration": 231,
    "start_time": "2022-11-10T18:11:38.226Z"
   },
   {
    "duration": 202,
    "start_time": "2022-11-10T18:11:38.459Z"
   },
   {
    "duration": 311,
    "start_time": "2022-11-10T18:11:38.663Z"
   },
   {
    "duration": 229,
    "start_time": "2022-11-10T18:11:38.980Z"
   },
   {
    "duration": 219,
    "start_time": "2022-11-10T18:11:39.211Z"
   },
   {
    "duration": 228,
    "start_time": "2022-11-10T18:11:39.437Z"
   },
   {
    "duration": 259,
    "start_time": "2022-11-10T18:11:39.667Z"
   },
   {
    "duration": 221,
    "start_time": "2022-11-10T18:11:39.928Z"
   },
   {
    "duration": 234,
    "start_time": "2022-11-10T18:11:40.151Z"
   },
   {
    "duration": 222,
    "start_time": "2022-11-10T18:11:40.387Z"
   },
   {
    "duration": 178,
    "start_time": "2022-11-10T18:11:40.610Z"
   },
   {
    "duration": 191,
    "start_time": "2022-11-10T18:11:40.790Z"
   },
   {
    "duration": 182,
    "start_time": "2022-11-10T18:11:40.983Z"
   },
   {
    "duration": 35,
    "start_time": "2022-11-10T18:11:41.167Z"
   },
   {
    "duration": 361,
    "start_time": "2022-11-10T18:11:41.204Z"
   },
   {
    "duration": 11,
    "start_time": "2022-11-10T18:11:41.567Z"
   },
   {
    "duration": 41,
    "start_time": "2022-11-10T18:12:41.552Z"
   },
   {
    "duration": 305,
    "start_time": "2022-11-10T18:13:33.440Z"
   },
   {
    "duration": 365,
    "start_time": "2022-11-10T18:13:54.813Z"
   },
   {
    "duration": 114,
    "start_time": "2022-11-10T18:17:23.156Z"
   },
   {
    "duration": 9,
    "start_time": "2022-11-10T18:17:51.376Z"
   },
   {
    "duration": 580,
    "start_time": "2022-11-10T18:18:53.613Z"
   },
   {
    "duration": 53,
    "start_time": "2022-11-10T18:18:54.197Z"
   },
   {
    "duration": 27,
    "start_time": "2022-11-10T18:18:54.252Z"
   },
   {
    "duration": 2740,
    "start_time": "2022-11-10T18:18:54.282Z"
   },
   {
    "duration": 13,
    "start_time": "2022-11-10T18:18:57.024Z"
   },
   {
    "duration": 41,
    "start_time": "2022-11-10T18:18:57.039Z"
   },
   {
    "duration": 235,
    "start_time": "2022-11-10T18:18:57.083Z"
   },
   {
    "duration": 31,
    "start_time": "2022-11-10T18:18:57.321Z"
   },
   {
    "duration": 14,
    "start_time": "2022-11-10T18:18:57.354Z"
   },
   {
    "duration": 27,
    "start_time": "2022-11-10T18:18:57.373Z"
   },
   {
    "duration": 72,
    "start_time": "2022-11-10T18:18:57.403Z"
   },
   {
    "duration": 28,
    "start_time": "2022-11-10T18:18:57.477Z"
   },
   {
    "duration": 38,
    "start_time": "2022-11-10T18:18:57.507Z"
   },
   {
    "duration": 399,
    "start_time": "2022-11-10T18:18:57.549Z"
   },
   {
    "duration": 333,
    "start_time": "2022-11-10T18:18:57.950Z"
   },
   {
    "duration": 229,
    "start_time": "2022-11-10T18:18:58.285Z"
   },
   {
    "duration": 286,
    "start_time": "2022-11-10T18:18:58.517Z"
   },
   {
    "duration": 383,
    "start_time": "2022-11-10T18:18:58.805Z"
   },
   {
    "duration": 279,
    "start_time": "2022-11-10T18:18:59.190Z"
   },
   {
    "duration": 193,
    "start_time": "2022-11-10T18:18:59.471Z"
   },
   {
    "duration": 247,
    "start_time": "2022-11-10T18:18:59.666Z"
   },
   {
    "duration": 169,
    "start_time": "2022-11-10T18:18:59.915Z"
   },
   {
    "duration": 202,
    "start_time": "2022-11-10T18:19:00.087Z"
   },
   {
    "duration": 220,
    "start_time": "2022-11-10T18:19:00.291Z"
   },
   {
    "duration": 247,
    "start_time": "2022-11-10T18:19:00.513Z"
   },
   {
    "duration": 214,
    "start_time": "2022-11-10T18:19:00.762Z"
   },
   {
    "duration": 347,
    "start_time": "2022-11-10T18:19:00.979Z"
   },
   {
    "duration": 172,
    "start_time": "2022-11-10T18:19:01.337Z"
   },
   {
    "duration": 238,
    "start_time": "2022-11-10T18:19:01.512Z"
   },
   {
    "duration": 225,
    "start_time": "2022-11-10T18:19:01.752Z"
   },
   {
    "duration": 289,
    "start_time": "2022-11-10T18:19:01.981Z"
   },
   {
    "duration": 312,
    "start_time": "2022-11-10T18:19:02.272Z"
   },
   {
    "duration": 237,
    "start_time": "2022-11-10T18:19:02.586Z"
   },
   {
    "duration": 251,
    "start_time": "2022-11-10T18:19:02.825Z"
   },
   {
    "duration": 209,
    "start_time": "2022-11-10T18:19:03.078Z"
   },
   {
    "duration": 268,
    "start_time": "2022-11-10T18:19:03.290Z"
   },
   {
    "duration": 231,
    "start_time": "2022-11-10T18:19:03.563Z"
   },
   {
    "duration": 43,
    "start_time": "2022-11-10T18:19:03.796Z"
   },
   {
    "duration": 395,
    "start_time": "2022-11-10T18:19:03.850Z"
   },
   {
    "duration": 25,
    "start_time": "2022-11-10T18:19:04.247Z"
   },
   {
    "duration": 10,
    "start_time": "2022-11-10T18:19:38.878Z"
   },
   {
    "duration": 7,
    "start_time": "2022-11-10T18:19:49.182Z"
   },
   {
    "duration": 560,
    "start_time": "2022-11-10T18:20:04.064Z"
   },
   {
    "duration": 40,
    "start_time": "2022-11-10T18:20:04.626Z"
   },
   {
    "duration": 17,
    "start_time": "2022-11-10T18:20:04.669Z"
   },
   {
    "duration": 2758,
    "start_time": "2022-11-10T18:20:04.688Z"
   },
   {
    "duration": 16,
    "start_time": "2022-11-10T18:20:07.451Z"
   },
   {
    "duration": 20,
    "start_time": "2022-11-10T18:20:07.469Z"
   },
   {
    "duration": 163,
    "start_time": "2022-11-10T18:20:07.491Z"
   },
   {
    "duration": 5,
    "start_time": "2022-11-10T18:20:07.655Z"
   },
   {
    "duration": 10,
    "start_time": "2022-11-10T18:20:07.663Z"
   },
   {
    "duration": 11,
    "start_time": "2022-11-10T18:20:07.675Z"
   },
   {
    "duration": 23,
    "start_time": "2022-11-10T18:20:07.689Z"
   },
   {
    "duration": 34,
    "start_time": "2022-11-10T18:20:07.714Z"
   },
   {
    "duration": 68,
    "start_time": "2022-11-10T18:20:07.751Z"
   },
   {
    "duration": 40,
    "start_time": "2022-11-10T18:20:07.823Z"
   },
   {
    "duration": 32,
    "start_time": "2022-11-10T18:20:07.865Z"
   },
   {
    "duration": 400,
    "start_time": "2022-11-10T18:20:07.899Z"
   },
   {
    "duration": 293,
    "start_time": "2022-11-10T18:20:08.301Z"
   },
   {
    "duration": 255,
    "start_time": "2022-11-10T18:20:08.596Z"
   },
   {
    "duration": 333,
    "start_time": "2022-11-10T18:20:08.853Z"
   },
   {
    "duration": 354,
    "start_time": "2022-11-10T18:20:09.188Z"
   },
   {
    "duration": 256,
    "start_time": "2022-11-10T18:20:09.550Z"
   },
   {
    "duration": 218,
    "start_time": "2022-11-10T18:20:09.808Z"
   },
   {
    "duration": 238,
    "start_time": "2022-11-10T18:20:10.028Z"
   },
   {
    "duration": 195,
    "start_time": "2022-11-10T18:20:10.268Z"
   },
   {
    "duration": 222,
    "start_time": "2022-11-10T18:20:10.465Z"
   },
   {
    "duration": 242,
    "start_time": "2022-11-10T18:20:10.689Z"
   },
   {
    "duration": 284,
    "start_time": "2022-11-10T18:20:10.933Z"
   },
   {
    "duration": 197,
    "start_time": "2022-11-10T18:20:11.219Z"
   },
   {
    "duration": 277,
    "start_time": "2022-11-10T18:20:11.418Z"
   },
   {
    "duration": 196,
    "start_time": "2022-11-10T18:20:11.697Z"
   },
   {
    "duration": 222,
    "start_time": "2022-11-10T18:20:11.895Z"
   },
   {
    "duration": 281,
    "start_time": "2022-11-10T18:20:12.119Z"
   },
   {
    "duration": 278,
    "start_time": "2022-11-10T18:20:12.402Z"
   },
   {
    "duration": 246,
    "start_time": "2022-11-10T18:20:12.682Z"
   },
   {
    "duration": 224,
    "start_time": "2022-11-10T18:20:12.938Z"
   },
   {
    "duration": 208,
    "start_time": "2022-11-10T18:20:13.164Z"
   },
   {
    "duration": 201,
    "start_time": "2022-11-10T18:20:13.374Z"
   },
   {
    "duration": 206,
    "start_time": "2022-11-10T18:20:13.577Z"
   },
   {
    "duration": 204,
    "start_time": "2022-11-10T18:20:13.785Z"
   },
   {
    "duration": 32,
    "start_time": "2022-11-10T18:20:13.991Z"
   },
   {
    "duration": 373,
    "start_time": "2022-11-10T18:20:14.042Z"
   },
   {
    "duration": 9,
    "start_time": "2022-11-10T18:20:14.417Z"
   },
   {
    "duration": 594,
    "start_time": "2022-11-10T18:21:57.464Z"
   },
   {
    "duration": 34,
    "start_time": "2022-11-10T18:21:58.062Z"
   },
   {
    "duration": 46,
    "start_time": "2022-11-10T18:21:58.098Z"
   },
   {
    "duration": 2849,
    "start_time": "2022-11-10T18:21:58.146Z"
   },
   {
    "duration": 11,
    "start_time": "2022-11-10T18:22:00.997Z"
   },
   {
    "duration": 20,
    "start_time": "2022-11-10T18:22:01.010Z"
   },
   {
    "duration": 190,
    "start_time": "2022-11-10T18:22:01.032Z"
   },
   {
    "duration": 18,
    "start_time": "2022-11-10T18:22:01.224Z"
   },
   {
    "duration": 58,
    "start_time": "2022-11-10T18:22:01.244Z"
   },
   {
    "duration": 6,
    "start_time": "2022-11-10T18:22:01.305Z"
   },
   {
    "duration": 20,
    "start_time": "2022-11-10T18:22:01.314Z"
   },
   {
    "duration": 52,
    "start_time": "2022-11-10T18:22:01.337Z"
   },
   {
    "duration": 102,
    "start_time": "2022-11-10T18:22:01.391Z"
   },
   {
    "duration": 31,
    "start_time": "2022-11-10T18:22:01.495Z"
   },
   {
    "duration": 34,
    "start_time": "2022-11-10T18:22:01.538Z"
   },
   {
    "duration": 438,
    "start_time": "2022-11-10T18:22:01.575Z"
   },
   {
    "duration": 299,
    "start_time": "2022-11-10T18:22:02.015Z"
   },
   {
    "duration": 245,
    "start_time": "2022-11-10T18:22:02.316Z"
   },
   {
    "duration": 288,
    "start_time": "2022-11-10T18:22:02.563Z"
   },
   {
    "duration": 317,
    "start_time": "2022-11-10T18:22:02.854Z"
   },
   {
    "duration": 260,
    "start_time": "2022-11-10T18:22:03.172Z"
   },
   {
    "duration": 245,
    "start_time": "2022-11-10T18:22:03.437Z"
   },
   {
    "duration": 235,
    "start_time": "2022-11-10T18:22:03.685Z"
   },
   {
    "duration": 181,
    "start_time": "2022-11-10T18:22:03.922Z"
   },
   {
    "duration": 270,
    "start_time": "2022-11-10T18:22:04.105Z"
   },
   {
    "duration": 201,
    "start_time": "2022-11-10T18:22:04.378Z"
   },
   {
    "duration": 247,
    "start_time": "2022-11-10T18:22:04.582Z"
   },
   {
    "duration": 278,
    "start_time": "2022-11-10T18:22:04.838Z"
   },
   {
    "duration": 293,
    "start_time": "2022-11-10T18:22:05.118Z"
   },
   {
    "duration": 172,
    "start_time": "2022-11-10T18:22:05.414Z"
   },
   {
    "duration": 224,
    "start_time": "2022-11-10T18:22:05.588Z"
   },
   {
    "duration": 247,
    "start_time": "2022-11-10T18:22:05.814Z"
   },
   {
    "duration": 230,
    "start_time": "2022-11-10T18:22:06.063Z"
   },
   {
    "duration": 233,
    "start_time": "2022-11-10T18:22:06.297Z"
   },
   {
    "duration": 221,
    "start_time": "2022-11-10T18:22:06.532Z"
   },
   {
    "duration": 192,
    "start_time": "2022-11-10T18:22:06.755Z"
   },
   {
    "duration": 193,
    "start_time": "2022-11-10T18:22:06.951Z"
   },
   {
    "duration": 209,
    "start_time": "2022-11-10T18:22:07.151Z"
   },
   {
    "duration": 216,
    "start_time": "2022-11-10T18:22:07.362Z"
   },
   {
    "duration": 32,
    "start_time": "2022-11-10T18:22:07.581Z"
   },
   {
    "duration": 394,
    "start_time": "2022-11-10T18:22:07.615Z"
   },
   {
    "duration": 8,
    "start_time": "2022-11-10T18:22:08.011Z"
   },
   {
    "duration": 544,
    "start_time": "2022-11-10T18:23:04.068Z"
   },
   {
    "duration": 49,
    "start_time": "2022-11-10T18:23:04.616Z"
   },
   {
    "duration": 22,
    "start_time": "2022-11-10T18:23:04.667Z"
   },
   {
    "duration": 2767,
    "start_time": "2022-11-10T18:23:04.692Z"
   },
   {
    "duration": 11,
    "start_time": "2022-11-10T18:23:07.461Z"
   },
   {
    "duration": 17,
    "start_time": "2022-11-10T18:23:07.474Z"
   },
   {
    "duration": 174,
    "start_time": "2022-11-10T18:23:07.493Z"
   },
   {
    "duration": 6,
    "start_time": "2022-11-10T18:23:07.670Z"
   },
   {
    "duration": 12,
    "start_time": "2022-11-10T18:23:07.678Z"
   },
   {
    "duration": 6,
    "start_time": "2022-11-10T18:23:07.692Z"
   },
   {
    "duration": 7,
    "start_time": "2022-11-10T18:23:07.700Z"
   },
   {
    "duration": 59,
    "start_time": "2022-11-10T18:23:07.709Z"
   },
   {
    "duration": 64,
    "start_time": "2022-11-10T18:23:07.771Z"
   },
   {
    "duration": 43,
    "start_time": "2022-11-10T18:23:07.839Z"
   },
   {
    "duration": 28,
    "start_time": "2022-11-10T18:23:07.885Z"
   },
   {
    "duration": 400,
    "start_time": "2022-11-10T18:23:07.915Z"
   },
   {
    "duration": 285,
    "start_time": "2022-11-10T18:23:08.318Z"
   },
   {
    "duration": 314,
    "start_time": "2022-11-10T18:23:08.605Z"
   },
   {
    "duration": 350,
    "start_time": "2022-11-10T18:23:08.922Z"
   },
   {
    "duration": 348,
    "start_time": "2022-11-10T18:23:09.278Z"
   },
   {
    "duration": 228,
    "start_time": "2022-11-10T18:23:09.638Z"
   },
   {
    "duration": 187,
    "start_time": "2022-11-10T18:23:09.870Z"
   },
   {
    "duration": 235,
    "start_time": "2022-11-10T18:23:10.060Z"
   },
   {
    "duration": 157,
    "start_time": "2022-11-10T18:23:10.297Z"
   },
   {
    "duration": 212,
    "start_time": "2022-11-10T18:23:10.458Z"
   },
   {
    "duration": 229,
    "start_time": "2022-11-10T18:23:10.673Z"
   },
   {
    "duration": 230,
    "start_time": "2022-11-10T18:23:10.904Z"
   },
   {
    "duration": 208,
    "start_time": "2022-11-10T18:23:11.139Z"
   },
   {
    "duration": 265,
    "start_time": "2022-11-10T18:23:11.349Z"
   },
   {
    "duration": 192,
    "start_time": "2022-11-10T18:23:11.616Z"
   },
   {
    "duration": 266,
    "start_time": "2022-11-10T18:23:11.810Z"
   },
   {
    "duration": 255,
    "start_time": "2022-11-10T18:23:12.078Z"
   },
   {
    "duration": 239,
    "start_time": "2022-11-10T18:23:12.337Z"
   },
   {
    "duration": 255,
    "start_time": "2022-11-10T18:23:12.578Z"
   },
   {
    "duration": 225,
    "start_time": "2022-11-10T18:23:12.841Z"
   },
   {
    "duration": 239,
    "start_time": "2022-11-10T18:23:13.068Z"
   },
   {
    "duration": 259,
    "start_time": "2022-11-10T18:23:13.310Z"
   },
   {
    "duration": 220,
    "start_time": "2022-11-10T18:23:13.571Z"
   },
   {
    "duration": 236,
    "start_time": "2022-11-10T18:23:13.794Z"
   },
   {
    "duration": 39,
    "start_time": "2022-11-10T18:23:14.036Z"
   },
   {
    "duration": 411,
    "start_time": "2022-11-10T18:23:14.078Z"
   },
   {
    "duration": 18,
    "start_time": "2022-11-10T18:23:14.490Z"
   },
   {
    "duration": 86,
    "start_time": "2022-11-10T18:28:29.418Z"
   },
   {
    "duration": 8,
    "start_time": "2022-11-10T18:30:15.523Z"
   },
   {
    "duration": 88,
    "start_time": "2022-11-10T18:30:57.398Z"
   },
   {
    "duration": 106,
    "start_time": "2022-11-10T18:32:22.010Z"
   },
   {
    "duration": 91,
    "start_time": "2022-11-10T18:32:28.482Z"
   },
   {
    "duration": 80,
    "start_time": "2022-11-10T18:32:36.902Z"
   },
   {
    "duration": 664,
    "start_time": "2022-11-10T18:33:56.214Z"
   },
   {
    "duration": 34,
    "start_time": "2022-11-10T18:33:56.881Z"
   },
   {
    "duration": 50,
    "start_time": "2022-11-10T18:33:56.917Z"
   },
   {
    "duration": 2888,
    "start_time": "2022-11-10T18:33:56.970Z"
   },
   {
    "duration": 14,
    "start_time": "2022-11-10T18:33:59.861Z"
   },
   {
    "duration": 20,
    "start_time": "2022-11-10T18:33:59.878Z"
   },
   {
    "duration": 205,
    "start_time": "2022-11-10T18:33:59.899Z"
   },
   {
    "duration": 11,
    "start_time": "2022-11-10T18:34:00.106Z"
   },
   {
    "duration": 62,
    "start_time": "2022-11-10T18:34:00.120Z"
   },
   {
    "duration": 54,
    "start_time": "2022-11-10T18:34:00.186Z"
   },
   {
    "duration": 27,
    "start_time": "2022-11-10T18:34:00.250Z"
   },
   {
    "duration": 38,
    "start_time": "2022-11-10T18:34:00.279Z"
   },
   {
    "duration": 486,
    "start_time": "2022-11-10T18:34:00.319Z"
   },
   {
    "duration": 49,
    "start_time": "2022-11-10T18:34:00.808Z"
   },
   {
    "duration": 310,
    "start_time": "2022-11-10T18:34:00.865Z"
   },
   {
    "duration": 322,
    "start_time": "2022-11-10T18:34:01.178Z"
   },
   {
    "duration": 340,
    "start_time": "2022-11-10T18:34:01.502Z"
   },
   {
    "duration": 337,
    "start_time": "2022-11-10T18:34:01.848Z"
   },
   {
    "duration": 254,
    "start_time": "2022-11-10T18:34:02.187Z"
   },
   {
    "duration": 195,
    "start_time": "2022-11-10T18:34:02.443Z"
   },
   {
    "duration": 293,
    "start_time": "2022-11-10T18:34:02.640Z"
   },
   {
    "duration": 171,
    "start_time": "2022-11-10T18:34:02.938Z"
   },
   {
    "duration": 269,
    "start_time": "2022-11-10T18:34:03.112Z"
   },
   {
    "duration": 257,
    "start_time": "2022-11-10T18:34:03.383Z"
   },
   {
    "duration": 312,
    "start_time": "2022-11-10T18:34:03.647Z"
   },
   {
    "duration": 218,
    "start_time": "2022-11-10T18:34:03.962Z"
   },
   {
    "duration": 292,
    "start_time": "2022-11-10T18:34:04.182Z"
   },
   {
    "duration": 220,
    "start_time": "2022-11-10T18:34:04.479Z"
   },
   {
    "duration": 263,
    "start_time": "2022-11-10T18:34:04.701Z"
   },
   {
    "duration": 253,
    "start_time": "2022-11-10T18:34:04.966Z"
   },
   {
    "duration": 233,
    "start_time": "2022-11-10T18:34:05.221Z"
   },
   {
    "duration": 297,
    "start_time": "2022-11-10T18:34:05.461Z"
   },
   {
    "duration": 288,
    "start_time": "2022-11-10T18:34:05.761Z"
   },
   {
    "duration": 196,
    "start_time": "2022-11-10T18:34:06.058Z"
   },
   {
    "duration": 207,
    "start_time": "2022-11-10T18:34:06.258Z"
   },
   {
    "duration": 211,
    "start_time": "2022-11-10T18:34:06.467Z"
   },
   {
    "duration": 245,
    "start_time": "2022-11-10T18:34:06.681Z"
   },
   {
    "duration": 44,
    "start_time": "2022-11-10T18:34:06.928Z"
   },
   {
    "duration": 385,
    "start_time": "2022-11-10T18:34:06.975Z"
   },
   {
    "duration": 8,
    "start_time": "2022-11-10T18:34:07.362Z"
   },
   {
    "duration": 17,
    "start_time": "2022-11-10T18:35:13.497Z"
   },
   {
    "duration": 8,
    "start_time": "2022-11-10T18:37:16.628Z"
   },
   {
    "duration": 108,
    "start_time": "2022-11-10T18:37:47.835Z"
   },
   {
    "duration": 21,
    "start_time": "2022-11-10T18:38:45.759Z"
   },
   {
    "duration": 531,
    "start_time": "2022-11-10T18:39:00.776Z"
   },
   {
    "duration": 48,
    "start_time": "2022-11-10T18:39:01.310Z"
   },
   {
    "duration": 19,
    "start_time": "2022-11-10T18:39:01.360Z"
   },
   {
    "duration": 2608,
    "start_time": "2022-11-10T18:39:01.382Z"
   },
   {
    "duration": 10,
    "start_time": "2022-11-10T18:39:03.993Z"
   },
   {
    "duration": 23,
    "start_time": "2022-11-10T18:39:04.005Z"
   },
   {
    "duration": 176,
    "start_time": "2022-11-10T18:39:04.030Z"
   },
   {
    "duration": 11,
    "start_time": "2022-11-10T18:39:04.208Z"
   },
   {
    "duration": 49,
    "start_time": "2022-11-10T18:39:04.221Z"
   },
   {
    "duration": 28,
    "start_time": "2022-11-10T18:39:04.273Z"
   },
   {
    "duration": 56,
    "start_time": "2022-11-10T18:39:04.303Z"
   },
   {
    "duration": 29,
    "start_time": "2022-11-10T18:39:04.360Z"
   },
   {
    "duration": 22,
    "start_time": "2022-11-10T18:39:04.390Z"
   },
   {
    "duration": 383,
    "start_time": "2022-11-10T18:39:04.414Z"
   },
   {
    "duration": 286,
    "start_time": "2022-11-10T18:39:04.799Z"
   },
   {
    "duration": 277,
    "start_time": "2022-11-10T18:39:05.087Z"
   },
   {
    "duration": 315,
    "start_time": "2022-11-10T18:39:05.368Z"
   },
   {
    "duration": 345,
    "start_time": "2022-11-10T18:39:05.685Z"
   },
   {
    "duration": 217,
    "start_time": "2022-11-10T18:39:06.037Z"
   },
   {
    "duration": 204,
    "start_time": "2022-11-10T18:39:06.259Z"
   },
   {
    "duration": 245,
    "start_time": "2022-11-10T18:39:06.465Z"
   },
   {
    "duration": 167,
    "start_time": "2022-11-10T18:39:06.712Z"
   },
   {
    "duration": 244,
    "start_time": "2022-11-10T18:39:06.881Z"
   },
   {
    "duration": 238,
    "start_time": "2022-11-10T18:39:07.128Z"
   },
   {
    "duration": 257,
    "start_time": "2022-11-10T18:39:07.368Z"
   },
   {
    "duration": 230,
    "start_time": "2022-11-10T18:39:07.627Z"
   },
   {
    "duration": 290,
    "start_time": "2022-11-10T18:39:07.866Z"
   },
   {
    "duration": 167,
    "start_time": "2022-11-10T18:39:08.159Z"
   },
   {
    "duration": 229,
    "start_time": "2022-11-10T18:39:08.328Z"
   },
   {
    "duration": 223,
    "start_time": "2022-11-10T18:39:08.559Z"
   },
   {
    "duration": 283,
    "start_time": "2022-11-10T18:39:08.784Z"
   },
   {
    "duration": 298,
    "start_time": "2022-11-10T18:39:09.069Z"
   },
   {
    "duration": 233,
    "start_time": "2022-11-10T18:39:09.369Z"
   },
   {
    "duration": 203,
    "start_time": "2022-11-10T18:39:09.605Z"
   },
   {
    "duration": 198,
    "start_time": "2022-11-10T18:39:09.810Z"
   },
   {
    "duration": 200,
    "start_time": "2022-11-10T18:39:10.011Z"
   },
   {
    "duration": 210,
    "start_time": "2022-11-10T18:39:10.212Z"
   },
   {
    "duration": 37,
    "start_time": "2022-11-10T18:39:10.424Z"
   },
   {
    "duration": 350,
    "start_time": "2022-11-10T18:39:10.463Z"
   },
   {
    "duration": 8,
    "start_time": "2022-11-10T18:39:10.815Z"
   },
   {
    "duration": 67,
    "start_time": "2022-11-10T18:40:48.659Z"
   },
   {
    "duration": 16,
    "start_time": "2022-11-10T18:43:23.720Z"
   },
   {
    "duration": 51,
    "start_time": "2022-11-10T18:44:08.912Z"
   },
   {
    "duration": 515,
    "start_time": "2022-11-10T18:45:29.163Z"
   },
   {
    "duration": 30,
    "start_time": "2022-11-10T18:45:29.680Z"
   },
   {
    "duration": 42,
    "start_time": "2022-11-10T18:45:29.712Z"
   },
   {
    "duration": 2554,
    "start_time": "2022-11-10T18:45:29.756Z"
   },
   {
    "duration": 10,
    "start_time": "2022-11-10T18:45:32.312Z"
   },
   {
    "duration": 25,
    "start_time": "2022-11-10T18:45:32.324Z"
   },
   {
    "duration": 136,
    "start_time": "2022-11-10T18:45:32.351Z"
   },
   {
    "duration": 9,
    "start_time": "2022-11-10T18:45:32.488Z"
   },
   {
    "duration": 59,
    "start_time": "2022-11-10T18:45:32.499Z"
   },
   {
    "duration": 18,
    "start_time": "2022-11-10T18:45:32.561Z"
   },
   {
    "duration": 74,
    "start_time": "2022-11-10T18:45:32.581Z"
   },
   {
    "duration": 26,
    "start_time": "2022-11-10T18:45:32.657Z"
   },
   {
    "duration": 15,
    "start_time": "2022-11-10T18:45:32.685Z"
   },
   {
    "duration": 391,
    "start_time": "2022-11-10T18:45:32.702Z"
   },
   {
    "duration": 266,
    "start_time": "2022-11-10T18:45:33.094Z"
   },
   {
    "duration": 219,
    "start_time": "2022-11-10T18:45:33.362Z"
   },
   {
    "duration": 287,
    "start_time": "2022-11-10T18:45:33.583Z"
   },
   {
    "duration": 291,
    "start_time": "2022-11-10T18:45:33.872Z"
   },
   {
    "duration": 219,
    "start_time": "2022-11-10T18:45:34.165Z"
   },
   {
    "duration": 175,
    "start_time": "2022-11-10T18:45:34.386Z"
   },
   {
    "duration": 214,
    "start_time": "2022-11-10T18:45:34.563Z"
   },
   {
    "duration": 148,
    "start_time": "2022-11-10T18:45:34.779Z"
   },
   {
    "duration": 194,
    "start_time": "2022-11-10T18:45:34.929Z"
   },
   {
    "duration": 189,
    "start_time": "2022-11-10T18:45:35.124Z"
   },
   {
    "duration": 236,
    "start_time": "2022-11-10T18:45:35.315Z"
   },
   {
    "duration": 199,
    "start_time": "2022-11-10T18:45:35.555Z"
   },
   {
    "duration": 274,
    "start_time": "2022-11-10T18:45:35.755Z"
   },
   {
    "duration": 166,
    "start_time": "2022-11-10T18:45:36.037Z"
   },
   {
    "duration": 209,
    "start_time": "2022-11-10T18:45:36.205Z"
   },
   {
    "duration": 218,
    "start_time": "2022-11-10T18:45:36.416Z"
   },
   {
    "duration": 228,
    "start_time": "2022-11-10T18:45:36.638Z"
   },
   {
    "duration": 213,
    "start_time": "2022-11-10T18:45:36.868Z"
   },
   {
    "duration": 199,
    "start_time": "2022-11-10T18:45:37.083Z"
   },
   {
    "duration": 182,
    "start_time": "2022-11-10T18:45:37.284Z"
   },
   {
    "duration": 177,
    "start_time": "2022-11-10T18:45:37.467Z"
   },
   {
    "duration": 198,
    "start_time": "2022-11-10T18:45:37.650Z"
   },
   {
    "duration": 183,
    "start_time": "2022-11-10T18:45:37.850Z"
   },
   {
    "duration": 36,
    "start_time": "2022-11-10T18:45:38.035Z"
   },
   {
    "duration": 338,
    "start_time": "2022-11-10T18:45:38.073Z"
   },
   {
    "duration": 8,
    "start_time": "2022-11-10T18:45:38.413Z"
   },
   {
    "duration": 42,
    "start_time": "2022-11-10T18:47:44.620Z"
   },
   {
    "duration": 42,
    "start_time": "2022-11-10T18:48:03.121Z"
   },
   {
    "duration": 529,
    "start_time": "2022-11-10T18:48:39.910Z"
   },
   {
    "duration": 30,
    "start_time": "2022-11-10T18:48:40.448Z"
   },
   {
    "duration": 17,
    "start_time": "2022-11-10T18:48:40.479Z"
   },
   {
    "duration": 2508,
    "start_time": "2022-11-10T18:48:40.498Z"
   },
   {
    "duration": 11,
    "start_time": "2022-11-10T18:48:43.008Z"
   },
   {
    "duration": 14,
    "start_time": "2022-11-10T18:48:43.021Z"
   },
   {
    "duration": 149,
    "start_time": "2022-11-10T18:48:43.037Z"
   },
   {
    "duration": 9,
    "start_time": "2022-11-10T18:48:43.188Z"
   },
   {
    "duration": 58,
    "start_time": "2022-11-10T18:48:43.199Z"
   },
   {
    "duration": 24,
    "start_time": "2022-11-10T18:48:43.260Z"
   },
   {
    "duration": 71,
    "start_time": "2022-11-10T18:48:43.286Z"
   },
   {
    "duration": 24,
    "start_time": "2022-11-10T18:48:43.359Z"
   },
   {
    "duration": 15,
    "start_time": "2022-11-10T18:48:43.385Z"
   },
   {
    "duration": 377,
    "start_time": "2022-11-10T18:48:43.401Z"
   },
   {
    "duration": 278,
    "start_time": "2022-11-10T18:48:43.780Z"
   },
   {
    "duration": 231,
    "start_time": "2022-11-10T18:48:44.060Z"
   },
   {
    "duration": 271,
    "start_time": "2022-11-10T18:48:44.293Z"
   },
   {
    "duration": 289,
    "start_time": "2022-11-10T18:48:44.566Z"
   },
   {
    "duration": 213,
    "start_time": "2022-11-10T18:48:44.858Z"
   },
   {
    "duration": 185,
    "start_time": "2022-11-10T18:48:45.073Z"
   },
   {
    "duration": 222,
    "start_time": "2022-11-10T18:48:45.260Z"
   },
   {
    "duration": 172,
    "start_time": "2022-11-10T18:48:45.485Z"
   },
   {
    "duration": 234,
    "start_time": "2022-11-10T18:48:45.659Z"
   },
   {
    "duration": 203,
    "start_time": "2022-11-10T18:48:45.895Z"
   },
   {
    "duration": 222,
    "start_time": "2022-11-10T18:48:46.100Z"
   },
   {
    "duration": 195,
    "start_time": "2022-11-10T18:48:46.325Z"
   },
   {
    "duration": 262,
    "start_time": "2022-11-10T18:48:46.522Z"
   },
   {
    "duration": 165,
    "start_time": "2022-11-10T18:48:46.787Z"
   },
   {
    "duration": 209,
    "start_time": "2022-11-10T18:48:46.954Z"
   },
   {
    "duration": 215,
    "start_time": "2022-11-10T18:48:47.165Z"
   },
   {
    "duration": 215,
    "start_time": "2022-11-10T18:48:47.382Z"
   },
   {
    "duration": 215,
    "start_time": "2022-11-10T18:48:47.599Z"
   },
   {
    "duration": 209,
    "start_time": "2022-11-10T18:48:47.816Z"
   },
   {
    "duration": 194,
    "start_time": "2022-11-10T18:48:48.026Z"
   },
   {
    "duration": 176,
    "start_time": "2022-11-10T18:48:48.222Z"
   },
   {
    "duration": 188,
    "start_time": "2022-11-10T18:48:48.401Z"
   },
   {
    "duration": 187,
    "start_time": "2022-11-10T18:48:48.591Z"
   },
   {
    "duration": 29,
    "start_time": "2022-11-10T18:48:48.780Z"
   },
   {
    "duration": 451,
    "start_time": "2022-11-10T18:48:48.811Z"
   },
   {
    "duration": 9,
    "start_time": "2022-11-10T18:48:49.265Z"
   },
   {
    "duration": 38,
    "start_time": "2022-11-10T18:50:11.284Z"
   },
   {
    "duration": 56,
    "start_time": "2022-11-10T18:53:25.821Z"
   },
   {
    "duration": 38,
    "start_time": "2022-11-10T18:58:19.256Z"
   },
   {
    "duration": 549,
    "start_time": "2022-11-10T18:58:34.156Z"
   },
   {
    "duration": 38,
    "start_time": "2022-11-10T18:58:34.708Z"
   },
   {
    "duration": 16,
    "start_time": "2022-11-10T18:58:34.754Z"
   },
   {
    "duration": 2517,
    "start_time": "2022-11-10T18:58:34.773Z"
   },
   {
    "duration": 11,
    "start_time": "2022-11-10T18:58:37.292Z"
   },
   {
    "duration": 13,
    "start_time": "2022-11-10T18:58:37.305Z"
   },
   {
    "duration": 144,
    "start_time": "2022-11-10T18:58:37.320Z"
   },
   {
    "duration": 8,
    "start_time": "2022-11-10T18:58:37.467Z"
   },
   {
    "duration": 8,
    "start_time": "2022-11-10T18:58:37.477Z"
   },
   {
    "duration": 18,
    "start_time": "2022-11-10T18:58:37.488Z"
   },
   {
    "duration": 78,
    "start_time": "2022-11-10T18:58:37.507Z"
   },
   {
    "duration": 27,
    "start_time": "2022-11-10T18:58:37.587Z"
   },
   {
    "duration": 23,
    "start_time": "2022-11-10T18:58:37.639Z"
   },
   {
    "duration": 381,
    "start_time": "2022-11-10T18:58:37.664Z"
   },
   {
    "duration": 36,
    "start_time": "2022-11-10T18:58:38.051Z"
   },
   {
    "duration": 277,
    "start_time": "2022-11-10T18:58:38.089Z"
   },
   {
    "duration": 223,
    "start_time": "2022-11-10T18:58:38.368Z"
   },
   {
    "duration": 275,
    "start_time": "2022-11-10T18:58:38.593Z"
   },
   {
    "duration": 354,
    "start_time": "2022-11-10T18:58:38.872Z"
   },
   {
    "duration": 209,
    "start_time": "2022-11-10T18:58:39.228Z"
   },
   {
    "duration": 181,
    "start_time": "2022-11-10T18:58:39.439Z"
   },
   {
    "duration": 215,
    "start_time": "2022-11-10T18:58:39.622Z"
   },
   {
    "duration": 154,
    "start_time": "2022-11-10T18:58:39.839Z"
   },
   {
    "duration": 190,
    "start_time": "2022-11-10T18:58:39.995Z"
   },
   {
    "duration": 186,
    "start_time": "2022-11-10T18:58:40.187Z"
   },
   {
    "duration": 233,
    "start_time": "2022-11-10T18:58:40.376Z"
   },
   {
    "duration": 196,
    "start_time": "2022-11-10T18:58:40.612Z"
   },
   {
    "duration": 269,
    "start_time": "2022-11-10T18:58:40.811Z"
   },
   {
    "duration": 166,
    "start_time": "2022-11-10T18:58:41.082Z"
   },
   {
    "duration": 183,
    "start_time": "2022-11-10T18:58:41.250Z"
   },
   {
    "duration": 222,
    "start_time": "2022-11-10T18:58:41.436Z"
   },
   {
    "duration": 234,
    "start_time": "2022-11-10T18:58:41.660Z"
   },
   {
    "duration": 238,
    "start_time": "2022-11-10T18:58:41.895Z"
   },
   {
    "duration": 209,
    "start_time": "2022-11-10T18:58:42.134Z"
   },
   {
    "duration": 173,
    "start_time": "2022-11-10T18:58:42.349Z"
   },
   {
    "duration": 178,
    "start_time": "2022-11-10T18:58:42.524Z"
   },
   {
    "duration": 197,
    "start_time": "2022-11-10T18:58:42.704Z"
   },
   {
    "duration": 195,
    "start_time": "2022-11-10T18:58:42.903Z"
   },
   {
    "duration": 28,
    "start_time": "2022-11-10T18:58:43.099Z"
   },
   {
    "duration": 333,
    "start_time": "2022-11-10T18:58:43.142Z"
   },
   {
    "duration": 8,
    "start_time": "2022-11-10T18:58:43.477Z"
   },
   {
    "duration": 93,
    "start_time": "2022-11-10T19:00:02.962Z"
   },
   {
    "duration": 13,
    "start_time": "2022-11-10T19:00:15.615Z"
   },
   {
    "duration": 13,
    "start_time": "2022-11-10T19:00:20.299Z"
   },
   {
    "duration": 5,
    "start_time": "2022-11-10T19:00:50.624Z"
   },
   {
    "duration": 77,
    "start_time": "2022-11-10T19:05:47.155Z"
   },
   {
    "duration": 105,
    "start_time": "2022-11-10T19:05:55.077Z"
   },
   {
    "duration": 47,
    "start_time": "2022-11-10T19:07:20.315Z"
   },
   {
    "duration": 16,
    "start_time": "2022-11-10T19:07:52.884Z"
   },
   {
    "duration": 19,
    "start_time": "2022-11-10T19:09:08.314Z"
   },
   {
    "duration": 26,
    "start_time": "2022-11-10T19:09:19.861Z"
   },
   {
    "duration": 22,
    "start_time": "2022-11-10T19:09:38.208Z"
   },
   {
    "duration": 106,
    "start_time": "2022-11-10T19:13:37.415Z"
   },
   {
    "duration": 8,
    "start_time": "2022-11-10T19:16:21.558Z"
   },
   {
    "duration": 109,
    "start_time": "2022-11-10T19:37:15.069Z"
   },
   {
    "duration": 57,
    "start_time": "2022-11-10T19:37:47.205Z"
   },
   {
    "duration": 10,
    "start_time": "2022-11-10T19:38:24.651Z"
   },
   {
    "duration": 67,
    "start_time": "2022-11-10T19:42:13.456Z"
   },
   {
    "duration": 543,
    "start_time": "2022-11-10T19:42:31.949Z"
   },
   {
    "duration": 31,
    "start_time": "2022-11-10T19:42:32.494Z"
   },
   {
    "duration": 34,
    "start_time": "2022-11-10T19:42:32.526Z"
   },
   {
    "duration": 2616,
    "start_time": "2022-11-10T19:42:32.562Z"
   },
   {
    "duration": 11,
    "start_time": "2022-11-10T19:42:35.180Z"
   },
   {
    "duration": 13,
    "start_time": "2022-11-10T19:42:35.193Z"
   },
   {
    "duration": 146,
    "start_time": "2022-11-10T19:42:35.208Z"
   },
   {
    "duration": 8,
    "start_time": "2022-11-10T19:42:35.356Z"
   },
   {
    "duration": 11,
    "start_time": "2022-11-10T19:42:35.365Z"
   },
   {
    "duration": 18,
    "start_time": "2022-11-10T19:42:35.379Z"
   },
   {
    "duration": 72,
    "start_time": "2022-11-10T19:42:35.399Z"
   },
   {
    "duration": 26,
    "start_time": "2022-11-10T19:42:35.473Z"
   },
   {
    "duration": 40,
    "start_time": "2022-11-10T19:42:35.501Z"
   },
   {
    "duration": 390,
    "start_time": "2022-11-10T19:42:35.545Z"
   },
   {
    "duration": 15,
    "start_time": "2022-11-10T19:42:35.936Z"
   },
   {
    "duration": 23,
    "start_time": "2022-11-10T19:42:35.957Z"
   },
   {
    "duration": 289,
    "start_time": "2022-11-10T19:42:35.982Z"
   },
   {
    "duration": 207,
    "start_time": "2022-11-10T19:42:36.273Z"
   },
   {
    "duration": 276,
    "start_time": "2022-11-10T19:42:36.482Z"
   },
   {
    "duration": 314,
    "start_time": "2022-11-10T19:42:36.761Z"
   },
   {
    "duration": 185,
    "start_time": "2022-11-10T19:42:37.077Z"
   },
   {
    "duration": 192,
    "start_time": "2022-11-10T19:42:37.264Z"
   },
   {
    "duration": 218,
    "start_time": "2022-11-10T19:42:37.458Z"
   },
   {
    "duration": 153,
    "start_time": "2022-11-10T19:42:37.679Z"
   },
   {
    "duration": 207,
    "start_time": "2022-11-10T19:42:37.846Z"
   },
   {
    "duration": 201,
    "start_time": "2022-11-10T19:42:38.056Z"
   },
   {
    "duration": 233,
    "start_time": "2022-11-10T19:42:38.259Z"
   },
   {
    "duration": 221,
    "start_time": "2022-11-10T19:42:38.497Z"
   },
   {
    "duration": 320,
    "start_time": "2022-11-10T19:42:38.720Z"
   },
   {
    "duration": 213,
    "start_time": "2022-11-10T19:42:39.042Z"
   },
   {
    "duration": 77,
    "start_time": "2022-11-10T19:42:39.257Z"
   },
   {
    "duration": 0,
    "start_time": "2022-11-10T19:42:39.336Z"
   },
   {
    "duration": 0,
    "start_time": "2022-11-10T19:42:39.338Z"
   },
   {
    "duration": 0,
    "start_time": "2022-11-10T19:42:39.339Z"
   },
   {
    "duration": 0,
    "start_time": "2022-11-10T19:42:39.340Z"
   },
   {
    "duration": 4,
    "start_time": "2022-11-10T19:42:39.340Z"
   },
   {
    "duration": 0,
    "start_time": "2022-11-10T19:42:39.346Z"
   },
   {
    "duration": 0,
    "start_time": "2022-11-10T19:42:39.349Z"
   },
   {
    "duration": 0,
    "start_time": "2022-11-10T19:42:39.350Z"
   },
   {
    "duration": 0,
    "start_time": "2022-11-10T19:42:39.354Z"
   },
   {
    "duration": 0,
    "start_time": "2022-11-10T19:42:39.355Z"
   },
   {
    "duration": 0,
    "start_time": "2022-11-10T19:42:39.356Z"
   },
   {
    "duration": 24,
    "start_time": "2022-11-10T19:43:23.461Z"
   },
   {
    "duration": 203,
    "start_time": "2022-11-10T19:43:53.767Z"
   },
   {
    "duration": 209,
    "start_time": "2022-11-10T19:45:41.897Z"
   },
   {
    "duration": 556,
    "start_time": "2022-11-10T19:45:55.335Z"
   },
   {
    "duration": 29,
    "start_time": "2022-11-10T19:45:55.893Z"
   },
   {
    "duration": 26,
    "start_time": "2022-11-10T19:45:55.923Z"
   },
   {
    "duration": 2527,
    "start_time": "2022-11-10T19:45:55.951Z"
   },
   {
    "duration": 11,
    "start_time": "2022-11-10T19:45:58.480Z"
   },
   {
    "duration": 15,
    "start_time": "2022-11-10T19:45:58.493Z"
   },
   {
    "duration": 149,
    "start_time": "2022-11-10T19:45:58.509Z"
   },
   {
    "duration": 12,
    "start_time": "2022-11-10T19:45:58.660Z"
   },
   {
    "duration": 13,
    "start_time": "2022-11-10T19:45:58.674Z"
   },
   {
    "duration": 18,
    "start_time": "2022-11-10T19:45:58.690Z"
   },
   {
    "duration": 66,
    "start_time": "2022-11-10T19:45:58.710Z"
   },
   {
    "duration": 26,
    "start_time": "2022-11-10T19:45:58.778Z"
   },
   {
    "duration": 50,
    "start_time": "2022-11-10T19:45:58.805Z"
   },
   {
    "duration": 408,
    "start_time": "2022-11-10T19:45:58.862Z"
   },
   {
    "duration": 10,
    "start_time": "2022-11-10T19:45:59.272Z"
   },
   {
    "duration": 24,
    "start_time": "2022-11-10T19:45:59.284Z"
   },
   {
    "duration": 295,
    "start_time": "2022-11-10T19:45:59.310Z"
   },
   {
    "duration": 211,
    "start_time": "2022-11-10T19:45:59.607Z"
   },
   {
    "duration": 306,
    "start_time": "2022-11-10T19:45:59.819Z"
   },
   {
    "duration": 312,
    "start_time": "2022-11-10T19:46:00.127Z"
   },
   {
    "duration": 209,
    "start_time": "2022-11-10T19:46:00.441Z"
   },
   {
    "duration": 219,
    "start_time": "2022-11-10T19:46:00.655Z"
   },
   {
    "duration": 238,
    "start_time": "2022-11-10T19:46:00.877Z"
   },
   {
    "duration": 181,
    "start_time": "2022-11-10T19:46:01.118Z"
   },
   {
    "duration": 204,
    "start_time": "2022-11-10T19:46:01.301Z"
   },
   {
    "duration": 211,
    "start_time": "2022-11-10T19:46:01.507Z"
   },
   {
    "duration": 249,
    "start_time": "2022-11-10T19:46:01.720Z"
   },
   {
    "duration": 184,
    "start_time": "2022-11-10T19:46:01.972Z"
   },
   {
    "duration": 267,
    "start_time": "2022-11-10T19:46:02.158Z"
   },
   {
    "duration": 181,
    "start_time": "2022-11-10T19:46:02.427Z"
   },
   {
    "duration": 76,
    "start_time": "2022-11-10T19:46:02.610Z"
   },
   {
    "duration": 0,
    "start_time": "2022-11-10T19:46:02.688Z"
   },
   {
    "duration": 0,
    "start_time": "2022-11-10T19:46:02.690Z"
   },
   {
    "duration": 0,
    "start_time": "2022-11-10T19:46:02.691Z"
   },
   {
    "duration": 0,
    "start_time": "2022-11-10T19:46:02.692Z"
   },
   {
    "duration": 0,
    "start_time": "2022-11-10T19:46:02.693Z"
   },
   {
    "duration": 0,
    "start_time": "2022-11-10T19:46:02.694Z"
   },
   {
    "duration": 1,
    "start_time": "2022-11-10T19:46:02.695Z"
   },
   {
    "duration": 0,
    "start_time": "2022-11-10T19:46:02.697Z"
   },
   {
    "duration": 0,
    "start_time": "2022-11-10T19:46:02.698Z"
   },
   {
    "duration": 0,
    "start_time": "2022-11-10T19:46:02.699Z"
   },
   {
    "duration": 0,
    "start_time": "2022-11-10T19:46:02.700Z"
   },
   {
    "duration": 183,
    "start_time": "2022-11-10T19:46:21.613Z"
   },
   {
    "duration": 194,
    "start_time": "2022-11-10T19:46:50.382Z"
   },
   {
    "duration": 205,
    "start_time": "2022-11-10T19:50:42.692Z"
   },
   {
    "duration": 208,
    "start_time": "2022-11-10T19:50:46.492Z"
   },
   {
    "duration": 200,
    "start_time": "2022-11-10T19:50:48.655Z"
   },
   {
    "duration": 180,
    "start_time": "2022-11-10T19:50:50.546Z"
   },
   {
    "duration": 185,
    "start_time": "2022-11-10T19:50:54.489Z"
   },
   {
    "duration": 188,
    "start_time": "2022-11-10T19:51:10.681Z"
   },
   {
    "duration": 172,
    "start_time": "2022-11-10T19:51:12.955Z"
   },
   {
    "duration": 193,
    "start_time": "2022-11-10T19:51:16.013Z"
   },
   {
    "duration": 274,
    "start_time": "2022-11-10T19:51:18.326Z"
   },
   {
    "duration": 26,
    "start_time": "2022-11-10T19:51:34.776Z"
   },
   {
    "duration": 360,
    "start_time": "2022-11-10T19:51:40.902Z"
   },
   {
    "duration": 189,
    "start_time": "2022-11-10T19:56:52.320Z"
   },
   {
    "duration": 78,
    "start_time": "2022-11-10T19:58:02.849Z"
   },
   {
    "duration": 24,
    "start_time": "2022-11-10T20:01:51.203Z"
   },
   {
    "duration": 506,
    "start_time": "2022-11-10T20:03:21.702Z"
   },
   {
    "duration": 35,
    "start_time": "2022-11-10T20:03:22.210Z"
   },
   {
    "duration": 20,
    "start_time": "2022-11-10T20:03:22.246Z"
   },
   {
    "duration": 2618,
    "start_time": "2022-11-10T20:03:22.268Z"
   },
   {
    "duration": 12,
    "start_time": "2022-11-10T20:03:24.888Z"
   },
   {
    "duration": 15,
    "start_time": "2022-11-10T20:03:24.902Z"
   },
   {
    "duration": 149,
    "start_time": "2022-11-10T20:03:24.919Z"
   },
   {
    "duration": 8,
    "start_time": "2022-11-10T20:03:25.070Z"
   },
   {
    "duration": 8,
    "start_time": "2022-11-10T20:03:25.080Z"
   },
   {
    "duration": 18,
    "start_time": "2022-11-10T20:03:25.091Z"
   },
   {
    "duration": 80,
    "start_time": "2022-11-10T20:03:25.111Z"
   },
   {
    "duration": 29,
    "start_time": "2022-11-10T20:03:25.193Z"
   },
   {
    "duration": 42,
    "start_time": "2022-11-10T20:03:25.223Z"
   },
   {
    "duration": 352,
    "start_time": "2022-11-10T20:03:25.267Z"
   },
   {
    "duration": 31,
    "start_time": "2022-11-10T20:03:25.620Z"
   },
   {
    "duration": 22,
    "start_time": "2022-11-10T20:03:25.653Z"
   },
   {
    "duration": 306,
    "start_time": "2022-11-10T20:03:25.677Z"
   },
   {
    "duration": 209,
    "start_time": "2022-11-10T20:03:25.985Z"
   },
   {
    "duration": 286,
    "start_time": "2022-11-10T20:03:26.196Z"
   },
   {
    "duration": 302,
    "start_time": "2022-11-10T20:03:26.484Z"
   },
   {
    "duration": 170,
    "start_time": "2022-11-10T20:03:26.797Z"
   },
   {
    "duration": 185,
    "start_time": "2022-11-10T20:03:26.969Z"
   },
   {
    "duration": 220,
    "start_time": "2022-11-10T20:03:27.156Z"
   },
   {
    "duration": 141,
    "start_time": "2022-11-10T20:03:27.377Z"
   },
   {
    "duration": 211,
    "start_time": "2022-11-10T20:03:27.520Z"
   },
   {
    "duration": 219,
    "start_time": "2022-11-10T20:03:27.740Z"
   },
   {
    "duration": 227,
    "start_time": "2022-11-10T20:03:27.961Z"
   },
   {
    "duration": 192,
    "start_time": "2022-11-10T20:03:28.193Z"
   },
   {
    "duration": 284,
    "start_time": "2022-11-10T20:03:28.387Z"
   },
   {
    "duration": 190,
    "start_time": "2022-11-10T20:03:28.673Z"
   },
   {
    "duration": 233,
    "start_time": "2022-11-10T20:03:28.869Z"
   },
   {
    "duration": 260,
    "start_time": "2022-11-10T20:03:29.104Z"
   },
   {
    "duration": 218,
    "start_time": "2022-11-10T20:03:29.367Z"
   },
   {
    "duration": 217,
    "start_time": "2022-11-10T20:03:29.587Z"
   },
   {
    "duration": 216,
    "start_time": "2022-11-10T20:03:29.806Z"
   },
   {
    "duration": 192,
    "start_time": "2022-11-10T20:03:30.024Z"
   },
   {
    "duration": 243,
    "start_time": "2022-11-10T20:03:30.218Z"
   },
   {
    "duration": 200,
    "start_time": "2022-11-10T20:03:30.463Z"
   },
   {
    "duration": 201,
    "start_time": "2022-11-10T20:03:30.665Z"
   },
   {
    "duration": 31,
    "start_time": "2022-11-10T20:03:30.868Z"
   },
   {
    "duration": 392,
    "start_time": "2022-11-10T20:03:30.901Z"
   },
   {
    "duration": 8,
    "start_time": "2022-11-10T20:03:31.295Z"
   },
   {
    "duration": 225,
    "start_time": "2022-11-10T20:09:02.291Z"
   },
   {
    "duration": 312,
    "start_time": "2022-11-10T20:12:57.650Z"
   },
   {
    "duration": 640,
    "start_time": "2022-11-10T20:13:09.285Z"
   },
   {
    "duration": 369,
    "start_time": "2022-11-10T20:13:30.775Z"
   },
   {
    "duration": 178,
    "start_time": "2022-11-10T20:17:28.483Z"
   },
   {
    "duration": 211,
    "start_time": "2022-11-10T20:18:37.332Z"
   },
   {
    "duration": 1520,
    "start_time": "2022-11-10T20:18:44.875Z"
   },
   {
    "duration": 1481,
    "start_time": "2022-11-10T20:18:55.523Z"
   },
   {
    "duration": 80,
    "start_time": "2022-11-10T20:19:02.089Z"
   },
   {
    "duration": 73,
    "start_time": "2022-11-10T20:20:13.251Z"
   },
   {
    "duration": 80,
    "start_time": "2022-11-10T20:20:18.518Z"
   },
   {
    "duration": 164,
    "start_time": "2022-11-10T20:20:24.701Z"
   },
   {
    "duration": 241,
    "start_time": "2022-11-10T20:20:43.620Z"
   },
   {
    "duration": 41,
    "start_time": "2022-11-10T20:26:09.931Z"
   },
   {
    "duration": 210,
    "start_time": "2022-11-10T20:27:56.815Z"
   },
   {
    "duration": 241,
    "start_time": "2022-11-10T20:28:03.350Z"
   },
   {
    "duration": 215,
    "start_time": "2022-11-10T20:28:21.455Z"
   },
   {
    "duration": 250,
    "start_time": "2022-11-10T20:28:28.981Z"
   },
   {
    "duration": 197,
    "start_time": "2022-11-10T20:28:38.071Z"
   },
   {
    "duration": 207,
    "start_time": "2022-11-10T20:28:43.049Z"
   },
   {
    "duration": 320,
    "start_time": "2022-11-10T20:30:58.710Z"
   },
   {
    "duration": 75,
    "start_time": "2022-11-10T20:32:19.650Z"
   },
   {
    "duration": 314,
    "start_time": "2022-11-10T20:36:00.336Z"
   },
   {
    "duration": 7,
    "start_time": "2022-11-10T20:36:04.900Z"
   },
   {
    "duration": 188,
    "start_time": "2022-11-10T20:36:12.114Z"
   },
   {
    "duration": 19,
    "start_time": "2022-11-10T20:42:45.628Z"
   },
   {
    "duration": 271,
    "start_time": "2022-11-10T20:43:34.468Z"
   },
   {
    "duration": 19,
    "start_time": "2022-11-10T20:50:31.996Z"
   },
   {
    "duration": 1489,
    "start_time": "2022-11-10T20:50:39.384Z"
   },
   {
    "duration": 36,
    "start_time": "2022-11-10T20:50:40.876Z"
   },
   {
    "duration": 32,
    "start_time": "2022-11-10T20:50:40.914Z"
   },
   {
    "duration": 2355,
    "start_time": "2022-11-10T20:50:40.955Z"
   },
   {
    "duration": 11,
    "start_time": "2022-11-10T20:50:43.312Z"
   },
   {
    "duration": 30,
    "start_time": "2022-11-10T20:50:43.325Z"
   },
   {
    "duration": 235,
    "start_time": "2022-11-10T20:50:43.358Z"
   },
   {
    "duration": 7,
    "start_time": "2022-11-10T20:50:43.595Z"
   },
   {
    "duration": 11,
    "start_time": "2022-11-10T20:50:43.604Z"
   },
   {
    "duration": 22,
    "start_time": "2022-11-10T20:50:43.638Z"
   },
   {
    "duration": 50,
    "start_time": "2022-11-10T20:50:43.662Z"
   },
   {
    "duration": 50,
    "start_time": "2022-11-10T20:50:43.715Z"
   },
   {
    "duration": 18,
    "start_time": "2022-11-10T20:50:43.767Z"
   },
   {
    "duration": 426,
    "start_time": "2022-11-10T20:50:43.787Z"
   },
   {
    "duration": 13,
    "start_time": "2022-11-10T20:50:44.215Z"
   },
   {
    "duration": 33,
    "start_time": "2022-11-10T20:50:44.237Z"
   },
   {
    "duration": 271,
    "start_time": "2022-11-10T20:50:44.272Z"
   },
   {
    "duration": 224,
    "start_time": "2022-11-10T20:50:44.551Z"
   },
   {
    "duration": 218,
    "start_time": "2022-11-10T20:50:44.777Z"
   },
   {
    "duration": 359,
    "start_time": "2022-11-10T20:50:44.997Z"
   },
   {
    "duration": 211,
    "start_time": "2022-11-10T20:50:45.358Z"
   },
   {
    "duration": 248,
    "start_time": "2022-11-10T20:50:45.572Z"
   },
   {
    "duration": 361,
    "start_time": "2022-11-10T20:50:45.822Z"
   },
   {
    "duration": 144,
    "start_time": "2022-11-10T20:50:46.186Z"
   },
   {
    "duration": 227,
    "start_time": "2022-11-10T20:50:46.332Z"
   },
   {
    "duration": 229,
    "start_time": "2022-11-10T20:50:46.562Z"
   },
   {
    "duration": 297,
    "start_time": "2022-11-10T20:50:46.795Z"
   },
   {
    "duration": 191,
    "start_time": "2022-11-10T20:50:47.097Z"
   },
   {
    "duration": 172,
    "start_time": "2022-11-10T20:50:47.290Z"
   },
   {
    "duration": 254,
    "start_time": "2022-11-10T20:50:47.464Z"
   },
   {
    "duration": 228,
    "start_time": "2022-11-10T20:50:47.720Z"
   },
   {
    "duration": 227,
    "start_time": "2022-11-10T20:50:47.950Z"
   },
   {
    "duration": 229,
    "start_time": "2022-11-10T20:50:48.179Z"
   },
   {
    "duration": 363,
    "start_time": "2022-11-10T20:50:48.411Z"
   },
   {
    "duration": 282,
    "start_time": "2022-11-10T20:50:48.776Z"
   },
   {
    "duration": 263,
    "start_time": "2022-11-10T20:50:49.062Z"
   },
   {
    "duration": 235,
    "start_time": "2022-11-10T20:50:49.328Z"
   },
   {
    "duration": 212,
    "start_time": "2022-11-10T20:50:49.566Z"
   },
   {
    "duration": 230,
    "start_time": "2022-11-10T20:50:49.781Z"
   },
   {
    "duration": 49,
    "start_time": "2022-11-10T20:50:50.013Z"
   },
   {
    "duration": 166,
    "start_time": "2022-11-10T20:50:50.064Z"
   },
   {
    "duration": 0,
    "start_time": "2022-11-10T20:50:50.233Z"
   },
   {
    "duration": 29,
    "start_time": "2022-11-10T20:52:18.158Z"
   },
   {
    "duration": 151,
    "start_time": "2022-11-10T20:54:44.944Z"
   },
   {
    "duration": 30,
    "start_time": "2022-11-10T20:54:54.004Z"
   },
   {
    "duration": 137,
    "start_time": "2022-11-10T20:54:58.303Z"
   },
   {
    "duration": 143,
    "start_time": "2022-11-10T20:56:08.528Z"
   },
   {
    "duration": 147,
    "start_time": "2022-11-10T20:57:08.269Z"
   },
   {
    "duration": 9,
    "start_time": "2022-11-10T21:00:13.613Z"
   },
   {
    "duration": 26,
    "start_time": "2022-11-10T21:00:40.603Z"
   },
   {
    "duration": 31,
    "start_time": "2022-11-10T21:01:10.708Z"
   },
   {
    "duration": 269,
    "start_time": "2022-11-10T21:05:59.291Z"
   },
   {
    "duration": 164,
    "start_time": "2022-11-10T21:06:11.475Z"
   },
   {
    "duration": 144,
    "start_time": "2022-11-10T21:06:26.125Z"
   },
   {
    "duration": 1313,
    "start_time": "2022-11-10T21:06:39.512Z"
   },
   {
    "duration": 2576,
    "start_time": "2022-11-10T21:07:40.981Z"
   },
   {
    "duration": 39,
    "start_time": "2022-11-10T21:08:38.193Z"
   },
   {
    "duration": 86,
    "start_time": "2022-11-10T21:08:55.414Z"
   },
   {
    "duration": 1318,
    "start_time": "2022-11-10T21:09:09.602Z"
   },
   {
    "duration": 1519,
    "start_time": "2022-11-10T21:09:50.585Z"
   },
   {
    "duration": 137,
    "start_time": "2022-11-10T21:10:10.497Z"
   },
   {
    "duration": 185,
    "start_time": "2022-11-10T21:10:34.392Z"
   },
   {
    "duration": 242,
    "start_time": "2022-11-10T21:10:51.034Z"
   },
   {
    "duration": 263,
    "start_time": "2022-11-10T21:11:53.008Z"
   },
   {
    "duration": 333,
    "start_time": "2022-11-10T21:13:05.455Z"
   },
   {
    "duration": 862,
    "start_time": "2022-11-10T21:14:45.482Z"
   },
   {
    "duration": 28,
    "start_time": "2022-11-10T21:14:46.354Z"
   },
   {
    "duration": 20,
    "start_time": "2022-11-10T21:14:46.387Z"
   },
   {
    "duration": 2385,
    "start_time": "2022-11-10T21:14:46.409Z"
   },
   {
    "duration": 20,
    "start_time": "2022-11-10T21:14:48.797Z"
   },
   {
    "duration": 47,
    "start_time": "2022-11-10T21:14:48.820Z"
   },
   {
    "duration": 193,
    "start_time": "2022-11-10T21:14:48.870Z"
   },
   {
    "duration": 14,
    "start_time": "2022-11-10T21:14:49.065Z"
   },
   {
    "duration": 29,
    "start_time": "2022-11-10T21:14:49.083Z"
   },
   {
    "duration": 50,
    "start_time": "2022-11-10T21:14:49.114Z"
   },
   {
    "duration": 101,
    "start_time": "2022-11-10T21:14:49.167Z"
   },
   {
    "duration": 38,
    "start_time": "2022-11-10T21:14:49.275Z"
   },
   {
    "duration": 34,
    "start_time": "2022-11-10T21:14:49.315Z"
   },
   {
    "duration": 418,
    "start_time": "2022-11-10T21:14:49.356Z"
   },
   {
    "duration": 10,
    "start_time": "2022-11-10T21:14:49.776Z"
   },
   {
    "duration": 22,
    "start_time": "2022-11-10T21:14:49.788Z"
   },
   {
    "duration": 292,
    "start_time": "2022-11-10T21:14:49.811Z"
   },
   {
    "duration": 214,
    "start_time": "2022-11-10T21:14:50.105Z"
   },
   {
    "duration": 308,
    "start_time": "2022-11-10T21:14:50.321Z"
   },
   {
    "duration": 320,
    "start_time": "2022-11-10T21:14:50.632Z"
   },
   {
    "duration": 223,
    "start_time": "2022-11-10T21:14:50.956Z"
   },
   {
    "duration": 193,
    "start_time": "2022-11-10T21:14:51.181Z"
   },
   {
    "duration": 267,
    "start_time": "2022-11-10T21:14:51.376Z"
   },
   {
    "duration": 122,
    "start_time": "2022-11-10T21:14:51.646Z"
   },
   {
    "duration": 214,
    "start_time": "2022-11-10T21:14:51.770Z"
   },
   {
    "duration": 241,
    "start_time": "2022-11-10T21:14:51.986Z"
   },
   {
    "duration": 312,
    "start_time": "2022-11-10T21:14:52.239Z"
   },
   {
    "duration": 185,
    "start_time": "2022-11-10T21:14:52.552Z"
   },
   {
    "duration": 286,
    "start_time": "2022-11-10T21:14:52.741Z"
   },
   {
    "duration": 181,
    "start_time": "2022-11-10T21:14:53.040Z"
   },
   {
    "duration": 211,
    "start_time": "2022-11-10T21:14:53.223Z"
   },
   {
    "duration": 232,
    "start_time": "2022-11-10T21:14:53.436Z"
   },
   {
    "duration": 233,
    "start_time": "2022-11-10T21:14:53.671Z"
   },
   {
    "duration": 255,
    "start_time": "2022-11-10T21:14:53.906Z"
   },
   {
    "duration": 214,
    "start_time": "2022-11-10T21:14:54.164Z"
   },
   {
    "duration": 197,
    "start_time": "2022-11-10T21:14:54.381Z"
   },
   {
    "duration": 193,
    "start_time": "2022-11-10T21:14:54.581Z"
   },
   {
    "duration": 182,
    "start_time": "2022-11-10T21:14:54.775Z"
   },
   {
    "duration": 191,
    "start_time": "2022-11-10T21:14:54.959Z"
   },
   {
    "duration": 32,
    "start_time": "2022-11-10T21:14:55.151Z"
   },
   {
    "duration": 173,
    "start_time": "2022-11-10T21:14:55.185Z"
   },
   {
    "duration": 216,
    "start_time": "2022-11-10T21:14:55.362Z"
   },
   {
    "duration": 9,
    "start_time": "2022-11-10T21:14:55.580Z"
   },
   {
    "duration": 12,
    "start_time": "2022-11-10T21:16:29.076Z"
   },
   {
    "duration": 24,
    "start_time": "2022-11-10T21:18:07.274Z"
   },
   {
    "duration": 338,
    "start_time": "2022-11-10T21:21:16.621Z"
   },
   {
    "duration": 137,
    "start_time": "2022-11-10T21:22:48.626Z"
   },
   {
    "duration": 205,
    "start_time": "2022-11-10T21:22:59.892Z"
   },
   {
    "duration": 202,
    "start_time": "2022-11-10T21:23:07.954Z"
   },
   {
    "duration": 208,
    "start_time": "2022-11-10T21:23:21.246Z"
   },
   {
    "duration": 206,
    "start_time": "2022-11-10T21:24:06.180Z"
   },
   {
    "duration": 166,
    "start_time": "2022-11-10T21:24:40.548Z"
   },
   {
    "duration": 198,
    "start_time": "2022-11-10T21:24:43.827Z"
   },
   {
    "duration": 174,
    "start_time": "2022-11-10T21:25:00.419Z"
   },
   {
    "duration": 212,
    "start_time": "2022-11-10T21:26:56.145Z"
   },
   {
    "duration": 34,
    "start_time": "2022-11-10T21:27:37.323Z"
   },
   {
    "duration": 28,
    "start_time": "2022-11-10T21:28:07.544Z"
   },
   {
    "duration": 641,
    "start_time": "2022-11-10T21:28:51.689Z"
   },
   {
    "duration": 159,
    "start_time": "2022-11-10T21:29:07.339Z"
   },
   {
    "duration": 503,
    "start_time": "2022-11-10T21:29:36.066Z"
   },
   {
    "duration": 500,
    "start_time": "2022-11-10T21:29:39.903Z"
   },
   {
    "duration": 23,
    "start_time": "2022-11-10T21:29:52.125Z"
   },
   {
    "duration": 255,
    "start_time": "2022-11-10T21:29:56.071Z"
   },
   {
    "duration": 185,
    "start_time": "2022-11-10T21:30:20.197Z"
   },
   {
    "duration": 173,
    "start_time": "2022-11-10T21:30:49.832Z"
   },
   {
    "duration": 136,
    "start_time": "2022-11-10T21:32:07.303Z"
   },
   {
    "duration": 947,
    "start_time": "2022-11-11T08:49:40.121Z"
   },
   {
    "duration": 26,
    "start_time": "2022-11-11T08:49:41.071Z"
   },
   {
    "duration": 17,
    "start_time": "2022-11-11T08:49:41.098Z"
   },
   {
    "duration": 2060,
    "start_time": "2022-11-11T08:49:41.118Z"
   },
   {
    "duration": 9,
    "start_time": "2022-11-11T08:49:43.179Z"
   },
   {
    "duration": 12,
    "start_time": "2022-11-11T08:49:43.190Z"
   },
   {
    "duration": 147,
    "start_time": "2022-11-11T08:49:43.204Z"
   },
   {
    "duration": 7,
    "start_time": "2022-11-11T08:49:43.353Z"
   },
   {
    "duration": 16,
    "start_time": "2022-11-11T08:49:43.362Z"
   },
   {
    "duration": 21,
    "start_time": "2022-11-11T08:49:43.381Z"
   },
   {
    "duration": 42,
    "start_time": "2022-11-11T08:49:43.404Z"
   },
   {
    "duration": 44,
    "start_time": "2022-11-11T08:49:43.447Z"
   },
   {
    "duration": 15,
    "start_time": "2022-11-11T08:49:43.492Z"
   },
   {
    "duration": 339,
    "start_time": "2022-11-11T08:49:43.508Z"
   },
   {
    "duration": 8,
    "start_time": "2022-11-11T08:49:43.848Z"
   },
   {
    "duration": 35,
    "start_time": "2022-11-11T08:49:43.857Z"
   },
   {
    "duration": 248,
    "start_time": "2022-11-11T08:49:43.894Z"
   },
   {
    "duration": 193,
    "start_time": "2022-11-11T08:49:44.144Z"
   },
   {
    "duration": 268,
    "start_time": "2022-11-11T08:49:44.339Z"
   },
   {
    "duration": 272,
    "start_time": "2022-11-11T08:49:44.610Z"
   },
   {
    "duration": 167,
    "start_time": "2022-11-11T08:49:44.885Z"
   },
   {
    "duration": 169,
    "start_time": "2022-11-11T08:49:45.055Z"
   },
   {
    "duration": 205,
    "start_time": "2022-11-11T08:49:45.226Z"
   },
   {
    "duration": 126,
    "start_time": "2022-11-11T08:49:45.433Z"
   },
   {
    "duration": 197,
    "start_time": "2022-11-11T08:49:45.561Z"
   },
   {
    "duration": 186,
    "start_time": "2022-11-11T08:49:45.760Z"
   },
   {
    "duration": 221,
    "start_time": "2022-11-11T08:49:45.949Z"
   },
   {
    "duration": 177,
    "start_time": "2022-11-11T08:49:46.174Z"
   },
   {
    "duration": 256,
    "start_time": "2022-11-11T08:49:46.353Z"
   },
   {
    "duration": 157,
    "start_time": "2022-11-11T08:49:46.611Z"
   },
   {
    "duration": 179,
    "start_time": "2022-11-11T08:49:46.769Z"
   },
   {
    "duration": 199,
    "start_time": "2022-11-11T08:49:46.950Z"
   },
   {
    "duration": 198,
    "start_time": "2022-11-11T08:49:47.151Z"
   },
   {
    "duration": 194,
    "start_time": "2022-11-11T08:49:47.350Z"
   },
   {
    "duration": 177,
    "start_time": "2022-11-11T08:49:47.546Z"
   },
   {
    "duration": 169,
    "start_time": "2022-11-11T08:49:47.724Z"
   },
   {
    "duration": 174,
    "start_time": "2022-11-11T08:49:47.895Z"
   },
   {
    "duration": 153,
    "start_time": "2022-11-11T08:49:48.071Z"
   },
   {
    "duration": 178,
    "start_time": "2022-11-11T08:49:48.226Z"
   },
   {
    "duration": 27,
    "start_time": "2022-11-11T08:49:48.406Z"
   },
   {
    "duration": 72,
    "start_time": "2022-11-11T08:49:48.435Z"
   },
   {
    "duration": 0,
    "start_time": "2022-11-11T08:49:48.509Z"
   },
   {
    "duration": 0,
    "start_time": "2022-11-11T08:49:48.510Z"
   },
   {
    "duration": 816,
    "start_time": "2022-11-11T08:54:16.653Z"
   },
   {
    "duration": 25,
    "start_time": "2022-11-11T08:54:17.471Z"
   },
   {
    "duration": 16,
    "start_time": "2022-11-11T08:54:17.498Z"
   },
   {
    "duration": 2126,
    "start_time": "2022-11-11T08:54:17.516Z"
   },
   {
    "duration": 11,
    "start_time": "2022-11-11T08:54:19.643Z"
   },
   {
    "duration": 13,
    "start_time": "2022-11-11T08:54:19.655Z"
   },
   {
    "duration": 137,
    "start_time": "2022-11-11T08:54:19.670Z"
   },
   {
    "duration": 9,
    "start_time": "2022-11-11T08:54:19.809Z"
   },
   {
    "duration": 7,
    "start_time": "2022-11-11T08:54:19.820Z"
   },
   {
    "duration": 17,
    "start_time": "2022-11-11T08:54:19.830Z"
   },
   {
    "duration": 71,
    "start_time": "2022-11-11T08:54:19.848Z"
   },
   {
    "duration": 26,
    "start_time": "2022-11-11T08:54:19.921Z"
   },
   {
    "duration": 38,
    "start_time": "2022-11-11T08:54:19.949Z"
   },
   {
    "duration": 320,
    "start_time": "2022-11-11T08:54:19.989Z"
   },
   {
    "duration": 9,
    "start_time": "2022-11-11T08:54:20.310Z"
   },
   {
    "duration": 22,
    "start_time": "2022-11-11T08:54:20.320Z"
   },
   {
    "duration": 243,
    "start_time": "2022-11-11T08:54:20.344Z"
   },
   {
    "duration": 192,
    "start_time": "2022-11-11T08:54:20.589Z"
   },
   {
    "duration": 261,
    "start_time": "2022-11-11T08:54:20.783Z"
   },
   {
    "duration": 270,
    "start_time": "2022-11-11T08:54:21.046Z"
   },
   {
    "duration": 163,
    "start_time": "2022-11-11T08:54:21.317Z"
   },
   {
    "duration": 165,
    "start_time": "2022-11-11T08:54:21.481Z"
   },
   {
    "duration": 198,
    "start_time": "2022-11-11T08:54:21.647Z"
   },
   {
    "duration": 116,
    "start_time": "2022-11-11T08:54:21.846Z"
   },
   {
    "duration": 185,
    "start_time": "2022-11-11T08:54:21.964Z"
   },
   {
    "duration": 185,
    "start_time": "2022-11-11T08:54:22.151Z"
   },
   {
    "duration": 205,
    "start_time": "2022-11-11T08:54:22.337Z"
   },
   {
    "duration": 168,
    "start_time": "2022-11-11T08:54:22.546Z"
   },
   {
    "duration": 271,
    "start_time": "2022-11-11T08:54:22.715Z"
   },
   {
    "duration": 165,
    "start_time": "2022-11-11T08:54:22.989Z"
   },
   {
    "duration": 187,
    "start_time": "2022-11-11T08:54:23.156Z"
   },
   {
    "duration": 204,
    "start_time": "2022-11-11T08:54:23.346Z"
   },
   {
    "duration": 210,
    "start_time": "2022-11-11T08:54:23.552Z"
   },
   {
    "duration": 207,
    "start_time": "2022-11-11T08:54:23.764Z"
   },
   {
    "duration": 186,
    "start_time": "2022-11-11T08:54:23.978Z"
   },
   {
    "duration": 177,
    "start_time": "2022-11-11T08:54:24.165Z"
   },
   {
    "duration": 176,
    "start_time": "2022-11-11T08:54:24.344Z"
   },
   {
    "duration": 164,
    "start_time": "2022-11-11T08:54:24.522Z"
   },
   {
    "duration": 180,
    "start_time": "2022-11-11T08:54:24.689Z"
   },
   {
    "duration": 27,
    "start_time": "2022-11-11T08:54:24.871Z"
   },
   {
    "duration": 73,
    "start_time": "2022-11-11T08:54:24.900Z"
   },
   {
    "duration": 0,
    "start_time": "2022-11-11T08:54:24.975Z"
   },
   {
    "duration": 0,
    "start_time": "2022-11-11T08:54:24.976Z"
   },
   {
    "duration": 766,
    "start_time": "2022-11-11T08:54:49.376Z"
   },
   {
    "duration": 26,
    "start_time": "2022-11-11T08:54:50.144Z"
   },
   {
    "duration": 19,
    "start_time": "2022-11-11T08:54:50.172Z"
   },
   {
    "duration": 2013,
    "start_time": "2022-11-11T08:54:50.193Z"
   },
   {
    "duration": 10,
    "start_time": "2022-11-11T08:54:52.207Z"
   },
   {
    "duration": 12,
    "start_time": "2022-11-11T08:54:52.219Z"
   },
   {
    "duration": 128,
    "start_time": "2022-11-11T08:54:52.233Z"
   },
   {
    "duration": 7,
    "start_time": "2022-11-11T08:54:52.363Z"
   },
   {
    "duration": 5,
    "start_time": "2022-11-11T08:54:52.378Z"
   },
   {
    "duration": 21,
    "start_time": "2022-11-11T08:54:52.386Z"
   },
   {
    "duration": 44,
    "start_time": "2022-11-11T08:54:52.409Z"
   },
   {
    "duration": 44,
    "start_time": "2022-11-11T08:54:52.455Z"
   },
   {
    "duration": 15,
    "start_time": "2022-11-11T08:54:52.501Z"
   },
   {
    "duration": 361,
    "start_time": "2022-11-11T08:54:52.518Z"
   },
   {
    "duration": 11,
    "start_time": "2022-11-11T08:54:52.881Z"
   },
   {
    "duration": 24,
    "start_time": "2022-11-11T08:54:52.894Z"
   },
   {
    "duration": 249,
    "start_time": "2022-11-11T08:54:52.920Z"
   },
   {
    "duration": 191,
    "start_time": "2022-11-11T08:54:53.171Z"
   },
   {
    "duration": 252,
    "start_time": "2022-11-11T08:54:53.364Z"
   },
   {
    "duration": 263,
    "start_time": "2022-11-11T08:54:53.617Z"
   },
   {
    "duration": 177,
    "start_time": "2022-11-11T08:54:53.881Z"
   },
   {
    "duration": 161,
    "start_time": "2022-11-11T08:54:54.060Z"
   },
   {
    "duration": 194,
    "start_time": "2022-11-11T08:54:54.222Z"
   },
   {
    "duration": 124,
    "start_time": "2022-11-11T08:54:54.417Z"
   },
   {
    "duration": 191,
    "start_time": "2022-11-11T08:54:54.543Z"
   },
   {
    "duration": 185,
    "start_time": "2022-11-11T08:54:54.736Z"
   },
   {
    "duration": 212,
    "start_time": "2022-11-11T08:54:54.923Z"
   },
   {
    "duration": 167,
    "start_time": "2022-11-11T08:54:55.138Z"
   },
   {
    "duration": 259,
    "start_time": "2022-11-11T08:54:55.306Z"
   },
   {
    "duration": 162,
    "start_time": "2022-11-11T08:54:55.567Z"
   },
   {
    "duration": 184,
    "start_time": "2022-11-11T08:54:55.731Z"
   },
   {
    "duration": 201,
    "start_time": "2022-11-11T08:54:55.917Z"
   },
   {
    "duration": 197,
    "start_time": "2022-11-11T08:54:56.119Z"
   },
   {
    "duration": 194,
    "start_time": "2022-11-11T08:54:56.318Z"
   },
   {
    "duration": 185,
    "start_time": "2022-11-11T08:54:56.514Z"
   },
   {
    "duration": 171,
    "start_time": "2022-11-11T08:54:56.700Z"
   },
   {
    "duration": 175,
    "start_time": "2022-11-11T08:54:56.877Z"
   },
   {
    "duration": 163,
    "start_time": "2022-11-11T08:54:57.054Z"
   },
   {
    "duration": 173,
    "start_time": "2022-11-11T08:54:57.219Z"
   },
   {
    "duration": 25,
    "start_time": "2022-11-11T08:54:57.394Z"
   },
   {
    "duration": 73,
    "start_time": "2022-11-11T08:54:57.421Z"
   },
   {
    "duration": 0,
    "start_time": "2022-11-11T08:54:57.496Z"
   },
   {
    "duration": 0,
    "start_time": "2022-11-11T08:54:57.497Z"
   },
   {
    "duration": 125,
    "start_time": "2022-11-11T09:06:39.923Z"
   },
   {
    "duration": 124,
    "start_time": "2022-11-11T09:06:46.096Z"
   },
   {
    "duration": 256,
    "start_time": "2022-11-11T10:01:16.249Z"
   },
   {
    "duration": 8,
    "start_time": "2022-11-11T10:01:21.534Z"
   },
   {
    "duration": 245,
    "start_time": "2022-11-11T10:03:04.040Z"
   },
   {
    "duration": 179,
    "start_time": "2022-11-11T10:03:22.399Z"
   },
   {
    "duration": 213,
    "start_time": "2022-11-11T10:06:51.849Z"
   },
   {
    "duration": 201,
    "start_time": "2022-11-11T10:06:56.922Z"
   },
   {
    "duration": 190,
    "start_time": "2022-11-11T10:07:36.830Z"
   },
   {
    "duration": 169,
    "start_time": "2022-11-11T10:08:32.085Z"
   },
   {
    "duration": 124,
    "start_time": "2022-11-11T10:09:34.432Z"
   },
   {
    "duration": 179,
    "start_time": "2022-11-11T10:13:12.647Z"
   },
   {
    "duration": 178,
    "start_time": "2022-11-11T10:13:24.515Z"
   },
   {
    "duration": 27,
    "start_time": "2022-11-11T10:15:48.175Z"
   },
   {
    "duration": 28,
    "start_time": "2022-11-11T10:16:06.070Z"
   },
   {
    "duration": 3818,
    "start_time": "2022-11-11T10:16:24.694Z"
   },
   {
    "duration": 35,
    "start_time": "2022-11-11T10:16:39.649Z"
   },
   {
    "duration": 176,
    "start_time": "2022-11-11T10:18:03.238Z"
   },
   {
    "duration": 155,
    "start_time": "2022-11-11T10:48:59.456Z"
   },
   {
    "duration": 350,
    "start_time": "2022-11-11T10:49:17.658Z"
   },
   {
    "duration": 247,
    "start_time": "2022-11-11T10:49:30.941Z"
   },
   {
    "duration": 171,
    "start_time": "2022-11-11T10:50:13.056Z"
   },
   {
    "duration": 178,
    "start_time": "2022-11-11T10:54:58.976Z"
   },
   {
    "duration": 1514,
    "start_time": "2022-11-11T10:57:09.607Z"
   },
   {
    "duration": 212,
    "start_time": "2022-11-11T10:59:01.097Z"
   },
   {
    "duration": 227,
    "start_time": "2022-11-11T11:00:39.212Z"
   },
   {
    "duration": 223,
    "start_time": "2022-11-11T11:00:47.945Z"
   },
   {
    "duration": 45,
    "start_time": "2022-11-11T17:28:17.661Z"
   },
   {
    "duration": 905,
    "start_time": "2022-11-11T17:28:25.504Z"
   },
   {
    "duration": 23,
    "start_time": "2022-11-11T17:28:26.411Z"
   },
   {
    "duration": 13,
    "start_time": "2022-11-11T17:28:26.436Z"
   },
   {
    "duration": 1810,
    "start_time": "2022-11-11T17:28:26.451Z"
   },
   {
    "duration": 9,
    "start_time": "2022-11-11T17:28:28.262Z"
   },
   {
    "duration": 12,
    "start_time": "2022-11-11T17:28:28.273Z"
   },
   {
    "duration": 122,
    "start_time": "2022-11-11T17:28:28.286Z"
   },
   {
    "duration": 8,
    "start_time": "2022-11-11T17:28:28.409Z"
   },
   {
    "duration": 351,
    "start_time": "2022-11-11T17:28:28.418Z"
   },
   {
    "duration": 0,
    "start_time": "2022-11-11T17:28:28.771Z"
   },
   {
    "duration": 0,
    "start_time": "2022-11-11T17:28:28.773Z"
   },
   {
    "duration": 0,
    "start_time": "2022-11-11T17:28:28.774Z"
   },
   {
    "duration": 0,
    "start_time": "2022-11-11T17:28:28.775Z"
   },
   {
    "duration": 0,
    "start_time": "2022-11-11T17:28:28.776Z"
   },
   {
    "duration": 0,
    "start_time": "2022-11-11T17:28:28.777Z"
   },
   {
    "duration": 0,
    "start_time": "2022-11-11T17:28:28.778Z"
   },
   {
    "duration": 0,
    "start_time": "2022-11-11T17:28:28.779Z"
   },
   {
    "duration": 0,
    "start_time": "2022-11-11T17:28:28.780Z"
   },
   {
    "duration": 0,
    "start_time": "2022-11-11T17:28:28.781Z"
   },
   {
    "duration": 0,
    "start_time": "2022-11-11T17:28:28.782Z"
   },
   {
    "duration": 0,
    "start_time": "2022-11-11T17:28:28.783Z"
   },
   {
    "duration": 0,
    "start_time": "2022-11-11T17:28:28.784Z"
   },
   {
    "duration": 0,
    "start_time": "2022-11-11T17:28:28.785Z"
   },
   {
    "duration": 0,
    "start_time": "2022-11-11T17:28:28.786Z"
   },
   {
    "duration": 0,
    "start_time": "2022-11-11T17:28:28.787Z"
   },
   {
    "duration": 0,
    "start_time": "2022-11-11T17:28:28.788Z"
   },
   {
    "duration": 0,
    "start_time": "2022-11-11T17:28:28.789Z"
   },
   {
    "duration": 0,
    "start_time": "2022-11-11T17:28:28.790Z"
   },
   {
    "duration": 0,
    "start_time": "2022-11-11T17:28:28.791Z"
   },
   {
    "duration": 0,
    "start_time": "2022-11-11T17:28:28.792Z"
   },
   {
    "duration": 0,
    "start_time": "2022-11-11T17:28:28.793Z"
   },
   {
    "duration": 0,
    "start_time": "2022-11-11T17:28:28.794Z"
   },
   {
    "duration": 0,
    "start_time": "2022-11-11T17:28:28.795Z"
   },
   {
    "duration": 0,
    "start_time": "2022-11-11T17:28:28.796Z"
   },
   {
    "duration": 0,
    "start_time": "2022-11-11T17:28:28.797Z"
   },
   {
    "duration": 0,
    "start_time": "2022-11-11T17:28:28.798Z"
   },
   {
    "duration": 0,
    "start_time": "2022-11-11T17:28:28.799Z"
   },
   {
    "duration": 0,
    "start_time": "2022-11-11T17:28:28.800Z"
   },
   {
    "duration": 0,
    "start_time": "2022-11-11T17:28:28.801Z"
   },
   {
    "duration": 0,
    "start_time": "2022-11-11T17:28:28.802Z"
   },
   {
    "duration": 0,
    "start_time": "2022-11-11T17:28:28.802Z"
   },
   {
    "duration": 0,
    "start_time": "2022-11-11T17:28:28.803Z"
   },
   {
    "duration": 0,
    "start_time": "2022-11-11T17:28:28.805Z"
   },
   {
    "duration": 0,
    "start_time": "2022-11-11T17:28:28.805Z"
   },
   {
    "duration": 12,
    "start_time": "2022-11-11T17:29:00.653Z"
   },
   {
    "duration": 16,
    "start_time": "2022-11-11T17:32:24.596Z"
   },
   {
    "duration": 14,
    "start_time": "2022-11-11T17:32:41.550Z"
   },
   {
    "duration": 12,
    "start_time": "2022-11-11T17:32:50.996Z"
   },
   {
    "duration": 395,
    "start_time": "2022-11-11T17:33:47.794Z"
   },
   {
    "duration": 362,
    "start_time": "2022-11-11T17:34:07.525Z"
   },
   {
    "duration": 676,
    "start_time": "2022-11-11T17:34:19.530Z"
   },
   {
    "duration": 32,
    "start_time": "2022-11-11T17:34:20.208Z"
   },
   {
    "duration": 17,
    "start_time": "2022-11-11T17:34:20.242Z"
   },
   {
    "duration": 1870,
    "start_time": "2022-11-11T17:34:20.261Z"
   },
   {
    "duration": 9,
    "start_time": "2022-11-11T17:34:22.133Z"
   },
   {
    "duration": 10,
    "start_time": "2022-11-11T17:34:22.143Z"
   },
   {
    "duration": 116,
    "start_time": "2022-11-11T17:34:22.155Z"
   },
   {
    "duration": 6,
    "start_time": "2022-11-11T17:34:22.273Z"
   },
   {
    "duration": 425,
    "start_time": "2022-11-11T17:34:22.281Z"
   },
   {
    "duration": 0,
    "start_time": "2022-11-11T17:34:22.709Z"
   },
   {
    "duration": 0,
    "start_time": "2022-11-11T17:34:22.710Z"
   },
   {
    "duration": 0,
    "start_time": "2022-11-11T17:34:22.711Z"
   },
   {
    "duration": 0,
    "start_time": "2022-11-11T17:34:22.712Z"
   },
   {
    "duration": 0,
    "start_time": "2022-11-11T17:34:22.713Z"
   },
   {
    "duration": 0,
    "start_time": "2022-11-11T17:34:22.714Z"
   },
   {
    "duration": 0,
    "start_time": "2022-11-11T17:34:22.715Z"
   },
   {
    "duration": 0,
    "start_time": "2022-11-11T17:34:22.716Z"
   },
   {
    "duration": 0,
    "start_time": "2022-11-11T17:34:22.717Z"
   },
   {
    "duration": 0,
    "start_time": "2022-11-11T17:34:22.718Z"
   },
   {
    "duration": 0,
    "start_time": "2022-11-11T17:34:22.719Z"
   },
   {
    "duration": 0,
    "start_time": "2022-11-11T17:34:22.720Z"
   },
   {
    "duration": 0,
    "start_time": "2022-11-11T17:34:22.721Z"
   },
   {
    "duration": 0,
    "start_time": "2022-11-11T17:34:22.722Z"
   },
   {
    "duration": 0,
    "start_time": "2022-11-11T17:34:22.723Z"
   },
   {
    "duration": 0,
    "start_time": "2022-11-11T17:34:22.724Z"
   },
   {
    "duration": 0,
    "start_time": "2022-11-11T17:34:22.725Z"
   },
   {
    "duration": 0,
    "start_time": "2022-11-11T17:34:22.726Z"
   },
   {
    "duration": 0,
    "start_time": "2022-11-11T17:34:22.728Z"
   },
   {
    "duration": 0,
    "start_time": "2022-11-11T17:34:22.729Z"
   },
   {
    "duration": 0,
    "start_time": "2022-11-11T17:34:22.730Z"
   },
   {
    "duration": 0,
    "start_time": "2022-11-11T17:34:22.731Z"
   },
   {
    "duration": 0,
    "start_time": "2022-11-11T17:34:22.732Z"
   },
   {
    "duration": 0,
    "start_time": "2022-11-11T17:34:22.733Z"
   },
   {
    "duration": 0,
    "start_time": "2022-11-11T17:34:22.734Z"
   },
   {
    "duration": 0,
    "start_time": "2022-11-11T17:34:22.734Z"
   },
   {
    "duration": 0,
    "start_time": "2022-11-11T17:34:22.735Z"
   },
   {
    "duration": 0,
    "start_time": "2022-11-11T17:34:22.736Z"
   },
   {
    "duration": 0,
    "start_time": "2022-11-11T17:34:22.737Z"
   },
   {
    "duration": 0,
    "start_time": "2022-11-11T17:34:22.738Z"
   },
   {
    "duration": 0,
    "start_time": "2022-11-11T17:34:22.739Z"
   },
   {
    "duration": 0,
    "start_time": "2022-11-11T17:34:22.740Z"
   },
   {
    "duration": 0,
    "start_time": "2022-11-11T17:34:22.741Z"
   },
   {
    "duration": 0,
    "start_time": "2022-11-11T17:34:22.742Z"
   },
   {
    "duration": 0,
    "start_time": "2022-11-11T17:34:22.743Z"
   },
   {
    "duration": 83,
    "start_time": "2022-11-11T17:34:58.300Z"
   },
   {
    "duration": 146,
    "start_time": "2022-11-11T17:35:11.859Z"
   },
   {
    "duration": 13,
    "start_time": "2022-11-11T17:35:58.302Z"
   },
   {
    "duration": 691,
    "start_time": "2022-11-11T17:36:04.510Z"
   },
   {
    "duration": 23,
    "start_time": "2022-11-11T17:36:05.203Z"
   },
   {
    "duration": 15,
    "start_time": "2022-11-11T17:36:05.228Z"
   },
   {
    "duration": 1835,
    "start_time": "2022-11-11T17:36:05.246Z"
   },
   {
    "duration": 10,
    "start_time": "2022-11-11T17:36:07.083Z"
   },
   {
    "duration": 11,
    "start_time": "2022-11-11T17:36:07.094Z"
   },
   {
    "duration": 115,
    "start_time": "2022-11-11T17:36:07.107Z"
   },
   {
    "duration": 8,
    "start_time": "2022-11-11T17:36:07.224Z"
   },
   {
    "duration": 15,
    "start_time": "2022-11-11T17:36:07.234Z"
   },
   {
    "duration": 13,
    "start_time": "2022-11-11T17:36:07.251Z"
   },
   {
    "duration": 58,
    "start_time": "2022-11-11T17:36:07.265Z"
   },
   {
    "duration": 22,
    "start_time": "2022-11-11T17:36:07.324Z"
   },
   {
    "duration": 15,
    "start_time": "2022-11-11T17:36:07.348Z"
   },
   {
    "duration": 272,
    "start_time": "2022-11-11T17:36:07.364Z"
   },
   {
    "duration": 17,
    "start_time": "2022-11-11T17:36:07.637Z"
   },
   {
    "duration": 230,
    "start_time": "2022-11-11T17:36:07.656Z"
   },
   {
    "duration": 165,
    "start_time": "2022-11-11T17:36:07.887Z"
   },
   {
    "duration": 213,
    "start_time": "2022-11-11T17:36:08.054Z"
   },
   {
    "duration": 232,
    "start_time": "2022-11-11T17:36:08.269Z"
   },
   {
    "duration": 163,
    "start_time": "2022-11-11T17:36:08.503Z"
   },
   {
    "duration": 160,
    "start_time": "2022-11-11T17:36:08.667Z"
   },
   {
    "duration": 183,
    "start_time": "2022-11-11T17:36:08.829Z"
   },
   {
    "duration": 100,
    "start_time": "2022-11-11T17:36:09.014Z"
   },
   {
    "duration": 151,
    "start_time": "2022-11-11T17:36:09.116Z"
   },
   {
    "duration": 163,
    "start_time": "2022-11-11T17:36:09.269Z"
   },
   {
    "duration": 180,
    "start_time": "2022-11-11T17:36:09.434Z"
   },
   {
    "duration": 140,
    "start_time": "2022-11-11T17:36:09.616Z"
   },
   {
    "duration": 220,
    "start_time": "2022-11-11T17:36:09.759Z"
   },
   {
    "duration": 125,
    "start_time": "2022-11-11T17:36:09.981Z"
   },
   {
    "duration": 149,
    "start_time": "2022-11-11T17:36:10.113Z"
   },
   {
    "duration": 220,
    "start_time": "2022-11-11T17:36:10.268Z"
   },
   {
    "duration": 175,
    "start_time": "2022-11-11T17:36:10.489Z"
   },
   {
    "duration": 163,
    "start_time": "2022-11-11T17:36:10.666Z"
   },
   {
    "duration": 162,
    "start_time": "2022-11-11T17:36:10.830Z"
   },
   {
    "duration": 156,
    "start_time": "2022-11-11T17:36:10.994Z"
   },
   {
    "duration": 147,
    "start_time": "2022-11-11T17:36:11.151Z"
   },
   {
    "duration": 152,
    "start_time": "2022-11-11T17:36:11.300Z"
   },
   {
    "duration": 165,
    "start_time": "2022-11-11T17:36:11.453Z"
   },
   {
    "duration": 22,
    "start_time": "2022-11-11T17:36:11.619Z"
   },
   {
    "duration": 126,
    "start_time": "2022-11-11T17:36:11.643Z"
   },
   {
    "duration": 176,
    "start_time": "2022-11-11T17:36:11.771Z"
   },
   {
    "duration": 227,
    "start_time": "2022-11-11T17:36:11.948Z"
   },
   {
    "duration": 163,
    "start_time": "2022-11-11T17:36:12.177Z"
   },
   {
    "duration": 6,
    "start_time": "2022-11-11T17:36:12.341Z"
   },
   {
    "duration": 150,
    "start_time": "2022-11-11T17:38:51.667Z"
   },
   {
    "duration": 213,
    "start_time": "2022-11-11T17:41:14.274Z"
   },
   {
    "duration": 155,
    "start_time": "2022-11-11T17:41:27.660Z"
   },
   {
    "duration": 79,
    "start_time": "2022-11-11T17:41:34.446Z"
   },
   {
    "duration": 333,
    "start_time": "2022-11-11T17:41:53.569Z"
   }
  ],
  "kernelspec": {
   "display_name": "Python 3 (ipykernel)",
   "language": "python",
   "name": "python3"
  },
  "language_info": {
   "codemirror_mode": {
    "name": "ipython",
    "version": 3
   },
   "file_extension": ".py",
   "mimetype": "text/x-python",
   "name": "python",
   "nbconvert_exporter": "python",
   "pygments_lexer": "ipython3",
   "version": "3.9.13"
  },
  "toc": {
   "base_numbering": 1,
   "nav_menu": {},
   "number_sections": true,
   "sideBar": true,
   "skip_h1_title": true,
   "title_cell": "Table of Contents",
   "title_sidebar": "Contents",
   "toc_cell": false,
   "toc_position": {},
   "toc_section_display": true,
   "toc_window_display": false
  }
 },
 "nbformat": 4,
 "nbformat_minor": 2
}
